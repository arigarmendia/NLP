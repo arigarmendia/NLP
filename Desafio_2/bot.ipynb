{
  "cells": [
    {
      "cell_type": "markdown",
      "metadata": {
        "id": "Ue5hxxkdAQJg"
      },
      "source": [
        "<img src=\"https://github.com/hernancontigiani/ceia_memorias_especializacion/raw/master/Figures/logoFIUBA.jpg\" width=\"500\" align=\"center\">\n",
        "\n",
        "\n",
        "# Procesamiento de lenguaje natural\n",
        "## Desafío Nro 2: Bot en español con librería Spacy y Similitud coseno\n",
        "## Alumna: Ariadna Garmendia\n"
      ]
    },
    {
      "cell_type": "code",
      "source": [
        "# Instalo Stanza porque Colab no la trae por defecto\n",
        "!pip install -U spacy-stanza==1.0.0 --quiet"
      ],
      "metadata": {
        "id": "c_KaJQ0VvDWt"
      },
      "execution_count": 71,
      "outputs": []
    },
    {
      "cell_type": "code",
      "execution_count": 74,
      "metadata": {
        "id": "kCED1hh-Ioyf"
      },
      "outputs": [],
      "source": [
        "import json\n",
        "import string\n",
        "import random\n",
        "import re # Regular Expressions (regex)\n",
        "import urllib.request\n",
        "\n",
        "import numpy as np\n",
        "\n",
        "# Para leer y parsear texto HTML\n",
        "import bs4 as bs\n",
        "\n",
        "# Para evitar respuesta \"forbidden\"\n",
        "import ssl\n",
        "\n",
        "import warnings\n",
        "from pprint import pprint\n",
        "import requests\n",
        "\n"
      ]
    },
    {
      "cell_type": "code",
      "source": [
        "warnings.filterwarnings(\"ignore\")"
      ],
      "metadata": {
        "id": "lclwlfPp-uTf"
      },
      "execution_count": 73,
      "outputs": []
    },
    {
      "cell_type": "markdown",
      "metadata": {
        "id": "DMOa4JPSCJ29"
      },
      "source": [
        "### Paso 1: Importo los Datos\n",
        "Voy a utilizar una página con frases de los Simpsons"
      ]
    },
    {
      "cell_type": "code",
      "execution_count": 75,
      "metadata": {
        "id": "RIO7b8GjAC17"
      },
      "outputs": [],
      "source": [
        "#context = ssl._create_unverified_context()\n",
        "\n",
        "user_agent = 'Mozilla/5.0 (Windows; U; Windows NT 5.1; en-US; rv:1.9.0.7) Gecko/2009021910 Firefox/3.0.7'\n",
        "\n",
        "url = \"https://simpsons.fandom.com/es/wiki/Homer_Simpson/Frases#Frases_de_Latinoam%C3%A9rica\"\n",
        "\n",
        "headers={'User-Agent':user_agent,} \n",
        "\n",
        "request=urllib.request.Request(url,None,headers) #The assembled request\n",
        "response = urllib.request.urlopen(request)\n",
        "raw_html = response.read() # The raw page\n",
        "\n",
        "# Parsear artículo, 'lxml' es el parser a utilizar\n",
        "article_html = bs.BeautifulSoup(raw_html, 'lxml')\n",
        "\n",
        "# Separar el texto y tenerlos disponible como lista\n",
        "article_paragraphs = article_html.find_all('li')\n",
        "\n",
        "article_text = ''\n",
        "\n",
        "for li in article_paragraphs:\n",
        "   article_text += li.text\n",
        "\n",
        "article_text = article_text.lower()"
      ]
    },
    {
      "cell_type": "markdown",
      "source": [
        "Preview de los datos que importé"
      ],
      "metadata": {
        "id": "L67tkpt-giSu"
      }
    },
    {
      "cell_type": "code",
      "execution_count": 76,
      "metadata": {
        "id": "pUH30a1_rOkS",
        "colab": {
          "base_uri": "https://localhost:8080/",
          "height": 143
        },
        "outputId": "298c37e4-1f78-44eb-d1bc-44733887ba58"
      },
      "outputs": [
        {
          "output_type": "execute_result",
          "data": {
            "text/plain": [
              "'\\n\\n\\n explora\\n\\n \\n\\n\\n\\n\\n portada\\n\\n\\n\\n\\n discusiones\\n\\n\\n\\n\\ntodas las páginas\\n\\n\\n\\n\\ncomunidad\\n\\n\\n\\n\\nmapas interactivos\\n\\n\\n\\n\\n\\n\\n portada\\n\\n\\n\\n discusiones\\n\\n\\n\\ntodas las páginas\\n\\n\\n\\ncomunidad\\n\\n\\n\\nmapas interactivos\\n\\n\\n\\n\\nguías\\n\\n \\n\\n\\n\\n\\nepisodios\\n \\n\\n\\n\\n\\ntemporadas\\n\\n\\n\\n\\nhalloween\\n\\n\\n\\n\\nnavidad\\n\\n\\n\\n\\nhistorias\\n\\n\\n\\n\\nfuturistas\\n\\n\\n\\n\\nitchy and scratchy\\n\\n\\n\\n\\notros especiales\\n\\n\\n\\n\\n\\n\\n\\npersonajes\\n \\n\\n\\n\\n\\nprincipales\\n\\n\\n\\n\\nsecundarios\\n\\n\\n\\n\\nmenores\\n\\n\\n\\n\\nmasculinos\\n\\n\\n\\n\\nfemeninos\\n\\n\\n\\n\\nfallecidos\\n\\n\\n\\n\\nficticios\\n\\n\\n\\n\\nniños\\n\\n\\n\\n\\nanimales\\n\\n\\n\\n\\n\\n\\n\\ncómics principales\\n \\n\\n\\n\\n\\nsimpsons comics\\n\\n\\n\\n\\ntreehouse of horror comics\\n\\n\\n\\n\\nbart simpson comics\\n\\n\\n\\n\\nsimpsons super spectacular\\n\\n\\n\\n\\nsimpsons illustrated\\n\\n\\n\\n\\nradioactive man\\n\\n\\n\\n\\nsimpsons comics one-shot wonders\\n\\n\\n\\n\\n\\n\\n\\notras guías\\n \\n\\n\\n\\n\\nvideojuegos\\n\\n\\n\\n\\nspringfield\\n\\n\\n\\n\\ncreadores\\n\\n\\n\\n\\nvehículos\\n\\n\\n\\n\\nanimales\\n\\n\\n\\n\\nfamilias\\n\\n\\n\\n\\ninvitados\\n\\n\\n\\n\\n\\n\\n\\n\\n\\nepisodios\\n \\n\\n\\n\\n\\ntemporadas\\n\\n\\n\\n\\nhalloween\\n\\n\\n\\n\\nnavidad\\n\\n\\n\\n\\nhistorias\\n\\n\\n\\n\\nfuturistas\\n\\n\\n\\n\\nitchy and scratchy\\n\\n\\n\\n\\notros especiales\\n\\n\\n\\n\\n\\n\\ntemporadas\\n\\n\\n\\nhalloween\\n\\n\\n\\nnavidad\\n\\n\\n\\nhistorias\\n\\n\\n\\nfuturistas\\n\\n\\n\\nitchy and scratchy\\n\\n\\n\\notros especiales\\n\\n\\n\\npersonajes\\n \\n\\n\\n\\n\\nprincipales\\n\\n\\n\\n\\nsecundarios\\n\\n\\n\\n\\nmenores\\n\\n\\n\\n\\nmasculinos\\n\\n\\n\\n\\nfemeninos\\n\\n\\n\\n\\nfallecidos\\n\\n\\n\\n\\nficticios\\n\\n\\n\\n\\nniños\\n\\n\\n\\n\\nanimales\\n\\n\\n\\n\\n\\n\\nprincipales\\n\\n\\n\\nsecundarios\\n\\n\\n\\nmenores\\n\\n\\n\\nmasculinos\\n\\n\\n\\nfemeninos\\n\\n\\n\\nfallecidos\\n\\n\\n\\nficticios\\n\\n\\n\\nniños\\n\\n\\n\\nanimales\\n\\n\\n\\ncómics principales\\n \\n\\n\\n\\n\\nsimpsons comics\\n\\n\\n\\n\\ntreehouse of horror comics\\n\\n\\n\\n\\nbart simpson comics\\n\\n\\n\\n\\nsimpsons super spectacular\\n\\n\\n\\n\\nsimpsons illustrated\\n\\n\\n\\n\\nradioactive man\\n\\n\\n\\n\\nsimpsons comics one-shot wonders\\n\\n\\n\\n\\n\\n\\nsimpsons comics\\n\\n\\n\\ntreehouse of horror comics\\n\\n\\n\\nbart simpson comics\\n\\n\\n\\nsimpsons super spectacular\\n\\n\\n\\nsimpsons illustrated\\n\\n\\n\\nradioactive man\\n\\n\\n\\nsimpsons comics one-shot wonders\\n\\n\\n\\notras guías\\n \\n\\n\\n\\n\\nvideojuegos\\n\\n\\n\\n\\nspringfield\\n\\n\\n\\n\\ncreadores\\n\\n\\n\\n\\nvehículos\\n\\n\\n\\n\\nanimales\\n\\n\\n\\n\\nfamilias\\n\\n\\n\\n\\ninvitados\\n\\n\\n\\n\\n\\n\\nvideojuegos\\n\\n\\n\\nspringfield\\n\\n\\n\\ncreadores\\n\\n\\n\\nvehículos\\n\\n\\n\\nanimales\\n\\n\\n\\nfamilias\\n\\n\\n\\ninvitados\\n\\n\\n\\n\\nayuda\\n\\n \\n\\n\\n\\n\\nayuda para editar\\n \\n\\n\\n\\n\\ncómo crear un artículo correcto\\n\\n\\n\\n\\ncómo subir una imagen\\n\\n\\n\\n\\nconsejos\\n\\n\\n\\n\\n\\n\\n\\npáginas especiales\\n \\n\\n\\n\\n\\ncambios recientes\\n\\n\\n\\n\\nsubir archivos\\n\\n\\n\\n\\npáginas nuevas\\n\\n\\n\\n\\n\\n\\n\\ncontacto\\n \\n\\n\\n\\n\\nadministradores\\n\\n\\n\\n\\nfacebook\\n\\n\\n\\n\\ntwitter\\n\\n\\n\\n\\n\\n\\n\\n\\n\\nayuda para editar\\n \\n\\n\\n\\n\\ncómo crear un artículo correcto\\n\\n\\n\\n\\ncómo subir una imagen\\n\\n\\n\\n\\nconsejos\\n\\n\\n\\n\\n\\n\\ncómo crear un artículo correcto\\n\\n\\n\\ncómo subir una imagen\\n\\n\\n\\nconsejos\\n\\n\\n\\npáginas especiales\\n \\n\\n\\n\\n\\ncambios recientes\\n\\n\\n\\n\\nsubir archivos\\n\\n\\n\\n\\npáginas nuevas\\n\\n\\n\\n\\n\\n\\ncambios recientes\\n\\n\\n\\nsubir archivos\\n\\n\\n\\npáginas nuevas\\n\\n\\n\\ncontacto\\n \\n\\n\\n\\n\\nadministradores\\n\\n\\n\\n\\nfacebook\\n\\n\\n\\n\\ntwitter\\n\\n\\n\\n\\n\\n\\nadministradores\\n\\n\\n\\nfacebook\\n\\n\\n\\ntwitter\\n\\n\\n\\n\\t\\t\\t\\t\\t\\t\\t\\texplorar otros wikis\\t\\t\\t\\t\\t\\t\\t\\n\\n\\n\\t\\t\\t\\t\\t\\t\\t\\tcomunidad central\\t\\t\\t\\t\\t\\t\\t\\n\\n\\n\\n explora\\n\\n \\n\\n\\n\\n\\n portada\\n\\n\\n\\n\\n discusiones\\n\\n\\n\\n\\ntodas las páginas\\n\\n\\n\\n\\ncomunidad\\n\\n\\n\\n\\nmapas interactivos\\n\\n\\n\\n\\n\\n\\n portada\\n\\n\\n\\n discusiones\\n\\n\\n\\ntodas las páginas\\n\\n\\n\\ncomunidad\\n\\n\\n\\nmapas interactivos\\n\\n\\n\\n\\nguías\\n\\n \\n\\n\\n\\n\\nepisodios\\n \\n\\n\\n\\n\\ntemporadas\\n\\n\\n\\n\\nhalloween\\n\\n\\n\\n\\nnavidad\\n\\n\\n\\n\\nhistorias\\n\\n\\n\\n\\nfuturistas\\n\\n\\n\\n\\nitchy and scratchy\\n\\n\\n\\n\\notros especiales\\n\\n\\n\\n\\n\\n\\n\\npersonajes\\n \\n\\n\\n\\n\\nprincipales\\n\\n\\n\\n\\nsecundarios\\n\\n\\n\\n\\nmenores\\n\\n\\n\\n\\nmasculinos\\n\\n\\n\\n\\nfemeninos\\n\\n\\n\\n\\nfallecidos\\n\\n\\n\\n\\nficticios\\n\\n\\n\\n\\nniños\\n\\n\\n\\n\\nanimales\\n\\n\\n\\n\\n\\n\\n\\ncómics principales\\n \\n\\n\\n\\n\\nsimpsons comics\\n\\n\\n\\n\\ntreehouse of horror comics\\n\\n\\n\\n\\nbart simpson comics\\n\\n\\n\\n\\nsimpsons super spectacular\\n\\n\\n\\n\\nsimpsons illustrated\\n\\n\\n\\n\\nradioactive man\\n\\n\\n\\n\\nsimpsons comics one-shot wonders\\n\\n\\n\\n\\n\\n\\n\\notras guías\\n \\n\\n\\n\\n\\nvideojuegos\\n\\n\\n\\n\\nspringfield\\n\\n\\n\\n\\ncreadores\\n\\n\\n\\n\\nvehículos\\n\\n\\n\\n\\nanimales\\n\\n\\n\\n\\nfamilias\\n\\n\\n\\n\\ninvitados\\n\\n\\n\\n\\n\\n\\n\\n\\n\\nepisodios\\n \\n\\n\\n\\n\\ntemporadas\\n\\n\\n\\n\\nhalloween\\n\\n\\n\\n\\nnavidad\\n\\n\\n\\n\\nhistorias\\n\\n\\n\\n\\nfuturistas\\n\\n\\n\\n\\nitchy and scratchy\\n\\n\\n\\n\\notros especiales\\n\\n\\n\\n\\n\\n\\ntemporadas\\n\\n\\n\\nhalloween\\n\\n\\n\\nnavidad\\n\\n\\n\\nhistorias\\n\\n\\n\\nfuturistas\\n\\n\\n\\nitchy and scratchy\\n\\n\\n\\notros especiales\\n\\n\\n\\npersonajes\\n \\n\\n\\n\\n\\nprincipales\\n\\n\\n\\n\\nsecundarios\\n\\n\\n\\n\\nmenores\\n\\n\\n\\n\\nmasculinos\\n\\n\\n\\n\\nfemeninos\\n\\n\\n\\n\\nfallecidos\\n\\n\\n\\n\\nficticios\\n\\n\\n\\n\\nniños\\n\\n\\n\\n\\nanimales\\n\\n\\n\\n\\n\\n\\nprincipales\\n\\n\\n\\nsecundarios\\n\\n\\n\\nmenores\\n\\n\\n\\nmasculinos\\n\\n\\n\\nfemeninos\\n\\n\\n\\nfallecidos\\n\\n\\n\\nficticios\\n\\n\\n\\nniños\\n\\n\\n\\nanimales\\n\\n\\n\\ncómics principales\\n \\n\\n\\n\\n\\nsimpsons comics\\n\\n\\n\\n\\ntreehouse of horror comics\\n\\n\\n\\n\\nbart simpson comics\\n\\n\\n\\n\\nsimpsons super spectacular\\n\\n\\n\\n\\nsimpsons illustrated\\n\\n\\n\\n\\nradioactive man\\n\\n\\n\\n\\nsimpsons comics one-shot wonders\\n\\n\\n\\n\\n\\n\\nsimpsons comics\\n\\n\\n\\ntreehouse of horror comics\\n\\n\\n\\nbart simpson comics\\n\\n\\n\\nsimpsons super spectacular\\n\\n\\n\\nsimpsons illustrated\\n\\n\\n\\nradioactive man\\n\\n\\n\\nsimpsons comics one-shot wonders\\n\\n\\n\\notras guías\\n \\n\\n\\n\\n\\nvideojuegos\\n\\n\\n\\n\\nspringfield\\n\\n\\n\\n\\ncreadores\\n\\n\\n\\n\\nvehículos\\n\\n\\n\\n\\nanimales\\n\\n\\n\\n\\nfamilias\\n\\n\\n\\n\\ninvitados\\n\\n\\n\\n\\n\\n\\nvideojuegos\\n\\n\\n\\nspringfield\\n\\n\\n\\ncreadores\\n\\n\\n\\nvehículos\\n\\n\\n\\nanimales\\n\\n\\n\\nfamilias\\n\\n\\n\\ninvitados\\n\\n\\n\\n\\nayuda\\n\\n \\n\\n\\n\\n\\nayuda para editar\\n \\n\\n\\n\\n\\ncómo crear un artículo correcto\\n\\n\\n\\n\\ncómo subir una imagen\\n\\n\\n\\n\\nconsejos\\n\\n\\n\\n\\n\\n\\n\\npáginas especiales\\n \\n\\n\\n\\n\\ncambios recientes\\n\\n\\n\\n\\nsubir archivos\\n\\n\\n\\n\\npáginas nuevas\\n\\n\\n\\n\\n\\n\\n\\ncontacto\\n \\n\\n\\n\\n\\nadministradores\\n\\n\\n\\n\\nfacebook\\n\\n\\n\\n\\ntwitter\\n\\n\\n\\n\\n\\n\\n\\n\\n\\nayuda para editar\\n \\n\\n\\n\\n\\ncómo crear un artículo correcto\\n\\n\\n\\n\\ncómo subir una imagen\\n\\n\\n\\n\\nconsejos\\n\\n\\n\\n\\n\\n\\ncómo crear un artículo correcto\\n\\n\\n\\ncómo subir una imagen\\n\\n\\n\\nconsejos\\n\\n\\n\\npáginas especiales\\n \\n\\n\\n\\n\\ncambios recientes\\n\\n\\n\\n\\nsubir archivos\\n\\n\\n\\n\\npáginas nuevas\\n\\n\\n\\n\\n\\n\\ncambios recientes\\n\\n\\n\\nsubir archivos\\n\\n\\n\\npáginas nuevas\\n\\n\\n\\ncontacto\\n \\n\\n\\n\\n\\nadministradores\\n\\n\\n\\n\\nfacebook\\n\\n\\n\\n\\ntwitter\\n\\n\\n\\n\\n\\n\\nadministradores\\n\\n\\n\\nfacebook\\n\\n\\n\\ntwitter\\n\\n\\n\\n\\t\\t\\t\\t\\t\\t\\t\\t\\t\\t\\thistorial\\t\\t\\t\\t\\t\\t\\t\\t\\t\\t\\n\\n\\n\\t\\t\\t\\t\\t\\t\\t\\t\\t\\t\\tcomentarios (0)\\t\\t\\t\\t\\t\\t\\t\\t\\t\\t\\n1 frases principales2 frases importantes\\n\\n2.1 frases de latinoamérica\\n2.2 frases de españa\\n\\n2.1 frases de latinoamérica2.2 frases de españa¡d\\'oh!¡mmm... (rosquillas, cerveza, etc.)¡ya-hoo!     ¡pequeño demonio! / ¡eres un...!(mientras estrangula a bart)¡cállate, flanders! / ¡estúpido flanders!¡me aburro! / ¡¡¡¡¡aburiiiiidooooooo!!!!!¡anda la osa! (latino america)¡me quiero volver chango!¡vete a tu cuarto! (cuando lisa dice algo inteligente)\"mosquis\" (españa)-bart: \"oyee, ¿significa que seré un fracasado?\". -homero: \"si, hijo. un fracasado espectacular\" ahh, soy un pastelito horneado de canela \"a la grande le puse cuca\"\"¡matanga!\"\"¡ahhhh! ¿que se le va a hacer?\"\"¡eso digo yo... pero así está la cosa!\"\"he llegado a odiar mi propia creación, ahora se cómo se siente dios\"\"¡qué bien, a cenar!; la pausa perfecta entre el trabajo y la ebriedad\"\"no soy un hombre de plegarias, pero si estás en el cielo... ¡sálvame por favor, superman!\"\"!alá, jesús, buda... los amo a todos!\"¡qué suerte marge!, nuestros hijos son cada vez más inteligentes, si tenemos otro podría construir una máquina del tiempo para viajar al pasado y no tener hijos\"¡que feo canta que no hay dragon ball z!\"por favor, no me coma señor extraterrestre, tengo una esposa y tres hijos..., cómaselos a ellos\"\"¡ahhhh, marge, no te voy a mentir!... ¡adios!\"\"¿un gym?¿qué es un gym? ¡ah, un gym!\"\"moe, sírveme algo fuerte como para olvidar que las odio (a sus cuñadas), pero no tanto como para creer que las quiero\"\"ese molino deja de funcionar pero mi cerebro no... lo hace\"\"en mi familia somos 5 personas: marge, bart, la niña bart, la que nunca habla y el tipo gordo, como lo desprecio\"\"no voy a ignorar a papá por el resto de mi vida; sólo lo voy a ignorar por el resto de su vida\"(cuando homer sorprende a marge con mr. duff reunidos secretamente en su casa) ¡oh, no! la madre de mis hijos con la razón de mis hijos!(homer acerca de marge) \"¡ella conoce mi única debilidad, ser débil!\"\"a diferencia del amor, el respeto no se compra\"\"marge, eres tan hermosa como la princesa leia y tan inteligente como yoda\"\"marge, cuando tú no puedes acabarte un sándwich, yo me como ese sándwich\"\"lisa, ya sé que soy tu papá, pero cuando crezca quiero ser como tú\"siii... las cosas buenas no acaban con \"eo\"... acaban con \"manía\" o \"tería\".marge...yo soy distinto a otros hombres... por eso compras mis pantalones en un tienda especial.¡ay, que digo, tú estás en todas partes señor, eres omnívoro!la televisión da mucho y pide poco.\\xa0si bart es el barto, ¡yo puedo ser el homo!\"bart, lisa, aquí hay 50 dólares: vayan al cine, luego a casa de sus tías patty y selma y quédense ahí hasta que los llame\"\"papá, te quiero, pero eres un viejo mañoso y no le caes bien a nadie\"\"¡hola, cinta (caminadora)! ¿qué opinas de esta inclinación?\"\"¡ay, no, no, no... si no lo veo no es ilega!l\"\"marge, voy a la taberna; lleva a los niños con los vecinos, voy a volver \"jala\\'o\"\"\"bart, con esos 10.000 dólares seríamos millonarios y podríamos comprar todo tipo de cosas útiles como... ¿amor?\"\"ya me conoces, marge, me gusta la cerveza fría, la tele fuerte y los homosexuales, ¡locas, locas... siiiii!\"\"lisa, los vampiros son seres inventados, como los duendes, los gremlins y los esquimales\"\"tres simples palabras: soy un homosexual\"\"¡muñeca preciosa, bienvenida a botadero!...poblacion: tú\"\"para variar las cosas... tú harás todo el trabajo\"\"al menos no está lloviendo...¿ves cómo no llueve? solo estamos en la calle.\"\"marge, creo que odio a michael jackson. no, no, la verdad es que canta bien y es noble, buenas noches\"\"ese perro tiene la cola peluda!\"\"¡estupido como un zorro!\"\"¡jaque mate doña cama elástica!\"\"ya no es puerco araña, ahora es puerco potter\"\"... no lo sé, haría falta alguien como yo para hacerlo.... ¿como yo?... ¡yo soy un como yo!\"\"marge, ¡son las tres de la mañana! ¿me haces un emparedado?\"¡ha, ha, ha.... todos los presidentes son iguales... son neo-liberales!\"¡que elegancia la de francia!\"\"operadora, deme el numero para el 911\"\"desearía que dios estuviera vivo para ver esto\"\"lisa, cuando una persona como yo tiene tantos golpes en la cabeza, la cordura... eh, ¿cómo decirte?... oh, te amo, bart\"\"homero: bueno, tiene todo el dinero del mundo, pero hay algo que no puede comprar\" marge: ¿qué? homero: mmm... ¡un dinosaurio!\"\"que los blancos tienen nombre como lenny y los negros tienen nombres como carl\"\"lo único que puede hacer más delicioso al tocino es ver como se hace\"\"lisa... en esta casa obedecemos la leyes de la ¡termodinámica!\"\"vas a morir moe, ¡wiiiiiiiiiiii!.\"\"por eso no le hago caso a mi cerebro\"\"¡no oigo, no oigo, soy de palo tengo orejas de pescado!\"\"¡si, si.... así haría si le hiciera.....!\"\"¿la profesora de bart se llama krabappel? yo le decía clavados. ¿por qué nadie me lo dijo? ¡debo haber parecido un idiota!\"¡oh gloria de las glorias, oh mundo misterioso que acabo de descubrir! ¡me lleva la cachetada!\"¡a lo hecho, pecho!\"¡estupido y sensual flanders!\"¡no se rían de mi, pueden tener un hijo igual\"\"y todo se lo debo a este simpático felino\"\"la vida es un fracaso tras otro hasta que empiezas a desear que flanders se muera\"\"niños: lo intentaron y fracasaron miserablemente. la moraleja es: nunca se esfuercen\"\"soy homero simpson, o como muchos me han llamado: el cochinote\"\"bart, no quiero asustarte, pero tal vez el coco, el coco está en la casa!\"\"tranquilos, sé lo que hay que hacer en estos casos...jumanjiiii!!!!!\"\"si algo hemos aprendido de los picapiedra es que los pelícanos sirven para mezclar cemento\"\"lisa lloró, yo lloré y maggie rió. todo fue una confusión\"\"apu no es felíz. nos mintió con la canción. ¡ay, me choca que la gente haga eso!\"\"marge, niños, les prometo que todo va a salir bien. vayan arriba, empaquen sus maletas. vamos a comenzar una nueva vida...bajo el mar\"\"¿ah, si? ¿y si era tan listo por qué se murió?\"\"¡ya, pierdan, perdedores, para que podamos volver a casa!\"\"hay tanto que no sé de astrofísica. hubiera leído el libro del paralítico ese\"¿cuándo voy a aprender? la solución a todos los problemas de la vida no está en el fondo de una botella. ¡está en la televisión!\"y la verdad es un trabajo muy duro, pero cuando veo esas sonrisas en sus caritas, sé que estan pensando en lanzarme algo los desgraciados.\"\"si algo es difícil y duro de hacer, entonces no merece la pena hacerlo\"\"marge mi reina (marge con vestido de reina), lisa mi pequeña princesita ( lisa vestida de princesa) ¡... y como olvidar el niño rata!\".¡se roban las hamburguesas.... maldita rata.... ya te tengo.... toma.... toma!\"aparta tu pico de mi corazón y tu figura del dintel de mi puerta.\"\"maldito cacharro\"\"claro que si dinero. tu sabes que el dinero no es todo en el dinero\"(al marge reclamar que perdió 40 dolares por no ir a trabajar comparado con lo poco que ganó vendiendo azúcar de puerta en puerta) \"¡marge, no me humilles delante del dinero!\"\"siempre he creído en la existencia de dios.... ahora se... ¡que soy yo!\"\"¡ah, por eso dios es el mejor personaje de ficción!\"\"¿mi... perdior.... cerebro? ¡oh!\"\"¡ay, esto es de locos, creo que mi daño se cerebró!...\"\"¡bueno, cerebro, yo no te agrado y tu no me agradas!... ¡sacame de esta y podré seguirte matando con cerveza! (cerebro: ¡trato hecho!)\"\"¡por el alcohol.... causa y solucion de todos los problemas de la vida!\"(imitando a jack nicholson) \"¿quieres la verdad?, ¡¿quieres la verdad?!, ¡tu no puedes manejar la verdad! porque cuando te agachas para tocar la cara de lo que fue tu mejor amigo y ves que es solo basura... uno... no sabe que hacer. ¡olvídalo, marge... este es el barrio chino!\"(imitando a al pacino) \"en américa, quien tiene el azúcar tiene el poder. luego viene el dinero; luego vienen las mujeres...\"\"cuando tenía 17 años yo bebía buena cerveza (sollozo) ¡bebía buena cerveza que compraba con identificación falsa!\"\"los santos fueron una basofia, he visto basofias en mi vida pero esta basofia fue la más basofia entre las basofias.... ¡bueno, ya me voy porque me están oyendo los ñoños!\"\"sin televisión y sin cerveza homero pierde la cabeza\"(al leer en un anuncio\"die\") \"¡ay, \"muerte\" en ingles!\" (se completa el anuncio como \"diet\") \"¿\"dieta\"?...¡uaaaaaaaaaugh!\"¡no, en la policía dijeron que estaba muy gordo, en el ejercito me dijeron que era muy tonto!\"a-tó-mico.... se dice a-tó-mico...\"\"¡mono..... d´oh!\"\"cama arri-ba, cama aba-jo\"\"nube arri-ba, nube aba-jo\"\"¡salvame jebus!\"\"¡ha, ha, ha... no lo puedo creer... ese niño tiene senos!\"\"mmm... avena a la homero\"\"algunos dicen que me paresco a elvis presley\"\"maldito perro pulgoso\"\"¡perro de la calle!\"(cuando marge le dice a homero que es el más gordo de la familia) \"no me lo digas tan directo\"\"marge, ¡no siento las piernas! ¡no siento las piernaaaaaaas!\"\"¿por que me comí ese cachito de manzana?\"\"lisa... creo que llegó el momento de decirte... que eres adoptada y no te quiero... ¡bart!\"\"hace mucho tiempo que no estoy con una persona que no sabe que soy un cerdo egoísta\"\"calma calma, que no panda el cúnico, para encontrar a flanders, ay que pensar como flanders\"\"¡para nada, maestro, yo voy a seguir rockeando por siempre... forever... forever...!\"\"mi cerebro es igual a una computadora\"\"esto es más triste que lo que callamos las mujeres\"\"marge, con ese dinero seriamos ricos, ¡más ricos que los del doblaje!\"\"lisa, tu tienes lo que se llama, ¡el trasero simpson! comienzas con un enorme círculo aqui, dos círculos mas pequeños aqui, dos grandes círculos sexys como ojos, y un elegante atuendo, ¡ay que bien luzco! por alguna razón mi cabello y mi oreja forman una m y una g.\"bart, cuando yo era niño quería un futbolito electrico más que nada en el mundo... mis padres me lo comprarón y fui el niño más feliz del mundo\"\"¿sabes hijo? cuando yo tenía tu edad me moría por un guante profesional y mis papás no me lo dieron. así \\xa0que dejé de respirar hasta que me puse morado y mi cabeza golpeó contra el suelo.... ¡los doctores temían que hubiera daño cerebral!\" -bart: \"papá... ¿y que tiene que ver esta historia?\" -homero: \"¡me gustan las historias!\"\"me mata verla asi (a lisa) y si hay algo que no soporto, es que me maten\"\"marge, déjame entrar... ¡ay, aquí hay grillos!\"\"¡bart quieres un pedazo de pastel antes de dormir! come una rebanada antes de que se enfrie... ¿no quieres ver mi nueva sierra y mascara?¡\"\"¿si... rectór...? ¡tiene cara de sapo!\"\"disimula y ve despacio hacie el pastel\"\"marge va a denunciar lo de las drogas...no claro que no\"\"todo para ti es cruel... si me cuelgo de su trompa es cruel... si le grito en las orejas es cruel.... ¡pues perdóname por ser tan cruel!\"\"es que estoy muy dulce y sabrosito.\"\"¡bueno, ya..... ¿de a cuanto es el sablazo?\"\"¿y yo que puedo hacer? tan solo soy un..... em...... hombre.\"\"bart, tengo que decirte algo; anoche me senté sobre tu tortuga y la maté, algún día me lo agradecerás\"¡pues perdoname por tener enormes defectos que no puedo corregir!¡cuando nos casamos me dijiste que ¡te encantaba mi forma de ser y que nunca cambiara!yo creo que milhouse es el barto...olvídalo marge... ya vivimos juntos, ¿para qué trabajar juntos? como dice la biblia, no mortificaréis a tu esposo en su... eh... actividad.no me importaría estar encerrado, siempre y cuando tenga suficiente cerveza en la nevera.\\u200b\"marge, eres tan hermosa como la princesa leia y tan inteligente como yoda\".(en italia): ¿opera, aquí también tienen eso?\\u200b\"♪♫soy intelectual, muy inteligente, soy intelectual, muy inteligente, ¡ay que bonito soy♫♪! \"\"♪♫1, 2 y 3... salen los toreros por el redondel♫♪\"\"♪♫voy al ra-to... voy al ra-to♫♪\"\"♪♫¡soy homero el ma-lo... soy homero el ma-lo!♫♪\"\"♫♪mi amigo el brujo, fue y me dijo como hacer bom bom bom bom♪♫\"\"♫♪nacho, nacho men, nacho, nacho men, yo quiero ser, un nacho men♪♫\"\"♫♪¡oh margie! llegaste y me diste un pavoooo... en mis vacaciones.... ¡que rico!♪♫\"\"♫♪no vives de ensalada♪♫\"\"♫♪patito, patito color de café si tu no me quieres yo ya se porqué; no me presumas que yo ya sé que eres un patito color de café♪♫\"\"♪♫estaba la pajara pinta, a la sombra del verde limón, con el pico picaba la rama, con las alas recoge la flor♫♪\"(cantando \"smoke on the water\") \"♫♪they burned down the gambling house, came down with an awful sound.... ¡tengo ganas de un bombón, y me lo voy a echaaaaaar!!!!♪♫\"\"♫♪ que si, que no, el macalacachimba. que no, que si, el chafirete ¡uh! el chafirete♫♪\"\"usted es una mujer muy guapota ¿sabe? si yo no estuviera casado saldría con usted ¡así! (golpea y se sube la cerveza)... perdóneme por favor, no le vaya a decir a marge la amo tanto que... oh miren 10 centavos\"\"a la grande la llamo mordiscos\"\"¿que la profesora de bart se llama krabappel? pues yo creía que se llamaba grandal... ¡por qué no me lo habéis dicho!\"\"tendrá todo el dinero del mundo... pero hay algo que jamás podra comprar... ¡un dinosaurio!\"\"marge, no le busques tres gatos al pie\"¿me podría decir dónde está el lavabo? me gustaría fingir que me lavo las manos.\"¡¿operadora?! ¡¡pongame con el 091!!¡porqué tengo que tener cero dinero y tres hijos, y no tres dineros y cero hijos!\"¡callaos hipoglúcidos!\"la vida es una aplastante derrota tras otra hasta que acabas deseando que se muera flanders.\"\"ahora con internet los niños se crian solos.\"\"y de beber, albóndigas.\"\"¡parad! sé lo que hay que hacer en estos casos... ¡jumanji! ¡d\\'oh! ¿por qué las cosas de las películas nunca funcionan?\"\"¡bart baja de ahí! ¡te voy a dar de azotes hasta la edad de piedra!\"\"no soy gordo, ¡es mi metabolismo!\"\"cariño no había pastillas para el mareo, pero te he traido cigarrillos.\"\"en este mundo hay tres clases de personas, las que saben contar y las que no.\"\"¡estúpido flanders!\"\"voy a matar a moe... ¡¡wii!! voy a matar a moe... ¡¡wii!!\"\"¡mosquis!\"\"¡ay caramba, carambita, carambola!\"\"para mentir se necesitan dos: uno que mienta y otro que escuche.\"\"lisa... en esta casa obedecemos en las leyes de la ¡¡termodinámica!!\".\"¡¡bart no te alarmes, pero creo que ha entrado en casa el hombre del saco!!\"\"en la selva, horrible selva, yo calbalgo sobre un engendro\"\"nucelar, la palabra es nucelar.\"\"sé que puedes leerme el pensamiento hijo\\xa0: miau, miau, miau, miau, miau, miau, miau, miau...\"\"lisa lloró. entonces yo lloré. y a maggie le entro la risa . ¡es tan maja esa criatura!\"\"sabes que no soy muy aficionado a rezar. pero, si estás ahí arriba, ¡sálvame superman!\"\"los negros tienen nombres como carl y los blancos tienen nombres como lenny.\"\"marge, bart lleva una camisa hawaiana y solo dos tipos de hombres usan esas camisas, los gays y los juerguistas obesos, y bart no tiene pinta de juerguista obeso.\"\"¡que no cunda el pánico! ¡recuperaré el dinero vendiendo uno de mis hígados!\"\"voy a crear la criatura perfecta: limpio como un perro y listo como un gato.\"\"la menopausia es cuando a una cigüeña le pega un disparo un cazador borracho.\"\"no, las piernas las utilizo... ¿no me puedes romper la cabeza?\"\"ñaca, ñaca, ñaca, me duele la barriga de ganas de quererte; haces el amor tan dulce que estas como para comerte\"\"¡yuhuuu! ¡soy universitario! ya no necesito el diploma del insti, que listo soy yo, que listo soy yo, que listo soy yo, l s t o, digo l i s t o\"¿qué pasaría si el rey de inglaterra entrase en casa y comenzase a darte empujones. ¿te gustaría, eh, te gustaría?\"\"hay dos tipos de estudiantes: los fuertes y los gilís. ¡como atleta es mi deber hacerle la vida imposible a los gilís\"\"es un evento deportivo: no se trata de ganar o de perder, si no de cuánto te puedes emborrachar\"\"el ganador será colmado de alabanzas y el perdedor será abucheado hasta que me quede afónico\"\"el problema de las parejas es la comunicación... ¡demasiada comunicación!\"grrrrrrrrrr (mientras ahorca a bart)\"¡¡¡¡giliiiiiiiiiiiiii!!!!!\"decano... ¡eres un membrillo!... jejejeje\"mar retrete del mundo los griegos te llamaron poseidon,los romanos ,eeeeh aquamanalabado sea el niño josesolo mi estilista lo sabe con seguridad....a fregar¡eso es mentira, so marrana!\\u200bya sabes lo que dicen, martillea con el mango y very well fandango!a si que un guerra de los mundos no hay nada que temer mientras el sol este de nuestra parte(en ese momento el cielo se nubla)si corre a esconderte cobardebart recuerda lo que dijo cristóbal colón: si pierdes .. te echamos de la familala raspa la invento ambrosio con el balon, ambrosio pasa a salas y salas mete un gol, y voy a seguir bailando porque oigo un movil sonandosiempre hay algún matón que me chafa los planes. incluso aquel negocio mio de alquiler de matones.hijos, os habéis esforzado. y, ¿para qué? para hacer el ridículo. la moraleja es: no os esforcéis.hijo, sé un hombre y haz todo lo que te diga tu hermanita.y yo secundo la moción, pero con violencia.no es por ofender, apu. pero cuando repartieron las religiones tú debías estar haciendo pis.¿y si nos equivocáramos de religión? dios estaría más furioso cada semana.la gente se inventa estadísticas con tal de probar cosas. esto lo sabe el 14%.dios es mi personaje de ficción favorito.categorías: \\nfrases de los personajes\\n\\n\\n\\n1\\nlista de predicciones de los simpson\\n\\n\\n\\n2\\nhomer simpson\\n\\n\\n\\n3\\nlisa floreda\\n\\n\\n\\n\\n\\nfanonverse wiki\\n\\n\\n\\n\\n\\n\\nlos gatos guerreros wiki\\n\\n\\n\\n\\n\\n\\namanecer rojo\\n\\n\\n\\n\\n\\t\\t\\t\\t\\t\\tfandom\\t\\t\\t\\t\\t\\n\\n\\n\\t\\t\\t\\t\\t\\tcortex rpg\\t\\t\\t\\t\\t\\n\\n\\n\\t\\t\\t\\t\\t\\tmuthead\\t\\t\\t\\t\\t\\n\\n\\n\\t\\t\\t\\t\\t\\tfuthead\\t\\t\\t\\t\\t\\n\\n\\n\\t\\t\\t\\t\\t\\tfanatical\\t\\t\\t\\t\\t\\n\\n\\n \\n\\n\\n \\n\\n\\n\\t\\t\\t\\t\\t\\t¿qué es fandom?\\t\\t\\t\\t\\t\\n\\n\\n\\t\\t\\t\\t\\t\\tacerca de\\t\\t\\t\\t\\t\\n\\n\\n\\t\\t\\t\\t\\t\\templeo\\t\\t\\t\\t\\t\\n\\n\\n\\t\\t\\t\\t\\t\\tprensa\\t\\t\\t\\t\\t\\n\\n\\n\\t\\t\\t\\t\\t\\tcontactar\\t\\t\\t\\t\\t\\n\\n\\n\\t\\t\\t\\t\\t\\ttérminos de uso\\t\\t\\t\\t\\t\\n\\n\\n\\t\\t\\t\\t\\t\\tpolítica de privacidad\\t\\t\\t\\t\\t\\n\\n\\n\\t\\t\\t\\t\\t\\tmapa del sitio global\\t\\t\\t\\t\\t\\n\\n\\n\\t\\t\\t\\t\\t\\tmapa del sitio local\\t\\t\\t\\t\\t\\n\\n\\n\\t\\t\\t\\t\\t\\tcomunidad central\\t\\t\\t\\t\\t\\n\\n\\n\\t\\t\\t\\t\\t\\tsoporte\\t\\t\\t\\t\\t\\n\\n\\n\\t\\t\\t\\t\\t\\tayuda\\t\\t\\t\\t\\t\\n\\n\\n\\t\\t\\t\\t\\t\\tno vender mi información\\t\\t\\t\\t\\t\\n\\n\\n\\t\\t\\t\\t\\t\\tkit de medios\\t\\t\\t\\t\\t\\n\\n\\n\\t\\t\\t\\t\\t\\tfandomatic\\t\\t\\t\\t\\t\\n\\n\\n \\n\\n\\n \\n'"
            ],
            "application/vnd.google.colaboratory.intrinsic+json": {
              "type": "string"
            }
          },
          "metadata": {},
          "execution_count": 76
        }
      ],
      "source": [
        "article_text\n",
        "\n",
        "\n"
      ]
    },
    {
      "cell_type": "code",
      "execution_count": 77,
      "metadata": {
        "id": "BtGLJjt6rQhK",
        "colab": {
          "base_uri": "https://localhost:8080/"
        },
        "outputId": "d035e86d-b974-4c74-f077-268304f48bb6"
      },
      "outputs": [
        {
          "output_type": "stream",
          "name": "stdout",
          "text": [
            "Cantidad de caracteres en la nota: 22972\n"
          ]
        }
      ],
      "source": [
        "print(\"Cantidad de caracteres en la nota:\", len(article_text))"
      ]
    },
    {
      "cell_type": "markdown",
      "source": [
        "### Paso 2: Armo el corpus"
      ],
      "metadata": {
        "id": "nFcGlf6Hg5kq"
      }
    },
    {
      "cell_type": "code",
      "execution_count": 78,
      "metadata": {
        "id": "HnEUTD1Erl1N"
      },
      "outputs": [],
      "source": [
        "# substituir con regex con espacio vacío:\n",
        "corpus = re.sub(r'\\[[0-9]*\\]', ' ', article_text) # substituir los números entre corchetes\n",
        "# (notar que los corchetes son interpretados literalmente por los backlsash)\n",
        "corpus = re.sub(r'\\s+', ' ', corpus) # substituir más de un caracter de espacio, salto de línea o tabulación\n",
        "\n",
        "# Elimino lo que no me interesa\n",
        "separator_end = \"a la grande la llamo mordiscos\" # Separador a partir del cual remuevo todo lo que sigue\n",
        "corpus = corpus.split(separator_end, 1)[0] \n",
        "corpus = corpus[corpus.rfind('\"a la grande le puse cuca\"'):] # Remuevo todo lo \n",
        "corpus = corpus.replace('\"a la grande' , '\"\"a la grande')\n",
        "corpus = corpus.replace('\"\"', '%') # Agrego un delimitador de frases (no uso comillas porque delimitarian palabras ademas de frases)\n",
        "#palabras = re.findall((r'\\\"[a-z]+\\\"|\\\"[a-z]+[íéáóú][a-z]+\\\"'), corpus) # Encontar palabras entre comillas\n",
        "corpus = re.sub(' las cosas buenas no acaban con \"eo\"... acaban con \"manía\" o \"tería\"', '%', corpus) # Remuevo esta oración por las comillas\n",
        "corpus = re.sub('\"', '%',corpus) # Cambio cualquier comilla suelta que quedó, por el delimitador\n"
      ]
    },
    {
      "cell_type": "code",
      "source": [
        "corpus"
      ],
      "metadata": {
        "colab": {
          "base_uri": "https://localhost:8080/",
          "height": 143
        },
        "id": "pGfiMzVSqE9M",
        "outputId": "1b82caf9-4ba4-4f27-bdf8-e2c6f3ae8e8f"
      },
      "execution_count": 79,
      "outputs": [
        {
          "output_type": "execute_result",
          "data": {
            "text/plain": [
              "\"%a la grande le puse cuca%¡matanga!%¡ahhhh! ¿que se le va a hacer?%¡eso digo yo... pero así está la cosa!%he llegado a odiar mi propia creación, ahora se cómo se siente dios%¡qué bien, a cenar!; la pausa perfecta entre el trabajo y la ebriedad%no soy un hombre de plegarias, pero si estás en el cielo... ¡sálvame por favor, superman!%!alá, jesús, buda... los amo a todos!%¡qué suerte marge!, nuestros hijos son cada vez más inteligentes, si tenemos otro podría construir una máquina del tiempo para viajar al pasado y no tener hijos%¡que feo canta que no hay dragon ball z!%por favor, no me coma señor extraterrestre, tengo una esposa y tres hijos..., cómaselos a ellos%¡ahhhh, marge, no te voy a mentir!... ¡adios!%¿un gym?¿qué es un gym? ¡ah, un gym!%moe, sírveme algo fuerte como para olvidar que las odio (a sus cuñadas), pero no tanto como para creer que las quiero%ese molino deja de funcionar pero mi cerebro no... lo hace%en mi familia somos 5 personas: marge, bart, la niña bart, la que nunca habla y el tipo gordo, como lo desprecio%no voy a ignorar a papá por el resto de mi vida; sólo lo voy a ignorar por el resto de su vida%(cuando homer sorprende a marge con mr. duff reunidos secretamente en su casa) ¡oh, no! la madre de mis hijos con la razón de mis hijos!(homer acerca de marge) %¡ella conoce mi única debilidad, ser débil!%a diferencia del amor, el respeto no se compra%marge, eres tan hermosa como la princesa leia y tan inteligente como yoda%marge, cuando tú no puedes acabarte un sándwich, yo me como ese sándwich%lisa, ya sé que soy tu papá, pero cuando crezca quiero ser como tú%siii...%.marge...yo soy distinto a otros hombres... por eso compras mis pantalones en un tienda especial.¡ay, que digo, tú estás en todas partes señor, eres omnívoro!la televisión da mucho y pide poco. si bart es el barto, ¡yo puedo ser el homo!%bart, lisa, aquí hay 50 dólares: vayan al cine, luego a casa de sus tías patty y selma y quédense ahí hasta que los llame%papá, te quiero, pero eres un viejo mañoso y no le caes bien a nadie%¡hola, cinta (caminadora)! ¿qué opinas de esta inclinación?%¡ay, no, no, no... si no lo veo no es ilega!l%marge, voy a la taberna; lleva a los niños con los vecinos, voy a volver %jala'o%%bart, con esos 10.000 dólares seríamos millonarios y podríamos comprar todo tipo de cosas útiles como... ¿amor?%ya me conoces, marge, me gusta la cerveza fría, la tele fuerte y los homosexuales, ¡locas, locas... siiiii!%lisa, los vampiros son seres inventados, como los duendes, los gremlins y los esquimales%tres simples palabras: soy un homosexual%¡muñeca preciosa, bienvenida a botadero!...poblacion: tú%para variar las cosas... tú harás todo el trabajo%al menos no está lloviendo...¿ves cómo no llueve? solo estamos en la calle.%marge, creo que odio a michael jackson. no, no, la verdad es que canta bien y es noble, buenas noches%ese perro tiene la cola peluda!%¡estupido como un zorro!%¡jaque mate doña cama elástica!%ya no es puerco araña, ahora es puerco potter%... no lo sé, haría falta alguien como yo para hacerlo.... ¿como yo?... ¡yo soy un como yo!%marge, ¡son las tres de la mañana! ¿me haces un emparedado?%¡ha, ha, ha.... todos los presidentes son iguales... son neo-liberales!%¡que elegancia la de francia!%operadora, deme el numero para el 911%desearía que dios estuviera vivo para ver esto%lisa, cuando una persona como yo tiene tantos golpes en la cabeza, la cordura... eh, ¿cómo decirte?... oh, te amo, bart%homero: bueno, tiene todo el dinero del mundo, pero hay algo que no puede comprar% marge: ¿qué? homero: mmm... ¡un dinosaurio!%que los blancos tienen nombre como lenny y los negros tienen nombres como carl%lo único que puede hacer más delicioso al tocino es ver como se hace%lisa... en esta casa obedecemos la leyes de la ¡termodinámica!%vas a morir moe, ¡wiiiiiiiiiiii!.%por eso no le hago caso a mi cerebro%¡no oigo, no oigo, soy de palo tengo orejas de pescado!%¡si, si.... así haría si le hiciera.....!%¿la profesora de bart se llama krabappel? yo le decía clavados. ¿por qué nadie me lo dijo? ¡debo haber parecido un idiota!%¡oh gloria de las glorias, oh mundo misterioso que acabo de descubrir! ¡me lleva la cachetada!%¡a lo hecho, pecho!%¡estupido y sensual flanders!%¡no se rían de mi, pueden tener un hijo igual%y todo se lo debo a este simpático felino%la vida es un fracaso tras otro hasta que empiezas a desear que flanders se muera%niños: lo intentaron y fracasaron miserablemente. la moraleja es: nunca se esfuercen%soy homero simpson, o como muchos me han llamado: el cochinote%bart, no quiero asustarte, pero tal vez el coco, el coco está en la casa!%tranquilos, sé lo que hay que hacer en estos casos...jumanjiiii!!!!!%si algo hemos aprendido de los picapiedra es que los pelícanos sirven para mezclar cemento%lisa lloró, yo lloré y maggie rió. todo fue una confusión%apu no es felíz. nos mintió con la canción. ¡ay, me choca que la gente haga eso!%marge, niños, les prometo que todo va a salir bien. vayan arriba, empaquen sus maletas. vamos a comenzar una nueva vida...bajo el mar%¿ah, si? ¿y si era tan listo por qué se murió?%¡ya, pierdan, perdedores, para que podamos volver a casa!%hay tanto que no sé de astrofísica. hubiera leído el libro del paralítico ese%¿cuándo voy a aprender? la solución a todos los problemas de la vida no está en el fondo de una botella. ¡está en la televisión!%y la verdad es un trabajo muy duro, pero cuando veo esas sonrisas en sus caritas, sé que estan pensando en lanzarme algo los desgraciados.%si algo es difícil y duro de hacer, entonces no merece la pena hacerlo%marge mi reina (marge con vestido de reina), lisa mi pequeña princesita ( lisa vestida de princesa) ¡... y como olvidar el niño rata!%.¡se roban las hamburguesas.... maldita rata.... ya te tengo.... toma.... toma!%aparta tu pico de mi corazón y tu figura del dintel de mi puerta.%maldito cacharro%claro que si dinero. tu sabes que el dinero no es todo en el dinero%(al marge reclamar que perdió 40 dolares por no ir a trabajar comparado con lo poco que ganó vendiendo azúcar de puerta en puerta) %¡marge, no me humilles delante del dinero!%siempre he creído en la existencia de dios.... ahora se... ¡que soy yo!%¡ah, por eso dios es el mejor personaje de ficción!%¿mi... perdior.... cerebro? ¡oh!%¡ay, esto es de locos, creo que mi daño se cerebró!...%¡bueno, cerebro, yo no te agrado y tu no me agradas!... ¡sacame de esta y podré seguirte matando con cerveza! (cerebro: ¡trato hecho!)%¡por el alcohol.... causa y solucion de todos los problemas de la vida!%(imitando a jack nicholson) %¿quieres la verdad?, ¡¿quieres la verdad?!, ¡tu no puedes manejar la verdad! porque cuando te agachas para tocar la cara de lo que fue tu mejor amigo y ves que es solo basura... uno... no sabe que hacer. ¡olvídalo, marge... este es el barrio chino!%(imitando a al pacino) %en américa, quien tiene el azúcar tiene el poder. luego viene el dinero; luego vienen las mujeres...%cuando tenía 17 años yo bebía buena cerveza (sollozo) ¡bebía buena cerveza que compraba con identificación falsa!%los santos fueron una basofia, he visto basofias en mi vida pero esta basofia fue la más basofia entre las basofias.... ¡bueno, ya me voy porque me están oyendo los ñoños!%sin televisión y sin cerveza homero pierde la cabeza%(al leer en un anuncio%die%) %¡ay, %muerte% en ingles!% (se completa el anuncio como %diet%) %¿%dieta%?...¡uaaaaaaaaaugh!%¡no, en la policía dijeron que estaba muy gordo, en el ejercito me dijeron que era muy tonto!%a-tó-mico.... se dice a-tó-mico...%¡mono..... d´oh!%cama arri-ba, cama aba-jo%nube arri-ba, nube aba-jo%¡salvame jebus!%¡ha, ha, ha... no lo puedo creer... ese niño tiene senos!%mmm... avena a la homero%algunos dicen que me paresco a elvis presley%maldito perro pulgoso%¡perro de la calle!%(cuando marge le dice a homero que es el más gordo de la familia) %no me lo digas tan directo%marge, ¡no siento las piernas! ¡no siento las piernaaaaaaas!%¿por que me comí ese cachito de manzana?%lisa... creo que llegó el momento de decirte... que eres adoptada y no te quiero... ¡bart!%hace mucho tiempo que no estoy con una persona que no sabe que soy un cerdo egoísta%calma calma, que no panda el cúnico, para encontrar a flanders, ay que pensar como flanders%¡para nada, maestro, yo voy a seguir rockeando por siempre... forever... forever...!%mi cerebro es igual a una computadora%esto es más triste que lo que callamos las mujeres%marge, con ese dinero seriamos ricos, ¡más ricos que los del doblaje!%lisa, tu tienes lo que se llama, ¡el trasero simpson! comienzas con un enorme círculo aqui, dos círculos mas pequeños aqui, dos grandes círculos sexys como ojos, y un elegante atuendo, ¡ay que bien luzco! por alguna razón mi cabello y mi oreja forman una m y una g.%bart, cuando yo era niño quería un futbolito electrico más que nada en el mundo... mis padres me lo comprarón y fui el niño más feliz del mundo%¿sabes hijo? cuando yo tenía tu edad me moría por un guante profesional y mis papás no me lo dieron. así que dejé de respirar hasta que me puse morado y mi cabeza golpeó contra el suelo.... ¡los doctores temían que hubiera daño cerebral!% -bart: %papá... ¿y que tiene que ver esta historia?% -homero: %¡me gustan las historias!%me mata verla asi (a lisa) y si hay algo que no soporto, es que me maten%marge, déjame entrar... ¡ay, aquí hay grillos!%¡bart quieres un pedazo de pastel antes de dormir! come una rebanada antes de que se enfrie... ¿no quieres ver mi nueva sierra y mascara?¡%¿si... rectór...? ¡tiene cara de sapo!%disimula y ve despacio hacie el pastel%marge va a denunciar lo de las drogas...no claro que no%todo para ti es cruel... si me cuelgo de su trompa es cruel... si le grito en las orejas es cruel.... ¡pues perdóname por ser tan cruel!%es que estoy muy dulce y sabrosito.%¡bueno, ya..... ¿de a cuanto es el sablazo?%¿y yo que puedo hacer? tan solo soy un..... em...... hombre.%bart, tengo que decirte algo; anoche me senté sobre tu tortuga y la maté, algún día me lo agradecerás%¡pues perdoname por tener enormes defectos que no puedo corregir!¡cuando nos casamos me dijiste que ¡te encantaba mi forma de ser y que nunca cambiara!yo creo que milhouse es el barto...olvídalo marge... ya vivimos juntos, ¿para qué trabajar juntos? como dice la biblia, no mortificaréis a tu esposo en su... eh... actividad.no me importaría estar encerrado, siempre y cuando tenga suficiente cerveza en la nevera.\\u200b%marge, eres tan hermosa como la princesa leia y tan inteligente como yoda%.(en italia): ¿opera, aquí también tienen eso?\\u200b%♪♫soy intelectual, muy inteligente, soy intelectual, muy inteligente, ¡ay que bonito soy♫♪! %♪♫1, 2 y 3... salen los toreros por el redondel♫♪%♪♫voy al ra-to... voy al ra-to♫♪%♪♫¡soy homero el ma-lo... soy homero el ma-lo!♫♪%♫♪mi amigo el brujo, fue y me dijo como hacer bom bom bom bom♪♫%♫♪nacho, nacho men, nacho, nacho men, yo quiero ser, un nacho men♪♫%♫♪¡oh margie! llegaste y me diste un pavoooo... en mis vacaciones.... ¡que rico!♪♫%♫♪no vives de ensalada♪♫%♫♪patito, patito color de café si tu no me quieres yo ya se porqué; no me presumas que yo ya sé que eres un patito color de café♪♫%♪♫estaba la pajara pinta, a la sombra del verde limón, con el pico picaba la rama, con las alas recoge la flor♫♪%(cantando %smoke on the water%) %♫♪they burned down the gambling house, came down with an awful sound.... ¡tengo ganas de un bombón, y me lo voy a echaaaaaar!!!!♪♫%♫♪ que si, que no, el macalacachimba. que no, que si, el chafirete ¡uh! el chafirete♫♪%usted es una mujer muy guapota ¿sabe? si yo no estuviera casado saldría con usted ¡así! (golpea y se sube la cerveza)... perdóneme por favor, no le vaya a decir a marge la amo tanto que... oh miren 10 centavos%\""
            ],
            "application/vnd.google.colaboratory.intrinsic+json": {
              "type": "string"
            }
          },
          "metadata": {},
          "execution_count": 79
        }
      ]
    },
    {
      "cell_type": "code",
      "source": [
        "# Separo las frases usando el delimitador que usé (%)\n",
        "corpus = corpus.split('%') "
      ],
      "metadata": {
        "id": "nbL6ewNWmClH"
      },
      "execution_count": 80,
      "outputs": []
    },
    {
      "cell_type": "code",
      "source": [
        "# Verifico \n",
        "print(\"Cantidad de documentos en el corpus:\", len(corpus))"
      ],
      "metadata": {
        "colab": {
          "base_uri": "https://localhost:8080/"
        },
        "id": "BJjny4FZi0oj",
        "outputId": "114ec07b-2a4f-42fa-9d73-b5b8bbc1599b"
      },
      "execution_count": 86,
      "outputs": [
        {
          "output_type": "stream",
          "name": "stdout",
          "text": [
            "Cantidad de documentos en el corpus: 174\n"
          ]
        }
      ]
    },
    {
      "cell_type": "code",
      "source": [
        "corpus[0:6]"
      ],
      "metadata": {
        "colab": {
          "base_uri": "https://localhost:8080/"
        },
        "id": "BI1QO9iCKiP-",
        "outputId": "720899f3-4748-4ecd-cf74-13c983871b1e"
      },
      "execution_count": 85,
      "outputs": [
        {
          "output_type": "execute_result",
          "data": {
            "text/plain": [
              "['',\n",
              " 'a la grande le puse cuca',\n",
              " '¡matanga!',\n",
              " '¡ahhhh! ¿que se le va a hacer?',\n",
              " '¡eso digo yo... pero así está la cosa!',\n",
              " 'he llegado a odiar mi propia creación, ahora se cómo se siente dios']"
            ]
          },
          "metadata": {},
          "execution_count": 85
        }
      ]
    },
    {
      "cell_type": "code",
      "source": [
        "corpus = corpus[1:] # Elimino primer elemento que no es una frase"
      ],
      "metadata": {
        "id": "0W8sZZvX7Sy9"
      },
      "execution_count": 87,
      "outputs": []
    },
    {
      "cell_type": "code",
      "source": [
        "corpus[0:6] # Verifico los primeros 5 documentos"
      ],
      "metadata": {
        "colab": {
          "base_uri": "https://localhost:8080/"
        },
        "id": "R3H5HV2s7eGa",
        "outputId": "11881f65-e18a-43f0-f4a1-5cb7f50b6fd9"
      },
      "execution_count": 90,
      "outputs": [
        {
          "output_type": "execute_result",
          "data": {
            "text/plain": [
              "['a la grande le puse cuca',\n",
              " '¡matanga!',\n",
              " '¡ahhhh! ¿que se le va a hacer?',\n",
              " '¡eso digo yo... pero así está la cosa!',\n",
              " 'he llegado a odiar mi propia creación, ahora se cómo se siente dios',\n",
              " '¡qué bien, a cenar!; la pausa perfecta entre el trabajo y la ebriedad']"
            ]
          },
          "metadata": {},
          "execution_count": 90
        }
      ]
    },
    {
      "cell_type": "markdown",
      "source": [
        "### Paso 3: Armo la pipeline de Spacy"
      ],
      "metadata": {
        "id": "dEK8kUQR46Wf"
      }
    },
    {
      "cell_type": "markdown",
      "source": [
        "3-a) Primero necesito hacer preprocesamiento por ser el bot en español. Se arma una función para este paso adicional."
      ],
      "metadata": {
        "id": "MWfK4i8a60Nd"
      }
    },
    {
      "cell_type": "code",
      "source": [
        "import re\n",
        "import unicodedata\n",
        "\n",
        "# El preprocesamento en castellano requiere más trabajo\n",
        "\n",
        "def preprocess_clean_text(text): \n",
        "    # sacar tildes de las palabras:\n",
        "    text = unicodedata.normalize('NFKD', text).encode('ascii', 'ignore').decode('utf-8', 'ignore')\n",
        "    #quitar caracteres especiales\n",
        "    pattern = r'[^a-zA-z0-9.,¡!¿?/:;\\\"\\'\\s]' # [^ : ningún caracter de todos estos\n",
        "    # (termina eliminando cualquier caracter distinto de los del regex)\n",
        "    text = re.sub(pattern, '', text)\n",
        "    pattern = r'[^a-zA-z.,¡!¿?/:;\\\"\\'\\s]' # igual al anterior pero sin cifras numéricas\n",
        "    # quitar números\n",
        "    text = re.sub(pattern, '', text)\n",
        "    # quitar caracteres de puntuación\n",
        "    text = ''.join([c for c in text if c not in string.punctuation])\n",
        "    return text"
      ],
      "metadata": {
        "id": "-io1j-XTbJg_"
      },
      "execution_count": 91,
      "outputs": []
    },
    {
      "cell_type": "markdown",
      "source": [
        "Verifico el resultado de la función con un texto"
      ],
      "metadata": {
        "id": "s20gIZ4l7Gx4"
      }
    },
    {
      "cell_type": "code",
      "source": [
        "# Pruebo la función para verificar que funciona:\n",
        "corpus_test = 'tendrá todo el dinero del mundo, pero hay algo que jamás podrá comprar: un dinosaurio'\n",
        "print(f'Corpus antes de procesarlo: \\n {corpus_test}')\n",
        "result = preprocess_clean_text(corpus_test)\n",
        "print(f'Corpus después de procesarlo: \\n {result}')"
      ],
      "metadata": {
        "colab": {
          "base_uri": "https://localhost:8080/"
        },
        "id": "P8vbAWABL-sM",
        "outputId": "c369d5ca-afe6-40b5-ca3c-e6f825806675"
      },
      "execution_count": 92,
      "outputs": [
        {
          "output_type": "stream",
          "name": "stdout",
          "text": [
            "Corpus antes de procesarlo: \n",
            " tendrá todo el dinero del mundo, pero hay algo que jamás podrá comprar: un dinosaurio\n",
            "Corpus después de procesarlo: \n",
            " tendra todo el dinero del mundo pero hay algo que jamas podra comprar un dinosaurio\n"
          ]
        }
      ]
    },
    {
      "cell_type": "markdown",
      "source": [
        "Nota: Se observa como la función removió todos los signos de puntuación y tildes"
      ],
      "metadata": {
        "id": "fjGHmZPP7Qh1"
      }
    },
    {
      "cell_type": "markdown",
      "source": [
        "3-b) Importo stanza y armo pipeline de Spacy (Tokenization → Lemmatization → Remove stopwords → Remove punctuation)\n"
      ],
      "metadata": {
        "id": "4UnhY12gbvZH"
      }
    },
    {
      "cell_type": "code",
      "source": [
        "import stanza\n",
        "import spacy_stanza\n",
        "\n",
        "# Descargar el diccionario en español \n",
        "stanza.download(\"es\")\n"
      ],
      "metadata": {
        "colab": {
          "base_uri": "https://localhost:8080/",
          "height": 103,
          "referenced_widgets": [
            "543a6941ece249fda88443ffd0bbc0fe",
            "9ecc2ed1b1db4057a7e7849da5ccf122",
            "2e05533ade884e40a19ff87a4a1cef60",
            "f2c037d62b964e54a44fd547b889b220",
            "a86bcc179bfb4e12a5417154eda1ba40",
            "50cc411e0cc643628d5de2a5dfe63e7a",
            "56cba7866c3b43b586be35d0c841783c",
            "cd011356c825483ab08230a1c9a76b42",
            "8ee8d23071a14e089160e809479de11f",
            "3487e85f2bb249958b6b875fb34bf128",
            "681a5b1788654ae3944de1c5cbe9b459"
          ]
        },
        "id": "X2G-4IRJUeEG",
        "outputId": "34b188c2-9b2b-4fb7-94d7-e0b2a14e18e1"
      },
      "execution_count": 93,
      "outputs": [
        {
          "output_type": "display_data",
          "data": {
            "text/plain": [
              "Downloading https://raw.githubusercontent.com/stanfordnlp/stanza-resources/main/resources_1.2.2.json:   0%|   …"
            ],
            "application/vnd.jupyter.widget-view+json": {
              "version_major": 2,
              "version_minor": 0,
              "model_id": "543a6941ece249fda88443ffd0bbc0fe"
            }
          },
          "metadata": {}
        },
        {
          "output_type": "stream",
          "name": "stderr",
          "text": [
            "INFO:stanza:Downloading default packages for language: es (Spanish)...\n",
            "INFO:stanza:File exists: /root/stanza_resources/es/default.zip.\n",
            "INFO:stanza:Finished downloading models and saved to /root/stanza_resources.\n"
          ]
        }
      ]
    },
    {
      "cell_type": "code",
      "source": [
        "\n",
        "# Cargar pipeline de preprocesamiento en español\n",
        "nlp = spacy_stanza.load_pipeline(\"es\")\n",
        "\n",
        "\n",
        "# Función para aplicar la pipeline\n",
        "def spacy_process(text):\n",
        "    text = preprocess_clean_text(text)\n",
        "    doc = nlp(text)\n",
        "    \n",
        "    # Tokenization & lemmatization\n",
        "    lemma_list = []\n",
        "    for token in doc:\n",
        "        lemma_list.append(token.lemma_)\n",
        "\n",
        "    print(\"Tokenize+Lemmatize:\")\n",
        "    print(lemma_list)\n",
        "    \n",
        "    # Stop words\n",
        "    filtered_sentence =[]\n",
        "    for word in lemma_list:\n",
        "        # word es un string, para recuperar la información de los objetos de SpaCy\n",
        "        # necesitamos usar el string para pasar a un lexema, el objeto de SpaCy\n",
        "        # que para cada término contiene la información del preprocesamiento\n",
        "        # (se podría también directamente filtrar stopwords en el paso de lematización)\n",
        "        lexeme = nlp.vocab[word]\n",
        "        if lexeme.is_stop == False:\n",
        "            filtered_sentence.append(word) \n",
        "    \n",
        "\n",
        "    # Filter punctuation\n",
        "    filtered_sentence = [w for w in filtered_sentence if w not in string.punctuation]\n",
        "    print(\"Remove stopword & punctuation: \")\n",
        "    print(filtered_sentence)\n",
        "    return filtered_sentence\n"
      ],
      "metadata": {
        "colab": {
          "base_uri": "https://localhost:8080/"
        },
        "id": "fTKDHqhYe5eP",
        "outputId": "872a54b9-d26f-4786-9518-0ec724f03e32"
      },
      "execution_count": 105,
      "outputs": [
        {
          "output_type": "stream",
          "name": "stderr",
          "text": [
            "INFO:stanza:Loading these models for language: es (Spanish):\n",
            "=======================\n",
            "| Processor | Package |\n",
            "-----------------------\n",
            "| tokenize  | ancora  |\n",
            "| mwt       | ancora  |\n",
            "| pos       | ancora  |\n",
            "| lemma     | ancora  |\n",
            "| depparse  | ancora  |\n",
            "| ner       | conll02 |\n",
            "=======================\n",
            "\n",
            "INFO:stanza:Use device: cpu\n",
            "INFO:stanza:Loading: tokenize\n",
            "INFO:stanza:Loading: mwt\n",
            "INFO:stanza:Loading: pos\n",
            "INFO:stanza:Loading: lemma\n",
            "INFO:stanza:Loading: depparse\n",
            "INFO:stanza:Loading: ner\n",
            "INFO:stanza:Done loading processors!\n"
          ]
        }
      ]
    },
    {
      "cell_type": "code",
      "source": [
        "# Pruebo la pipeline:\n",
        "print(f'Corpus antes de procesarlo: \\n {corpus_test}')\n",
        "result = spacy_process(corpus_test)\n",
        "print(f'Corpus después de la pipeline: \\n {result}')"
      ],
      "metadata": {
        "colab": {
          "base_uri": "https://localhost:8080/"
        },
        "id": "N37iCo50Ty3t",
        "outputId": "16314537-ded6-4b08-df73-4fdb33b4ee04"
      },
      "execution_count": 95,
      "outputs": [
        {
          "output_type": "stream",
          "name": "stdout",
          "text": [
            "Corpus antes de procesarlo: \n",
            " tendrá todo el dinero del mundo, pero hay algo que jamás podrá comprar: un dinosaurio\n",
            "Corpus después de la pipeline: \n",
            " ['dinero', 'mundo', 'jamas', 'comprar', 'dinosaurio']\n"
          ]
        }
      ]
    },
    {
      "cell_type": "markdown",
      "metadata": {
        "id": "Jl8r6d9ZuyR9"
      },
      "source": [
        "### Paso 4: Armar función para calcular vectores TF-IDF y la similitud coseno con el corpus elegido"
      ]
    },
    {
      "cell_type": "code",
      "execution_count": 96,
      "metadata": {
        "id": "IRYFHcBfk2Gt"
      },
      "outputs": [],
      "source": [
        "from sklearn.feature_extraction.text import TfidfVectorizer\n",
        "from sklearn.metrics.pairwise import cosine_similarity\n",
        "\n",
        "def generate_response(user_input, corpus):\n",
        "  \n",
        "    response = ''\n",
        "    # Sumar al corpus la pregunta del usuario para calcular\n",
        "    # su cercania con otros documentos/sentencias\n",
        "    # la entrada del usuario se usa para tokenizar y vectorizar\n",
        "    corpus.append(user_input)\n",
        "\n",
        "    # Crear un vectorizar TFIDF que quite las \"stop words\" del español y utilice\n",
        "    # nuestra funcion para obtener los tokens lematizados \"get_processed_text\"\n",
        "    word_vectorizer = TfidfVectorizer(tokenizer=spacy_process) # Al vectorizer le paso mi funcion con spacy\n",
        "\n",
        "    # Crear los vectores a partir del corpus\n",
        "    all_word_vectors = word_vectorizer.fit_transform(corpus)\n",
        "\n",
        "    # Calcular la similitud coseno entre todas los documentos excepto el agregado (el útlimo \"-1\")\n",
        "    # NOTA: con los word embedings veremos más en detalle esta matriz de similitud\n",
        "    similar_vector_values = cosine_similarity(all_word_vectors[-1], all_word_vectors)\n",
        "\n",
        "    # Obtener el índice del vector más cercano a nuestra oración\n",
        "    # --> descartando la similitud contra nuestor vector propio\n",
        "    similar_sentence_number = similar_vector_values.argsort()[0][-2]\n",
        "    matched_vector = similar_vector_values.flatten()\n",
        "    matched_vector.sort()\n",
        "    vector_matched = matched_vector[-2]\n",
        "\n",
        "    if vector_matched == 0: # si la similaridad coseno fue nula (ningún término en común)\n",
        "        response = \"Estamos hablando de comida, verdad?\"\n",
        "    else:\n",
        "        response = corpus[similar_sentence_number] # obtener el documento del corpus más similar\n",
        "    \n",
        "    corpus.remove(user_input)\n",
        "    return response"
      ]
    },
    {
      "cell_type": "markdown",
      "metadata": {
        "id": "OK-BuXPBybSp"
      },
      "source": [
        "### Paso5: Probar el bot\n"
      ]
    },
    {
      "cell_type": "code",
      "source": [
        "user_input_1 = 'por favor señor extraterrestre'\n",
        "respuesta_1 = generate_response(user_input_1, corpus)\n",
        "respuesta_1"
      ],
      "metadata": {
        "colab": {
          "base_uri": "https://localhost:8080/",
          "height": 35
        },
        "id": "Hf6_BHGnTaCc",
        "outputId": "ce9ae3ed-c57e-4e3b-ee2a-db72a7ac57d1"
      },
      "execution_count": 28,
      "outputs": [
        {
          "output_type": "execute_result",
          "data": {
            "text/plain": [
              "'por favor, no me coma señor extraterrestre, tengo una esposa y tres hijos..., cómaselos a ellos'"
            ],
            "application/vnd.google.colaboratory.intrinsic+json": {
              "type": "string"
            }
          },
          "metadata": {},
          "execution_count": 28
        }
      ]
    },
    {
      "cell_type": "code",
      "source": [
        "user_input_2 = 'enfocarse en lo que vale la pena'\n",
        "respuesta_2 = generate_response(user_input_2, corpus)\n",
        "respuesta_2"
      ],
      "metadata": {
        "colab": {
          "base_uri": "https://localhost:8080/",
          "height": 35
        },
        "id": "nxeSxM_w759D",
        "outputId": "5d2b9fff-9a61-4034-9bc0-a4ddb881f99e"
      },
      "execution_count": 76,
      "outputs": [
        {
          "output_type": "execute_result",
          "data": {
            "text/plain": [
              "'si algo es difícil y duro de hacer, entonces no merece la pena hacerlo'"
            ],
            "application/vnd.google.colaboratory.intrinsic+json": {
              "type": "string"
            }
          },
          "metadata": {},
          "execution_count": 76
        }
      ]
    },
    {
      "cell_type": "code",
      "source": [
        "user_input_3 = 'hermosa e inteligente'\n",
        "respuesta_3 = generate_response(user_input_3, corpus)\n",
        "respuesta_3"
      ],
      "metadata": {
        "colab": {
          "base_uri": "https://localhost:8080/",
          "height": 35
        },
        "id": "HRUbSBy-ALJF",
        "outputId": "a731db8f-f07c-405b-b110-1e4d2785ee40"
      },
      "execution_count": 55,
      "outputs": [
        {
          "output_type": "execute_result",
          "data": {
            "text/plain": [
              "'marge, eres tan hermosa como la princesa leia y tan inteligente como yoda'"
            ],
            "application/vnd.google.colaboratory.intrinsic+json": {
              "type": "string"
            }
          },
          "metadata": {},
          "execution_count": 55
        }
      ]
    },
    {
      "cell_type": "code",
      "source": [
        "user_input_4 = 'auxilio Superman!'\n",
        "respuesta_4 = generate_response(user_input_4, corpus)\n",
        "respuesta_4"
      ],
      "metadata": {
        "colab": {
          "base_uri": "https://localhost:8080/",
          "height": 35
        },
        "id": "9KszqDohAzFl",
        "outputId": "eec9a287-7784-4d47-d111-7606dc6e009f"
      },
      "execution_count": 75,
      "outputs": [
        {
          "output_type": "execute_result",
          "data": {
            "text/plain": [
              "'no soy un hombre de plegarias, pero si estás en el cielo... ¡sálvame por favor, superman!'"
            ],
            "application/vnd.google.colaboratory.intrinsic+json": {
              "type": "string"
            }
          },
          "metadata": {},
          "execution_count": 75
        }
      ]
    },
    {
      "cell_type": "code",
      "source": [
        "user_input_5 = 'no te asustes Bart'\n",
        "respuesta_5 = generate_response(user_input_5, corpus)\n",
        "respuesta_5"
      ],
      "metadata": {
        "colab": {
          "base_uri": "https://localhost:8080/",
          "height": 35
        },
        "id": "QqYRzy4lBIBx",
        "outputId": "8f0f4539-36a0-4e37-c020-e3cff804597f"
      },
      "execution_count": 70,
      "outputs": [
        {
          "output_type": "execute_result",
          "data": {
            "text/plain": [
              "'bart, no quiero asustarte, pero tal vez el coco, el coco está en la casa!'"
            ],
            "application/vnd.google.colaboratory.intrinsic+json": {
              "type": "string"
            }
          },
          "metadata": {},
          "execution_count": 70
        }
      ]
    },
    {
      "cell_type": "code",
      "source": [
        "user_input_6 = 'no se rían'\n",
        "respuesta_6 = generate_response(user_input_6, corpus)\n",
        "respuesta_6"
      ],
      "metadata": {
        "colab": {
          "base_uri": "https://localhost:8080/",
          "height": 35
        },
        "id": "Ya3iA8mMBZZg",
        "outputId": "3f5ffefb-bb51-48bb-ee8d-23714c07a40d"
      },
      "execution_count": 63,
      "outputs": [
        {
          "output_type": "execute_result",
          "data": {
            "text/plain": [
              "'¡no se rían de mi, pueden tener un hijo igual'"
            ],
            "application/vnd.google.colaboratory.intrinsic+json": {
              "type": "string"
            }
          },
          "metadata": {},
          "execution_count": 63
        }
      ]
    },
    {
      "cell_type": "code",
      "source": [
        "user_input_7 = 'la canción de la ensalada'\n",
        "respuesta_7 = generate_response(user_input_7, corpus)\n",
        "respuesta_7"
      ],
      "metadata": {
        "colab": {
          "base_uri": "https://localhost:8080/",
          "height": 35
        },
        "id": "QhF7pB7aB2OS",
        "outputId": "8d685437-6a99-47a8-aa55-7605530d9d60"
      },
      "execution_count": 62,
      "outputs": [
        {
          "output_type": "execute_result",
          "data": {
            "text/plain": [
              "'♫♪no vives de ensalada♪♫'"
            ],
            "application/vnd.google.colaboratory.intrinsic+json": {
              "type": "string"
            }
          },
          "metadata": {},
          "execution_count": 62
        }
      ]
    },
    {
      "cell_type": "code",
      "source": [
        "user_input_8 = 'ayuda, operadora'\n",
        "respuesta_8 = generate_response(user_input_8, corpus)\n",
        "respuesta_8"
      ],
      "metadata": {
        "colab": {
          "base_uri": "https://localhost:8080/",
          "height": 35
        },
        "id": "BtOB6pAHCUAA",
        "outputId": "1043da84-2177-4c96-8d13-501732e91266"
      },
      "execution_count": 64,
      "outputs": [
        {
          "output_type": "execute_result",
          "data": {
            "text/plain": [
              "'operadora, deme el numero para el 911'"
            ],
            "application/vnd.google.colaboratory.intrinsic+json": {
              "type": "string"
            }
          },
          "metadata": {},
          "execution_count": 64
        }
      ]
    },
    {
      "cell_type": "code",
      "source": [
        "user_input_9a = 'como le puse a la grande'\n",
        "respuesta_9a = generate_response(user_input_9a, corpus)\n",
        "respuesta_9a"
      ],
      "metadata": {
        "colab": {
          "base_uri": "https://localhost:8080/",
          "height": 35
        },
        "id": "2q9vzm3hYZoN",
        "outputId": "ee534d87-5da8-4812-e0ac-43655a153c36"
      },
      "execution_count": 49,
      "outputs": [
        {
          "output_type": "execute_result",
          "data": {
            "text/plain": [
              "'Estamos hablando de comida, verdad?'"
            ],
            "application/vnd.google.colaboratory.intrinsic+json": {
              "type": "string"
            }
          },
          "metadata": {},
          "execution_count": 49
        }
      ]
    },
    {
      "cell_type": "code",
      "source": [
        "user_input_9b = 'cuca'\n",
        "respuesta_9b = generate_response(user_input_9b, corpus)\n",
        "respuesta_9b"
      ],
      "metadata": {
        "colab": {
          "base_uri": "https://localhost:8080/",
          "height": 35
        },
        "id": "fIfQJQYTb9uU",
        "outputId": "540fe2ea-adf0-4920-947f-9772bdcdf926"
      },
      "execution_count": 50,
      "outputs": [
        {
          "output_type": "execute_result",
          "data": {
            "text/plain": [
              "'a la grande le puse cuca'"
            ],
            "application/vnd.google.colaboratory.intrinsic+json": {
              "type": "string"
            }
          },
          "metadata": {},
          "execution_count": 50
        }
      ]
    },
    {
      "cell_type": "markdown",
      "source": [
        "Hago algunas pruebas para explicar el resultado de 9a y 9b"
      ],
      "metadata": {
        "id": "FEa4hZF-X-wb"
      }
    },
    {
      "cell_type": "code",
      "source": [
        "# Imprimo pasos intermedios para 9a\n",
        "print(f'Texto antes de procesarlo: \\n {user_input_9a}')\n",
        "result = spacy_process(user_input_9a)\n",
        "print(f'Texto después de la pipeline: \\n {result}')"
      ],
      "metadata": {
        "colab": {
          "base_uri": "https://localhost:8080/"
        },
        "id": "TYYsq2F5T8zv",
        "outputId": "e8e1ded2-ece7-41ae-e34e-1f159036e5fc"
      },
      "execution_count": 106,
      "outputs": [
        {
          "output_type": "stream",
          "name": "stdout",
          "text": [
            "Texto antes de procesarlo: \n",
            " como le puse a la grande\n",
            "Tokenize+Lemmatize:\n",
            "['como', 'él', 'poner', 'a', 'el', 'grande']\n",
            "Remove stopword & punctuation: \n",
            "[]\n",
            "Texto después de la pipeline: \n",
            " []\n"
          ]
        }
      ]
    },
    {
      "cell_type": "code",
      "source": [
        "# Imprimo pasos intermedios para 9b\n",
        "print(f'Texto antes de procesarlo: \\n {user_input_9b}')\n",
        "result = spacy_process(user_input_9b)\n",
        "print(f'Texto después de la pipeline: \\n {result}')"
      ],
      "metadata": {
        "colab": {
          "base_uri": "https://localhost:8080/"
        },
        "id": "AMFXwmSmUcnz",
        "outputId": "1af94ef1-8e22-4409-94f3-3f72ab7ab658"
      },
      "execution_count": 107,
      "outputs": [
        {
          "output_type": "stream",
          "name": "stdout",
          "text": [
            "Texto antes de procesarlo: \n",
            " cuca\n",
            "Tokenize+Lemmatize:\n",
            "['cuca']\n",
            "Remove stopword & punctuation: \n",
            "['cuca']\n",
            "Texto después de la pipeline: \n",
            " ['cuca']\n"
          ]
        }
      ]
    },
    {
      "cell_type": "code",
      "source": [
        "# Otra prueba:\n",
        "print(f'Texto antes de procesarlo: \"cuca le puso a la grande\"')\n",
        "result = spacy_process('cuca le puso a la grande')\n",
        "print(f'Texto después de la pipeline: \\n {result}')"
      ],
      "metadata": {
        "colab": {
          "base_uri": "https://localhost:8080/"
        },
        "id": "iz7Cw-XVU1YM",
        "outputId": "49c6fd59-b58b-4895-cf5e-028683a603cb"
      },
      "execution_count": 108,
      "outputs": [
        {
          "output_type": "stream",
          "name": "stdout",
          "text": [
            "Texto antes de procesarlo: \"cuca le puso a la grande\"\n",
            "Tokenize+Lemmatize:\n",
            "['cuca', 'él', 'poner', 'a', 'el', 'grande']\n",
            "Remove stopword & punctuation: \n",
            "['cuca']\n",
            "Texto después de la pipeline: \n",
            " ['cuca']\n"
          ]
        }
      ]
    },
    {
      "cell_type": "markdown",
      "source": [
        "Otras pruebas: trato de capturar la respuesta \"lisa, los vampiros son seres inventados, como los duendes, los gremlins y los esquimales\""
      ],
      "metadata": {
        "id": "PxQoGg_zSqfq"
      }
    },
    {
      "cell_type": "code",
      "source": [
        "user_input_10a = 'es todo un invento'\n",
        "respuesta_10a = generate_response(user_input_10a, corpus)\n",
        "respuesta_10a"
      ],
      "metadata": {
        "colab": {
          "base_uri": "https://localhost:8080/",
          "height": 35
        },
        "id": "91_HmsjfcwH9",
        "outputId": "c0d88f50-faa1-4f61-effe-96a253e2f38e"
      },
      "execution_count": 98,
      "outputs": [
        {
          "output_type": "execute_result",
          "data": {
            "text/plain": [
              "'Estamos hablando de comida, verdad?'"
            ],
            "application/vnd.google.colaboratory.intrinsic+json": {
              "type": "string"
            }
          },
          "metadata": {},
          "execution_count": 98
        }
      ]
    },
    {
      "cell_type": "code",
      "source": [
        "# Imprimo pasos intermedios para 10a\n",
        "print(f'Texto antes de procesarlo: \\n {user_input_10a}')\n",
        "result = spacy_process(user_input_10a)\n",
        "print(f'Texto después de la pipeline: \\n {result}')"
      ],
      "metadata": {
        "colab": {
          "base_uri": "https://localhost:8080/"
        },
        "id": "wtPsjewAhkWA",
        "outputId": "ce396697-f294-4838-82e1-1ec44ab751eb"
      },
      "execution_count": 109,
      "outputs": [
        {
          "output_type": "stream",
          "name": "stdout",
          "text": [
            "Texto antes de procesarlo: \n",
            " es todo un invento\n",
            "Tokenize+Lemmatize:\n",
            "['ser', 'todo', 'uno', 'invento']\n",
            "Remove stopword & punctuation: \n",
            "['invento']\n",
            "Texto después de la pipeline: \n",
            " ['invento']\n"
          ]
        }
      ]
    },
    {
      "cell_type": "code",
      "source": [
        "user_input_10b = 'la teoria de los vampiros'\n",
        "respuesta_10b = generate_response(user_input_10b, corpus)\n",
        "respuesta_10b"
      ],
      "metadata": {
        "colab": {
          "base_uri": "https://localhost:8080/",
          "height": 35
        },
        "id": "bd9N2vt2zbo1",
        "outputId": "282f7241-7ed0-4196-bc3b-7cd1a4844677"
      },
      "execution_count": 97,
      "outputs": [
        {
          "output_type": "execute_result",
          "data": {
            "text/plain": [
              "'lisa, los vampiros son seres inventados, como los duendes, los gremlins y los esquimales'"
            ],
            "application/vnd.google.colaboratory.intrinsic+json": {
              "type": "string"
            }
          },
          "metadata": {},
          "execution_count": 97
        }
      ]
    },
    {
      "cell_type": "code",
      "source": [
        "# Imprimo pasos intermedios para 10b\n",
        "print(f'Texto antes de procesarlo: \\n {user_input_10b}')\n",
        "result = spacy_process(user_input_10b)\n",
        "print(f'Texto después de la pipeline: \\n {result}')"
      ],
      "metadata": {
        "colab": {
          "base_uri": "https://localhost:8080/"
        },
        "id": "Pt-79KyHhfPl",
        "outputId": "7dae2268-14e2-4fbf-e7a6-c977ef368430"
      },
      "execution_count": 110,
      "outputs": [
        {
          "output_type": "stream",
          "name": "stdout",
          "text": [
            "Texto antes de procesarlo: \n",
            " la teoria de los vampiros\n",
            "Tokenize+Lemmatize:\n",
            "['el', 'teoria', 'de', 'el', 'vampiro']\n",
            "Remove stopword & punctuation: \n",
            "['teoria', 'vampiro']\n",
            "Texto después de la pipeline: \n",
            " ['teoria', 'vampiro']\n"
          ]
        }
      ]
    },
    {
      "cell_type": "code",
      "source": [
        "user_input_10c = 'drácula el vampiro'\n",
        "respuesta_10c = generate_response(user_input_10c, corpus)\n",
        "respuesta_10c"
      ],
      "metadata": {
        "colab": {
          "base_uri": "https://localhost:8080/",
          "height": 35
        },
        "id": "r-kPjENJRt7Y",
        "outputId": "723b3b0f-b992-4a08-9bdb-51d0309a1a04"
      },
      "execution_count": 103,
      "outputs": [
        {
          "output_type": "execute_result",
          "data": {
            "text/plain": [
              "'lisa, los vampiros son seres inventados, como los duendes, los gremlins y los esquimales'"
            ],
            "application/vnd.google.colaboratory.intrinsic+json": {
              "type": "string"
            }
          },
          "metadata": {},
          "execution_count": 103
        }
      ]
    },
    {
      "cell_type": "code",
      "source": [
        "# Imprimo pasos intermedios para 10c\n",
        "print(f'Texto antes de procesarlo: \\n {user_input_10c}')\n",
        "result = spacy_process(user_input_10c)\n",
        "print(f'Texto después de la pipeline: \\n {result}')"
      ],
      "metadata": {
        "colab": {
          "base_uri": "https://localhost:8080/"
        },
        "id": "joKoX7qvht-e",
        "outputId": "8840d100-d104-40cd-bc81-e20ec124ce51"
      },
      "execution_count": 111,
      "outputs": [
        {
          "output_type": "stream",
          "name": "stdout",
          "text": [
            "Texto antes de procesarlo: \n",
            " drácula el vampiro\n",
            "Tokenize+Lemmatize:\n",
            "['dracula', 'el', 'vampiro']\n",
            "Remove stopword & punctuation: \n",
            "['dracula', 'vampiro']\n",
            "Texto después de la pipeline: \n",
            " ['dracula', 'vampiro']\n"
          ]
        }
      ]
    },
    {
      "cell_type": "code",
      "source": [
        "# Imprimo pasos intermedios para la frase original\n",
        "print(f'Texto antes de procesarlo: \\n \"lisa, los vampiros son seres inventados, como los duendes, los gremlins y los esquimales\"')\n",
        "result = spacy_process('lisa, los vampiros son seres inventados, como los duendes, los gremlins y los esquimales')\n",
        "print(f'Texto después de la pipeline: \\n {result}')"
      ],
      "metadata": {
        "colab": {
          "base_uri": "https://localhost:8080/"
        },
        "id": "Dic5KHMRmmT0",
        "outputId": "5d2219dc-0dee-4349-974a-b3658955165a"
      },
      "execution_count": 112,
      "outputs": [
        {
          "output_type": "stream",
          "name": "stdout",
          "text": [
            "Texto antes de procesarlo: \n",
            " \"lisa, los vampiros son seres inventados, como los duendes, los gremlins y los esquimales\"\n",
            "Tokenize+Lemmatize:\n",
            "['liso', 'el', 'vampiro', 'ser', 'ser', 'inventado', 'como', 'el', 'duende', 'el', 'gremlin', 'y', 'el', 'esquimal']\n",
            "Remove stopword & punctuation: \n",
            "['liso', 'vampiro', 'inventado', 'duende', 'gremlin', 'esquimal']\n",
            "Texto después de la pipeline: \n",
            " ['liso', 'vampiro', 'inventado', 'duende', 'gremlin', 'esquimal']\n"
          ]
        }
      ]
    },
    {
      "cell_type": "markdown",
      "metadata": {
        "id": "U0NCSOHbwd_O"
      },
      "source": [
        "### Conclusiones"
      ]
    },
    {
      "cell_type": "markdown",
      "metadata": {
        "id": "24RMCBzJwd_O"
      },
      "source": [
        "Descripción del bot: Se implementó un Bot en español con librería Spacy Stanza. El bot busca la respuesta por medio del cálculo de Similitud coseno comparando con todas las frases de un corpus previamente transformadas con TF-IDF. El texto del corpus fue tomado de una página Web que contiene frases icónicas de los Simpsons. Para el corpus se seleccionaron únicamente las frases en español latino. El corpus final utilizado contiene 174 documentos.\n",
        "\n",
        "1.   La mayor parte del trabajo de este Bot fue en el armado del corpus, ya que requirió una considerable cantidad de procesamiento para que se pueda utilizar correctamente. Se observaron las dificultades de trabajar con idioma español en este proceso inicial, entre otras razones por la complexidad adicional que introducen las tildes y otros caracteres.\n",
        "\n",
        "2.   El bot funciona muy bien cuando se le pasa una palabra distintiva como por ejemplo \"vampiro\", \"Superman\" o \"ensalada\". Estas son las palabras que \"sobreviven\" al proceso que aplica la pipeline de Spacy y que se utilizan luego en la comparación usando similitud coseno.\n",
        "\n",
        "* Esto se hace evidente cuando por ejemplo se le pasa al bot la frase de entrada \"es todo un invento\", porque el bot no encuentra match con ninguno de los documentos del corpus (devuelve la frase \"Estamos hablando de comida, no?\" que corresponde a similiridad nula). Esto es porque después de la tokenización y lematización, solo queda la palabra \"invento\" que no aparece ninguna vez en el texto. \n",
        "* Si en cambio se ingresa la frase \"drácula el vampiro\", el bot encuentra la frase \"lisa, los vampiros son seres inventados, como los duendes, los gremlins y los esquimales\". En este caso, hay match a través de la palabra \"vampiro\" (a pesar que la frase original utiliza \"vampiros\" ésta se transforma en \"vampiro\" con Spacy).\n",
        "\n",
        "\n",
        "\n",
        "\n",
        "\n",
        "\n",
        "\n",
        "\n"
      ]
    }
  ],
  "metadata": {
    "colab": {
      "collapsed_sections": [],
      "provenance": []
    },
    "kernelspec": {
      "display_name": "Python 3",
      "language": "python",
      "name": "python3"
    },
    "language_info": {
      "codemirror_mode": {
        "name": "ipython",
        "version": 3
      },
      "file_extension": ".py",
      "mimetype": "text/x-python",
      "name": "python",
      "nbconvert_exporter": "python",
      "pygments_lexer": "ipython3",
      "version": "3.8.10"
    },
    "widgets": {
      "application/vnd.jupyter.widget-state+json": {
        "543a6941ece249fda88443ffd0bbc0fe": {
          "model_module": "@jupyter-widgets/controls",
          "model_name": "HBoxModel",
          "model_module_version": "1.5.0",
          "state": {
            "_dom_classes": [],
            "_model_module": "@jupyter-widgets/controls",
            "_model_module_version": "1.5.0",
            "_model_name": "HBoxModel",
            "_view_count": null,
            "_view_module": "@jupyter-widgets/controls",
            "_view_module_version": "1.5.0",
            "_view_name": "HBoxView",
            "box_style": "",
            "children": [
              "IPY_MODEL_9ecc2ed1b1db4057a7e7849da5ccf122",
              "IPY_MODEL_2e05533ade884e40a19ff87a4a1cef60",
              "IPY_MODEL_f2c037d62b964e54a44fd547b889b220"
            ],
            "layout": "IPY_MODEL_a86bcc179bfb4e12a5417154eda1ba40"
          }
        },
        "9ecc2ed1b1db4057a7e7849da5ccf122": {
          "model_module": "@jupyter-widgets/controls",
          "model_name": "HTMLModel",
          "model_module_version": "1.5.0",
          "state": {
            "_dom_classes": [],
            "_model_module": "@jupyter-widgets/controls",
            "_model_module_version": "1.5.0",
            "_model_name": "HTMLModel",
            "_view_count": null,
            "_view_module": "@jupyter-widgets/controls",
            "_view_module_version": "1.5.0",
            "_view_name": "HTMLView",
            "description": "",
            "description_tooltip": null,
            "layout": "IPY_MODEL_50cc411e0cc643628d5de2a5dfe63e7a",
            "placeholder": "​",
            "style": "IPY_MODEL_56cba7866c3b43b586be35d0c841783c",
            "value": "Downloading https://raw.githubusercontent.com/stanfordnlp/stanza-resources/main/resources_1.2.2.json: "
          }
        },
        "2e05533ade884e40a19ff87a4a1cef60": {
          "model_module": "@jupyter-widgets/controls",
          "model_name": "FloatProgressModel",
          "model_module_version": "1.5.0",
          "state": {
            "_dom_classes": [],
            "_model_module": "@jupyter-widgets/controls",
            "_model_module_version": "1.5.0",
            "_model_name": "FloatProgressModel",
            "_view_count": null,
            "_view_module": "@jupyter-widgets/controls",
            "_view_module_version": "1.5.0",
            "_view_name": "ProgressView",
            "bar_style": "success",
            "description": "",
            "description_tooltip": null,
            "layout": "IPY_MODEL_cd011356c825483ab08230a1c9a76b42",
            "max": 24144,
            "min": 0,
            "orientation": "horizontal",
            "style": "IPY_MODEL_8ee8d23071a14e089160e809479de11f",
            "value": 24144
          }
        },
        "f2c037d62b964e54a44fd547b889b220": {
          "model_module": "@jupyter-widgets/controls",
          "model_name": "HTMLModel",
          "model_module_version": "1.5.0",
          "state": {
            "_dom_classes": [],
            "_model_module": "@jupyter-widgets/controls",
            "_model_module_version": "1.5.0",
            "_model_name": "HTMLModel",
            "_view_count": null,
            "_view_module": "@jupyter-widgets/controls",
            "_view_module_version": "1.5.0",
            "_view_name": "HTMLView",
            "description": "",
            "description_tooltip": null,
            "layout": "IPY_MODEL_3487e85f2bb249958b6b875fb34bf128",
            "placeholder": "​",
            "style": "IPY_MODEL_681a5b1788654ae3944de1c5cbe9b459",
            "value": " 140k/? [00:00&lt;00:00, 2.89MB/s]"
          }
        },
        "a86bcc179bfb4e12a5417154eda1ba40": {
          "model_module": "@jupyter-widgets/base",
          "model_name": "LayoutModel",
          "model_module_version": "1.2.0",
          "state": {
            "_model_module": "@jupyter-widgets/base",
            "_model_module_version": "1.2.0",
            "_model_name": "LayoutModel",
            "_view_count": null,
            "_view_module": "@jupyter-widgets/base",
            "_view_module_version": "1.2.0",
            "_view_name": "LayoutView",
            "align_content": null,
            "align_items": null,
            "align_self": null,
            "border": null,
            "bottom": null,
            "display": null,
            "flex": null,
            "flex_flow": null,
            "grid_area": null,
            "grid_auto_columns": null,
            "grid_auto_flow": null,
            "grid_auto_rows": null,
            "grid_column": null,
            "grid_gap": null,
            "grid_row": null,
            "grid_template_areas": null,
            "grid_template_columns": null,
            "grid_template_rows": null,
            "height": null,
            "justify_content": null,
            "justify_items": null,
            "left": null,
            "margin": null,
            "max_height": null,
            "max_width": null,
            "min_height": null,
            "min_width": null,
            "object_fit": null,
            "object_position": null,
            "order": null,
            "overflow": null,
            "overflow_x": null,
            "overflow_y": null,
            "padding": null,
            "right": null,
            "top": null,
            "visibility": null,
            "width": null
          }
        },
        "50cc411e0cc643628d5de2a5dfe63e7a": {
          "model_module": "@jupyter-widgets/base",
          "model_name": "LayoutModel",
          "model_module_version": "1.2.0",
          "state": {
            "_model_module": "@jupyter-widgets/base",
            "_model_module_version": "1.2.0",
            "_model_name": "LayoutModel",
            "_view_count": null,
            "_view_module": "@jupyter-widgets/base",
            "_view_module_version": "1.2.0",
            "_view_name": "LayoutView",
            "align_content": null,
            "align_items": null,
            "align_self": null,
            "border": null,
            "bottom": null,
            "display": null,
            "flex": null,
            "flex_flow": null,
            "grid_area": null,
            "grid_auto_columns": null,
            "grid_auto_flow": null,
            "grid_auto_rows": null,
            "grid_column": null,
            "grid_gap": null,
            "grid_row": null,
            "grid_template_areas": null,
            "grid_template_columns": null,
            "grid_template_rows": null,
            "height": null,
            "justify_content": null,
            "justify_items": null,
            "left": null,
            "margin": null,
            "max_height": null,
            "max_width": null,
            "min_height": null,
            "min_width": null,
            "object_fit": null,
            "object_position": null,
            "order": null,
            "overflow": null,
            "overflow_x": null,
            "overflow_y": null,
            "padding": null,
            "right": null,
            "top": null,
            "visibility": null,
            "width": null
          }
        },
        "56cba7866c3b43b586be35d0c841783c": {
          "model_module": "@jupyter-widgets/controls",
          "model_name": "DescriptionStyleModel",
          "model_module_version": "1.5.0",
          "state": {
            "_model_module": "@jupyter-widgets/controls",
            "_model_module_version": "1.5.0",
            "_model_name": "DescriptionStyleModel",
            "_view_count": null,
            "_view_module": "@jupyter-widgets/base",
            "_view_module_version": "1.2.0",
            "_view_name": "StyleView",
            "description_width": ""
          }
        },
        "cd011356c825483ab08230a1c9a76b42": {
          "model_module": "@jupyter-widgets/base",
          "model_name": "LayoutModel",
          "model_module_version": "1.2.0",
          "state": {
            "_model_module": "@jupyter-widgets/base",
            "_model_module_version": "1.2.0",
            "_model_name": "LayoutModel",
            "_view_count": null,
            "_view_module": "@jupyter-widgets/base",
            "_view_module_version": "1.2.0",
            "_view_name": "LayoutView",
            "align_content": null,
            "align_items": null,
            "align_self": null,
            "border": null,
            "bottom": null,
            "display": null,
            "flex": null,
            "flex_flow": null,
            "grid_area": null,
            "grid_auto_columns": null,
            "grid_auto_flow": null,
            "grid_auto_rows": null,
            "grid_column": null,
            "grid_gap": null,
            "grid_row": null,
            "grid_template_areas": null,
            "grid_template_columns": null,
            "grid_template_rows": null,
            "height": null,
            "justify_content": null,
            "justify_items": null,
            "left": null,
            "margin": null,
            "max_height": null,
            "max_width": null,
            "min_height": null,
            "min_width": null,
            "object_fit": null,
            "object_position": null,
            "order": null,
            "overflow": null,
            "overflow_x": null,
            "overflow_y": null,
            "padding": null,
            "right": null,
            "top": null,
            "visibility": null,
            "width": null
          }
        },
        "8ee8d23071a14e089160e809479de11f": {
          "model_module": "@jupyter-widgets/controls",
          "model_name": "ProgressStyleModel",
          "model_module_version": "1.5.0",
          "state": {
            "_model_module": "@jupyter-widgets/controls",
            "_model_module_version": "1.5.0",
            "_model_name": "ProgressStyleModel",
            "_view_count": null,
            "_view_module": "@jupyter-widgets/base",
            "_view_module_version": "1.2.0",
            "_view_name": "StyleView",
            "bar_color": null,
            "description_width": ""
          }
        },
        "3487e85f2bb249958b6b875fb34bf128": {
          "model_module": "@jupyter-widgets/base",
          "model_name": "LayoutModel",
          "model_module_version": "1.2.0",
          "state": {
            "_model_module": "@jupyter-widgets/base",
            "_model_module_version": "1.2.0",
            "_model_name": "LayoutModel",
            "_view_count": null,
            "_view_module": "@jupyter-widgets/base",
            "_view_module_version": "1.2.0",
            "_view_name": "LayoutView",
            "align_content": null,
            "align_items": null,
            "align_self": null,
            "border": null,
            "bottom": null,
            "display": null,
            "flex": null,
            "flex_flow": null,
            "grid_area": null,
            "grid_auto_columns": null,
            "grid_auto_flow": null,
            "grid_auto_rows": null,
            "grid_column": null,
            "grid_gap": null,
            "grid_row": null,
            "grid_template_areas": null,
            "grid_template_columns": null,
            "grid_template_rows": null,
            "height": null,
            "justify_content": null,
            "justify_items": null,
            "left": null,
            "margin": null,
            "max_height": null,
            "max_width": null,
            "min_height": null,
            "min_width": null,
            "object_fit": null,
            "object_position": null,
            "order": null,
            "overflow": null,
            "overflow_x": null,
            "overflow_y": null,
            "padding": null,
            "right": null,
            "top": null,
            "visibility": null,
            "width": null
          }
        },
        "681a5b1788654ae3944de1c5cbe9b459": {
          "model_module": "@jupyter-widgets/controls",
          "model_name": "DescriptionStyleModel",
          "model_module_version": "1.5.0",
          "state": {
            "_model_module": "@jupyter-widgets/controls",
            "_model_module_version": "1.5.0",
            "_model_name": "DescriptionStyleModel",
            "_view_count": null,
            "_view_module": "@jupyter-widgets/base",
            "_view_module_version": "1.2.0",
            "_view_name": "StyleView",
            "description_width": ""
          }
        }
      }
    }
  },
  "nbformat": 4,
  "nbformat_minor": 0
}