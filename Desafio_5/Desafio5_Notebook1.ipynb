{
  "cells": [
    {
      "cell_type": "markdown",
      "metadata": {
        "id": "kBLpTr7plguX"
      },
      "source": [
        "<img src=\"https://github.com/hernancontigiani/ceia_memorias_especializacion/raw/master/Figures/logoFIUBA.jpg\" width=\"500\" align=\"center\">\n",
        "\n",
        "\n",
        "# Procesamiento de lenguaje natural\n",
        "## Sentiment analysis con Embeddings + LSTM (Con Stop words)\n",
        "### Notebook Nro 1: Con Stop words"
      ]
    },
    {
      "cell_type": "markdown",
      "metadata": {
        "id": "aQ8aGQ_AifRY"
      },
      "source": [
        "### Alumna: Ariadna Garmendia"
      ]
    },
    {
      "cell_type": "markdown",
      "metadata": {
        "id": "9W6nuajhlqZD"
      },
      "source": [
        "### Objetivo\n",
        "El objetivo es utilizar las críticas de compradores de ropa para que el sistema determine la evaluación del comprador y su crítica (cuantas estrellas le asigna al producto)."
      ]
    },
    {
      "cell_type": "code",
      "execution_count": 65,
      "metadata": {
        "id": "i6zvzv3qZ6xS"
      },
      "outputs": [],
      "source": [
        "#!pip install --upgrade --no-cache-dir gdown --quiet"
      ]
    },
    {
      "cell_type": "code",
      "execution_count": 66,
      "metadata": {
        "id": "hCpOVzJdl8_p"
      },
      "outputs": [],
      "source": [
        "import numpy as np\n",
        "import random\n",
        "import io\n",
        "import pickle\n",
        "import pandas as pd\n",
        "\n",
        "import matplotlib.pyplot as plt\n",
        "import seaborn as sns\n",
        "\n",
        "import tensorflow as tf\n",
        "from tensorflow import keras\n",
        "from tensorflow.keras import layers\n",
        "\n",
        "from keras.utils.np_utils import to_categorical\n",
        "from tensorflow.keras.utils import pad_sequences\n",
        "from keras.models import Sequential\n",
        "from keras.layers import Dense\n",
        "from keras.layers import LSTM\n",
        "from keras.layers import Embedding\n",
        "\n",
        "import seaborn as sns"
      ]
    },
    {
      "cell_type": "markdown",
      "metadata": {
        "id": "8UPeRkrAmbF3"
      },
      "source": [
        "### Datos\n",
        "Utilizaremos como dataset críticas de compradores de ropa (eCommerce) los cuales puntuaron a cada prenda con un puntaje de 1 a 5 estrellas.\\\n",
        "Referencia del dataset: [LINK](https://www.kaggle.com/nicapotato/womens-ecommerce-clothing-reviews/version/1)"
      ]
    },
    {
      "cell_type": "code",
      "execution_count": 67,
      "metadata": {
        "colab": {
          "base_uri": "https://localhost:8080/",
          "height": 302
        },
        "id": "o-SV1P3dnD1J",
        "outputId": "7bebb7f4-b473-41b0-e789-e4ebebd6cf3a"
      },
      "outputs": [
        {
          "data": {
            "text/html": [
              "<div>\n",
              "<style scoped>\n",
              "    .dataframe tbody tr th:only-of-type {\n",
              "        vertical-align: middle;\n",
              "    }\n",
              "\n",
              "    .dataframe tbody tr th {\n",
              "        vertical-align: top;\n",
              "    }\n",
              "\n",
              "    .dataframe thead th {\n",
              "        text-align: right;\n",
              "    }\n",
              "</style>\n",
              "<table border=\"1\" class=\"dataframe\">\n",
              "  <thead>\n",
              "    <tr style=\"text-align: right;\">\n",
              "      <th></th>\n",
              "      <th>Clothing ID</th>\n",
              "      <th>Age</th>\n",
              "      <th>Title</th>\n",
              "      <th>Review Text</th>\n",
              "      <th>Rating</th>\n",
              "      <th>Recommended IND</th>\n",
              "      <th>Positive Feedback Count</th>\n",
              "      <th>Division Name</th>\n",
              "      <th>Department Name</th>\n",
              "      <th>Class Name</th>\n",
              "    </tr>\n",
              "  </thead>\n",
              "  <tbody>\n",
              "    <tr>\n",
              "      <th>0</th>\n",
              "      <td>767</td>\n",
              "      <td>33</td>\n",
              "      <td>NaN</td>\n",
              "      <td>Absolutely wonderful - silky and sexy and comf...</td>\n",
              "      <td>4</td>\n",
              "      <td>1</td>\n",
              "      <td>0</td>\n",
              "      <td>Initmates</td>\n",
              "      <td>Intimate</td>\n",
              "      <td>Intimates</td>\n",
              "    </tr>\n",
              "    <tr>\n",
              "      <th>1</th>\n",
              "      <td>1080</td>\n",
              "      <td>34</td>\n",
              "      <td>NaN</td>\n",
              "      <td>Love this dress!  it's sooo pretty.  i happene...</td>\n",
              "      <td>5</td>\n",
              "      <td>1</td>\n",
              "      <td>4</td>\n",
              "      <td>General</td>\n",
              "      <td>Dresses</td>\n",
              "      <td>Dresses</td>\n",
              "    </tr>\n",
              "    <tr>\n",
              "      <th>2</th>\n",
              "      <td>1077</td>\n",
              "      <td>60</td>\n",
              "      <td>Some major design flaws</td>\n",
              "      <td>I had such high hopes for this dress and reall...</td>\n",
              "      <td>3</td>\n",
              "      <td>0</td>\n",
              "      <td>0</td>\n",
              "      <td>General</td>\n",
              "      <td>Dresses</td>\n",
              "      <td>Dresses</td>\n",
              "    </tr>\n",
              "    <tr>\n",
              "      <th>3</th>\n",
              "      <td>1049</td>\n",
              "      <td>50</td>\n",
              "      <td>My favorite buy!</td>\n",
              "      <td>I love, love, love this jumpsuit. it's fun, fl...</td>\n",
              "      <td>5</td>\n",
              "      <td>1</td>\n",
              "      <td>0</td>\n",
              "      <td>General Petite</td>\n",
              "      <td>Bottoms</td>\n",
              "      <td>Pants</td>\n",
              "    </tr>\n",
              "    <tr>\n",
              "      <th>4</th>\n",
              "      <td>847</td>\n",
              "      <td>47</td>\n",
              "      <td>Flattering shirt</td>\n",
              "      <td>This shirt is very flattering to all due to th...</td>\n",
              "      <td>5</td>\n",
              "      <td>1</td>\n",
              "      <td>6</td>\n",
              "      <td>General</td>\n",
              "      <td>Tops</td>\n",
              "      <td>Blouses</td>\n",
              "    </tr>\n",
              "  </tbody>\n",
              "</table>\n",
              "</div>"
            ],
            "text/plain": [
              "   Clothing ID  Age                    Title  \\\n",
              "0          767   33                      NaN   \n",
              "1         1080   34                      NaN   \n",
              "2         1077   60  Some major design flaws   \n",
              "3         1049   50         My favorite buy!   \n",
              "4          847   47         Flattering shirt   \n",
              "\n",
              "                                         Review Text  Rating  Recommended IND  \\\n",
              "0  Absolutely wonderful - silky and sexy and comf...       4                1   \n",
              "1  Love this dress!  it's sooo pretty.  i happene...       5                1   \n",
              "2  I had such high hopes for this dress and reall...       3                0   \n",
              "3  I love, love, love this jumpsuit. it's fun, fl...       5                1   \n",
              "4  This shirt is very flattering to all due to th...       5                1   \n",
              "\n",
              "   Positive Feedback Count   Division Name Department Name Class Name  \n",
              "0                        0       Initmates        Intimate  Intimates  \n",
              "1                        4         General         Dresses    Dresses  \n",
              "2                        0         General         Dresses    Dresses  \n",
              "3                        0  General Petite         Bottoms      Pants  \n",
              "4                        6         General            Tops    Blouses  "
            ]
          },
          "execution_count": 67,
          "metadata": {},
          "output_type": "execute_result"
        }
      ],
      "source": [
        "# Armar el dataset\n",
        "df = pd.read_csv('dataset/clothing_ecommerce_reviews.csv')\n",
        "df.drop(columns = ['Unnamed: 0'], inplace = True)\n",
        "df.head()"
      ]
    },
    {
      "cell_type": "markdown",
      "metadata": {
        "id": "q-OwSePKm-FK"
      },
      "source": [
        "### 1 - Limpieza de datos\n",
        "Alumno:\n",
        "- Del dataset unicamente utilizar las columnas \"Review Text\" y \"Rating.\n",
        "- Tranformar el rating 1-5 a una escala numérica de 0 a 4.\n",
        "\n"
      ]
    },
    {
      "cell_type": "code",
      "execution_count": 68,
      "metadata": {
        "colab": {
          "base_uri": "https://localhost:8080/",
          "height": 206
        },
        "id": "-hc7-AmYnPC3",
        "outputId": "ccf47a95-06e5-42da-c977-98225ccb1492"
      },
      "outputs": [
        {
          "data": {
            "text/html": [
              "<div>\n",
              "<style scoped>\n",
              "    .dataframe tbody tr th:only-of-type {\n",
              "        vertical-align: middle;\n",
              "    }\n",
              "\n",
              "    .dataframe tbody tr th {\n",
              "        vertical-align: top;\n",
              "    }\n",
              "\n",
              "    .dataframe thead th {\n",
              "        text-align: right;\n",
              "    }\n",
              "</style>\n",
              "<table border=\"1\" class=\"dataframe\">\n",
              "  <thead>\n",
              "    <tr style=\"text-align: right;\">\n",
              "      <th></th>\n",
              "      <th>Review Text</th>\n",
              "      <th>Rating</th>\n",
              "    </tr>\n",
              "  </thead>\n",
              "  <tbody>\n",
              "    <tr>\n",
              "      <th>0</th>\n",
              "      <td>Absolutely wonderful - silky and sexy and comf...</td>\n",
              "      <td>3</td>\n",
              "    </tr>\n",
              "    <tr>\n",
              "      <th>1</th>\n",
              "      <td>Love this dress!  it's sooo pretty.  i happene...</td>\n",
              "      <td>4</td>\n",
              "    </tr>\n",
              "    <tr>\n",
              "      <th>2</th>\n",
              "      <td>I had such high hopes for this dress and reall...</td>\n",
              "      <td>2</td>\n",
              "    </tr>\n",
              "    <tr>\n",
              "      <th>3</th>\n",
              "      <td>I love, love, love this jumpsuit. it's fun, fl...</td>\n",
              "      <td>4</td>\n",
              "    </tr>\n",
              "    <tr>\n",
              "      <th>4</th>\n",
              "      <td>This shirt is very flattering to all due to th...</td>\n",
              "      <td>4</td>\n",
              "    </tr>\n",
              "  </tbody>\n",
              "</table>\n",
              "</div>"
            ],
            "text/plain": [
              "                                         Review Text  Rating\n",
              "0  Absolutely wonderful - silky and sexy and comf...       3\n",
              "1  Love this dress!  it's sooo pretty.  i happene...       4\n",
              "2  I had such high hopes for this dress and reall...       2\n",
              "3  I love, love, love this jumpsuit. it's fun, fl...       4\n",
              "4  This shirt is very flattering to all due to th...       4"
            ]
          },
          "execution_count": 68,
          "metadata": {},
          "output_type": "execute_result"
        }
      ],
      "source": [
        "df_reviews = df.loc[:, ['Review Text', 'Rating']].dropna()\n",
        "df_reviews['Rating'] = df_reviews['Rating'] - 1\n",
        "df_reviews.head()"
      ]
    },
    {
      "cell_type": "code",
      "execution_count": 69,
      "metadata": {
        "colab": {
          "base_uri": "https://localhost:8080/"
        },
        "id": "ZTxXQ1_ZIaVD",
        "outputId": "4c59ef57-335b-4a61-ef0b-16eae6c7ea1c"
      },
      "outputs": [
        {
          "data": {
            "text/plain": [
              "False"
            ]
          },
          "execution_count": 69,
          "metadata": {},
          "output_type": "execute_result"
        }
      ],
      "source": [
        "# Verifico que no hayan quedado Nans\n",
        "df_reviews.isnull().values.any()"
      ]
    },
    {
      "cell_type": "code",
      "execution_count": 70,
      "metadata": {
        "colab": {
          "base_uri": "https://localhost:8080/"
        },
        "id": "E7X1Q4QCLMrv",
        "outputId": "91143331-5b08-44d3-c427-2f438b267475"
      },
      "outputs": [
        {
          "data": {
            "text/plain": [
              "(22641, 2)"
            ]
          },
          "execution_count": 70,
          "metadata": {},
          "output_type": "execute_result"
        }
      ],
      "source": [
        "# Reviso las dimensiones\n",
        "df_reviews.shape"
      ]
    },
    {
      "cell_type": "code",
      "execution_count": 71,
      "metadata": {
        "colab": {
          "base_uri": "https://localhost:8080/"
        },
        "id": "sZtvASVOn3ty",
        "outputId": "e3520af7-7c86-43f3-8985-d90a4ca64eac"
      },
      "outputs": [
        {
          "data": {
            "text/plain": [
              "4    12540\n",
              "3     4908\n",
              "2     2823\n",
              "1     1549\n",
              "0      821\n",
              "Name: Rating, dtype: int64"
            ]
          },
          "execution_count": 71,
          "metadata": {},
          "output_type": "execute_result"
        }
      ],
      "source": [
        "# Alumno: Observar como está distribuido el dataset respecto a la columna Rating\n",
        "# es decir, observar que tan balanceado se encuentra respecot a cada clase\n",
        "\n",
        "df_reviews.Rating.value_counts()"
      ]
    },
    {
      "cell_type": "code",
      "execution_count": 72,
      "metadata": {
        "colab": {
          "base_uri": "https://localhost:8080/",
          "height": 335
        },
        "id": "Cw77DkHBLEiv",
        "outputId": "e364c3ce-d65f-401e-9ac4-166a6bf7035b"
      },
      "outputs": [
        {
          "name": "stderr",
          "output_type": "stream",
          "text": [
            "/Library/Frameworks/Python.framework/Versions/3.10/lib/python3.10/site-packages/seaborn/_decorators.py:36: FutureWarning: Pass the following variable as a keyword arg: x. From version 0.12, the only valid positional argument will be `data`, and passing other arguments without an explicit keyword will result in an error or misinterpretation.\n",
            "  warnings.warn(\n"
          ]
        },
        {
          "data": {
            "image/png": "[encoded data removed]",
            "text/plain": [
              "<Figure size 432x288 with 1 Axes>"
            ]
          },
          "metadata": {
            "needs_background": "light"
          },
          "output_type": "display_data"
        }
      ],
      "source": [
        "sns.countplot(df_reviews.Rating)\n",
        "plt.show()\n"
      ]
    },
    {
      "cell_type": "code",
      "execution_count": 73,
      "metadata": {
        "colab": {
          "base_uri": "https://localhost:8080/"
        },
        "id": "gVJ_RVi4o1h3",
        "outputId": "d8f7a099-292d-48d1-b8f4-485c38ef2452"
      },
      "outputs": [
        {
          "data": {
            "text/plain": [
              "(22641,)"
            ]
          },
          "execution_count": 73,
          "metadata": {},
          "output_type": "execute_result"
        }
      ],
      "source": [
        "# Alumno: tomar la columna de las review y almacenarlo todo en un vector numpy de reviews\n",
        "text_sequences = df_reviews['Review Text'].values\n",
        "text_sequences.shape"
      ]
    },
    {
      "cell_type": "code",
      "execution_count": 74,
      "metadata": {
        "colab": {
          "base_uri": "https://localhost:8080/"
        },
        "id": "4nT5Un_co65Q",
        "outputId": "dcd68252-d87c-490a-dd52-7be181c26b35"
      },
      "outputs": [
        {
          "data": {
            "text/plain": [
              "22641"
            ]
          },
          "execution_count": 74,
          "metadata": {},
          "output_type": "execute_result"
        }
      ],
      "source": [
        "# Alumno: Cuantas reviews (rows) hay para evaluar?\n",
        "len(text_sequences)"
      ]
    },
    {
      "cell_type": "code",
      "execution_count": 75,
      "metadata": {
        "id": "HP5uN9tqpHu_"
      },
      "outputs": [],
      "source": [
        "# Alumno: Concatenar todas las reviews para armar el corpus\n",
        "corpus = ' '.join(text_sequences)"
      ]
    },
    {
      "cell_type": "code",
      "execution_count": 76,
      "metadata": {
        "colab": {
          "base_uri": "https://localhost:8080/",
          "height": 143
        },
        "id": "eZvrW4D5PrBW",
        "outputId": "624d9d24-2de1-409c-f359-c8ca80dcda3d"
      },
      "outputs": [],
      "source": [
        "#corpus"
      ]
    },
    {
      "cell_type": "code",
      "execution_count": 77,
      "metadata": {
        "colab": {
          "base_uri": "https://localhost:8080/"
        },
        "id": "FEzmePgdpf74",
        "outputId": "c9239b05-a26f-4448-9e6e-c85e1488671a"
      },
      "outputs": [
        {
          "data": {
            "text/plain": [
              "7011643"
            ]
          },
          "execution_count": 77,
          "metadata": {},
          "output_type": "execute_result"
        }
      ],
      "source": [
        "# Alumno: ¿Cuál es la longitud de ese corpus?\n",
        "len(corpus)"
      ]
    },
    {
      "cell_type": "code",
      "execution_count": 78,
      "metadata": {
        "id": "MYeJLdDmpvOe"
      },
      "outputs": [],
      "source": [
        "# Alumno: Utilizar \"text_to_word_sequence\" para separar las palabras en tokens\n",
        "# recordar que text_to_word_sequence automaticamente quita los signos de puntuacion y pasa el texto a lowercase\n",
        "from keras.preprocessing.text import text_to_word_sequence\n",
        "tokens = text_to_word_sequence(corpus)"
      ]
    },
    {
      "cell_type": "code",
      "execution_count": 79,
      "metadata": {
        "colab": {
          "base_uri": "https://localhost:8080/"
        },
        "id": "M6L-fnWAp_lA",
        "outputId": "d3c38d05-66ec-4482-d25e-83085fb486fa"
      },
      "outputs": [
        {
          "data": {
            "text/plain": [
              "['absolutely',\n",
              " 'wonderful',\n",
              " 'silky',\n",
              " 'and',\n",
              " 'sexy',\n",
              " 'and',\n",
              " 'comfortable',\n",
              " 'love',\n",
              " 'this',\n",
              " 'dress',\n",
              " \"it's\",\n",
              " 'sooo',\n",
              " 'pretty',\n",
              " 'i',\n",
              " 'happened',\n",
              " 'to',\n",
              " 'find',\n",
              " 'it',\n",
              " 'in',\n",
              " 'a']"
            ]
          },
          "execution_count": 79,
          "metadata": {},
          "output_type": "execute_result"
        }
      ],
      "source": [
        "# Alumno: Dar un vistazo a los primeros 20 tokens/palabras\n",
        "tokens[0:20]"
      ]
    },
    {
      "cell_type": "code",
      "execution_count": 80,
      "metadata": {
        "colab": {
          "base_uri": "https://localhost:8080/"
        },
        "id": "-8QgwwMUqG0d",
        "outputId": "7291f5a3-d1a2-4121-974a-8f06e76b3752"
      },
      "outputs": [
        {
          "data": {
            "text/plain": [
              "1372203"
            ]
          },
          "execution_count": 80,
          "metadata": {},
          "output_type": "execute_result"
        }
      ],
      "source": [
        "# Alumno: ¿Cuántos tokens/palabras hay?\n",
        "len(tokens)"
      ]
    },
    {
      "cell_type": "code",
      "execution_count": 81,
      "metadata": {
        "id": "TFukNZdOsZ8_"
      },
      "outputs": [],
      "source": [
        "# Alumno: Tokenizar las palabras con el Tokenizer de Keras\n",
        "# Definir una máxima cantidad de palabras a utilizar:\n",
        "# num_words --> the maximum number of words to keep, based on word frequency.\n",
        "# Only the most common num_words-1 words will be kept.\n",
        "from keras.preprocessing.text import Tokenizer\n",
        "num_words = 2000\n",
        "vocab_size = num_words\n",
        "tok = Tokenizer(num_words=2000) \n",
        "tok.fit_on_texts(tokens)"
      ]
    },
    {
      "cell_type": "code",
      "execution_count": 82,
      "metadata": {
        "colab": {
          "base_uri": "https://localhost:8080/"
        },
        "id": "JnR1tlqZy94X",
        "outputId": "591a110a-02b7-406d-b984-639acc11ec15"
      },
      "outputs": [
        {
          "data": {
            "text/plain": [
              "14847"
            ]
          },
          "execution_count": 82,
          "metadata": {},
          "output_type": "execute_result"
        }
      ],
      "source": [
        "# Alumno: Obtener el diccionario de palabra (word) a índice\n",
        "# y observar la cantidad total del vocabulario\n",
        "word_index = tok.word_index\n",
        "len(word_index)"
      ]
    },
    {
      "cell_type": "code",
      "execution_count": 83,
      "metadata": {
        "colab": {
          "base_uri": "https://localhost:8080/"
        },
        "id": "AvWzzSretQXf",
        "outputId": "f6e33dcd-657b-4981-e8d2-995d620bcfe0"
      },
      "outputs": [
        {
          "data": {
            "text/plain": [
              "[253, 532, 917, 3, 662, 3, 68]"
            ]
          },
          "execution_count": 83,
          "metadata": {},
          "output_type": "execute_result"
        }
      ],
      "source": [
        "# Alumno: Convertir las palabras/tokens a números\n",
        "sequences = tok.texts_to_sequences(text_sequences)\n",
        "sequences[0][:10]"
      ]
    },
    {
      "cell_type": "code",
      "execution_count": 84,
      "metadata": {
        "colab": {
          "base_uri": "https://localhost:8080/"
        },
        "id": "za73M5SRtbrP",
        "outputId": "66a83645-fe95-4f5e-cc1a-b136d6b7427b"
      },
      "outputs": [
        {
          "data": {
            "text/plain": [
              "115"
            ]
          },
          "execution_count": 84,
          "metadata": {},
          "output_type": "execute_result"
        }
      ],
      "source": [
        "# Alumno: Determinar cual es la oración más larga\n",
        "max(len(s) for s in sequences)"
      ]
    },
    {
      "cell_type": "code",
      "execution_count": 85,
      "metadata": {
        "id": "oCkO9Wc9tls1"
      },
      "outputs": [],
      "source": [
        "# Alumno: Realizar padding de las sentencias al mismo tamaño\n",
        "# tomando de referencia la máxima sentencia\n",
        "from tensorflow.keras.utils import pad_sequences\n",
        "maxlen = 115\n",
        "\n",
        "# Al realizar padding obtener la variable \"X\" (input)\n",
        "X = pad_sequences(sequences, padding='pre', maxlen=maxlen)"
      ]
    },
    {
      "cell_type": "code",
      "execution_count": 86,
      "metadata": {
        "colab": {
          "base_uri": "https://localhost:8080/"
        },
        "id": "kGHHabVdt_aa",
        "outputId": "87ae7076-22fd-49b7-cbd6-f4d1d33ff23e"
      },
      "outputs": [
        {
          "data": {
            "text/plain": [
              "(22641, 115)"
            ]
          },
          "execution_count": 86,
          "metadata": {},
          "output_type": "execute_result"
        }
      ],
      "source": [
        "# Alumno: Observar las dimensiones de la variable input\n",
        "X.shape"
      ]
    },
    {
      "cell_type": "code",
      "execution_count": 87,
      "metadata": {
        "colab": {
          "base_uri": "https://localhost:8080/",
          "height": 224
        },
        "id": "llVM-tzQo9_F",
        "outputId": "0b0d16ab-63dd-40ee-eb28-0fea66b2d3b1"
      },
      "outputs": [
        {
          "name": "stdout",
          "output_type": "stream",
          "text": [
            "Dimensión de \"y\": (22641, 5)\n"
          ]
        },
        {
          "data": {
            "text/html": [
              "<div>\n",
              "<style scoped>\n",
              "    .dataframe tbody tr th:only-of-type {\n",
              "        vertical-align: middle;\n",
              "    }\n",
              "\n",
              "    .dataframe tbody tr th {\n",
              "        vertical-align: top;\n",
              "    }\n",
              "\n",
              "    .dataframe thead th {\n",
              "        text-align: right;\n",
              "    }\n",
              "</style>\n",
              "<table border=\"1\" class=\"dataframe\">\n",
              "  <thead>\n",
              "    <tr style=\"text-align: right;\">\n",
              "      <th></th>\n",
              "      <th>0</th>\n",
              "      <th>1</th>\n",
              "      <th>2</th>\n",
              "      <th>3</th>\n",
              "      <th>4</th>\n",
              "    </tr>\n",
              "  </thead>\n",
              "  <tbody>\n",
              "    <tr>\n",
              "      <th>0</th>\n",
              "      <td>0</td>\n",
              "      <td>0</td>\n",
              "      <td>0</td>\n",
              "      <td>1</td>\n",
              "      <td>0</td>\n",
              "    </tr>\n",
              "    <tr>\n",
              "      <th>1</th>\n",
              "      <td>0</td>\n",
              "      <td>0</td>\n",
              "      <td>0</td>\n",
              "      <td>0</td>\n",
              "      <td>1</td>\n",
              "    </tr>\n",
              "    <tr>\n",
              "      <th>2</th>\n",
              "      <td>0</td>\n",
              "      <td>0</td>\n",
              "      <td>1</td>\n",
              "      <td>0</td>\n",
              "      <td>0</td>\n",
              "    </tr>\n",
              "    <tr>\n",
              "      <th>3</th>\n",
              "      <td>0</td>\n",
              "      <td>0</td>\n",
              "      <td>0</td>\n",
              "      <td>0</td>\n",
              "      <td>1</td>\n",
              "    </tr>\n",
              "    <tr>\n",
              "      <th>4</th>\n",
              "      <td>0</td>\n",
              "      <td>0</td>\n",
              "      <td>0</td>\n",
              "      <td>0</td>\n",
              "      <td>1</td>\n",
              "    </tr>\n",
              "  </tbody>\n",
              "</table>\n",
              "</div>"
            ],
            "text/plain": [
              "   0  1  2  3  4\n",
              "0  0  0  0  1  0\n",
              "1  0  0  0  0  1\n",
              "2  0  0  1  0  0\n",
              "3  0  0  0  0  1\n",
              "4  0  0  0  0  1"
            ]
          },
          "execution_count": 87,
          "metadata": {},
          "output_type": "execute_result"
        }
      ],
      "source": [
        "# Alumno tomar la columna rating y alcemacenarla en una variable \"y\" transformada a oneHotEncoding\n",
        "# Su shape debe ser equivalente la cantidad de rows del corpus y a la cantidad\n",
        "# de clases que se deseen predecir (en este ejemplo son 5)\n",
        "\n",
        "y = pd.get_dummies(df_reviews.Rating)\n",
        "print(f'Dimensión de \"y\": {y.shape}')\n",
        "y.head()"
      ]
    },
    {
      "cell_type": "code",
      "execution_count": 88,
      "metadata": {
        "id": "Rmz9A6n4uK4V"
      },
      "outputs": [],
      "source": [
        "# Alumno: Dividir los datos en train y test\n",
        "from sklearn.model_selection import train_test_split\n",
        "X_train, X_test, y_train, y_test = train_test_split(X, y, test_size=0.2, random_state=42)"
      ]
    },
    {
      "cell_type": "code",
      "execution_count": 89,
      "metadata": {
        "colab": {
          "base_uri": "https://localhost:8080/"
        },
        "id": "jW4QnreZTsK2",
        "outputId": "549d3623-dab1-4500-8138-53ee8461fed6"
      },
      "outputs": [
        {
          "data": {
            "text/plain": [
              "((22641, 115), (22641, 5), (18112, 115), (18112, 5), (4529, 115), (4529, 5))"
            ]
          },
          "execution_count": 89,
          "metadata": {},
          "output_type": "execute_result"
        }
      ],
      "source": [
        "# Verifico dimensiones\n",
        "X.shape, y.shape, X_train.shape, y_train.shape, X_test.shape, y_test.shape"
      ]
    },
    {
      "cell_type": "code",
      "execution_count": 90,
      "metadata": {
        "colab": {
          "base_uri": "https://localhost:8080/"
        },
        "id": "EcDPlhEouQ9E",
        "outputId": "d6687c19-dd33-4a85-e7d4-8f34cad8fa4b"
      },
      "outputs": [
        {
          "name": "stdout",
          "output_type": "stream",
          "text": [
            "in_shape 115 , out_shape 5\n"
          ]
        }
      ],
      "source": [
        "# Alumno: determinar la dimensiones de entrada y salida\n",
        "in_shape = X_train.shape[1] # max input sentence len\n",
        "out_shape = 5 # multiclass classification\n",
        "print(\"in_shape\", in_shape, \", out_shape\", out_shape)"
      ]
    },
    {
      "cell_type": "markdown",
      "metadata": {
        "id": "NpbQHExL6OTu"
      },
      "source": [
        "### 2 - Entrenar el modelo con mis propios Embeddings + LSTM"
      ]
    },
    {
      "cell_type": "code",
      "execution_count": 91,
      "metadata": {
        "id": "NUkuWBsM6cx3"
      },
      "outputs": [],
      "source": [
        "# Alumno: Entrene su modelo con LSTM entrenando sus propios embeddings\n",
        "# o utilizando embeddings pre-entrenados.\n",
        "from keras.layers import LSTM\n",
        "from keras.layers import Embedding\n",
        "from keras.layers import Dropout\n",
        "from keras.layers import Bidirectional\n"
      ]
    },
    {
      "cell_type": "code",
      "execution_count": 92,
      "metadata": {
        "colab": {
          "base_uri": "https://localhost:8080/"
        },
        "id": "93C4k005hN8T",
        "outputId": "3e7178e0-0b76-4755-ddce-d14587596e98"
      },
      "outputs": [
        {
          "name": "stdout",
          "output_type": "stream",
          "text": [
            "Model: \"sequential_2\"\n",
            "_________________________________________________________________\n",
            " Layer (type)                Output Shape              Param #   \n",
            "=================================================================\n",
            " embedding_2 (Embedding)     (None, 115, 50)           100050    \n",
            "                                                                 \n",
            " bidirectional (Bidirectiona  (None, 115, 128)         58880     \n",
            " l)                                                              \n",
            "                                                                 \n",
            " dropout (Dropout)           (None, 115, 128)          0         \n",
            "                                                                 \n",
            " bidirectional_1 (Bidirectio  (None, 128)              98816     \n",
            " nal)                                                            \n",
            "                                                                 \n",
            " dense (Dense)               (None, 128)               16512     \n",
            "                                                                 \n",
            " dropout_1 (Dropout)         (None, 128)               0         \n",
            "                                                                 \n",
            " dense_1 (Dense)             (None, 5)                 645       \n",
            "                                                                 \n",
            "=================================================================\n",
            "Total params: 274,903\n",
            "Trainable params: 274,903\n",
            "Non-trainable params: 0\n",
            "_________________________________________________________________\n"
          ]
        }
      ],
      "source": [
        "model = Sequential()\n",
        "model.add(Embedding(input_dim=vocab_size+1, output_dim=50, input_length=in_shape))\n",
        "model.add(Bidirectional(LSTM(units=64, return_sequences=True)))\n",
        "model.add(Dropout(0.3))\n",
        "model.add(Bidirectional(LSTM(units=64))) # La última capa LSTM no lleva return_sequences\n",
        "\n",
        "model.add(Dense(units=128, activation='relu'))\n",
        "model.add(Dropout(rate=0.3))\n",
        "model.add(Dense(units=out_shape, activation='softmax'))\n",
        "model.compile(optimizer=\"adam\",\n",
        "              loss='categorical_crossentropy',\n",
        "              metrics=['accuracy'])\n",
        "model.summary()"
      ]
    },
    {
      "cell_type": "code",
      "execution_count": 93,
      "metadata": {
        "colab": {
          "base_uri": "https://localhost:8080/",
          "height": 865
        },
        "id": "YIXEXeDIiBmC",
        "outputId": "fcf3b3f8-ec62-4f2e-d426-2e1c49d5a815"
      },
      "outputs": [
        {
          "name": "stdout",
          "output_type": "stream",
          "text": [
            "You must install pydot (`pip install pydot`) and install graphviz (see instructions at https://graphviz.gitlab.io/download/) for plot_model to work.\n"
          ]
        }
      ],
      "source": [
        "from keras.utils.vis_utils import plot_model\n",
        "plot_model(model, to_file='model_plot.png', show_shapes=True, show_layer_names=True)"
      ]
    },
    {
      "cell_type": "markdown",
      "metadata": {
        "id": "pIuGXI4rC75L"
      },
      "source": [
        "#### 2.1. Dataset sin balancear"
      ]
    },
    {
      "cell_type": "code",
      "execution_count": 94,
      "metadata": {
        "colab": {
          "base_uri": "https://localhost:8080/"
        },
        "id": "bsQJqLzziLvi",
        "outputId": "22d0b2ca-5823-4a16-9be3-c02da84e88bc"
      },
      "outputs": [
        {
          "name": "stdout",
          "output_type": "stream",
          "text": [
            "Epoch 1/30\n"
          ]
        },
        {
          "name": "stderr",
          "output_type": "stream",
          "text": [
            "2022-11-29 21:48:16.976208: W tensorflow/core/platform/profile_utils/cpu_utils.cc:128] Failed to get CPU frequency: 0 Hz\n",
            "2022-11-29 21:48:19.408347: I tensorflow/core/grappler/optimizers/custom_graph_optimizer_registry.cc:114] Plugin optimizer for device_type GPU is enabled.\n",
            "2022-11-29 21:48:20.034988: I tensorflow/core/grappler/optimizers/custom_graph_optimizer_registry.cc:114] Plugin optimizer for device_type GPU is enabled.\n",
            "2022-11-29 21:48:20.084785: I tensorflow/core/grappler/optimizers/custom_graph_optimizer_registry.cc:114] Plugin optimizer for device_type GPU is enabled.\n",
            "2022-11-29 21:48:21.888436: I tensorflow/core/grappler/optimizers/custom_graph_optimizer_registry.cc:114] Plugin optimizer for device_type GPU is enabled.\n",
            "2022-11-29 21:48:21.906150: I tensorflow/core/grappler/optimizers/custom_graph_optimizer_registry.cc:114] Plugin optimizer for device_type GPU is enabled.\n",
            "2022-11-29 21:48:23.870782: I tensorflow/core/grappler/optimizers/custom_graph_optimizer_registry.cc:114] Plugin optimizer for device_type GPU is enabled.\n",
            "2022-11-29 21:48:23.897812: I tensorflow/core/grappler/optimizers/custom_graph_optimizer_registry.cc:114] Plugin optimizer for device_type GPU is enabled.\n",
            "2022-11-29 21:48:24.865921: I tensorflow/core/grappler/optimizers/custom_graph_optimizer_registry.cc:114] Plugin optimizer for device_type GPU is enabled.\n",
            "2022-11-29 21:48:24.893816: I tensorflow/core/grappler/optimizers/custom_graph_optimizer_registry.cc:114] Plugin optimizer for device_type GPU is enabled.\n"
          ]
        },
        {
          "name": "stdout",
          "output_type": "stream",
          "text": [
            "453/453 [==============================] - ETA: 0s - loss: 1.0041 - accuracy: 0.5920"
          ]
        },
        {
          "name": "stderr",
          "output_type": "stream",
          "text": [
            "2022-11-29 21:49:15.212012: I tensorflow/core/grappler/optimizers/custom_graph_optimizer_registry.cc:114] Plugin optimizer for device_type GPU is enabled.\n",
            "2022-11-29 21:49:15.356087: I tensorflow/core/grappler/optimizers/custom_graph_optimizer_registry.cc:114] Plugin optimizer for device_type GPU is enabled.\n",
            "2022-11-29 21:49:15.368534: I tensorflow/core/grappler/optimizers/custom_graph_optimizer_registry.cc:114] Plugin optimizer for device_type GPU is enabled.\n",
            "2022-11-29 21:49:15.595999: I tensorflow/core/grappler/optimizers/custom_graph_optimizer_registry.cc:114] Plugin optimizer for device_type GPU is enabled.\n",
            "2022-11-29 21:49:15.609243: I tensorflow/core/grappler/optimizers/custom_graph_optimizer_registry.cc:114] Plugin optimizer for device_type GPU is enabled.\n"
          ]
        },
        {
          "name": "stdout",
          "output_type": "stream",
          "text": [
            "453/453 [==============================] - 66s 127ms/step - loss: 1.0041 - accuracy: 0.5920 - val_loss: 0.9286 - val_accuracy: 0.6185\n",
            "Epoch 2/30\n",
            "453/453 [==============================] - 56s 123ms/step - loss: 0.8675 - accuracy: 0.6320 - val_loss: 0.9414 - val_accuracy: 0.6078\n",
            "Epoch 3/30\n",
            "453/453 [==============================] - 56s 124ms/step - loss: 0.8132 - accuracy: 0.6524 - val_loss: 0.9106 - val_accuracy: 0.6199\n",
            "Epoch 4/30\n",
            "453/453 [==============================] - 58s 128ms/step - loss: 0.7555 - accuracy: 0.6750 - val_loss: 0.9666 - val_accuracy: 0.6036\n",
            "Epoch 5/30\n",
            "453/453 [==============================] - 59s 130ms/step - loss: 0.7163 - accuracy: 0.6958 - val_loss: 0.9607 - val_accuracy: 0.6097\n",
            "Epoch 6/30\n",
            "453/453 [==============================] - 58s 129ms/step - loss: 0.6938 - accuracy: 0.7061 - val_loss: 1.0224 - val_accuracy: 0.6169\n",
            "Epoch 7/30\n",
            "453/453 [==============================] - 57s 127ms/step - loss: 0.6542 - accuracy: 0.7261 - val_loss: 1.0103 - val_accuracy: 0.6144\n",
            "Epoch 8/30\n",
            "453/453 [==============================] - 58s 127ms/step - loss: 0.6227 - accuracy: 0.7416 - val_loss: 1.0594 - val_accuracy: 0.5876\n",
            "Epoch 9/30\n",
            "453/453 [==============================] - 58s 128ms/step - loss: 0.5915 - accuracy: 0.7600 - val_loss: 1.1144 - val_accuracy: 0.6081\n",
            "Epoch 10/30\n",
            "453/453 [==============================] - 58s 127ms/step - loss: 0.5556 - accuracy: 0.7786 - val_loss: 1.1277 - val_accuracy: 0.5879\n",
            "Epoch 11/30\n",
            "453/453 [==============================] - 58s 128ms/step - loss: 0.5243 - accuracy: 0.7894 - val_loss: 1.1792 - val_accuracy: 0.5882\n",
            "Epoch 12/30\n",
            "453/453 [==============================] - 58s 128ms/step - loss: 0.4979 - accuracy: 0.8034 - val_loss: 1.2979 - val_accuracy: 0.5962\n",
            "Epoch 13/30\n",
            "453/453 [==============================] - 58s 128ms/step - loss: 0.4639 - accuracy: 0.8170 - val_loss: 1.3582 - val_accuracy: 0.5857\n",
            "Epoch 14/30\n",
            "453/453 [==============================] - 57s 126ms/step - loss: 0.4367 - accuracy: 0.8319 - val_loss: 1.4147 - val_accuracy: 0.5896\n",
            "Epoch 15/30\n",
            "453/453 [==============================] - 59s 130ms/step - loss: 0.4176 - accuracy: 0.8393 - val_loss: 1.5409 - val_accuracy: 0.5763\n",
            "Epoch 16/30\n",
            "453/453 [==============================] - 58s 129ms/step - loss: 0.3883 - accuracy: 0.8463 - val_loss: 1.5702 - val_accuracy: 0.5691\n",
            "Epoch 17/30\n",
            "453/453 [==============================] - 57s 126ms/step - loss: 0.3480 - accuracy: 0.8707 - val_loss: 1.6150 - val_accuracy: 0.5744\n",
            "Epoch 18/30\n",
            "453/453 [==============================] - 57s 126ms/step - loss: 0.3192 - accuracy: 0.8822 - val_loss: 1.7971 - val_accuracy: 0.5738\n",
            "Epoch 19/30\n",
            "453/453 [==============================] - 59s 130ms/step - loss: 0.3068 - accuracy: 0.8845 - val_loss: 1.6144 - val_accuracy: 0.5813\n",
            "Epoch 20/30\n",
            "453/453 [==============================] - 58s 127ms/step - loss: 0.2748 - accuracy: 0.8975 - val_loss: 1.8742 - val_accuracy: 0.5606\n",
            "Epoch 21/30\n",
            "453/453 [==============================] - 59s 130ms/step - loss: 0.2644 - accuracy: 0.8996 - val_loss: 1.8898 - val_accuracy: 0.5628\n",
            "Epoch 22/30\n",
            "453/453 [==============================] - 57s 127ms/step - loss: 0.2447 - accuracy: 0.9077 - val_loss: 1.9360 - val_accuracy: 0.5518\n",
            "Epoch 23/30\n",
            "453/453 [==============================] - 57s 126ms/step - loss: 0.2457 - accuracy: 0.9088 - val_loss: 2.0941 - val_accuracy: 0.5526\n",
            "Epoch 24/30\n",
            "453/453 [==============================] - 56s 123ms/step - loss: 0.2001 - accuracy: 0.9260 - val_loss: 2.2304 - val_accuracy: 0.5614\n",
            "Epoch 25/30\n",
            "453/453 [==============================] - 56s 123ms/step - loss: 0.1942 - accuracy: 0.9297 - val_loss: 2.1052 - val_accuracy: 0.5606\n",
            "Epoch 26/30\n",
            "453/453 [==============================] - 56s 123ms/step - loss: 0.1857 - accuracy: 0.9337 - val_loss: 2.2819 - val_accuracy: 0.5553\n",
            "Epoch 27/30\n",
            "453/453 [==============================] - 55s 122ms/step - loss: 0.1798 - accuracy: 0.9346 - val_loss: 2.3298 - val_accuracy: 0.5471\n",
            "Epoch 28/30\n",
            "453/453 [==============================] - 77s 170ms/step - loss: 0.1695 - accuracy: 0.9424 - val_loss: 2.2540 - val_accuracy: 0.5609\n",
            "Epoch 29/30\n",
            "453/453 [==============================] - 56s 124ms/step - loss: 0.1491 - accuracy: 0.9484 - val_loss: 2.4011 - val_accuracy: 0.5587\n",
            "Epoch 30/30\n",
            "453/453 [==============================] - 57s 125ms/step - loss: 0.1178 - accuracy: 0.9587 - val_loss: 2.5499 - val_accuracy: 0.5653\n"
          ]
        }
      ],
      "source": [
        "hist1 = model.fit(X_train, y_train, epochs=30, validation_split=0.2)"
      ]
    },
    {
      "cell_type": "code",
      "execution_count": 95,
      "metadata": {
        "colab": {
          "base_uri": "https://localhost:8080/",
          "height": 545
        },
        "id": "IIW6zZA1mtc5",
        "outputId": "23263f6c-9fa1-4e9d-f82c-d9381b59a4fb"
      },
      "outputs": [
        {
          "data": {
            "image/png": "[encoded data removed]",
            "text/plain": [
              "<Figure size 432x288 with 1 Axes>"
            ]
          },
          "metadata": {
            "needs_background": "light"
          },
          "output_type": "display_data"
        },
        {
          "data": {
            "image/png": "[encoded data removed]",
            "text/plain": [
              "<Figure size 432x288 with 1 Axes>"
            ]
          },
          "metadata": {
            "needs_background": "light"
          },
          "output_type": "display_data"
        }
      ],
      "source": [
        "import matplotlib.pyplot as plt\n",
        "import seaborn as sns\n",
        "epoch_count = range(1, len(hist1.history['accuracy']) + 1)\n",
        "sns.lineplot(x=epoch_count,  y=hist1.history['loss'], label='train')\n",
        "sns.lineplot(x=epoch_count,  y=hist1.history['val_loss'], label='valid')\n",
        "plt.title('Loss')\n",
        "plt.show()\n",
        "plt.figure()\n",
        "sns.lineplot(x=epoch_count,  y=hist1.history['accuracy'], label='train')\n",
        "sns.lineplot(x=epoch_count,  y=hist1.history['val_accuracy'], label='valid')\n",
        "plt.title('Accuracy')\n",
        "plt.show()"
      ]
    },
    {
      "cell_type": "code",
      "execution_count": 96,
      "metadata": {
        "colab": {
          "base_uri": "https://localhost:8080/"
        },
        "id": "8N6W9dbmm5fG",
        "outputId": "8501be3a-45fc-4aea-c789-0837e11c5427"
      },
      "outputs": [
        {
          "name": "stdout",
          "output_type": "stream",
          "text": [
            "142/142 [==============================] - 9s 67ms/step - loss: 2.3909 - accuracy: 0.5732\n"
          ]
        },
        {
          "data": {
            "text/plain": [
              "[2.390852928161621, 0.5731949806213379]"
            ]
          },
          "execution_count": 96,
          "metadata": {},
          "output_type": "execute_result"
        }
      ],
      "source": [
        "model.evaluate(X_test, y_test)"
      ]
    },
    {
      "cell_type": "markdown",
      "metadata": {
        "id": "QlQMAOCcB0Ni"
      },
      "source": [
        "#### 2.2. Con dataset balanceado con Random Oversampling"
      ]
    },
    {
      "cell_type": "code",
      "execution_count": 97,
      "metadata": {
        "colab": {
          "base_uri": "https://localhost:8080/"
        },
        "id": "9-HnbeJGzOCd",
        "outputId": "aad65e01-e6a1-49f8-dc04-4f2d1349c39b"
      },
      "outputs": [
        {
          "data": {
            "text/plain": [
              "((49975, 115), (49975, 5))"
            ]
          },
          "execution_count": 97,
          "metadata": {},
          "output_type": "execute_result"
        }
      ],
      "source": [
        "# Voy a hacer un oversampling para balancear las clases\n",
        "from imblearn.over_sampling import RandomOverSampler\n",
        "\n",
        "ros = RandomOverSampler(random_state=10, sampling_strategy='auto')\n",
        "X_resampled, y_resampled = ros.fit_resample(X_train, y_train.to_numpy()) # Paso y_train a numpy array porque daba error\n",
        "\n",
        "X_resampled.shape, y_resampled.shape"
      ]
    },
    {
      "cell_type": "code",
      "execution_count": 98,
      "metadata": {
        "id": "cYvqFR6rS2y_"
      },
      "outputs": [],
      "source": [
        "X_ros_train = pd.DataFrame(X_resampled)\n",
        "y_ros_train = pd.DataFrame(y_resampled)"
      ]
    },
    {
      "cell_type": "code",
      "execution_count": 99,
      "metadata": {
        "colab": {
          "base_uri": "https://localhost:8080/",
          "height": 206
        },
        "id": "FyeOVQUddBQc",
        "outputId": "b5569c27-4223-4daf-fddc-469523ef3b5b"
      },
      "outputs": [
        {
          "data": {
            "text/html": [
              "<div>\n",
              "<style scoped>\n",
              "    .dataframe tbody tr th:only-of-type {\n",
              "        vertical-align: middle;\n",
              "    }\n",
              "\n",
              "    .dataframe tbody tr th {\n",
              "        vertical-align: top;\n",
              "    }\n",
              "\n",
              "    .dataframe thead th {\n",
              "        text-align: right;\n",
              "    }\n",
              "</style>\n",
              "<table border=\"1\" class=\"dataframe\">\n",
              "  <thead>\n",
              "    <tr style=\"text-align: right;\">\n",
              "      <th></th>\n",
              "      <th>0</th>\n",
              "      <th>1</th>\n",
              "      <th>2</th>\n",
              "      <th>3</th>\n",
              "      <th>4</th>\n",
              "    </tr>\n",
              "  </thead>\n",
              "  <tbody>\n",
              "    <tr>\n",
              "      <th>0</th>\n",
              "      <td>0</td>\n",
              "      <td>0</td>\n",
              "      <td>0</td>\n",
              "      <td>1</td>\n",
              "      <td>0</td>\n",
              "    </tr>\n",
              "    <tr>\n",
              "      <th>1</th>\n",
              "      <td>0</td>\n",
              "      <td>0</td>\n",
              "      <td>0</td>\n",
              "      <td>0</td>\n",
              "      <td>1</td>\n",
              "    </tr>\n",
              "    <tr>\n",
              "      <th>2</th>\n",
              "      <td>0</td>\n",
              "      <td>0</td>\n",
              "      <td>0</td>\n",
              "      <td>0</td>\n",
              "      <td>1</td>\n",
              "    </tr>\n",
              "    <tr>\n",
              "      <th>3</th>\n",
              "      <td>0</td>\n",
              "      <td>1</td>\n",
              "      <td>0</td>\n",
              "      <td>0</td>\n",
              "      <td>0</td>\n",
              "    </tr>\n",
              "    <tr>\n",
              "      <th>4</th>\n",
              "      <td>0</td>\n",
              "      <td>0</td>\n",
              "      <td>0</td>\n",
              "      <td>0</td>\n",
              "      <td>1</td>\n",
              "    </tr>\n",
              "  </tbody>\n",
              "</table>\n",
              "</div>"
            ],
            "text/plain": [
              "   0  1  2  3  4\n",
              "0  0  0  0  1  0\n",
              "1  0  0  0  0  1\n",
              "2  0  0  0  0  1\n",
              "3  0  1  0  0  0\n",
              "4  0  0  0  0  1"
            ]
          },
          "execution_count": 99,
          "metadata": {},
          "output_type": "execute_result"
        }
      ],
      "source": [
        "y_ros_train.head()"
      ]
    },
    {
      "cell_type": "markdown",
      "metadata": {},
      "source": [
        "#### Grafico algunas clases para ver como quedaron despues del oversampling"
      ]
    },
    {
      "cell_type": "code",
      "execution_count": 100,
      "metadata": {
        "colab": {
          "base_uri": "https://localhost:8080/",
          "height": 930
        },
        "id": "38prq6WF_HaB",
        "outputId": "da7c7d47-21c3-4a85-ce33-f97aa14166c5"
      },
      "outputs": [
        {
          "name": "stderr",
          "output_type": "stream",
          "text": [
            "/Library/Frameworks/Python.framework/Versions/3.10/lib/python3.10/site-packages/seaborn/_decorators.py:36: FutureWarning: Pass the following variable as a keyword arg: x. From version 0.12, the only valid positional argument will be `data`, and passing other arguments without an explicit keyword will result in an error or misinterpretation.\n",
            "  warnings.warn(\n"
          ]
        },
        {
          "data": {
            "image/png": "[encoded data removed]",
            "text/plain": [
              "<Figure size 432x288 with 1 Axes>"
            ]
          },
          "metadata": {
            "needs_background": "light"
          },
          "output_type": "display_data"
        },
        {
          "name": "stderr",
          "output_type": "stream",
          "text": [
            "/Library/Frameworks/Python.framework/Versions/3.10/lib/python3.10/site-packages/seaborn/_decorators.py:36: FutureWarning: Pass the following variable as a keyword arg: x. From version 0.12, the only valid positional argument will be `data`, and passing other arguments without an explicit keyword will result in an error or misinterpretation.\n",
            "  warnings.warn(\n"
          ]
        },
        {
          "data": {
            "image/png": "[encoded data removed]",
            "text/plain": [
              "<Figure size 432x288 with 1 Axes>"
            ]
          },
          "metadata": {
            "needs_background": "light"
          },
          "output_type": "display_data"
        },
        {
          "name": "stderr",
          "output_type": "stream",
          "text": [
            "/Library/Frameworks/Python.framework/Versions/3.10/lib/python3.10/site-packages/seaborn/_decorators.py:36: FutureWarning: Pass the following variable as a keyword arg: x. From version 0.12, the only valid positional argument will be `data`, and passing other arguments without an explicit keyword will result in an error or misinterpretation.\n",
            "  warnings.warn(\n"
          ]
        },
        {
          "data": {
            "image/png": "[encoded data removed]",
            "text/plain": [
              "<Figure size 432x288 with 1 Axes>"
            ]
          },
          "metadata": {
            "needs_background": "light"
          },
          "output_type": "display_data"
        }
      ],
      "source": [
        "sns.countplot(y_ros_train[0])\n",
        "plt.show()\n",
        "sns.countplot(y_ros_train[1])\n",
        "plt.show()\n",
        "sns.countplot(y_ros_train[4])\n",
        "plt.show()"
      ]
    },
    {
      "cell_type": "code",
      "execution_count": 101,
      "metadata": {
        "id": "nGRsoIS9ZRTY"
      },
      "outputs": [],
      "source": [
        "model = Sequential()\n",
        "model.add(Embedding(input_dim=vocab_size+1, output_dim=50, input_length=in_shape))\n",
        "model.add(Bidirectional(LSTM(units=64, return_sequences=True)))\n",
        "model.add(Dropout(0.3))\n",
        "model.add(Bidirectional(LSTM(units=64))) # La última capa LSTM no lleva return_sequences\n",
        "\n",
        "model.add(Dense(units=128, activation='relu'))\n",
        "model.add(Dropout(rate=0.3))\n",
        "model.add(Dense(units=out_shape, activation='softmax'))\n",
        "model.compile(optimizer=\"adam\",\n",
        "              loss='categorical_crossentropy',\n",
        "              metrics=['accuracy'])"
      ]
    },
    {
      "cell_type": "code",
      "execution_count": 102,
      "metadata": {
        "colab": {
          "base_uri": "https://localhost:8080/"
        },
        "id": "mlW-FV4mBz7T",
        "outputId": "94432118-d397-4538-8e41-1e283b4bf679"
      },
      "outputs": [
        {
          "name": "stdout",
          "output_type": "stream",
          "text": [
            "Epoch 1/35\n"
          ]
        },
        {
          "name": "stderr",
          "output_type": "stream",
          "text": [
            "2022-11-29 22:17:39.280535: I tensorflow/core/grappler/optimizers/custom_graph_optimizer_registry.cc:114] Plugin optimizer for device_type GPU is enabled.\n",
            "2022-11-29 22:17:39.772083: I tensorflow/core/grappler/optimizers/custom_graph_optimizer_registry.cc:114] Plugin optimizer for device_type GPU is enabled.\n",
            "2022-11-29 22:17:39.796302: I tensorflow/core/grappler/optimizers/custom_graph_optimizer_registry.cc:114] Plugin optimizer for device_type GPU is enabled.\n",
            "2022-11-29 22:17:40.062311: I tensorflow/core/grappler/optimizers/custom_graph_optimizer_registry.cc:114] Plugin optimizer for device_type GPU is enabled.\n",
            "2022-11-29 22:17:40.080482: I tensorflow/core/grappler/optimizers/custom_graph_optimizer_registry.cc:114] Plugin optimizer for device_type GPU is enabled.\n",
            "2022-11-29 22:17:40.387065: I tensorflow/core/grappler/optimizers/custom_graph_optimizer_registry.cc:114] Plugin optimizer for device_type GPU is enabled.\n",
            "2022-11-29 22:17:40.415024: I tensorflow/core/grappler/optimizers/custom_graph_optimizer_registry.cc:114] Plugin optimizer for device_type GPU is enabled.\n",
            "2022-11-29 22:17:40.836874: I tensorflow/core/grappler/optimizers/custom_graph_optimizer_registry.cc:114] Plugin optimizer for device_type GPU is enabled.\n",
            "2022-11-29 22:17:40.864769: I tensorflow/core/grappler/optimizers/custom_graph_optimizer_registry.cc:114] Plugin optimizer for device_type GPU is enabled.\n"
          ]
        },
        {
          "name": "stdout",
          "output_type": "stream",
          "text": [
            "1250/1250 [==============================] - ETA: 0s - loss: 0.9814 - accuracy: 0.5995"
          ]
        },
        {
          "name": "stderr",
          "output_type": "stream",
          "text": [
            "2022-11-29 22:19:58.306805: I tensorflow/core/grappler/optimizers/custom_graph_optimizer_registry.cc:114] Plugin optimizer for device_type GPU is enabled.\n",
            "2022-11-29 22:19:58.477972: I tensorflow/core/grappler/optimizers/custom_graph_optimizer_registry.cc:114] Plugin optimizer for device_type GPU is enabled.\n",
            "2022-11-29 22:19:58.491178: I tensorflow/core/grappler/optimizers/custom_graph_optimizer_registry.cc:114] Plugin optimizer for device_type GPU is enabled.\n",
            "2022-11-29 22:19:58.743198: I tensorflow/core/grappler/optimizers/custom_graph_optimizer_registry.cc:114] Plugin optimizer for device_type GPU is enabled.\n",
            "2022-11-29 22:19:58.757160: I tensorflow/core/grappler/optimizers/custom_graph_optimizer_registry.cc:114] Plugin optimizer for device_type GPU is enabled.\n"
          ]
        },
        {
          "name": "stdout",
          "output_type": "stream",
          "text": [
            "1250/1250 [==============================] - 162s 126ms/step - loss: 0.9814 - accuracy: 0.5995 - val_loss: 1.5925 - val_accuracy: 0.1370\n",
            "Epoch 2/35\n",
            "1250/1250 [==============================] - 153s 123ms/step - loss: 0.6306 - accuracy: 0.7673 - val_loss: 1.3554 - val_accuracy: 0.2400\n",
            "Epoch 3/35\n",
            "1250/1250 [==============================] - 154s 123ms/step - loss: 0.5170 - accuracy: 0.8098 - val_loss: 1.1691 - val_accuracy: 0.3967\n",
            "Epoch 4/35\n",
            "1250/1250 [==============================] - 154s 123ms/step - loss: 0.4436 - accuracy: 0.8370 - val_loss: 1.1528 - val_accuracy: 0.3660\n",
            "Epoch 5/35\n",
            "1250/1250 [==============================] - 202s 162ms/step - loss: 0.3998 - accuracy: 0.8507 - val_loss: 1.0923 - val_accuracy: 0.4539\n",
            "Epoch 6/35\n",
            "1250/1250 [==============================] - 155s 124ms/step - loss: 0.3547 - accuracy: 0.8646 - val_loss: 1.0827 - val_accuracy: 0.4766\n",
            "Epoch 7/35\n",
            "1250/1250 [==============================] - 153s 123ms/step - loss: 0.3296 - accuracy: 0.8756 - val_loss: 1.0413 - val_accuracy: 0.4723\n",
            "Epoch 8/35\n",
            "1250/1250 [==============================] - 153s 122ms/step - loss: 0.3024 - accuracy: 0.8835 - val_loss: 0.9865 - val_accuracy: 0.5070\n",
            "Epoch 9/35\n",
            "1250/1250 [==============================] - 197s 158ms/step - loss: 0.2915 - accuracy: 0.8879 - val_loss: 0.8480 - val_accuracy: 0.5905\n",
            "Epoch 10/35\n",
            "1250/1250 [==============================] - 318s 255ms/step - loss: 0.2661 - accuracy: 0.8967 - val_loss: 0.7222 - val_accuracy: 0.6744\n",
            "Epoch 11/35\n",
            "1250/1250 [==============================] - 166s 133ms/step - loss: 0.2472 - accuracy: 0.9036 - val_loss: 0.7633 - val_accuracy: 0.6377\n",
            "Epoch 12/35\n",
            "1250/1250 [==============================] - 154s 123ms/step - loss: 0.2363 - accuracy: 0.9075 - val_loss: 0.7919 - val_accuracy: 0.6346\n",
            "Epoch 13/35\n",
            "1250/1250 [==============================] - 158s 126ms/step - loss: 0.2178 - accuracy: 0.9154 - val_loss: 0.5819 - val_accuracy: 0.7606\n",
            "Epoch 14/35\n",
            "1250/1250 [==============================] - 155s 124ms/step - loss: 0.2132 - accuracy: 0.9190 - val_loss: 0.5333 - val_accuracy: 0.7687\n",
            "Epoch 15/35\n",
            "1250/1250 [==============================] - 153s 122ms/step - loss: 0.1832 - accuracy: 0.9289 - val_loss: 0.6004 - val_accuracy: 0.7537\n",
            "Epoch 16/35\n",
            "1250/1250 [==============================] - 154s 123ms/step - loss: 0.1819 - accuracy: 0.9310 - val_loss: 0.5163 - val_accuracy: 0.7790\n",
            "Epoch 17/35\n",
            "1250/1250 [==============================] - 154s 123ms/step - loss: 0.1683 - accuracy: 0.9370 - val_loss: 0.4415 - val_accuracy: 0.8076\n",
            "Epoch 18/35\n",
            "1250/1250 [==============================] - 153s 123ms/step - loss: 0.1465 - accuracy: 0.9431 - val_loss: 0.4033 - val_accuracy: 0.8589\n",
            "Epoch 19/35\n",
            "1250/1250 [==============================] - 153s 123ms/step - loss: 0.1482 - accuracy: 0.9441 - val_loss: 0.3459 - val_accuracy: 0.8802\n",
            "Epoch 20/35\n",
            "1250/1250 [==============================] - 153s 122ms/step - loss: 0.1315 - accuracy: 0.9511 - val_loss: 0.3574 - val_accuracy: 0.8728\n",
            "Epoch 21/35\n",
            "1250/1250 [==============================] - 153s 122ms/step - loss: 0.1284 - accuracy: 0.9534 - val_loss: 0.3575 - val_accuracy: 0.8750\n",
            "Epoch 22/35\n",
            "1250/1250 [==============================] - 153s 123ms/step - loss: 0.1185 - accuracy: 0.9569 - val_loss: 0.2339 - val_accuracy: 0.9257\n",
            "Epoch 23/35\n",
            "1250/1250 [==============================] - 154s 123ms/step - loss: 0.1045 - accuracy: 0.9622 - val_loss: 0.2666 - val_accuracy: 0.9008\n",
            "Epoch 24/35\n",
            "1250/1250 [==============================] - 154s 123ms/step - loss: 0.0996 - accuracy: 0.9648 - val_loss: 0.2854 - val_accuracy: 0.8959\n",
            "Epoch 25/35\n",
            "1250/1250 [==============================] - 153s 123ms/step - loss: 0.0847 - accuracy: 0.9709 - val_loss: 0.2660 - val_accuracy: 0.9001\n",
            "Epoch 26/35\n",
            "1250/1250 [==============================] - 154s 123ms/step - loss: 0.0924 - accuracy: 0.9675 - val_loss: 0.1674 - val_accuracy: 0.9419\n",
            "Epoch 27/35\n",
            "1250/1250 [==============================] - 153s 122ms/step - loss: 0.0716 - accuracy: 0.9745 - val_loss: 0.1149 - val_accuracy: 0.9616\n",
            "Epoch 28/35\n",
            "1250/1250 [==============================] - 153s 122ms/step - loss: 0.0730 - accuracy: 0.9745 - val_loss: 0.1975 - val_accuracy: 0.9313\n",
            "Epoch 29/35\n",
            "1250/1250 [==============================] - 154s 123ms/step - loss: 0.0653 - accuracy: 0.9777 - val_loss: 0.1034 - val_accuracy: 0.9684\n",
            "Epoch 30/35\n",
            "1250/1250 [==============================] - 154s 123ms/step - loss: 0.0607 - accuracy: 0.9786 - val_loss: 0.1264 - val_accuracy: 0.9579\n",
            "Epoch 31/35\n",
            "1250/1250 [==============================] - 154s 123ms/step - loss: 0.0609 - accuracy: 0.9792 - val_loss: 0.0949 - val_accuracy: 0.9707\n",
            "Epoch 32/35\n",
            "1250/1250 [==============================] - 154s 123ms/step - loss: 0.0490 - accuracy: 0.9833 - val_loss: 0.1152 - val_accuracy: 0.9607\n",
            "Epoch 33/35\n",
            "1250/1250 [==============================] - 154s 123ms/step - loss: 0.0506 - accuracy: 0.9834 - val_loss: 0.0994 - val_accuracy: 0.9686\n",
            "Epoch 34/35\n",
            "1250/1250 [==============================] - 153s 123ms/step - loss: 0.0446 - accuracy: 0.9849 - val_loss: 0.1590 - val_accuracy: 0.9418\n",
            "Epoch 35/35\n",
            "1250/1250 [==============================] - 153s 122ms/step - loss: 0.0463 - accuracy: 0.9847 - val_loss: 0.0557 - val_accuracy: 0.9850\n"
          ]
        }
      ],
      "source": [
        "hist1_ros = model.fit(X_ros_train, y_ros_train, epochs=35, validation_split=0.2)"
      ]
    },
    {
      "cell_type": "code",
      "execution_count": 103,
      "metadata": {
        "colab": {
          "base_uri": "https://localhost:8080/",
          "height": 545
        },
        "id": "8szQYdbiRu1q",
        "outputId": "1ac778f2-c099-45e3-c0a8-f184dbc349c0"
      },
      "outputs": [
        {
          "data": {
            "image/png": "[encoded data removed]",
            "text/plain": [
              "<Figure size 432x288 with 1 Axes>"
            ]
          },
          "metadata": {
            "needs_background": "light"
          },
          "output_type": "display_data"
        },
        {
          "data": {
            "image/png": "[encoded data removed]",
            "text/plain": [
              "<Figure size 432x288 with 1 Axes>"
            ]
          },
          "metadata": {
            "needs_background": "light"
          },
          "output_type": "display_data"
        }
      ],
      "source": [
        "epoch_count = range(1, len(hist1_ros.history['accuracy']) + 1)\n",
        "sns.lineplot(x=epoch_count,  y=hist1_ros.history['loss'], label='train')\n",
        "sns.lineplot(x=epoch_count,  y=hist1_ros.history['val_loss'], label='valid')\n",
        "plt.title('Loss')\n",
        "plt.show()\n",
        "plt.figure()\n",
        "sns.lineplot(x=epoch_count,  y=hist1_ros.history['accuracy'], label='train')\n",
        "sns.lineplot(x=epoch_count,  y=hist1_ros.history['val_accuracy'], label='valid')\n",
        "plt.title('Accuracy')\n",
        "plt.show()"
      ]
    },
    {
      "cell_type": "code",
      "execution_count": 104,
      "metadata": {
        "colab": {
          "base_uri": "https://localhost:8080/"
        },
        "id": "C9lr3mTw-p7P",
        "outputId": "15082b8f-0b8c-4f4b-9da2-d711dd92a336"
      },
      "outputs": [
        {
          "name": "stderr",
          "output_type": "stream",
          "text": [
            "2022-11-29 23:51:56.412674: I tensorflow/core/grappler/optimizers/custom_graph_optimizer_registry.cc:114] Plugin optimizer for device_type GPU is enabled.\n",
            "2022-11-29 23:51:56.595199: I tensorflow/core/grappler/optimizers/custom_graph_optimizer_registry.cc:114] Plugin optimizer for device_type GPU is enabled.\n",
            "2022-11-29 23:51:56.610434: I tensorflow/core/grappler/optimizers/custom_graph_optimizer_registry.cc:114] Plugin optimizer for device_type GPU is enabled.\n",
            "2022-11-29 23:51:56.887109: I tensorflow/core/grappler/optimizers/custom_graph_optimizer_registry.cc:114] Plugin optimizer for device_type GPU is enabled.\n",
            "2022-11-29 23:51:56.900080: I tensorflow/core/grappler/optimizers/custom_graph_optimizer_registry.cc:114] Plugin optimizer for device_type GPU is enabled.\n"
          ]
        },
        {
          "name": "stdout",
          "output_type": "stream",
          "text": [
            "142/142 [==============================] - 11s 71ms/step - loss: 2.8995 - accuracy: 0.5754\n"
          ]
        },
        {
          "data": {
            "text/plain": [
              "[2.8995230197906494, 0.5754029750823975]"
            ]
          },
          "execution_count": 104,
          "metadata": {},
          "output_type": "execute_result"
        }
      ],
      "source": [
        "model.evaluate(X_test, y_test)"
      ]
    },
    {
      "cell_type": "markdown",
      "metadata": {
        "id": "1kOEvUEwXp59"
      },
      "source": [
        "#### 2.3. Entrenado con pesos (class weights)"
      ]
    },
    {
      "cell_type": "code",
      "execution_count": 105,
      "metadata": {
        "colab": {
          "base_uri": "https://localhost:8080/"
        },
        "id": "bQFA3VYbXxUa",
        "outputId": "b95b944f-8f40-4198-e3ec-ad106ed905be"
      },
      "outputs": [
        {
          "data": {
            "text/plain": [
              "{0: 5.382466567607727,\n",
              " 1: 2.9212903225806452,\n",
              " 2: 1.6207606263982104,\n",
              " 3: 0.9126732174351222,\n",
              " 4: 0.36242121060530263}"
            ]
          },
          "execution_count": 105,
          "metadata": {},
          "output_type": "execute_result"
        }
      ],
      "source": [
        "from sklearn.utils import class_weight\n",
        "\n",
        "_ ,_, y_train_cw, _ = train_test_split(X, df_reviews.Rating, test_size=0.2, random_state=42) # Hago esto de nuevo para tomar y_train_cw sin OHE\n",
        "\n",
        "class_weights = dict(zip(np.unique(y_train_cw), class_weight.compute_class_weight(class_weight ='balanced',\n",
        "                                                  classes = np.unique(y_train_cw),\n",
        "                                                 y=y_train_cw)))\n",
        "class_weights"
      ]
    },
    {
      "cell_type": "code",
      "execution_count": 106,
      "metadata": {
        "id": "tolY-445ZWCH"
      },
      "outputs": [],
      "source": [
        "model = Sequential()\n",
        "model.add(Embedding(input_dim=vocab_size+1, output_dim=50, input_length=in_shape))\n",
        "model.add(Bidirectional(LSTM(units=64, return_sequences=True)))\n",
        "model.add(Dropout(0.3))\n",
        "model.add(Bidirectional(LSTM(units=64))) # La última capa LSTM no lleva return_sequences\n",
        "\n",
        "model.add(Dense(units=128, activation='relu'))\n",
        "model.add(Dropout(rate=0.3))\n",
        "model.add(Dense(units=out_shape, activation='softmax'))\n",
        "model.compile(optimizer=\"adam\",\n",
        "              loss='categorical_crossentropy',\n",
        "              metrics=['accuracy'])"
      ]
    },
    {
      "cell_type": "code",
      "execution_count": 107,
      "metadata": {
        "colab": {
          "base_uri": "https://localhost:8080/"
        },
        "id": "3beqMkFdXxUd",
        "outputId": "8001cfa9-16b4-4f2d-d039-64fac152023c"
      },
      "outputs": [
        {
          "name": "stdout",
          "output_type": "stream",
          "text": [
            "Epoch 1/20\n"
          ]
        },
        {
          "name": "stderr",
          "output_type": "stream",
          "text": [
            "2022-11-29 23:52:10.968205: I tensorflow/core/grappler/optimizers/custom_graph_optimizer_registry.cc:114] Plugin optimizer for device_type GPU is enabled.\n",
            "2022-11-29 23:52:11.411762: I tensorflow/core/grappler/optimizers/custom_graph_optimizer_registry.cc:114] Plugin optimizer for device_type GPU is enabled.\n",
            "2022-11-29 23:52:11.464643: I tensorflow/core/grappler/optimizers/custom_graph_optimizer_registry.cc:114] Plugin optimizer for device_type GPU is enabled.\n",
            "2022-11-29 23:52:11.777494: I tensorflow/core/grappler/optimizers/custom_graph_optimizer_registry.cc:114] Plugin optimizer for device_type GPU is enabled.\n",
            "2022-11-29 23:52:11.796054: I tensorflow/core/grappler/optimizers/custom_graph_optimizer_registry.cc:114] Plugin optimizer for device_type GPU is enabled.\n",
            "2022-11-29 23:52:12.223717: I tensorflow/core/grappler/optimizers/custom_graph_optimizer_registry.cc:114] Plugin optimizer for device_type GPU is enabled.\n",
            "2022-11-29 23:52:12.250270: I tensorflow/core/grappler/optimizers/custom_graph_optimizer_registry.cc:114] Plugin optimizer for device_type GPU is enabled.\n",
            "2022-11-29 23:52:12.750158: I tensorflow/core/grappler/optimizers/custom_graph_optimizer_registry.cc:114] Plugin optimizer for device_type GPU is enabled.\n",
            "2022-11-29 23:52:12.778051: I tensorflow/core/grappler/optimizers/custom_graph_optimizer_registry.cc:114] Plugin optimizer for device_type GPU is enabled.\n"
          ]
        },
        {
          "name": "stdout",
          "output_type": "stream",
          "text": [
            "453/453 [==============================] - ETA: 0s - loss: 1.3456 - accuracy: 0.4856"
          ]
        },
        {
          "name": "stderr",
          "output_type": "stream",
          "text": [
            "2022-11-29 23:53:05.202621: I tensorflow/core/grappler/optimizers/custom_graph_optimizer_registry.cc:114] Plugin optimizer for device_type GPU is enabled.\n",
            "2022-11-29 23:53:05.359945: I tensorflow/core/grappler/optimizers/custom_graph_optimizer_registry.cc:114] Plugin optimizer for device_type GPU is enabled.\n",
            "2022-11-29 23:53:05.372792: I tensorflow/core/grappler/optimizers/custom_graph_optimizer_registry.cc:114] Plugin optimizer for device_type GPU is enabled.\n",
            "2022-11-29 23:53:05.650873: I tensorflow/core/grappler/optimizers/custom_graph_optimizer_registry.cc:114] Plugin optimizer for device_type GPU is enabled.\n",
            "2022-11-29 23:53:05.664769: I tensorflow/core/grappler/optimizers/custom_graph_optimizer_registry.cc:114] Plugin optimizer for device_type GPU is enabled.\n"
          ]
        },
        {
          "name": "stdout",
          "output_type": "stream",
          "text": [
            "453/453 [==============================] - 65s 133ms/step - loss: 1.3456 - accuracy: 0.4856 - val_loss: 1.0336 - val_accuracy: 0.5584\n",
            "Epoch 2/20\n",
            "453/453 [==============================] - 56s 124ms/step - loss: 1.1760 - accuracy: 0.5317 - val_loss: 1.0670 - val_accuracy: 0.5368\n",
            "Epoch 3/20\n",
            "453/453 [==============================] - 56s 124ms/step - loss: 1.0783 - accuracy: 0.5640 - val_loss: 1.0650 - val_accuracy: 0.5487\n",
            "Epoch 4/20\n",
            "453/453 [==============================] - 56s 124ms/step - loss: 1.0012 - accuracy: 0.5878 - val_loss: 1.0857 - val_accuracy: 0.5324\n",
            "Epoch 5/20\n",
            "453/453 [==============================] - 73s 161ms/step - loss: 0.9285 - accuracy: 0.6134 - val_loss: 1.0706 - val_accuracy: 0.5628\n",
            "Epoch 6/20\n",
            "453/453 [==============================] - 58s 128ms/step - loss: 0.8744 - accuracy: 0.6236 - val_loss: 1.0740 - val_accuracy: 0.5879\n",
            "Epoch 7/20\n",
            "453/453 [==============================] - 56s 125ms/step - loss: 0.8193 - accuracy: 0.6338 - val_loss: 1.1568 - val_accuracy: 0.5534\n",
            "Epoch 8/20\n",
            "453/453 [==============================] - 57s 125ms/step - loss: 0.7761 - accuracy: 0.6401 - val_loss: 1.2242 - val_accuracy: 0.5120\n",
            "Epoch 9/20\n",
            "453/453 [==============================] - 57s 125ms/step - loss: 0.7037 - accuracy: 0.6686 - val_loss: 1.1918 - val_accuracy: 0.5675\n",
            "Epoch 10/20\n",
            "453/453 [==============================] - 57s 125ms/step - loss: 0.6830 - accuracy: 0.6740 - val_loss: 1.2437 - val_accuracy: 0.5426\n",
            "Epoch 11/20\n",
            "453/453 [==============================] - 56s 125ms/step - loss: 0.6582 - accuracy: 0.6749 - val_loss: 1.2783 - val_accuracy: 0.5335\n",
            "Epoch 12/20\n",
            "453/453 [==============================] - 57s 125ms/step - loss: 0.5855 - accuracy: 0.6966 - val_loss: 1.3003 - val_accuracy: 0.5625\n",
            "Epoch 13/20\n",
            "453/453 [==============================] - 57s 126ms/step - loss: 0.5773 - accuracy: 0.7077 - val_loss: 1.3762 - val_accuracy: 0.4712\n",
            "Epoch 14/20\n",
            "453/453 [==============================] - 57s 125ms/step - loss: 0.5244 - accuracy: 0.7173 - val_loss: 1.3342 - val_accuracy: 0.5736\n",
            "Epoch 15/20\n",
            "453/453 [==============================] - 57s 125ms/step - loss: 0.4970 - accuracy: 0.7310 - val_loss: 1.3608 - val_accuracy: 0.5821\n",
            "Epoch 16/20\n",
            "453/453 [==============================] - 57s 125ms/step - loss: 0.4623 - accuracy: 0.7433 - val_loss: 1.4425 - val_accuracy: 0.5573\n",
            "Epoch 17/20\n",
            "453/453 [==============================] - 100s 222ms/step - loss: 0.4850 - accuracy: 0.7368 - val_loss: 1.4140 - val_accuracy: 0.5749\n",
            "Epoch 18/20\n",
            "453/453 [==============================] - 56s 123ms/step - loss: 0.4384 - accuracy: 0.7511 - val_loss: 1.4870 - val_accuracy: 0.5299\n",
            "Epoch 19/20\n",
            "453/453 [==============================] - 122s 269ms/step - loss: 0.4051 - accuracy: 0.7655 - val_loss: 1.6504 - val_accuracy: 0.5261\n",
            "Epoch 20/20\n",
            "453/453 [==============================] - 1079s 2s/step - loss: 0.3881 - accuracy: 0.7716 - val_loss: 1.5914 - val_accuracy: 0.5363\n"
          ]
        }
      ],
      "source": [
        "hist1_cw = model.fit(X_train, y_train, epochs=20, validation_split=0.2, class_weight=class_weights)"
      ]
    },
    {
      "cell_type": "code",
      "execution_count": 108,
      "metadata": {
        "colab": {
          "base_uri": "https://localhost:8080/",
          "height": 545
        },
        "id": "Hydz1OvNXxUd",
        "outputId": "db70a4f5-027d-4bc3-ca3b-403e57d668f1"
      },
      "outputs": [
        {
          "data": {
            "image/png": "[encoded data removed]",
            "text/plain": [
              "<Figure size 432x288 with 1 Axes>"
            ]
          },
          "metadata": {
            "needs_background": "light"
          },
          "output_type": "display_data"
        },
        {
          "data": {
            "image/png": "[encoded data removed]",
            "text/plain": [
              "<Figure size 432x288 with 1 Axes>"
            ]
          },
          "metadata": {
            "needs_background": "light"
          },
          "output_type": "display_data"
        }
      ],
      "source": [
        "epoch_count = range(1, len(hist1_cw.history['accuracy']) + 1)\n",
        "sns.lineplot(x=epoch_count,  y=hist1_cw.history['loss'], label='train')\n",
        "sns.lineplot(x=epoch_count,  y=hist1_cw.history['val_loss'], label='valid')\n",
        "plt.title('Loss')\n",
        "plt.show()\n",
        "plt.figure()\n",
        "sns.lineplot(x=epoch_count,  y=hist1_cw.history['accuracy'], label='train')\n",
        "sns.lineplot(x=epoch_count,  y=hist1_cw.history['val_accuracy'], label='valid')\n",
        "plt.title('Accuracy')\n",
        "plt.show()"
      ]
    },
    {
      "cell_type": "code",
      "execution_count": 109,
      "metadata": {
        "colab": {
          "base_uri": "https://localhost:8080/"
        },
        "id": "3ee96JoVXxUd",
        "outputId": "43e3c1b0-63b3-4cf3-ff88-288acfea46dc"
      },
      "outputs": [
        {
          "name": "stdout",
          "output_type": "stream",
          "text": [
            "142/142 [==============================] - 9s 66ms/step - loss: 1.5161 - accuracy: 0.5480\n"
          ]
        },
        {
          "data": {
            "text/plain": [
              "[1.5161155462265015, 0.5480238199234009]"
            ]
          },
          "execution_count": 109,
          "metadata": {},
          "output_type": "execute_result"
        }
      ],
      "source": [
        "model.evaluate(X_test, y_test)"
      ]
    },
    {
      "cell_type": "markdown",
      "metadata": {
        "id": "UwRtJugNw_XQ"
      },
      "source": [
        "### 3 - Entrenar el modelo con embeddings pre-entrenados Fasttex + LSTM\n"
      ]
    },
    {
      "cell_type": "code",
      "execution_count": 110,
      "metadata": {
        "colab": {
          "base_uri": "https://localhost:8080/"
        },
        "id": "Acsg8ys1xpKk",
        "outputId": "00b06792-ba51-4baf-c2c4-789a4ace7c30"
      },
      "outputs": [],
      "source": [
        "# Descargar los embeddings desde un gogle drive (es la forma más rápida)\n",
        "# NOTA: No hay garantía de que estos links perduren, en caso de que no estén\n",
        "# disponibles descargar de la página oficial como se explica en el siguiente bloque\n",
        "#import os\n",
        "#import gdown\n",
        "#if os.access('fasttext.pkl', os.F_OK) is False:\n",
        "#    url = 'https://drive.google.com/uc?id=1Qi1r-u5lsEsNqRSxLrpNOqQ3B_ufltCa&export=download'\n",
        "#    output = 'fasttext.pkl'\n",
        "#    gdown.download(url, output, quiet=False)\n",
        "#else:\n",
        "#    print(\"Los embeddings fasttext.pkl ya están descargados\")"
      ]
    },
    {
      "cell_type": "code",
      "execution_count": 111,
      "metadata": {
        "id": "5hre5_T7x2m3"
      },
      "outputs": [],
      "source": [
        "import logging\n",
        "import os\n",
        "from pathlib import Path\n",
        "from io import StringIO\n",
        "import pickle\n",
        "\n",
        "class WordsEmbeddings(object):\n",
        "    logger = logging.getLogger(__name__)\n",
        "\n",
        "    def __init__(self):\n",
        "        # load the embeddings\n",
        "        words_embedding_pkl = Path(self.PKL_PATH)\n",
        "        if not words_embedding_pkl.is_file():\n",
        "            words_embedding_txt = Path(self.WORD_TO_VEC_MODEL_TXT_PATH)\n",
        "            assert words_embedding_txt.is_file(), 'Words embedding not available'\n",
        "            embeddings = self.convert_model_to_pickle()\n",
        "        else:\n",
        "            embeddings = self.load_model_from_pickle()\n",
        "        self.embeddings = embeddings\n",
        "        # build the vocabulary hashmap\n",
        "        index = np.arange(self.embeddings.shape[0])\n",
        "        # Dicctionarios para traducir de embedding a IDX de la palabra\n",
        "        self.word2idx = dict(zip(self.embeddings['word'], index))\n",
        "        self.idx2word = dict(zip(index, self.embeddings['word']))\n",
        "\n",
        "    def get_words_embeddings(self, words):\n",
        "        words_idxs = self.words2idxs(words)\n",
        "        return self.embeddings[words_idxs]['embedding']\n",
        "\n",
        "    def words2idxs(self, words):\n",
        "        return np.array([self.word2idx.get(word, -1) for word in words])\n",
        "\n",
        "    def idxs2words(self, idxs):\n",
        "        return np.array([self.idx2word.get(idx, '-1') for idx in idxs])\n",
        "\n",
        "    def load_model_from_pickle(self):\n",
        "        self.logger.debug(\n",
        "            'loading words embeddings from pickle {}'.format(\n",
        "                self.PKL_PATH\n",
        "            )\n",
        "        )\n",
        "        max_bytes = 2**28 - 1 # 256MB\n",
        "        bytes_in = bytearray(0)\n",
        "        input_size = os.path.getsize(self.PKL_PATH)\n",
        "        with open(self.PKL_PATH, 'rb') as f_in:\n",
        "            for _ in range(0, input_size, max_bytes):\n",
        "                bytes_in += f_in.read(max_bytes)\n",
        "        embeddings = pickle.loads(bytes_in)\n",
        "        self.logger.debug('words embeddings loaded')\n",
        "        return embeddings\n",
        "\n",
        "    def convert_model_to_pickle(self):\n",
        "        # create a numpy strctured array:\n",
        "        # word     embedding\n",
        "        # U50      np.float32[]\n",
        "        # word_1   a, b, c\n",
        "        # word_2   d, e, f\n",
        "        # ...\n",
        "        # word_n   g, h, i\n",
        "        self.logger.debug(\n",
        "            'converting and loading words embeddings from text file {}'.format(\n",
        "                self.WORD_TO_VEC_MODEL_TXT_PATH\n",
        "            )\n",
        "        )\n",
        "        structure = [('word', np.dtype('U' + str(self.WORD_MAX_SIZE))),\n",
        "                     ('embedding', np.float32, (self.N_FEATURES,))]\n",
        "        structure = np.dtype(structure)\n",
        "        # load numpy array from disk using a generator\n",
        "        with open(self.WORD_TO_VEC_MODEL_TXT_PATH, encoding=\"utf8\") as words_embeddings_txt:\n",
        "            embeddings_gen = (\n",
        "                (line.split()[0], line.split()[1:]) for line in words_embeddings_txt\n",
        "                if len(line.split()[1:]) == self.N_FEATURES\n",
        "            )\n",
        "            embeddings = np.fromiter(embeddings_gen, structure)\n",
        "        # add a null embedding\n",
        "        null_embedding = np.array(\n",
        "            [('null_embedding', np.zeros((self.N_FEATURES,), dtype=np.float32))],\n",
        "            dtype=structure\n",
        "        )\n",
        "        embeddings = np.concatenate([embeddings, null_embedding])\n",
        "        # dump numpy array to disk using pickle\n",
        "        max_bytes = 2**28 - 1 # # 256MB\n",
        "        bytes_out = pickle.dumps(embeddings, protocol=pickle.HIGHEST_PROTOCOL)\n",
        "        with open(self.PKL_PATH, 'wb') as f_out:\n",
        "            for idx in range(0, len(bytes_out), max_bytes):\n",
        "                f_out.write(bytes_out[idx:idx+max_bytes])\n",
        "        self.logger.debug('words embeddings loaded')\n",
        "        return embeddings\n",
        "\n",
        "\n",
        "class GloveEmbeddings(WordsEmbeddings):\n",
        "    WORD_TO_VEC_MODEL_TXT_PATH = 'glove.twitter.27B.50d.txt'\n",
        "    PKL_PATH = 'gloveembedding.pkl'\n",
        "    N_FEATURES = 50\n",
        "    WORD_MAX_SIZE = 60\n",
        "\n",
        "\n",
        "class FasttextEmbeddings(WordsEmbeddings):\n",
        "    WORD_TO_VEC_MODEL_TXT_PATH = 'cc.en.300.vec'\n",
        "    PKL_PATH = 'fasttext.pkl'\n",
        "    N_FEATURES = 300\n",
        "    WORD_MAX_SIZE = 60"
      ]
    },
    {
      "cell_type": "code",
      "execution_count": 112,
      "metadata": {
        "id": "00sxXVMtyMmI"
      },
      "outputs": [],
      "source": [
        "model_fasttext = FasttextEmbeddings()"
      ]
    },
    {
      "cell_type": "code",
      "execution_count": 113,
      "metadata": {
        "colab": {
          "base_uri": "https://localhost:8080/"
        },
        "id": "HI4jHvj8yNPa",
        "outputId": "c07bd033-88ac-4b38-e85b-bfeea0abbd30"
      },
      "outputs": [
        {
          "name": "stdout",
          "output_type": "stream",
          "text": [
            "preparing embedding matrix...\n",
            "number of null word embeddings: 2\n"
          ]
        }
      ],
      "source": [
        "# Crear la Embedding matrix para la cantidad nb_words seleccionadas\n",
        "# nos vamos a quedar sólo con los vectores de embeddings para las palabras\n",
        "# que definimos como vocabulario\n",
        "\n",
        "print('preparing embedding matrix...')\n",
        "embed_dim = 300 # fasttext\n",
        "words_not_found = []\n",
        "\n",
        "# word_index proviene del tokenizer\n",
        "\n",
        "nb_words = min(num_words, len(word_index)) # vocab_size\n",
        "embedding_matrix = np.zeros((nb_words, embed_dim))\n",
        "\n",
        "# word_index está ordenado de mayor a menor frecuencia de palabras\n",
        "# las primeras que entren en el ciclo for serán las más frecuentes\n",
        "# Atención! El tokenizador de Keras no tiene soporte para stop words\n",
        "# las primeras palabras probablemente sean stopwords, para eliminarlas\n",
        "# hay que procesar el word_index o bien elegir otra librería para preprocesamiento\n",
        "# ¡ver clase 2! ;)\n",
        "for word, i in word_index.items():\n",
        "    if i >= nb_words:\n",
        "        continue\n",
        "    embedding_vector = model_fasttext.get_words_embeddings(word)[0]\n",
        "    if (embedding_vector is not None) and len(embedding_vector) > 0:\n",
        "        embedding_matrix[i] = embedding_vector\n",
        "    else:\n",
        "        # words que no estén en el índice de la matriz de embedding tendrán\n",
        "        # como vector de embedding correspondiente todos ceros\n",
        "        words_not_found.append(word)\n",
        "        print(word)\n",
        "\n",
        "print('number of null word embeddings:', np.sum(np.sum(embedding_matrix**2, axis=1) == 0))"
      ]
    },
    {
      "cell_type": "code",
      "execution_count": 114,
      "metadata": {
        "id": "fpoLmi1gb836"
      },
      "outputs": [],
      "source": [
        "from keras.layers import LSTM\n",
        "from keras.layers import Embedding\n",
        "from keras.layers import Dropout\n",
        "from keras.layers import Bidirectional\n"
      ]
    },
    {
      "cell_type": "code",
      "execution_count": 115,
      "metadata": {
        "colab": {
          "base_uri": "https://localhost:8080/"
        },
        "id": "FuDkyx9hyR07",
        "outputId": "26f1aee5-1e61-4b14-e79f-cb002f452712"
      },
      "outputs": [
        {
          "name": "stdout",
          "output_type": "stream",
          "text": [
            "Model: \"sequential_5\"\n",
            "_________________________________________________________________\n",
            " Layer (type)                Output Shape              Param #   \n",
            "=================================================================\n",
            " embedding_5 (Embedding)     (None, 115, 300)          600000    \n",
            "                                                                 \n",
            " bidirectional_6 (Bidirectio  (None, 115, 128)         186880    \n",
            " nal)                                                            \n",
            "                                                                 \n",
            " dropout_6 (Dropout)         (None, 115, 128)          0         \n",
            "                                                                 \n",
            " bidirectional_7 (Bidirectio  (None, 128)              98816     \n",
            " nal)                                                            \n",
            "                                                                 \n",
            " dense_6 (Dense)             (None, 128)               16512     \n",
            "                                                                 \n",
            " dropout_7 (Dropout)         (None, 128)               0         \n",
            "                                                                 \n",
            " dense_7 (Dense)             (None, 5)                 645       \n",
            "                                                                 \n",
            "=================================================================\n",
            "Total params: 902,853\n",
            "Trainable params: 302,853\n",
            "Non-trainable params: 600,000\n",
            "_________________________________________________________________\n"
          ]
        }
      ],
      "source": [
        "# Definimos el modelo\n",
        "\n",
        "model2 = Sequential()\n",
        "# input_dim = vocab_size (max n_words)\n",
        "# input_length = setencias con padding a 200\n",
        "# output_dim = embed_dim (depende que embeddings pre entrenados utilizamos)\n",
        "model2.add(Embedding(input_dim=vocab_size, # definido en el Tokenizador\n",
        "                     output_dim=embed_dim, # dimensión de los embeddings utilizados\n",
        "                     input_length=in_shape, # máxima sentencia de entrada\n",
        "                     weights=[embedding_matrix], # matrix de embeddings\n",
        "                    trainable=False)) # marcar como layer no entrenable\n",
        "\n",
        "model2.add(Bidirectional(LSTM(units=64, return_sequences=True)))\n",
        "model2.add(Dropout(0.2))\n",
        "model2.add(Bidirectional(LSTM(units=64))) # La última capa LSTM no lleva return_sequences\n",
        "\n",
        "model2.add(Dense(units=128, activation='relu'))\n",
        "model2.add(Dropout(rate=0.2))\n",
        "model2.add(Dense(units=out_shape, activation='softmax'))\n",
        "\n",
        "model2.compile(optimizer=\"adam\",\n",
        "              loss='categorical_crossentropy',\n",
        "              metrics=['accuracy'])\n",
        "\n",
        "model2.summary()"
      ]
    },
    {
      "cell_type": "markdown",
      "metadata": {
        "id": "TS6ZRcQgxh5U"
      },
      "source": [
        "#### 3.2. Con el dataset balanceado con Random Oversampling"
      ]
    },
    {
      "cell_type": "code",
      "execution_count": 120,
      "metadata": {
        "id": "uwSPMsGazUzI"
      },
      "outputs": [
        {
          "name": "stdout",
          "output_type": "stream",
          "text": [
            "Epoch 1/30\n"
          ]
        },
        {
          "name": "stderr",
          "output_type": "stream",
          "text": [
            "2022-11-30 02:02:14.363312: I tensorflow/core/grappler/optimizers/custom_graph_optimizer_registry.cc:114] Plugin optimizer for device_type GPU is enabled.\n",
            "2022-11-30 02:02:14.615786: I tensorflow/core/grappler/optimizers/custom_graph_optimizer_registry.cc:114] Plugin optimizer for device_type GPU is enabled.\n",
            "2022-11-30 02:02:14.878410: I tensorflow/core/grappler/optimizers/custom_graph_optimizer_registry.cc:114] Plugin optimizer for device_type GPU is enabled.\n",
            "2022-11-30 02:02:15.151241: I tensorflow/core/grappler/optimizers/custom_graph_optimizer_registry.cc:114] Plugin optimizer for device_type GPU is enabled.\n",
            "2022-11-30 02:02:15.509423: I tensorflow/core/grappler/optimizers/custom_graph_optimizer_registry.cc:114] Plugin optimizer for device_type GPU is enabled.\n"
          ]
        },
        {
          "name": "stdout",
          "output_type": "stream",
          "text": [
            "1250/1250 [==============================] - ETA: 0s - loss: 1.4847 - accuracy: 0.3450"
          ]
        },
        {
          "name": "stderr",
          "output_type": "stream",
          "text": [
            "2022-11-30 02:03:25.816636: I tensorflow/core/grappler/optimizers/custom_graph_optimizer_registry.cc:114] Plugin optimizer for device_type GPU is enabled.\n",
            "2022-11-30 02:03:25.918927: I tensorflow/core/grappler/optimizers/custom_graph_optimizer_registry.cc:114] Plugin optimizer for device_type GPU is enabled.\n",
            "2022-11-30 02:03:26.090268: I tensorflow/core/grappler/optimizers/custom_graph_optimizer_registry.cc:114] Plugin optimizer for device_type GPU is enabled.\n"
          ]
        },
        {
          "name": "stdout",
          "output_type": "stream",
          "text": [
            "1250/1250 [==============================] - 84s 65ms/step - loss: 1.4847 - accuracy: 0.3450 - val_loss: 2.1366 - val_accuracy: 0.0000e+00\n",
            "Epoch 2/30\n",
            "1250/1250 [==============================] - 122s 98ms/step - loss: 1.2666 - accuracy: 0.4901 - val_loss: 1.7978 - val_accuracy: 0.0276\n",
            "Epoch 3/30\n",
            "1250/1250 [==============================] - 82s 66ms/step - loss: 0.9357 - accuracy: 0.6417 - val_loss: 1.7054 - val_accuracy: 0.1009\n",
            "Epoch 4/30\n",
            "1250/1250 [==============================] - 80s 64ms/step - loss: 0.7275 - accuracy: 0.7208 - val_loss: 1.6452 - val_accuracy: 0.1698\n",
            "Epoch 5/30\n",
            "1250/1250 [==============================] - 80s 64ms/step - loss: 0.6141 - accuracy: 0.7621 - val_loss: 1.3515 - val_accuracy: 0.2711\n",
            "Epoch 6/30\n",
            "1250/1250 [==============================] - 80s 64ms/step - loss: 0.5478 - accuracy: 0.7859 - val_loss: 1.2857 - val_accuracy: 0.2723\n",
            "Epoch 7/30\n",
            "1250/1250 [==============================] - 80s 64ms/step - loss: 0.5064 - accuracy: 0.7998 - val_loss: 1.2700 - val_accuracy: 0.3053\n",
            "Epoch 8/30\n",
            "1250/1250 [==============================] - 80s 64ms/step - loss: 0.4770 - accuracy: 0.8114 - val_loss: 1.2607 - val_accuracy: 0.3023\n",
            "Epoch 9/30\n",
            "1250/1250 [==============================] - 81s 65ms/step - loss: 0.4474 - accuracy: 0.8229 - val_loss: 1.2227 - val_accuracy: 0.3514\n",
            "Epoch 10/30\n",
            "1250/1250 [==============================] - 86s 69ms/step - loss: 0.4272 - accuracy: 0.8300 - val_loss: 1.1129 - val_accuracy: 0.3708\n",
            "Epoch 11/30\n",
            "1250/1250 [==============================] - 95s 76ms/step - loss: 0.4129 - accuracy: 0.8366 - val_loss: 1.1747 - val_accuracy: 0.3637\n",
            "Epoch 12/30\n",
            "1250/1250 [==============================] - 98s 78ms/step - loss: 0.3912 - accuracy: 0.8426 - val_loss: 1.0389 - val_accuracy: 0.3817\n",
            "Epoch 13/30\n",
            "1250/1250 [==============================] - 95s 76ms/step - loss: 0.3794 - accuracy: 0.8473 - val_loss: 1.0048 - val_accuracy: 0.4082\n",
            "Epoch 14/30\n",
            "1250/1250 [==============================] - 91s 73ms/step - loss: 0.3638 - accuracy: 0.8547 - val_loss: 0.8869 - val_accuracy: 0.4489\n",
            "Epoch 15/30\n",
            "1250/1250 [==============================] - 95s 76ms/step - loss: 0.3571 - accuracy: 0.8562 - val_loss: 0.9657 - val_accuracy: 0.4171\n",
            "Epoch 16/30\n",
            "1250/1250 [==============================] - 98s 78ms/step - loss: 0.3407 - accuracy: 0.8607 - val_loss: 0.9152 - val_accuracy: 0.4381\n",
            "Epoch 17/30\n",
            "1250/1250 [==============================] - 95s 76ms/step - loss: 0.3334 - accuracy: 0.8640 - val_loss: 0.7975 - val_accuracy: 0.5011\n",
            "Epoch 18/30\n",
            "1250/1250 [==============================] - 94s 76ms/step - loss: 0.3225 - accuracy: 0.8664 - val_loss: 0.9591 - val_accuracy: 0.4537\n",
            "Epoch 19/30\n",
            "1250/1250 [==============================] - 96s 77ms/step - loss: 0.3193 - accuracy: 0.8701 - val_loss: 0.8616 - val_accuracy: 0.4882\n",
            "Epoch 20/30\n",
            "1250/1250 [==============================] - 98s 78ms/step - loss: 0.3059 - accuracy: 0.8752 - val_loss: 0.9320 - val_accuracy: 0.4636\n",
            "Epoch 21/30\n",
            "1250/1250 [==============================] - 97s 77ms/step - loss: 0.3037 - accuracy: 0.8755 - val_loss: 0.8437 - val_accuracy: 0.4866\n",
            "Epoch 22/30\n",
            "1250/1250 [==============================] - 97s 78ms/step - loss: 0.2996 - accuracy: 0.8770 - val_loss: 0.7538 - val_accuracy: 0.5099\n",
            "Epoch 23/30\n",
            "1250/1250 [==============================] - 100s 80ms/step - loss: 0.2907 - accuracy: 0.8793 - val_loss: 0.7478 - val_accuracy: 0.5349\n",
            "Epoch 24/30\n",
            "1250/1250 [==============================] - 98s 79ms/step - loss: 0.2868 - accuracy: 0.8796 - val_loss: 0.7039 - val_accuracy: 0.5658\n",
            "Epoch 25/30\n",
            "1250/1250 [==============================] - 95s 76ms/step - loss: 0.2837 - accuracy: 0.8821 - val_loss: 0.8093 - val_accuracy: 0.5257\n",
            "Epoch 26/30\n",
            "1250/1250 [==============================] - 96s 77ms/step - loss: 0.2712 - accuracy: 0.8854 - val_loss: 0.6907 - val_accuracy: 0.5897\n",
            "Epoch 27/30\n",
            "1250/1250 [==============================] - 99s 79ms/step - loss: 0.2727 - accuracy: 0.8857 - val_loss: 0.7982 - val_accuracy: 0.5197\n",
            "Epoch 28/30\n",
            "1250/1250 [==============================] - 98s 78ms/step - loss: 0.2688 - accuracy: 0.8871 - val_loss: 0.7054 - val_accuracy: 0.5768\n",
            "Epoch 29/30\n",
            "1250/1250 [==============================] - 96s 77ms/step - loss: 0.2672 - accuracy: 0.8868 - val_loss: 0.7354 - val_accuracy: 0.5764\n",
            "Epoch 30/30\n",
            "1250/1250 [==============================] - 94s 75ms/step - loss: 0.2615 - accuracy: 0.8894 - val_loss: 0.6372 - val_accuracy: 0.6217\n"
          ]
        }
      ],
      "source": [
        "hist2_ros = model2.fit(X_ros_train, y_ros_train, epochs=30, validation_split=0.2)"
      ]
    },
    {
      "cell_type": "code",
      "execution_count": 121,
      "metadata": {
        "id": "y9phnkM-z-pM"
      },
      "outputs": [
        {
          "data": {
            "image/png": "[encoded data removed]",
            "text/plain": [
              "<Figure size 432x288 with 1 Axes>"
            ]
          },
          "metadata": {
            "needs_background": "light"
          },
          "output_type": "display_data"
        },
        {
          "data": {
            "image/png": "[encoded data removed]",
            "text/plain": [
              "<Figure size 432x288 with 1 Axes>"
            ]
          },
          "metadata": {
            "needs_background": "light"
          },
          "output_type": "display_data"
        }
      ],
      "source": [
        "epoch_count = range(1, len(hist2_ros.history['accuracy']) + 1)\n",
        "sns.lineplot(x=epoch_count,  y=hist2_ros.history['loss'], label='train')\n",
        "sns.lineplot(x=epoch_count,  y=hist2_ros.history['val_loss'], label='valid')\n",
        "plt.title('Loss')\n",
        "plt.show()\n",
        "plt.figure()\n",
        "sns.lineplot(x=epoch_count,  y=hist2_ros.history['accuracy'], label='train')\n",
        "sns.lineplot(x=epoch_count,  y=hist2_ros.history['val_accuracy'], label='valid')\n",
        "plt.title('Accuracy')\n",
        "plt.show()"
      ]
    },
    {
      "cell_type": "code",
      "execution_count": 122,
      "metadata": {
        "id": "BftIcwD4zp9y"
      },
      "outputs": [
        {
          "name": "stderr",
          "output_type": "stream",
          "text": [
            "2022-11-30 02:49:56.460558: I tensorflow/core/grappler/optimizers/custom_graph_optimizer_registry.cc:114] Plugin optimizer for device_type GPU is enabled.\n",
            "2022-11-30 02:49:56.600499: I tensorflow/core/grappler/optimizers/custom_graph_optimizer_registry.cc:114] Plugin optimizer for device_type GPU is enabled.\n",
            "2022-11-30 02:49:56.816310: I tensorflow/core/grappler/optimizers/custom_graph_optimizer_registry.cc:114] Plugin optimizer for device_type GPU is enabled.\n"
          ]
        },
        {
          "name": "stdout",
          "output_type": "stream",
          "text": [
            "142/142 [==============================] - 7s 38ms/step - loss: 2.3253 - accuracy: 0.5125\n"
          ]
        },
        {
          "data": {
            "text/plain": [
              "[2.3253321647644043, 0.5124751925468445]"
            ]
          },
          "execution_count": 122,
          "metadata": {},
          "output_type": "execute_result"
        }
      ],
      "source": [
        "model2.evaluate(X_test, y_test)"
      ]
    },
    {
      "cell_type": "markdown",
      "metadata": {
        "id": "r2ej1MOIxlIO"
      },
      "source": [
        "#### 3.3. Utilizando weights"
      ]
    },
    {
      "cell_type": "code",
      "execution_count": 123,
      "metadata": {
        "id": "QAy2EaaOzc7J"
      },
      "outputs": [],
      "source": [
        "# Definimos el modelo\n",
        "\n",
        "model2 = Sequential()\n",
        "# input_dim = vocab_size (max n_words)\n",
        "# input_length = setencias con padding a 200\n",
        "# output_dim = embed_dim (depende que embeddings pre entrenados utilizamos)\n",
        "model2.add(Embedding(input_dim=vocab_size, # definido en el Tokenizador\n",
        "                     output_dim=embed_dim, # dimensión de los embeddings utilizados\n",
        "                     input_length=in_shape, # máxima sentencia de entrada\n",
        "                     weights=[embedding_matrix], # matrix de embeddings\n",
        "                    trainable=False)) # marcar como layer no entrenable\n",
        "\n",
        "model2.add(LSTM(units=64, return_sequences=True))\n",
        "model2.add(Dropout(0.3))\n",
        "model2.add(LSTM(units=64)) # La última capa LSTM no lleva return_sequences\n",
        "\n",
        "model2.add(Dense(units=128, activation='relu'))\n",
        "model2.add(Dropout(rate=0.3))\n",
        "model2.add(Dense(units=out_shape, activation='softmax'))\n",
        "\n",
        "model2.compile(optimizer=\"adam\",\n",
        "              loss='categorical_crossentropy',\n",
        "              metrics=['accuracy'])"
      ]
    },
    {
      "cell_type": "code",
      "execution_count": 124,
      "metadata": {
        "id": "avvSJIh7zc7K"
      },
      "outputs": [
        {
          "name": "stdout",
          "output_type": "stream",
          "text": [
            "Epoch 1/40\n"
          ]
        },
        {
          "name": "stderr",
          "output_type": "stream",
          "text": [
            "2022-11-30 02:51:56.589095: I tensorflow/core/grappler/optimizers/custom_graph_optimizer_registry.cc:114] Plugin optimizer for device_type GPU is enabled.\n",
            "2022-11-30 02:51:56.839747: I tensorflow/core/grappler/optimizers/custom_graph_optimizer_registry.cc:114] Plugin optimizer for device_type GPU is enabled.\n",
            "2022-11-30 02:51:57.058267: I tensorflow/core/grappler/optimizers/custom_graph_optimizer_registry.cc:114] Plugin optimizer for device_type GPU is enabled.\n",
            "2022-11-30 02:51:57.323152: I tensorflow/core/grappler/optimizers/custom_graph_optimizer_registry.cc:114] Plugin optimizer for device_type GPU is enabled.\n",
            "2022-11-30 02:51:57.647229: I tensorflow/core/grappler/optimizers/custom_graph_optimizer_registry.cc:114] Plugin optimizer for device_type GPU is enabled.\n"
          ]
        },
        {
          "name": "stdout",
          "output_type": "stream",
          "text": [
            "453/453 [==============================] - ETA: 0s - loss: 1.5907 - accuracy: 0.2753"
          ]
        },
        {
          "name": "stderr",
          "output_type": "stream",
          "text": [
            "2022-11-30 02:52:24.182654: I tensorflow/core/grappler/optimizers/custom_graph_optimizer_registry.cc:114] Plugin optimizer for device_type GPU is enabled.\n",
            "2022-11-30 02:52:24.281884: I tensorflow/core/grappler/optimizers/custom_graph_optimizer_registry.cc:114] Plugin optimizer for device_type GPU is enabled.\n",
            "2022-11-30 02:52:24.455957: I tensorflow/core/grappler/optimizers/custom_graph_optimizer_registry.cc:114] Plugin optimizer for device_type GPU is enabled.\n"
          ]
        },
        {
          "name": "stdout",
          "output_type": "stream",
          "text": [
            "453/453 [==============================] - 33s 68ms/step - loss: 1.5907 - accuracy: 0.2753 - val_loss: 1.5436 - val_accuracy: 0.4066\n",
            "Epoch 2/40\n",
            "453/453 [==============================] - 29s 64ms/step - loss: 1.5597 - accuracy: 0.3501 - val_loss: 1.5108 - val_accuracy: 0.3710\n",
            "Epoch 3/40\n",
            "453/453 [==============================] - 29s 64ms/step - loss: 1.5147 - accuracy: 0.4073 - val_loss: 1.4841 - val_accuracy: 0.3746\n",
            "Epoch 4/40\n",
            "453/453 [==============================] - 29s 64ms/step - loss: 1.4883 - accuracy: 0.4011 - val_loss: 1.4008 - val_accuracy: 0.4408\n",
            "Epoch 5/40\n",
            "453/453 [==============================] - 29s 64ms/step - loss: 1.4653 - accuracy: 0.4135 - val_loss: 1.4330 - val_accuracy: 0.3878\n",
            "Epoch 6/40\n",
            "453/453 [==============================] - 29s 64ms/step - loss: 1.4333 - accuracy: 0.4215 - val_loss: 1.4351 - val_accuracy: 0.3903\n",
            "Epoch 7/40\n",
            "453/453 [==============================] - 29s 64ms/step - loss: 1.4015 - accuracy: 0.4334 - val_loss: 1.2937 - val_accuracy: 0.4510\n",
            "Epoch 8/40\n",
            "453/453 [==============================] - 29s 64ms/step - loss: 1.3660 - accuracy: 0.4346 - val_loss: 1.3439 - val_accuracy: 0.4143\n",
            "Epoch 9/40\n",
            "453/453 [==============================] - 29s 64ms/step - loss: 1.3261 - accuracy: 0.4515 - val_loss: 1.4518 - val_accuracy: 0.3908\n",
            "Epoch 10/40\n",
            "453/453 [==============================] - 29s 64ms/step - loss: 1.2741 - accuracy: 0.4579 - val_loss: 1.4674 - val_accuracy: 0.3492\n",
            "Epoch 11/40\n",
            "453/453 [==============================] - 29s 64ms/step - loss: 1.2271 - accuracy: 0.4744 - val_loss: 1.3903 - val_accuracy: 0.4190\n",
            "Epoch 12/40\n",
            "453/453 [==============================] - 29s 64ms/step - loss: 1.1708 - accuracy: 0.4800 - val_loss: 1.3304 - val_accuracy: 0.4270\n",
            "Epoch 13/40\n",
            "453/453 [==============================] - 29s 64ms/step - loss: 1.1087 - accuracy: 0.4952 - val_loss: 1.4647 - val_accuracy: 0.3754\n",
            "Epoch 14/40\n",
            "453/453 [==============================] - 29s 64ms/step - loss: 1.0548 - accuracy: 0.4980 - val_loss: 1.5428 - val_accuracy: 0.3428\n",
            "Epoch 15/40\n",
            "453/453 [==============================] - 29s 65ms/step - loss: 0.9880 - accuracy: 0.5223 - val_loss: 1.5453 - val_accuracy: 0.3839\n",
            "Epoch 16/40\n",
            "453/453 [==============================] - 29s 65ms/step - loss: 0.9317 - accuracy: 0.5254 - val_loss: 1.4397 - val_accuracy: 0.4436\n",
            "Epoch 17/40\n",
            "453/453 [==============================] - 30s 66ms/step - loss: 0.8853 - accuracy: 0.5336 - val_loss: 1.5528 - val_accuracy: 0.4124\n",
            "Epoch 18/40\n",
            "453/453 [==============================] - 30s 66ms/step - loss: 0.8409 - accuracy: 0.5493 - val_loss: 1.5966 - val_accuracy: 0.3792\n",
            "Epoch 19/40\n",
            "453/453 [==============================] - 42s 92ms/step - loss: 0.8396 - accuracy: 0.5415 - val_loss: 1.5123 - val_accuracy: 0.4568\n",
            "Epoch 20/40\n",
            "453/453 [==============================] - 52s 114ms/step - loss: 0.7671 - accuracy: 0.5671 - val_loss: 1.6031 - val_accuracy: 0.4413\n",
            "Epoch 21/40\n",
            "453/453 [==============================] - 47s 105ms/step - loss: 0.7467 - accuracy: 0.5663 - val_loss: 1.6129 - val_accuracy: 0.4306\n",
            "Epoch 22/40\n",
            "453/453 [==============================] - 29s 64ms/step - loss: 0.7099 - accuracy: 0.5801 - val_loss: 1.6756 - val_accuracy: 0.4516\n",
            "Epoch 23/40\n",
            "453/453 [==============================] - 29s 64ms/step - loss: 0.7018 - accuracy: 0.5826 - val_loss: 1.7070 - val_accuracy: 0.4397\n",
            "Epoch 24/40\n",
            "453/453 [==============================] - 29s 64ms/step - loss: 0.6609 - accuracy: 0.5986 - val_loss: 1.7364 - val_accuracy: 0.4146\n",
            "Epoch 25/40\n",
            "453/453 [==============================] - 29s 64ms/step - loss: 0.6231 - accuracy: 0.6074 - val_loss: 1.8107 - val_accuracy: 0.4027\n",
            "Epoch 26/40\n",
            "453/453 [==============================] - 29s 63ms/step - loss: 0.6312 - accuracy: 0.6060 - val_loss: 1.8549 - val_accuracy: 0.3999\n",
            "Epoch 27/40\n",
            "453/453 [==============================] - 36s 79ms/step - loss: 0.6215 - accuracy: 0.6158 - val_loss: 1.8654 - val_accuracy: 0.4204\n",
            "Epoch 28/40\n",
            "453/453 [==============================] - 52s 114ms/step - loss: 0.5718 - accuracy: 0.6256 - val_loss: 1.9320 - val_accuracy: 0.4008\n",
            "Epoch 29/40\n",
            "453/453 [==============================] - 52s 115ms/step - loss: 0.6045 - accuracy: 0.6171 - val_loss: 1.8740 - val_accuracy: 0.4137\n",
            "Epoch 30/40\n",
            "453/453 [==============================] - 52s 114ms/step - loss: 0.5664 - accuracy: 0.6296 - val_loss: 1.9385 - val_accuracy: 0.4115\n",
            "Epoch 31/40\n",
            "453/453 [==============================] - 31s 69ms/step - loss: 0.5564 - accuracy: 0.6323 - val_loss: 1.9346 - val_accuracy: 0.4397\n",
            "Epoch 32/40\n",
            "453/453 [==============================] - 69s 154ms/step - loss: 0.5371 - accuracy: 0.6415 - val_loss: 2.0229 - val_accuracy: 0.3991\n",
            "Epoch 33/40\n",
            "453/453 [==============================] - 29s 64ms/step - loss: 0.5241 - accuracy: 0.6436 - val_loss: 2.0003 - val_accuracy: 0.4146\n",
            "Epoch 34/40\n",
            "453/453 [==============================] - 29s 64ms/step - loss: 0.5019 - accuracy: 0.6452 - val_loss: 2.0716 - val_accuracy: 0.4367\n",
            "Epoch 35/40\n",
            "453/453 [==============================] - 29s 64ms/step - loss: 0.5278 - accuracy: 0.6459 - val_loss: 2.0539 - val_accuracy: 0.3939\n",
            "Epoch 36/40\n",
            "453/453 [==============================] - 29s 64ms/step - loss: 0.5007 - accuracy: 0.6490 - val_loss: 2.0516 - val_accuracy: 0.3864\n",
            "Epoch 37/40\n",
            "453/453 [==============================] - 34s 75ms/step - loss: 0.5015 - accuracy: 0.6530 - val_loss: 2.0814 - val_accuracy: 0.4378\n",
            "Epoch 38/40\n",
            "453/453 [==============================] - 29s 64ms/step - loss: 0.5097 - accuracy: 0.6484 - val_loss: 2.0591 - val_accuracy: 0.4171\n",
            "Epoch 39/40\n",
            "453/453 [==============================] - 29s 64ms/step - loss: 0.4641 - accuracy: 0.6667 - val_loss: 2.1034 - val_accuracy: 0.4248\n",
            "Epoch 40/40\n",
            "453/453 [==============================] - 44s 97ms/step - loss: 0.4250 - accuracy: 0.6844 - val_loss: 2.1831 - val_accuracy: 0.4168\n"
          ]
        }
      ],
      "source": [
        "hist2_cw = model2.fit(X_train, y_train, epochs=40, validation_split=0.2, class_weight=class_weights)"
      ]
    },
    {
      "cell_type": "code",
      "execution_count": 125,
      "metadata": {
        "id": "lj27KWUA0GZc"
      },
      "outputs": [
        {
          "data": {
            "image/png": "[encoded data removed]",
            "text/plain": [
              "<Figure size 432x288 with 1 Axes>"
            ]
          },
          "metadata": {
            "needs_background": "light"
          },
          "output_type": "display_data"
        },
        {
          "data": {
            "image/png": "[encoded data removed]",
            "text/plain": [
              "<Figure size 432x288 with 1 Axes>"
            ]
          },
          "metadata": {
            "needs_background": "light"
          },
          "output_type": "display_data"
        }
      ],
      "source": [
        "epoch_count = range(1, len(hist2_cw.history['accuracy']) + 1)\n",
        "sns.lineplot(x=epoch_count,  y=hist2_cw.history['loss'], label='train')\n",
        "sns.lineplot(x=epoch_count,  y=hist2_cw.history['val_loss'], label='valid')\n",
        "plt.title('Loss')\n",
        "plt.show()\n",
        "plt.figure()\n",
        "sns.lineplot(x=epoch_count,  y=hist2_cw.history['accuracy'], label='train')\n",
        "sns.lineplot(x=epoch_count,  y=hist2_cw.history['val_accuracy'], label='valid')\n",
        "plt.title('Accuracy')\n",
        "plt.show()"
      ]
    },
    {
      "cell_type": "code",
      "execution_count": 126,
      "metadata": {
        "id": "ZJfq2cIAxcyx"
      },
      "outputs": [
        {
          "name": "stdout",
          "output_type": "stream",
          "text": [
            "142/142 [==============================] - 9s 66ms/step - loss: 2.0682 - accuracy: 0.4231\n"
          ]
        },
        {
          "data": {
            "text/plain": [
              "[2.068249464035034, 0.4230514466762543]"
            ]
          },
          "execution_count": 126,
          "metadata": {},
          "output_type": "execute_result"
        }
      ],
      "source": [
        "model2.evaluate(X_test, y_test)"
      ]
    },
    {
      "cell_type": "markdown",
      "metadata": {
        "id": "Vidpprh0qO3k"
      },
      "source": [
        "### Conclusiones\n",
        "\n",
        "#### Se utilizó una arquitectura con redes LSTM bidireccionales, en este caso se realizaron pruebas manteniendo las stop words.\n",
        "\n",
        "#### Resumen de resultados:\n",
        "\n",
        "\n",
        "| Prueba Nro  | Descripción | Loss       | Accuracy    | Observaciones |\n",
        "| :-----------: | :----------- |:-----------:|:-----------:|:-----------:|\n",
        "| 2.1.        | Con mis propios embeddings y sin balancear el dataset|2.3909 |0.5732 | Se observa overfitting con 30 epochs. \n",
        "| 2.2.        | Con mis propios embeddings y dataset balanceado con random udersampling        | 2.8995 | 0.5754 | Se probó con 35 epochs\n",
        "| 2.3.        | Con mis propios embeddings y entrenado con class-weights       | 1.5161 | 0.543 | Se probó con 20 epochs \n",
        "| 3.1.        | Con embeddings Fasttext (Fasttext) y dataset balanceado con random udersampling        | 2.3253  |  0.5125 | Se probó con 30 epochs por falta de recursos de GPU, pero se observa que podría mejorar con más epochs.\n",
        "| 3.3.        | Con embedding Fasttext y entrenado con class-weights        | 2.0682 | 0.4231 | Se probó con 40 epochs, se observa overfitting"
      ]
    },
    {
      "cell_type": "markdown",
      "metadata": {},
      "source": [
        "#### En general no se observa una buena performance con ninguno de los mecanismos implementados para compensa el desbalance de clases. Tanto con embeddings propios como con pre-entrenados, los mejores resultados se obtuvieron con Random Oversampling. La arquitectura con embeddings propios funcionó mejor."
      ]
    }
  ],
  "metadata": {
    "accelerator": "GPU",
    "colab": {
      "provenance": []
    },
    "kernelspec": {
      "display_name": "Python 3.10.2 64-bit",
      "language": "python",
      "name": "python3"
    },
    "language_info": {
      "codemirror_mode": {
        "name": "ipython",
        "version": 3
      },
      "file_extension": ".py",
      "mimetype": "text/x-python",
      "name": "python",
      "nbconvert_exporter": "python",
      "pygments_lexer": "ipython3",
      "version": "3.10.2"
    },
    "vscode": {
      "interpreter": {
        "hash": "aee8b7b246df8f9039afb4144a1f6fd8d2ca17a180786b69acc140d282b71a49"
      }
    }
  },
  "nbformat": 4,
  "nbformat_minor": 0
}
