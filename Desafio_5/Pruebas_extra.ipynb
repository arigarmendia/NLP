{
  "cells": [
    {
      "cell_type": "markdown",
      "metadata": {
        "id": "kBLpTr7plguX"
      },
      "source": [
        "<img src=\"https://github.com/hernancontigiani/ceia_memorias_especializacion/raw/master/Figures/logoFIUBA.jpg\" width=\"500\" align=\"center\">\n",
        "\n",
        "\n",
        "# Procesamiento de lenguaje natural\n",
        "## Sentiment analysis con Embeddings + LSTM\n",
        "\n",
        "## Prueba 2.1 Stop words y con 60 epochs"
      ]
    },
    {
      "cell_type": "code",
      "execution_count": 1,
      "metadata": {
        "id": "i6zvzv3qZ6xS"
      },
      "outputs": [],
      "source": [
        "!pip install --upgrade --no-cache-dir gdown --quiet"
      ]
    },
    {
      "cell_type": "code",
      "execution_count": 2,
      "metadata": {
        "id": "hCpOVzJdl8_p"
      },
      "outputs": [],
      "source": [
        "import numpy as np\n",
        "import random\n",
        "import io\n",
        "import pickle\n",
        "import pandas as pd\n",
        "\n",
        "import matplotlib.pyplot as plt\n",
        "import seaborn as sns\n",
        "\n",
        "import tensorflow as tf\n",
        "from tensorflow import keras\n",
        "from tensorflow.keras import layers\n",
        "\n",
        "from keras.utils.np_utils import to_categorical\n",
        "from tensorflow.keras.utils import pad_sequences\n",
        "from keras.models import Sequential\n",
        "from keras.layers import Dense\n",
        "from keras.layers import LSTM\n",
        "from keras.layers import Embedding\n",
        "\n",
        "import seaborn as sns"
      ]
    },
    {
      "cell_type": "markdown",
      "metadata": {
        "id": "8UPeRkrAmbF3"
      },
      "source": [
        "### Datos"
      ]
    },
    {
      "cell_type": "code",
      "execution_count": 3,
      "metadata": {
        "colab": {
          "base_uri": "https://localhost:8080/"
        },
        "id": "C7jLvTU3lSyL",
        "outputId": "449e8d75-990b-4c22-f127-9262ba897811"
      },
      "outputs": [
        {
          "name": "stderr",
          "output_type": "stream",
          "text": [
            "Downloading...\n",
            "From: https://drive.google.com/uc?id=1Urn1UFSrodN5BuW6-sc_igtaySGRwhV8\n",
            "To: /content/clothing_ecommerce_reviews.csv\n",
            "100%|██████████| 8.48M/8.48M [00:00<00:00, 27.2MB/s]\n"
          ]
        }
      ],
      "source": [
        "# Descargar la carpeta de dataset\n",
        "import os\n",
        "import gdown\n",
        "if os.access('clothing_ecommerce_reviews.csv', os.F_OK) is False:\n",
        "    url = 'https://drive.google.com/uc?id=1Urn1UFSrodN5BuW6-sc_igtaySGRwhV8'\n",
        "    output = 'clothing_ecommerce_reviews.csv'\n",
        "    gdown.download(url, output, quiet=False)\n",
        "else:\n",
        "    print(\"El dataset ya se encuentra descargado\")"
      ]
    },
    {
      "cell_type": "code",
      "execution_count": 4,
      "metadata": {
        "colab": {
          "base_uri": "https://localhost:8080/",
          "height": 302
        },
        "id": "o-SV1P3dnD1J",
        "outputId": "3b4a1253-6c8d-4a12-9ebe-4512c16f0b7f"
      },
      "outputs": [
        {
          "data": {
            "text/html": [
              "\n",
              "  <div id=\"df-fc68e1ff-1ed1-47d1-9125-8bbf4a541ca9\">\n",
              "    <div class=\"colab-df-container\">\n",
              "      <div>\n",
              "<style scoped>\n",
              "    .dataframe tbody tr th:only-of-type {\n",
              "        vertical-align: middle;\n",
              "    }\n",
              "\n",
              "    .dataframe tbody tr th {\n",
              "        vertical-align: top;\n",
              "    }\n",
              "\n",
              "    .dataframe thead th {\n",
              "        text-align: right;\n",
              "    }\n",
              "</style>\n",
              "<table border=\"1\" class=\"dataframe\">\n",
              "  <thead>\n",
              "    <tr style=\"text-align: right;\">\n",
              "      <th></th>\n",
              "      <th>Clothing ID</th>\n",
              "      <th>Age</th>\n",
              "      <th>Title</th>\n",
              "      <th>Review Text</th>\n",
              "      <th>Rating</th>\n",
              "      <th>Recommended IND</th>\n",
              "      <th>Positive Feedback Count</th>\n",
              "      <th>Division Name</th>\n",
              "      <th>Department Name</th>\n",
              "      <th>Class Name</th>\n",
              "    </tr>\n",
              "  </thead>\n",
              "  <tbody>\n",
              "    <tr>\n",
              "      <th>0</th>\n",
              "      <td>767</td>\n",
              "      <td>33</td>\n",
              "      <td>NaN</td>\n",
              "      <td>Absolutely wonderful - silky and sexy and comf...</td>\n",
              "      <td>4</td>\n",
              "      <td>1</td>\n",
              "      <td>0</td>\n",
              "      <td>Initmates</td>\n",
              "      <td>Intimate</td>\n",
              "      <td>Intimates</td>\n",
              "    </tr>\n",
              "    <tr>\n",
              "      <th>1</th>\n",
              "      <td>1080</td>\n",
              "      <td>34</td>\n",
              "      <td>NaN</td>\n",
              "      <td>Love this dress!  it's sooo pretty.  i happene...</td>\n",
              "      <td>5</td>\n",
              "      <td>1</td>\n",
              "      <td>4</td>\n",
              "      <td>General</td>\n",
              "      <td>Dresses</td>\n",
              "      <td>Dresses</td>\n",
              "    </tr>\n",
              "    <tr>\n",
              "      <th>2</th>\n",
              "      <td>1077</td>\n",
              "      <td>60</td>\n",
              "      <td>Some major design flaws</td>\n",
              "      <td>I had such high hopes for this dress and reall...</td>\n",
              "      <td>3</td>\n",
              "      <td>0</td>\n",
              "      <td>0</td>\n",
              "      <td>General</td>\n",
              "      <td>Dresses</td>\n",
              "      <td>Dresses</td>\n",
              "    </tr>\n",
              "    <tr>\n",
              "      <th>3</th>\n",
              "      <td>1049</td>\n",
              "      <td>50</td>\n",
              "      <td>My favorite buy!</td>\n",
              "      <td>I love, love, love this jumpsuit. it's fun, fl...</td>\n",
              "      <td>5</td>\n",
              "      <td>1</td>\n",
              "      <td>0</td>\n",
              "      <td>General Petite</td>\n",
              "      <td>Bottoms</td>\n",
              "      <td>Pants</td>\n",
              "    </tr>\n",
              "    <tr>\n",
              "      <th>4</th>\n",
              "      <td>847</td>\n",
              "      <td>47</td>\n",
              "      <td>Flattering shirt</td>\n",
              "      <td>This shirt is very flattering to all due to th...</td>\n",
              "      <td>5</td>\n",
              "      <td>1</td>\n",
              "      <td>6</td>\n",
              "      <td>General</td>\n",
              "      <td>Tops</td>\n",
              "      <td>Blouses</td>\n",
              "    </tr>\n",
              "  </tbody>\n",
              "</table>\n",
              "</div>\n",
              "      <button class=\"colab-df-convert\" onclick=\"convertToInteractive('df-fc68e1ff-1ed1-47d1-9125-8bbf4a541ca9')\"\n",
              "              title=\"Convert this dataframe to an interactive table.\"\n",
              "              style=\"display:none;\">\n",
              "        \n",
              "  <svg xmlns=\"http://www.w3.org/2000/svg\" height=\"24px\"viewBox=\"0 0 24 24\"\n",
              "       width=\"24px\">\n",
              "    <path d=\"M0 0h24v24H0V0z\" fill=\"none\"/>\n",
              "    <path d=\"M18.56 5.44l.94 2.06.94-2.06 2.06-.94-2.06-.94-.94-2.06-.94 2.06-2.06.94zm-11 1L8.5 8.5l.94-2.06 2.06-.94-2.06-.94L8.5 2.5l-.94 2.06-2.06.94zm10 10l.94 2.06.94-2.06 2.06-.94-2.06-.94-.94-2.06-.94 2.06-2.06.94z\"/><path d=\"M17.41 7.96l-1.37-1.37c-.4-.4-.92-.59-1.43-.59-.52 0-1.04.2-1.43.59L10.3 9.45l-7.72 7.72c-.78.78-.78 2.05 0 2.83L4 21.41c.39.39.9.59 1.41.59.51 0 1.02-.2 1.41-.59l7.78-7.78 2.81-2.81c.8-.78.8-2.07 0-2.86zM5.41 20L4 18.59l7.72-7.72 1.47 1.35L5.41 20z\"/>\n",
              "  </svg>\n",
              "      </button>\n",
              "      \n",
              "  <style>\n",
              "    .colab-df-container {\n",
              "      display:flex;\n",
              "      flex-wrap:wrap;\n",
              "      gap: 12px;\n",
              "    }\n",
              "\n",
              "    .colab-df-convert {\n",
              "      background-color: #E8F0FE;\n",
              "      border: none;\n",
              "      border-radius: 50%;\n",
              "      cursor: pointer;\n",
              "      display: none;\n",
              "      fill: #1967D2;\n",
              "      height: 32px;\n",
              "      padding: 0 0 0 0;\n",
              "      width: 32px;\n",
              "    }\n",
              "\n",
              "    .colab-df-convert:hover {\n",
              "      background-color: #E2EBFA;\n",
              "      box-shadow: 0px 1px 2px rgba(60, 64, 67, 0.3), 0px 1px 3px 1px rgba(60, 64, 67, 0.15);\n",
              "      fill: #174EA6;\n",
              "    }\n",
              "\n",
              "    [theme=dark] .colab-df-convert {\n",
              "      background-color: #3B4455;\n",
              "      fill: #D2E3FC;\n",
              "    }\n",
              "\n",
              "    [theme=dark] .colab-df-convert:hover {\n",
              "      background-color: #434B5C;\n",
              "      box-shadow: 0px 1px 3px 1px rgba(0, 0, 0, 0.15);\n",
              "      filter: drop-shadow(0px 1px 2px rgba(0, 0, 0, 0.3));\n",
              "      fill: #FFFFFF;\n",
              "    }\n",
              "  </style>\n",
              "\n",
              "      <script>\n",
              "        const buttonEl =\n",
              "          document.querySelector('#df-fc68e1ff-1ed1-47d1-9125-8bbf4a541ca9 button.colab-df-convert');\n",
              "        buttonEl.style.display =\n",
              "          google.colab.kernel.accessAllowed ? 'block' : 'none';\n",
              "\n",
              "        async function convertToInteractive(key) {\n",
              "          const element = document.querySelector('#df-fc68e1ff-1ed1-47d1-9125-8bbf4a541ca9');\n",
              "          const dataTable =\n",
              "            await google.colab.kernel.invokeFunction('convertToInteractive',\n",
              "                                                     [key], {});\n",
              "          if (!dataTable) return;\n",
              "\n",
              "          const docLinkHtml = 'Like what you see? Visit the ' +\n",
              "            '<a target=\"_blank\" href=https://colab.research.google.com/notebooks/data_table.ipynb>data table notebook</a>'\n",
              "            + ' to learn more about interactive tables.';\n",
              "          element.innerHTML = '';\n",
              "          dataTable['output_type'] = 'display_data';\n",
              "          await google.colab.output.renderOutput(dataTable, element);\n",
              "          const docLink = document.createElement('div');\n",
              "          docLink.innerHTML = docLinkHtml;\n",
              "          element.appendChild(docLink);\n",
              "        }\n",
              "      </script>\n",
              "    </div>\n",
              "  </div>\n",
              "  "
            ],
            "text/plain": [
              "   Clothing ID  Age                    Title  \\\n",
              "0          767   33                      NaN   \n",
              "1         1080   34                      NaN   \n",
              "2         1077   60  Some major design flaws   \n",
              "3         1049   50         My favorite buy!   \n",
              "4          847   47         Flattering shirt   \n",
              "\n",
              "                                         Review Text  Rating  Recommended IND  \\\n",
              "0  Absolutely wonderful - silky and sexy and comf...       4                1   \n",
              "1  Love this dress!  it's sooo pretty.  i happene...       5                1   \n",
              "2  I had such high hopes for this dress and reall...       3                0   \n",
              "3  I love, love, love this jumpsuit. it's fun, fl...       5                1   \n",
              "4  This shirt is very flattering to all due to th...       5                1   \n",
              "\n",
              "   Positive Feedback Count   Division Name Department Name Class Name  \n",
              "0                        0       Initmates        Intimate  Intimates  \n",
              "1                        4         General         Dresses    Dresses  \n",
              "2                        0         General         Dresses    Dresses  \n",
              "3                        0  General Petite         Bottoms      Pants  \n",
              "4                        6         General            Tops    Blouses  "
            ]
          },
          "execution_count": 4,
          "metadata": {},
          "output_type": "execute_result"
        }
      ],
      "source": [
        "# Armar el dataset\n",
        "df = pd.read_csv('clothing_ecommerce_reviews.csv')\n",
        "df.drop(columns = ['Unnamed: 0'], inplace = True)\n",
        "df.head()"
      ]
    },
    {
      "cell_type": "markdown",
      "metadata": {
        "id": "q-OwSePKm-FK"
      },
      "source": [
        "### 1 - Limpieza de datos\n",
        "Alumno:\n",
        "- Del dataset unicamente utilizar las columnas \"Review Text\" y \"Rating.\n",
        "- Tranformar el rating 1-5 a una escala numérica de 0 a 4.\n",
        "\n"
      ]
    },
    {
      "cell_type": "code",
      "execution_count": 5,
      "metadata": {
        "colab": {
          "base_uri": "https://localhost:8080/",
          "height": 206
        },
        "id": "-hc7-AmYnPC3",
        "outputId": "b2f533dc-e288-4e65-8f64-e2404055505f"
      },
      "outputs": [
        {
          "data": {
            "text/html": [
              "\n",
              "  <div id=\"df-50c411f4-959d-4d2e-bea2-ed8695f7402e\">\n",
              "    <div class=\"colab-df-container\">\n",
              "      <div>\n",
              "<style scoped>\n",
              "    .dataframe tbody tr th:only-of-type {\n",
              "        vertical-align: middle;\n",
              "    }\n",
              "\n",
              "    .dataframe tbody tr th {\n",
              "        vertical-align: top;\n",
              "    }\n",
              "\n",
              "    .dataframe thead th {\n",
              "        text-align: right;\n",
              "    }\n",
              "</style>\n",
              "<table border=\"1\" class=\"dataframe\">\n",
              "  <thead>\n",
              "    <tr style=\"text-align: right;\">\n",
              "      <th></th>\n",
              "      <th>Review Text</th>\n",
              "      <th>Rating</th>\n",
              "    </tr>\n",
              "  </thead>\n",
              "  <tbody>\n",
              "    <tr>\n",
              "      <th>0</th>\n",
              "      <td>Absolutely wonderful - silky and sexy and comf...</td>\n",
              "      <td>3</td>\n",
              "    </tr>\n",
              "    <tr>\n",
              "      <th>1</th>\n",
              "      <td>Love this dress!  it's sooo pretty.  i happene...</td>\n",
              "      <td>4</td>\n",
              "    </tr>\n",
              "    <tr>\n",
              "      <th>2</th>\n",
              "      <td>I had such high hopes for this dress and reall...</td>\n",
              "      <td>2</td>\n",
              "    </tr>\n",
              "    <tr>\n",
              "      <th>3</th>\n",
              "      <td>I love, love, love this jumpsuit. it's fun, fl...</td>\n",
              "      <td>4</td>\n",
              "    </tr>\n",
              "    <tr>\n",
              "      <th>4</th>\n",
              "      <td>This shirt is very flattering to all due to th...</td>\n",
              "      <td>4</td>\n",
              "    </tr>\n",
              "  </tbody>\n",
              "</table>\n",
              "</div>\n",
              "      <button class=\"colab-df-convert\" onclick=\"convertToInteractive('df-50c411f4-959d-4d2e-bea2-ed8695f7402e')\"\n",
              "              title=\"Convert this dataframe to an interactive table.\"\n",
              "              style=\"display:none;\">\n",
              "        \n",
              "  <svg xmlns=\"http://www.w3.org/2000/svg\" height=\"24px\"viewBox=\"0 0 24 24\"\n",
              "       width=\"24px\">\n",
              "    <path d=\"M0 0h24v24H0V0z\" fill=\"none\"/>\n",
              "    <path d=\"M18.56 5.44l.94 2.06.94-2.06 2.06-.94-2.06-.94-.94-2.06-.94 2.06-2.06.94zm-11 1L8.5 8.5l.94-2.06 2.06-.94-2.06-.94L8.5 2.5l-.94 2.06-2.06.94zm10 10l.94 2.06.94-2.06 2.06-.94-2.06-.94-.94-2.06-.94 2.06-2.06.94z\"/><path d=\"M17.41 7.96l-1.37-1.37c-.4-.4-.92-.59-1.43-.59-.52 0-1.04.2-1.43.59L10.3 9.45l-7.72 7.72c-.78.78-.78 2.05 0 2.83L4 21.41c.39.39.9.59 1.41.59.51 0 1.02-.2 1.41-.59l7.78-7.78 2.81-2.81c.8-.78.8-2.07 0-2.86zM5.41 20L4 18.59l7.72-7.72 1.47 1.35L5.41 20z\"/>\n",
              "  </svg>\n",
              "      </button>\n",
              "      \n",
              "  <style>\n",
              "    .colab-df-container {\n",
              "      display:flex;\n",
              "      flex-wrap:wrap;\n",
              "      gap: 12px;\n",
              "    }\n",
              "\n",
              "    .colab-df-convert {\n",
              "      background-color: #E8F0FE;\n",
              "      border: none;\n",
              "      border-radius: 50%;\n",
              "      cursor: pointer;\n",
              "      display: none;\n",
              "      fill: #1967D2;\n",
              "      height: 32px;\n",
              "      padding: 0 0 0 0;\n",
              "      width: 32px;\n",
              "    }\n",
              "\n",
              "    .colab-df-convert:hover {\n",
              "      background-color: #E2EBFA;\n",
              "      box-shadow: 0px 1px 2px rgba(60, 64, 67, 0.3), 0px 1px 3px 1px rgba(60, 64, 67, 0.15);\n",
              "      fill: #174EA6;\n",
              "    }\n",
              "\n",
              "    [theme=dark] .colab-df-convert {\n",
              "      background-color: #3B4455;\n",
              "      fill: #D2E3FC;\n",
              "    }\n",
              "\n",
              "    [theme=dark] .colab-df-convert:hover {\n",
              "      background-color: #434B5C;\n",
              "      box-shadow: 0px 1px 3px 1px rgba(0, 0, 0, 0.15);\n",
              "      filter: drop-shadow(0px 1px 2px rgba(0, 0, 0, 0.3));\n",
              "      fill: #FFFFFF;\n",
              "    }\n",
              "  </style>\n",
              "\n",
              "      <script>\n",
              "        const buttonEl =\n",
              "          document.querySelector('#df-50c411f4-959d-4d2e-bea2-ed8695f7402e button.colab-df-convert');\n",
              "        buttonEl.style.display =\n",
              "          google.colab.kernel.accessAllowed ? 'block' : 'none';\n",
              "\n",
              "        async function convertToInteractive(key) {\n",
              "          const element = document.querySelector('#df-50c411f4-959d-4d2e-bea2-ed8695f7402e');\n",
              "          const dataTable =\n",
              "            await google.colab.kernel.invokeFunction('convertToInteractive',\n",
              "                                                     [key], {});\n",
              "          if (!dataTable) return;\n",
              "\n",
              "          const docLinkHtml = 'Like what you see? Visit the ' +\n",
              "            '<a target=\"_blank\" href=https://colab.research.google.com/notebooks/data_table.ipynb>data table notebook</a>'\n",
              "            + ' to learn more about interactive tables.';\n",
              "          element.innerHTML = '';\n",
              "          dataTable['output_type'] = 'display_data';\n",
              "          await google.colab.output.renderOutput(dataTable, element);\n",
              "          const docLink = document.createElement('div');\n",
              "          docLink.innerHTML = docLinkHtml;\n",
              "          element.appendChild(docLink);\n",
              "        }\n",
              "      </script>\n",
              "    </div>\n",
              "  </div>\n",
              "  "
            ],
            "text/plain": [
              "                                         Review Text  Rating\n",
              "0  Absolutely wonderful - silky and sexy and comf...       3\n",
              "1  Love this dress!  it's sooo pretty.  i happene...       4\n",
              "2  I had such high hopes for this dress and reall...       2\n",
              "3  I love, love, love this jumpsuit. it's fun, fl...       4\n",
              "4  This shirt is very flattering to all due to th...       4"
            ]
          },
          "execution_count": 5,
          "metadata": {},
          "output_type": "execute_result"
        }
      ],
      "source": [
        "df_reviews = df.loc[:, ['Review Text', 'Rating']].dropna()\n",
        "df_reviews['Rating'] = df_reviews['Rating'] - 1\n",
        "df_reviews.head()"
      ]
    },
    {
      "cell_type": "code",
      "execution_count": 6,
      "metadata": {
        "colab": {
          "base_uri": "https://localhost:8080/"
        },
        "id": "ZTxXQ1_ZIaVD",
        "outputId": "8b8f9cc8-774c-48ab-e536-24ae87023bdc"
      },
      "outputs": [
        {
          "data": {
            "text/plain": [
              "False"
            ]
          },
          "execution_count": 6,
          "metadata": {},
          "output_type": "execute_result"
        }
      ],
      "source": [
        "# Verifico que no hayan quedado Nans\n",
        "df_reviews.isnull().values.any()"
      ]
    },
    {
      "cell_type": "code",
      "execution_count": 7,
      "metadata": {
        "colab": {
          "base_uri": "https://localhost:8080/"
        },
        "id": "E7X1Q4QCLMrv",
        "outputId": "3205a5db-5a02-4e45-fadd-ae98bbd2212e"
      },
      "outputs": [
        {
          "data": {
            "text/plain": [
              "(22641, 2)"
            ]
          },
          "execution_count": 7,
          "metadata": {},
          "output_type": "execute_result"
        }
      ],
      "source": [
        "# Reviso las dimensiones\n",
        "df_reviews.shape"
      ]
    },
    {
      "cell_type": "code",
      "execution_count": 8,
      "metadata": {
        "colab": {
          "base_uri": "https://localhost:8080/"
        },
        "id": "sZtvASVOn3ty",
        "outputId": "ab4cd24d-b2ee-40ef-9b6c-6b7416199c83"
      },
      "outputs": [
        {
          "data": {
            "text/plain": [
              "4    12540\n",
              "3     4908\n",
              "2     2823\n",
              "1     1549\n",
              "0      821\n",
              "Name: Rating, dtype: int64"
            ]
          },
          "execution_count": 8,
          "metadata": {},
          "output_type": "execute_result"
        }
      ],
      "source": [
        "# Alumno: Observar como está distribuido el dataset respecto a la columna Rating\n",
        "# es decir, observar que tan balanceado se encuentra respecot a cada clase\n",
        "\n",
        "df_reviews.Rating.value_counts()"
      ]
    },
    {
      "cell_type": "code",
      "execution_count": 9,
      "metadata": {
        "colab": {
          "base_uri": "https://localhost:8080/",
          "height": 335
        },
        "id": "Cw77DkHBLEiv",
        "outputId": "76dfa60b-e522-4c5e-cd9d-4e6736101cc6"
      },
      "outputs": [
        {
          "name": "stderr",
          "output_type": "stream",
          "text": [
            "/usr/local/lib/python3.7/dist-packages/seaborn/_decorators.py:43: FutureWarning: Pass the following variable as a keyword arg: x. From version 0.12, the only valid positional argument will be `data`, and passing other arguments without an explicit keyword will result in an error or misinterpretation.\n",
            "  FutureWarning\n"
          ]
        },
        {
          "data": {
            "image/png": "[encoded data removed]",
            "text/plain": [
              "<Figure size 432x288 with 1 Axes>"
            ]
          },
          "metadata": {
            "needs_background": "light"
          },
          "output_type": "display_data"
        }
      ],
      "source": [
        "sns.countplot(df_reviews.Rating)\n",
        "plt.show()\n"
      ]
    },
    {
      "cell_type": "code",
      "execution_count": 10,
      "metadata": {
        "colab": {
          "base_uri": "https://localhost:8080/"
        },
        "id": "gVJ_RVi4o1h3",
        "outputId": "1b1796f2-be8a-4110-dd28-e9c4d0ae16cf"
      },
      "outputs": [
        {
          "data": {
            "text/plain": [
              "(22641,)"
            ]
          },
          "execution_count": 10,
          "metadata": {},
          "output_type": "execute_result"
        }
      ],
      "source": [
        "# Alumno: tomar la columna de las review y almacenarlo todo en un vector numpy de reviews\n",
        "text_sequences = df_reviews['Review Text'].values\n",
        "text_sequences.shape"
      ]
    },
    {
      "cell_type": "code",
      "execution_count": 11,
      "metadata": {
        "colab": {
          "base_uri": "https://localhost:8080/"
        },
        "id": "4nT5Un_co65Q",
        "outputId": "6dafb7b2-b06b-4ff4-a358-b71af9b2d05c"
      },
      "outputs": [
        {
          "data": {
            "text/plain": [
              "22641"
            ]
          },
          "execution_count": 11,
          "metadata": {},
          "output_type": "execute_result"
        }
      ],
      "source": [
        "# Alumno: Cuantas reviews (rows) hay para evaluar?\n",
        "len(text_sequences)"
      ]
    },
    {
      "cell_type": "code",
      "execution_count": 12,
      "metadata": {
        "id": "HP5uN9tqpHu_"
      },
      "outputs": [],
      "source": [
        "# Alumno: Concatenar todas las reviews para armar el corpus\n",
        "corpus = ' '.join(text_sequences)"
      ]
    },
    {
      "cell_type": "code",
      "execution_count": 14,
      "metadata": {
        "id": "eZvrW4D5PrBW"
      },
      "outputs": [],
      "source": [
        "#corpus"
      ]
    },
    {
      "cell_type": "code",
      "execution_count": 13,
      "metadata": {
        "colab": {
          "base_uri": "https://localhost:8080/"
        },
        "id": "FEzmePgdpf74",
        "outputId": "b2cca555-5cc4-4382-fa4f-686b0d73773f"
      },
      "outputs": [
        {
          "data": {
            "text/plain": [
              "7011643"
            ]
          },
          "execution_count": 13,
          "metadata": {},
          "output_type": "execute_result"
        }
      ],
      "source": [
        "# Alumno: ¿Cuál es la longitud de ese corpus?\n",
        "len(corpus)"
      ]
    },
    {
      "cell_type": "code",
      "execution_count": 14,
      "metadata": {
        "id": "MYeJLdDmpvOe"
      },
      "outputs": [],
      "source": [
        "# Alumno: Utilizar \"text_to_word_sequence\" para separar las palabras en tokens\n",
        "# recordar que text_to_word_sequence automaticamente quita los signos de puntuacion y pasa el texto a lowercase\n",
        "from keras.preprocessing.text import text_to_word_sequence\n",
        "tokens = text_to_word_sequence(corpus)"
      ]
    },
    {
      "cell_type": "code",
      "execution_count": 15,
      "metadata": {
        "colab": {
          "base_uri": "https://localhost:8080/"
        },
        "id": "M6L-fnWAp_lA",
        "outputId": "60c33408-f488-4e9e-93f3-2cfc2abdb458"
      },
      "outputs": [
        {
          "data": {
            "text/plain": [
              "['absolutely',\n",
              " 'wonderful',\n",
              " 'silky',\n",
              " 'and',\n",
              " 'sexy',\n",
              " 'and',\n",
              " 'comfortable',\n",
              " 'love',\n",
              " 'this',\n",
              " 'dress',\n",
              " \"it's\",\n",
              " 'sooo',\n",
              " 'pretty',\n",
              " 'i',\n",
              " 'happened',\n",
              " 'to',\n",
              " 'find',\n",
              " 'it',\n",
              " 'in',\n",
              " 'a']"
            ]
          },
          "execution_count": 15,
          "metadata": {},
          "output_type": "execute_result"
        }
      ],
      "source": [
        "# Alumno: Dar un vistazo a los primeros 20 tokens/palabras\n",
        "tokens[0:20]"
      ]
    },
    {
      "cell_type": "code",
      "execution_count": 16,
      "metadata": {
        "colab": {
          "base_uri": "https://localhost:8080/"
        },
        "id": "-8QgwwMUqG0d",
        "outputId": "f465404f-2093-46b9-d2a6-992d99aba31d"
      },
      "outputs": [
        {
          "data": {
            "text/plain": [
              "1372203"
            ]
          },
          "execution_count": 16,
          "metadata": {},
          "output_type": "execute_result"
        }
      ],
      "source": [
        "# Alumno: ¿Cuántos tokens/palabras hay?\n",
        "len(tokens)"
      ]
    },
    {
      "cell_type": "markdown",
      "metadata": {
        "id": "2PEfBnLSV147"
      },
      "source": [
        "#### Remuevo stop-words"
      ]
    },
    {
      "cell_type": "code",
      "execution_count": 17,
      "metadata": {
        "colab": {
          "base_uri": "https://localhost:8080/"
        },
        "id": "RizqnoY_A4lp",
        "outputId": "bc1c4f45-ca55-4ba5-d831-df0a230570f8"
      },
      "outputs": [
        {
          "name": "stderr",
          "output_type": "stream",
          "text": [
            "[nltk_data] Downloading package punkt to /root/nltk_data...\n",
            "[nltk_data]   Unzipping tokenizers/punkt.zip.\n",
            "[nltk_data] Downloading package wordnet to /root/nltk_data...\n",
            "[nltk_data] Downloading package stopwords to /root/nltk_data...\n",
            "[nltk_data]   Unzipping corpora/stopwords.zip.\n",
            "[nltk_data] Downloading package omw-1.4 to /root/nltk_data...\n"
          ]
        },
        {
          "data": {
            "text/plain": [
              "True"
            ]
          },
          "execution_count": 17,
          "metadata": {},
          "output_type": "execute_result"
        }
      ],
      "source": [
        "# Para remover las stop-words voy a usar NLTK\n",
        "import nltk\n",
        "import string\n",
        "from nltk.tokenize import word_tokenize  \n",
        "from nltk.corpus import stopwords\n",
        "\n",
        "# Descargar tokenizador punkt\n",
        "nltk.download(\"punkt\")\n",
        "# Descargar diccionario de inglés\n",
        "nltk.download(\"wordnet\")\n",
        "# Descargar diccionario de stopwords\n",
        "nltk.download('stopwords')\n",
        "# Para usar NLTK 3.6.6 o superior es necesario instalar OMW 1.4 \n",
        "# (Open Multilingual WordNet)\n",
        "nltk.download('omw-1.4')"
      ]
    },
    {
      "cell_type": "code",
      "execution_count": 18,
      "metadata": {
        "colab": {
          "base_uri": "https://localhost:8080/"
        },
        "id": "x3P0zwhKBA5O",
        "outputId": "4f42e1d2-f534-4968-8250-19e517ef9122"
      },
      "outputs": [
        {
          "data": {
            "text/plain": [
              "670440"
            ]
          },
          "execution_count": 18,
          "metadata": {},
          "output_type": "execute_result"
        }
      ],
      "source": [
        "# Stop words\n",
        "nltk_stop_words = set(stopwords.words(\"english\"))\n",
        "tokens = [w for w in tokens if w not in nltk_stop_words]\n",
        "# Quitar los signos de puntuacion\n",
        "tokens = [w for w in tokens if w not in string.punctuation]\n",
        "#print(\"Resultado:\", tokens)\n",
        "len(tokens)"
      ]
    },
    {
      "cell_type": "code",
      "execution_count": 19,
      "metadata": {
        "id": "TFukNZdOsZ8_"
      },
      "outputs": [],
      "source": [
        "# Alumno: Tokenizar las palabras con el Tokenizer de Keras\n",
        "# Definir una máxima cantidad de palabras a utilizar:\n",
        "# num_words --> the maximum number of words to keep, based on word frequency.\n",
        "# Only the most common num_words-1 words will be kept.\n",
        "from keras.preprocessing.text import Tokenizer\n",
        "num_words = 2000\n",
        "vocab_size = num_words\n",
        "tok = Tokenizer(num_words=2000) \n",
        "tok.fit_on_texts(tokens)"
      ]
    },
    {
      "cell_type": "code",
      "execution_count": 20,
      "metadata": {
        "colab": {
          "base_uri": "https://localhost:8080/"
        },
        "id": "JnR1tlqZy94X",
        "outputId": "6d19a3d5-7e7b-4a99-ecf0-18011c54f937"
      },
      "outputs": [
        {
          "data": {
            "text/plain": [
              "14680"
            ]
          },
          "execution_count": 20,
          "metadata": {},
          "output_type": "execute_result"
        }
      ],
      "source": [
        "# Alumno: Obtener el diccionario de palabra (word) a índice\n",
        "# y observar la cantidad total del vocabulario\n",
        "word_index = tok.word_index\n",
        "len(word_index)"
      ]
    },
    {
      "cell_type": "code",
      "execution_count": 21,
      "metadata": {
        "colab": {
          "base_uri": "https://localhost:8080/"
        },
        "id": "AvWzzSretQXf",
        "outputId": "2937ac84-ff28-4c1e-925a-5123b3173f24"
      },
      "outputs": [
        {
          "data": {
            "text/plain": [
              "[172, 427, 796, 550, 25]"
            ]
          },
          "execution_count": 21,
          "metadata": {},
          "output_type": "execute_result"
        }
      ],
      "source": [
        "# Alumno: Convertir las palabras/tokens a números\n",
        "sequences = tok.texts_to_sequences(text_sequences)\n",
        "sequences[0][:10]"
      ]
    },
    {
      "cell_type": "code",
      "execution_count": 22,
      "metadata": {
        "colab": {
          "base_uri": "https://localhost:8080/"
        },
        "id": "za73M5SRtbrP",
        "outputId": "308e9ba6-f29c-446b-827a-ea6016fedffb"
      },
      "outputs": [
        {
          "data": {
            "text/plain": [
              "63"
            ]
          },
          "execution_count": 22,
          "metadata": {},
          "output_type": "execute_result"
        }
      ],
      "source": [
        "# Alumno: Determinar cual es la oración más larga\n",
        "max(len(s) for s in sequences)"
      ]
    },
    {
      "cell_type": "code",
      "execution_count": 23,
      "metadata": {
        "id": "oCkO9Wc9tls1"
      },
      "outputs": [],
      "source": [
        "# Alumno: Realizar padding de las sentencias al mismo tamaño\n",
        "# tomando de referencia la máxima sentencia\n",
        "from tensorflow.keras.utils import pad_sequences\n",
        "maxlen = 63\n",
        "\n",
        "# Al realizar padding obtener la variable \"X\" (input)\n",
        "X = pad_sequences(sequences, padding='pre', maxlen=maxlen)"
      ]
    },
    {
      "cell_type": "code",
      "execution_count": 24,
      "metadata": {
        "colab": {
          "base_uri": "https://localhost:8080/"
        },
        "id": "kGHHabVdt_aa",
        "outputId": "d2aa85ba-7beb-4b80-91ea-fc7d4f17577d"
      },
      "outputs": [
        {
          "data": {
            "text/plain": [
              "(22641, 63)"
            ]
          },
          "execution_count": 24,
          "metadata": {},
          "output_type": "execute_result"
        }
      ],
      "source": [
        "# Alumno: Observar las dimensiones de la variable input\n",
        "X.shape"
      ]
    },
    {
      "cell_type": "code",
      "execution_count": 25,
      "metadata": {
        "colab": {
          "base_uri": "https://localhost:8080/",
          "height": 224
        },
        "id": "llVM-tzQo9_F",
        "outputId": "845ebab4-3334-4b82-9c48-f36683898254"
      },
      "outputs": [
        {
          "name": "stdout",
          "output_type": "stream",
          "text": [
            "Dimensión de \"y\": (22641, 5)\n"
          ]
        },
        {
          "data": {
            "text/html": [
              "\n",
              "  <div id=\"df-ed4cc50b-5fd2-49fe-9b6e-4dc20c793b04\">\n",
              "    <div class=\"colab-df-container\">\n",
              "      <div>\n",
              "<style scoped>\n",
              "    .dataframe tbody tr th:only-of-type {\n",
              "        vertical-align: middle;\n",
              "    }\n",
              "\n",
              "    .dataframe tbody tr th {\n",
              "        vertical-align: top;\n",
              "    }\n",
              "\n",
              "    .dataframe thead th {\n",
              "        text-align: right;\n",
              "    }\n",
              "</style>\n",
              "<table border=\"1\" class=\"dataframe\">\n",
              "  <thead>\n",
              "    <tr style=\"text-align: right;\">\n",
              "      <th></th>\n",
              "      <th>0</th>\n",
              "      <th>1</th>\n",
              "      <th>2</th>\n",
              "      <th>3</th>\n",
              "      <th>4</th>\n",
              "    </tr>\n",
              "  </thead>\n",
              "  <tbody>\n",
              "    <tr>\n",
              "      <th>0</th>\n",
              "      <td>0</td>\n",
              "      <td>0</td>\n",
              "      <td>0</td>\n",
              "      <td>1</td>\n",
              "      <td>0</td>\n",
              "    </tr>\n",
              "    <tr>\n",
              "      <th>1</th>\n",
              "      <td>0</td>\n",
              "      <td>0</td>\n",
              "      <td>0</td>\n",
              "      <td>0</td>\n",
              "      <td>1</td>\n",
              "    </tr>\n",
              "    <tr>\n",
              "      <th>2</th>\n",
              "      <td>0</td>\n",
              "      <td>0</td>\n",
              "      <td>1</td>\n",
              "      <td>0</td>\n",
              "      <td>0</td>\n",
              "    </tr>\n",
              "    <tr>\n",
              "      <th>3</th>\n",
              "      <td>0</td>\n",
              "      <td>0</td>\n",
              "      <td>0</td>\n",
              "      <td>0</td>\n",
              "      <td>1</td>\n",
              "    </tr>\n",
              "    <tr>\n",
              "      <th>4</th>\n",
              "      <td>0</td>\n",
              "      <td>0</td>\n",
              "      <td>0</td>\n",
              "      <td>0</td>\n",
              "      <td>1</td>\n",
              "    </tr>\n",
              "  </tbody>\n",
              "</table>\n",
              "</div>\n",
              "      <button class=\"colab-df-convert\" onclick=\"convertToInteractive('df-ed4cc50b-5fd2-49fe-9b6e-4dc20c793b04')\"\n",
              "              title=\"Convert this dataframe to an interactive table.\"\n",
              "              style=\"display:none;\">\n",
              "        \n",
              "  <svg xmlns=\"http://www.w3.org/2000/svg\" height=\"24px\"viewBox=\"0 0 24 24\"\n",
              "       width=\"24px\">\n",
              "    <path d=\"M0 0h24v24H0V0z\" fill=\"none\"/>\n",
              "    <path d=\"M18.56 5.44l.94 2.06.94-2.06 2.06-.94-2.06-.94-.94-2.06-.94 2.06-2.06.94zm-11 1L8.5 8.5l.94-2.06 2.06-.94-2.06-.94L8.5 2.5l-.94 2.06-2.06.94zm10 10l.94 2.06.94-2.06 2.06-.94-2.06-.94-.94-2.06-.94 2.06-2.06.94z\"/><path d=\"M17.41 7.96l-1.37-1.37c-.4-.4-.92-.59-1.43-.59-.52 0-1.04.2-1.43.59L10.3 9.45l-7.72 7.72c-.78.78-.78 2.05 0 2.83L4 21.41c.39.39.9.59 1.41.59.51 0 1.02-.2 1.41-.59l7.78-7.78 2.81-2.81c.8-.78.8-2.07 0-2.86zM5.41 20L4 18.59l7.72-7.72 1.47 1.35L5.41 20z\"/>\n",
              "  </svg>\n",
              "      </button>\n",
              "      \n",
              "  <style>\n",
              "    .colab-df-container {\n",
              "      display:flex;\n",
              "      flex-wrap:wrap;\n",
              "      gap: 12px;\n",
              "    }\n",
              "\n",
              "    .colab-df-convert {\n",
              "      background-color: #E8F0FE;\n",
              "      border: none;\n",
              "      border-radius: 50%;\n",
              "      cursor: pointer;\n",
              "      display: none;\n",
              "      fill: #1967D2;\n",
              "      height: 32px;\n",
              "      padding: 0 0 0 0;\n",
              "      width: 32px;\n",
              "    }\n",
              "\n",
              "    .colab-df-convert:hover {\n",
              "      background-color: #E2EBFA;\n",
              "      box-shadow: 0px 1px 2px rgba(60, 64, 67, 0.3), 0px 1px 3px 1px rgba(60, 64, 67, 0.15);\n",
              "      fill: #174EA6;\n",
              "    }\n",
              "\n",
              "    [theme=dark] .colab-df-convert {\n",
              "      background-color: #3B4455;\n",
              "      fill: #D2E3FC;\n",
              "    }\n",
              "\n",
              "    [theme=dark] .colab-df-convert:hover {\n",
              "      background-color: #434B5C;\n",
              "      box-shadow: 0px 1px 3px 1px rgba(0, 0, 0, 0.15);\n",
              "      filter: drop-shadow(0px 1px 2px rgba(0, 0, 0, 0.3));\n",
              "      fill: #FFFFFF;\n",
              "    }\n",
              "  </style>\n",
              "\n",
              "      <script>\n",
              "        const buttonEl =\n",
              "          document.querySelector('#df-ed4cc50b-5fd2-49fe-9b6e-4dc20c793b04 button.colab-df-convert');\n",
              "        buttonEl.style.display =\n",
              "          google.colab.kernel.accessAllowed ? 'block' : 'none';\n",
              "\n",
              "        async function convertToInteractive(key) {\n",
              "          const element = document.querySelector('#df-ed4cc50b-5fd2-49fe-9b6e-4dc20c793b04');\n",
              "          const dataTable =\n",
              "            await google.colab.kernel.invokeFunction('convertToInteractive',\n",
              "                                                     [key], {});\n",
              "          if (!dataTable) return;\n",
              "\n",
              "          const docLinkHtml = 'Like what you see? Visit the ' +\n",
              "            '<a target=\"_blank\" href=https://colab.research.google.com/notebooks/data_table.ipynb>data table notebook</a>'\n",
              "            + ' to learn more about interactive tables.';\n",
              "          element.innerHTML = '';\n",
              "          dataTable['output_type'] = 'display_data';\n",
              "          await google.colab.output.renderOutput(dataTable, element);\n",
              "          const docLink = document.createElement('div');\n",
              "          docLink.innerHTML = docLinkHtml;\n",
              "          element.appendChild(docLink);\n",
              "        }\n",
              "      </script>\n",
              "    </div>\n",
              "  </div>\n",
              "  "
            ],
            "text/plain": [
              "   0  1  2  3  4\n",
              "0  0  0  0  1  0\n",
              "1  0  0  0  0  1\n",
              "2  0  0  1  0  0\n",
              "3  0  0  0  0  1\n",
              "4  0  0  0  0  1"
            ]
          },
          "execution_count": 25,
          "metadata": {},
          "output_type": "execute_result"
        }
      ],
      "source": [
        "# Alumno tomar la columna rating y alcemacenarla en una variable \"y\" transformada a oneHotEncoding\n",
        "# Su shape debe ser equivalente la cantidad de rows del corpus y a la cantidad\n",
        "# de clases que se deseen predecir (en este ejemplo son 5)\n",
        "\n",
        "y = pd.get_dummies(df_reviews.Rating)\n",
        "print(f'Dimensión de \"y\": {y.shape}')\n",
        "y.head()"
      ]
    },
    {
      "cell_type": "code",
      "execution_count": 26,
      "metadata": {
        "id": "Rmz9A6n4uK4V"
      },
      "outputs": [],
      "source": [
        "# Alumno: Dividir los datos en train y test\n",
        "from sklearn.model_selection import train_test_split\n",
        "X_train, X_test, y_train, y_test = train_test_split(X, y, test_size=0.2, random_state=42)"
      ]
    },
    {
      "cell_type": "code",
      "execution_count": 27,
      "metadata": {
        "colab": {
          "base_uri": "https://localhost:8080/"
        },
        "id": "jW4QnreZTsK2",
        "outputId": "36b21d28-a322-40cf-ddf3-3c7c3bfa2475"
      },
      "outputs": [
        {
          "data": {
            "text/plain": [
              "((22641, 63), (22641, 5), (18112, 63), (18112, 5), (4529, 63), (4529, 5))"
            ]
          },
          "execution_count": 27,
          "metadata": {},
          "output_type": "execute_result"
        }
      ],
      "source": [
        "# Verifico dimensiones\n",
        "X.shape, y.shape, X_train.shape, y_train.shape, X_test.shape, y_test.shape"
      ]
    },
    {
      "cell_type": "code",
      "execution_count": 28,
      "metadata": {
        "colab": {
          "base_uri": "https://localhost:8080/"
        },
        "id": "EcDPlhEouQ9E",
        "outputId": "8cf7d66a-e566-4595-d626-305df3aaac53"
      },
      "outputs": [
        {
          "name": "stdout",
          "output_type": "stream",
          "text": [
            "in_shape 63 , out_shape 5\n"
          ]
        }
      ],
      "source": [
        "# Alumno: determinar la dimensiones de entrada y salida\n",
        "in_shape = X_train.shape[1] # max input sentence len\n",
        "out_shape = 5 # multiclass classification\n",
        "print(\"in_shape\", in_shape, \", out_shape\", out_shape)"
      ]
    },
    {
      "cell_type": "markdown",
      "metadata": {
        "id": "NpbQHExL6OTu"
      },
      "source": [
        "### 2 - Entrenar el modelo con mis propios Embeddings + LSTM"
      ]
    },
    {
      "cell_type": "code",
      "execution_count": 29,
      "metadata": {
        "id": "NUkuWBsM6cx3"
      },
      "outputs": [],
      "source": [
        "# Alumno: Entrene su modelo con LSTM entrenando sus propios embeddings\n",
        "# o utilizando embeddings pre-entrenados.\n",
        "from keras.layers import LSTM\n",
        "from keras.layers import Embedding\n",
        "from keras.layers import Dropout\n",
        "from keras.layers import Bidirectional\n"
      ]
    },
    {
      "cell_type": "code",
      "execution_count": 30,
      "metadata": {
        "colab": {
          "base_uri": "https://localhost:8080/"
        },
        "id": "93C4k005hN8T",
        "outputId": "d1a6dee9-d8e7-4f65-e361-ac38adfd9893"
      },
      "outputs": [
        {
          "name": "stdout",
          "output_type": "stream",
          "text": [
            "Model: \"sequential\"\n",
            "_________________________________________________________________\n",
            " Layer (type)                Output Shape              Param #   \n",
            "=================================================================\n",
            " embedding (Embedding)       (None, 63, 50)            100050    \n",
            "                                                                 \n",
            " bidirectional (Bidirectiona  (None, 63, 128)          58880     \n",
            " l)                                                              \n",
            "                                                                 \n",
            " dropout (Dropout)           (None, 63, 128)           0         \n",
            "                                                                 \n",
            " bidirectional_1 (Bidirectio  (None, 128)              98816     \n",
            " nal)                                                            \n",
            "                                                                 \n",
            " dense (Dense)               (None, 128)               16512     \n",
            "                                                                 \n",
            " dropout_1 (Dropout)         (None, 128)               0         \n",
            "                                                                 \n",
            " dense_1 (Dense)             (None, 5)                 645       \n",
            "                                                                 \n",
            "=================================================================\n",
            "Total params: 274,903\n",
            "Trainable params: 274,903\n",
            "Non-trainable params: 0\n",
            "_________________________________________________________________\n"
          ]
        }
      ],
      "source": [
        "model = Sequential()\n",
        "model.add(Embedding(input_dim=vocab_size+1, output_dim=50, input_length=in_shape))\n",
        "model.add(Bidirectional(LSTM(units=64, return_sequences=True)))\n",
        "model.add(Dropout(0.2))\n",
        "model.add(Bidirectional(LSTM(units=64))) # La última capa LSTM no lleva return_sequences\n",
        "\n",
        "model.add(Dense(units=128, activation='relu'))\n",
        "model.add(Dropout(rate=0.2))\n",
        "model.add(Dense(units=out_shape, activation='softmax'))\n",
        "model.compile(optimizer=\"adam\",\n",
        "              loss='categorical_crossentropy',\n",
        "              metrics=['accuracy'])\n",
        "model.summary()"
      ]
    },
    {
      "cell_type": "code",
      "execution_count": 31,
      "metadata": {
        "colab": {
          "base_uri": "https://localhost:8080/",
          "height": 865
        },
        "id": "YIXEXeDIiBmC",
        "outputId": "6db66a74-6764-4e10-e97e-7f37c4eccd1f"
      },
      "outputs": [
        {
          "data": {
            "image/png": "[encoded data removed]",
            "text/plain": [
              "<IPython.core.display.Image object>"
            ]
          },
          "execution_count": 31,
          "metadata": {},
          "output_type": "execute_result"
        }
      ],
      "source": [
        "from keras.utils.vis_utils import plot_model\n",
        "plot_model(model, to_file='model_plot.png', show_shapes=True, show_layer_names=True)"
      ]
    },
    {
      "cell_type": "markdown",
      "metadata": {
        "id": "QlQMAOCcB0Ni"
      },
      "source": [
        "#### 2.1. Con dataset balanceado con Random Oversampling"
      ]
    },
    {
      "cell_type": "code",
      "execution_count": 40,
      "metadata": {
        "colab": {
          "base_uri": "https://localhost:8080/"
        },
        "id": "9-HnbeJGzOCd",
        "outputId": "1554e9b4-9ddb-46aa-c2fb-3c6dba2300e6"
      },
      "outputs": [
        {
          "data": {
            "text/plain": [
              "((49975, 63), (49975, 5))"
            ]
          },
          "execution_count": 40,
          "metadata": {},
          "output_type": "execute_result"
        }
      ],
      "source": [
        "# Voy a hacer un oversampling con SMOTE para balancear las clases\n",
        "from imblearn.over_sampling import SMOTE, RandomOverSampler\n",
        "\n",
        "ros = RandomOverSampler(random_state=10, sampling_strategy='auto')\n",
        "X_resampled, y_resampled = ros.fit_resample(X_train, y_train.to_numpy()) # Paso y_train a numpy array porque daba error\n",
        "\n",
        "X_resampled.shape, y_resampled.shape"
      ]
    },
    {
      "cell_type": "code",
      "execution_count": 41,
      "metadata": {
        "id": "cYvqFR6rS2y_"
      },
      "outputs": [],
      "source": [
        "X_ros_train = pd.DataFrame(X_resampled)\n",
        "y_ros_train = pd.DataFrame(y_resampled)"
      ]
    },
    {
      "cell_type": "code",
      "execution_count": 42,
      "metadata": {
        "colab": {
          "base_uri": "https://localhost:8080/",
          "height": 206
        },
        "id": "FyeOVQUddBQc",
        "outputId": "1e317ddc-78b9-49b7-8914-b9b56d048603"
      },
      "outputs": [
        {
          "data": {
            "text/html": [
              "\n",
              "  <div id=\"df-d1f188d2-9467-4cae-81da-06a0d9e86471\">\n",
              "    <div class=\"colab-df-container\">\n",
              "      <div>\n",
              "<style scoped>\n",
              "    .dataframe tbody tr th:only-of-type {\n",
              "        vertical-align: middle;\n",
              "    }\n",
              "\n",
              "    .dataframe tbody tr th {\n",
              "        vertical-align: top;\n",
              "    }\n",
              "\n",
              "    .dataframe thead th {\n",
              "        text-align: right;\n",
              "    }\n",
              "</style>\n",
              "<table border=\"1\" class=\"dataframe\">\n",
              "  <thead>\n",
              "    <tr style=\"text-align: right;\">\n",
              "      <th></th>\n",
              "      <th>0</th>\n",
              "      <th>1</th>\n",
              "      <th>2</th>\n",
              "      <th>3</th>\n",
              "      <th>4</th>\n",
              "    </tr>\n",
              "  </thead>\n",
              "  <tbody>\n",
              "    <tr>\n",
              "      <th>0</th>\n",
              "      <td>0</td>\n",
              "      <td>0</td>\n",
              "      <td>0</td>\n",
              "      <td>1</td>\n",
              "      <td>0</td>\n",
              "    </tr>\n",
              "    <tr>\n",
              "      <th>1</th>\n",
              "      <td>0</td>\n",
              "      <td>0</td>\n",
              "      <td>0</td>\n",
              "      <td>0</td>\n",
              "      <td>1</td>\n",
              "    </tr>\n",
              "    <tr>\n",
              "      <th>2</th>\n",
              "      <td>0</td>\n",
              "      <td>0</td>\n",
              "      <td>0</td>\n",
              "      <td>0</td>\n",
              "      <td>1</td>\n",
              "    </tr>\n",
              "    <tr>\n",
              "      <th>3</th>\n",
              "      <td>0</td>\n",
              "      <td>1</td>\n",
              "      <td>0</td>\n",
              "      <td>0</td>\n",
              "      <td>0</td>\n",
              "    </tr>\n",
              "    <tr>\n",
              "      <th>4</th>\n",
              "      <td>0</td>\n",
              "      <td>0</td>\n",
              "      <td>0</td>\n",
              "      <td>0</td>\n",
              "      <td>1</td>\n",
              "    </tr>\n",
              "  </tbody>\n",
              "</table>\n",
              "</div>\n",
              "      <button class=\"colab-df-convert\" onclick=\"convertToInteractive('df-d1f188d2-9467-4cae-81da-06a0d9e86471')\"\n",
              "              title=\"Convert this dataframe to an interactive table.\"\n",
              "              style=\"display:none;\">\n",
              "        \n",
              "  <svg xmlns=\"http://www.w3.org/2000/svg\" height=\"24px\"viewBox=\"0 0 24 24\"\n",
              "       width=\"24px\">\n",
              "    <path d=\"M0 0h24v24H0V0z\" fill=\"none\"/>\n",
              "    <path d=\"M18.56 5.44l.94 2.06.94-2.06 2.06-.94-2.06-.94-.94-2.06-.94 2.06-2.06.94zm-11 1L8.5 8.5l.94-2.06 2.06-.94-2.06-.94L8.5 2.5l-.94 2.06-2.06.94zm10 10l.94 2.06.94-2.06 2.06-.94-2.06-.94-.94-2.06-.94 2.06-2.06.94z\"/><path d=\"M17.41 7.96l-1.37-1.37c-.4-.4-.92-.59-1.43-.59-.52 0-1.04.2-1.43.59L10.3 9.45l-7.72 7.72c-.78.78-.78 2.05 0 2.83L4 21.41c.39.39.9.59 1.41.59.51 0 1.02-.2 1.41-.59l7.78-7.78 2.81-2.81c.8-.78.8-2.07 0-2.86zM5.41 20L4 18.59l7.72-7.72 1.47 1.35L5.41 20z\"/>\n",
              "  </svg>\n",
              "      </button>\n",
              "      \n",
              "  <style>\n",
              "    .colab-df-container {\n",
              "      display:flex;\n",
              "      flex-wrap:wrap;\n",
              "      gap: 12px;\n",
              "    }\n",
              "\n",
              "    .colab-df-convert {\n",
              "      background-color: #E8F0FE;\n",
              "      border: none;\n",
              "      border-radius: 50%;\n",
              "      cursor: pointer;\n",
              "      display: none;\n",
              "      fill: #1967D2;\n",
              "      height: 32px;\n",
              "      padding: 0 0 0 0;\n",
              "      width: 32px;\n",
              "    }\n",
              "\n",
              "    .colab-df-convert:hover {\n",
              "      background-color: #E2EBFA;\n",
              "      box-shadow: 0px 1px 2px rgba(60, 64, 67, 0.3), 0px 1px 3px 1px rgba(60, 64, 67, 0.15);\n",
              "      fill: #174EA6;\n",
              "    }\n",
              "\n",
              "    [theme=dark] .colab-df-convert {\n",
              "      background-color: #3B4455;\n",
              "      fill: #D2E3FC;\n",
              "    }\n",
              "\n",
              "    [theme=dark] .colab-df-convert:hover {\n",
              "      background-color: #434B5C;\n",
              "      box-shadow: 0px 1px 3px 1px rgba(0, 0, 0, 0.15);\n",
              "      filter: drop-shadow(0px 1px 2px rgba(0, 0, 0, 0.3));\n",
              "      fill: #FFFFFF;\n",
              "    }\n",
              "  </style>\n",
              "\n",
              "      <script>\n",
              "        const buttonEl =\n",
              "          document.querySelector('#df-d1f188d2-9467-4cae-81da-06a0d9e86471 button.colab-df-convert');\n",
              "        buttonEl.style.display =\n",
              "          google.colab.kernel.accessAllowed ? 'block' : 'none';\n",
              "\n",
              "        async function convertToInteractive(key) {\n",
              "          const element = document.querySelector('#df-d1f188d2-9467-4cae-81da-06a0d9e86471');\n",
              "          const dataTable =\n",
              "            await google.colab.kernel.invokeFunction('convertToInteractive',\n",
              "                                                     [key], {});\n",
              "          if (!dataTable) return;\n",
              "\n",
              "          const docLinkHtml = 'Like what you see? Visit the ' +\n",
              "            '<a target=\"_blank\" href=https://colab.research.google.com/notebooks/data_table.ipynb>data table notebook</a>'\n",
              "            + ' to learn more about interactive tables.';\n",
              "          element.innerHTML = '';\n",
              "          dataTable['output_type'] = 'display_data';\n",
              "          await google.colab.output.renderOutput(dataTable, element);\n",
              "          const docLink = document.createElement('div');\n",
              "          docLink.innerHTML = docLinkHtml;\n",
              "          element.appendChild(docLink);\n",
              "        }\n",
              "      </script>\n",
              "    </div>\n",
              "  </div>\n",
              "  "
            ],
            "text/plain": [
              "   0  1  2  3  4\n",
              "0  0  0  0  1  0\n",
              "1  0  0  0  0  1\n",
              "2  0  0  0  0  1\n",
              "3  0  1  0  0  0\n",
              "4  0  0  0  0  1"
            ]
          },
          "execution_count": 42,
          "metadata": {},
          "output_type": "execute_result"
        }
      ],
      "source": [
        "y_ros_train.head()"
      ]
    },
    {
      "cell_type": "code",
      "execution_count": 43,
      "metadata": {
        "colab": {
          "base_uri": "https://localhost:8080/",
          "height": 930
        },
        "id": "38prq6WF_HaB",
        "outputId": "76f8a0aa-384c-43e0-dd32-9ad25e4cf6a6"
      },
      "outputs": [
        {
          "name": "stderr",
          "output_type": "stream",
          "text": [
            "/usr/local/lib/python3.7/dist-packages/seaborn/_decorators.py:43: FutureWarning: Pass the following variable as a keyword arg: x. From version 0.12, the only valid positional argument will be `data`, and passing other arguments without an explicit keyword will result in an error or misinterpretation.\n",
            "  FutureWarning\n"
          ]
        },
        {
          "data": {
            "image/png": "[encoded data removed]",
            "text/plain": [
              "<Figure size 432x288 with 1 Axes>"
            ]
          },
          "metadata": {
            "needs_background": "light"
          },
          "output_type": "display_data"
        },
        {
          "name": "stderr",
          "output_type": "stream",
          "text": [
            "/usr/local/lib/python3.7/dist-packages/seaborn/_decorators.py:43: FutureWarning: Pass the following variable as a keyword arg: x. From version 0.12, the only valid positional argument will be `data`, and passing other arguments without an explicit keyword will result in an error or misinterpretation.\n",
            "  FutureWarning\n"
          ]
        },
        {
          "data": {
            "image/png": "[encoded data removed]",
            "text/plain": [
              "<Figure size 432x288 with 1 Axes>"
            ]
          },
          "metadata": {
            "needs_background": "light"
          },
          "output_type": "display_data"
        },
        {
          "name": "stderr",
          "output_type": "stream",
          "text": [
            "/usr/local/lib/python3.7/dist-packages/seaborn/_decorators.py:43: FutureWarning: Pass the following variable as a keyword arg: x. From version 0.12, the only valid positional argument will be `data`, and passing other arguments without an explicit keyword will result in an error or misinterpretation.\n",
            "  FutureWarning\n"
          ]
        },
        {
          "data": {
            "image/png": "[encoded data removed]",
            "text/plain": [
              "<Figure size 432x288 with 1 Axes>"
            ]
          },
          "metadata": {
            "needs_background": "light"
          },
          "output_type": "display_data"
        }
      ],
      "source": [
        "sns.countplot(y_ros_train[0])\n",
        "plt.show()\n",
        "sns.countplot(y_ros_train[1])\n",
        "plt.show()\n",
        "sns.countplot(y_ros_train[4])\n",
        "plt.show()"
      ]
    },
    {
      "cell_type": "code",
      "execution_count": 44,
      "metadata": {
        "id": "nGRsoIS9ZRTY"
      },
      "outputs": [],
      "source": [
        "model = Sequential()\n",
        "model.add(Embedding(input_dim=vocab_size+1, output_dim=50, input_length=in_shape))\n",
        "model.add(Bidirectional(LSTM(units=64, return_sequences=True)))\n",
        "model.add(Dropout(0.2))\n",
        "model.add(Bidirectional(LSTM(units=64))) # La última capa LSTM no lleva return_sequences\n",
        "\n",
        "model.add(Dense(units=128, activation='relu'))\n",
        "model.add(Dropout(rate=0.2))\n",
        "model.add(Dense(units=out_shape, activation='softmax'))\n",
        "model.compile(optimizer=\"adam\",\n",
        "              loss='categorical_crossentropy',\n",
        "              metrics=['accuracy'])"
      ]
    },
    {
      "cell_type": "code",
      "execution_count": 42,
      "metadata": {
        "colab": {
          "base_uri": "https://localhost:8080/"
        },
        "id": "mlW-FV4mBz7T",
        "outputId": "fe01f0ab-bc95-4548-b8a8-556345a03a25"
      },
      "outputs": [
        {
          "name": "stdout",
          "output_type": "stream",
          "text": [
            "Epoch 1/60\n",
            "1250/1250 [==============================] - 28s 18ms/step - loss: 0.8886 - accuracy: 0.6503 - val_loss: 1.5785 - val_accuracy: 0.2238\n",
            "Epoch 2/60\n",
            "1250/1250 [==============================] - 21s 17ms/step - loss: 0.5469 - accuracy: 0.7990 - val_loss: 1.3692 - val_accuracy: 0.3107\n",
            "Epoch 3/60\n",
            "1250/1250 [==============================] - 21s 17ms/step - loss: 0.4353 - accuracy: 0.8387 - val_loss: 1.2971 - val_accuracy: 0.3079\n",
            "Epoch 4/60\n",
            "1250/1250 [==============================] - 23s 19ms/step - loss: 0.3778 - accuracy: 0.8588 - val_loss: 1.1524 - val_accuracy: 0.3939\n",
            "Epoch 5/60\n",
            "1250/1250 [==============================] - 21s 17ms/step - loss: 0.3436 - accuracy: 0.8696 - val_loss: 1.1171 - val_accuracy: 0.4306\n",
            "Epoch 6/60\n",
            "1250/1250 [==============================] - 21s 17ms/step - loss: 0.3172 - accuracy: 0.8789 - val_loss: 1.0446 - val_accuracy: 0.4747\n",
            "Epoch 7/60\n",
            "1250/1250 [==============================] - 22s 17ms/step - loss: 0.2980 - accuracy: 0.8852 - val_loss: 0.9397 - val_accuracy: 0.5182\n",
            "Epoch 8/60\n",
            "1250/1250 [==============================] - 22s 18ms/step - loss: 0.2747 - accuracy: 0.8930 - val_loss: 0.9018 - val_accuracy: 0.5813\n",
            "Epoch 9/60\n",
            "1250/1250 [==============================] - 22s 17ms/step - loss: 0.2561 - accuracy: 0.9009 - val_loss: 0.7800 - val_accuracy: 0.6668\n",
            "Epoch 10/60\n",
            "1250/1250 [==============================] - 22s 17ms/step - loss: 0.2399 - accuracy: 0.9070 - val_loss: 0.7089 - val_accuracy: 0.6803\n",
            "Epoch 11/60\n",
            "1250/1250 [==============================] - 22s 17ms/step - loss: 0.2213 - accuracy: 0.9130 - val_loss: 0.6067 - val_accuracy: 0.7499\n",
            "Epoch 12/60\n",
            "1250/1250 [==============================] - 22s 17ms/step - loss: 0.2100 - accuracy: 0.9182 - val_loss: 0.6867 - val_accuracy: 0.6915\n",
            "Epoch 13/60\n",
            "1250/1250 [==============================] - 21s 17ms/step - loss: 0.1931 - accuracy: 0.9258 - val_loss: 0.5654 - val_accuracy: 0.7669\n",
            "Epoch 14/60\n",
            "1250/1250 [==============================] - 22s 17ms/step - loss: 0.1830 - accuracy: 0.9298 - val_loss: 0.6756 - val_accuracy: 0.7044\n",
            "Epoch 15/60\n",
            "1250/1250 [==============================] - 21s 17ms/step - loss: 0.1684 - accuracy: 0.9349 - val_loss: 0.4866 - val_accuracy: 0.8177\n",
            "Epoch 16/60\n",
            "1250/1250 [==============================] - 21s 17ms/step - loss: 0.1553 - accuracy: 0.9409 - val_loss: 0.5694 - val_accuracy: 0.7573\n",
            "Epoch 17/60\n",
            "1250/1250 [==============================] - 21s 17ms/step - loss: 0.1445 - accuracy: 0.9454 - val_loss: 0.2749 - val_accuracy: 0.9046\n",
            "Epoch 18/60\n",
            "1250/1250 [==============================] - 21s 17ms/step - loss: 0.1269 - accuracy: 0.9529 - val_loss: 0.3574 - val_accuracy: 0.8621\n",
            "Epoch 19/60\n",
            "1250/1250 [==============================] - 22s 18ms/step - loss: 0.1190 - accuracy: 0.9559 - val_loss: 0.2829 - val_accuracy: 0.9064\n",
            "Epoch 20/60\n",
            "1250/1250 [==============================] - 23s 18ms/step - loss: 0.1074 - accuracy: 0.9610 - val_loss: 0.2427 - val_accuracy: 0.9177\n",
            "Epoch 21/60\n",
            "1250/1250 [==============================] - 21s 17ms/step - loss: 0.0913 - accuracy: 0.9657 - val_loss: 0.2335 - val_accuracy: 0.9167\n",
            "Epoch 22/60\n",
            "1250/1250 [==============================] - 21s 17ms/step - loss: 0.0864 - accuracy: 0.9684 - val_loss: 0.2132 - val_accuracy: 0.9279\n",
            "Epoch 23/60\n",
            "1250/1250 [==============================] - 21s 17ms/step - loss: 0.0771 - accuracy: 0.9731 - val_loss: 0.2085 - val_accuracy: 0.9223\n",
            "Epoch 24/60\n",
            "1250/1250 [==============================] - 21s 17ms/step - loss: 0.0718 - accuracy: 0.9741 - val_loss: 0.1473 - val_accuracy: 0.9536\n",
            "Epoch 25/60\n",
            "1250/1250 [==============================] - 21s 17ms/step - loss: 0.0632 - accuracy: 0.9769 - val_loss: 0.1385 - val_accuracy: 0.9584\n",
            "Epoch 26/60\n",
            "1250/1250 [==============================] - 22s 17ms/step - loss: 0.0588 - accuracy: 0.9797 - val_loss: 0.0784 - val_accuracy: 0.9761\n",
            "Epoch 27/60\n",
            "1250/1250 [==============================] - 21s 17ms/step - loss: 0.0515 - accuracy: 0.9820 - val_loss: 0.1972 - val_accuracy: 0.9326\n",
            "Epoch 28/60\n",
            "1250/1250 [==============================] - 21s 17ms/step - loss: 0.0494 - accuracy: 0.9829 - val_loss: 0.0978 - val_accuracy: 0.9715\n",
            "Epoch 29/60\n",
            "1250/1250 [==============================] - 21s 17ms/step - loss: 0.0438 - accuracy: 0.9845 - val_loss: 0.0815 - val_accuracy: 0.9736\n",
            "Epoch 30/60\n",
            "1250/1250 [==============================] - 22s 17ms/step - loss: 0.0415 - accuracy: 0.9860 - val_loss: 0.1236 - val_accuracy: 0.9572\n",
            "Epoch 31/60\n",
            "1250/1250 [==============================] - 21s 17ms/step - loss: 0.0419 - accuracy: 0.9856 - val_loss: 0.1004 - val_accuracy: 0.9677\n",
            "Epoch 32/60\n",
            "1250/1250 [==============================] - 21s 17ms/step - loss: 0.0345 - accuracy: 0.9887 - val_loss: 0.0410 - val_accuracy: 0.9885\n",
            "Epoch 33/60\n",
            "1250/1250 [==============================] - 22s 17ms/step - loss: 0.0344 - accuracy: 0.9885 - val_loss: 0.0746 - val_accuracy: 0.9759\n",
            "Epoch 34/60\n",
            "1250/1250 [==============================] - 22s 17ms/step - loss: 0.0343 - accuracy: 0.9885 - val_loss: 0.0480 - val_accuracy: 0.9860\n",
            "Epoch 35/60\n",
            "1250/1250 [==============================] - 21s 17ms/step - loss: 0.0296 - accuracy: 0.9899 - val_loss: 0.0737 - val_accuracy: 0.9754\n",
            "Epoch 36/60\n",
            "1250/1250 [==============================] - 23s 18ms/step - loss: 0.0328 - accuracy: 0.9892 - val_loss: 0.0784 - val_accuracy: 0.9745\n",
            "Epoch 37/60\n",
            "1250/1250 [==============================] - 21s 17ms/step - loss: 0.0219 - accuracy: 0.9928 - val_loss: 0.0535 - val_accuracy: 0.9822\n",
            "Epoch 38/60\n",
            "1250/1250 [==============================] - 21s 17ms/step - loss: 0.0306 - accuracy: 0.9898 - val_loss: 0.0370 - val_accuracy: 0.9881\n",
            "Epoch 39/60\n",
            "1250/1250 [==============================] - 22s 17ms/step - loss: 0.0262 - accuracy: 0.9913 - val_loss: 0.0405 - val_accuracy: 0.9874\n",
            "Epoch 40/60\n",
            "1250/1250 [==============================] - 22s 17ms/step - loss: 0.0227 - accuracy: 0.9925 - val_loss: 0.0368 - val_accuracy: 0.9867\n",
            "Epoch 41/60\n",
            "1250/1250 [==============================] - 21s 17ms/step - loss: 0.0252 - accuracy: 0.9919 - val_loss: 0.0371 - val_accuracy: 0.9898\n",
            "Epoch 42/60\n",
            "1250/1250 [==============================] - 21s 17ms/step - loss: 0.0192 - accuracy: 0.9940 - val_loss: 0.0143 - val_accuracy: 0.9952\n",
            "Epoch 43/60\n",
            "1250/1250 [==============================] - 21s 17ms/step - loss: 0.0197 - accuracy: 0.9938 - val_loss: 0.0287 - val_accuracy: 0.9916\n",
            "Epoch 44/60\n",
            "1250/1250 [==============================] - 21s 17ms/step - loss: 0.0232 - accuracy: 0.9929 - val_loss: 0.0212 - val_accuracy: 0.9947\n",
            "Epoch 45/60\n",
            "1250/1250 [==============================] - 21s 17ms/step - loss: 0.0195 - accuracy: 0.9936 - val_loss: 0.0379 - val_accuracy: 0.9908\n",
            "Epoch 46/60\n",
            "1250/1250 [==============================] - 21s 17ms/step - loss: 0.0185 - accuracy: 0.9940 - val_loss: 0.0340 - val_accuracy: 0.9897\n",
            "Epoch 47/60\n",
            "1250/1250 [==============================] - 22s 17ms/step - loss: 0.0183 - accuracy: 0.9940 - val_loss: 0.0986 - val_accuracy: 0.9680\n",
            "Epoch 48/60\n",
            "1250/1250 [==============================] - 22s 18ms/step - loss: 0.0210 - accuracy: 0.9934 - val_loss: 0.0259 - val_accuracy: 0.9936\n",
            "Epoch 49/60\n",
            "1250/1250 [==============================] - 22s 17ms/step - loss: 0.0163 - accuracy: 0.9949 - val_loss: 0.0546 - val_accuracy: 0.9825\n",
            "Epoch 50/60\n",
            "1250/1250 [==============================] - 21s 17ms/step - loss: 0.0200 - accuracy: 0.9940 - val_loss: 0.0395 - val_accuracy: 0.9867\n",
            "Epoch 51/60\n",
            "1250/1250 [==============================] - 23s 18ms/step - loss: 0.0156 - accuracy: 0.9950 - val_loss: 0.0253 - val_accuracy: 0.9926\n",
            "Epoch 52/60\n",
            "1250/1250 [==============================] - 22s 17ms/step - loss: 0.0144 - accuracy: 0.9956 - val_loss: 0.0194 - val_accuracy: 0.9947\n",
            "Epoch 53/60\n",
            "1250/1250 [==============================] - 21s 17ms/step - loss: 0.0147 - accuracy: 0.9955 - val_loss: 0.0299 - val_accuracy: 0.9910\n",
            "Epoch 54/60\n",
            "1250/1250 [==============================] - 21s 17ms/step - loss: 0.0196 - accuracy: 0.9934 - val_loss: 0.0102 - val_accuracy: 0.9968\n",
            "Epoch 55/60\n",
            "1250/1250 [==============================] - 21s 17ms/step - loss: 0.0160 - accuracy: 0.9954 - val_loss: 0.0168 - val_accuracy: 0.9941\n",
            "Epoch 56/60\n",
            "1250/1250 [==============================] - 21s 17ms/step - loss: 0.0126 - accuracy: 0.9963 - val_loss: 0.0215 - val_accuracy: 0.9939\n",
            "Epoch 57/60\n",
            "1250/1250 [==============================] - 22s 17ms/step - loss: 0.0138 - accuracy: 0.9959 - val_loss: 0.0171 - val_accuracy: 0.9947\n",
            "Epoch 58/60\n",
            "1250/1250 [==============================] - 21s 17ms/step - loss: 0.0159 - accuracy: 0.9951 - val_loss: 0.0234 - val_accuracy: 0.9946\n",
            "Epoch 59/60\n",
            "1250/1250 [==============================] - 21s 17ms/step - loss: 0.0143 - accuracy: 0.9954 - val_loss: 0.0160 - val_accuracy: 0.9955\n",
            "Epoch 60/60\n",
            "1250/1250 [==============================] - 21s 17ms/step - loss: 0.0126 - accuracy: 0.9963 - val_loss: 0.0186 - val_accuracy: 0.9958\n"
          ]
        }
      ],
      "source": [
        "hist_ros = model.fit(X_ros_train, y_ros_train, epochs=60, validation_split=0.2)"
      ]
    },
    {
      "cell_type": "code",
      "execution_count": 43,
      "metadata": {
        "colab": {
          "base_uri": "https://localhost:8080/",
          "height": 545
        },
        "id": "8szQYdbiRu1q",
        "outputId": "3a51f62e-9cec-442e-d0c0-aeff8a9412a7"
      },
      "outputs": [
        {
          "data": {
            "image/png": "[encoded data removed]",
            "text/plain": [
              "<Figure size 432x288 with 1 Axes>"
            ]
          },
          "metadata": {
            "needs_background": "light"
          },
          "output_type": "display_data"
        },
        {
          "data": {
            "image/png": "[encoded data removed]",
            "text/plain": [
              "<Figure size 432x288 with 1 Axes>"
            ]
          },
          "metadata": {
            "needs_background": "light"
          },
          "output_type": "display_data"
        }
      ],
      "source": [
        "epoch_count = range(1, len(hist_ros.history['accuracy']) + 1)\n",
        "sns.lineplot(x=epoch_count,  y=hist_ros.history['loss'], label='train')\n",
        "sns.lineplot(x=epoch_count,  y=hist_ros.history['val_loss'], label='valid')\n",
        "plt.title('Loss')\n",
        "plt.show()\n",
        "plt.figure()\n",
        "sns.lineplot(x=epoch_count,  y=hist_ros.history['accuracy'], label='train')\n",
        "sns.lineplot(x=epoch_count,  y=hist_ros.history['val_accuracy'], label='valid')\n",
        "plt.title('Accuracy')\n",
        "plt.show()"
      ]
    },
    {
      "cell_type": "code",
      "execution_count": 44,
      "metadata": {
        "colab": {
          "base_uri": "https://localhost:8080/"
        },
        "id": "C9lr3mTw-p7P",
        "outputId": "e5c1df83-a7b6-4829-963f-041ab90ba605"
      },
      "outputs": [
        {
          "name": "stdout",
          "output_type": "stream",
          "text": [
            "142/142 [==============================] - 3s 8ms/step - loss: 4.4938 - accuracy: 0.5668\n"
          ]
        },
        {
          "data": {
            "text/plain": [
              "[4.4937615394592285, 0.5667917728424072]"
            ]
          },
          "execution_count": 44,
          "metadata": {},
          "output_type": "execute_result"
        }
      ],
      "source": [
        "model.evaluate(X_test, y_test)"
      ]
    }
  ],
  "metadata": {
    "accelerator": "GPU",
    "colab": {
      "collapsed_sections": [
        "Vidpprh0qO3k"
      ],
      "provenance": []
    },
    "gpuClass": "standard",
    "kernelspec": {
      "display_name": "Python 3.10.2 64-bit",
      "language": "python",
      "name": "python3"
    },
    "language_info": {
      "name": "python",
      "version": "3.10.2"
    },
    "vscode": {
      "interpreter": {
        "hash": "aee8b7b246df8f9039afb4144a1f6fd8d2ca17a180786b69acc140d282b71a49"
      }
    }
  },
  "nbformat": 4,
  "nbformat_minor": 0
}
