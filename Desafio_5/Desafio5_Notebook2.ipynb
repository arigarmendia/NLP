{
  "cells": [
    {
      "cell_type": "markdown",
      "metadata": {
        "id": "kBLpTr7plguX"
      },
      "source": [
        "<img src=\"https://github.com/hernancontigiani/ceia_memorias_especializacion/raw/master/Figures/logoFIUBA.jpg\" width=\"500\" align=\"center\">\n",
        "\n",
        "\n",
        "# Procesamiento de lenguaje natural\n",
        "## Sentiment analysis con Embeddings + LSTM (Sin Stop Words)"
      ]
    },
    {
      "cell_type": "markdown",
      "metadata": {
        "id": "aQ8aGQ_AifRY"
      },
      "source": [
        "### Alumna: Ariadna Garmendia"
      ]
    },
    {
      "cell_type": "markdown",
      "metadata": {
        "id": "9W6nuajhlqZD"
      },
      "source": [
        "### Objetivo\n",
        "El objetivo es utilizar las críticas de compradores de ropa para que el sistema determine la evaluación del comprador y su crítica (cuantas estrellas le asigna al producto)."
      ]
    },
    {
      "cell_type": "code",
      "execution_count": 1,
      "metadata": {
        "id": "i6zvzv3qZ6xS"
      },
      "outputs": [],
      "source": [
        "#!pip install --upgrade --no-cache-dir gdown --quiet"
      ]
    },
    {
      "cell_type": "code",
      "execution_count": 36,
      "metadata": {
        "id": "hCpOVzJdl8_p"
      },
      "outputs": [],
      "source": [
        "import numpy as np\n",
        "import random\n",
        "import io\n",
        "import pickle\n",
        "import pandas as pd\n",
        "\n",
        "import matplotlib.pyplot as plt\n",
        "import seaborn as sns\n",
        "\n",
        "import tensorflow as tf\n",
        "from tensorflow import keras\n",
        "from tensorflow.keras import layers\n",
        "\n",
        "from keras.utils.np_utils import to_categorical\n",
        "from tensorflow.keras.utils import pad_sequences\n",
        "from keras.models import Sequential\n",
        "from keras.layers import Dense\n",
        "from keras.layers import LSTM\n",
        "from keras.layers import Embedding\n",
        "\n",
        "import seaborn as sns\n"
      ]
    },
    {
      "cell_type": "markdown",
      "metadata": {
        "id": "8UPeRkrAmbF3"
      },
      "source": [
        "### Datos\n",
        "Utilizaremos como dataset críticas de compradores de ropa (eCommerce) los cuales puntuaron a cada prenda con un puntaje de 1 a 5 estrellas.\\\n",
        "Referencia del dataset: [LINK](https://www.kaggle.com/nicapotato/womens-ecommerce-clothing-reviews/version/1)"
      ]
    },
    {
      "cell_type": "code",
      "execution_count": 3,
      "metadata": {
        "colab": {
          "base_uri": "https://localhost:8080/",
          "height": 302
        },
        "id": "o-SV1P3dnD1J",
        "outputId": "864ce295-4849-490d-823c-7a9d6873b84d"
      },
      "outputs": [
        {
          "data": {
            "text/html": [
              "<div>\n",
              "<style scoped>\n",
              "    .dataframe tbody tr th:only-of-type {\n",
              "        vertical-align: middle;\n",
              "    }\n",
              "\n",
              "    .dataframe tbody tr th {\n",
              "        vertical-align: top;\n",
              "    }\n",
              "\n",
              "    .dataframe thead th {\n",
              "        text-align: right;\n",
              "    }\n",
              "</style>\n",
              "<table border=\"1\" class=\"dataframe\">\n",
              "  <thead>\n",
              "    <tr style=\"text-align: right;\">\n",
              "      <th></th>\n",
              "      <th>Clothing ID</th>\n",
              "      <th>Age</th>\n",
              "      <th>Title</th>\n",
              "      <th>Review Text</th>\n",
              "      <th>Rating</th>\n",
              "      <th>Recommended IND</th>\n",
              "      <th>Positive Feedback Count</th>\n",
              "      <th>Division Name</th>\n",
              "      <th>Department Name</th>\n",
              "      <th>Class Name</th>\n",
              "    </tr>\n",
              "  </thead>\n",
              "  <tbody>\n",
              "    <tr>\n",
              "      <th>0</th>\n",
              "      <td>767</td>\n",
              "      <td>33</td>\n",
              "      <td>NaN</td>\n",
              "      <td>Absolutely wonderful - silky and sexy and comf...</td>\n",
              "      <td>4</td>\n",
              "      <td>1</td>\n",
              "      <td>0</td>\n",
              "      <td>Initmates</td>\n",
              "      <td>Intimate</td>\n",
              "      <td>Intimates</td>\n",
              "    </tr>\n",
              "    <tr>\n",
              "      <th>1</th>\n",
              "      <td>1080</td>\n",
              "      <td>34</td>\n",
              "      <td>NaN</td>\n",
              "      <td>Love this dress!  it's sooo pretty.  i happene...</td>\n",
              "      <td>5</td>\n",
              "      <td>1</td>\n",
              "      <td>4</td>\n",
              "      <td>General</td>\n",
              "      <td>Dresses</td>\n",
              "      <td>Dresses</td>\n",
              "    </tr>\n",
              "    <tr>\n",
              "      <th>2</th>\n",
              "      <td>1077</td>\n",
              "      <td>60</td>\n",
              "      <td>Some major design flaws</td>\n",
              "      <td>I had such high hopes for this dress and reall...</td>\n",
              "      <td>3</td>\n",
              "      <td>0</td>\n",
              "      <td>0</td>\n",
              "      <td>General</td>\n",
              "      <td>Dresses</td>\n",
              "      <td>Dresses</td>\n",
              "    </tr>\n",
              "    <tr>\n",
              "      <th>3</th>\n",
              "      <td>1049</td>\n",
              "      <td>50</td>\n",
              "      <td>My favorite buy!</td>\n",
              "      <td>I love, love, love this jumpsuit. it's fun, fl...</td>\n",
              "      <td>5</td>\n",
              "      <td>1</td>\n",
              "      <td>0</td>\n",
              "      <td>General Petite</td>\n",
              "      <td>Bottoms</td>\n",
              "      <td>Pants</td>\n",
              "    </tr>\n",
              "    <tr>\n",
              "      <th>4</th>\n",
              "      <td>847</td>\n",
              "      <td>47</td>\n",
              "      <td>Flattering shirt</td>\n",
              "      <td>This shirt is very flattering to all due to th...</td>\n",
              "      <td>5</td>\n",
              "      <td>1</td>\n",
              "      <td>6</td>\n",
              "      <td>General</td>\n",
              "      <td>Tops</td>\n",
              "      <td>Blouses</td>\n",
              "    </tr>\n",
              "  </tbody>\n",
              "</table>\n",
              "</div>"
            ],
            "text/plain": [
              "   Clothing ID  Age                    Title  \\\n",
              "0          767   33                      NaN   \n",
              "1         1080   34                      NaN   \n",
              "2         1077   60  Some major design flaws   \n",
              "3         1049   50         My favorite buy!   \n",
              "4          847   47         Flattering shirt   \n",
              "\n",
              "                                         Review Text  Rating  Recommended IND  \\\n",
              "0  Absolutely wonderful - silky and sexy and comf...       4                1   \n",
              "1  Love this dress!  it's sooo pretty.  i happene...       5                1   \n",
              "2  I had such high hopes for this dress and reall...       3                0   \n",
              "3  I love, love, love this jumpsuit. it's fun, fl...       5                1   \n",
              "4  This shirt is very flattering to all due to th...       5                1   \n",
              "\n",
              "   Positive Feedback Count   Division Name Department Name Class Name  \n",
              "0                        0       Initmates        Intimate  Intimates  \n",
              "1                        4         General         Dresses    Dresses  \n",
              "2                        0         General         Dresses    Dresses  \n",
              "3                        0  General Petite         Bottoms      Pants  \n",
              "4                        6         General            Tops    Blouses  "
            ]
          },
          "execution_count": 3,
          "metadata": {},
          "output_type": "execute_result"
        }
      ],
      "source": [
        "# Armar el dataset\n",
        "df = pd.read_csv('dataset/clothing_ecommerce_reviews.csv')\n",
        "df.drop(columns = ['Unnamed: 0'], inplace = True)\n",
        "df.head()"
      ]
    },
    {
      "cell_type": "markdown",
      "metadata": {
        "id": "q-OwSePKm-FK"
      },
      "source": [
        "### 1 - Limpieza de datos\n",
        "Alumno:\n",
        "- Del dataset unicamente utilizar las columnas \"Review Text\" y \"Rating.\n",
        "- Tranformar el rating 1-5 a una escala numérica de 0 a 4.\n",
        "\n"
      ]
    },
    {
      "cell_type": "code",
      "execution_count": 4,
      "metadata": {
        "colab": {
          "base_uri": "https://localhost:8080/",
          "height": 206
        },
        "id": "-hc7-AmYnPC3",
        "outputId": "aa189ba3-6bb7-4f1d-c912-88abf648a93c"
      },
      "outputs": [
        {
          "data": {
            "text/html": [
              "<div>\n",
              "<style scoped>\n",
              "    .dataframe tbody tr th:only-of-type {\n",
              "        vertical-align: middle;\n",
              "    }\n",
              "\n",
              "    .dataframe tbody tr th {\n",
              "        vertical-align: top;\n",
              "    }\n",
              "\n",
              "    .dataframe thead th {\n",
              "        text-align: right;\n",
              "    }\n",
              "</style>\n",
              "<table border=\"1\" class=\"dataframe\">\n",
              "  <thead>\n",
              "    <tr style=\"text-align: right;\">\n",
              "      <th></th>\n",
              "      <th>Review Text</th>\n",
              "      <th>Rating</th>\n",
              "    </tr>\n",
              "  </thead>\n",
              "  <tbody>\n",
              "    <tr>\n",
              "      <th>0</th>\n",
              "      <td>Absolutely wonderful - silky and sexy and comf...</td>\n",
              "      <td>3</td>\n",
              "    </tr>\n",
              "    <tr>\n",
              "      <th>1</th>\n",
              "      <td>Love this dress!  it's sooo pretty.  i happene...</td>\n",
              "      <td>4</td>\n",
              "    </tr>\n",
              "    <tr>\n",
              "      <th>2</th>\n",
              "      <td>I had such high hopes for this dress and reall...</td>\n",
              "      <td>2</td>\n",
              "    </tr>\n",
              "    <tr>\n",
              "      <th>3</th>\n",
              "      <td>I love, love, love this jumpsuit. it's fun, fl...</td>\n",
              "      <td>4</td>\n",
              "    </tr>\n",
              "    <tr>\n",
              "      <th>4</th>\n",
              "      <td>This shirt is very flattering to all due to th...</td>\n",
              "      <td>4</td>\n",
              "    </tr>\n",
              "  </tbody>\n",
              "</table>\n",
              "</div>"
            ],
            "text/plain": [
              "                                         Review Text  Rating\n",
              "0  Absolutely wonderful - silky and sexy and comf...       3\n",
              "1  Love this dress!  it's sooo pretty.  i happene...       4\n",
              "2  I had such high hopes for this dress and reall...       2\n",
              "3  I love, love, love this jumpsuit. it's fun, fl...       4\n",
              "4  This shirt is very flattering to all due to th...       4"
            ]
          },
          "execution_count": 4,
          "metadata": {},
          "output_type": "execute_result"
        }
      ],
      "source": [
        "df_reviews = df.loc[:, ['Review Text', 'Rating']].dropna()\n",
        "df_reviews['Rating'] = df_reviews['Rating'] - 1\n",
        "df_reviews.head()"
      ]
    },
    {
      "cell_type": "code",
      "execution_count": 5,
      "metadata": {
        "colab": {
          "base_uri": "https://localhost:8080/"
        },
        "id": "ZTxXQ1_ZIaVD",
        "outputId": "f5930986-4cdc-41d8-cfa8-b12e42a4a719"
      },
      "outputs": [
        {
          "data": {
            "text/plain": [
              "False"
            ]
          },
          "execution_count": 5,
          "metadata": {},
          "output_type": "execute_result"
        }
      ],
      "source": [
        "# Verifico que no hayan quedado Nans\n",
        "df_reviews.isnull().values.any()"
      ]
    },
    {
      "cell_type": "code",
      "execution_count": 6,
      "metadata": {
        "colab": {
          "base_uri": "https://localhost:8080/"
        },
        "id": "E7X1Q4QCLMrv",
        "outputId": "835fb292-ecd7-4e69-c410-10af772557ef"
      },
      "outputs": [
        {
          "data": {
            "text/plain": [
              "(22641, 2)"
            ]
          },
          "execution_count": 6,
          "metadata": {},
          "output_type": "execute_result"
        }
      ],
      "source": [
        "# Reviso las dimensiones\n",
        "df_reviews.shape"
      ]
    },
    {
      "cell_type": "code",
      "execution_count": 7,
      "metadata": {
        "colab": {
          "base_uri": "https://localhost:8080/"
        },
        "id": "sZtvASVOn3ty",
        "outputId": "d9d60402-fddb-47e0-d113-a1bede91a5e8"
      },
      "outputs": [
        {
          "data": {
            "text/plain": [
              "4    12540\n",
              "3     4908\n",
              "2     2823\n",
              "1     1549\n",
              "0      821\n",
              "Name: Rating, dtype: int64"
            ]
          },
          "execution_count": 7,
          "metadata": {},
          "output_type": "execute_result"
        }
      ],
      "source": [
        "# Alumno: Observar como está distribuido el dataset respecto a la columna Rating\n",
        "# es decir, observar que tan balanceado se encuentra respecot a cada clase\n",
        "\n",
        "df_reviews.Rating.value_counts()"
      ]
    },
    {
      "cell_type": "code",
      "execution_count": 58,
      "metadata": {
        "colab": {
          "base_uri": "https://localhost:8080/",
          "height": 335
        },
        "id": "Cw77DkHBLEiv",
        "outputId": "d669f89e-0fb4-49e5-c245-4822b7f38105"
      },
      "outputs": [
        {
          "data": {
            "image/png": "[encoded data removed]",
            "text/plain": [
              "<Figure size 640x480 with 1 Axes>"
            ]
          },
          "metadata": {},
          "output_type": "display_data"
        }
      ],
      "source": [
        "sns.countplot(x='Rating', data=df_reviews)\n",
        "plt.show()\n"
      ]
    },
    {
      "cell_type": "code",
      "execution_count": 9,
      "metadata": {
        "colab": {
          "base_uri": "https://localhost:8080/"
        },
        "id": "gVJ_RVi4o1h3",
        "outputId": "a1f5f9f1-fdd3-4a01-e8eb-4f6fa9347ca1"
      },
      "outputs": [
        {
          "data": {
            "text/plain": [
              "(22641,)"
            ]
          },
          "execution_count": 9,
          "metadata": {},
          "output_type": "execute_result"
        }
      ],
      "source": [
        "# Alumno: tomar la columna de las review y almacenarlo todo en un vector numpy de reviews\n",
        "text_sequences = df_reviews['Review Text'].values\n",
        "text_sequences.shape"
      ]
    },
    {
      "cell_type": "code",
      "execution_count": 10,
      "metadata": {
        "colab": {
          "base_uri": "https://localhost:8080/"
        },
        "id": "4nT5Un_co65Q",
        "outputId": "9624a1c6-cbbe-478e-8a53-e0dcbe50a011"
      },
      "outputs": [
        {
          "data": {
            "text/plain": [
              "22641"
            ]
          },
          "execution_count": 10,
          "metadata": {},
          "output_type": "execute_result"
        }
      ],
      "source": [
        "# Alumno: Cuantas reviews (rows) hay para evaluar?\n",
        "len(text_sequences)"
      ]
    },
    {
      "cell_type": "code",
      "execution_count": 11,
      "metadata": {
        "id": "HP5uN9tqpHu_"
      },
      "outputs": [],
      "source": [
        "# Alumno: Concatenar todas las reviews para armar el corpus\n",
        "corpus = ' '.join(text_sequences)"
      ]
    },
    {
      "cell_type": "code",
      "execution_count": 12,
      "metadata": {
        "id": "eZvrW4D5PrBW"
      },
      "outputs": [],
      "source": [
        "#corpus"
      ]
    },
    {
      "cell_type": "code",
      "execution_count": 13,
      "metadata": {
        "colab": {
          "base_uri": "https://localhost:8080/"
        },
        "id": "FEzmePgdpf74",
        "outputId": "eda2ff98-8424-4774-c6b8-ba1082d075bd"
      },
      "outputs": [
        {
          "data": {
            "text/plain": [
              "7011643"
            ]
          },
          "execution_count": 13,
          "metadata": {},
          "output_type": "execute_result"
        }
      ],
      "source": [
        "# Alumno: ¿Cuál es la longitud de ese corpus?\n",
        "len(corpus)"
      ]
    },
    {
      "cell_type": "code",
      "execution_count": 14,
      "metadata": {
        "id": "MYeJLdDmpvOe"
      },
      "outputs": [],
      "source": [
        "# Alumno: Utilizar \"text_to_word_sequence\" para separar las palabras en tokens\n",
        "# recordar que text_to_word_sequence automaticamente quita los signos de puntuacion y pasa el texto a lowercase\n",
        "from keras.preprocessing.text import text_to_word_sequence\n",
        "tokens = text_to_word_sequence(corpus)"
      ]
    },
    {
      "cell_type": "code",
      "execution_count": 15,
      "metadata": {
        "colab": {
          "base_uri": "https://localhost:8080/"
        },
        "id": "M6L-fnWAp_lA",
        "outputId": "6e138c18-00d7-4a23-9d4f-2abdbddf1438"
      },
      "outputs": [
        {
          "data": {
            "text/plain": [
              "['absolutely',\n",
              " 'wonderful',\n",
              " 'silky',\n",
              " 'and',\n",
              " 'sexy',\n",
              " 'and',\n",
              " 'comfortable',\n",
              " 'love',\n",
              " 'this',\n",
              " 'dress',\n",
              " \"it's\",\n",
              " 'sooo',\n",
              " 'pretty',\n",
              " 'i',\n",
              " 'happened',\n",
              " 'to',\n",
              " 'find',\n",
              " 'it',\n",
              " 'in',\n",
              " 'a']"
            ]
          },
          "execution_count": 15,
          "metadata": {},
          "output_type": "execute_result"
        }
      ],
      "source": [
        "# Alumno: Dar un vistazo a los primeros 20 tokens/palabras\n",
        "tokens[0:20]"
      ]
    },
    {
      "cell_type": "code",
      "execution_count": 16,
      "metadata": {
        "colab": {
          "base_uri": "https://localhost:8080/"
        },
        "id": "-8QgwwMUqG0d",
        "outputId": "4769b53a-b0b1-467e-e0c7-e2e970456a88"
      },
      "outputs": [
        {
          "data": {
            "text/plain": [
              "1372203"
            ]
          },
          "execution_count": 16,
          "metadata": {},
          "output_type": "execute_result"
        }
      ],
      "source": [
        "# Alumno: ¿Cuántos tokens/palabras hay?\n",
        "len(tokens)"
      ]
    },
    {
      "cell_type": "markdown",
      "metadata": {
        "id": "2PEfBnLSV147"
      },
      "source": [
        "#### Remuevo stop-words"
      ]
    },
    {
      "cell_type": "code",
      "execution_count": 17,
      "metadata": {
        "colab": {
          "base_uri": "https://localhost:8080/"
        },
        "id": "RizqnoY_A4lp",
        "outputId": "8797716c-c30f-416d-d01b-5bdd0ff95807"
      },
      "outputs": [
        {
          "name": "stderr",
          "output_type": "stream",
          "text": [
            "[nltk_data] Downloading package punkt to /Users/ari/nltk_data...\n",
            "[nltk_data]   Package punkt is already up-to-date!\n",
            "[nltk_data] Downloading package wordnet to /Users/ari/nltk_data...\n",
            "[nltk_data]   Package wordnet is already up-to-date!\n",
            "[nltk_data] Downloading package stopwords to /Users/ari/nltk_data...\n",
            "[nltk_data]   Package stopwords is already up-to-date!\n",
            "[nltk_data] Downloading package omw-1.4 to /Users/ari/nltk_data...\n",
            "[nltk_data]   Package omw-1.4 is already up-to-date!\n"
          ]
        },
        {
          "data": {
            "text/plain": [
              "True"
            ]
          },
          "execution_count": 17,
          "metadata": {},
          "output_type": "execute_result"
        }
      ],
      "source": [
        "# Para remover las stop-words voy a usar NLTK\n",
        "import nltk\n",
        "import string\n",
        "from nltk.tokenize import word_tokenize  \n",
        "from nltk.corpus import stopwords\n",
        "\n",
        "# Descargar tokenizador punkt\n",
        "nltk.download(\"punkt\")\n",
        "# Descargar diccionario de inglés\n",
        "nltk.download(\"wordnet\")\n",
        "# Descargar diccionario de stopwords\n",
        "nltk.download('stopwords')\n",
        "# Para usar NLTK 3.6.6 o superior es necesario instalar OMW 1.4 \n",
        "# (Open Multilingual WordNet)\n",
        "nltk.download('omw-1.4')"
      ]
    },
    {
      "cell_type": "code",
      "execution_count": 18,
      "metadata": {
        "colab": {
          "base_uri": "https://localhost:8080/"
        },
        "id": "x3P0zwhKBA5O",
        "outputId": "6356ff26-4747-471a-b112-a69b9cf8fda8"
      },
      "outputs": [
        {
          "data": {
            "text/plain": [
              "670440"
            ]
          },
          "execution_count": 18,
          "metadata": {},
          "output_type": "execute_result"
        }
      ],
      "source": [
        "# Stop words\n",
        "nltk_stop_words = set(stopwords.words(\"english\"))\n",
        "tokens = [w for w in tokens if w not in nltk_stop_words]\n",
        "# Quitar los signos de puntuacion\n",
        "tokens = [w for w in tokens if w not in string.punctuation]\n",
        "#print(\"Resultado:\", tokens)\n",
        "len(tokens)"
      ]
    },
    {
      "cell_type": "code",
      "execution_count": 19,
      "metadata": {
        "id": "TFukNZdOsZ8_"
      },
      "outputs": [],
      "source": [
        "# Alumno: Tokenizar las palabras con el Tokenizer de Keras\n",
        "# Definir una máxima cantidad de palabras a utilizar:\n",
        "# num_words --> the maximum number of words to keep, based on word frequency.\n",
        "# Only the most common num_words-1 words will be kept.\n",
        "from keras.preprocessing.text import Tokenizer\n",
        "num_words = 2000\n",
        "vocab_size = num_words\n",
        "tok = Tokenizer(num_words=2000) \n",
        "tok.fit_on_texts(tokens)"
      ]
    },
    {
      "cell_type": "code",
      "execution_count": 20,
      "metadata": {
        "colab": {
          "base_uri": "https://localhost:8080/"
        },
        "id": "JnR1tlqZy94X",
        "outputId": "7b22d8d7-d2a0-4999-a3d5-906e7d67c412"
      },
      "outputs": [
        {
          "data": {
            "text/plain": [
              "14680"
            ]
          },
          "execution_count": 20,
          "metadata": {},
          "output_type": "execute_result"
        }
      ],
      "source": [
        "# Alumno: Obtener el diccionario de palabra (word) a índice\n",
        "# y observar la cantidad total del vocabulario\n",
        "word_index = tok.word_index\n",
        "len(word_index)"
      ]
    },
    {
      "cell_type": "code",
      "execution_count": 21,
      "metadata": {
        "colab": {
          "base_uri": "https://localhost:8080/"
        },
        "id": "AvWzzSretQXf",
        "outputId": "5a6eb9cf-8cf8-4c15-ee6a-a332124ad624"
      },
      "outputs": [
        {
          "data": {
            "text/plain": [
              "[172, 427, 796, 550, 25]"
            ]
          },
          "execution_count": 21,
          "metadata": {},
          "output_type": "execute_result"
        }
      ],
      "source": [
        "# Alumno: Convertir las palabras/tokens a números\n",
        "sequences = tok.texts_to_sequences(text_sequences)\n",
        "sequences[0][:10]"
      ]
    },
    {
      "cell_type": "code",
      "execution_count": 22,
      "metadata": {
        "colab": {
          "base_uri": "https://localhost:8080/"
        },
        "id": "za73M5SRtbrP",
        "outputId": "50327bba-dd97-4540-c8d4-d4f200c9d490"
      },
      "outputs": [
        {
          "data": {
            "text/plain": [
              "63"
            ]
          },
          "execution_count": 22,
          "metadata": {},
          "output_type": "execute_result"
        }
      ],
      "source": [
        "# Alumno: Determinar cual es la oración más larga\n",
        "max(len(s) for s in sequences)"
      ]
    },
    {
      "cell_type": "code",
      "execution_count": 23,
      "metadata": {
        "id": "oCkO9Wc9tls1"
      },
      "outputs": [],
      "source": [
        "# Alumno: Realizar padding de las sentencias al mismo tamaño\n",
        "# tomando de referencia la máxima sentencia\n",
        "from tensorflow.keras.utils import pad_sequences\n",
        "maxlen = 63\n",
        "\n",
        "# Al realizar padding obtener la variable \"X\" (input)\n",
        "X = pad_sequences(sequences, padding='pre', maxlen=maxlen)"
      ]
    },
    {
      "cell_type": "code",
      "execution_count": 24,
      "metadata": {
        "colab": {
          "base_uri": "https://localhost:8080/"
        },
        "id": "kGHHabVdt_aa",
        "outputId": "20e0cc23-c6ce-4f23-ae93-54fb2e0f91e4"
      },
      "outputs": [
        {
          "data": {
            "text/plain": [
              "(22641, 63)"
            ]
          },
          "execution_count": 24,
          "metadata": {},
          "output_type": "execute_result"
        }
      ],
      "source": [
        "# Alumno: Observar las dimensiones de la variable input\n",
        "X.shape"
      ]
    },
    {
      "cell_type": "code",
      "execution_count": 25,
      "metadata": {
        "colab": {
          "base_uri": "https://localhost:8080/",
          "height": 224
        },
        "id": "llVM-tzQo9_F",
        "outputId": "50906f70-f7e6-4b1b-e3b1-9f9abdef2fd8"
      },
      "outputs": [
        {
          "name": "stdout",
          "output_type": "stream",
          "text": [
            "Dimensión de \"y\": (22641, 5)\n"
          ]
        },
        {
          "data": {
            "text/html": [
              "<div>\n",
              "<style scoped>\n",
              "    .dataframe tbody tr th:only-of-type {\n",
              "        vertical-align: middle;\n",
              "    }\n",
              "\n",
              "    .dataframe tbody tr th {\n",
              "        vertical-align: top;\n",
              "    }\n",
              "\n",
              "    .dataframe thead th {\n",
              "        text-align: right;\n",
              "    }\n",
              "</style>\n",
              "<table border=\"1\" class=\"dataframe\">\n",
              "  <thead>\n",
              "    <tr style=\"text-align: right;\">\n",
              "      <th></th>\n",
              "      <th>0</th>\n",
              "      <th>1</th>\n",
              "      <th>2</th>\n",
              "      <th>3</th>\n",
              "      <th>4</th>\n",
              "    </tr>\n",
              "  </thead>\n",
              "  <tbody>\n",
              "    <tr>\n",
              "      <th>0</th>\n",
              "      <td>0</td>\n",
              "      <td>0</td>\n",
              "      <td>0</td>\n",
              "      <td>1</td>\n",
              "      <td>0</td>\n",
              "    </tr>\n",
              "    <tr>\n",
              "      <th>1</th>\n",
              "      <td>0</td>\n",
              "      <td>0</td>\n",
              "      <td>0</td>\n",
              "      <td>0</td>\n",
              "      <td>1</td>\n",
              "    </tr>\n",
              "    <tr>\n",
              "      <th>2</th>\n",
              "      <td>0</td>\n",
              "      <td>0</td>\n",
              "      <td>1</td>\n",
              "      <td>0</td>\n",
              "      <td>0</td>\n",
              "    </tr>\n",
              "    <tr>\n",
              "      <th>3</th>\n",
              "      <td>0</td>\n",
              "      <td>0</td>\n",
              "      <td>0</td>\n",
              "      <td>0</td>\n",
              "      <td>1</td>\n",
              "    </tr>\n",
              "    <tr>\n",
              "      <th>4</th>\n",
              "      <td>0</td>\n",
              "      <td>0</td>\n",
              "      <td>0</td>\n",
              "      <td>0</td>\n",
              "      <td>1</td>\n",
              "    </tr>\n",
              "  </tbody>\n",
              "</table>\n",
              "</div>"
            ],
            "text/plain": [
              "   0  1  2  3  4\n",
              "0  0  0  0  1  0\n",
              "1  0  0  0  0  1\n",
              "2  0  0  1  0  0\n",
              "3  0  0  0  0  1\n",
              "4  0  0  0  0  1"
            ]
          },
          "execution_count": 25,
          "metadata": {},
          "output_type": "execute_result"
        }
      ],
      "source": [
        "# Alumno tomar la columna rating y alcemacenarla en una variable \"y\" transformada a oneHotEncoding\n",
        "# Su shape debe ser equivalente la cantidad de rows del corpus y a la cantidad\n",
        "# de clases que se deseen predecir (en este ejemplo son 5)\n",
        "\n",
        "y = pd.get_dummies(df_reviews.Rating)\n",
        "print(f'Dimensión de \"y\": {y.shape}')\n",
        "y.head()"
      ]
    },
    {
      "cell_type": "code",
      "execution_count": 26,
      "metadata": {
        "id": "Rmz9A6n4uK4V"
      },
      "outputs": [],
      "source": [
        "# Alumno: Dividir los datos en train y test\n",
        "from sklearn.model_selection import train_test_split\n",
        "X_train, X_test, y_train, y_test = train_test_split(X, y, test_size=0.2, random_state=42)"
      ]
    },
    {
      "cell_type": "code",
      "execution_count": 27,
      "metadata": {
        "colab": {
          "base_uri": "https://localhost:8080/"
        },
        "id": "jW4QnreZTsK2",
        "outputId": "9983b938-dc06-4d27-bd5d-5510295164d4"
      },
      "outputs": [
        {
          "data": {
            "text/plain": [
              "((22641, 63), (22641, 5), (18112, 63), (18112, 5), (4529, 63), (4529, 5))"
            ]
          },
          "execution_count": 27,
          "metadata": {},
          "output_type": "execute_result"
        }
      ],
      "source": [
        "# Verifico dimensiones\n",
        "X.shape, y.shape, X_train.shape, y_train.shape, X_test.shape, y_test.shape"
      ]
    },
    {
      "cell_type": "code",
      "execution_count": 28,
      "metadata": {
        "colab": {
          "base_uri": "https://localhost:8080/"
        },
        "id": "EcDPlhEouQ9E",
        "outputId": "77f96986-bd6e-46fa-8340-30d3a4e3f19a"
      },
      "outputs": [
        {
          "name": "stdout",
          "output_type": "stream",
          "text": [
            "in_shape 63 , out_shape 5\n"
          ]
        }
      ],
      "source": [
        "# Alumno: determinar la dimensiones de entrada y salida\n",
        "in_shape = X_train.shape[1] # max input sentence len\n",
        "out_shape = 5 # multiclass classification\n",
        "print(\"in_shape\", in_shape, \", out_shape\", out_shape)"
      ]
    },
    {
      "cell_type": "markdown",
      "metadata": {
        "id": "NpbQHExL6OTu"
      },
      "source": [
        "### 2 - Entrenar el modelo con mis propios Embeddings + LSTM"
      ]
    },
    {
      "cell_type": "code",
      "execution_count": 29,
      "metadata": {
        "id": "NUkuWBsM6cx3"
      },
      "outputs": [],
      "source": [
        "# Alumno: Entrene su modelo con LSTM entrenando sus propios embeddings\n",
        "# o utilizando embeddings pre-entrenados.\n",
        "from keras.layers import LSTM\n",
        "from keras.layers import Embedding\n",
        "from keras.layers import Dropout\n",
        "from keras.layers import Bidirectional\n"
      ]
    },
    {
      "cell_type": "code",
      "execution_count": 30,
      "metadata": {
        "colab": {
          "base_uri": "https://localhost:8080/"
        },
        "id": "93C4k005hN8T",
        "outputId": "b8f9a082-ac84-4a06-a56c-1a7da7e605df"
      },
      "outputs": [
        {
          "name": "stdout",
          "output_type": "stream",
          "text": [
            "Metal device set to: Apple M1 Pro\n",
            "\n",
            "systemMemory: 16.00 GB\n",
            "maxCacheSize: 5.33 GB\n",
            "\n"
          ]
        },
        {
          "name": "stderr",
          "output_type": "stream",
          "text": [
            "2022-11-30 04:58:26.522216: I tensorflow/core/common_runtime/pluggable_device/pluggable_device_factory.cc:306] Could not identify NUMA node of platform GPU ID 0, defaulting to 0. Your kernel may not have been built with NUMA support.\n",
            "2022-11-30 04:58:26.522965: I tensorflow/core/common_runtime/pluggable_device/pluggable_device_factory.cc:272] Created TensorFlow device (/job:localhost/replica:0/task:0/device:GPU:0 with 0 MB memory) -> physical PluggableDevice (device: 0, name: METAL, pci bus id: <undefined>)\n"
          ]
        },
        {
          "name": "stdout",
          "output_type": "stream",
          "text": [
            "Model: \"sequential\"\n",
            "_________________________________________________________________\n",
            " Layer (type)                Output Shape              Param #   \n",
            "=================================================================\n",
            " embedding (Embedding)       (None, 63, 50)            100050    \n",
            "                                                                 \n",
            " bidirectional (Bidirectiona  (None, 63, 128)          58880     \n",
            " l)                                                              \n",
            "                                                                 \n",
            " dropout (Dropout)           (None, 63, 128)           0         \n",
            "                                                                 \n",
            " bidirectional_1 (Bidirectio  (None, 128)              98816     \n",
            " nal)                                                            \n",
            "                                                                 \n",
            " dense (Dense)               (None, 128)               16512     \n",
            "                                                                 \n",
            " dropout_1 (Dropout)         (None, 128)               0         \n",
            "                                                                 \n",
            " dense_1 (Dense)             (None, 5)                 645       \n",
            "                                                                 \n",
            "=================================================================\n",
            "Total params: 274,903\n",
            "Trainable params: 274,903\n",
            "Non-trainable params: 0\n",
            "_________________________________________________________________\n"
          ]
        }
      ],
      "source": [
        "model = Sequential()\n",
        "model.add(Embedding(input_dim=vocab_size+1, output_dim=50, input_length=in_shape))\n",
        "model.add(Bidirectional(LSTM(units=64, return_sequences=True)))\n",
        "model.add(Dropout(0.2))\n",
        "model.add(Bidirectional(LSTM(units=64))) # La última capa LSTM no lleva return_sequences\n",
        "\n",
        "model.add(Dense(units=128, activation='relu'))\n",
        "model.add(Dropout(rate=0.2))\n",
        "model.add(Dense(units=out_shape, activation='softmax'))\n",
        "model.compile(optimizer=\"adam\",\n",
        "              loss='categorical_crossentropy',\n",
        "              metrics=['accuracy'])\n",
        "model.summary()"
      ]
    },
    {
      "cell_type": "code",
      "execution_count": 31,
      "metadata": {
        "colab": {
          "base_uri": "https://localhost:8080/",
          "height": 865
        },
        "id": "YIXEXeDIiBmC",
        "outputId": "dc5ff115-f345-4f13-c37d-9a6bfe9c7dd4"
      },
      "outputs": [
        {
          "name": "stdout",
          "output_type": "stream",
          "text": [
            "You must install pydot (`pip install pydot`) and install graphviz (see instructions at https://graphviz.gitlab.io/download/) for plot_model to work.\n"
          ]
        }
      ],
      "source": [
        "from keras.utils.vis_utils import plot_model\n",
        "plot_model(model, to_file='model_plot.png', show_shapes=True, show_layer_names=True)"
      ]
    },
    {
      "cell_type": "markdown",
      "metadata": {
        "id": "QlQMAOCcB0Ni"
      },
      "source": [
        "#### 2.1. Con dataset balanceado con Random Oversampling"
      ]
    },
    {
      "cell_type": "code",
      "execution_count": 38,
      "metadata": {
        "colab": {
          "base_uri": "https://localhost:8080/"
        },
        "id": "9-HnbeJGzOCd",
        "outputId": "87bab8e1-cf16-4c6f-ef0b-a500a0417f9d"
      },
      "outputs": [
        {
          "data": {
            "text/plain": [
              "((49975, 63), (49975, 5))"
            ]
          },
          "execution_count": 38,
          "metadata": {},
          "output_type": "execute_result"
        }
      ],
      "source": [
        "# Voy a hacer un oversampling con SMOTE para balancear las clases\n",
        "from imblearn.over_sampling import SMOTE, RandomOverSampler\n",
        "\n",
        "ros = RandomOverSampler(random_state=10, sampling_strategy='auto')\n",
        "X_resampled, y_resampled = ros.fit_resample(X_train, y_train.to_numpy()) # Paso y_train a numpy array porque daba error\n",
        "\n",
        "X_resampled.shape, y_resampled.shape"
      ]
    },
    {
      "cell_type": "code",
      "execution_count": 39,
      "metadata": {
        "id": "cYvqFR6rS2y_"
      },
      "outputs": [],
      "source": [
        "X_ros_train = pd.DataFrame(X_resampled)\n",
        "y_ros_train = pd.DataFrame(y_resampled)"
      ]
    },
    {
      "cell_type": "code",
      "execution_count": 40,
      "metadata": {
        "colab": {
          "base_uri": "https://localhost:8080/",
          "height": 206
        },
        "id": "FyeOVQUddBQc",
        "outputId": "129a8f55-24ab-45af-ddc8-d57e49898691"
      },
      "outputs": [
        {
          "data": {
            "text/html": [
              "<div>\n",
              "<style scoped>\n",
              "    .dataframe tbody tr th:only-of-type {\n",
              "        vertical-align: middle;\n",
              "    }\n",
              "\n",
              "    .dataframe tbody tr th {\n",
              "        vertical-align: top;\n",
              "    }\n",
              "\n",
              "    .dataframe thead th {\n",
              "        text-align: right;\n",
              "    }\n",
              "</style>\n",
              "<table border=\"1\" class=\"dataframe\">\n",
              "  <thead>\n",
              "    <tr style=\"text-align: right;\">\n",
              "      <th></th>\n",
              "      <th>0</th>\n",
              "      <th>1</th>\n",
              "      <th>2</th>\n",
              "      <th>3</th>\n",
              "      <th>4</th>\n",
              "    </tr>\n",
              "  </thead>\n",
              "  <tbody>\n",
              "    <tr>\n",
              "      <th>0</th>\n",
              "      <td>0</td>\n",
              "      <td>0</td>\n",
              "      <td>0</td>\n",
              "      <td>1</td>\n",
              "      <td>0</td>\n",
              "    </tr>\n",
              "    <tr>\n",
              "      <th>1</th>\n",
              "      <td>0</td>\n",
              "      <td>0</td>\n",
              "      <td>0</td>\n",
              "      <td>0</td>\n",
              "      <td>1</td>\n",
              "    </tr>\n",
              "    <tr>\n",
              "      <th>2</th>\n",
              "      <td>0</td>\n",
              "      <td>0</td>\n",
              "      <td>0</td>\n",
              "      <td>0</td>\n",
              "      <td>1</td>\n",
              "    </tr>\n",
              "    <tr>\n",
              "      <th>3</th>\n",
              "      <td>0</td>\n",
              "      <td>1</td>\n",
              "      <td>0</td>\n",
              "      <td>0</td>\n",
              "      <td>0</td>\n",
              "    </tr>\n",
              "    <tr>\n",
              "      <th>4</th>\n",
              "      <td>0</td>\n",
              "      <td>0</td>\n",
              "      <td>0</td>\n",
              "      <td>0</td>\n",
              "      <td>1</td>\n",
              "    </tr>\n",
              "  </tbody>\n",
              "</table>\n",
              "</div>"
            ],
            "text/plain": [
              "   0  1  2  3  4\n",
              "0  0  0  0  1  0\n",
              "1  0  0  0  0  1\n",
              "2  0  0  0  0  1\n",
              "3  0  1  0  0  0\n",
              "4  0  0  0  0  1"
            ]
          },
          "execution_count": 40,
          "metadata": {},
          "output_type": "execute_result"
        }
      ],
      "source": [
        "y_ros_train.head()"
      ]
    },
    {
      "cell_type": "markdown",
      "metadata": {},
      "source": [
        "#### Miro como quedan algunas de las clases luego del oversampling"
      ]
    },
    {
      "cell_type": "code",
      "execution_count": 60,
      "metadata": {
        "colab": {
          "base_uri": "https://localhost:8080/",
          "height": 930
        },
        "id": "38prq6WF_HaB",
        "outputId": "e497a2eb-d891-41f1-82e6-ff0507a1fa36"
      },
      "outputs": [
        {
          "data": {
            "image/png": "[encoded data removed]",
            "text/plain": [
              "<Figure size 640x480 with 1 Axes>"
            ]
          },
          "metadata": {},
          "output_type": "display_data"
        },
        {
          "data": {
            "image/png": "[encoded data removed]",
            "text/plain": [
              "<Figure size 640x480 with 1 Axes>"
            ]
          },
          "metadata": {},
          "output_type": "display_data"
        },
        {
          "data": {
            "image/png": "[encoded data removed]",
            "text/plain": [
              "<Figure size 640x480 with 1 Axes>"
            ]
          },
          "metadata": {},
          "output_type": "display_data"
        }
      ],
      "source": [
        "sns.countplot(x=0, data=y_ros_train)\n",
        "plt.show()\n",
        "sns.countplot(x=1, data=y_ros_train)\n",
        "plt.show()\n",
        "sns.countplot(x=4, data=y_ros_train)\n",
        "plt.show()"
      ]
    },
    {
      "cell_type": "code",
      "execution_count": 46,
      "metadata": {
        "colab": {
          "base_uri": "https://localhost:8080/",
          "height": 389
        },
        "id": "nGRsoIS9ZRTY",
        "outputId": "3fac3a5f-9361-492c-e070-099318a81625"
      },
      "outputs": [],
      "source": [
        "model = Sequential()\n",
        "model.add(Embedding(input_dim=vocab_size+1, output_dim=50, input_length=in_shape))\n",
        "model.add(Bidirectional(LSTM(units=64, return_sequences=True)))\n",
        "model.add(Dropout(0.2))\n",
        "model.add(Bidirectional(LSTM(units=64))) # La última capa LSTM no lleva return_sequences\n",
        "\n",
        "model.add(Dense(units=128, activation='relu'))\n",
        "model.add(Dropout(rate=0.2))\n",
        "model.add(Dense(units=out_shape, activation='softmax'))\n",
        "model.compile(optimizer=\"adam\",\n",
        "              loss='categorical_crossentropy',\n",
        "              metrics=['accuracy'])"
      ]
    },
    {
      "cell_type": "code",
      "execution_count": 47,
      "metadata": {
        "colab": {
          "base_uri": "https://localhost:8080/"
        },
        "id": "mlW-FV4mBz7T",
        "outputId": "fe01f0ab-bc95-4548-b8a8-556345a03a25"
      },
      "outputs": [
        {
          "name": "stdout",
          "output_type": "stream",
          "text": [
            "Epoch 1/35\n"
          ]
        },
        {
          "name": "stderr",
          "output_type": "stream",
          "text": [
            "2022-11-30 12:22:21.790463: I tensorflow/core/grappler/optimizers/custom_graph_optimizer_registry.cc:114] Plugin optimizer for device_type GPU is enabled.\n",
            "2022-11-30 12:22:22.342460: I tensorflow/core/grappler/optimizers/custom_graph_optimizer_registry.cc:114] Plugin optimizer for device_type GPU is enabled.\n",
            "2022-11-30 12:22:22.362534: I tensorflow/core/grappler/optimizers/custom_graph_optimizer_registry.cc:114] Plugin optimizer for device_type GPU is enabled.\n",
            "2022-11-30 12:22:22.586919: I tensorflow/core/grappler/optimizers/custom_graph_optimizer_registry.cc:114] Plugin optimizer for device_type GPU is enabled.\n",
            "2022-11-30 12:22:22.604889: I tensorflow/core/grappler/optimizers/custom_graph_optimizer_registry.cc:114] Plugin optimizer for device_type GPU is enabled.\n",
            "2022-11-30 12:22:22.894412: I tensorflow/core/grappler/optimizers/custom_graph_optimizer_registry.cc:114] Plugin optimizer for device_type GPU is enabled.\n",
            "2022-11-30 12:22:22.920540: I tensorflow/core/grappler/optimizers/custom_graph_optimizer_registry.cc:114] Plugin optimizer for device_type GPU is enabled.\n",
            "2022-11-30 12:22:23.232261: I tensorflow/core/grappler/optimizers/custom_graph_optimizer_registry.cc:114] Plugin optimizer for device_type GPU is enabled.\n",
            "2022-11-30 12:22:23.262033: I tensorflow/core/grappler/optimizers/custom_graph_optimizer_registry.cc:114] Plugin optimizer for device_type GPU is enabled.\n"
          ]
        },
        {
          "name": "stdout",
          "output_type": "stream",
          "text": [
            "1250/1250 [==============================] - ETA: 0s - loss: 0.9281 - accuracy: 0.6268"
          ]
        },
        {
          "name": "stderr",
          "output_type": "stream",
          "text": [
            "2022-11-30 12:23:56.999537: I tensorflow/core/grappler/optimizers/custom_graph_optimizer_registry.cc:114] Plugin optimizer for device_type GPU is enabled.\n",
            "2022-11-30 12:23:57.170614: I tensorflow/core/grappler/optimizers/custom_graph_optimizer_registry.cc:114] Plugin optimizer for device_type GPU is enabled.\n",
            "2022-11-30 12:23:57.183416: I tensorflow/core/grappler/optimizers/custom_graph_optimizer_registry.cc:114] Plugin optimizer for device_type GPU is enabled.\n",
            "2022-11-30 12:23:57.374155: I tensorflow/core/grappler/optimizers/custom_graph_optimizer_registry.cc:114] Plugin optimizer for device_type GPU is enabled.\n",
            "2022-11-30 12:23:57.387490: I tensorflow/core/grappler/optimizers/custom_graph_optimizer_registry.cc:114] Plugin optimizer for device_type GPU is enabled.\n"
          ]
        },
        {
          "name": "stdout",
          "output_type": "stream",
          "text": [
            "1250/1250 [==============================] - 111s 85ms/step - loss: 0.9281 - accuracy: 0.6268 - val_loss: 1.5821 - val_accuracy: 0.1726\n",
            "Epoch 2/35\n",
            "1250/1250 [==============================] - 101s 81ms/step - loss: 0.5737 - accuracy: 0.7862 - val_loss: 1.4415 - val_accuracy: 0.2700\n",
            "Epoch 3/35\n",
            "1250/1250 [==============================] - 251s 201ms/step - loss: 0.4542 - accuracy: 0.8313 - val_loss: 1.2990 - val_accuracy: 0.2982\n",
            "Epoch 4/35\n",
            "1250/1250 [==============================] - 102s 82ms/step - loss: 0.3892 - accuracy: 0.8546 - val_loss: 1.2059 - val_accuracy: 0.4030\n",
            "Epoch 5/35\n",
            "1250/1250 [==============================] - 101s 81ms/step - loss: 0.3517 - accuracy: 0.8678 - val_loss: 0.9847 - val_accuracy: 0.5054\n",
            "Epoch 6/35\n",
            "1250/1250 [==============================] - 121s 97ms/step - loss: 0.3223 - accuracy: 0.8780 - val_loss: 1.0414 - val_accuracy: 0.4961\n",
            "Epoch 7/35\n",
            "1250/1250 [==============================] - 101s 81ms/step - loss: 0.2871 - accuracy: 0.8889 - val_loss: 0.9297 - val_accuracy: 0.5123\n",
            "Epoch 8/35\n",
            "1250/1250 [==============================] - 235s 188ms/step - loss: 0.2701 - accuracy: 0.8965 - val_loss: 0.7282 - val_accuracy: 0.6763\n",
            "Epoch 9/35\n",
            "1250/1250 [==============================] - 247s 198ms/step - loss: 0.2475 - accuracy: 0.9039 - val_loss: 0.7105 - val_accuracy: 0.6708\n",
            "Epoch 10/35\n",
            "1250/1250 [==============================] - 101s 81ms/step - loss: 0.2377 - accuracy: 0.9089 - val_loss: 0.8677 - val_accuracy: 0.5740\n",
            "Epoch 11/35\n",
            "1250/1250 [==============================] - 100s 80ms/step - loss: 0.2133 - accuracy: 0.9153 - val_loss: 0.8608 - val_accuracy: 0.5960\n",
            "Epoch 12/35\n",
            "1250/1250 [==============================] - 101s 80ms/step - loss: 0.2044 - accuracy: 0.9201 - val_loss: 0.5690 - val_accuracy: 0.7501\n",
            "Epoch 13/35\n",
            "1250/1250 [==============================] - 272s 217ms/step - loss: 0.1874 - accuracy: 0.9267 - val_loss: 0.5575 - val_accuracy: 0.7541\n",
            "Epoch 14/35\n",
            "1250/1250 [==============================] - 100s 80ms/step - loss: 0.1767 - accuracy: 0.9317 - val_loss: 0.5277 - val_accuracy: 0.7513\n",
            "Epoch 15/35\n",
            "1250/1250 [==============================] - 98s 79ms/step - loss: 0.1604 - accuracy: 0.9364 - val_loss: 0.3831 - val_accuracy: 0.8541\n",
            "Epoch 16/35\n",
            "1250/1250 [==============================] - 100s 80ms/step - loss: 0.1505 - accuracy: 0.9411 - val_loss: 0.3985 - val_accuracy: 0.8246\n",
            "Epoch 17/35\n",
            "1250/1250 [==============================] - 102s 81ms/step - loss: 0.1390 - accuracy: 0.9471 - val_loss: 0.3740 - val_accuracy: 0.8373\n",
            "Epoch 18/35\n",
            "1250/1250 [==============================] - 572s 458ms/step - loss: 0.1222 - accuracy: 0.9533 - val_loss: 0.4344 - val_accuracy: 0.8070\n",
            "Epoch 19/35\n",
            "1250/1250 [==============================] - 346s 277ms/step - loss: 0.1080 - accuracy: 0.9596 - val_loss: 0.2162 - val_accuracy: 0.9284\n",
            "Epoch 20/35\n",
            "1250/1250 [==============================] - 1438s 1s/step - loss: 0.1022 - accuracy: 0.9622 - val_loss: 0.2808 - val_accuracy: 0.8905\n",
            "Epoch 21/35\n",
            "1250/1250 [==============================] - 100s 80ms/step - loss: 0.0891 - accuracy: 0.9683 - val_loss: 0.2374 - val_accuracy: 0.9175\n",
            "Epoch 22/35\n",
            "1250/1250 [==============================] - 100s 80ms/step - loss: 0.0821 - accuracy: 0.9707 - val_loss: 0.1979 - val_accuracy: 0.9298\n",
            "Epoch 23/35\n",
            "1250/1250 [==============================] - 316s 253ms/step - loss: 0.0696 - accuracy: 0.9749 - val_loss: 0.1703 - val_accuracy: 0.9483\n",
            "Epoch 24/35\n",
            "1250/1250 [==============================] - 101s 81ms/step - loss: 0.0631 - accuracy: 0.9773 - val_loss: 0.1334 - val_accuracy: 0.9582\n",
            "Epoch 25/35\n",
            "1250/1250 [==============================] - 100s 80ms/step - loss: 0.0622 - accuracy: 0.9792 - val_loss: 0.1158 - val_accuracy: 0.9580\n",
            "Epoch 26/35\n",
            "1250/1250 [==============================] - 238s 190ms/step - loss: 0.0542 - accuracy: 0.9812 - val_loss: 0.1119 - val_accuracy: 0.9610\n",
            "Epoch 27/35\n",
            "1250/1250 [==============================] - 101s 81ms/step - loss: 0.0518 - accuracy: 0.9825 - val_loss: 0.1020 - val_accuracy: 0.9687\n",
            "Epoch 28/35\n",
            "1250/1250 [==============================] - 98s 78ms/step - loss: 0.0443 - accuracy: 0.9850 - val_loss: 0.0724 - val_accuracy: 0.9780\n",
            "Epoch 29/35\n",
            "1250/1250 [==============================] - 897s 718ms/step - loss: 0.0407 - accuracy: 0.9862 - val_loss: 0.0605 - val_accuracy: 0.9794\n",
            "Epoch 30/35\n",
            "1250/1250 [==============================] - 97s 78ms/step - loss: 0.0398 - accuracy: 0.9869 - val_loss: 0.0876 - val_accuracy: 0.9705\n",
            "Epoch 31/35\n",
            "1250/1250 [==============================] - 437s 350ms/step - loss: 0.0345 - accuracy: 0.9884 - val_loss: 0.1207 - val_accuracy: 0.9569\n",
            "Epoch 32/35\n",
            "1250/1250 [==============================] - 97s 78ms/step - loss: 0.0343 - accuracy: 0.9886 - val_loss: 0.0487 - val_accuracy: 0.9850\n",
            "Epoch 33/35\n",
            "1250/1250 [==============================] - 586s 469ms/step - loss: 0.0355 - accuracy: 0.9884 - val_loss: 0.0744 - val_accuracy: 0.9757\n",
            "Epoch 34/35\n",
            "1250/1250 [==============================] - 97s 78ms/step - loss: 0.0307 - accuracy: 0.9900 - val_loss: 0.0332 - val_accuracy: 0.9910\n",
            "Epoch 35/35\n",
            "1250/1250 [==============================] - 727s 582ms/step - loss: 0.0308 - accuracy: 0.9901 - val_loss: 0.0405 - val_accuracy: 0.9867\n"
          ]
        }
      ],
      "source": [
        "hist_ros = model.fit(X_ros_train, y_ros_train, epochs=35, validation_split=0.2)"
      ]
    },
    {
      "cell_type": "code",
      "execution_count": 48,
      "metadata": {
        "colab": {
          "base_uri": "https://localhost:8080/",
          "height": 545
        },
        "id": "8szQYdbiRu1q",
        "outputId": "3a51f62e-9cec-442e-d0c0-aeff8a9412a7"
      },
      "outputs": [
        {
          "data": {
            "image/png": "[encoded data removed]",
            "text/plain": [
              "<Figure size 640x480 with 1 Axes>"
            ]
          },
          "metadata": {},
          "output_type": "display_data"
        },
        {
          "data": {
            "image/png": "[encoded data removed]",
            "text/plain": [
              "<Figure size 640x480 with 1 Axes>"
            ]
          },
          "metadata": {},
          "output_type": "display_data"
        }
      ],
      "source": [
        "epoch_count = range(1, len(hist_ros.history['accuracy']) + 1)\n",
        "sns.lineplot(x=epoch_count,  y=hist_ros.history['loss'], label='train')\n",
        "sns.lineplot(x=epoch_count,  y=hist_ros.history['val_loss'], label='valid')\n",
        "plt.title('Loss')\n",
        "plt.show()\n",
        "plt.figure()\n",
        "sns.lineplot(x=epoch_count,  y=hist_ros.history['accuracy'], label='train')\n",
        "sns.lineplot(x=epoch_count,  y=hist_ros.history['val_accuracy'], label='valid')\n",
        "plt.title('Accuracy')\n",
        "plt.show()"
      ]
    },
    {
      "cell_type": "code",
      "execution_count": 49,
      "metadata": {
        "colab": {
          "base_uri": "https://localhost:8080/"
        },
        "id": "C9lr3mTw-p7P",
        "outputId": "e5c1df83-a7b6-4829-963f-041ab90ba605"
      },
      "outputs": [
        {
          "name": "stderr",
          "output_type": "stream",
          "text": [
            "2022-11-30 15:21:32.618305: I tensorflow/core/grappler/optimizers/custom_graph_optimizer_registry.cc:114] Plugin optimizer for device_type GPU is enabled.\n",
            "2022-11-30 15:21:32.906538: I tensorflow/core/grappler/optimizers/custom_graph_optimizer_registry.cc:114] Plugin optimizer for device_type GPU is enabled.\n",
            "2022-11-30 15:21:32.926522: I tensorflow/core/grappler/optimizers/custom_graph_optimizer_registry.cc:114] Plugin optimizer for device_type GPU is enabled.\n",
            "2022-11-30 15:21:33.153153: I tensorflow/core/grappler/optimizers/custom_graph_optimizer_registry.cc:114] Plugin optimizer for device_type GPU is enabled.\n",
            "2022-11-30 15:21:33.167818: I tensorflow/core/grappler/optimizers/custom_graph_optimizer_registry.cc:114] Plugin optimizer for device_type GPU is enabled.\n"
          ]
        },
        {
          "name": "stdout",
          "output_type": "stream",
          "text": [
            "142/142 [==============================] - 8s 45ms/step - loss: 3.4796 - accuracy: 0.5493\n"
          ]
        },
        {
          "data": {
            "text/plain": [
              "[3.4795708656311035, 0.5493486523628235]"
            ]
          },
          "execution_count": 49,
          "metadata": {},
          "output_type": "execute_result"
        }
      ],
      "source": [
        "model.evaluate(X_test, y_test)"
      ]
    },
    {
      "cell_type": "markdown",
      "metadata": {
        "id": "1kOEvUEwXp59"
      },
      "source": [
        "#### 2.3. Balanceado con class-weights"
      ]
    },
    {
      "cell_type": "markdown",
      "metadata": {},
      "source": [
        "#### Calculo los class_weights con Sklearn, a partir de y_train"
      ]
    },
    {
      "cell_type": "code",
      "execution_count": null,
      "metadata": {
        "id": "EI2qtxE5iE03"
      },
      "outputs": [],
      "source": [
        "from sklearn.utils import class_weight\n",
        "\n",
        "_ ,_, y_train_cw, _ = train_test_split(X, df_reviews.Rating, test_size=0.2, random_state=42) # Hago esto de nuevo para tomar y_train_cw sin OHE\n",
        "\n",
        "class_weights = dict(zip(np.unique(y_train_cw), class_weight.compute_class_weight(class_weight ='balanced',\n",
        "                                                  classes = np.unique(y_train_cw),\n",
        "                                                 y=y_train_cw)))\n",
        "class_weights"
      ]
    },
    {
      "cell_type": "code",
      "execution_count": null,
      "metadata": {
        "id": "d1GAxNvIQtKM"
      },
      "outputs": [],
      "source": [
        "model = Sequential()\n",
        "model.add(Embedding(input_dim=vocab_size+1, output_dim=50, input_length=in_shape))\n",
        "model.add(Bidirectional(LSTM(units=64, return_sequences=True)))\n",
        "#model.add((LSTM(units=64, return_sequences=True)))\n",
        "model.add(Dropout(0.5))\n",
        "model.add(Bidirectional(LSTM(units=64))) # La última capa LSTM no lleva return_sequences\n",
        "#model.add((LSTM(units=64))) # La última capa LSTM no lleva return_sequences\n",
        "model.add(Dense(units=128, activation='relu'))\n",
        "model.add(Dropout(rate=0.5))\n",
        "model.add(Dense(units=out_shape, activation='softmax'))\n",
        "model.compile(optimizer=\"adam\",\n",
        "              loss='categorical_crossentropy',\n",
        "              metrics=['accuracy'])"
      ]
    },
    {
      "cell_type": "code",
      "execution_count": null,
      "metadata": {
        "colab": {
          "base_uri": "https://localhost:8080/"
        },
        "id": "YFNTh0wfQtKN",
        "outputId": "e401b7ae-280b-4ca3-b350-79f962ab0dae"
      },
      "outputs": [
        {
          "name": "stdout",
          "output_type": "stream",
          "text": [
            "Epoch 1/20\n",
            "453/453 [==============================] - 16s 22ms/step - loss: 1.3758 - accuracy: 0.4280 - val_loss: 1.1384 - val_accuracy: 0.3787\n",
            "Epoch 2/20\n",
            "453/453 [==============================] - 8s 18ms/step - loss: 1.1864 - accuracy: 0.5276 - val_loss: 1.0683 - val_accuracy: 0.5520\n",
            "Epoch 3/20\n",
            "453/453 [==============================] - 8s 18ms/step - loss: 1.0681 - accuracy: 0.5741 - val_loss: 1.1040 - val_accuracy: 0.5051\n",
            "Epoch 4/20\n",
            "453/453 [==============================] - 8s 18ms/step - loss: 0.9773 - accuracy: 0.5913 - val_loss: 1.0870 - val_accuracy: 0.5322\n",
            "Epoch 5/20\n",
            "453/453 [==============================] - 8s 18ms/step - loss: 0.8948 - accuracy: 0.6130 - val_loss: 1.1643 - val_accuracy: 0.5261\n",
            "Epoch 6/20\n",
            "453/453 [==============================] - 8s 18ms/step - loss: 0.8333 - accuracy: 0.6276 - val_loss: 1.2085 - val_accuracy: 0.5126\n",
            "Epoch 7/20\n",
            "453/453 [==============================] - 8s 18ms/step - loss: 0.7785 - accuracy: 0.6404 - val_loss: 1.2290 - val_accuracy: 0.5068\n",
            "Epoch 8/20\n",
            "453/453 [==============================] - 8s 18ms/step - loss: 0.6997 - accuracy: 0.6566 - val_loss: 1.3086 - val_accuracy: 0.4792\n",
            "Epoch 9/20\n",
            "453/453 [==============================] - 8s 18ms/step - loss: 0.6623 - accuracy: 0.6713 - val_loss: 1.2606 - val_accuracy: 0.5380\n",
            "Epoch 10/20\n",
            "453/453 [==============================] - 8s 18ms/step - loss: 0.6220 - accuracy: 0.6812 - val_loss: 1.4080 - val_accuracy: 0.4902\n",
            "Epoch 11/20\n",
            "453/453 [==============================] - 8s 18ms/step - loss: 0.5834 - accuracy: 0.6971 - val_loss: 1.4231 - val_accuracy: 0.5258\n",
            "Epoch 12/20\n",
            "453/453 [==============================] - 8s 18ms/step - loss: 0.5399 - accuracy: 0.7025 - val_loss: 1.4644 - val_accuracy: 0.5068\n",
            "Epoch 13/20\n",
            "453/453 [==============================] - 8s 18ms/step - loss: 0.5306 - accuracy: 0.7118 - val_loss: 1.4917 - val_accuracy: 0.5250\n",
            "Epoch 14/20\n",
            "453/453 [==============================] - 8s 18ms/step - loss: 0.4936 - accuracy: 0.7212 - val_loss: 1.6268 - val_accuracy: 0.4402\n",
            "Epoch 15/20\n",
            "453/453 [==============================] - 9s 19ms/step - loss: 0.4492 - accuracy: 0.7394 - val_loss: 1.5966 - val_accuracy: 0.5170\n",
            "Epoch 16/20\n",
            "453/453 [==============================] - 8s 18ms/step - loss: 0.4274 - accuracy: 0.7437 - val_loss: 1.6664 - val_accuracy: 0.5057\n",
            "Epoch 17/20\n",
            "453/453 [==============================] - 8s 18ms/step - loss: 0.4249 - accuracy: 0.7473 - val_loss: 1.7364 - val_accuracy: 0.4778\n",
            "Epoch 18/20\n",
            "453/453 [==============================] - 8s 18ms/step - loss: 0.4341 - accuracy: 0.7506 - val_loss: 1.5854 - val_accuracy: 0.5126\n",
            "Epoch 19/20\n",
            "453/453 [==============================] - 8s 18ms/step - loss: 0.3922 - accuracy: 0.7609 - val_loss: 1.7159 - val_accuracy: 0.5092\n",
            "Epoch 20/20\n",
            "453/453 [==============================] - 8s 18ms/step - loss: 0.3630 - accuracy: 0.7720 - val_loss: 1.7548 - val_accuracy: 0.5479\n"
          ]
        }
      ],
      "source": [
        "hist1_cw = model.fit(X_train, y_train, epochs=20, validation_split=0.2, class_weight=class_weights)"
      ]
    },
    {
      "cell_type": "code",
      "execution_count": null,
      "metadata": {
        "colab": {
          "base_uri": "https://localhost:8080/",
          "height": 545
        },
        "id": "ch8hl9kAQtKN",
        "outputId": "636111d6-e0b9-4fd6-b66b-22e2e4f05ac0"
      },
      "outputs": [
        {
          "data": {
            "image/png": "[encoded data removed]",
            "text/plain": [
              "<Figure size 432x288 with 1 Axes>"
            ]
          },
          "metadata": {
            "needs_background": "light"
          },
          "output_type": "display_data"
        },
        {
          "data": {
            "image/png": "[encoded data removed]",
            "text/plain": [
              "<Figure size 432x288 with 1 Axes>"
            ]
          },
          "metadata": {
            "needs_background": "light"
          },
          "output_type": "display_data"
        }
      ],
      "source": [
        "epoch_count = range(1, len(hist1_cw.history['accuracy']) + 1)\n",
        "sns.lineplot(x=epoch_count,  y=hist1_cw.history['loss'], label='train')\n",
        "sns.lineplot(x=epoch_count,  y=hist1_cw.history['val_loss'], label='valid')\n",
        "plt.title('Loss')\n",
        "plt.show()\n",
        "plt.figure()\n",
        "sns.lineplot(x=epoch_count,  y=hist1_cw.history['accuracy'], label='train')\n",
        "sns.lineplot(x=epoch_count,  y=hist1_cw.history['val_accuracy'], label='valid')\n",
        "plt.title('Accuracy')\n",
        "plt.show()"
      ]
    },
    {
      "cell_type": "code",
      "execution_count": null,
      "metadata": {
        "colab": {
          "base_uri": "https://localhost:8080/"
        },
        "id": "WgLrVk6SQtKN",
        "outputId": "a1b4a493-72b3-4359-cae3-3d26b6595bea"
      },
      "outputs": [
        {
          "name": "stdout",
          "output_type": "stream",
          "text": [
            "142/142 [==============================] - 1s 9ms/step - loss: 1.3686 - accuracy: 0.5273\n"
          ]
        },
        {
          "data": {
            "text/plain": [
              "[1.3685506582260132, 0.5272687077522278]"
            ]
          },
          "execution_count": 98,
          "metadata": {},
          "output_type": "execute_result"
        }
      ],
      "source": [
        "model.evaluate(X_test, y_test)"
      ]
    },
    {
      "cell_type": "markdown",
      "metadata": {
        "id": "UwRtJugNw_XQ"
      },
      "source": [
        "### 3 - Entrenar el modelo con embeddings pre-entrenados Fasttex + LSTM\n"
      ]
    },
    {
      "cell_type": "markdown",
      "metadata": {
        "id": "EdIfId6bxV8t"
      },
      "source": [
        "#### 3.1. Con el dataset balanceado con Random Oversampling"
      ]
    },
    {
      "cell_type": "code",
      "execution_count": 50,
      "metadata": {
        "id": "5hre5_T7x2m3"
      },
      "outputs": [],
      "source": [
        "import logging\n",
        "import os\n",
        "from pathlib import Path\n",
        "from io import StringIO\n",
        "import pickle\n",
        "\n",
        "class WordsEmbeddings(object):\n",
        "    logger = logging.getLogger(__name__)\n",
        "\n",
        "    def __init__(self):\n",
        "        # load the embeddings\n",
        "        words_embedding_pkl = Path(self.PKL_PATH)\n",
        "        if not words_embedding_pkl.is_file():\n",
        "            words_embedding_txt = Path(self.WORD_TO_VEC_MODEL_TXT_PATH)\n",
        "            assert words_embedding_txt.is_file(), 'Words embedding not available'\n",
        "            embeddings = self.convert_model_to_pickle()\n",
        "        else:\n",
        "            embeddings = self.load_model_from_pickle()\n",
        "        self.embeddings = embeddings\n",
        "        # build the vocabulary hashmap\n",
        "        index = np.arange(self.embeddings.shape[0])\n",
        "        # Dicctionarios para traducir de embedding a IDX de la palabra\n",
        "        self.word2idx = dict(zip(self.embeddings['word'], index))\n",
        "        self.idx2word = dict(zip(index, self.embeddings['word']))\n",
        "\n",
        "    def get_words_embeddings(self, words):\n",
        "        words_idxs = self.words2idxs(words)\n",
        "        return self.embeddings[words_idxs]['embedding']\n",
        "\n",
        "    def words2idxs(self, words):\n",
        "        return np.array([self.word2idx.get(word, -1) for word in words])\n",
        "\n",
        "    def idxs2words(self, idxs):\n",
        "        return np.array([self.idx2word.get(idx, '-1') for idx in idxs])\n",
        "\n",
        "    def load_model_from_pickle(self):\n",
        "        self.logger.debug(\n",
        "            'loading words embeddings from pickle {}'.format(\n",
        "                self.PKL_PATH\n",
        "            )\n",
        "        )\n",
        "        max_bytes = 2**28 - 1 # 256MB\n",
        "        bytes_in = bytearray(0)\n",
        "        input_size = os.path.getsize(self.PKL_PATH)\n",
        "        with open(self.PKL_PATH, 'rb') as f_in:\n",
        "            for _ in range(0, input_size, max_bytes):\n",
        "                bytes_in += f_in.read(max_bytes)\n",
        "        embeddings = pickle.loads(bytes_in)\n",
        "        self.logger.debug('words embeddings loaded')\n",
        "        return embeddings\n",
        "\n",
        "    def convert_model_to_pickle(self):\n",
        "        # create a numpy strctured array:\n",
        "        # word     embedding\n",
        "        # U50      np.float32[]\n",
        "        # word_1   a, b, c\n",
        "        # word_2   d, e, f\n",
        "        # ...\n",
        "        # word_n   g, h, i\n",
        "        self.logger.debug(\n",
        "            'converting and loading words embeddings from text file {}'.format(\n",
        "                self.WORD_TO_VEC_MODEL_TXT_PATH\n",
        "            )\n",
        "        )\n",
        "        structure = [('word', np.dtype('U' + str(self.WORD_MAX_SIZE))),\n",
        "                     ('embedding', np.float32, (self.N_FEATURES,))]\n",
        "        structure = np.dtype(structure)\n",
        "        # load numpy array from disk using a generator\n",
        "        with open(self.WORD_TO_VEC_MODEL_TXT_PATH, encoding=\"utf8\") as words_embeddings_txt:\n",
        "            embeddings_gen = (\n",
        "                (line.split()[0], line.split()[1:]) for line in words_embeddings_txt\n",
        "                if len(line.split()[1:]) == self.N_FEATURES\n",
        "            )\n",
        "            embeddings = np.fromiter(embeddings_gen, structure)\n",
        "        # add a null embedding\n",
        "        null_embedding = np.array(\n",
        "            [('null_embedding', np.zeros((self.N_FEATURES,), dtype=np.float32))],\n",
        "            dtype=structure\n",
        "        )\n",
        "        embeddings = np.concatenate([embeddings, null_embedding])\n",
        "        # dump numpy array to disk using pickle\n",
        "        max_bytes = 2**28 - 1 # # 256MB\n",
        "        bytes_out = pickle.dumps(embeddings, protocol=pickle.HIGHEST_PROTOCOL)\n",
        "        with open(self.PKL_PATH, 'wb') as f_out:\n",
        "            for idx in range(0, len(bytes_out), max_bytes):\n",
        "                f_out.write(bytes_out[idx:idx+max_bytes])\n",
        "        self.logger.debug('words embeddings loaded')\n",
        "        return embeddings\n",
        "\n",
        "\n",
        "class GloveEmbeddings(WordsEmbeddings):\n",
        "    WORD_TO_VEC_MODEL_TXT_PATH = 'glove.twitter.27B.50d.txt'\n",
        "    PKL_PATH = 'gloveembedding.pkl'\n",
        "    N_FEATURES = 50\n",
        "    WORD_MAX_SIZE = 60\n",
        "\n",
        "\n",
        "class FasttextEmbeddings(WordsEmbeddings):\n",
        "    WORD_TO_VEC_MODEL_TXT_PATH = 'cc.en.300.vec'\n",
        "    PKL_PATH = 'fasttext.pkl'\n",
        "    N_FEATURES = 300\n",
        "    WORD_MAX_SIZE = 60"
      ]
    },
    {
      "cell_type": "code",
      "execution_count": 51,
      "metadata": {
        "id": "00sxXVMtyMmI"
      },
      "outputs": [],
      "source": [
        "model_fasttext = FasttextEmbeddings()"
      ]
    },
    {
      "cell_type": "code",
      "execution_count": 52,
      "metadata": {
        "colab": {
          "base_uri": "https://localhost:8080/"
        },
        "id": "HI4jHvj8yNPa",
        "outputId": "c07bd033-88ac-4b38-e85b-bfeea0abbd30"
      },
      "outputs": [
        {
          "name": "stdout",
          "output_type": "stream",
          "text": [
            "preparing embedding matrix...\n",
            "number of null word embeddings: 2\n"
          ]
        }
      ],
      "source": [
        "# Crear la Embedding matrix para la cantidad nb_words seleccionadas\n",
        "# nos vamos a quedar sólo con los vectores de embeddings para las palabras\n",
        "# que definimos como vocabulario\n",
        "\n",
        "print('preparing embedding matrix...')\n",
        "embed_dim = 300 # fasttext\n",
        "words_not_found = []\n",
        "\n",
        "# word_index proviene del tokenizer\n",
        "\n",
        "nb_words = min(num_words, len(word_index)) # vocab_size\n",
        "embedding_matrix = np.zeros((nb_words, embed_dim))\n",
        "\n",
        "# word_index está ordenado de mayor a menor frecuencia de palabras\n",
        "# las primeras que entren en el ciclo for serán las más frecuentes\n",
        "# Atención! El tokenizador de Keras no tiene soporte para stop words\n",
        "# las primeras palabras probablemente sean stopwords, para eliminarlas\n",
        "# hay que procesar el word_index o bien elegir otra librería para preprocesamiento\n",
        "# ¡ver clase 2! ;)\n",
        "for word, i in word_index.items():\n",
        "    if i >= nb_words:\n",
        "        continue\n",
        "    embedding_vector = model_fasttext.get_words_embeddings(word)[0]\n",
        "    if (embedding_vector is not None) and len(embedding_vector) > 0:\n",
        "        embedding_matrix[i] = embedding_vector\n",
        "    else:\n",
        "        # words que no estén en el índice de la matriz de embedding tendrán\n",
        "        # como vector de embedding correspondiente todos ceros\n",
        "        words_not_found.append(word)\n",
        "        print(word)\n",
        "\n",
        "print('number of null word embeddings:', np.sum(np.sum(embedding_matrix**2, axis=1) == 0))"
      ]
    },
    {
      "cell_type": "code",
      "execution_count": 53,
      "metadata": {
        "id": "fpoLmi1gb836"
      },
      "outputs": [],
      "source": [
        "from keras.layers import LSTM\n",
        "from keras.layers import Embedding\n",
        "from keras.layers import Dropout\n",
        "from keras.layers import Bidirectional\n"
      ]
    },
    {
      "cell_type": "code",
      "execution_count": 54,
      "metadata": {
        "colab": {
          "base_uri": "https://localhost:8080/"
        },
        "id": "FuDkyx9hyR07",
        "outputId": "26f1aee5-1e61-4b14-e79f-cb002f452712"
      },
      "outputs": [
        {
          "name": "stdout",
          "output_type": "stream",
          "text": [
            "Model: \"sequential_3\"\n",
            "_________________________________________________________________\n",
            " Layer (type)                Output Shape              Param #   \n",
            "=================================================================\n",
            " embedding_3 (Embedding)     (None, 63, 300)           600000    \n",
            "                                                                 \n",
            " bidirectional_6 (Bidirectio  (None, 63, 128)          186880    \n",
            " nal)                                                            \n",
            "                                                                 \n",
            " dropout_6 (Dropout)         (None, 63, 128)           0         \n",
            "                                                                 \n",
            " bidirectional_7 (Bidirectio  (None, 128)              98816     \n",
            " nal)                                                            \n",
            "                                                                 \n",
            " dense_6 (Dense)             (None, 128)               16512     \n",
            "                                                                 \n",
            " dropout_7 (Dropout)         (None, 128)               0         \n",
            "                                                                 \n",
            " dense_7 (Dense)             (None, 5)                 645       \n",
            "                                                                 \n",
            "=================================================================\n",
            "Total params: 902,853\n",
            "Trainable params: 302,853\n",
            "Non-trainable params: 600,000\n",
            "_________________________________________________________________\n"
          ]
        }
      ],
      "source": [
        "# Definimos el modelo\n",
        "\n",
        "model2 = Sequential()\n",
        "# input_dim = vocab_size (max n_words)\n",
        "# input_length = setencias con padding a 200\n",
        "# output_dim = embed_dim (depende que embeddings pre entrenados utilizamos)\n",
        "model2.add(Embedding(input_dim=vocab_size, # definido en el Tokenizador\n",
        "                     output_dim=embed_dim, # dimensión de los embeddings utilizados\n",
        "                     input_length=in_shape, # máxima sentencia de entrada\n",
        "                     weights=[embedding_matrix], # matrix de embeddings\n",
        "                    trainable=False)) # marcar como layer no entrenable\n",
        "\n",
        "model2.add(Bidirectional(LSTM(units=64, return_sequences=True)))\n",
        "model2.add(Dropout(0.2))\n",
        "model2.add(Bidirectional(LSTM(units=64))) # La última capa LSTM no lleva return_sequences\n",
        "\n",
        "model2.add(Dense(units=128, activation='relu'))\n",
        "model2.add(Dropout(rate=0.2))\n",
        "model2.add(Dense(units=out_shape, activation='softmax'))\n",
        "\n",
        "model2.compile(optimizer=\"adam\",\n",
        "              loss='categorical_crossentropy',\n",
        "              metrics=['accuracy'])\n",
        "\n",
        "model2.summary()"
      ]
    },
    {
      "cell_type": "code",
      "execution_count": 55,
      "metadata": {
        "id": "uwSPMsGazUzI"
      },
      "outputs": [
        {
          "name": "stdout",
          "output_type": "stream",
          "text": [
            "Epoch 1/35\n"
          ]
        },
        {
          "name": "stderr",
          "output_type": "stream",
          "text": [
            "2022-11-30 15:23:04.546594: I tensorflow/core/grappler/optimizers/custom_graph_optimizer_registry.cc:114] Plugin optimizer for device_type GPU is enabled.\n",
            "2022-11-30 15:23:05.107391: I tensorflow/core/grappler/optimizers/custom_graph_optimizer_registry.cc:114] Plugin optimizer for device_type GPU is enabled.\n",
            "2022-11-30 15:23:05.137350: I tensorflow/core/grappler/optimizers/custom_graph_optimizer_registry.cc:114] Plugin optimizer for device_type GPU is enabled.\n",
            "2022-11-30 15:23:05.442228: I tensorflow/core/grappler/optimizers/custom_graph_optimizer_registry.cc:114] Plugin optimizer for device_type GPU is enabled.\n",
            "2022-11-30 15:23:05.461247: I tensorflow/core/grappler/optimizers/custom_graph_optimizer_registry.cc:114] Plugin optimizer for device_type GPU is enabled.\n",
            "2022-11-30 15:23:05.795240: I tensorflow/core/grappler/optimizers/custom_graph_optimizer_registry.cc:114] Plugin optimizer for device_type GPU is enabled.\n",
            "2022-11-30 15:23:05.827946: I tensorflow/core/grappler/optimizers/custom_graph_optimizer_registry.cc:114] Plugin optimizer for device_type GPU is enabled.\n",
            "2022-11-30 15:23:06.334264: I tensorflow/core/grappler/optimizers/custom_graph_optimizer_registry.cc:114] Plugin optimizer for device_type GPU is enabled.\n",
            "2022-11-30 15:23:06.363747: I tensorflow/core/grappler/optimizers/custom_graph_optimizer_registry.cc:114] Plugin optimizer for device_type GPU is enabled.\n"
          ]
        },
        {
          "name": "stdout",
          "output_type": "stream",
          "text": [
            "1250/1250 [==============================] - ETA: 0s - loss: 1.4835 - accuracy: 0.3455"
          ]
        },
        {
          "name": "stderr",
          "output_type": "stream",
          "text": [
            "2022-11-30 15:24:35.104243: I tensorflow/core/grappler/optimizers/custom_graph_optimizer_registry.cc:114] Plugin optimizer for device_type GPU is enabled.\n",
            "2022-11-30 15:24:35.304568: I tensorflow/core/grappler/optimizers/custom_graph_optimizer_registry.cc:114] Plugin optimizer for device_type GPU is enabled.\n",
            "2022-11-30 15:24:35.317723: I tensorflow/core/grappler/optimizers/custom_graph_optimizer_registry.cc:114] Plugin optimizer for device_type GPU is enabled.\n",
            "2022-11-30 15:24:35.504554: I tensorflow/core/grappler/optimizers/custom_graph_optimizer_registry.cc:114] Plugin optimizer for device_type GPU is enabled.\n",
            "2022-11-30 15:24:35.519138: I tensorflow/core/grappler/optimizers/custom_graph_optimizer_registry.cc:114] Plugin optimizer for device_type GPU is enabled.\n"
          ]
        },
        {
          "name": "stdout",
          "output_type": "stream",
          "text": [
            "1250/1250 [==============================] - 108s 81ms/step - loss: 1.4835 - accuracy: 0.3455 - val_loss: 1.9398 - val_accuracy: 0.0038\n",
            "Epoch 2/35\n",
            "1250/1250 [==============================] - 98s 78ms/step - loss: 1.2893 - accuracy: 0.4779 - val_loss: 1.8931 - val_accuracy: 0.0142\n",
            "Epoch 3/35\n",
            "1250/1250 [==============================] - 94s 76ms/step - loss: 0.9112 - accuracy: 0.6474 - val_loss: 1.6050 - val_accuracy: 0.1051\n",
            "Epoch 4/35\n",
            "1250/1250 [==============================] - 95s 76ms/step - loss: 0.7032 - accuracy: 0.7244 - val_loss: 1.5519 - val_accuracy: 0.1670\n",
            "Epoch 5/35\n",
            "1250/1250 [==============================] - 97s 77ms/step - loss: 0.5904 - accuracy: 0.7666 - val_loss: 1.3570 - val_accuracy: 0.2690\n",
            "Epoch 6/35\n",
            "1250/1250 [==============================] - 94s 75ms/step - loss: 0.5314 - accuracy: 0.7845 - val_loss: 1.3288 - val_accuracy: 0.2561\n",
            "Epoch 7/35\n",
            "1250/1250 [==============================] - 94s 75ms/step - loss: 0.4867 - accuracy: 0.8029 - val_loss: 1.3212 - val_accuracy: 0.2649\n",
            "Epoch 8/35\n",
            "1250/1250 [==============================] - 94s 76ms/step - loss: 0.4507 - accuracy: 0.8196 - val_loss: 1.1921 - val_accuracy: 0.3199\n",
            "Epoch 9/35\n",
            "1250/1250 [==============================] - 95s 76ms/step - loss: 0.4307 - accuracy: 0.8269 - val_loss: 1.1094 - val_accuracy: 0.3487\n",
            "Epoch 10/35\n",
            "1250/1250 [==============================] - 94s 75ms/step - loss: 0.4007 - accuracy: 0.8379 - val_loss: 0.9930 - val_accuracy: 0.3999\n",
            "Epoch 11/35\n",
            "1250/1250 [==============================] - 95s 76ms/step - loss: 0.3751 - accuracy: 0.8474 - val_loss: 0.9774 - val_accuracy: 0.4264\n",
            "Epoch 12/35\n",
            "1250/1250 [==============================] - 95s 76ms/step - loss: 0.3601 - accuracy: 0.8544 - val_loss: 0.9995 - val_accuracy: 0.3985\n",
            "Epoch 13/35\n",
            "1250/1250 [==============================] - 95s 76ms/step - loss: 0.3474 - accuracy: 0.8575 - val_loss: 0.9498 - val_accuracy: 0.4354\n",
            "Epoch 14/35\n",
            "1250/1250 [==============================] - 95s 76ms/step - loss: 0.3221 - accuracy: 0.8669 - val_loss: 0.8893 - val_accuracy: 0.4408\n",
            "Epoch 15/35\n",
            "1250/1250 [==============================] - 92s 74ms/step - loss: 0.3146 - accuracy: 0.8712 - val_loss: 0.8428 - val_accuracy: 0.4895\n",
            "Epoch 16/35\n",
            "1250/1250 [==============================] - 96s 77ms/step - loss: 0.3077 - accuracy: 0.8712 - val_loss: 0.8665 - val_accuracy: 0.4521\n",
            "Epoch 17/35\n",
            "1250/1250 [==============================] - 97s 78ms/step - loss: 0.2956 - accuracy: 0.8774 - val_loss: 0.7930 - val_accuracy: 0.5046\n",
            "Epoch 18/35\n",
            "1250/1250 [==============================] - 93s 75ms/step - loss: 0.2864 - accuracy: 0.8798 - val_loss: 0.8442 - val_accuracy: 0.4765\n",
            "Epoch 19/35\n",
            "1250/1250 [==============================] - 94s 75ms/step - loss: 0.2814 - accuracy: 0.8808 - val_loss: 0.6785 - val_accuracy: 0.5754\n",
            "Epoch 20/35\n",
            "1250/1250 [==============================] - 95s 76ms/step - loss: 0.2654 - accuracy: 0.8901 - val_loss: 0.6895 - val_accuracy: 0.5782\n",
            "Epoch 21/35\n",
            "1250/1250 [==============================] - 96s 77ms/step - loss: 0.2653 - accuracy: 0.8892 - val_loss: 0.6292 - val_accuracy: 0.6250\n",
            "Epoch 22/35\n",
            "1250/1250 [==============================] - 93s 74ms/step - loss: 0.2569 - accuracy: 0.8928 - val_loss: 0.6316 - val_accuracy: 0.6035\n",
            "Epoch 23/35\n",
            "1250/1250 [==============================] - 191s 153ms/step - loss: 0.2501 - accuracy: 0.8962 - val_loss: 0.6545 - val_accuracy: 0.6170\n",
            "Epoch 24/35\n",
            "1250/1250 [==============================] - 96s 77ms/step - loss: 0.2391 - accuracy: 0.8996 - val_loss: 0.6636 - val_accuracy: 0.6118\n",
            "Epoch 25/35\n",
            "1250/1250 [==============================] - 95s 76ms/step - loss: 0.2441 - accuracy: 0.8985 - val_loss: 0.5634 - val_accuracy: 0.6758\n",
            "Epoch 26/35\n",
            "1250/1250 [==============================] - 95s 76ms/step - loss: 0.2336 - accuracy: 0.9046 - val_loss: 0.5402 - val_accuracy: 0.7097\n",
            "Epoch 27/35\n",
            "1250/1250 [==============================] - 94s 75ms/step - loss: 0.2254 - accuracy: 0.9082 - val_loss: 0.5166 - val_accuracy: 0.7114\n",
            "Epoch 28/35\n",
            "1250/1250 [==============================] - 96s 77ms/step - loss: 0.2162 - accuracy: 0.9101 - val_loss: 0.6295 - val_accuracy: 0.6450\n",
            "Epoch 29/35\n",
            "1250/1250 [==============================] - 96s 77ms/step - loss: 0.2235 - accuracy: 0.9085 - val_loss: 0.4853 - val_accuracy: 0.7387\n",
            "Epoch 30/35\n",
            "1250/1250 [==============================] - 94s 75ms/step - loss: 0.2068 - accuracy: 0.9144 - val_loss: 0.4237 - val_accuracy: 0.7821\n",
            "Epoch 31/35\n",
            "1250/1250 [==============================] - 92s 74ms/step - loss: 0.2070 - accuracy: 0.9150 - val_loss: 0.3558 - val_accuracy: 0.8301\n",
            "Epoch 32/35\n",
            "1250/1250 [==============================] - 92s 74ms/step - loss: 0.1981 - accuracy: 0.9203 - val_loss: 0.5313 - val_accuracy: 0.7306\n",
            "Epoch 33/35\n",
            "1250/1250 [==============================] - 93s 74ms/step - loss: 0.1989 - accuracy: 0.9210 - val_loss: 0.4932 - val_accuracy: 0.7491\n",
            "Epoch 34/35\n",
            "1250/1250 [==============================] - 94s 75ms/step - loss: 0.1822 - accuracy: 0.9259 - val_loss: 0.4270 - val_accuracy: 0.7862\n",
            "Epoch 35/35\n",
            "1250/1250 [==============================] - 93s 74ms/step - loss: 0.1867 - accuracy: 0.9261 - val_loss: 0.4144 - val_accuracy: 0.8012\n"
          ]
        }
      ],
      "source": [
        "hist2_ros = model2.fit(X_ros_train, y_ros_train, epochs=35, validation_split=0.2)"
      ]
    },
    {
      "cell_type": "code",
      "execution_count": 56,
      "metadata": {
        "id": "y9phnkM-z-pM"
      },
      "outputs": [
        {
          "data": {
            "image/png": "[encoded data removed]",
            "text/plain": [
              "<Figure size 640x480 with 1 Axes>"
            ]
          },
          "metadata": {},
          "output_type": "display_data"
        },
        {
          "data": {
            "image/png": "[encoded data removed]",
            "text/plain": [
              "<Figure size 640x480 with 1 Axes>"
            ]
          },
          "metadata": {},
          "output_type": "display_data"
        }
      ],
      "source": [
        "epoch_count = range(1, len(hist2_ros.history['accuracy']) + 1)\n",
        "sns.lineplot(x=epoch_count,  y=hist2_ros.history['loss'], label='train')\n",
        "sns.lineplot(x=epoch_count,  y=hist2_ros.history['val_loss'], label='valid')\n",
        "plt.title('Loss')\n",
        "plt.show()\n",
        "plt.figure()\n",
        "sns.lineplot(x=epoch_count,  y=hist2_ros.history['accuracy'], label='train')\n",
        "sns.lineplot(x=epoch_count,  y=hist2_ros.history['val_accuracy'], label='valid')\n",
        "plt.title('Accuracy')\n",
        "plt.show()"
      ]
    },
    {
      "cell_type": "code",
      "execution_count": 57,
      "metadata": {
        "id": "BftIcwD4zp9y"
      },
      "outputs": [
        {
          "name": "stderr",
          "output_type": "stream",
          "text": [
            "2022-11-30 16:22:30.065516: I tensorflow/core/grappler/optimizers/custom_graph_optimizer_registry.cc:114] Plugin optimizer for device_type GPU is enabled.\n",
            "2022-11-30 16:22:30.379875: I tensorflow/core/grappler/optimizers/custom_graph_optimizer_registry.cc:114] Plugin optimizer for device_type GPU is enabled.\n",
            "2022-11-30 16:22:30.405961: I tensorflow/core/grappler/optimizers/custom_graph_optimizer_registry.cc:114] Plugin optimizer for device_type GPU is enabled.\n",
            "2022-11-30 16:22:30.626118: I tensorflow/core/grappler/optimizers/custom_graph_optimizer_registry.cc:114] Plugin optimizer for device_type GPU is enabled.\n",
            "2022-11-30 16:22:30.640885: I tensorflow/core/grappler/optimizers/custom_graph_optimizer_registry.cc:114] Plugin optimizer for device_type GPU is enabled.\n"
          ]
        },
        {
          "name": "stdout",
          "output_type": "stream",
          "text": [
            "142/142 [==============================] - 8s 47ms/step - loss: 3.2066 - accuracy: 0.4919\n"
          ]
        },
        {
          "data": {
            "text/plain": [
              "[3.20660662651062, 0.49194082617759705]"
            ]
          },
          "execution_count": 57,
          "metadata": {},
          "output_type": "execute_result"
        }
      ],
      "source": [
        "model2.evaluate(X_test, y_test)"
      ]
    },
    {
      "cell_type": "markdown",
      "metadata": {
        "id": "Vidpprh0qO3k"
      },
      "source": [
        "### Conclusiones\n",
        "\n",
        "#### En este caso se probó con la misma arquitectura con redes LSTM bidireccionales, pero se removieron las Stop Words. Se probó con Random Oversampling uúnicamente, que fue la técnica que mejor funcionó en la primera Notebook con stop words incluídas. \n",
        "\n",
        "#### Resumen de resultados:\n",
        "\n",
        "\n",
        "| Prueba Nro  | Descripción | Loss       | Accuracy    | Observaciones |\n",
        "| :-----------: | :----------- |:-----------:|:-----------:|:-----------:|\n",
        "| 2.1.        | Con mis propios embeddings y dataset balanceado con random udersampling        | 3.4796 |0.5493| 35 epochs\n",
        "| 2.2.        | Con mis propios embeddings y entrenamiento con class_weights | 1.3686 | 0.5273| 20 epochs - se observa overfitting\n",
        "| 3.1.        | Con embeddings Fasttext (Fasttext) y dataset balanceado con random udersampling        | 3.2066 | 0.4919 | 35 epochs - n\n"
      ]
    }
  ],
  "metadata": {
    "accelerator": "GPU",
    "colab": {
      "provenance": []
    },
    "gpuClass": "standard",
    "kernelspec": {
      "display_name": "Python 3.8.13 ('nlp-env')",
      "language": "python",
      "name": "python3"
    },
    "language_info": {
      "codemirror_mode": {
        "name": "ipython",
        "version": 3
      },
      "file_extension": ".py",
      "mimetype": "text/x-python",
      "name": "python",
      "nbconvert_exporter": "python",
      "pygments_lexer": "ipython3",
      "version": "3.8.13"
    },
    "vscode": {
      "interpreter": {
        "hash": "f625070329423d9f5ed8976ed2baff1f36e4e03dca0005f9e0267c760f96dcf5"
      }
    }
  },
  "nbformat": 4,
  "nbformat_minor": 0
}
