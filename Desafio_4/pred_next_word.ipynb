{
  "cells": [
    {
      "cell_type": "markdown",
      "metadata": {
        "id": "g3yeJGnCYxuF"
      },
      "source": [
        "<img src=\"https://github.com/hernancontigiani/ceia_memorias_especializacion/raw/master/Figures/logoFIUBA.jpg\" width=\"500\" align=\"center\">\n",
        "\n",
        "\n",
        "# Procesamiento de lenguaje natural\n",
        "## Predicción de próxima palabra"
      ]
    },
    {
      "cell_type": "markdown",
      "metadata": {
        "id": "Iv5PEwGzZA9-"
      },
      "source": [
        "### Objetivo\n",
        "El objetivo es utilizar documentos / corpus para crear embeddings de palabras basado en ese contexto utilizando la layer Embedding de Keras. Se utilizará esos embeddings junto con layers LSTM para predeccir la próxima posible palabra."
      ]
    },
    {
      "cell_type": "code",
      "execution_count": 99,
      "metadata": {
        "id": "Y-QdFbHZYj7C"
      },
      "outputs": [],
      "source": [
        "import random\n",
        "import io\n",
        "import pickle\n",
        "\n",
        "import numpy as np\n",
        "import pandas as pd\n",
        "\n",
        "from tensorflow import keras\n",
        "from tensorflow.keras import layers\n",
        "from keras.utils.np_utils import to_categorical\n",
        "from keras.models import Sequential\n",
        "from keras.layers import Dense, LSTM, Embedding, Dropout"
      ]
    },
    {
      "cell_type": "code",
      "execution_count": 100,
      "metadata": {
        "colab": {
          "base_uri": "https://localhost:8080/"
        },
        "id": "bOqsSUxyCXl_",
        "outputId": "a19514e1-de72-407c-b738-42d289d67055"
      },
      "outputs": [
        {
          "output_type": "stream",
          "name": "stdout",
          "text": [
            "Drive already mounted at /content/drive; to attempt to forcibly remount, call drive.mount(\"/content/drive\", force_remount=True).\n"
          ]
        }
      ],
      "source": [
        "from google.colab import drive\n",
        "drive.mount('/content/drive')"
      ]
    },
    {
      "cell_type": "markdown",
      "metadata": {
        "id": "xTvXlEKQZdqx"
      },
      "source": [
        "### Datos\n",
        "Voy a utilizar un dataset con canciones de Coldplay."
      ]
    },
    {
      "cell_type": "code",
      "execution_count": 101,
      "metadata": {
        "colab": {
          "base_uri": "https://localhost:8080/",
          "height": 206
        },
        "id": "Gb39v3PaZmRH",
        "outputId": "a3285768-6dd6-4d88-a83c-622306a04c52"
      },
      "outputs": [
        {
          "output_type": "execute_result",
          "data": {
            "text/plain": [
              "                                                   0\n",
              "0  come up to meet you tell you i'm sorry you don...\n",
              "1   i used to rule the world seas would rise when...\n",
              "2   when you try your best but you don't succeed ...\n",
              "3   look at the stars look how they shine for you...\n",
              "4  and said drink from me drink from me ohahohah ..."
            ],
            "text/html": [
              "\n",
              "  <div id=\"df-f1a00fb1-2dd7-4333-a044-eeae05097e77\">\n",
              "    <div class=\"colab-df-container\">\n",
              "      <div>\n",
              "<style scoped>\n",
              "    .dataframe tbody tr th:only-of-type {\n",
              "        vertical-align: middle;\n",
              "    }\n",
              "\n",
              "    .dataframe tbody tr th {\n",
              "        vertical-align: top;\n",
              "    }\n",
              "\n",
              "    .dataframe thead th {\n",
              "        text-align: right;\n",
              "    }\n",
              "</style>\n",
              "<table border=\"1\" class=\"dataframe\">\n",
              "  <thead>\n",
              "    <tr style=\"text-align: right;\">\n",
              "      <th></th>\n",
              "      <th>0</th>\n",
              "    </tr>\n",
              "  </thead>\n",
              "  <tbody>\n",
              "    <tr>\n",
              "      <th>0</th>\n",
              "      <td>come up to meet you tell you i'm sorry you don...</td>\n",
              "    </tr>\n",
              "    <tr>\n",
              "      <th>1</th>\n",
              "      <td>i used to rule the world seas would rise when...</td>\n",
              "    </tr>\n",
              "    <tr>\n",
              "      <th>2</th>\n",
              "      <td>when you try your best but you don't succeed ...</td>\n",
              "    </tr>\n",
              "    <tr>\n",
              "      <th>3</th>\n",
              "      <td>look at the stars look how they shine for you...</td>\n",
              "    </tr>\n",
              "    <tr>\n",
              "      <th>4</th>\n",
              "      <td>and said drink from me drink from me ohahohah ...</td>\n",
              "    </tr>\n",
              "  </tbody>\n",
              "</table>\n",
              "</div>\n",
              "      <button class=\"colab-df-convert\" onclick=\"convertToInteractive('df-f1a00fb1-2dd7-4333-a044-eeae05097e77')\"\n",
              "              title=\"Convert this dataframe to an interactive table.\"\n",
              "              style=\"display:none;\">\n",
              "        \n",
              "  <svg xmlns=\"http://www.w3.org/2000/svg\" height=\"24px\"viewBox=\"0 0 24 24\"\n",
              "       width=\"24px\">\n",
              "    <path d=\"M0 0h24v24H0V0z\" fill=\"none\"/>\n",
              "    <path d=\"M18.56 5.44l.94 2.06.94-2.06 2.06-.94-2.06-.94-.94-2.06-.94 2.06-2.06.94zm-11 1L8.5 8.5l.94-2.06 2.06-.94-2.06-.94L8.5 2.5l-.94 2.06-2.06.94zm10 10l.94 2.06.94-2.06 2.06-.94-2.06-.94-.94-2.06-.94 2.06-2.06.94z\"/><path d=\"M17.41 7.96l-1.37-1.37c-.4-.4-.92-.59-1.43-.59-.52 0-1.04.2-1.43.59L10.3 9.45l-7.72 7.72c-.78.78-.78 2.05 0 2.83L4 21.41c.39.39.9.59 1.41.59.51 0 1.02-.2 1.41-.59l7.78-7.78 2.81-2.81c.8-.78.8-2.07 0-2.86zM5.41 20L4 18.59l7.72-7.72 1.47 1.35L5.41 20z\"/>\n",
              "  </svg>\n",
              "      </button>\n",
              "      \n",
              "  <style>\n",
              "    .colab-df-container {\n",
              "      display:flex;\n",
              "      flex-wrap:wrap;\n",
              "      gap: 12px;\n",
              "    }\n",
              "\n",
              "    .colab-df-convert {\n",
              "      background-color: #E8F0FE;\n",
              "      border: none;\n",
              "      border-radius: 50%;\n",
              "      cursor: pointer;\n",
              "      display: none;\n",
              "      fill: #1967D2;\n",
              "      height: 32px;\n",
              "      padding: 0 0 0 0;\n",
              "      width: 32px;\n",
              "    }\n",
              "\n",
              "    .colab-df-convert:hover {\n",
              "      background-color: #E2EBFA;\n",
              "      box-shadow: 0px 1px 2px rgba(60, 64, 67, 0.3), 0px 1px 3px 1px rgba(60, 64, 67, 0.15);\n",
              "      fill: #174EA6;\n",
              "    }\n",
              "\n",
              "    [theme=dark] .colab-df-convert {\n",
              "      background-color: #3B4455;\n",
              "      fill: #D2E3FC;\n",
              "    }\n",
              "\n",
              "    [theme=dark] .colab-df-convert:hover {\n",
              "      background-color: #434B5C;\n",
              "      box-shadow: 0px 1px 3px 1px rgba(0, 0, 0, 0.15);\n",
              "      filter: drop-shadow(0px 1px 2px rgba(0, 0, 0, 0.3));\n",
              "      fill: #FFFFFF;\n",
              "    }\n",
              "  </style>\n",
              "\n",
              "      <script>\n",
              "        const buttonEl =\n",
              "          document.querySelector('#df-f1a00fb1-2dd7-4333-a044-eeae05097e77 button.colab-df-convert');\n",
              "        buttonEl.style.display =\n",
              "          google.colab.kernel.accessAllowed ? 'block' : 'none';\n",
              "\n",
              "        async function convertToInteractive(key) {\n",
              "          const element = document.querySelector('#df-f1a00fb1-2dd7-4333-a044-eeae05097e77');\n",
              "          const dataTable =\n",
              "            await google.colab.kernel.invokeFunction('convertToInteractive',\n",
              "                                                     [key], {});\n",
              "          if (!dataTable) return;\n",
              "\n",
              "          const docLinkHtml = 'Like what you see? Visit the ' +\n",
              "            '<a target=\"_blank\" href=https://colab.research.google.com/notebooks/data_table.ipynb>data table notebook</a>'\n",
              "            + ' to learn more about interactive tables.';\n",
              "          element.innerHTML = '';\n",
              "          dataTable['output_type'] = 'display_data';\n",
              "          await google.colab.output.renderOutput(dataTable, element);\n",
              "          const docLink = document.createElement('div');\n",
              "          docLink.innerHTML = docLinkHtml;\n",
              "          element.appendChild(docLink);\n",
              "        }\n",
              "      </script>\n",
              "    </div>\n",
              "  </div>\n",
              "  "
            ]
          },
          "metadata": {},
          "execution_count": 101
        }
      ],
      "source": [
        "# Armar el dataset utilizando salto de línea para separar las oraciones/docs\n",
        "df = pd.read_csv('/content/drive/MyDrive/Colab Notebooks/Datasets/ColdPlay.csv', sep='\\n', header=None)\n",
        "df.head()"
      ]
    },
    {
      "cell_type": "code",
      "source": [
        "df.head()"
      ],
      "metadata": {
        "colab": {
          "base_uri": "https://localhost:8080/",
          "height": 206
        },
        "id": "Qx6Ehr_f0xO0",
        "outputId": "768a69b8-8fb0-44e1-cf0c-fd6dfd1efe36"
      },
      "execution_count": 102,
      "outputs": [
        {
          "output_type": "execute_result",
          "data": {
            "text/plain": [
              "                                                   0\n",
              "0  come up to meet you tell you i'm sorry you don...\n",
              "1   i used to rule the world seas would rise when...\n",
              "2   when you try your best but you don't succeed ...\n",
              "3   look at the stars look how they shine for you...\n",
              "4  and said drink from me drink from me ohahohah ..."
            ],
            "text/html": [
              "\n",
              "  <div id=\"df-75d55f6f-d6d1-48c3-8b3e-2122d33120f6\">\n",
              "    <div class=\"colab-df-container\">\n",
              "      <div>\n",
              "<style scoped>\n",
              "    .dataframe tbody tr th:only-of-type {\n",
              "        vertical-align: middle;\n",
              "    }\n",
              "\n",
              "    .dataframe tbody tr th {\n",
              "        vertical-align: top;\n",
              "    }\n",
              "\n",
              "    .dataframe thead th {\n",
              "        text-align: right;\n",
              "    }\n",
              "</style>\n",
              "<table border=\"1\" class=\"dataframe\">\n",
              "  <thead>\n",
              "    <tr style=\"text-align: right;\">\n",
              "      <th></th>\n",
              "      <th>0</th>\n",
              "    </tr>\n",
              "  </thead>\n",
              "  <tbody>\n",
              "    <tr>\n",
              "      <th>0</th>\n",
              "      <td>come up to meet you tell you i'm sorry you don...</td>\n",
              "    </tr>\n",
              "    <tr>\n",
              "      <th>1</th>\n",
              "      <td>i used to rule the world seas would rise when...</td>\n",
              "    </tr>\n",
              "    <tr>\n",
              "      <th>2</th>\n",
              "      <td>when you try your best but you don't succeed ...</td>\n",
              "    </tr>\n",
              "    <tr>\n",
              "      <th>3</th>\n",
              "      <td>look at the stars look how they shine for you...</td>\n",
              "    </tr>\n",
              "    <tr>\n",
              "      <th>4</th>\n",
              "      <td>and said drink from me drink from me ohahohah ...</td>\n",
              "    </tr>\n",
              "  </tbody>\n",
              "</table>\n",
              "</div>\n",
              "      <button class=\"colab-df-convert\" onclick=\"convertToInteractive('df-75d55f6f-d6d1-48c3-8b3e-2122d33120f6')\"\n",
              "              title=\"Convert this dataframe to an interactive table.\"\n",
              "              style=\"display:none;\">\n",
              "        \n",
              "  <svg xmlns=\"http://www.w3.org/2000/svg\" height=\"24px\"viewBox=\"0 0 24 24\"\n",
              "       width=\"24px\">\n",
              "    <path d=\"M0 0h24v24H0V0z\" fill=\"none\"/>\n",
              "    <path d=\"M18.56 5.44l.94 2.06.94-2.06 2.06-.94-2.06-.94-.94-2.06-.94 2.06-2.06.94zm-11 1L8.5 8.5l.94-2.06 2.06-.94-2.06-.94L8.5 2.5l-.94 2.06-2.06.94zm10 10l.94 2.06.94-2.06 2.06-.94-2.06-.94-.94-2.06-.94 2.06-2.06.94z\"/><path d=\"M17.41 7.96l-1.37-1.37c-.4-.4-.92-.59-1.43-.59-.52 0-1.04.2-1.43.59L10.3 9.45l-7.72 7.72c-.78.78-.78 2.05 0 2.83L4 21.41c.39.39.9.59 1.41.59.51 0 1.02-.2 1.41-.59l7.78-7.78 2.81-2.81c.8-.78.8-2.07 0-2.86zM5.41 20L4 18.59l7.72-7.72 1.47 1.35L5.41 20z\"/>\n",
              "  </svg>\n",
              "      </button>\n",
              "      \n",
              "  <style>\n",
              "    .colab-df-container {\n",
              "      display:flex;\n",
              "      flex-wrap:wrap;\n",
              "      gap: 12px;\n",
              "    }\n",
              "\n",
              "    .colab-df-convert {\n",
              "      background-color: #E8F0FE;\n",
              "      border: none;\n",
              "      border-radius: 50%;\n",
              "      cursor: pointer;\n",
              "      display: none;\n",
              "      fill: #1967D2;\n",
              "      height: 32px;\n",
              "      padding: 0 0 0 0;\n",
              "      width: 32px;\n",
              "    }\n",
              "\n",
              "    .colab-df-convert:hover {\n",
              "      background-color: #E2EBFA;\n",
              "      box-shadow: 0px 1px 2px rgba(60, 64, 67, 0.3), 0px 1px 3px 1px rgba(60, 64, 67, 0.15);\n",
              "      fill: #174EA6;\n",
              "    }\n",
              "\n",
              "    [theme=dark] .colab-df-convert {\n",
              "      background-color: #3B4455;\n",
              "      fill: #D2E3FC;\n",
              "    }\n",
              "\n",
              "    [theme=dark] .colab-df-convert:hover {\n",
              "      background-color: #434B5C;\n",
              "      box-shadow: 0px 1px 3px 1px rgba(0, 0, 0, 0.15);\n",
              "      filter: drop-shadow(0px 1px 2px rgba(0, 0, 0, 0.3));\n",
              "      fill: #FFFFFF;\n",
              "    }\n",
              "  </style>\n",
              "\n",
              "      <script>\n",
              "        const buttonEl =\n",
              "          document.querySelector('#df-75d55f6f-d6d1-48c3-8b3e-2122d33120f6 button.colab-df-convert');\n",
              "        buttonEl.style.display =\n",
              "          google.colab.kernel.accessAllowed ? 'block' : 'none';\n",
              "\n",
              "        async function convertToInteractive(key) {\n",
              "          const element = document.querySelector('#df-75d55f6f-d6d1-48c3-8b3e-2122d33120f6');\n",
              "          const dataTable =\n",
              "            await google.colab.kernel.invokeFunction('convertToInteractive',\n",
              "                                                     [key], {});\n",
              "          if (!dataTable) return;\n",
              "\n",
              "          const docLinkHtml = 'Like what you see? Visit the ' +\n",
              "            '<a target=\"_blank\" href=https://colab.research.google.com/notebooks/data_table.ipynb>data table notebook</a>'\n",
              "            + ' to learn more about interactive tables.';\n",
              "          element.innerHTML = '';\n",
              "          dataTable['output_type'] = 'display_data';\n",
              "          await google.colab.output.renderOutput(dataTable, element);\n",
              "          const docLink = document.createElement('div');\n",
              "          docLink.innerHTML = docLinkHtml;\n",
              "          element.appendChild(docLink);\n",
              "        }\n",
              "      </script>\n",
              "    </div>\n",
              "  </div>\n",
              "  "
            ]
          },
          "metadata": {},
          "execution_count": 102
        }
      ]
    },
    {
      "cell_type": "code",
      "execution_count": 103,
      "metadata": {
        "id": "-vtHLatMHIf2"
      },
      "outputs": [],
      "source": [
        "from keras.preprocessing.text import Tokenizer # equivalente a ltokenizer de nltk\n",
        "from keras.preprocessing.text import text_to_word_sequence # equivalente a word_teokenize de nltk\n",
        "from keras.utils import pad_sequences # se utilizará para padding\n",
        "\n",
        "# largo de la secuencia, incluye seq input + word output\n",
        "train_len = 4"
      ]
    },
    {
      "cell_type": "markdown",
      "metadata": {
        "id": "ohS5Tao1d2KB"
      },
      "source": [
        "#### Preprocesamiento\n",
        "Transformar el dataset de filas de oraciones en un texto completo continuo para poder extraer el vocabulario."
      ]
    },
    {
      "cell_type": "code",
      "execution_count": 104,
      "metadata": {
        "colab": {
          "base_uri": "https://localhost:8080/"
        },
        "id": "63Z2-Se2t27r",
        "outputId": "cbe4f8f5-b513-45dd-e44e-841b7b768184"
      },
      "outputs": [
        {
          "output_type": "execute_result",
          "data": {
            "text/plain": [
              "0     come up to meet you tell you i'm sorry you don...\n",
              "1      i used to rule the world seas would rise when...\n",
              "2      when you try your best but you don't succeed ...\n",
              "3      look at the stars look how they shine for you...\n",
              "4     and said drink from me drink from me ohahohah ...\n",
              "5     'cause you're a sky 'cause you're a sky full o...\n",
              "6     oh they say people come say people go this par...\n",
              "7     indecipherable   turn your magic on umi she'd ...\n",
              "8       choir moses martin i want to know when i can...\n",
              "9     oohoohooh oohoohooh oohoohooh oohoohooh oohooh...\n",
              "10    call it magic call it true i call it magic whe...\n",
              "11    the lights go out and i can't be saved tides t...\n",
              "12    daddy are you out there daddy won't you come a...\n",
              "13    what in the world are we going to do look at w...\n",
              "14    did i drive you away i know what you'll say yo...\n",
              "15     fixing up a car driving it again searching fo...\n",
              "Name: 0, dtype: object"
            ]
          },
          "metadata": {},
          "execution_count": 104
        }
      ],
      "source": [
        "# Vistazo a las primeras filas\n",
        "df.loc[:15,0]"
      ]
    },
    {
      "cell_type": "code",
      "execution_count": 105,
      "metadata": {
        "colab": {
          "base_uri": "https://localhost:8080/",
          "height": 143
        },
        "id": "kILsSoxTuHEr",
        "outputId": "67ea6fdd-ef67-405e-a4de-7847fec97621"
      },
      "outputs": [
        {
          "output_type": "execute_result",
          "data": {
            "text/plain": [
              "\"come up to meet you tell you i'm sorry you don't know how lovely you are i had to find you tell you i need you tell you i set you apart tell me your secrets and ask me your questions oh let's go back to the start running in circles coming up tails heads on a science apart   nobody said it was easy it's such a shame for us to part nobody said it was easy no one ever said it would be this hard oh take me back to the start   i was just guessing at numbers and figures pulling the puzzles apart questions of science science and progress do not speak as loud as my heart tell me you love me come back and haunt me oh and i rush to the start running in circles chasing our tails coming back as we are   nobody said it was easy oh it's such a shame for us to part nobody said it was easy no one ever said it would be so hard i'm going back to the start   ohooh oohoohoohooh ahooh oohoohoohooh ohooh oohoohoohooh ohooh oohoohoohooh  i used to rule the world seas would rise when i gave the word now in the morning i sleep alone sweep the streets i used to own    i used to roll the dice feel the fear in my enemy's eyes listen as the crowd would sing now the old king is dead long live the king one minute i held the key next the walls were closed on me and i discovered that my castles stand upon pillars of salt and pillars of sand    i hear jerusalem bells are ringing roman cavalry choirs are singing be my mirror my sword and shield my missionaries in a foreign field for some reason i can't explain once you'd gone there was never never an honest word and that was when i ruled the world    it was the wicked and wild wind blew down the doors to let me in shattered windows and the sound of drums people couldn't believe what i'd become revolutionaries wait for my head on a silver plate just a puppet on a lonely string oh who would ever want to be king    i hear jerusalem bells are ringing roman cavalry choirs are singing be my mirror my sword and shield my missionaries in a foreign field for some reason i can't explain i know saint peter won't call my name never an honest word but that was when i ruled the world   will jonny guy brian ohohwoah ohoh oh ohohwoah ohoh oh ohohwoah ohoh oh ohohwoah ohoh oh  breakdown   will jonny guy  brian ohohwoah ohoh oh i hear jerusalem bells are ringing ohohwoah ohoh oh roman cavalry choirs are singing ohohwoah ohoh oh be my mirror my sword and shield ohohwoah ohoh oh my missionaries in a foreign field ohohwoah ohoh oh for some reason i can't explain ohohwoah ohoh oh i know saint peter won't call my name never an honest word but that was when i ruled the world   mmm mmm mmm mmm mmm mmm mmm mmm mmm mmm  when you try your best but you don't succeed when you get what you want but not what you need when you feel so tired but you can't sleep stuck in reand the tears come streaming down your face when you lose something you can't replace when you love someone but it goes to waste could it be worse   chris chris  will lights will guide you home and ignite your bones and i will try to fix you    and high up above or down below when you're too in love to let it go but if you never try you'll never know just what you're worth   chris  will lights will guide you home and ignite your bones and i will try to fix you     breakdown chris jonny guy will tears stream down your face when you lose something you cannot replace tears stream down your face and i tears stream down your face i promise you i will learn from my mistakes tears stream down your face and i    lights will guide you home and ignite your bones and i will try to fix you  look at the stars look how they shine for you and everything you do yeah they were all yellow i came along i wrote a song for you and all the things you do and it was called yellow so then i took my turn oh what a thing to have done and it was all yellow    chris jonny  will aah your skin oh yeah your skin and bones ooh turn into something beautiful aah you know you know i love you so you know i love you so    i swam across i jumped across for you oh what a thing to do 'cause you were all yellow i drew a line i drew a line for you oh what a thing to do and it was all yellow    chris jonny  will aah your skin oh yeah your skin and bones ooh turn into something beautiful aah and you know for you i'd bleed myself dry for you i'd bleed myself dry    it's true look how they shine for you look how they shine for you look how they shine for look how they shine for you look how they shine for you look how they shine    look at the stars look how they shine for you and all the things that you do and said drink from me drink from me ohahohah that we shoot across the sky symphony that we shoot across the sky pour on a drink from me drink from me ohahohah that we shoot across the sky symphony so high so high that we shoot across the sky    oh angel sent from up above you know you make my world light up when i was down when i was hurt you came to lift me up life is a drink and love's a drug oh now i think i must be miles up when i was a river dried up you came to rain a flood  pre  with beyoncé you said drink from me drink from me when i was so thirsty poured on a symphony now i just can't get enough put your wings on me wings on me when i was so heavy poured on a symphony when i'm low low low low    i ohi ohi got me feeling drunk and high so high so high ohi ohi ohi now im feeling drunk and high so high so high woo woooooooowoo    with beyoncé oh angel sent from up above i feel you coursing through my blood life is a drink and your love's about to make the stars come out  pre  with beyoncé put your wings on me wings on me when i was so heavy poured on a symphony when i'm low low low low    i ohi ohi got me feeling drunk and high so high so high ohi ohi ohi im feeling drunk and high so high so high   beyoncé with  i ohi ohi la la la la la la la so high so high i ohi ohi now i'm feeling drunk and high so high so high   beyoncé  with  that i shoot across the sky that i shoot across the that i shoot across the sky let me shoot across the let me shoot let me shoot across the sky let me shoot across the let me shoot across the sky that we shoot across the 'cause you're a sky 'cause you're a sky full of stars i'm gonna give you my heart 'cause you're a sky 'cause you're a sky full of stars 'cause you light up the path   i don't care go on and tear me apart i don't care if you do oohooh ooh 'cause in a sky 'cause in a sky full of stars i think i saw you oohoohooh oohoohooh   'cause you're a sky 'cause you're a sky full of stars i wanna die in your arms ohohoh ohoh 'cause you get lighter the more it gets dark i'm gonna give you my heart oh   i don't care go on and tear me apart i don't care if you do oohooh ooh 'cause in a sky 'cause in a sky full of stars i think i see you oohoohooh oohoohooh i think i see you oohoohooh oohoohooh   'cause you're a sky you're a sky full of stars such a heavenly view you're such a heavenly view yeah yeah yeah ooh oh they say people come say people go this particular diamond was extra special and though you might be gone and the world may not know still i see you celestial   like a lion you ran a goddess you rolled like an eagle you circled in perfect purple so how come things move on how come cars dont slow when it feels like the end of my world when i should but i cant let you go    but when im cold cold when im cold cold theres a light that you give me when im in shadow theres a feeling within me everglow   like brothers in blood sisters who ride and we swore on that night wed be friends 'til we die but the changing of winds and the way waters flow life is short as the falling of snow and now im gonna miss you i know    but when im cold cold in water rolled salt and i know that youre with me and the way you will show and youre with me wherever i go and you give me this feeling this everglow   oh what i wouldn't give for just a moment to hold because i live for this feeling this everglow   so if you love someone you should let them know oh the light that you left me will everglow indecipherable   turn your magic on umi she'd say everything you want's a dream away and we are legends every day that's what she told him   turn your magic on to me she'd say everything you want's a dream away under this pressure under this weight we are diamonds   now i feel my heart beating i feel my heart beneath my skin and i feel my heart beating oh you make me feel like i'm alive again  post alive again oh you make me feel like i'm alive again   said i can't go on not in this way i'm a dream that died by light of day gonna hold up half the sky and say only i own me   now i feel my heart beating i feel my heart beneath my skin oh i can feel my heart beating 'cause you make me feel like i'm alive again  post alive again oh you make me feel like i'm alive again   turn your magic on umi she'd say everything you want's a dream away under this pressure under this weight we are diamonds taking shape we are diamonds taking shape woo woo  refrain if we've only got this life this adventure oh then i and if we've only got this life you'll get me through and if we've only got this life in this adventure oh then i want to share it with you with you with you yeah i do   woohoo woohoo woohoo woohoo woohoo woohoo woohoo woohoo woohoo woohoo woohoo woohoo   choir moses martin i want to know when i can go back and get drunk with my friends boom boom\\u2005kah\\u2005buba de kah boom\\u2005boom kah buba de kah boom boom\\u2005kah buba de kah    rosaleem of the damascene yes she had eyes like the moon would have been on the silver screen but for the missile monsoon  refrain   choir she went woowoo woowoo oohoohooh indigo up in heaven today woowoo woowoo oohoohooh bombs going boombababoom she say     choir i want to know when i can go back and get drunk with my friends i want to know when i can go back and be young again    baba would go where the flowers grow almond and peach trees in bloom and he would know just when and what to sow so golden and opportune  refrain   choir but he went woowoo woowoo oohoohooh tulips the colour of honey today it's true true woowoo oohoohooh bombs going boombababoom he say     choir oh i want to know when i can go back and get drunk with my friends i want to know when i can go back and be young again yeah    woowoo woowoo oohoohooh woowoo woowoo oohoohooh cherubim seraphim soon come sailing us home by the light of the moon     choir oh i want to know when i can go back and get drunk with my friends i want to know when i can go back and feel home again  refrain   choir woowoo woowoo oohoohooh i guess we'll be raised on our own then woowoo woowoo oohoohooh 'cause i want to be with you 'til the world ends i want to be with you 'til the whole world ends   moses martin boom boom kah buba de kah boom boom kah buba de kah boom boom kah buba de kah boom oohoohooh oohoohooh oohoohooh oohoohooh oohoohooh oohoohooh when she was just a girl she expected the world but it flew away from her reach so she ran away in her sleep   and dreamed of paraparaparadise paraparaparadise paraparaparadise every time she closed her eyes   oohoohooh oohoohooh oohoohooh oohoohooh oohoohooh oohoohooh when she was just a girl she expected the world but it flew away from her reach and the bullets catch in her teeth life goes on it gets so heavy the wheel breaks the butterfly every tear a waterfall in the night the stormy night she'd close her eyes in the night the stormy night away she'd fly   and dream of paraparaparadise paraparaparadise paraparaparadise oh ohoh ohoh ohohoh she'd dream of paraparaparadise paraparaparadise paraparaparadise oh ohoh ohoh ohohoh   la lala lalala la lala lalala la lala lalala lala so lying underneath those stormy skies she said oh ohohohoh i know the sun must set to rise   this could be paraparaparadise paraparaparadise this could be paraparaparadise oh ohoh ohoh ohohoh this could be paraparaparadise paraparaparadise this could be paraparaparadise oh ohoh ohoh ohohoh   break   this could be paraparaparadise this could be paraparaparadise this could be paraparaparadise ohohohohoh ohohoh   oohoohooh oohoohooh oohoohooh oohoohooh oohoohooh oohoohooh oohoohooh oohoohooh oohoohooh oohoohooh oohoohooh call it magic call it true i call it magic when i'm with you and i just got broken broken into two still i call it magic when i'm next to you   and i don't and i don't and i don't and i don't no i don't it's true i don't no i don't no i don't no i don't want anybody else but you i don't no i don't no i don't no i don't no i don't it's true i don't no i don't no i don't no i don't want anybody else but you oooh ooh oohooh   call it magic cut me into two and with all your magic i disappear from view and i can't get over can't get over you still i call it magic such a precious jewel   and i don't and i don't and i don't and i don't no i don't it's true i don't no i don't no i don't no i don't want anybody else but you i don't no i don't no i don't no i don't no i don't it's true i don't no i don't no i don't no i don't want anybody else but you   wanna fall fall so far i wanna fall fall so hard and i call it magic and i call it true i call it ma mamamagic oooh ooh oohooh oooh ooh oohooh oooh ooh oohooh oooh ooh oohooh   and if you were to ask me after all that we've been through still believe in magic oh yes i do oh yes i do oh yes i do oh yes i do of course i do the lights go out and i can't be saved tides that i tried to swim against have brought me down upon my knees oh i beg i beg and plead singin' come out of things unsaid shoot an apple off my head and a trouble that can't be named a tiger's waiting to be tamed singin'   you are you are   confusion never stops closing walls and tickin' clocks gonna come back and take you home i could not stop that you now know singin' come out upon my seas cursed missed opportunities am i a part of the cure or am i part of the disease singin'   you are you are you are you are you are you are   and nothing else compares oh nothing else compares and nothing else compares   you are you are   home home where i wanted to go home home where i wanted to go home you are home where i wanted to go home you are home where i wanted to go daddy are you out there daddy won't you come and play daddy do you not care is there\\u2005nothing\\u2005that you wanna\\u2005say  pre i know you're hurting too but i need\\u2005you i do daddy if you're out there daddy all i want to say   you're so far away oh you're so far away that's okay it's okay i'm okay   daddy are you out there daddy why'd you run away daddy are you okay look dad we got the same hair and daddy it's my birthday and all i wanna say   is you're so far away oh and you're so far away that's okay it's okay it's okay   ooh ooh ooh ooh ooh ooh ooh ooh you're so far away   won't you come and won't you stay please stay oh please stay won't you come and won't you stay one day just one day what in the world are we going to do look at what everybody's going through what kind\\u2005of\\u2005world do you\\u2005want it to be am i the\\u2005future or the history   'cause everyone hurts everyone cries everyone tells each other all kinds of lies everyone falls everybody dreams and doubts got to keep dancing when the lights go out   how in the world am i going to see you as my brother not my enemy   'cause everyone hurts everyone cries everyone sees the colour in each other's eyes everyone loves everybody gets their hearts ripped out got to keep dancing when the lights go out gonna keep dancing when the lights go out hold tight for everyday life hold tight for everyday life   at first light throw my arms out open wide hallelujah hallelujah halleluhallehallelujah hallelujah hallelujah halleluhallehallelujah yes did i drive you away i know what you'll say you say oh sing one you know but i promise you this i'll always look out for you yeah that's what i'll do   i say oh i say oh   my heart is yours it's you that i hold on to yeah that's what i do and i know i was wrong but i won't let you down oh yeah i will yeah i will yes i will yeah i will   i said oh i cry oh   yeah i saw sparks yeah i saw sparks and i saw sparks yeah i saw sparks sing it out   la la la la oh la la la la oh la la la la oh la la la la oh  fixing up a car driving it again searching for the water hoping for the rain up and up up and up down upon the canvas working meal to meal waiting for a chance to pick your orange field up and up up and up see a pearl form a diamond in the rough see a bird soaring high above the flood it's in your blood it's in your blood underneath the storm an umbrella is saying sitting with the poison takes away the pain up and up up and up it's saying    were gonna get it get it together right now gonna get it get it together somehow gonna get it get it together and flower ohohohohohoh were gonna get it get it together i know gonna get it get it together and flow gonna get it get it together and go up and up and up    lying in the gutter aiming for the moon trying to empty out the ocean with a spoon up and up up and up how come people suffer how come people part how come people struggle how come people break your heart break your heart yes i wanna grow yes i want to feel yes i wanna know show me how to heal it up heal it up see the forest there in every seed angels in the marble waiting to be freed just need love just need love when the going is rough saying    were gonna get it get it together right now gonna get it get it together somehow gonna get it get it together and flower ohohohohohoh were gonna get it get it together i know gonna get it get it together and flow gonna get it get it together and go    and you can say what is or fight for it close your mind or take a risk you can say its mine and clench your fist or see each sunrise as a gift     jonny buckland    were gonna get it get it together right now gonna get it get it together somehow gonna get it get it together and flower ohohohohohoh were gonna get it get it together i know gonna get it get it together and flow gonna get it get it together and go up and up and were gonna get it get it together right now gonna get it get it together somehow gonna get it get it together and flower ohohohohohoh were gonna get it get it together i know gonna get it get it together and flow gonna get it get it together and go up and up and up     noel gallagher  interlude  ohohoh ohoh whoa oh ohohoh ohoh whoa oh    fixing up a car to drive in it again when youre in pain when you think youve had enough dont ever give up don't ever give up  coda annabelle wallis believe in love oh no i see a spider web is tangled up with me and i lost my head and thought of all the stupid things i'd said   oh no what's this a spider web and i'm caught in the middle so i turned to run and thought of all the stupid things i'd done   and i i never meant to cause you trouble and i i never meant to do you wrong and i well if i ever caused you trouble and oh no i never meant to do you harm   oh no i see a spider web and it's me in the middle so i twist and turn but here am i in my little bubble   singing that i never meant to cause you trouble i never meant to do you wrong and i well if i ever caused you trouble oh no i never meant to do you harm   they spun a web for me they spun a web for me they spun a web for me  i could be you you could be me two raindrops in the same sea you could be\\u2005me\\u2005i could be\\u2005you two angles of the same view and\\u2005we share the same blood  interlude   stromae will champion   comme deux gouttes deau on se ressemble comme provenant de la même mère comme deux ruisseaux you could be me qui se rassemblent i could be you pour faire les grandes rivières and we share the same blood yeah we share the same blood  saxophone     and we share the same blood yeah we share the same blood  sample femi kuti music is the weapon music is the weapon of the future music is the weapon music is the weapon of the future music is the weapon music is the weapon of the future    same fucking blood same fucking blood been rusting in the rubble running to a faint need a brand new coat of paint found myself in trouble thinking about what ain't never gonna be a saint  pre  saying float like an eagle fall like the rain pouring to put out the pain oh again and again   now i'm hyp hypnotised yeah i trip when i look in your eyes oh i'm hyp hypnotized yeah i slip and i'm mesmerized   it's easy to be lethal i'm learning from the news it's a guidebook for the blues saying it's the very same steeple people want to choose they just see it from different views  pre  and threading the needle fixing my flame oh now i'm moved to exclaim oh again and again   how i'm hyp hypnotised yeah i trip when i look in your eyes oh i'm hyp hypnotized yeah i lift and i'm mesmerized   oh again and again oh i'm hyp hypnotised yeah i lift to a permanent high oh i'm hyp hypnotised it was dark now it's sunrise one two three   fish fell out of water bird stuck on the ground chaos giving orders everything is upside down the whole world on a flight path i wonder where they'll go ah trouble's on the outside i know   but now all i can think about is you all i can think about is you if all that i'm on earth to do is  then what a lone poor shoe i want to walk in a two  piano    go it's all i can it's all i can it's all i can it's all i can do it's all i can do      everything is falling all around you it's all i can do all i can think about is you it's all i can all i can think about is you love is the only thing left that's true a flock of birds hovering above just a flock of birds that's how you think of love   and i always look up to the sky pray before the dawn cause they fly always sometimes they arrive sometimes they are gone they fly on   a flock of birds hovering above into smoke i'm turned and rise following them up   still i always look up to the sky pray before the dawn cause they fly away one minute they arrive next you know they're gone they fly on fly on   so fly on ride through maybe one day i'll fly next to you fly on ride through maybe one day i can fly with you fly on fly on fly on otuto nke chukwu' gi nwa nke chukwu gini ka ina ekwu n'ihi ihe nile nke chukwu mere    i tried my best\\u2005to\\u2005be just like the\\u2005other boys in school i tried my\\u2005best to get it right and died at every duel this mountainside is suicide this dream will never work still the sign upon my headstone write a champion of the world  interlude oh ohoh oh ohohoh oh oh    i tried my best to stay alight fly like a firework i tried my best at taking flight but my rocket ship reversed oh referee don't stop the fight everyone can see i'm hurt but i'll stand before conquistadors till i'm champion of the world    chris  will when i sail and when i sail i'm sailing west know i might fail knowing i might fail but still i'm hoping for the best in my dreams and in my dreams onto my chest she'll pin the colours and say i wandered the whole wide world but baby you're the best  interlude  lo lololo lo oh eeyoeeyoeeyoeeyeah lo lololo lo     will champion so i'm flying on my bicycle heading upwards from the earth i am jumping with no parachute out into the unii have et on my bicycle because giving up won't work now i'm riding on my rocketship and i'm champion of the world it was a long and dark december from the rooftops i remember there was snow white snow clearly i remember from the windows they were watching while we froze down below when the future's architectured by a carnival of idiots on show you'd better lie low if you love me won't you let me know   was a long and dark december when the banks became cathedrals and a fox became god priests clutched onto bibles hollowed out to fit their rifles and a cross was held aloft bury me in armor when i'm dead and hit the ground my nerves are poles that unfroze and if you love me won't you let me know   i don't want to be a soldier who the captain of some sinking ship would stow far below so if you love me why'd you let me go   i took my love down to violet hill there we sat in snow all that time she was silent still so if you love me won't you let me know if you love me won't you let me know in my place in my place were lines that i couldn't change i was lost oh yeah i was lost i was lost crossed lines i shouldn't have crossed i was lost oh yeah  hook yeah how long must you wait for it yeah how long must you pay for it yeah how long must you wait for it for it   i was scared i was scared tired and underprepared but i wait for it and if you go if you go and leave me down here on my own then i'll wait for you yeah  hook yeah how long must you wait for it yeah how long must you pay for it yeah how long must you wait for it for it   sing it please please please come back come sing to me to me me come on and sing it out now now come on and sing it out to me me come back come sing it   in my place in my place were lines that i couldn't change i was lost oh yeah oh yeah got a tattoo that said together thru life carved in your name with my pocket knife and you wonder when you wake up will it be alright ooooh ooh feels like there's something broken inside    all i know all i know is that i'm lost whenever you go all i know is that i love you so so much that it hurts   got a tattoo and the pain's alright oooh oooh just wanted a way of keeping you inside ooooh ooh    all i know all i know is that i'm lost in your fire below all i know is that i love you so so much that it hurts   i see the road begin to climb i see your stars begin to shine i see your colors and i'm dying of thirst all i know is that i love you so so much that it hurts oh yeah yeah yeah so much that it hurts so much that it hurts what can i tell you when i'm with you i'm walking on air watching you sleeping there\\u2005yeah and\\u2005what can't i\\u2005get through when for everyone everywhere you're answering\\u2005every prayer   and when you're riding a wave oh won't you ride that wave to me when you're setting your sail oh can i be your seventh sea when you're riding a wave oh when you're riding a wave   'cause when i'm hurt then i'll go to your church 'cause when i'm hurt then i'll go to your church     when you're riding a wave oh won't you ride that wave to me when you're riding a wave  vocalizing in arabic by norah shaqur أبي يا الله يا قادر لماذا تركتني أبي يا الله يا قادر حرية يا الله محبة يا الله   ooh ooh ooh ooh ooh ooh i worship in your church baby always i worship in your church all the seven days ooh ooh ooh i praise and praise ooh ooh ooh ooh ooh ooh so i look in your direction but you pay me no attention do you i know you don't listen to me 'cause you say you see straight through me don't you  but on and on from the moment i wake 'til the moment i sleep i'll be there by your side just you try and stop me i'll be waiting in line just to see if you care  pre oh did you want me to change well i'll change for good and i want you to know that you'll always get your way i wanted to say   don't you shiver shiver sing it loud and clear i'll always be waiting for you   so you know how much i need you but you never even see me do you and is this my final chance of getting you  but on and on from the moment i wake 'til the moment i sleep i'll be there by your side just you try and stop me i'll be waiting in line just to see if you care if you care  pre oh did you want me to change well i'll change for good and i want you to know that you'll always get your way i wanted to say   don't you shiver don't you shiver sing it loud and clear i'll always be waiting for you   yeah i'll always be waiting for you yeah i'll always be waiting for you yeah i'll always be waiting for you for you i will always be waiting  final  and it's you i see but you don't see me and it's you i hear so loud and so clear i sing it loud and clear and i'll always be waiting for you   so i look in your direction but you pay me no attention and you know how much i need you but you never even see me they were sitting they were sitting on the strawberry swing every moment was so precious  they were sitting they were talking on the strawberry swing everybody was for fighting wouldn't wanna waste a thing  cold cold water bring me 'round now my feet won't touch the ground cold cold water what ya say   when it's such it's such a perfect day it's such a perfect day  i remember we were walking up to strawberry swing i can't wait 'til the morning wouldn't wanna change a thing  people moving all the time inside a perfectly straight line don't you wanna just curve away   when it's such it's such a perfect day it's such a perfect day    ah   now the sky could be blue i don't mind without you it's a waste of time  could be blue i don't mind without you it's a waste of time  well the sky could be blue could be grey without you i'm just miles away  well the sky could be blue i don't mind without you it's a waste of time duction  i think of you i haven't slept i think i do but i don't forget  my body moves goes where i will but though i try my heart stays still  it never moves just won't be led so my mouth waters to be fed and you're always in my head  you're always in my head you're always in my head you're always in my head  you're always in my head always in my always in my  this i guess is to tell you you're chosen out from the rest in the darkness before the dawn in the swirling of the storm when i'm rolling with the punches and hope is gone leave a light a light on   millions of miles from home in the swirling swimming on when i'm rolling with the thunder but bleed from thorns leave a light a light on leave a light a light on  leave a light a light on leave a light a light on   in the darkness before the dawn in the darkness before the dawn leave a light a light on leave a light a light on  trouble in town because they cut my brother down because my sister can't wear her crown there's trouble\\u2005there's\\u2005trouble in town blood\\u2005on the beat ohoh oh my goodness\\u2005there's blood on the beat law of the jungle or the law of the street there's blood on there's blood on the beat    and i get no shelter and i get no peace and i never get released    trouble in town ohoh because they hung my brother brown because their system just keep you down there's trouble there's trouble in town    and i get no shelter and i get no peace and i just get more police eh and i get no comfort and i get no name everything is gettin' strange  interlude young men  police officer philip nace  best friends what's that what's his name x standby sir alright is that x your middle name of course it's on a vehicle id right there must be some way you gettin' smart 'cause you'll be in a fucking car with him i'm telling you fucking smartass or it's gonna kick off someday i'm asking you what the x is is that your middle name of course what is it don't come back with the what is it fucking shit there must be some way talk to these fucking pigs on the street that way you ain't talking to me that way i don't talk to nobody in the streets i don't hang with nobody well then don't come to fucking philadelphia stay in jersey i have family out here everybody thinks they're a fucking lawyer and they don't know jack shit are you supposed to grab me like this grab you up i'll grab you any way i got to you're not protecting me by stopping me while i'm trying to go to work why don't you shut up     u mandela siyamthanda futhi uyaziwa yonk' indawo jikelele jikelele jikelele jikelele jikelele jikelele jikelele jikelele jikelele piano    a flock of birds hovering above just a flock of birds that's how you think of love   and i always look up to the sky pray before the dawn 'cause they fly away sometimes they arrive sometimes they are gone they fly on   a flock of birds hovering above into smoke i'm turned and rise following 'em up  4 still i always look up to the sky pray before the dawn 'cause they fly away one minute they arrive next you know they're gone they fly on fly on oh ohhhh   so fly on ride through maybe one day i'll fly next to you fly on ride through maybe one day i can fly with you fly on fly on fly on  ambient  don't ever let go don't ever let go don't ever let go don't ever let go for a second i was in control i had it once i lost it though and all along the fire below would rise and i wish you could have let me know what's really going on below i've lost you now you let me go but one last time   tell me you love me if you don't then lie lie to me   remember once upon a time when i was yours and you were blind the fire would sparkle in your eyes and mine   so tell me you love me if you don't then lie lie to me just tell me you love me if you don't then lie lie to me if you don't then lie lie to me   and call it true call it true love call it true call it true love he said i'm gonna buy this place and burn it down i'm gonna put it six feet underground he said i'm gonna buy this place and watch it fall stand here beside me baby in the crumbling walls  oh i'm gonna buy this place and start a fire stand here until i fill all your heart's desires because i'm gonna buy this place and see it burn and do back the things it did to you in return  oooh oooh oooh oooh  said i'm gonna buy a gun and start a war if you can tell me something worth fighting for oh and i'm gonna buy this place that's what i said blame it upon a rush of blood to the head  hook honey all the movements you're starting to make see me crumble and fall on my face and i know the mistakes that i made see it all disappear without trace and they call as they beckon you on they say start as you mean to go on start as you mean to go on   he said i'm gonna buy this place and see it go stand here beside me baby watch the orange glow some will laugh and some just sit and cry but you just sit down there and you wonder why  so i'm gonna buy a gun and start a war if you can tell me something worth fighting for and i'm gonna buy this place that's what i said blame it upon a rush of blood to the head oh to the head oh  hook honey all the movements you're starting to make see me crumble and fall on my face and i know the mistakes that i made see it all disappear without a trace and they call as they beckon you on they say start as you mean to go on as you mean to go on as you mean to go on   so meet me by the  oh meet me by the lane when am i going to see that pretty face again  meet me on the road meet me where i said blame it all upon a rush of blood to the head honey you are a rock upon which i stand and i come here to talk i hope you understand  that green eyes yeah the spotlight shines upon you and how could anybody deny you   i came here with a load and it feels so much lighter now i've met you and honey you should know that i could never go on without you green eyes   honey you are the sea upon which i float and i came here to talk i think you should know  that green eyes you're the one that i wanted to find and anyone who tried to deny you must be out of their minds   because i came here with a load and it feels so much lighter since i've met you and honey you should know that i could never go on without you green eyes green eyes   honey you are a rock upon which i stand  bones sinking like stones all that we fought for homes places weve grown all of us are done for    we live in a beautiful world yeah we do yeah we do we live in a beautiful world     jonny buckland bones sinking like stones all that we fought for homes places weve grown all of us are done for    and we live in a beautiful world yeah we do yeah we do we live in a beautiful world  piano     and we live in a beautiful world yeah we do yeah we do we live in a beautiful world    oh all that i know there's nothing here to run from 'cause yeah everybody here's got somebody to lean on i turn the music up i got my records on i shut the world outside until the lights come on maybe the streets alight maybe the trees are gone i feel my heart start beating to my favorite song and all the kids they dance all the kids all night until monday morning feels another life i turn the music up i'm on a roll this time and heaven is in sight   i turn the music up i got my records on from underneath the rubble sing a rebel song don't want to see another generation drop i'd rather be a comma than a full stop maybe i'm in the black maybe i'm on my knees maybe i'm in the gap between the two trapezes but my heart is beating and my pulses start cathedrals in my heart  pre as we saw oh this light i swear you emerge blinking into to tell me it's alright as we soar walls every siren is a symphony   and every tear's a waterfall is a waterfall oh is a waterfall ohohoh is a is a waterfall every tear is a waterfall ohohoh   so you can hurt hurt me bad but still i'll raise the flag   oh it was a wawawawawaterfall a wawawawawaterfall every tear every tear every teardrop is a waterfall every tear every tear every teardrop is a waterfall every tear every tear every teardrop is a waterfall every tear every tear every teardrop is a waterfall every tear every tear every teardrop is a waterfall oooo wooo   stole a key took a car downtown where the lost boys meet took a car downtown and took what they offered me to set me free i saw the lights go down at the end of the scene saw the lights go down and standing in front of me  hook oooooooooo   in my scarecrow dreams when they smash my heart into smithereens be a bright red rose come bursting through concrete be a cartoon heart light a fire a fire a spark light a fire a flame in my heart well run wild well be glowing in the dark  hook oooooooooo well be glowing in the dark awooawooooo   all the boys all the girls all that matters in the world all the boys all the girls all the madness that occurs all the highs all the lows as the room aspinning goes well run riot well be glowing in the dark  hook oooooooooo   so well soar luminous and wired well be glowing in the dark  i know it's over before she says i know the falls that the water face i know it's over an ocean awaits for a storm the sun on snow rivers in rain crystal ball can foresee a change and i know it's over a parting of ways and it's done  pre  but didn't we have fun don't say it was all a waste didn't we have fun ohooohooh     from the top of the world top of the waves we said forever forever always we could have been lost we would have been saved oh i now we're stopping the world stopping its spin but come on don't give up don't say we give in don't say it's over don't say we're done oh didn't we have fun woooohoohooh woooohoohooh oh didn't we have fun    with tove lo i know it's over before she says know someone else has taken your place i know it's over icarus says to the sun the sword sinks in lightning strikes and two force two forces collide and fight til it's over fight til it's done ahahah  pre  with tove lo but didn't we have fun don't say it was all a waste didn't we have fun ohooohooh      tove lo from the top of the world top of the waves we said forever forever always we could have been lost we would have been saved oh i now we're stopping the world stopped it in its tracks but nothing's too broken to find a way back so before it's over before you run ah didn't we have fun    with tove lo 'cause you and me we were always meant to always meant to be we were always meant to always meant to you and me we were always meant to always meant to be     tove lo ohohohoh ohohohoh oh didn't we have fun ohohohoh ohohohoh oh didn't we have fun     tove lo but then maybe we could again how long before i get in before it starts before i begin how long before you decide before i know what it feels like where to where do i go if you never try then you'll never know how long do i have to climb up on the side of this mountain of mine   look up i look up at night planets are moving at the speed of light climb up up in the trees every chance that you get is a chance you seize how long am i gonna stand with my head stuck under the sand i'll start before i can stop before i see things the right way up  hook all that noise and all that sound all those places i got found and birds go flying at the speed of sound to show you how it all began birds came flying from the underground if you could see it then you'd understand   ideas that you'll never find all the inventors could never design the buildings that you put up japan and china all lit up the sign that i couldn't read or a light that i couldn't see some things you have to believe but others are puzzles puzzling me  hook all that noise and all that sound all those places i got found and birds go flying at the speed of sound to show you how it all began birds came flying from the underground if you could see it then you'd understand  ah when you see it then you'll understand   all those signs i knew what they meant some things you can invent some get made and some get sent  hook birds go flying at the speed of sound to show you how it all began birds came flying from the underground if you could see it then you'd understand ah when you see it then you'll understand we sat on a roof named every star shared every bruise and showed every scar hope has its proof put your hand in mine life has a beautiful crazy design   and time seemed to say forget the world and its weight and here i just wanna stay amazing day amazing day   we sat on a roof named every star you showed me a place where you can be who you are   and the view the whole milky way in your eyes i drifted away and in your arms i just wanna sway amazing day amazing day amazing day amazing day  ohohohoh ohohohoh ohohohoh ohohohoh ohohohoh ohohohoh ohohohoh oooh   and i asked can the birds in poetry chime can there be breaks in the chaos sometimes oh thanks god mustve heard when i prayed cause now i always want to feel this way   amazing day amazing day amazing day amazing day yeah today ambience  oh i think i landed in a world i hadn't seen when i'm feeling ordinary when i don't know what i mean oh i think i landed where there are miracles at work for the thirst and for the hunger come the conference of birds   saying it's true it's not what it seems leave your broken windows open and in the light just streams and you get a head a head full of dreams you can see the change you wanted be what you want to be and you get a head a head full of dreams into life ive just been spoken with a head full a head full of dreams   oh i think i landed where there are miracles at work when you got me openhanded when you got me lost for words i sing ohohoh   a head full of dreams a head full of dreams into life ive just been woken with a head full a head full of dreams christmas night another fight tears we cried a flood got all kinds of poison in of poison in my blood i took my feet to oxford street tryna right a wrong just walk away those windows say but i can't believe she's gone  refrain when you're still waiting for the snow to fall doesn't really feel like christmas at all   up above candles on air flicker oh they flicker and they float but i'm up here holding on to all those chandeliers of hope like some drunken elvis singing i go singing out of tune saying how i always loved you darling and i always will  refrain oh when you're still waiting for the snow to fall doesn't really feel like christmas at all still waiting for the snow to fall it doesn't really feel like christmas at all    those christmas lights light up the street down where the sea and city meet may all your troubles soon be gone oh christmas lights keep shining on    those christmas lights light up the street maybe they'll bring her back to me then all my troubles will be gone oh christmas lights keep shining on   ohohohoh ohohohoh    oh christmas lights light up the street light up the fireworks in me may all your troubles soon be gone those christmas lights keep shining on a warning sign i missed the good part then i realized i started looking and the bubble burst i started looking for excuses  pre come on in i've gotta tell you what a state i'm in i've gotta tell you in my loudest tones that i started looking for a warning sign   when the truth is i miss you yeah the truth is that i miss you so   a warning sign it came back to haunt me and i realized that you were an island and i passed you by and you were an island to discover  pre come on in i've gotta tell you what a state i'm in i've gotta tell you in my loudest tones that i started looking for a warning sign   when the truth is i miss you yeah the truth is that i miss you so and i'm tired i should not have let you go   so i crawl back into your open arms yes i crawl back into your open arms and i crawl back into your open arms yes i crawl back into your open arms come on oh my star is fading and i swerve out of control if i if i'd only waited i'd not be stuck here in this hole   come here oh my star is fading and i swerve out of control and i swear i waited and waited i've got to get out of this hole   but time is on your side it's on your side now not pushing you down and all around it's no cause for concern   come on oh my star is fading and i see no chance of release and i know i'm dead on the surface but i am screaming underneath   and time is on your side it's on your side now not pushing you down and all around it's no cause for concern   stuck on the end of this ball and chain and i'm on my way back down again stood on a  tied to a noose sick to the stomach you can say what you mean but it won't change a thing i'm sick of the secrets stood on the edge tied to a noose and you came along and you cut me loose you came along and you cut me loose you came along and you cut me loose jacob collier cry cry cry baby cry cry cry    jacob collier in a book about the world called the luminous things there are\\u2005trees\\u2005and flowers glowing while\\u2005jizo bodhisattva sings     jacob collier when you cry cry\\u2005cry baby when you cry cry cry when you cry cry cry baby i'll be by your side     jacob collier dumdumdum don't want us to hurt each other dumdumdum or cause each other pain dumdumdum dumdumdum dumdumdum don't want to fear what we don't know dumdumdum dumdumdum dumdumdum dumdumdum we're in this together baby dumdumdum we're as singing is to rain dumdumdum dumdumdum so i'll never ever ever let you go dumdumdum     jacob collier when you cry cry cry baby when you cry cry cry when you cry cry cry baby i'll be by your side oh yeah yeah oh yeah yeah     jacob collier for your miracles outnumber all the stars out in the sky just because i'm losing doesn't mean i'm lost doesn't mean i'll stop doesn't mean i'm across just because i'm hurting doesn't mean i'm hurt doesn't mean i didn't get what i deserved no better and no worse   i just got lost every river that i tried to cross every door i ever tried was locked oh and i'm just waiting till the shine wears off   you might be a big fish in a little pond doesn't mean you've won cause along may come a bigger one   and you'll be lost every river that you tried to cross every gun you ever held went off oh and i'm just waiting till the firing stopped oh and i'm just waiting till the shine wears off   oh and i'm just waiting till the shine wears off oh and i'm just waiting till the shine wears off oh and i'm just waiting till the shine wears off oh and i'm just waiting till the shine wears off dr shahrzad sherry sami بنی آدم اعضای یکدیگرند که در آفرینش ز یک گوهرند چو عضوی بدرد آورد روزگار دگر عضوها را\\u2005نماند\\u2005قرار تو کز محنت\\u2005دیگران بیغمی نشاید که نامت نهند آدمی  sample the sun  by john and alice coltrane may\\u2005there be peace and love and perfection throughout all creation through god may there be peace and love and perfection throughout all creation through god  sample 'otuto nke chukwu' gi nwa nke chukwu gini ka ina ekwu n'ihi ihe nile nke chukwu mere we were just about to lose our home diamonds ate the radio moving in the dead of night we took photographs just some just so history has some to know we were moving at the speed of flight  pre kids cry if you want to that's alright if you want to hold me hold me tight   just an alien   we were hovering without a home millions are ufo hovering in hope some scope tonight sees the light and says  pre fly if you want to that's alright but if you want to call me call this line   just an alien just an alien oh we just want to get home again   tell your leader sir or ma'am we come in peace we mean no harm somewhere out there in the unknown all the et's are phoning home   watching my life on the skyline crossing your eyes for a lifetime just an alien moving target target movement oh we just want to get home again a patch a corner of the spacetime just an alien turning toward it turning pages over asia crossing ages just an alien  oh angel sent from up above you know you make my world light up when i was down when i was hurt you came to lift me up life is a drink and love's a drug oh now i think i must be miles up when i was a river dried up you came to rain a flood     beyoncé ohiohiohi got me feeling drunk and high so high so high ohiohiohi now im feeling drunk and high so high so high feeling drunk and high feeling drunk and high so high    oh angel sent from up above i feel it coursing through my blood life is a drink your love's about to make the stars come out     beyoncé ohiohiohi got me feeling drunk and high so high so high ohiohiohi now im feeling drunk and high so high so high feeling drunk and high feeling drunk and high so high     beyoncé that we shoot across the sky that we shoot across the that we shoot across the sky that we shoot across the that we shoot across the sky that we shoot across the that we shoot across the sky that we shoot across the oh brother i can't i can't get through i've been trying hard to reach you cause i don't know what to do oh brother i can't believe it's true i'm so scared about the future and i wanna talk to you oh i wanna talk to you   you could take a picture of something you see in the future where will i be you could climb a ladder up to the sun or write a song nobody had sung or do something that's never been done   are you lost or incomplete do you feel like a puzzle you can't find your missing piece tell me how you feel well i feel like they're talking in a language i don't speak and they're talking it to me   so you take a picture of something you see in the future where will i be you could climb a ladder up to the sun or write a song nobody had sung or do something that's never been done do something that's never been done   so you don't know where you're going and you wanna talk and you feel like you're going where you've been before you'll tell anyone who'll listen but you feel ignored nothing's really making any sense at all let's talk let's talk let's talk let's talk been around the world the wonders to view been around the world looking for someone like you pyramids try babylon too but the beautifullest treasures lie in the deepest blue   so i never say die aim never untrue i'm never so high as when i'm with you and there isn't a fire that i wouldn't walk through my army of one is gonna fight for you   been around the world unitoo i've been around flying baby there's nothing i wouldn't do tanzaku stars lasso the moon and be standing there beside you right when the storm comes through   cause i never say die aim never untrue never so high as when i'm with you and there isn't a fire that i wouldn't walk through my army of one is gonna fight for you my army of one is gonna fall for you yeah   cause you reign all cause you reign all cause you reign my army of one is gonna call it through   saying my heart is my gun army of one yeah my heart is my gun army of one it's my only weapon army of one saying my heart is my gun army of one where do we go nobody knows i've got to say i'm on my way down god give me style and give me grace god put a smile upon my face   where do we go to draw the line i've got to say i wasted all your time oh honey honey where do i go to fall from grace god put a smile upon your face yeah   and ah when you work it out i'm worse than you yeah when you work it out i wanted to and ah when you work out where to draw the line your guess is as good as mine   where do we go nobody knows don't ever say you're on your way down when god gave you style and gave you grace and put a smile upon your face oh yeah   and ah when you work it out i'm worse than you yeah when you work it out i wanted to and ah when you work out where to draw the line your guess is as good as mine   it's as good as mine it's as good as mine it's as good as mine na nana nana nummana nana as good as mine as good as mine as good as mine as good as mine as good as mine as good as mine as good as mine   where do we go nobody knows don't ever say you're on your way down when god gave you style and gave you grace and put a smile upon your face look at earth from outer space everyone must find their place give me time and give me space give me real don't give me fake give me strength reserve control give me heart and give me soul give me time give us a kiss tell me your own politik   open up your eyes open up your eyes open up your eyes open up your eyes   give me one 'cause one is best and in confusion confidence give me peace of mind and trust and don't forget the rest of us give me strength reserve control give me heart and give me soul wounds that heal and cracks that fix tell me your own politik   open up your eyes open up your eyes open up your eyes open up your eyes  post just open up your eyes   and give me love over love over love over this and give me love over love over love over this  just because i'm losing doesn't mean i'm lost doesn't mean i'll stop doesn't mean i'm across just because i'm hurting doesn't mean i'm hurt doesn't mean i don't get what i deserved no better and no worse    i just got lost every river that i tried to cross every door i ever tried was locked oh and i'm just waiting 'til the shine wears off    you might be a big fish in a little pond doesn't mean you've won 'cause along may come a bigger one     jayz and you'll be lost every river that you tried to cross every gun you ever held went off oh and i'm just waiting 'til the firing stopped oh and i'm just waiting 'til the shine wears off geah just waiting 'til the yeah uhhuh i gotcha uh   jayz with the same sword they knight you they gon' goodnight you with shit that's only half if they like you that ain't even the half what they might do don't believe me ask michael see martin see malcolm see biggie see pac see success and its outcome see jesus see judas see caesar see brutus see success is like suicide suicide it's a suicide if you succeed prepare to be crucified media meddles niggas sue you you settle every step you take they remind you you're ghetto so it's tough being bobby brown to be bobby then you have to be bobby now and the question is is to have had and lost better than not having at all because i'm    oh and i'm just waiting 'til the shine wears off oh and i'm just waiting 'til the shine wears off late night watching tv used to be you here beside me used to be your arms around me your body on my body   when the world means nothing to me another's arms another's arms when the pain just rips right through me another's arms another's arms   late night watching tv used to be you here beside me is there someone there to reach me someone there to find me   when the pain just rips right through me another's arms another's arms and that's just torture to me another's arms another's arms pull yourself into me another's arms another's arms when the world means nothing to me another's arms another's arms   break   got to pull you close into me another's arms another's arms pull yourself right through me another's arms another's arms   late night watching tv wish that you were here beside me wish that your arms were around me your body on my body been standing in the corner studying the lights the dreaming of escape will keep you up at night but someone had put the flares up and got me in the rays so i guess id better stay uh uh no come on you say  refrain  it's a fools gold thunder it's just a warring rain don't let the fears just start 'what if i wont see you again around here you never want to sleep all night so start falling in love start the riot and    come on rage with me we dont need words and well be birds got to make our own key   only got this moment you and me guilty of nothing but geography  refrain  come on and raise it come on and raise this noise for the million people who got not one voice come on its not over if you mean it say loud come on all for love out from the underground    away with me we dont need words close your eyes and see and we'll be birds flying free holding on in the mystery fearless fearless fearless   oh oh oh oh oh oh oh oh oh fearless together you said well go through this together   when you fly wont you wont you take me too in this world so cruel i think youre so cool trying hard to speak and fighting with my weak hand driven to distraction it's all part of the plan when something is broken and you try to fix it trying to repair it anyway you can   i dive in at the deep end you become my best friend i wanna love you but i don't know if i can i know something is broken and i'm trying to fix it trying to repair it anyway i can  ooh ooh ooh ooh ooh ooh   you and me are floating on a tidal wave together you and me are drifting into outer space and singing  ooh ooh ooh ooh ooh ooh   you and me are floating on a tidal wave together you and me are drifting into outer space you and me are floating on a tidal wave together you and me are drifting into outer space and singing  ooh ooh ooh ooh ooh ooh hmmhmm hmmhmm hmmhmm hmmoh hmmhmm hmmhmm hmmhmm    choir lord when i'm broken when i'm broken and i'm in need i'm in\\u2005need feel\\u2005that ocean feel\\u2005that ocean swallowing me swallowing me head is\\u2005hanging head is hanging so sorrowfully so sorrowfully oh lord oohooh come shine your light on me shine your light on me    choir on that morning on that morning scared and blue scared and blue when i'm hungry when i'm hungry and thirsty too thirsty too send this raindrop send this raindrop down to the sea down to the sea oh lord oohooh come shine your light on me shine your light on me    choir oh shine your light oh shine your light oh shine a light oh shine a light and i know oohooh that in the darkness i'm alright i'm alright see there's no sun rising oohooh but inside i'm free oohooh 'cause the lord will shine a light for me shine a light on me oh the lord will shine a light on me shine your light on me sing it now   hmmhmm hmmhmm hmmhmm hmmoh hmmhmm hmmhmm hmmhmm hmmoh hmmhmm hmmhmm hmmhmm hmmoh hmmhmm hmmhmm hmmhmm hmmhmmhmmhmm all winter we got carried away over on the rooftops let's get married all summer we just hurried so come over just be patient and don't worry so come over just be patient and don't worry so come over just be patient and don't worry and don't worry   no i don't want a battle from beginning to end i don't want a cycle of recycled revenge i don't wanna follow death and all of his friends  no i don't want a battle from beginning to end i don't want a cycle of recycled revenge i don't wanna follow death and all of his friends one two   steal my heart and hold my tongue i feel my time my time has come let me in unlock the door i've never felt this way before   and the wheels just keep on turning the drummer begins to drum i don't know which way i'm going i don't know which way i've come   hold my head inside your hands i need someone who understands i need someone someone who hears for you i've waited all these years  hook for you i'd wait 'til kingdom come until my day my day is done and say you'll come and set me free just say you'll wait you'll wait for me   in your tears and in your blood in your fire and in your flood i hear you laugh i heard you sing i wouldn't change a single thing   and the wheels just keep on turning the drummers begin to drum i don't know which way i'm going i don't know what i've become  hook for you i'd wait 'til kingdom come until my day my day is done and say you'll come and set me free just say you'll wait you'll wait for me  just say you'll wait you'll wait for me wait for your call love the call never came ready to fall up ready to claim i'm ready for it all love ready for the pain meet under sun and meet me again in the rain in the rain in the rain the rain   behind the walls love i'm trying to change and i'm ready for it all love i'm ready for the change meet me in blue sky meet me again in the rain the rain the rain the rain the rain   got to find yourself alone in this world to find yourself alone game of what now  i'm a rastafarian targaryen i got some dragons and they're very scary and been here and there and then i've been everywhere again rastafarian targa call me daenerys targaryen when you wanna reach me and if you feel the love then you can call me khaleesi got so many names i'm queen of the andals queen of the meereen yeah  you can kiss m' sandals in a haze a stormy haze i'll be round i'll be loving you always always  here i am and i'll take my time here i am and i'll wait in line always always duction   written in graffiti on a  in a park do you ever get the feeling that youre missing the mark it's so cold it's so cold it's so cold it's so cold written up in marker on a factory sign i struggle with the feeling that my life isnt mine it's so cold it's so cold it's so cold it's so cold see the arrow they shot trying to tear us apart take the fire from my belly and the beat from my heart still i wont let go still i wont let go of you 'cause you do  hook oh you use your heart as a weapon and it hurts like heaven   on every street every car every surface a name tonight the streets are ours and were writing and saying dont let 'em take control no we wont let 'em take control yes i feel a little bit nervous yes i feel nervous and i cannot relax how come theyre out to get us how come theyre out when they dont know the facts so on a concrete canvas under cover of dark on a concrete canvas ill go making my mark armed with a spraycan soul ill be armed with a spraycan soul and you oh you  hook 'cause you use your heart as a weapon and it hurts like heaven      yeah it's true when you use your heart as a weapon then it hurts like heaven oh it hurts like heaven ahhmm    joseph rode in on a beam of light stray dogs to welcome him fights corrugate cathedrals the\\u2005sight\\u2005of the pilgrims\\u2005going nowhere in millions of cars    lagos\\u2005a dream in the distance from promises he'd made behind where there was no harvest but he missed the sky and its circus and countless the stars    in africa the rivers are perfectly deep and beautifully wide in africa the mothers will sing you to sleep and say it's alright child it's alright   yeah ahhmm ahhmm    and tiwa savage  in africa we dance in the water and hold each other so tight in africa the mothers will sing you to sleep and say it's alright child it's alright    joseph rode in on a beam of light and dreamed of his queen by his side there'll be a beautiful sunset and you'll be a beautiful bride some saw the sun some saw the smoke some heard the gun some bent the bow sometimes the wire must tense for the note caught in the fire say oh we're about to explode   carry your world i'll carry your world carry your world i'll carry your world   some far away some search for gold some dragon to slay heaven we hope is just up the road show me the way lord 'cause i i'm about to explode   carry your world i'll carry your world carry your world i'll carry your world   carry your world and all your hurt carry your world i wanna live life and never be cruel i wanna live life and be good to you and i wanna fly and never come down and live my life and have friends around   we never change do we no no we never learn do we   so i wanna live in a wooden house i wanna live life and always be true i wanna live life and be good to you and i wanna fly and never come down and live my life and have friends around   we never change do we no no we never learn do we   so i wanna live in a wooden house where making more friends would be easy oh and i don't have a soul to save yes and i sin every single day   we never change do we we never learn do we   so i wanna live in a wooden house where making more friends would be easy i wanna live where the sun comes out tony was a friend of mine we were together all the time he had my back once he\\u2005really\\u2005saved my life  pre sometimes\\u2005i wanna call him say hey let's\\u2005stay up 'til morning   and when i close my eyes when i close my eyes i see you you when i close my eyes when i close my eyes you come through you time just deepens sweetens and mends old friends   we all melt back into the picture raindrops back into the water old friends hmm hmm and there are no ends to old friends amen take it from the playgrounds and take it from the bums take it from the hospitals\\u2005and\\u2005squeeze it from\\u2005the slums all the kids make pistols\\u2005with their fingers and their thumbs advertise a revolution arm it when it comes we're cooking up the zeros we've been doing all the sums the judgment of this court is we need more guns  refrain stop   everything's gone so crazy everything tangled in blue everyone's gone fucking crazy maybe i'm crazy too   melt down all the trumpets all the trombones and the drums who needs education or a thousand splendid suns poor is good for business cut the forests they're so dumb only save your lookalikes and fuck the other ones it's the opinion of this board that we need more guns  refrain stop   everything's gone so crazy everybody but you everything's gone fucking crazy maybe i'm crazy too baby it's been a long time coming such a long long time and i can't stop running such a long long time can you hear my heart beating can you hear that sound 'cause i can't help thinking and i won't stop now   and then i looked up at the sun and i could see oh the way that gravity pulls on you and me and then i looked up at the sky and saw the sun and the way that gravity pushes on everyone on everyone   baby when your wheels stop turning and you feel let down and it seems like troubles have come all around i can hear your heart beating i can hear that sound but i can't help thinking and i won't look now   and then i looked up at the sun and i could see oh the way that gravity pulls on you and me and then i looked up at the sky and saw the sun and the way that gravity pushes on everyone on everyone   on everyone on everyone on everyone on everyone break  coleman barks this being human is a guest house every morning a new arrival a joy a depression a meanness some momentary awareness comes as an unexpected visitor welcome and entertain them all be grateful for whoever comes because each has been sent as a guide what if there was no light nothing wrong nothing right what if there was no time and no reason or rhyme what if you should decide that you don't want me there by your side that you don't want me there in your life   what if i got it wrong and no poem or song could put right what i got wrong or make you feel i belong what if you should decide that you don't want me there by your side that you don't want me there in your life  hook oooooh that's right let's take a breath jump over the side oooooh that's right how can you know it if you don't even try oooooh that's right   every step that you take could be your biggest mistake it could bend or it could break but that's the risk that you take what if you should decide that you don't want me there in your life that you don't want me there by your side  hook oooooh that's right let's take a breath jump over the side oooooh that's right how can you know it when you don't even try oooooh that's right   oh oooooh that's right let's take a breath jump over the side oooooh that's right you know that darkness always turns into light oooooh that's right i awake to find no peace of mind i said how do you live as a fugitive down here where i cannot see so clear i said what do i know show me the right way to go   and the spies came out of the water but you're feeling so bad 'cause you know that the spies hide out in every corner but you can't touch them no 'cause they're all spies they're all spies   i awake to see that no one is free we're all fugitives  look at the way we live down here i cannot sleep from fear no i said which way do i turn oh i forget everything i learn   and the spies came out of the water and you're feeling so bad 'cause you know that the spies hide out in every corner but you can't touch them no 'cause they're all spies they're all spies   and if we don't hide here they're gonna find us and if we don't hide now they're gonna catch us where we sleep ah and if we don't hide here they're gonna find us   and the spies came out of the water but you're feeling so good 'cause you know that those spies hide out in every corner they cant touch you no 'cause they're just spies   they're just spies they're just spies they're just spies they're just spies those who are dead are not dead they're just living in my head and since i fell for that spell i am living there as well oh   time is so short and i'm sure there must be something more  those who are dead are not dead they're just living in my head oh and since i fell for that spell i am living there as well oh   time is so short and i'm sure there must be something more   you thought you might be a ghost you thought you might be a ghost you didn't get to heaven but you made it close you didn't get to heaven but you made it close you thought you might be a ghost you thought you might be a ghost you didnt get to heaven but you made it close you didnt get to heaven but you ohohooh ohohooh oh oh   those who are dead are not dead they're just living in my head so i race for it   stare into darkness staring at doom my heart boom bboom boom stare into darkness admit defeat comin' home and i'm finding no peace  pre and i know and i know and i know i know i'm unlocked and i know and i know and i know i know what you've got   so i put my hands up to the sky i feel alive you've got a rocket ship that i wanna ride put my hands up to the sky that's alright wherever you are i'll find that treasure so i race for it wherever you are i'll find that treasure so i race for it   stare into darkness staring at doom you make my heart go boom bboom boom superhero a masterpiece been innocent but a sinner in me  pre and i know and i know and i know i know i'm in love and i know and i know and i know i know when i'm lost   i just put my hands up to the sky feeling like got a rocket ship that i wanna ride put my hands up to the sky feeling inside wherever you are i'll find that treasure put my hands up to the sky feeling like i've got a rocket eyes on the prize put my hands up to the sky i'm gonna find wherever you are i'll find that treasure so i race for it wherever you are i'll find that treasure so i race for it yeah yeah wherever you are i'll find that treasure   so i race for it and i know and i know and i know i know what i've got so i race for it x marks the spot so i put my hands up to the sky i feel like i've got a rocket ship that i wanna ride put my hands up to the sky feel it inside wherever you are i'll find that treasure put my hands up to the sky feeling like yeah yeah i got a rocket eyes on the prize put my hands up to the sky i'm gonna find wherever you are i'll find that treasure yeah yeah wherever you are lovers in japan   lovers keep on the road you're on runners until the race is run soldiers you've got to soldier on sometimes even the right is wrong   they are turning my head out to see what i'm all about keeping my head down to see what it feels like now but i have no doubt one day we're gonna get out   tonight maybe we're gonna run dreaming of the osaka sun ooooh ooooh ooh dreaming of when the morning comes   they are turning my head out to see what i'm all about keeping my head down to see what it feels like now but i have no doubt one day the sun will come out  reign of love   one two three   reign of love i can't let go to the sea i offer this heavy load locust wind lift me up i'm just a prisoner in a reign of love   locust wind here i stop how i wish i'd spoken up to a reign of love   reign of love by the church we're waiting reign of love on my knees go praying how i wish i'd spoken up away get carried on a reign of love you cut me down a tree and brought it back to me and that's what made me see where i was going wrong you put me on a shelf and kept me for yourself i can only blame myself you can only blame me    and i could write a song a hundred miles long well that's where i belong and you belong with me and i could write it down or spread it all around get lost and then get found or swallowed in the sea   you put me on a line and hung me out to dry and darling that's when i decided to go see you cut me down to size and opened up my eyes made me realize what i could not see    and i could write a book the one they'll say that shook the world and then it took it took it back from me and i could write it down or spread it all around get lost and then get found and you'll come back to me not swallowed in the sea   ooh ah ooh ah    and i could write a song a hundred miles long well that's where i belong and you belong with me the streets you're walking on a thousand houses long well that's where i belong and you belong with me  breakdown oh what good is it to live with nothing left to give forget but not forgive not loving all you see all the streets you're walking on a thousand houses long well that's where i belong and you belong with me not swallowed in the sea   you belong with me not swallowed in the sea yeah you belong with me not swallowed in the sea my song is love love to the loveless shown and it goes on you don't have to be alone   your heavy heart is made of stone and it's so hard to see you clearly you don't have to be on your own you don't have to be on your own  hook and i'm not gonna take it back and i'm not gonna say i don't mean that you're the target that i'm aiming at can i get that message home   my song is love my song is love unknown but i'm on fire for you clearly you don't have to be alone you don't have to be on your own  hook and i'm not gonna take it back and i'm not gonna say i don't mean that you're the target that i'm aiming at and i'm nothing on my own got to get that message home   and i'm not gonna stand and wait i'm not gonna leave it until it's much too late on a platform i'm gonna stand and say that i'm nothing on my own and i love you please come home   my song is love is love unknown and i've got to get that message home and the hardest part was letting go not taking part was the hardest part and the strangest thing was waiting for that bell to ring it was the strangest start  hook i could feel it go down bittersweet i could taste in my mouth silver lining the clouds oh and i i wish that i could work it out   and the hardest part was letting go not taking part you really broke my heart oh and i tried to sing but i couldn't think of anything and that was the hardest part oh oh  hook i can feel it go down you left the sweetest taste in my mouth you're a silver lining the clouds oh and i oh and i i wonder what it's all about  i wonder what it's all about   everything i know is wrong everything i do it just comes undone and everything is torn apart oh and that's the hardest part that's the hardest part yeah that's the hardest part that's the hardest part oh morning come bursting the clouds amen lift off this blindfold let me see again bring back the water let your ships roll in in my heart she left a hole the tightrope that im walking just sways and ties the devil as hes talking with those angels eyes and i just want to be there when the lightning strikes and the saints go marching in   and sing slow it down through chaos as it swirls it's us against the world   like a river to a raindrop i lost a friend my drunken hazard daniel in a lion's den and tonight i know it all has to begin again so whatever you do dont let go and if we could float away fly up to the surface and just start again lift off before trouble just erodes us in the rain just erodes us in the rain just erodes us and see roses in the rain saying   slow it down slow it down through chaos as it swirls it's us against the world   through chaos as it swirls it's us against the world  the talk among the skeletons this morning aside from all the medicine and health if you could\\u2005do\\u2005it all again\\u2005would you do it all the\\u2005same is there something that you'd tell your former self  there were those that wished they'd spun upon the jukebox there were pirates who had never seen the sea but the one recurring theme the one recurring dream they had was to be whatever they wanted to be     will champion to be pyotr tchaikovsky to be free and like everyone else there will be no flags to own me no 'cause i just want to be myself    julie telephoning by a ouija is there any advice that you could give when you know you're not like them do you know la varsovienne i know that i am living but can you show me how to live     will champion and the holy roman army said your heart beats like everyone else but you don't need no flags to tell you who you are so say i just want to be myself''  interlude  lalalala lalalala lalalala lalalala lalalala lalalala lalalala lalalala lalalala lalalala lalalala lalalala     will champion there's an aura that surrounds thee there's a different kind of wealth and i don't need flags to know you're really something and i just love you for yourself oh i just love you for yourself    lalalala lalalala lalalala lalalala lalalala lalalala lalalala lalalala lalalala there's a wild wind blowing down the corner of my street every night there the headlights are glowing there's a cold war coming on the radio i heard baby it's a violent world   love don't let me go won't you take me where the street lights glow i can hear it coming i can hear the siren sound now my feet won't touch the ground   time came acreeping and time's a loaded gun every road is a ray of light it goes on time only can lead you on still it's such a beautiful night   love don't let me go won't you take me where the street lights glow i can hear it coming like a serenade of sound now my feet won't touch the ground   gravity release me and don't ever hold me down now my feet won't touch the ground when i counted up my demons saw there was one for every day with the good ones on my shoulders i drove the other ones away   so if you ever feel neglected and if you think that all is lost i'll be counting up my demons yeah hoping everything's not lost   when you thought that it was over you could feel it all around and everybody's out to get you don't you let it drag you down   'cause if you ever feel neglected and if you think that all is lost i'll be counting up my demons yeah hoping everything's not lost  if you ever feel neglected if you think that all is lost i'll be counting up my demons yeah hoping everything's not lost   singing out oh oh oh yeah oh oh yeah oh oh yeah everything's not lost  so come on yeah oh oh yeah come on yeah and everything's not lost  oh oh yeah oh oh yeah oh oh yeah and everything's not lost  come on yeah oh oh yeah come on yeah  come on yeah oh oh yeah come on yeah and everything's not lost  sing out yeah oh oh yeah come on yeah and everything's not lost  come on yeah oh oh yeah sing out yeah and everything's not lost  now i never meant to do you wrong that's what i came here to say but if i was wrong then i'm sorry i don't let it stand in our way cause my head just aches when i think of the things that i shouldn't have done but life is for living we all know and i don't want to live it alone  sing out  ah ah sing ah ah ah and just sing ah ah ah ah ah  iohiohi drunk so high so high    oh angel sent from up above you know you make my world light up when i was down when i was hurt you came to lift me up life is a drink and love's a drug oh now i think i must be miles up when i was a river dried up you came to rain a flood    iohiohi got me feeling drunk and high so high so high high ohiohiohi now im feeling drunk and high so high so high so high high high high    oh angel sent from up above i feel you coursing through my blood life is a drink and your love's about to make the stars come out  pre   beyoncé drink from me drink from me poured on a symphony when i'm low low low low    iohiohi got me feeling drunk and high so high so high high ohiohiohi now im feeling drunk and high so high so high so high high high high   beyoncé iohiohi la la la la la la so high so high iohiohi i'm feeling drunk and high so high so high     beyoncé that i shoot across the sky that i shoot across the that i shoot across the sky let me shoot across the let me shoot across the let me shoot across the sky let me shoot across the let me shoot across the sky that we shoot across the so you lost your trust and you never should have and you never should have but don't break your back if you ever see this but don't answer that   in a bulletproof vest with the windows all closed i'll be doing my best i'll see you soon in a telescope lens and when all you want is friends i'll see you soon   so they came for you they came snapping at your heels they come snapping at your heels but don't break your back if you ever hear this but don't answer that   in a bulletproof vest with the windows all closed i'll be doing my best i'll see you soon in a telescope lens and when all you want is friends i'll see you soon i'll see you soon   i know you lost your trust i know you lost your trust i know don't lose your trust i know you lost your trust from up above i heard the angels sing to me these words and sometimes in your eyes i see the beauty in the world   oh now i'm floating so high i blossom and die send your storm and she lightning to strike me between the eyes eyes   sometimes the stars decide to reflect in puddles in the dirt when i look in your eyes i forget all about what hurts   oh now i'm floating so high i blossom and die send your storm and your lightning to strike me between the eyes and cry  believe in miracles   oh hey i'm floating up above the world now oh hey i'm floating up above the world now oh yeah yeah yeah holy holy dove descend soft and slowly when i'm near the end holy holy dark defend shield me show me when i\\u2005need\\u2005a friend   slowly slowly violence\\u2005end love reign o'er me when i need\\u2005a friend   hombre mire ah propiamente para toda la gente ha sido motivo de burla por que todo el mundo piensa que es una cosa imposible que es cuestión de locos el problema es que todo es increíble y la gente no lo acepta ambience  poem because each has been sent as a guide in a world gone wrong i shall be strong wonder of the world power of the people i\\u2005will\\u2005not want my faith\\u2005is strong wonder of the world power\\u2005of the people   our world tonight get it right holding on to the steeple our world tonight i'm off in light wonder of the world power of the people   oohoohooh oohoohoohooh oohoohoohooh oohoohoohooh scared of losing all the time he wrote it in a letter he was a friend of mine he heard you could see your future inside a glass of water the ripples and the lines and he asked will i see heaven in mine that is just the way it was nothing could be better and nothing ever was oh they say you can see your future inside a glass of water the riddles and the rhymes will i see heaven in mine oh oh oh   son don't ask neither half full nor empty is your glass cling to the mast spend your whole life living in the past going nowhere fast   so he wrote it on a wall the hollowest of halos is no halo at all television selling plastic figurines of leaders saying nothing at all and you chime stars in heaven align oh oh oh   son don't ask neither half full nor empty is your glass cling to the mast spend your whole life living in the past going nowhere fast   and what are we drinking when we're done glasses of water slip inside the eye of your mind don't you know you might find a better place to play you said that you'd never been but all the things that you've seen they slowly fade away  pre so i start a revolution from my bed cause you said the brains i had went to my head step outside summertime's in bloom stand up beside the fireplace take that look from off your face cause you ain't ever gonna burn my heart out   and so sally can wait she knows it's too late as we're walking on by her soul slides away but don't look back in anger i heard you say   take me to the place where you go where nobody knows if it's night or day please don't put your life in the hands of a rock'n'roll band who'll throw it all away  pre i'm gonna start a revolution from my bed cause you said the brains i had went to my head step outside the summertime's in bloom stand up beside the fireplace take that look from off your face cause you ain't ever gonna burn my heart out   and so sally can wait she knows it's too late as she's walking on by my soul slides away but don't look back in anger i heard you say   so sally can wait she knows it's too late as we're walking on by her soul slides away but don't look back in anger i heard you say  so sally can wait she knows it's too late as she's walking on by my soul slides away but don't look back in anger don't look back in anger i heard you say   at least not today you're in control is there anywhere you wanna go you're in control is there anything you wanna know the future's for discovering the space in which we're travelling  hook from the top of the first page to the end of the last day from the start in your own way you just want somebody listening to what you say it doesn't matter who you are   under the surface trying to break through deciphering the codes in you i need a compass draw me a map i'm on the top i can't get back whoah woah  hook first line of the first page to the end of the last day you were looking from the start in your own way you just want somebody listening to what you say it doesn't matter who you are it doesn't matter who you are   oooh you just want somebody listening to what you say you just want somebody listening to what you say it doesn't matter who you are it doesn't matter who you are   is there anybody out there who is lost and hurt and lonely too are they bleeding all your colours into one and if you come undone as if you'd been run through some catapult it fired you you wonder if your chance will ever come well if you're stuck in square one can anybody fly this thing before my head explodes or my head starts to ring  we've been living life inside a bubble we've been living life inside a bubble   confidence in you is confidence in me is confidence in high speed   can anybody stop this thing before my head explodes or my head starts to ring  we've been living life inside a bubble we've been living life inside a bubble   confidence in you is confidence in me is confidence in high speed   in high speed high speed  high speed you on high speed you on high speed you on high speed you on when it started we had high hopes now my back's on the line my back's on the ropes when it started we were alright but night makes a fool of us in the daylight  then we were dying of frustration saying lord lead me not into temptation but its not easy when she turns you on sin stay gone  hook if youd only if youd only say yes whether you will's anybodys guess god only god knows i'm trying my best but im just so tired of this loneliness  hey   so up they picked me by the big toe i was held from the rooftop then they let go dizzily screaming let the windows down as i crawl to the ground  hook if you'd only if you'd only say yes whether you will's anybody's guess god only god knows she won't let me rest but i'm just so tired of this loneliness i've become so tired of this loneliness at night they would go walking 'til the breaking of the day the morning is for sleeping through the dark streets they go searching to see god in their own way save the night time for your weeping your weeping   singing lalalalalalalay and the night over london lay   so we rode down to the river where victorian ghosts pray for their curses to be broken we go wander 'neath the arches where the witches are and they say there are ghost towns in the ocean the ocean   singing lalalalalalalay and the night over london lay   god is in the houses and god is in my head and all the cemeteries of london i see god come in my garden but i dont know what he said for my heart it wasnt open not open   singing lalalalalalalay and the night over london lay singing lalalalalalalay theres no light over london today you dont mess around with walder frey dont mess around with you dont mess around with walder frey   if youre here for the wedding of robby stark keep the car running theres no need to park hes not going to make it through the night keep that wedding cake in the fridge he didnt pay me back for using the  im afraid this wedding wont be white  boom boom boom babba dippi dum boom boom boom babba dippi bum   red wedding red wedding lots of stabbing and a bit of beheading the rains of castamere are here to stay red wedding dead wedding a head shredding bloodshed wedding there will be no wedding bedding hey you dont mess around with walder frey when i was a young boy i tried to listen and i wanna feel like that little white shadows blink and miss them part of a system i am   if you ever feel like something's missing things you'll never understand little white shadows sparkle and glisten part of a system a plan   all this noise i'm waking up all this space i'm taking up all this sound is breaking up ohhhhhhhh  hook maybe you'll get what you wanted maybe you'll stumble upon it everything you ever wanted in a permanent state maybe you'll know when you see it maybe if you say it you'll mean it and when you find it you'll keep it in a permanent state a permanent state   when i was a young boy i tried to listen don't you wanna feel like that you're part of the human race all of the stars and the outer space part of the system a plan   all this noise i'm waking up all this space i'm taking up i cannot hear you're breaking up whooaaaaaaa  hook maybe you'll get what you wanted maybe you'll stumble upon it everything you ever wanted in a permanent state maybe you'll know when you see it maybe if you say it you'll mean it and when you find it you'll keep it in a permanent state a permanent state   swim out on a sea of faces tide of the human races oh an answer now is what i need see it in a new sun rising see it break on your horizon oh come on love stay with me still going strong hes still going strong yeah yeah hes still going strong remember ned stark he was a lot of fun so fun but he didnt make it past season one oh no robert baratheon was part of that crew but he never made it to season two the king of the north was cool you said so cool another favorite that ended up dead hes dead you thought that joffrey had to survive he aint in the credits for season five season five baby you know im the man for all seasons characters get cut for various reasons ow ow some peoples parts just aint that long but not me not me not me not me im still going strong hes still going strong could you lend me a hand because ive only got one i miss my fingers like you miss your son are you thinking about joffrey such a spirited lad i was his uncle i was also his dad around the world my heart had to roam now im looking for something a little closer to home closer to home closer to home a family tree with a branch of our own closer to home closer to home ensuring our family stays on the throne the birds they sang the break of day start again i hear them say it's so hard to just walk away the birds they sang all a choir start again a little higher it's a spark in a sea of grey    the sky is blue dreamed that lie 'til it's true then taking back the punch i threw my arms turn wings oh those clumsy things send me up to that wonderful world and then i'm up with the birds   break   might have to go where they don't know my name float all over the world just to see her again but i won't show or feel any pain even though all my armor might rust in the rain    a simple plot but i know one day good things are coming our way a simple plot but i know one day good things are coming our way   oh yeah to my surprise and my delight i saw sunrise i saw sunlight i am nothing in the dark and the clouds burst to show daylight  hook ooh and the sun will shine yeah on this heart of mine ooh and i realize who cannot live without who come apart without it   on a hilltop on a skyrise like a firstborn child on a full day and a full flight defeat darkness breaking daylight  hook ooh and the sun will shine yeah on this heart of mine ooh and i realize who cannot live without who come apart without   daylight  slowly breaking through the daylight x you see the world in black and white no color or light you think you'll never get it right but you're wrong you might the sky could fall could fall on me the parting of the seas but you mean more mean more to me than any color i can see  hook all you ever wanted was love but you never looked hard enough it's never gonna give itself up all you ever wanted to be living in perfect symmetry nothing is as down or up as us as us   you see the world in black and white not painted right you see no meaning to your life you should try you should try  hook all you ever wanted was love but you never looked hard enough it's never gonna give itself up all you ever wanted to be living in perfect symmetry nothing is as down or up as us   and don't you wanna see it come soon floating in a big white balloon or given on your own silver spoon don't you wanna see it come down there for throwing your arms around and say you're not a moment too soon   cause i feel low cause i feel low oh oh oh oh oh yeah i feel low oh no oh oh cause i feel low cause i feel low oh oh oh oh oh but i feel low oh no oh i i wish you could swim like the dolphins like dolphins can swim though nothing nothing will keep us together we can beat them forever and ever oh we can be heroes just for one day  i i will be king and you you will be queen though nothing will drive them away we can be heroes just for one day we can be us just for one day   i i can remember i remember standing by the wall by the wall and the guns shot above our heads over our heads and we kissed as though nothing could fall nothing could fall and the shame was on the other side oh we can beat them forever and ever then we could be heroes just for one day  break we can be heroes we can be heroes we can be heroes just for one day we can be heroes and if i lost the map if i lost it all or fell into the trap then she'd call    when you're tired of racing and you found you never left the start come on baby dont let it break your heart   though heavily we bled still on we crawl trying to catch a cannonball and a slow burning tide through my veins is flowing from my shipwreck i heard her call and she sang    when you're tired of aiming your arrows still you never hit the mark ohoh and even in your rains and shadows still we're never gonna part ohoh come on baby dont let it break your heart  hook oh ohoh ohoh oh dont let it break your heart oh ohoh ohoh oh dont let it break your heart   don't let it break your heart on and on you're told which side you're on you're forced you're thrown to become the scythe to cut the corn and all your friends they ride into the sunset fly into the sunset and away they go all your friends they ride into the sunset fly into the sunset and away they're thrown into the fire  ten below call comes in on the radio over you go and red now all the rivers flow the poppies grow  all your friends they ride into the sunset fly into the sunset and away they're blown all your friends they ride into the sunset ride into the sunset and they're taken home open fire open fire  open fire open fire open fire just ride and fire maybe im just a ghost disappear when anybodys close go through you when you try to hold try to hold me near   maybe im just a ghost emptier than anybody knows maybe im on the ropes or im not even here yeah    every time i try to walk through walls more walls appear what's the point in feeling love for you when you don't believe i'm here what's the point in trying to raise your voice if no one ever hears every time i try to pull you close you disappear   maybe i'm a ghost just a whisper in a puff of smoke a secret that nobody knows no one will ever hear  4 oh maybe i'm a ghost specter of the wrong curse a thorn without a rose something people fear yeah    and every time i thought i walked through walls its all becoming clear what's the point in feeling love for you when you don't believe i'm here what's the point in saying rescue me if no one ever hears every time i try to pull you close you disappear every time i try to pull you close you disappear    and every time i thought i walked through walls its all becoming clear every time i try to pull you close you disappear every time i try to pull you close you disappear now i never meant to do you wrong that's what i came here to say but if i was wrong then i'm sorry don't let it stand in our way cause my head just aches when i think of the things that i shouldn't have done but life is for living we all know and i don't want to live it alone sing ah ah oh sing ah ah oh and just sing ah ah oh wildling you make my heart sing you pull your bow string and shoot me wildling  wildling i think i love you but i wanna know for sure i want to take you into that cave and kiss you down there 'cause i've never done it before yeah  wildling fall asleep fall asleep sleep and you'll be satisfied sleep and you'll be satisfied fall asleep fall asleep sleep and you'll be satisfied sleep and you'll be satisfied   sleep sleep sleep and you'll be sleep sleep sleep and you'll be satisfied sleep and you'll be satisfied   fall asleep fall asleep sleep and you'll be crucified sleep and you'll be crucified fall asleep fall asleep sleep and you'll be satisfied sleep and you'll be satisfied   sleep sleep sleep and you'll be sleep sleep sleep and you'll be satisfied sleep and you'll be satisfied la la la la la la la la la la la la la la la la la la la la la la la la la la la la la la la la i just can't get you out of my head boy your loving is all i think about i just can't get you out of my head boy it's more than i dare to think about la la la la la la la la la la la la la la la la i just can't get you out of my head boy your loving is all i think about i just can't get you out of my head boy it's more than i dare to think about every night every day just to be there in your arms won't you stay won't you stay stay forever and ever and ever ah ah la la la la la la la la la la la la la la la la la la la la la la la la la la la la la la la la i just can't get you out of my head boy your loving is all i think about i just can't get you out of my head boy it's more than i dare to think about there's a dark secret in me don't leave me lost in your arms set me free feel the need in me set me free stay forever and ever and ever ah ah la la la la la la la la la la la la la la la la la la la la la la la la la la la la la la la la i just can't get you out of my head la la la la la la la la and in the end we lie awake and we dream of making our escape and in the end we lie awake and we dream of making our escape oooh so it's over this time i know it's gone saltwater tasted it too long i only know i'm wrong now i know it's gone  hook up in flames up in flames up in flames we have slowly gone   so it's over this time you're flying on this time i know no song can't stop its lonely burn can't stop it slowly going  hook up in flames up in flames up in flames we have slowly gone  hook up in flames up in flames up in flames we have slowly gone oh we have slowly gone   can we pour some water on thank you everybody   i'll sing myself to sleep a song from the darkest hour secrets i can't keep inside of the day so sit down oh sit down oh sit down sit down next to me sit down down down down down in sympathy oh sit down oh sit down oh sit down sit down next to me sit down down down down down   when you try your best but you don't succeed when you get what you want but not what you need when you feel so tired but you can't sleep stuck in re  when the tears come streaming down your face when you lose something you can't replace when you love someone but it goes to waste could it be worse   lights will guide you home and ignite your bones and i will try to fix you   and high up above or down below when you're too in love to let it go but if you never try you'll never know just what you're worth   lights will guide you home and ignite your bones and i will try to fix you   tears stream down your face when you lose something you cannot replace tears stream down your face and i tears stream down your face i promise you i will learn from my mistakes tears stream down your face and i   lights will guide you home and ignite your bones and i will try to fix you lord i don't know which way i am going which way the river going to flow it just seems that upstream i keep rowing still got such a long way to go still got such a long way to go   then that light hits your eye i know i swear we'll find somewhere the streets are paved with gold bullets fly split the sky but that's alright sometimes sunlight comes streaming through the holes   ooh ooh prospekt's march  smoke is rising from the houses people burying their dead i ask somebody what the time is but time doesn't matter to them yet  people talking without speaking trying to take what they can get i ask you if you remember prospekt how could i forget  drums here it comes don't you wish that life can be as simple as fish swimming round in a barrel when you've got the gun oh when i run here it comes we're just two little figures in a soup bowl trying to get to any kind of control but i wasn't one  now here i lie on my own in a separate sky here i lie on my own in a separate sky i don't wanna die on my own here tonight but here i lie on my own in a separate sky  poppyfields sunlight opened up my eyes to see for the first time it opened them up and tonight rivers will run dry not for the first time rivers will run   hundreds of years in the future there could be computers looking for life on earth don't fight for the wrong side say what you feel like say how you feel   you go backwards but then you go forwards again you go backwards but then you go   created then drilled and invaded if somebody made it someone will mess it up and you are not wrong to ask who does this belong to it belongs to all of us   you go backwards but then you go forwards again you go backwards but then you go forwards you go backwards but then you go forwards again you go backwards but then you go forwards piano     oh they say people come say people go this particular diamond was extra special and though you might be gone and the world may not know still i see you celestial and i should but i cant let you go     but when im cold cold when im cold cold theres a light that you give me when im in shadow theres a feeling within me everglow    like brothers in blood sisters who ride ye' we swore on that night wed be friends 'til we die but the changing of winds and the way waters flow life is short as the falling of snow and now im gonna miss you i know     but when im cold cold in water rolled salt and i know youre always with me and the way you will show and youre with me wherever i go and you give me this feeling this everglow    oh what i wouldn't give for just a moment to hold because i live for this feeling this everglow    so if you love someone you should let them know oh the light that you left me will everglow  piano   spokenword  muhammad ali god is watching me god don't praise me because i beat joe frazier god don't give nothing about joe frazier god don't care nothing about england or america as far as real wealth it's all his he wants to know how do we treat each other how do we help each other so i'm going to dedicate my life to using my name and popularity to helping charities helping people uniting people people bombing each other because of religious beliefs we need somebody in the world to help us all make peace so when i die  if there's a heaven  i'm gonna see it hook a whisper a whisper a whisper a whisper a whisper a whisper a whisper a whisper i hear a sound the ticking of clocks i remember your face who remembers you when you are gone i hear the sound the ticking of clocks come back and look for me look for me when i am lost just a whisper a whisper a whisper a whisper just a whisper a whisper a whisper a whisper   night turns to day and i still have these questions s will break should i go forward or backwards night turns to day and i still get no answers  hook just a whisper a whisper a whisper a whisper just a whisper a whisper a whisper a whisper i hear a sound the ticking of clocks i remember your face remember to see when you are lost i hear the sound the ticking of clocks come back and look for me look for me when i am lost just a whisper a whisper a whisper a whisper just a whisper a whisper a whisper a whisper they got one eye watching you one eye on what you do so be careful who it is you're talking to they got one eye watching you one eye on what you do so be careful what it is you're trying to do and be careful when you're walking into view just be careful when you're walking into view  hook oohoohooh oohoohoohooh got one eye on the road and one on you oohoohooh oohoohoohooh got one eye on the road and one on   they got one eye watching you and one eye on what you do so be careful 'cause nothing they say is true no don't believe a word it's just us against the world and we just got to turn up to be heard hear the crocodiles ticking 'round the world hear those crocodiles ticking they go ticking 'round the world  hook oohoohooh oohoohoohooh got one eye on the road and one on you oohoohooh oohoohoohooh got one eye on the road and one on   you could hear them climbing the stairs got my right side fighting while my left hides under the chairs  hook oohoohooh oohoohoohooh got one eye on the road and one on you oohoohooh oohoohoohooh got one eye on the road and one on wise men say looks like rain today crackled on the speakers and trickled down the steepy subway trains heavy eyes could hardly hold us aching legs that often told us it's all worth it we all fall in love sometimes   the full moon's bright starlight filled the evening we wrote it and i played it something's happened it's so strange this feeling  naive notions that were childish simple tunes that tried to hide it but when it comes we all fall in love sometimes   did we didn't we should we couldn't we i'm not sure 'cause sometimes we're so blind struggling through the day when even your best friend says don't you find we all fall in love sometimes   wise men say looks like rain today crackled on the speakers trickled down the sleepy subway trains heavy eyes could hardly hold us aching legs that often told us it's all worth it we all fall in love sometimes   we all fall in love sometimes we all fall in love sometimes we all fall in love sometimes if you're lost and feel alone circumnavigate the globe all you ever have to hope for two and the way you seem to float circumnavigate in hope and they seem to lose control with you   ooh ooh ooh ooh everyone of us is hurt and everyone of us is scarred everyone of us is scared not you   your eyes closed your head hurts your eyes feel so low   ooh ooh ooh ooh everyone of us is scared everyone of us is hurt everyone of us has hope all for you for you for you for you for you for you for you for you for you for you for you version of the game of thrones opening   to the tune of the got opening  there are starks and there are lannisters   and kardashians and of   will champion uh it's targaryens idiot     and targaryens and of course there's some unknowns   welcome to the crazy wacky world of  game of thrones   will champion  nice i like it    thanks man cool  liam neeson narration in an exclusive red nose day revelation we've discovered that the british band coldplay are secretly working on a musical of tv sensation game of thrones   this is the best idea we've ever had  and vocals  bom bom bom  baba dobodom   speaks while music continues in background it's just been the most amazing creative outpouring   trust me all  bom bom bom baba dobodom  will champion wait wait how many poppadoms they're babadoms  narration the band had been longtime fans of the show and bearded drummer will champion actually took time off at one point to act in the famous 'red wedding' episode they've gathered in the henson recording studio in los angeles to work up the 6 songs required for a full broadway stage production  keyboard will champion  nice have you got any lyrics   yeah  singing closer to home  around the world my heart had to roam   mark addy well when i first heard about it i was er a little bit sceptical but now i'm completely convinced it's a horrible idea    continued  closer to hooome   diana rigg it's the worst idea i've ever heard    continued  a family tree    music continues as female voiceover begins emilia clarke one word that springs to mind when i'm thinking about this project is titanic but not in terms of the successful movie uh in terms of the unsuccessful boat    singing  closer to home  band plays 'red wedding ' piano music cut to rak studios london narration finally after months of writing and planning chris has invited along the entire cast of game of thrones to recruit them into the live broadway show   fella's how ya doin'   i had a moment of inspiration it was a flash of genius  get the whole cast to come in everyone thought it was a brilliant idea so that's what's happening it's a big day big day for us  narrator all the actors are gathering to hear the songs performed for the first time camera pans the chairs are empty well not all of them  outside of iwan rheoon and mark addy more  two  mark addy i was told sean bean was gonna be here he owes me a fiver  iwan rheon well no i don't think it is quite as many as the band would have hoped but  still a very exciting day    this is called rastafarian targaryen band plays rastafarian targaryen reggae music  yep  yayayaya   i'mma rastafarian targaryen   i got some dragons and they're pretty scaryen   interviewer so chris how you think it's going  stunning stunning  people are literally stunned interviewer and what if some of them can't sing  well the funny thing is they can sing   a two three four cut to the band playing red wedding while ewan and mark sing along  bom bom bom baba  robert robert snappy come on mark addy no no isorry sorry jonny buckland i'm sure he'll come back  well with these things it's always step by step um 50 of the cast seemed really into it so um i think we're onto something really special  piano narrator it's been a slightly disappointing day but then kit harrington hey chris i'm sorry i'm late  oh my god jon snow i knew you'd come kit harington i'd never let you down man  thank you jon snow kit harington it's kit  whispers thank you kit snow kit harington right what we got man band starts to play still going strong   right right more volume please more volume turn it up a bit music in background   singing  still going strong  music continues in the background narrator it's day two of the workshop and suddenly things take a turn for the better with a phone call from jon snow and the offer of free food a huge chunk of the cast have arrived alfie allen walks through the door and sees iwan rheon alfie drops his coat after an intense stare off they suddenly embrace laughing and smiling iwan rheon  hey man good to see you man alfie allen  hi how ya doin' you too iwan rheon  love your shirt mate love your shirt alfie allen  you look great  music clapping narrator it's been a very emotional morning john bradley i'll have the nuggets please dinner lady yep there's one left john bradley oh lovely thomas brodiesangster  ahh  i sense this choice will not end well for you i would suggest the drumsticks john bradley oh oh right well drumsticks it is then apparently cheers thomas brodiesangster  i'll have the nuggets please thank you  band plays wild thing kit harrington sings  wildling   you make my heart sing   you pull your bowstring   and shoot me   wildling   wildling i think i love you   but i wanna know for sure   i wanna take you into that cave and kiss you baby down there   'cause i've never done it before   yeah   wildling   woo   wildling  cheering applause   really really really really good just um one tiny thing on the lings just be careful you're going a little bit flat so  rose leslie no he wasn't you know nothing  rose and kit wink at each other seductively  iwan rheon alfie allen and charlotte hope sing i'm a real bastard iwan rheon singing  if there's one thing theon might have taught you  alfie allen singing  one thing i've taught you  iwan rheon singing  is once i've caught you  alfie allen and charlotte hope singing  once he's caught ya  iwan rheon singing  there will be torture  alfie allen and charlotte hope singing  there will be torture  narrator old wounds are healed as new songs are revealed iwan rheon singing  i'm a real bastard  alfie allen and charlotte hope singing  he's a bit of a bastard  iwan rheon singing  i'm a little more mean  singing together out of tune  a little more mean  iwan rheon singing  than anyone you've ever seen  alfie allen and charlotte hope singing  ever seen ever seen anyone you've ever seen ever seen ever seen    ok so red wedding we're all passionate about this one as you know piano  it starts very serious  you don't mess around with walder frey  all  you don't mess around with walder frey    you don't mess don't mess around with walder frey  all  you don't mess around with walder frey  narrator every style in the musical canon is captured in one day of blazing glory song ends  beautiful nice  plays again singing red wedding with the cast  if you're here for the wedding of robbie stark   keep the car running there's no need to park   he's not going to make it through the niiight   keep that wedding cake in the fridge   you didn't pay me back for using the    i'm afraid this wedding won't be whiiite   bom bom bom baba babadum   red wedding red wedding   lots of stabbing and a bit of beheading   the rains of castamere are here to staaaay   red wedding dead wedding   a head shredding bloodshed wedding   there will be no wedding bedding   hey  you don't mess around with walder frey   bang  curtains  tony award great cheering  narrator news of the success of the workshop spreads like wildfire suddenly everyone is in emilia clarke d'you know what i've never been prouder to be in anything i always knew it was gonna be a triumph george r r martin meets   what could go wrong emilia clarke singing rastafarian targaryen reggae music  game 'a what now ai eh eh   call me daenerys targaryen when you wanna reach me   and if you feel the love then you can call me khaleesi   got so many names i'm queen of the andals   queen of the meereen yeah you can kiss me sandals    and nikolaj costerwaldau singing closer to home  with a branch of our own   nikolaj costerwaldau  the funny  i mean it's i know it's like a musical but i can also hear it like i can hear it in the radio i can hear it everywhere it's like it's a hit   it's a big song it's a big song narrator over piano raw emotion pours out from every corner of the room nikolaj costerwaldau singing closer to home  are you thinking 'bout joffrey such a spirited lad   i was his uncle i was also his dad  narrator it's the first romantic ballad about incest in coldplay's career nikolaj costerwaldau singing around the world my heart had to roam   now im looking for something a little closer to home   closer to home closer to home   a family tree with a branch of our own    to still going strong gets louder narrator the greatest rock opera of all time is coming together peter dinklage singing still going strong with two backup singers  still going strong hes still going strong   yeah yeah hes still going strong   remember ned stark he was a lot of fun so fun   but he didnt make it past season one oh no   some peoples parts just aint very long   but not me not me not me not me   im still going strong hes still going strooong    i can't believe it it's a dream come true everything is come together everyone's on board we just need george r r martin's permission and then we're off he's going to go absolutely crazy poster for game of thrones the musical with the tagline coldplay is coming as the narration returns and chris was right george r r martin did go absolutely crazy the poster gets a huge cancelled banner over it  it's a setback but a lil' bit of this lil' bit of that change some words around i got plenty of other brilliant ideas red wedding  and vocals playing in the background the camera pans past some posters for alternatives for the got musical downtown abbey the opera breaking bad the ballet and taken on ice narrator huh well that's not bad actually liam neeson then appears in his recording booth well better get my skates on then  end ramsay if theres one thing theon mightve taught ya theon one thing ive taught ya ramsay is once ive got ya theon once hes got ya ramsay you will be tortured theon it will be torture  ramsay im a real bastard theon myranda hes a bit of a bastard ramsay and  a little more mean a little more mean than anyone youve ever seen than anyone youve ever seen ever seen there's an old song coming on the radio overrun they got us let the garbage grow tell the kids stop feeling for the refugees cause they're not like you and they're not like me   all of the boys they rock and roll cause they don't wanna talk anymore all of the girls get no say in the world just dismissed kiss their kids off to war the lobby lines the diamond mines don't listen to the people who won it's a beautiful beautiful world   there's a new song coming on the radio frutas florecen en todo el mundo let the flowers all blossom the hummingbirds hum we're all born equal under the same sun someone could be you and you could be someone so do to each other as you would be done   all of the boys they rock and roll cause they don't have to hate anymore all of the girls theyre all over the world the sound of the fourtothefloor and everyone is part of the sum riches will rain on the poor say oh ohoh ohohwhoa it's a beautiful beautiful world  you take the noise or you make the noise so sing it like never before say oh ohoh ohohwaoh it's a beautiful beautiful world beautiful beautiful world are you missing something looking for something tired of everything searching and struggling are you worried about it do you wanna talk about it oh you're gonna get it right sometime   there's so much to be scared of and not much to make sense of are you running in a circle you can't be too careful and you can't relate it 'cause it's complicated oh you're gonna get it right sometime you're gonna get it right sometime   that's how you see the world how many times can you say you can't believe what you heard that's how you see the world don't you worry yourself you're not gonna get hurt oooh   is there something missing is nobody listening are you scared of what you don't know don't wanna end up on your own you need conversation and information oh you're gonna get it right sometimes you just wanna get it right sometimes   that's how you see the world how many times have you heard but you can't believe a word that's how you see the world oh don't you worry yourself 'cause nobody can hurt you   that's how you see the world that's how you see the world   this is probably the best song ever written and he's the best singer in the world mr richard ashcroft ok here we go 'cause it's a bittersweet symphony this life tryin' to make ends meet you're a slave to money then you die i'll take you down the only road i've ever been down you know the one that takes you to the places where all the veins meet yeah you know i can't change i can change i can change i can change but i'm here in my mold i am here in my mold but i'm a million different people from one day to the next i can't change my mold no no no no no have you ever been down have you ever been down well i never pray but tonight i'm on my knees yeah i need to hear some sounds that recognize the pain in me now i let the melody shine let it cleanse my mind i feel free now but the airways are clean and there's nobody singing to me now you know i can't change i can change i can change i can change but i'm here in my mold i am here in my mold but i'm a million different people from one day to the next i can't change my mold no no no no no have you ever been down have you ever been down 'cause it's a bittersweet symphony this life tryin' to make ends meet you're a slave to money then you die i'll take you down the only road i've ever been down you know the one that takes you to the places where all the veins meet yeah you know i can't change i can change i can change i can change but i'm here in my mold i am here in my mold but i'm a million different people from one day to the next i can't change my mold no no no no no have you ever been down have you ever been down i'll take you down the only road i've ever been down i'll take you down the only road i've ever been down ever been down have you ever been down ooh 'cause it's a bittersweet symphony yeah 'cause it's a bittersweet symphony yeah my life your life their lives come take it down the only road i've ever been down 'cause it's a bittersweet symphony yeah this life this life this life thank you flock of birds hovering above just a flock of birds its how you think of love  and i always look up to the sky pray before the dawn cause they fly always sometimes they arrive sometimes they are gone they fly on  flock of birds hovering above into smoke im turned and rise following them up  still i always look up to the sky pray before the dawn cause they fly away one minute they arrive next you know theyre gone they fly on they fly on  oh so fly on ride through maybe one day ill fly next to you fly on ride through maybe one day i can fly with you fly on fly on fly on charlie chaplin i'm sorry but i don't want to be an emperor that's not my business i don't want to rule or conquer anyone i should like to help everyone if possible jew gentile black man white we all want to help one another human beings are like that we want to live by each other's happiness not by each other's misery we don't want to hate and despise one another in this world there's room for everyone and the good earth is rich and can provide for everyone to those who can hear me i say do not despair the misery that is now upon us is but the passing of greed the bitterness of men who fear the way of human progress the hate of men will pass and dictators die and the power they took from the people will return to the people the kingdom of god is within man not one man nor a group of men but in all men in you you the people have the power the power to create machines the power to create happiness you the people have the power to make this life free and beautiful to make this life a wonderful adventure a wonderful adventure   oh i think i landed in a world i hadn't seen when i'm feeling ordinary when i don't know what i mean   oh i think i landed where there are miracles at work for the thirst and for the hunger come the conference of birds   saying it's true it's not what it seems leave your broken windows open and in the light just streams you get a head a head full of dreams you can see the change you wanted be what you want to be and you get a head a head full of dreams into life ive just been woken with a head full a head full of dreams   oh i think i landed where there are miracles at work now you've got me openhanded now you've got me lost for words i sing oh whoa oh oh i sing oh whoa oh oh oh whoa oh oh   full of dreams oh whoa oh oh into life ive just been spoken with a head full a head full of dreams let me go boys let me go push my boat from the highest cliff to the sea below rocks are waiting boys rocks await swoop down from the sky and catch me like a bird of prey  now my feet won't touch the ground now my head won't stop you wait a lifetime to be found now my feet won't touch the ground  singing now my feet won't touch the ground now my head won't stop you wait a lifetime to be found now my feet won't touch the ground now my feet won't touch the ground come on now don't you want to see this thing that's happening to me like moses has power over sea so you've got a power over me  come on now don't you want to know that you're a refuge somewhere i can go and you're air that air that i can breathe you're my golden opportunity  hook and oh oh yes i would if i only could and you know i would and baby i oh baby i i wish   come on now don't you want to see just what a difference you've made to me i'll be waiting no matter what you say and i'll keep waiting for days and days and days  hook i wish   oh oh oh oh oh oh if the sky's gonna fall down let it fall on me if you're gonna break down you can break on me if the sky's gonna fall down let it fall on me oh lord let it fall on me then there was rain the sky wore a veil of gold and green night is the bride of a lonely day time was just floating on then there was rain this sound foundations are crumbling to the ground comes a pyramid tumbling time just floated away we can watch it and stay and we can listen   oh rainy day come round sometimes i just want it to slow down and we're separated now i'm down but i love it when you come over to the house i love it when you come over to my house   then there was rain and i spent the night with the queen of spain my lonely little heart well it broke again time so vicious singing the deeper that the knife goes in the more you win you end up with less than where you begin the deeper that the knife goes in ooooooh   oh rainy day come round sometimes i just want it to slow down and we're separated now i'm down but i love it when you come over to the house i love it when you come over to my house   but i love it when you come over to the house i love it when you come over to my house x somewhere up above the stars the wreckage of a unifloats past somewhere up above my heart a tiny little seed is sown a government is overthrown who knows when we'll be coming home at last   and i heard it on the radio that one day we'll be living in the stars and i heard it on a tv show that somewhere up above and in my heart they'll be tearing us apart maybe moving us to mars we won't see the earth again and the seconds just remain unchanged   8 to 9 9 to 0 we are meeting for the first time we might never meet again you and me we are meeting for the first time can't you see 7 6 5 4  we are meeting for the first time singing this space symphony  shortened  they'll be tearing us apart maybe moving us to mars past the satellites and stars they're moving us to mars i feel safe i feel warm when you're here and i do no wrong i am cured when i'm by your side i'm alright i'm alright   i am safe when i am with you and i feel warm if you want me to i am cured when i'm by your side i'm alright   careful where you stand my love careful where you lay your head it's true we're always looking out for one another   i feel safe when i am with you i feel warm when you want me to i am cured when you are around i'm alright   careful where you stand my love careful where you lay your head it's true we're always looking out for one another   so i like a quiet time please yeah i like a quiet time  ooh ah ooh ah ooh ooh ah ooh ah ooh and careful where you stand and careful where you stand one two three will   i ran away from you that's all i ever do and though i started here i ran away from you i'm going to come on in and see it through   i ran away from you that's all i ever do and when i heard you call to come back to me and though i should stay i don't have the stomach to   everyone i know says i'm a fool to mess with you everyone i know says it's a stupid thing to do i have your love on call and yet my belly is so full there might be nothing left to do so i ran away from you   i'm gonna come on in my eyes were closed i can feel it near the sides so close i'm gonna come on out and burn the sky  4 a star arose in my own cage i stuck in line and in a cage just a single star i sing for   everyone i know says i'm a fool to mess with you everyone i know says it's a stupid thing to do i have your love on call and yet my belly is so full and i did not know what to do and so i ran away from you i picture you in the sun wondering what went wrong and falling down on your knees asking for sympathy and being caught in between all you wish for and all you seen and trying to find anything you can feel that you can believe in  may god's love be with you always may god's love be with you  i know i would apologize if i could see in your eyes 'cause when you showed me myself i became someone else but i was caught in between all you wish for and all you need i picture you fast asleep a nightmare comes you can't keep awake  may god's love be with you always always may god's love be with you  'cause if i find if i find my own way how much will i find if i find if i find my own way how much will i find you you i found you you  i don't know anymore what it's for i'm not even sure if there's anyone who is in the sun will you help me to understand  'cause i been caught in between all you wish for and all you need maybe you're not even sure what it's for any more than me  may god's love be with you always may god's love be with you always always may god's love be with you  'cause if i find if i find my own way how much will i find if i find if i find my own way how much will i find if i find if i find my own way how much will i find you you i found you you oh i found you you oh i found you in the darkness before the dawn in the swirling of the storm when i'm rolling with the punches and hope is gone leave a light a light on  millions of miles from home in the swirling swimming on when i'm rolling with the thunder but bleed from thorns leave a light a light on leave a light a light on i wanna be bigger stronger drive a faster car to take me anywhere in seconds to take me anywhere i wanna go and drive around a faster car i will settle for nothing less i will settle for nothing less   i wanna be bigger stronger drive a faster car at the touch of a button i can go anywhere i wanna go and drive around a faster car i will settle for nothing less i will settle for nothing less   i think i want to change my altitude i think i want to change my oxygen i think i want to change my air my atmosphere i wanna recharge   i wanna be bigger stronger drive a faster car to take me anywhere in seconds to take me anywhere i wanna go and drive around my faster car i will settle for nothing less i will settle for nothing less   i think i need to change my attitude i think i want to change my oxygen i think i want to change my air my atmosphere i wanna recharge   bigger and better bigger and better bigger and better bigger and better bigger stronger drive a faster car at the touch of a button i can go anywhere i wanna go stuck here in the middle of nowhere with a headache and a heavy heart oh well nothing was going quite right here and i'm tired i can't play my part   come on come on oh what a state i'm in come on come on why won't it just sink in that help is just around the corner for us   oh my head just won't stop achin' and i'm sat here lickin' my wounds and i'm shattered but it really doesn't matter cos my rescue is gonna be here soon   come on come on oh what a state i'm in come on come on why won't it just sink in help is just around the corner for us that help is just around the corner for us oh that help is just around the corner for us brothers and sisters unite it's the time of your lives it's the time of your lives breakdown breakdown gotta spread love around gotta spread it around   brothers and sisters feel fine it's the time of your lives it's the time of your lives there's no sound no sound like this feeling you found like this feeling you found but just stay down   'cause sometimes you'll feel so stay down sometimes you feel  post and it's me they're looking for and it's me i will never survive but we'll be around so long   brothers and sisters unite it's the time of your lives it's the time of your lives breakdown breakdown got to spread love around got to spread it around but just stay down   and sometimes you feel so stay 'round and sometimes you feel  post and it's me they're looking for and it's me i will never survive but we'll be around some long   and it's gonna be alright and it's gonna be alright and it's gonna be alright animals we are disposable collapsible and raw in you go into some crowded room and animals that climb and they're climbing over you until you say off you go off you go  animal i am and i'm looking for an answer just like you but i should know which way to turn  an animal that runs and i ran away from you because i'm scared now off you go off you go   if you're gonna go go now if you're gonna go go now i forgot to tell you how so if you're gonna go go now   animal you are disposable defenceless yes and watch your mouth boys watch your mouth an animal that runs and i made all my excuses to you and i missed my chance by a stones throw   if you're gonna go go now if you're gonna go go now i forgot to tell you how so if you're gonna go go now   go now go now go now   and i crumble crumble and fall crumble and fall like an animal  i crumble crumble and fall crumble and fall like an animal  yes i crumble crumble and fall crumble and fall like an animal  yes i crumble crumble and fall crumble and fall like an animal under the great north star try to work out where you are in the silence of the sea i don't know where i'll be  in the future in the past going nowhere much too fast when i go there go with me when i go there go with me   'cause i don't know where i'm going and i wanna talk i feel like i'm going where i've been before and i wanna talk   take a picture of something that you're not sure of bring it back to show to me but i don't know what i see  in the future find a home getting nowhere on your own got to find your missing piece   'cause you don't know where you're going and you wanna talk you feel like you're going where you've been before nothing's really making any sense at all you tell anyone who'll listen but you feel ignored let's talk let's talk do you wanna talk   i'm up in the part of the throne i'm trying to sing a song in a language i don't speak  i tried but i can't get through i'm trying to get to you but you're difficult to reach won't you talk to me   so you don't know where you're going and you wanna talk you feel like you're going where you've been before let's talk let's talk let's talk let's talk how tides control the sea and what becomes of me how little things can slip out of your hands how often people change no two remain the same why things don't always turn out as you plan  pre these are things that i don't understand yeah these are things that i don't understand   i can't and i can't decide wrong all my wrong from right day or my day from night dark or the dark from light i live but i love this life   how infinite is space and who decides your fate why everything will dissolve into sand how to avoid defeat where truth and fiction meet why nothing ever turns out as you plan  pre these are things that i don't understand yeah these are things that i don't understand   i can't and i can't decide wrong all my wrong from right day or the day from night dark or the dark from light i live but i love this life it could be worse i could be alone i could be locked in here on my own or like a stone that suddenly drops it never stops no   i could be lost or i could be saved calling out from beneath the waves beaten down by this ocean rain never again never again   screaming out from the crests of waves   it could be worse bitter or sweet it could be snapped from the jaws of defeat or like a light lit up on a beach wear your heart on your sleeve  4 you want to stop before you begin you want to sink when you know you could swim you want to stop just before you begin never give in never give in   screaming out from the crests of waves   nothing matters except life and the love you make nothing matters except life and the love you make nothing matters except life and the love you make except life and the love you make   screaming out from the crests of waves   screaming out from the crests of waves you're longing to be saved screaming out from the crests of waves you are longing to be saved screaming out from the crests of waves such a rush to do nothing at all such a fuss to do nothing at all such a rush to do nothing at all    such a rush to get nowhere at all such a fuss to do nothing at all such a rush    and it's just like you said it's just like you said    such a rush to do nothing at all such a fuss to get nowhere at all such a rush such a rush    and it's just like you said it's just like you said   so slow down please just slow down so slow down please just slow down    such a rush such a rush such a rush such a rush such a rush such a rush such a rush such a rush such a rush such a rush such a rush such a rush such a rush such a rush such a rush   look at all the people going after money far too many people looking for their money everybody's out there trying to get money why can't you just tell me trying to get money rush   such a rush we all rush such a rush    such a rush such a rush such a rush such a rush such a rush such a rush she's gone 000 miles it's very far the snow came down gets colder day by day i miss her   i hear children singin' it felt like christmas time   in these frozen and silent nights sometimes in a dream you appear outside under the purple sky diamonds in the snow sparkle   and our hearts were singin' it felt like christmas time   000 miles is very far through the snow i think of you wherever you go 000 miles is very far through the snow i think of you wherever you go   she's gone 000 miles it's very far the snow came falling now gets colder day by day i miss you   i hear people singin' it felt like christmas time i hear people singin' it felt like christmas time i hear people singin' it felt like christmas time i hear people singin' it felt like christmas time stuck in a corner like monkeys in cages that don't have a number and fight one another try to recover   climb up a ladder look up and you see birds blind as each other how long can we suffer we're as blind as each other   on the cloud that you're sitting there's one born every minute so much to discover i've become a believer   sisters and brothers who fight one another will mourn and deceive us will find us and keep us take us or leave us  4 how soon is now only how long is never i'm nothing but normal we're something together come on and stick together   on the cloud that you're sitting there's one born every minute so much to discover i've become a believer   simon pegg yeah yeah yeah yeah this was our first chapter from now on well only be full of surprises we love you were grateful for all of you with all of our hearts we exist for and because of you goodnight good afternoon good morning wherever you are in the world god bless you all be kind to each other were in this together were one big band everything is possible if you never give up and if you believe in love love i hope we get old i hope we can find a way of seeing it all love i hope we can be i hope i can find a way of letting you see that i'm so easy to please so easy  love i hope we grow old i hope we can find a way of seeing it all love i hope we can be i hope i can find a way of letting you see that i'm so easy to please so easy could you could you come back come back together put yourself on my back and say it's forever   could you could you come home come home forever your shoulders knees and your back will keep us together   'cause you're the one i love you're the one i love you're the one i love ahhhh ahhhh   could you could you come on could you tell me whatever tie yourself to a mast it's now or it's never  4 gonna tear us apart tell me forever it's going to tear us apart keep us together   you're the one i love you're the one i love ahhh ahhh you're the one i love yeah yeah you're the one oooooooooooooo oooooooooooooo you're the one i love you're the one i love you're the one i love o don't ever let go letra de amor argentina live in buenos aires   one two a one two three four  verso  siento señor no hablo bien español el idioma del sol porque soy idiota pero hay una canción dentro de mi corazón les cuento con emoción algo explota  coro del amor soy explorador busca alrededor por todo mi vida pero señor aquí la búsqueda terminó viví el amor en argentina  verso  ahora la historia de nuestra gira mundial empezamos aquí acabamos aquí porque en este lugar este lugar es profundo yo decidí y luego aprendí amor para todo el mundo  coro del amor soy explorador busca alrededor por todo mi vida pero señor aquí la búsqueda terminó porque viví amor en argentina todos porque del amor soy explorador pero viví el amor en argentina gracias   amazing grace how sweet the sound that saved a wretch like me i once was lost but now i'm found was blind but now i see in a world gone wrong how can i be strong wonder of the world power of the\\u2005people   in\\u2005a world of\\u2005fright how do i get it right wonder\\u2005of the world power of the people   and our world tonight is turn it right with the strength of an eagle our world tonight i see the light wonder of the world power of the people   oohoohooh oohoohoohooh oohoohoohooh oohoohoohooh coldplay yellowviva la vidaparadiseadventure of a lifetimebruno mars uptown funkbeyonce formationuptown funk mix from crazy in love coldplay fix youupup imagine there's no heaven it's easy if you try no hell below us above us only sky  imagine all the people living for today ahaahh  imagine there's no countries it isn't hard to do nothing to kill or die for and no religion too  imagine all the people living life in peace yoohooooh  you may say i'm a dreamer but i'm not the only one i hope someday you'll join us and the world will be as one  imagine no possessions i wonder if you can no need for greed or hunger a brotherhood of man  imagine all the people sharing all the world yoohooooh  you may say i'm a dreamer but i'm not the only one i hope someday you'll join us and the world will live as one all summer we hung round' on the streets of our hometown dreamed about us getting close dressing in\\u2005your\\u2005wedding clothes all summer\\u2005it went on we got kings of\\u2005leon on got me in a trippedout haze busy hours turned into days we were oh   i got drunk but fell in love love is a lethal drug i got drunk and took too much love is a lethal drug   all summer we belong to the way we let it on feeling slowly sinking in lying back and watching heaven spin in my head the parrot saw biomorphic thick in the stars i don't know what else to win just give me one give me one more hit oh   i got drunk but fell in love love is a lethal drug fell down and picked it up love is a lethal star i just can't give you up but you're coursing through my blood i just couldn't get enough love is a lethal drug love is a lethal drug   break   just went up in smoke  are we in love with another dose i soar when my body floats love in a lethal dose love in a lethal dose yeah love in a lethal dose spoken this being human is a guest house every morning a new arrival a joy a depression a meanness some momentary awareness comes as an unexpected visitor welcome and entertain them all even if they are a crowd of sorrows who violently sweep your house empty of its furniture still treat each guest honorably he may be clearing you out for some new delight the dark thought the shame the malice meet them at the door laughing and invite them in be grateful for whoever comes because each has been sent as a guide from beyond x and y the land sea rivers trees the stars the sky that and this we're part of a bigger plan don't know what it is don't know what it is   you and me the land sun trees the sky the stars the sea 65 degrees i am a puzzle you're the missing piece hang on a minute just a minute please i'll come and everything under the sun and everything under the sun    what is this feeling that i can't explain and why am i never gonna sleep again what is this thing i've never seen before a little boy lost in a breaking storm pilots up and away they fly to write your name in the summer sky life has really only just begun life that comes and everything under the sun   x is y the land sea rivers trees the stars the sky 65 degrees all of the surface and the underneath searching your mellow and outsings your key ah and everything under the sun and everything under the sun    what is this feeling that i can't explain and why am i never gonna sleep again what is this thing i've never seen before a little boy lost in a breaking storm pilots up and away they fly to write your name in the summer sky life has really only just begun life that comes and everything under the sun   and you don't know that you've been born can't see the calm until the storm can't tell your right side from your wrong can't see the wave you're riding on we were just about to lose our home diamonds ate the radio moving in the dead of night we took photographs just some just so history has some to know we were moving at the speed of flight  pre kids cry if you want to that's alright if you want to hold me hold me tight   just an alien   we were hovering without a home millions are ufo hovering in hope some scope tonight sees the light and says  pre fly if you want to that's alright but if you want to call me call this line   just an alien just an alien oh we just want to get home again   tell your leader sir or ma'am we come in peace we mean no harm somewhere out there in the unknown all the et's are phoning home watching my life on the skyline crossing your eyes for a lifetime   just an alien moving target target movement a patch a corner of the spacetime just an alien turning toward it turning pages over asia crossing ages just an alien oh we just want to get home again maybe i don't really want to know how your garden grows cause i just want to fly lately did you ever feel the pain in the morning rain as it soaks you to the bone    maybe i just want to fly i want to live i don't want to die maybe i just want to breathe maybe i just don't believe maybe you're the same as me we see things they'll never see you and i are gonna live forever   i said maybe i don't really want to know how your garden grows cause i just want to fly lately did you ever feel the pain in the morning rain as it soaks you to the bone    maybe i will never be all the things that i want to be but now is not the time to cry now's the time to find out why i think you're the same as me we see things they'll never see you and i are gonna live forever   maybe i don't really want to know how your garden grows cause i just want to fly lately did you ever feel the pain in the morning rain as it soaks you to the bone    maybe i just want to fly i want to live i don't want to die maybe i just want to breathe maybe i just don't believe maybe you're the same as me we see things they'll never see you and i are gonna live forever   gonna live forever gonna live forever we're gonna live forever we're gonna live forever we're gonna live forever we're gonna live forever we're gonna live forever lovers keep on the road you're on runners until the race is run soldiers you've got to soldier on sometimes even right is wrong   they are turning my head out to see what i'm all about keeping my head down to see what it feels like now but i have no doubt one day we are gonna get out  ooo ooooo   tonight maybe we're gonna run dreaming of the osaka sun ohh ohh dreaming of when the morning comes   they are turning my head out to see what i'm all about keeping my head down to see what it feels like now but i have no doubt one day the sun will come out woo hoo woo hoo woo hoo woo hoo woo hoo woo hoo woo hoo woo hoo   turn your magic on umi she'd say everything you want's a dream away an we are legends every day that's what she told me  refrain turn your magic on to me she'd say everything you want's a dream away under this pressure under this weight we are diamonds    now i feel my heart beating i feel my heart underneath my skin and i feel my heart beating oh you make me feel like i'm alive again woo hoo woo hoo oh you make me feel woo hoo woo hoo like i'm alive again   said i can't go on not in this way i'm a dream that died by light of day gonna hold up half the sky and say only i own me    and i feel my heart beating i feel my heart underneath my skin oh i can feel my heart beating cause you make me feel like i'm alive again alive again oh you make me feel like i'm alive again  post woo hoo woo hoo woo hoo woo hoo   if we've only got this life this adventure oh then i and if we've only got this life you get me through oh and if we've only got this life in this adventure oh then i want to share it with you with you with you yeah i do   woo hoo woo hoo woo hoo woo hoo  woo hoo woo hoo woo hoo woo hoo woo hoo woo hoo woo hoo woo hoo  woo hoo woo hoo woo hoo woo hoo from the very start it came apart it broke up into pieces and there was a chance i could've missed it it could risked it but i put myself into your hands   'cause you're not just anyone you're a ladder to the sun oh you're not just anyone you're a ladder to the sun   i should've run my courses for the opposing forces and all men are just mortals and if you want me you can have me take me oh baby grab me 'cause if you want me then you can have me   'cause you're not just anyone you're a ladder to the sun oh you're not just anyone you're a ladder to the sun   oh now boy what you been and done you set a course that you couldn't run oh now boy what you been and done   i had it all and i risked it a chance and i missed it i had it and i risked it all and i risked it all   i risked it all a ladder to the a ladder to the sun a ladder to the a ladder to the sun a ladder to the a ladder to the sun i had it all and i risked it all  a ladder to the a ladder to the sun a ladder to the a ladder to the sun i had it all and i risked it all oooh oooh oooh oooh   so we left la mancha heading out for higher plains me and sancho panza looking for adventure rocinante at the reigns until the windmills answer   you'll never be lonely you'll never be lonely ever again you'll never be lonely you'll never be lonely again i heard you never get wet in spanish rain   so they sent the doctor for examining my brain said he's not too clever when the world when the world just seems a little bit too cruel going to leave it better going to make one better yeah   so tell that princess tell that princess hide down the drain tell that princess she'll never be lonely again i heard you never get wet in spanish rain   oooh oooh i heard you never get wet in spanish rain where the people sing ole ole ole ole ole ole ole ole ole ole coldplay coldplay i heard you never get wet in spanish rain x when your day is long and the night the night is yours alone when you're sure you've had enough of this life well hang on  don't let yourself go 'cause everybody cries and everybody hurts sometimes  sometimes everything is wrong now it's time to sing along when your day is night alone hold on hold on if you feel like letting go hold on if you think you've had too much of this life well hang on  everybody hurts take comfort in your friends everybody hurts don't throw your hand oh no  don't throw your hand if you feel like you're alone no no no you are not alone  if you're on your own in this life the days and nights are long when you think you've had too much of this life to hang on  well everybody hurts sometimes everybody cries everybody hurts sometimes and everybody hurts sometimes  so hold on hold on hold on hold on hold on hold on hold on hold on everybody hurts the cardboard head i see has found its way to me it's old and it's old and it's old making me cry i sleep but i will not move i'm too scared to leave my room but i won't be defeated oh no   what if cards don't go my way and it's sure to spoil my day but in voices loud and clear you say to me it's only superstition it's only your imagination it's only all of the things that you fear and the things from which you can't escape   keep clean for the thousandth time stand still and wait in line some numbers are better than others oh no   what if cards don't go my way and it's sure to spoil my day but in voices loud and clear you say to me it's only superstition it's only your imagination it's only all of the things that you fear and the things which you cannot explain   and it's making me cry love and it's making me cry and i'm slipping away love and i'm slipping away   it's only superstition only your imagination it's only superstition only superstition hook murder coming to get us yeah coming to get us and away we hide murder see it all around us see it all around us and away we hide murder coming to get us they're coming to get us and away we hide away we hide   tie me to a tree tie my hands above my head sing a song to me sing a song like what you said   and they're going to murder me they're going to take me down even before i sleep i cry murder   come spit at us come and throw your weight around come and fight with us try and knock us to the ground   'cause they're gonna murder me they're going to take me down even before i sleep i scream murder murder   oh now what can it possibly gain oh what can it possibly gain oh now what can it possibly gain oh yeah what can it possibly gain cry murder murder i cry murder  hook murder i'm coming to get us i'm coming to get us and away we hide murder see it all around us see it all around us and away we hide murder coming to get us it's coming to get us and away we hide murder see it all around you see it all around you and away we hide i went digging for gold i went down to the valley over by the mountain where the prospector had been told i'm marching through the cold we're marching through the cold i went digging for gold i went down with my brother a bucket and a shovel and a book about the color of coal i'm marching through the cold we're marching through the cold   there's a tiny little crackle on the telephone line saying what use the metal if the metal don't shine she said bring me back a ring because i really want one now i been digging so long that i never seen the sun   i went digging for gold i went down to the valley over by the mountain where the prospector had been told i'm marching through the cold we're marching through the cold   there's a tiny little crackle on the telephone line saying what use the metal if the metal don't shine she said bring me back a ring cause i really want one now i been digging so long that i never seen the sun x again one last time now i been digging so long that i never seen the sun sometimes i wake up and i'm falling asleep i think that maybe the curtains are closing on me but i wake up yes i wake up smiling   sometimes i feel oh the charge is surprising surprisingly good to be moving around so i wake up yes i wake up smiling  pre so what i feel fine i'm ok i've seen the lighter side of life i'm alright i feel good so i'll go and i'll try to stop moving   sometimes i wake up and i'm falling asleep but i've got to get going so much that i'm wanting to do but i wake up smiling   and this could be my last chance of saving my innocence and this could be my last chance no more keeping my feet on the ground  4 sometimes i feel oh the charge is surprising surprisingly good to be moving around and i move i wake up smiling  pre so what i feel fine i feel ok i've seen the lighter side of life i'm alright i feel good so i'll go well it's time to stop moving   and this could be my last chance of saving my innocence and this could be my last chance so no more keeping my feet on the ground   i'm not gonna keep on i'm not gonna keep on the i'm not gonna keep on i'm not gonna keep on the ground so i waited for you what wouldn't i do and i'm covered it's true i'm covered in you if i ever want proof i find it in you yeah i honestly do in you i find proof   light and dark a bright spark light and dark and then light   so i waited all day what wouldn't i say and are there things in your way things happen that way oh and if i ever want proof then i find it in you oh yeah i honestly do in you i find proof   light and dark a bright spark light and dark and then light light x4 here's an ode ah to deodorant it's my thing ah it's my favourite hygiene it keeps me through the day another ode ah to deodorant it's my thing ah it's my favourite hygiene it's the confidence i need   it's medicine for the soul it's medicine for the mind it picks me up and makes me whole it makes me feel alright   here's an ode an ode to aerosol it's my thing ah it's my favourite hygiene it's the confidence i need   it's medicine for the soul it's medicine for the mind it picks me up and makes me whole it makes me feel alright   it's okay oh would i ever let you down no way oh would i ever let you down okay oh would i ever let you down no way oh would i ever let you down i'll never let you i'll never let you i'll never let you down no way would i ever let you let you down no way would i ever let you let you down no way would i ever let you let you down no way would i ever let you let you down no way if sweet death should ever conquer me let me know boys let me know if you hear him coming won't you let me flee let me go boys let me go   one day death is going to conquer me ill be down where the waters flow i hope sweet heaven has a place for me let me know boys let me know   if sweet death should ever conquer me take me down to some place below if you hear him coming won't you set me free let me go boys let me go   if you hear him coming won't you sing for me that i just dont want to go one two steal my heart and hold my tongue i feel my time my time has come let me in unlock the door i never felt this way before  and the wheels just keep on turning the drummer begins to drum i don't know which way i'm going i don't know which way i've come  hold my head inside your hands i need someone who understands i need someone someone who hears for you i've waited all these years  for you i'd wait 'til kingdom come until my day my day is done and say you'll come and set me free just say you'll wait you'll wait for me  in your tears and in your blood in your fire and in your flood i hear you laugh i heard you sing i wouldn't change a single thing  and the wheels just keep on turning the drummers begin to drum i don't know which way i'm going i don't know what i've become  for you i'd wait 'til kingdom come until my days my days are done say you'll come and set me free just say you'll wait you'll wait for me  just say you'll wait you'll wait for me just say you'll wait you'll wait for me climb up your mountain nineteen and counting you have got seven i have got one blinded and hurting this i'm deserving i've got my secrets you've only got the sleeping sun   when you've got a secret then you've got to keep it when you have a question answers will come running and hiding taking dividing you've got your secrets i've only got the sleeping sun   the sleeping sun singing oooh um ohhhh oh ahhh ahh oh oh oh oh oh oh   and you as i saw were a piece in a jigsaw run up the divide and tip of the tongue run round the houses north and the south is you've got your answers we have both got the sleeping sun   the sleeping sun singing oooh um ohhhh oh ahhh ahh oh oh oh oh oh oh darling those tired eyes go with me all the time and in the dead of night tell me you will be mine where do you go to pretty babe where do you go to when the night wins away ask me so sweetly what do i do and who do i sing for well honey i sing about you you have yourself a merry little christmas let your heart be light from now on our troubles will be out of sight   have yourself a merry little christmas make the yuletide gay from now on our troubles will be far away   and here we are as in olden days happy golden days of yore faithful friends who are dear to us gather near to us once more  4 through the years we all will be together if the fates allow hang a shining star upon the highest bough and have yourself a merry little christmas now and have yourself a merry little christmas now oh they say people come say people go these particular diamonds were extra special and though you might be gone the world may not know still i see you celestial and i should but i can't let you go    but when im cold cold yeah when i'm cold cold there's a light that you give me when im in shadow there's a feeling within me of everglow   like brothers in blood or sisters who ride yeah we swore on that night we'd be friends 'til we die but the changing of winds and the way waters flow life is short as the falling of snow and now i'm gonna miss you i know    but when i'm cold cold in water rolled salt i know you're always with me and the way you will show you're with me wherever i go but you give me this feeling this everglow   what i wouldnt give for just a moment to hold because i live for this feeling this everglow   so if you love someone you should let them know oh the light that you give me will everglow  spokenword  muhammad ali god is watching me god is god dont praise me because i beat joe frazier god don't give nothin 'bout joe frazier god don't care nothing about england or america as far as real wealth it's all his he wants to know how do we treat each other how do we help each other so im going to dedicate my life to using my name and popularity to helping charities helping people uniting people bring people bombing each other because of religious beliefs we need somebody in the world to help us all make peace so when i die if there's a heaven i wanna see it will champion in my place in my place were lines that i couldn't change i was lost oh yeah i was lost i was lost crossed lines i shouldn't have crossed i was lost oh yeah   will champion will champion   yeah how long must you wait for it yeah how long must you pay for it yeah how long must you wait for it  spoken  señor will champion everybody puede ser tarde let's go   will champion   i was scared i was scared tired and underprepared but i wait for it and if you go if you go and leave me down here on my own then i'll wait for you yeah cómo se canta let's go   will champion will champion   yeah how long must you wait for it yeah how long must you pay for it yeah how long must you wait for it for it  spoken  por favor ruido por mr will champion   will champion will champion   please please please come back and sing to me to me me come on and sing it out now now come on and sing it out to me me come on and sing it   will champion   in my place in my place were lines that i couldn't change i was lost oh yeah escucha escucha shh oh oh de corazones whoa whoa whoa yeah  spoken   okay amigos ahora ahora hemos escrito un canción nuevo para decir muchísimas gracias a ustedes por por todo y por ah ah tantos cosas ah y please ah cien vídeos en el escenario ah tres  musicians martin biance and caroline please come up and then also mr professor doctor the greatest musician in living memory mr jonathan fantasmo hopkins here he comes fixing up a car to drive in it again searching for the water hoping for the rain up and up up and up down upon the canvas working meal to meal waiting for a chance to pick your orange field up and up up and up i see a pearl form a diamond in the rough see a bird soaring high above the flood it's in your blood it's in your blood underneath the storm an umbrella is singing sitting with the poison takes away the pain up and up up and up it's saying   were gonna get it get it together right now gonna get it get it together somehow gonna get it get it together and flower oh ah were gonna get it get it together i know gonna get it get it together and flow gonna get it get it together and go up and up and up   lying in the gutter aiming for the moon trying to empty out the ocean with a spoon up and up up and up saying how come people suffer how come people part how come people struggle how come people break your heart break your heart yes i wanna know show me how to feel yes i wanna grow show me how to heal it up heal it up see the forest there in every seed angels in the marble waiting to be freed just need love just need love when the going is rough say   were gonna get it get it together right now gonna get it get it together somehow gonna get it get it together and flower oh ah were gonna get it get it together i know gonna get it get it together and flow gonna get it get it together and go up   and you can say what is or fight for it close your mind or take a risk you can say its mine and clench your fist or see each sunrise as a gift   were gonna get it get it together right now gonna get it get it together somehow gonna get it get it together and flower oh ah were gonna get it get it together i know gonna get it get it together and flow gonna get it get it together and go up were gonna get it get it together right now gonna get it get it together somehow gonna get it get it together and flower oh ah were gonna get it get it together i know gonna get it get it together and flow gonna get it get it together and go up and up and up  post oh oh oh oh   fixing up a car to drive in it again when youre in pain when you think youve had enough dont ever give up don't ever give up  spoken  our friends this is the end of a head full of dreams tour back where it all began buenos aires thank you everybody all around the world at home and abroad for being the best part of our show for being the music and for keeping your and our heads full of dreams this was our first chapter from now on we'll only be full of surprises we love you we're grateful for all of you with all of our hearts we exist for and because of you good night good afternoon good morning wherever you are in the world god bless you all be kind to each other we're in this together we're one big band everything is possible if you never give up and if you believe in love believe in in love i turn the music up i got my records on i shut the world outside until the lights come on maybe the streets alight maybe the trees are gone i feel my heart start beating to my favorite song and all the kids they dance all the kids all night until monday morning feels another life i turn the music up im on a roll this time and heaven is in sight  interlude   i turn the music up i got my records on from underneath the rubble sing a rebel song dont want to see another generation drop id rather be a comma than a full stop maybe im in the black maybe im on my knees maybe im in the gap between the two trapezes but my heart is beating and my pulses start cathedrals in my heart  pre as we soar walls every siren is a symphony and every tears a waterfall is a waterfall   is a waterfall oh is a waterfall ooh is a waterfall oh is a waterfall ooh is a waterfall oh is a waterfall ooh is a waterfall oh is a waterfall ooh   so you can hurt hurt me bad but still ill raise the flag   is a waterfall oh is a waterfall ooh is a waterfall oh is a waterfall ooh is a waterfall oh is a waterfall ooh is a waterfall oh is a waterfall ooh i am dreaming of when i get back to houston i am dreaming of that fair and special place i am dreaming of when houston has no problems in that city where they send you into space   i am dreaming of when i get back to texas corpus christi harris county galveston there's a harmony that hums down there in houston oh houston you got to keep on keeping on   from miami we are sending love to houston we are praying that you make it through the rain i know nothing's gonna break the will of houston oh and we can't wait to go down there again   i am dreaming of when i get back to texas corpus christi harris county galveston there's a harmony that hums down there in houston oh houston you got to keep on keeping on  take it jon      oh houston got to keep on keeping on yeah houston got to keep on keeping on cause you're a sky cause you're a sky full of stars i'm going to give you my heart cause you're a sky cause you're a sky full of stars and cause you light up the path  hook  i don't care go on and tear me apart i don't care if you do cause in a sky cause in a sky full of stars i think i saw you  hook  cause in a sky cause in a sky full of stars i think i saw you   so sky you're a sky full of stars such heavenly view you're such a heavenly view yeah yeah yeah yeah they're calling you some kind of ghost but i know that's not true  cause time and time again i spoke and i have spoke with you  they're saying i am some kind of ghost but that's so hard to say  maybe i'll go maybe you're safe no there's no way to say  and i would love you to come over and i would love you to if you call and call your self esteem is low and i heard you'd called is there no calling and away i go any way you go i was on your tail as clear as crystal   but it was harmless it couldn't hurt you oh you were helpless i know you'll get through i know i   chemicals are cold see you sit down on a chemical you cause is like a crystal so i heard you say i got to get away i'm on a second trail as clear as crystal   but i was harmless it couldn't hurt you oh you were helpless i know you'll get through well have you ever stopped to wonder how they do christmas there down under how do they make christmas nice when they ain't got no snow  and ice and what about poor santa's sleigh he has to come from fucking miles away and what about mick dundee well he ain't got no christmas tree   well they say christmas here is so much fun we got surfing we got sun christmas here's sweet as a peach opening presents on the beach we got barbies we got beer santa wishes he lived here loads of laughter loads of booze christmas with the kangaroos   well have you ever stopped to wonder how they do christmas there down under have you ever stopped to think do they have much pumpkin drink oh don't you just find it shocking have you got tim tams in your stocking do you wonder where jesus was born no they got kylie they got shane warne   they all say christmas here is so much fun we got surfing we got sun christmas here's sweet as a peach opening presents on the beach yeah 'cause got barbies we got beer santa wishes he lived here loads of laughter loads of booze christmas with the kangaroos  loads of laughter loads of booze that's christmas with the kangaroos i see trees that are green red roses too i watch them bloom for me and you and i think to myself what a wonderful world  i hear babies cry i watch them grow they'll learn much more than i'll ever know and i think to myself ohh what a wonderful world  the colours of the rainbow so pretty in the sky are also on the faces of the people passing by i see friends shaking hands saying saying how do you do but they're really saying i love you  i see trees that are green and red roses too i watch them bloom for me and you and i think to myself oh what a wonderful world  the colours of the rainbow so pretty in the sky are also on the faces of the people passing by i see friends shaking hands saying how do you do but they're really saying i love you  i see trees of green and red roses too i watch them bloom for me and you and i think to myself oh what a wonderful world  i think to myself ooh what a wonderful world they put the world in a tin can black market contraband and it hurt just a little bit when they sliced and packaged it in a long black trench coat two hands around the throat oh you wanna get it right sometimes   there's so much to be scared of and not much to make sense of how did the clowns ever get control if you hear can you let me know how can they invade it when it's so complicated oh you wanna get it right sometimes you just wanna get it right sometimes   that's how you see the world how many times can you say you can't believe what you heard that's how you see the world don't you worry yourself you're not gonna get hurt oooh   when there's something missing seems like there's nobody listening if you're running in a circle how can you be too careful we don't wanna be mantrapped we don't wanna be shrinkwrapped oh just wanna get it right sometimes we just wanna get it right sometimes   that's how you see the world how many times have you heard that you can't believe a word that's how you see the world ah don't you worry yourself 'cause nobody can hurt you   that's how you see the world that's how you see the world as far as i can see all time and circuitry is wrong  as far as poetry sit down and sing to me a song   'cause all i want in this world all i want in this world is for you to come home  a spell a rebel yell a spell   soldier come home to me you've been away from me so long   and all i want in this world all i want and deserve is for you to come home   x  a spell a rebel yell a spell a rebel yell a spell a rebel yell a spell a rebel yell  oh oh oh oh it's been seven hours and fifteen days since you took your love away i go out every night and sleep all day since you took your love away since you've been gone i can do whatever i want i can see whomever i choose i can eat my dinner in a fancy restaurant but nothing i said nothing can take away these blues 'cause nothing compares nothing compares to you nothing compares nothing compares to you it's been so lonely without you here like a bird without a song nothing can stop these lonely tears from falling tell me baby where did i go wrong i went to the doctor guess what she told me guess what she told me she said boy you better try to have fun no matter what you do but she's a fool 'cause nothing compares nothing compares to you nothing compares nothing compares to you nothing compares nothing compares to you nothing compares nothing compares to you they got one eye watching you one eye on what you do so be careful who it is you're talking to they got one eye watching you one eye on what you do so be careful what it is you're trying to do and be careful when you're walking in the view just be careful when you're walking in the view oohoohooh oohoohoohooh got one eye on the road and one on you oohoohooh oohoohoohooh got one eye on the road and one on they got one eye watching you and one eye on what you do so be careful 'cause nothing they say is true ddon't believe a word it's us against the world and we just got to turn up to be heard hear the crocodiles ticking round the world hear those crocodiles ticking they go ticking round the world oohoohooh oohoohoohooh got one eye on the road and one on you oohoohooh oohoohoohooh got one eye on the road and you could hear them climbing the stairs i got my right side fighting while my left hides under the chairs oohoohooh oohoohoohooh got one eye on the road and one on you oohoohooh oohoohoohooh got one eye on the road and one on you yesterday i woke up to the news i was very very sad to hear my favourite show would disappear and today i'm filling up with blues though i'm happy that her tummy's growing a dj that we love is going  how'm i gonna make it from 0 through to  and how'm i gonna tell her we'll miss her a tonne how to tell her thanks for the records she played thanks for ducing us to lana del rey thanks for the stories and all the good times festival tales kilimanjaro climbs thanks for all the mornings in the lounge we'd arrive and sweetly you'd tell us no swearing we're live  oh fearne you made all of my mornings fly like the sun bursting through a cloud into a cloudy sky and you'll be great at anything that you wanna try now it's hard but it's time for us to say goodbye  bye fearne por favor manos arriba uno dos tres go dame sus manos izquierda derecha arriba abajo now gimme a whoo whoo whoo whoo whoo whoo whoo whoo gimme a whoo whoo whoo whoo uno dos uno dos tres   where do we go nobody knows i've got to say i'm on my way down god give me style and give me grace and put a smile upon my face salta conmigo   ah when you work it out i'm worse than you yeah when you work it out i wanted to ah when you work out where to draw the line your guess is as good as mine ayy   where do we go to draw the line all the girls scream if you're having a good time where do we go to fall from grace now all the boys make some noise shake the walls of the fucking place   ah when you work it out i'm worse than you yeah when you work it out i wanted to ah when you work out where to draw the line your guess is as good as mine lights off feasty   sing olé olé olé olé olé olé olé olé olé olé olé olé sing olé olé olé olé olé olé olé olé olé olé olé olé más fuerte olé olé olé olé olé olé más fuerte olé olé olé olé olé olé vamos cantando juntos olé olé olé olé olé olé olé olé olé uno dos uno dos tres one two yeah go beyoncé let me shoot across the sky   when you try your best but you don't succeed get what you want but not what you need when you feel so tired but you can't sleep stuck in rewhen the tears come streaming down your face 'cause you lose something you can't replace when you love someone but it goes to waste what could be worse oso cantas rotas oh   lights will guide you home and ignite your bones i will try to fix you gracias a todos this is for tiffany this song my family   well high up above or down below when you are too in love to let it show but if you never try you'll never know just what you're worth no   lights will guide you home and ignite your bones and i will try to fix you can't stop her   tears stream down your face when you lose something you cannot replace tears stream down your face and i tears stream down your face i promise you i will learn from all my mistakes tears stream down your face and i let's go go   lights will guide you home oh and ignite your bones and i will try to fix you   gracias todo mundo todo el mundo listo seguro todo el mundo listo no puedo oir no puedo oir  todo el mundo listo ahora ahora ahora vamos a todos when she was just a girl she expected the world but it flew away from her reach so she ran away in her sleep  and dreamed of para para paradise para para paradise para para paradise every time she closed her eyes  oh oh oh oh oh oh oh oh oh oh oh oh oh oh oh oh oh oh oh oh oh oh oh oh oh oh oh oh oh oh oh oh oh oh oh oh oh oh oh oh oh oh oh oh oh oh oh oh oh oh oh oh oh oh oh oh in the night the stormy night oh oh oh oh oh oh oh oh she'd close her eeeeyes flew awaaaay goes oooon she'd sayohohoh  close her eeeeyes flew awaaaay goes oooon she'd sayohohoh  close her eeeeyes flew awaaaay goes oooon she'd sayohohoh  close her eeeeyes flew awaaaay goes oooon she'd sayohohoh  close her eeeeyes flew awaaaay goes oooon she'd sayohohoh  para para paradise para para paradise para para paradise para para paradise and dream of para para paradise para para paradise para para paradise oh oh oh oh oh oh oh oh  eeeeyes flew awaaaay goes oooon she'd sayohohoh  close her eeeeyes flew awaaaay goes oooon she'd sayohohoh  close her eeeeyes flew awaaaay goes oooon she'd sayohohoh  close her eeeeyes flew awaaaay goes oooon she'd sayohohoh  para para paradise para para paradise para para paradise every time she closed her eyes letra de de música ligera live in buenos aires   más fuerte más fuerte oléoléolé coldplay coldplay oléoléolé coldplay coldplay oléoléolé coldplay coldplay oléoléolé coldplay coldplay  precoro ella durmió al calor de las masas y yo desperté queriendo soñarla algún tiempo atrás pensé en escribirle que nunca sorteé las trampas del amor uno dos tres  coro de aquel amor de música ligera nada nos libra nada más queda    verso no le enviaré cenizas de rosas ni pienso evitar un roce secreto wuh  coro de aquel amor de música ligera nada nos libra nada más queda one more time de aquel amor de música ligera nada nos libra nada más queda vamos che     precoro ella durmió al calor de las masas y yo desperté queriendo soñarla algún tiempo atrás pensé en escribirle y nunca sorteé las trampas del amor soda stereo  coro de aquel amor de música ligera nada nos libra nada más queda por qué de aquel amor de música ligera nada nos libra nada más queda nada más queda nada más queda nada más queda nada más queda   gracias a soda stereo sin ustedes somos nada somos tan tan agradecidos todo el mundo gracias por todo gracias por esta noche gracias totales turn your magic on umi she'd say everything you want's a dream away and we are legends every day that's what she told me  refrain turn your magic on to me she'd say everything you want's a dream away under this pressure under this weight we are diamonds    now i feel my heart beating i feel my heart underneath my skin and i feel my heart beating oh you make me feel like i'm alive again alive again alive again  post if we've only got this life this adventure oh then i and if we've only got this life you'll get me through   said i can't go on not in this way i'm a dream that died by light of day gonna hold up half the sky and say only i own me    now i feel my heart beating i feel my heart underneath my skin oh i can feel my heart beating cause you make me feel alive again alive again   woo hoo woo hoo woo hoo woo hoo woo hoo woo hoo woo hoo woo hoo woo hoo woo hoo woo hoo woo hoo so i was an idiot i was a goddamn idiot because i came here so violent because i came around here so violent i said yes i was an idiot i was a goddamn idiot because i made you think for it because i came round here to think for it  and sing it it's a wonderful life never felt so alive never felt so alive it's a wonderful life never felt so alive never felt so alive  my love my love where have you been my love my love where did you go my love my love what have you seen my love you're such an idiot like an idiot  i run around like a chicken with its head cut off like an idiot i run around like a chicken with its head cut off like an idiot i run around like a chicken with its head cut off like an idiot  i was an idiot i fell down like a goddamn idiot because i came here to bring them down because i came round here to fight them down i said yes i felt like an idiot i was a goddamn idiot  sing it it's a wonderful life never felt so alive never felt so alive it's a wonderful life never felt so alive never felt so alive  my love my love where have you been my love my love where did you go my love my love what have you seen my love you're such an idiot like an idiot  i run around like a chicken with its head cut off like an idiot i run around like a chicken with its head cut off like an idiot i run around like a chicken with its head cut off like an idiot listen now it's a wonderful life  never felt so alive it's a wonderful life never felt so alive it's a wonderful life never felt so alive  never felt so alive it's a wonderful life never felt so alive never felt so alive she was more like a beauty queen from a movie scene i said don't mind but what do you mean i am the one who will dance on the floor in the round she said i am the one who will dance on the floor in the round  she told me her name was billie jean as she caused a scene then every head turned with eyes that dreamed of being the one who will dance on the floor in the round  people always told me be careful of what you do and don't go around breaking young girls' hearts and mother always told me be careful of who you love and be careful of what you do 'cause the lie becomes the truth  billie jean is not my lover she's just a girl who claims that i am the one but the kid is not my son she says i am the one but the kid is not my son  for forty days and forty nights the law was on her side but who can stand when she's in demand her schemes and plans 'cause we danced on the floor in the round so take my strong advice just remember to always think twice do think twice do think twice  she told my baby we'd danced till three then she looked at me then showed a photo my baby cried his eyes were like mine oh no 'cause we danced on the floor in the round baby  people always told me be careful of what you do and don't go around breaking young girls' hearts she came and stood right by me just the smell of sweet perfume this happened much too soon she called me to her room  billie jean is not my lover she's just a girl who claims that i am the one but the kid is not my son  billie jean is not my lover she's just a girl who claims that i am the one but the kid is not my son she says i am the one but the kid is not my son she says i am the one but the kid is not my son  billie jean is not my lover she's just a girl who claims that i am the one but the kid is not my son she says i am the one but the kid is not my son  she says i am the one you know what you did she says he is my son breaking my heart babe she says i am the one  billie jean is not my lover billie jean is not my lover billie jean is not my lover billie jean is not my lover don't billie jean billie jean is not my lover billie jean is not my lover kylie minogue im all by myself i dont need anybody else im all by myself no help  im all on my own quietly sleeping in my home im all on my own my own  refrain  hello wont you let me come in lhuna cant you hear how much im suffering hello wont you let me know cause im all alone all alone     kylie minogue we are dreaming about lhuna the smell of her the touch and the taste of her dreaming about lhuna her and me simultaneously   kylie minogue i dont know what the time is i dont know where youve flown and i dont know why youre so far from home  refrain  hello wont you let me come in lhuna cant you hear how much im suffering hello wont you let me know cause im all alone all alone     kylie minogue we are dreaming about lhuna the smell of her the touch and the taste of her dreaming about lhuna her and me simultaneously   her and me effortlessly oh her and me effortlessly were gonna get it gonna get it together were gonna get it get it together and flower  fixing up a car to drive in it again searching for the water hoping for the rain up and up up and up  down upon the canvas working meal to meal waiting for a chance to pick your orange field up and up up and up  see a pearl form a diamond in the rough see a bird soaring high above the flood it's in your blood it's in your blood  underneath the storm an umbrella is saying sitting with the poison takes away the pain up and up up and up  were gonna get it get it together i know were gonna get it get it together somehow were gonna get it get it together and flower  were gonna get it get it together i know were gonna get it get it together and float were gonna get it get it together and go up and up and up  lying in the gutter aiming for the moon trying to empty out the ocean with a spoon up and up up and up  how come people suffer how come people part how come people struggle how come people break your heart break your heart  yes i wanna grow yes i want to feel yes i wanna know show me how to heal it up heal it up  see the forest there in every seed angels in the marble waiting to be freed just need love just need love when the going is rough saying  were gonna get it get it together i know were gonna get it get it together somehow were gonna get it get it together and flower  were gonna get it get it together i know were gonna get it get it together and float were gonna get it get it together and go up and up and up  were gonna get it get it together i know were gonna get it get it together somehow were gonna get it get it together and flower  were gonna get it get it together i know were gonna get it get it together and float were gonna get it get it together and go up and up and up in the darkness before the dawn in the swirling of the storm when i'm rolling with the punches and hope is gone leave a light a light on  millions of miles from home in the swirling swimming on when i'm rolling with the thunder but bleed from thorns leave a light a light on leave a light a light on  leave a light a light on leave a light a light on  in the darkness before the dawn in the darkness before the dawn leave a light a light on leave a light a light on  je te donnerai mon amour tous les jours de ma vie et puis quand je viens ce soir on laisse les lumières allumées je te donnerai tout ce que j'ai tout ce que j'ai dans ma vie et puis quand je viens ce soir on laisse les lumières allumées come up to meet you tell you i'm sorry you don't know how lovely you are i had to find you to tell you i need you to tell you i set you apart tell me your secrets and ask me your questions and oh let's go back to the start running in circles coming up tails heads on a science apart   nobody said it was easy it's such a shame for us to part nobody said it was easy no one ever said it would be this hard i'm going back to the start  spoken antonio and martina   i was just guessing at numbers and figures i was pulling the puzzles apart a question of science of science and progress do not speak as loud as my heart so tell me you love me oh come back and haunt me oh and i rush to the start running in circles chasing our tails coming back as we are   nobody said it was easy oh it's such a shame for us to part nobody said it was easy no one ever said it would be so hard oh let's go back to the start   oh ah ooh oh ooh ayy oh ah ooh oh ooh todas están ahí  entonces si tú quieres cantar conmigo con nosotros hoy vámonos listo   nobody said it was easy oh ho ho oh it's such a shame for us to part nobody said it was easy no one ever said it would be so hard i'm going back to the start   gracias a todos gracias a  nuestro hermano for the beginning beyoncé drink from me drink from me oh ah oh ah that we shoot across the sky got me feeling drunk and high symphony so high so high that we shoot across the sky    oh angel sent from up above you know you make my world light up when i was down when i was hurt you came to lift me up life is a drink and love's a drug oh now i think i must be miles up when i was a river dried up you came to rain a flood  pre    beyoncé said drink from me drink from when i was so thirsty poured on a symphony oh now i just cant get enough put your wings on me wings on me when i was so heavy poured on a symphony yo when i'm low low low low    ah oh ah oh ah got me feeling drunk and high so high so high oh ah oh ah oh ah now i'm feeling drunk and high so high so high woo      beyoncé oh angel sent from up above i feel you coursing through my blood life is a drink and your loves about to make the stars come out yeah      beyoncé put your wings on me wings on me when i was so heavy poured on a symphony yo when i'm low low low low    ah oh ah oh ah got me feeling drunk and high so high so high oh ah oh ah oh ah i'm feeling drunk and high so high so high   beyoncé   ah oh ah oh ah la la la la la la la so high so high so high so high sing it now ah oh ah oh ah oh ah oh ah i'm feeling drunk and high so so so so so so high so high     beyoncé beyoncé that i shoot across the sky that i shoot across the that i shoot across the sky let me shoot across the sky let me shoot across the let me shoot across the sky that we shoot across the let me shoot across the sky that we shoot across the yellow diamonds in the light now were standing side by side as your shadow crosses mine what it takes to come alive its the way im feeling i just cant deny but ive gotta let it go we found love in a hopeless place we found love in a hopeless place we found love in a hopeless place we found love in a hopeless place shine a light through an open door love a life i will divide turn away cause i need you more feel the heartbeat in my mind its the way im feeling i just cant deny but ive gotta let it go we found love in a hopeless place we found love in a hopeless place we found love in a hopeless place we found love in a hopeless place yellow diamonds in the light now were standing side by side as your shadow crosses mine we found love in a hopeless place we found love in a hopeless place we found love in a hopeless place we found love in a hopeless place we found love in a hopeless place we found love in a hopeless place we found love in a hopeless place we found love in a hopeless place let's go cantar con nosotros let's go oh whoa oh whoa oh whoa oh whoa   i used to rule the world seas would rise when i gave the word now in the morning i sleep alone sweep the streets i used to own i used to roll the dice feel the fear in my enemy's eyes listen as the crowd would sing now the old king is dead long live the king one minute i held the key next the walls were closed on me and i discovered that my castles stand upon pillars of salt pillars of sand   i hear jerusalem bells aringing roman cavalry choirs are singing be my mirror my sword and shield my missionaries in a foreign field for some reason i can't explain once you'd gone there was never never an honest word that was when i ruled the world   it was the wicked and wild wind blew down the doors to let me in shattered windows and the sound of drums and people couldn't believe what i'd become revolutionaries wait for my head on a silver plate i'm just a puppet on a lonely string whoa for who would ever want to be king   i hear jerusalem bells aringing roman cavalry choirs are singing be my mirror my sword and shield my missionaries in a foreign field for some reason i can't explain i know saint peter won't call my name never an honest word that was when i ruled the world   turn the lights off in the stadium ahora vamos a cantar juntos más fuerte que nunca go oh whoa oh whoa oh whoa oh whoa oh whoa   oh i hear jerusalem bells aringing oh whoa roman cavalry choirs are singing oh whoa be my mirror my sword and shield oh whoa my missionaries in a foreign field oh whoa for some reason i can't explain oh whoa i know saint peter won't call my name never an honest word that was when i ruled the world   world world world world world world when i ruled the world world world world world world world world i've been reading books of old the legends and the myths achilles and his gold hercules and his gifts spiderman's control and batman with his fists now clearly i don't see myself upon that list  pre but she said where'd you wanna go how much you wanna risk i'm not looking for somebody with some superhuman gifts some superhero some fairy tale bliss just something i can turn to somebody i can kiss i want something just like this   doodoodoo doodoodoo doodoodoo doodoo doodoodoo doodoodoo oh i want something just like this doodoodoo doodoodoo doodoodoo doodoo doodoodoo doodoodoo   oh i want something just like this i want something just like this   i've been reading books of old the legends and the myths the testaments they told the moon and its eclipse and superman unrolls a suit before he lifts but i'm not the kind of person that it fits  pre she said where'd you wanna go how much you wanna risk i'm not looking for somebody with some superhuman gifts some superhero some fairy tale bliss just something i can turn to somebody i can miss   i want something just like this oh i want something just like this oh i want something just like this   doodoodoo doodoodoo doodoodoo doodoo doodoodoo doodoodoo something just like this doodoodoo doodoodoo doodoodoo doodoo doodoodoo doodoodoo  pre where'd you wanna go how much you wanna risk i'm not looking for somebody with some superhuman gifts some superhero some fairy tale bliss just something i can turn to somebody i can kiss i want something just like this i want something just like this sing   oh i want something just like this something just like this oh i want something just like this oh i want something just like this earth angel earth angel will you be mine my darling dear love you all the time i'm just a fool a fool in love with you  earth angel earth angel the one i adore love you forever and evermore i'm just a fool a fool in love with you  i fell for you and i knew the vision of your love loveliness i hope and i pray that someday i'll be the vision of your hap happiness  oh earth angel earth angel please be mine my darling dear love you all the time i'm just a fool a fool in love with you  i fell for you and i knew the vision of your loveliness i hope and i pray that someday that i'll be the vision of your happiness  oh earth angel earth angel please be mine my darling dear love you all the time i'm just a fool a fool in love with you so you lost you trust and you never should have no you never should have but don't break your back if you ever see this but don't answer that  in a bulletproof vest with the windows all closed i'll been doing my best i'll see you soon in a telescope lens and when all you want's friends i'll see you soon so it came for you it came snapping at your heels it came snapping at your heels but don't break your back if you ever say this but don't answer that  i'll see you soon and oh you lost your trust and oh you lost your trust no don't lose your trust no you lost your trust an' people wanna fight for fun but what is a battle when the war's already been won people wanna break what's built there's no use crying when the milk's already been spilt  here's a needle here's a thread sew yourself up clear your head here's a needle here's a thread oh no i meant exactly what i said  you might find that you're useless no better than a hole in the ground you might find that you're useless no better than a hole in the ground  well look at all the cavemen going turning over to the shore ohhh  gonna want to run around with someone who will let you down ohhh  i'm only looking for a bloodless revolution i'm only looking for a bloodless revolution i'm only looking for a bloodless revolution oh when i get back on solid ground i'm gonna crawl my way to you  oh i once was lost and now i'm found i'm gonna do what i should do and when i get back on my feet again i'm gonna run my way to you  oh when all is lost and come undone i'm gonna sing out and see ya through but no the water the water flows over  oh when i get back off my feet again i'm gonna crown my days a turn  so all i've been on my knees again and i'll do it all the time  and when i get back on solid ground i'm gonna crawl my way to you  oh i once was lost but now i'm found so here's what i'm gonna do  i sing oh the water the water flows over i sing oh the water the water flows over you they built a web for me they spun a web for me i know it doesn't seem that way but maybe it's the perfect day even though the bills are piling and maybe lady luck ain't smiling  but if we'd only open our eyes we'd see the blessings in disguise that all the rain clouds are fountains though our troubles seem like mountains there's gold in them hills there's gold in them hills so don't lose heart give the day a chance to start  every now and then life says where do you think you're going so fast we're apt to think it cruel but sometimes it's a case of cruel to be kind  and if we'd get up off our knees why then we'd see the forest for the trees and we'd see the new sun rising over the hills on the horizon there's gold in them hills there's gold in them hills  so don't lose faith give the world a chance to say a word or two my friend there's no telling how the day might end and we'll never know until we see that there's gold in them hills there's gold in them hills so don't lose heart give the day a chance to start there's gold in them hills there's gold in them hills you only live twice or so it seems one life for yourself and one for your dreams  you drift through the years and life seems tame 'til one dream appears and love is its name  and love is a stranger who'll beckon you on don't think of the danger or the stranger is gone  this dream is for you so pay the price make one dream come true you only live twice  and love is a stranger who'll beckon you on don't think of the danger or the stranger is gone  this dream is for you so pay the price make one dream come true you only live twice uno dos tres cuatro   look at the stars look how they shine for you everything you do yeah they were all yellow i came along wrote a song for you and all the things you do and it was called yellow so then i took my turn what a thing to have done and it was all yellow let's go    your skin oh yeah your skin and bones turn into something beautiful you know you know i love you so cantar todos you know i love you so   i swam across i jumped across for you what a thing to do 'cause you were all yellow i drew a line i drew a line for you what a thing to do my love and it was all yellow yeah yeah yeah    your skin oh yeah your skin and bones turn into something beautiful and you know for you i'd bleed myself dry for you i'd bleed myself dry   it's true look how they shine for you look how they shine for you look how they shine for look how they shine for you look how they shine for you look how they shine   entonces buenas noches amigos y amigas porteños y porteñas muchísimo gracias para todo estos están los última conciertos de nuestra mundial gira mundial y estamos muy feliz de estar con ustedes en argentina thank you everybody have a great time huh los vemos tocar el mejor concierto del mundo para ustedes más fuerte por favor look at the stars how they shine for you all the things that you do let's go let's go todavía más fuerte i turn the music up i got my records on from underneath the rubble sing a rebel song don't want to see another generation drop i'd rather be a comma than a full stop  maybe i'm in the black maybe i'm on my knees maybe i'm in the gap between the two trapezes but my heart is beating and my pulses start cathedrals in my heart  pre as we saw oh this light i swear you emerge blinking into to tell me it's alright as we soar walls every siren is a symphony   and every tear's a waterfall is a waterfall oh is a waterfall oh oh oh is a is a waterfall every tear is a waterfall oh oh oh   so you can hurt hurt me bad but still i'll raise the flag    pre as we saw oh this light i swear you emerge blinking into to tell me it's alright as we soar walls every siren is a symphony   and every tear's a waterfall is a waterfall oh is a waterfall oh oh oh is a is a waterfall every tear is a waterfall oh oh oh   so you can hurt hurt me bad but still i'll raise the flag bones sinking like stones all that we fought for homes places weve grown all of us are done for   we live in a beautiful world yeah we do yeah we do we live in a beautiful world  bones sinking like stones all that we fought for homes places weve grown all of us are done for   and we live in a beautiful world yeah we do yeah we do we live in a beautiful world  piano    and we live in a beautiful world yeah we do yeah we do we live in a beautiful world   oh all that i know there's nothing here to run from 'cause yeah everybody here's got somebody to lean on ooh ooh ooh ahh ahh ooh   when she was just a girl she expected the world but it flew away from her reach so she ran away in her sleep and dreamed of paraparaparadise paraparaparadise paraparaparadise every time she closed her eyes  interlude woo ooh ooh wahh ahh ooh   when she was just a girl she expected the world it flew away from her reach the bullets catch in her teeth life goes on it gets so heavy the wheel breaks the butterfly every tear a waterfall in the night the stormy night she'll close her eyes in the night the stormy night away she'd fly    and dream of paraparaparadise paraparaparadise paraparaparadise ohohohohohohohoh she'd dream of paraparaparadise paraparaparadise paraparaparadise ohohohohohohohoh   la la la la la la la la la la la la la la la la so lying underneath those stormy skies she'd say oh i know the sun must set to rise    this could be paraparaparadise paraparaparadise paraparaparadise ohohohohohohohoh this could be paraparaparadise paraparaparadise paraparaparadise ohohohohohohohoh    this could be paraparaparadise paraparaparadise paraparaparadise ohohohohohohohoh  post paraparadise paraparadise paraparaparadise ohohohohohohohoh  predrop ohohohohohohohoh ohohohohohohohoh ohohohohohohohoh ohohohohohohohoh ohohohohohohohoh ohohohohohohohoh ohohohohohohohoh in the night the stormy night she'll close her eyes  drop oh close her eyes oh close her eyes oh close her eyes oh close her eyes oh close her eyes oh close her eyes oh close her eyes oh  predrop close her eyes oh close her eyes oh close her eyes oh close her eyes oh close her eyes oh close her eyes oh close her eyes oh close her eyes oh  drop close her eyes oh close her eyes oh close her eyes oh close her eyes oh close her eyes oh close her eyes oh close her eyes oh close her eyes oh close her eyes oh eyes oh eyes oh eyes 4  yeah  i was working part time in a fiveanddime my boss was mr mcgee he told me several times that he didn't like my kind 'cause i was a bit too leisurely  seems that i was busy doing something close to nothing but different than the day before that's when i saw her ooh i saw her she walked in through the out door out door  she wore a raspberry beret the kind you find in a second hand store raspberry beret and if it was warm she wouldn't wear much more raspberry beret i think i love her  built like she was she had the nerve to ask me if i planned to do her any harm  so look here i put her on the back of my bike and a we went riding down by old man johnson's farm  i said now overcast days never turned me on but something about the clouds and her mixed  she wasn't too bright but i could tell when she kissed me she knew how to get her kicks  she wore a raspberry beret the kind you find in a second hand store raspberry beret and if it was warm she wouldn't wear much more raspberry beret i think i love her  the rain sounds so cool when it hits the barn roof and the horses wonder who you are thunder drowns out what the lightning sees you feel like a movie star  listen they say the first time ain't the greatest but i tell ya if i had the chance to do it all again  i wouldn't change a stroke 'cause baby i'm the most with a girl as fine as she was then  raspberry beret the kind you find the kind you find the kind you find in a second hand store oh no no  raspberry beret and if it was warm where have all the raspberry women gone she wouldn't wear much more yeah raspberry beret  i think i i think i i think i love her  raspberry beret no no no no no no the kind you find in a second hand store raspberry beret  tell me where have all the raspberry women gone and if it was warm she wouldn't wear much more raspberry beret i think i love turn your magic on umi she'd say everything you wants a dream away and we are legends every day that's what she told me turn your magic on to me she'd say everything you wants a dream away under this pressure under this weight oh we are diamonds   and i feel my heart beating i feel my heart underneath my skin i feel my heart beating 'cause you make me feel like i'm alive again alive again oh you make me feel like i'm alive again   said i can't go on not in this way i'm a dream that died by light of day i'm gonna hold up half the sky and say only i own me   and i feel my heart beating i feel my heart underneath my skin i feel my heart beating 'cause you make me feel like im alive again alive again oh you make me feel like im alive again  spoken  todo el mundo por favor todo el mundo abajo todo el mundo get down low abajo let's go low lets get down low go low go low everybody go down abajo todo el mundo abajo uno dos uno dos tres get up   woo woo if we've only got this life this adventure oh then i and if we've only got this life you'll get me through yeah if weve only got this life this adventure oh then i want to share it with you with you with you now sing it too let's go   woo hoo woo hoo woo hoo woo hoo woo hoo woo hoo woo hoo woo hoo woo hoo woo hoo woo hoo woo hoo woo hoo woo hoo woo hoo woo hoo woo hoo woo hoo woo hoo woo hoo woo hoo woo hoo woo hoo woo hoo woo hoo woo hoo woo hoo woo hoo woo hoo woo hoo woo hoo woo hoo woo muchísimas gracias sleep on the ocean sleep on the sand i've been very busy since the fall of man son of the devil you won't understand now come on baby that's a sudden end  speak of the devil inside my head you've been very busy since the world's gonna end tired of the symbol the sun the sand talk a little louder i don't understand  gonna get the supper to the world tonight i'm gonna fall asleep there's a tiny little sin i've gotta do got to say that i'm only holding up at night turn with the flow or this storm  there's a world outside wanna let you in there's a world outside not going in the world outside won't let you in  love love got over that storm before you get somewhere oh love got over that storm  i've got a wife and kids in baltimore jack i went out for a ride and i never came back she floats like a swan grace on the water lips like sugar lips like sugar just when you think you've caught her she glides across the water she calls for you tonight to share this moonlight  she'll flow down your river and ask him and she'll give you  lips like sugar sugar kisses lips like sugar sugar kisses  she knows what she knows i know what she's thinking sugar kisses sugar kisses just when you think she's yours she's flown to other shores to laugh at how you break to melt into this lake  she'll flow down your river and ask him and she'll give you lips like sugar sugar kisses lips like sugar sugar kisses  she'll be my mirror reflect what i am a loser and a winner the king of siam and my siamese twin she knows what i'm thinking  she'll flow down your river and ask him and she'll give you  lips like sugar sugar kisses lips like sugar sugar kisses 'cause youre a sky 'cause you're a sky full of stars im gonna give you my heart 'cause you're a sky 'cause you're a sky full of stars and 'cause you light up my path i send this out to my dad and my mom let's go   i don't care go on and tear me apart i dont care if you do oohooh ooh cause in a sky 'cause in a sky full of stars i think i saw you   cause you're a sky 'cause you're a sky full of stars i want to die in your arms oh oh oh cause you get lighter the more it gets dark yes i'm gonna give you my heart come on come on come on come on   i don't care go on and tear me apart i don't care if you do oohooh ooh 'cause in a sky 'cause in a sky full of stars i think i saw you i think i saw you   'cause you're a sky you're a sky full of stars such a heavenly view you're such a heavenly view yeah yeah yeah oh ooh muchísimas gracias amigos amigas thank you so much everyone poor me i'm floating out to sea an opportunity that went by poor you oh what you going to do no what you going to do you just cry oh you always come undone try into the sun you don't know why poor you i know what you going to do come on love i'll see it through i don't know why   i hear you come nearer i hear you but i don't understand i hear you come nearer i hear you but i don't understand   poor me now float me out to sea oh no just let it be come on try poor you oh what you going to do oh what you gonna do you just cry   i hear you come nearer i hear you but i don't understand i hear you come nearer i hear you but i don't understand i don't understand i don't understand oooh ahhhh ahhhh kylie minogue they call me the wild rose but my name was elisa day why they call me it i do not know for my name was elisa day     from the first day i saw her i knew she was the one she stared in my eyes and smiled for her lips were the colour of the roses that grew down the river all bloody and wild    kylie minogue when he knocked on my door and entered the room my trembling subsided in his sure embrace he would be my first man and with a careful hand he wiped at the tears that ran down my face      chris on the second day i brought her a flower she was more beautiful than any woman i'd seen i said do you know where the wild roses grow so sweet and scarlet and free  4  kylie on the second day he came with a single red rose said will you give me your loss and your sorrow i nodded my head as i lay on the bed he said if i show you the roses will you follow    5  kylie on the third day he took me to the river he showed me the roses and we kissed and the last thing i heard was a muttered word as he knelt stood smiling above me with a rock in his fist  6  chris on the last day i took her where the wild roses grow and she lay on the bank the wind light as a thief and i kissed her goodbye said all beauty must die and lent down and planted a rose between her teeth a flock of birds hovering above just a flock of birds that's how you think of love and i always look up to the sky pray before the dawn 'cause they fly always sometimes they arrive sometimes they are gone they fly on a flock of birds hovering above into smoke i'm turned and rise following them up still i always look up to the sky pray before the dawn 'cause they fly away one minute they arrive next you know they're gone they fly on fly on so fly on ride through maybe one day i'll fly next to you they fly on ride through maybe one day i come fly with you fly on fly on fly on they put the world in a tin can black market contraband and it hurt just a little bit when they sliced and packaged it in a long black trench coat two hands around the throat oh you wanna get it right sometimes   there's so much to be scared of and not much to make sense of how did the clowns ever get control oh if you hear can you let me know how can they invade it oh when it's so complicated oh you wanna get it right sometimes you just wanna get it right sometimes   that's how you see the world how many times can you say you can't believe what you heard that's how you see the world don't you worry yourself you're not gonna get hurt oooh   is there's something missing there's nobody listening are you're running in a circle how can you be too careful we don't wanna be mantrapped we don't wanna be shrinkwrapped oh just wanna get it right sometimes we just wanna get it right sometimes   that's how you see the world how many times have you heard that you can't believe a word that's how you see the world oh don't you worry yourself 'cause nobody can hurt you   that's how you see the world that's how you see the world help me out help me out cause i'm falling and i can't get back and there isn't any number i can call for that  oh help me out help me out cause i fall and i was so scared i know what was severed and i'm rolling in  even when the sun set it burned my eyes even when the dark began to climb  and just because i roll the dice and turned to worse together for the grace of god don't know why can you hear that sound i can feel it in me now coming from the ground from my head to my mouth oh can you feel it start like a bullet in a china shop oh when you start don't stop when it starts you should never stop no  oh ten to the dozen who does who doesn't who chooses who's chosen who must who musn't who rests and who runs out don't ask that question when your world's turned upside down oh when your world's turned upside down  i can it feel sink i said i'd never do that again oh can you catch it now oh like a bullet in your mouth like a balls and a ball of chain spark on another rain oh can you hear that sound i can feel it in my mouth oh  oh ten to the dozen who does who doesn't who chooses who's chosen who must who mustn't who rests and who runs out don't ask that question when my world's turned upside down no when your world's turned upside down  falling over this side it feels so wrong it feels right what it was and what it's not come and break it into pieces that begin to what i was and what i'm not i used to rule the world seas would rise when i gave the word now in the morning i sleep alone sweep the streets i used to own  i used to roll the dice feel the fear in my enemy's eyes listen as the crowd would sing now the old king is dead long live the king  one minute i held the key next the walls were closed on me and i discovered that my castles stand upon pillars of salt and pillars of sand  i hear jerusalem bells aringing roman cavalry choirs are singing be my mirror my sword and shield my missionaries in a foreign field  for some reason i can't explain once you go there was never never an honest word and that was when i ruled the world  it was the wicked and wild wind blew down the doors to let me in shattered windows and the sound of drums people couldn't believe what i'd become  revolutionaries wait for my head on a silver plate just a puppet on a lonely string oh who would ever want to be king  i hear jerusalem bells aringing roman cavalry choirs are singing be my mirror my sword and shield my missionaries in a foreign field  for some reason i can't explain i know saint peter won't call my name never an honest word but that was when i ruled the world  i hear jerusalem bells aringing roman cavalry choirs are singing be my mirror my sword and shield my missionaries in a foreign field  for some reason i can't explain i know saint peter won't call my name never an honest word but that was when i ruled the world tracy died soon after a long fought civil war just after i'd wiped away his last tear i guess he's better off than he was before a whole lot better off than the fools he left here i used  cry 4 tracy because he was my only friend those kind of cars don't pass u every day i used  cry 4 tracy because i wanted to see him again but sometimes sometimes life ain't always the way  sometimes it snows in april sometimes i feel so bad so bad sometimes i wish life was never ending and all good things they say never last  springtime was always my favorite time of year a time 4 lovers holding hands in the rain now springtime only reminds me of tracy's tears always cry 4 love never cry 4 pain he used  say so strong unafraid to die unafraid of the death that left me hypnotized no staring at his picture i realized no one could cry the way my tracy cried  sometimes it snows in april sometimes i feel so bad sometimes sometimes i wish that life was never ending and all good things they say never last  i often dream of heaven and i know that tracy's there i know that he has found another friend maybe he's found the answer  all the april snow maybe one day i'll see my tracy again  sometimes it snows in april sometimes i feel so bad so bad sometimes i wish that life was never ending but all good things they say never last  all good things that say never last and love it isn't love until it's past my song is love my song is love unknown and it goes up you don't have to be alone my heavy heart looks like it's made of stone but it's so hard to see clearly you don't have to be on your own x   and i'm not going to take it back oh i'm not going to say i don't mean that you're the target that i'm aiming at and i'm not singing on my own   that bitter breathe that bitter breathe has blown left me on fire for you clearly taken everything and gone its taken everything i own   but i'm not going to take it back im not going to say i dont mean that you're the target that i'm aiming at and i'm nothing on my own got to get that message home   i'm not going to stand and wait not going to leave it until it's much too late on a platform i'm going to stand and say oh i'm nothing on my own till that bitter breathe has blown my song is love is love unknown and ive got to get that message home look at the stars look how they shine for you and everything you do yeah they were all yellow i came along i wrote a song for you and all the things you do and it was called yellow so then i took my turn oh what a thing to have done and it was all yellow  your skin oh yeah your skin and bones turn into something beautiful and you know you know i love you so you know i love you so  i swam across i jumped across for you oh what a thing to do 'cos you were all yellow i drew a line i drew a line for you oh what a thing to do and it was all yellow  and your skin oh yeah your skin and bones turn into something beautiful and you know for you i bleed myself dry for you i bleed myself dry  it's true look how they shine for you look how they shine for you look how they shine for look how they shine for you look how they shine for you look how they shine vamos a cantar juntos sing eyo eyo sing eyo eyo   i turn the music up i got my records on i shut the world outside until the lights come on maybe the streets alight maybe the trees are gone but i feel my heart start beating to my favorite song and all the kids they dance all the kids all night until monday morning sees another life i turn the music up i'm on a roll this time heaven is in sight yeah woo woo ooh   i turn the music up i got my records on from underneath the rubble sing a rebel song don't want to see another generation drop i'd rather be a comma than a full stop maybe i'm in the black maybe i'm on my knees maybe i'm in the gap between the two trapezes but my heart is beating pulses start cathedrals in my heart   as we saw oh this light i swear you emerge blinking into to tell me it's alright as we soar walls every siren is a symphony every tear's a waterfall is a waterfall is a waterfall ah is a waterfall every teardrop is a waterfall ah   so you can hurt hurt me bad but still i'll raise still i'll raise the flag   it was a waterfall a waterfall oh every tear every tear oh every teardrop is a waterfall oh every tear every tear oh every teardrop is a waterfall i said every tear every tear every teardrop is a waterfall every tear every tear every teardrop is a waterfall come on marianne the sun sets in your eyes i'm in love again come on once or twice  wanna be your air come on now all i see wanna ride along follow all our dreams  kaleidoscopes that fall into the sun gonna lay the blame on me not anyone gonna write a song sing it to the sun don't tell anyone don't tell anyone  oh sweet marianne you're the only one i've ever loved and i swear it on swear it on the moon and stars above i wanna understand and i wanna be your man i wanna be your man swear it on the moon and stars  i will full moon just a part of me gonna write a song and see how a woman feel come on get it on right into the sun gonna ride along and fly gonna let it on  oh sweet marianne you're the only one i've ever loved and i swear it on swear it on the moon and stars above in my head you're the only one i've ever loved i wanna be your man you're the only one i've ever loved  oh don't you love me oh don't you love me don't you love me oh don't you love me  yeah yeah yeah  yeah yeah yeah yeah yeah yeah yeah yeah yeah yeah yeah yeah yeah yeah yeah yeah yeah yeah yeah yeah yeah  oh yeah lights go out and i can't be saved tides that i tried to swim against have brought me down upon my knees oh and i beg i beg and plead singing come out of things unsaid shoot an apple off my head and a trouble that cant be named a tiger's waiting to be tamed singing   you are you are   confusion that never stops the closing walls and ticking clocks are gonna come back and take you home i could not stop that but you now know so i come out upon the seas cursed missed opportunities am i a part of the cure or am i part of the disease singing   you are you are you you are you are   oh nothing else compares oh nothing else compares oh nothing else compares no no   you are you are   home home where i wanted to go home home where i wanted to go let's go  yeah okay alright muchisimas gracias amigos tenemos mucha suerte de estar aquí uno dos saltando   i stole a key took a car downtown where the lost boys meet took a car downtown took what they offered me to set me free i saw the lights go down at the end of the scene saw the lights go down and standing in front of me    is you   in my scarecrow dreams when they smash my heart into smithereens be a bright red rose come bursting through concrete be a cartoon heart oh and light a fire a fire a spark light a fire a flame in my heart well run wild well be glowing in the dark    whooooh glowing in the dark whoo whoo   all the boys all the girls all that matters in the world all the boys all the girls all the madness that occurs all the highs all the lows as the room aspinning goes well run riot well be glowing in the dark  interlude manos por favor arriba sing ruido vamos a saltar a saltar uno dos tres go   so well soar luminous and wired well be glowing in the dark estáis tan generoso muchisimas gracias con todo mi corazón come on now don't you want to see this thing that's happening to me like moses has power over sea so you've got a power over me come on now don't you want to know you're a refuge somewhere i can go and you're air that air that i can breathe you're my golden opportunity and oh oh yes i would if i only could and you know i would now baby i oh baby i i wish come on now don't you want to see just what a difference you've made in me and i'll be waiting no matter what you say and i'll keep waiting for days and days and days and oh oh yes i would if i only could and you know i would now baby i oh baby i wish i wish i wish if the sky's gonna fall down let it fall on me if you're gonna break down you can break on me if the sky gonna fall down let it fall on me oh lord let it fall on me call it magic call it true i call it magic here with all of you and i just got broken broken into two still i call it magic when i'm next to you eoheoh   and i don't and i don't and i don't and i don't no i don't it's true i don't no i don't no i don't no i don't want anybody else but you and i don't no i don't no i don't no i don't no i don't it's true i don't no i don't no i don't no i don't want anybody else but you   call it magic cut me into two and with all your magic i disappear from view and i can't get over can't get over you still i call it magic you're such a precious jewel   no i don't and i don't and i don't and i don't no i don't it's true i don't no i don't no i don't no i don't want anybody else but you i don't no i don't no i don't no i don't no i don't it's true i don't no i don't no i don't no i don't want anybody else but you   wanna fall fall so far i wanna fall fall so hard and i call it magic call it true call it mamagic   and if you were to ask me after all that we've been through still believe in magic well yes i do of course i do   turn the lights up please please so we can say hello to everybody show the love to the  56 nuestro rista mr jonny buckland nuestro bajista mr guy berryman nuestro baterista mr will champion when you're sitting on a beach in a car with the paint dried up well you're going to give a cause when the rain washed up well being just there with the gypsy talking to my friend but you'll never get with it if you don't get respect oh well you'll never get with it if you just want respect   but sometimes the money's going to run out and you'll be standing on the corner with a belly full of doubt sometimes somebody's going to bring you down and you'll be standing on your own with a bucket for a crown   well me and the boys were standing thinking we were hip i don't wanna be the captain of a sinking ship well me and the boys in a town where the mormon go listening to a session by noel gallagher i was listening to a session by noel gallagher   they said sometimes your money's going to run out and you'll be standing on a corner with a belly full of doubt oh someday somebody's going to bring you down and you'll be standing on a corner with a bucket for a crown oh you'll be standing on a corner just waiting on a corner standing on a corner with a bucket for a crown here i am and beyond the reach of my hands she's sound asleep and she's sweet another know why these dreams could've seen her and i watched her slipping away and i know i'll be hunting high and low high there's no end to the lengths i'll go too high and low high there's no end to the lengths i'll go too find her again upon this my dreams i depend and through the dark i can hear the pounding of her heart next to mine she's the sweetest love i could find so i know i'll be hunting high and low high there's no end to the lengths i'll go too high and low high do you know how it feels to love you do you know how it feels to love you high and low i've been reading books of old the legends and the myths achilles and his gold hercules\\u2005and\\u2005his gifts spiderman's control\\u2005and batman with his fists now clearly\\u2005i don't see myself upon that list  pre but she said where'd you wanna go how much you wanna risk i'm not looking for somebody with some superhuman gifts some superhero some fairy tale bliss just something i can turn to somebody i can kiss i want something just like this   doodoodoo doodoodoo doodoodoo doodoo doodoodoo doodoodoo oh i want something just like this doodoodoo doodoodoo doodoodoo doodoo doodoodoo doodoodoo   oh i want something just like this i want something just like this   i've been reading books of old the legends and the myths the testaments they told the moon and its eclipse and superman unrolls a suit before he lifts but i'm not the kind of person that it fits  pre she said where'd you wanna go how much you wanna risk i'm not looking for somebody with some superhuman gifts some superhero some fairy tale bliss just something i can turn to somebody i can miss   i want something just like this oh i want something just like this oh i want something just like this   doodoodoo doodoodoo doodoodoo doodoo doodoodoo doodoodoo something just like this doodoodoo doodoodoo doodoodoo doodoo doodoodoo doodoodoo  pre where'd you wanna go how much you wanna risk i'm not looking for somebody with some superhuman gifts some superhero some fairy tale bliss just something i can turn to somebody i can kiss i want something just like this i want something just like this sing   oh i want something just like this something just like this oh i want something just like this oh i want something just like this poor me floatin' out to sea an opportunity that went bad  poor you now what you gonna do now what you gonna do you just cry   poor me so blind i couldn't see the forest for the trees i don't know why  poor you you split yourself in two now what you gonna do you just cry   i hear you come nearer i hear you but i don't understand i hear you come nearer i hear you but i don't understand   poor me floatin' out to sea an opportunity that went bad  poor you now what you gonna do what you gonna do you just cry   i hear you come nearer i hear you but i don't understand i hear you come nearer i hear you but i don't understand   i don't understand i don't understand woooh  so now i'm going to feel it now i'm going to feel it now all winter we got carried away over on the rooftops let's get married all summer we just hurried so come over just be patient and dont worry so come over just be patient and dont worry so come over just be patient and dont worry and dont worry chris feat bono on all star tribute  bono mother mother there's too many of you crying  chris brother brother brother there's too many of you dying you know you've got to find a way to bring some lovin' here to stay  bono father father we don't need to escalate and war is not the answer for only love can conquer hate  chris you know we've got to find a way to bring some lovin' here to stay picket lines won't block our way  bono don't punish me with brutality talk to me and you can see what's going on what's going on what's going on what's going on father father everybody thinks we're wrong but who are they to judge us together we can be strong  chris you know we've got to find a way to bring some lovin' here to stay picket lines won't block our way don't punish me with brutality talk to me so you can see what's going on what's going on what's going on what's going on what's going on what's going on what's going on what's going on deep down in louisiana close to new orleans way back up in the woods among the evergreens there stood a log cabin made of earth and wood where lived a country boy name of johnny b goode who never ever learned to read or write so well but he could play a  just like ringin' a bell  go go go johnny go go go johnny go go go johnny go go go johnny go go johnny b goode  he use to carry his  in a gunny sack go sit beneath the tree by the railroad track oh the engineer would see him sitting in the shade strummin' with the rhythm that the drivers made people passing by they would stop and say oh my but that little country boy could play  go go go johnny go go go johnny go go go johnny go go go johnny go go johnny b goode  his mother told him someday you will be a man and you will be the leader of a big old band many people comin' from miles around to hear you play your music when the sun go down maybe someday your name will be in lights sayin' johnny b goode tonight  go go go johnny go go go go johnny go oh go go johnny go oh go go johnny go go johnny b goode oh love is a burning thing and it makes a firey ring found my wild desire i sleep into a ring of fire i fell into a burnin ring of fire i went down down down and the flames went higher and it burns burns burns the ring of fire the ring of fire oh i fell into a burnin ring of fire i went down down down and the flames went hgher and it burns burns burns the ring of fire the ring of fire oh the taste of love is sweet when hearts like ours meet i fell for you like a child oh but the fire was wild oh i feel into a burnin ring of fire i went down down down and the flames went higher and it burns burns burns the ring of fire the ring of fire i fell into a burnin ring of fire i went down down down and the flames went higher and it burns burns burns the ring of fire the ring of fire and it burns burns burns the ring of fire silver road of only sin but i'm coming back don't win and the streets that rode the morning in  light that boat on this river gotta know where to begin come on out the other soul of stephen and things will never be the same again i think of you i haven't slept i think i do but i don't forget my body moves goes where i will but though i try my heart stays still it never moves just won't be led and so my mouth waters to be fed   and you're always in my head always in my head you're always in my head you're always in my head ayy you're always in my head oh no you're always in my always in my   this i guess is to tell you you're chosen out from the rest lyrics for this song have yet to be released please check back once the song has been released she wakes up every morning just to do her hair now because she cares yeah her day just\\u2005wouldnt\\u2005be right without her\\u2005makeup never had her makeup shes just like\\u2005you and me but shes homeless shes homeless as she stands there singing for money   ladadeeladada ladadeeladada ladadeeladada ladadooladada   in my sleep i see her begging preaching please oh oh please although her body isnt mine i ask oh why though oh why oh why though shes just like you and me but shes homeless but shes homeless as she stands there singing for money   ladadeeladadada ladadeeladadada ladadeeladadada ladadooladadada here come in strings now lets go   break woo woo woo breakdown now  breakdown and she like you and me like you and me she stands there singing for money   ladadeeladada ladadeeladadada sing ladadeeladada ladadeeladadada lets go lolololo ahlololololo lalalolololo lalalolololo   lets fade it out boys lets fade it out boys lets fade it out boys and well fade it out and do the fade out this is a fade out shhhh annie you better rescue us we dont know how to end this song woo we need a dj dj now we need a dj now woo pfffft holy moly look how far the river took us how far the river took my son but the boats gone 'round the harbour and i gotta know the sinner and i wait  there's a boat goin down the road and sea a tumble will begin it's the world you're living in  the boat will sign the bottom and i hit down the button oh i can't describe the stage you put me in oh yeah  and i'm so sorry i've been known to hurry and baby i hope that i'm sorry cause tonight those wedding bells are ringing up upon that hill and i don't wanna swallow such a bitter pill you keep on moving but i stay still but i always loved you and i always will  days of no sleeping caked in mud all kinds of poison in my blood i lost the only thing i ever loved  ooh i heard them ringing and processioning by umbrellas in the clear blue sky i saw you swimming in that sea of white  ooh and wedding bells ringing up upon that hill and i don't wanna swallow such a bitter pill you keep on moving baby i stay still i always loved you and i always will  ooh i loved you and i say it still i always loved you and i always will singing la la la la la la la la la  if everything that went before didn't matter so la la la la la la la la la i always loved you and i always will talking to the songbird yesterday flew me to a place not far away she's a little pilot in my mind singing songs of love to pass the time  gonna write a song so she can see give her all the love she gives to me talk of better days that have yet to come i never felt this love from anyone  she's not anyone she's not anyone she's not anyone  a man can never dream these kind of things especially when she came and spread her wings whispered in my ear the things i'd like then she flew away into the night  gonna write a song so she can see give her all the love she gives to me talk of better days that have yet to come never felt this love from anyone  she's not anyone she's not anyone she's not anyone there's a man who swears he's god but i'm pretty sure he's not there's a man who walks around like he owns the fucking lot  there's a man who takes his time from the hands of a cuckoo clock you can hear him walk around tick tock tick tock tick tock  at first it was easy but now why's it have to be so hard heaven is a fire escape you try to cling to in the dark  at first it was simple but now it got too complicated but the world just got a lovely time or blame it all on my mistake  maybe i'll find heaven one day after dark maybe you'll find heaven is a place to part  control the way we turn we are doing everything we can we still can't seem to switch it on and oh my time ran out i am floating up beneath the clouds trying to turn it on it on  and oh it's you and me baby i'm so sorry baby i've done it turning me on when you try your best but you don't succeed when you get what you want but not what you need when you feel so tired but you can't sleep stuck in re when the tears come streaming down your face when you lose something you can't replace when you love someone but it goes to waste could it be worse  hook lights will guide you home and ignite your bones and i will try to fix you   and high up above or down below when you're too in love to let it go but if you never try you'll never know just what you're worth  hook lights will guide you home and ignite your bones and i will try to fix you   tears stream down your face when you lose something you cannot replace tears stream down your face and i tears stream down your face i promise you i will learn from my mistakes tears stream down your face and i  hook lights will guide you home and ignite your bones and i will try to fix you boom boom ka buba de ka boom boom ka buba de ka boom boom ka buba de ka    choir moses martin i want to know when i can go back and get drunk with my friends  boom boom ka buba de ka boom boom ka buba de ka boom boom ka buba de ka    rosaleem of the damascene yes she had eyes like the moon would have been on the silver screen but for the missile monsoon she went woo woo woo woo oooooo indigo up in heaven today woo woo woo woo oooooo with bombs going boom baboomboom  boom boom ka buba de ka boom boom ka buba de ka boom boom ka buba de ka    baba would go where the flowers grow almond and peach trees in bloom and he would know just when and what to sow so golden and opportune he went woo woo woo woo oooooo tulips the colour of honey today it's true true woo woo oooooo with bombs going boom baboomboom he say  boom boom ka buba de ka boom boom ka buba de ka boom boom ka buba de ka     choir oh i want to know when i can go back and get drunk with my friends i want to know when i can go back and feel home again oh i want to know when i can go back and get drunk with my friends i want to know when i can go back and feel home again  boom boom ka buba de ka boom boom ka buba de ka boom boom ka buba de ka    woo woo woo woo oooooo woo woo woo woo oooooo woo woo woo woo oooooo woo woo woo woo oooooo  boom boom ka buba de ka boom boom ka buba de ka boom boom ka buba de ka  i tried my best to be just like the other boys in school i tried my best\\u2005to\\u2005get it right and\\u2005died in every duel this mountainside is\\u2005suicide this dream will never work still the sign upon my headstone write a champion of the world  interlude yeah    i tried my best to stay alight fly like a firework i tried my best to stay in fight but my rocket ship won't work no referee don't stop the fight everyone can see i'm hurt still i'll stand before conquistadors till i'm champion of the world    and when i sail i'm sailing west knowing i might fail but still i'm hoping for the best in in my dreams onto my chest she'll pin the colours and say i wandered the whole wide world but baby you're the best  interlude  lo lololo lo oh eeyoeeyoeeyoeeyeah lo lololo lo    so i'm flying on my bicycle heading upwards from the earth i'm jumping with no parachute out into the unii have et on my bicycle because giving up won't work now i'm riding on my rocketship and i'm champion of the world doodooroo doodoodooroo dooroo dooroo dooroo brothers and sisters unite it's the time of your lives it's the time of your lives breakdown breakdown gotta spread love around gotta spread it around   brothers and sisters feel fine it's the time of your lives it's the time of your lives there's no sound no sound like this feeling you found like this feeling you found but just stay down   'cause sometimes you'll feel and stay 'round sometimes you'll feel  post and it's me they're looking for and it's me i will never survive but we'll be around so long   brothers and sisters unite it's the time of your lives it's the time of your lives breakdown breakdown gotta spread love around gotta spread it all 'round but just stay down   and sometimes you'll feel so stay 'round and sometimes you'll feel  post and it's me they're looking for and it's me i will never survive but we'll be around so long   brothers and sisters unite it's the time of your lives it's the time of your lives oh brother i can't i can't get through ive been trying hard to reach you 'cause i dont know what to do oh brother i can't believe it's true im so scared about the future and i wanna talk to you oh i wanna talk to you   you can take a picture of something you see or swim a river out to the sea you can climb a ladder up to the sun or write a song nobody has sung or do something that's never been done   are you lost or incomplete do you feel like a puzzle you can't find your missing piece tell me how do you feel well i feel like they're talking in a language i don't speak and they're talking it to me   so you take a picture of something you see or swim a river out to the sea you can climb a ladder up to the sun or write a song nobody has sung or do something that's never been done or do something that's never been done   so you don't know where you're going and you wanna talk you tell anyone who'll listen but you feel ignored when you worry about the future and the third world war nothing's really making any sense at all let's talk let's talk let's talk let's talk computer voice remix  oh brother i can't i can't get through i've been trying hard to reach you cause i don't know what to do oh brother i can't believe it's true believe it's true i'm so scared about the future and i wanna talk to you  computer voice now talk baby computer chant talk to me talk to me talk to me talk to me talk to me  you could take a picture of something you see in the future where will i be you can climb a ladder up to the sun or write a song nobody had sung or do something that's never been done  computer voice now talk baby computer chant talk to me talk to me talk to me talk to me talk to me  are you lost or incomplete do you feel like a puzzle you can't find your missing piece tell me how you feel how you feel how you feel how you feel  so you take a picture of something you see in the future where will i be you could climb a ladder up to the sun or write a song nobody had sung or do something that's never been done  computer chant talk to me talk to me talk to me talk to me talk to me  computer voice now talk baby  how you feel how you feel how you feel how you feel let's talk let's talk let's talk let's talk let's talk let's talk  so you don't know where you're going but you wanna talk you'll tell anyone who'll listen but you feel ignored when you worry about the future or the third world war and you feel like you're going where you've been before let's talk let's talk let's talk let's talk let's talk let's talk  computer chant talk to me talk to me talk to me talk to me talk to me in the darkness before the dawn in the darkness before the dawn leave a light a light on leave a light a light on when she was just a girl she expected the world but it flew away from her reach so she ran away in her sleep and dreamed of paraparaparadise paraparaparadise paraparaparadise every time she closed her eyes when she was just a girl she expected the world but it flew away from her reach and the bullets catch in her teeth life goes on it gets so heavy the wheel breaks the butterfly every tear a waterfall in the night the stormy night she'll close her eyes in the night the stormy night away she'd fly and dreams of paraparaparadise paraparaparadise paraparaparadise oh oh oh oh oh ohohoh she'd dream of paraparaparadise paraparaparadise paraparaparadise oh oh oh oh oh ohohohoh lalalalalalala lalalalalalalalalala and so lying underneath those stormy skies she'd say oh ohohohoh i know the sun must set to rise this could be paraparaparadise paraparaparadise this could be paraparaparadise oh oh oh oh oh ohohoh this could be paraparaparadise paraparaparadise this could be paraparaparadise oh oh oh oh oh ohohohoh when i get back on solid ground here's what i'm gonna do oh all i've ever lost and found i'm gonna crawl my way to you   when i get back on my feet again i'm gonna take you to the moon but you're leaving my hands again i can wait up there until   oh the water the water flows over oh the water the water flows over the lights go out and i can't be saved tides that i tried to swim against have brought me down upon my knees oh i beg i beg and plead singing  come out of things unsaid shoot an apple off my head and a trouble that can't be named a tiger's waiting to be tamed singing  you are you are  confusion never stops closing walls and ticking clocks gonna come back and take you home i could not stop that you now know singing  come out upon my seas curse missed opportunities am i a part of the cure or am i part of the disease singing  you are you are you are you are  you are you are  and nothing else compares oh nothing else compares and nothing else compares  you are you are  home home where i wanted to go home home where i wanted to go home home where i wanted to go you are home home where i wanted to go you are  hmmhmm hmmhmm hmmhmm hmmoh hmmhmm hmmhmm hmmhmm    lord when i'm broken when i'm broken i'm in need i'm in need feel\\u2005that\\u2005ocean feel that\\u2005ocean swallowing me swallowing me my head is\\u2005hanging head is hanging so sorrowfully so sorrowfully oh lord oohooh come shine your light on me shine your light on me    on that morning on that morning when i'm cared and blue scared and blue when i'm hungry when i'm hungry and thirsty too thirsty too send this raindrop send this raindrop down to the sea down to the sea oh lord oohooh come shine your light on me shine your light on me    oh shine your light oh shine your light oh shine a light oh shine a light and i know oohooh that in the darkness i'm alright i'm alright see there's no sun rising oohooh but inside i'm free oohooh 'cause the lord will shine a light for me shine a light on me oh the lord will shine a light on me shine your light on me sing it now    hmmhmm hmmhmm hmmhmm hmmoh hmmhmm hmmhmm hmmhmm hmmoh hmmhmm hmmhmm hmmhmm hmmoh hmmhmm hmmhmm hmmhmm hmmhmmhmmhmm and the hardest part was letting go not taking part was the hardest part  and the strangest thing was waiting for that bell to ring it was the strangest start  i could feel it go down bittersweet i could taste in my mouth silver lining the cloud oh and i i wish that i could work it out  and the hardest part was letting go not taking part you really broke my heart oh  and i tried to sing but i couldn't think of anything and that was the hardest part oh oh  i could feel it go down you left the sweetest taste in my mouth you're silver lining the cloud oh and i oh and i i wonder what it's all about  i wonder what it's all about  everything i know is wrong everything i do it just comes undone and everything is torn apart  oh and that's the hardest part that's the hardest part yeah that's the hardest part that's the hardest part look at the stars look how they shine for you and everything you do yeah they were all yellow i came along i wrote a song for you and all the things you do and it was called yellow so then i took my turn oh what a thing to have done and it was all yellow    your skin oh yeah your skin and bones turn into something beautiful you know you know i love you so you know i love you so   i swam across i jumped across for you oh what a thing to do 'cause you were all yellow i drew a line i drew a line for you oh what a thing to do and it was all yellow    your skin oh yeah your skin and bones turn into something beautiful and you know for you i'd bleed myself dry for you i'd bleed myself dry   it's true look how they shine for you look how they shine for you look how they shine for look how they shine for you look how they shine for you look how they shine   look at the stars look how they shine for you and all the things that you do if you see me sliding say we're gonna slide together  if you see me hiding tell me i can hide forever  come with me now as now i run show me how to be someone let me fly into your sun  when my clouds are crying say you're gonna change my weather  if you hear me lying it's never when we lie together  come with me now as now i run show me how to be someone let me fly into your sun  if you see me sliding pray that i won't slide forever  if you see me hiding say that we can hide together  come with me now cos now i run show me how to be someone let me fly into your sun  come with me now cos now i run show me how to be someone let me fly into your sun  your sun x6 i used to rule the world seas would rise when i gave the word now in the morning i sleep alone sweep the streets i used to own  i used to roll the dice feel the fear in my enemy's eyes listen as the crowd would sing now the old king is dead long live the king  one minute i held the key next the walls were closed on me and i discovered that my castles stand upon pillars of salt and pillars of sand  i hear jerusalem bells aringing roman cavalry choirs are singing be my mirror my sword and shield my missionaries in a foreign field  for some reason i can't explain once you go there was never never an honest word and that was when i ruled the world  it was the wicked and wild wind blew down the doors to let me in shattered windows and the sound of drums people couldn't believe what i'd become  revolutionaries wait for my head on a silver plate just a puppet on a lonely string oh who would ever want to be king  i hear jerusalem bells aringing roman cavalry choirs are singing be my mirror my sword and shield my missionaries in a foreign field  for some reason i can't explain i know saint peter won't call my name never an honest word but that was when i ruled the world  i hear jerusalem bells aringing roman cavalry choirs are singing be my mirror my sword and shield my missionaries in a foreign field  for some reason i can't explain i know saint peter won't call my name never an honest word but that was when i ruled the world when she was just a girl she expected the world but it flew away from her reach so she ran away in her sleep and dreamed of paraparaparadise paraparaparadise paraparaparadise every time she closed her eyes ooooh when she was just a girl she expected the world but it flew away from her reach and bullets catch in her teeth life goes on it gets so heavy the wheel breaks the butterfly every tear a waterfall in the night the stormy night she closed her eyes in the night the stormy night away she flied and dreamed of paraparaparadise paraparaparadise paraparaparadise whoaohoh ohoooh ohohoh she dreamed of paraparaparadise paraparaparadise paraparaparadise whoaohoh ohoooh ohohoh x la la la and so lying underneath those stormy skies she'd say oh ohohohoh i know the sun must set to rise this could be paraparaparadise paraparaparadise paraparaparadise oh oh oh oh oh ohohoh this could be paraparaparadise paraparaparadise this could be paraparaparadise oh oh oh oh oh ohohohoh this could be paraparaparadise paraparaparadise this could be paraparaparadise oh oh oh oh oh ohohohoh ooooh loveless just those three tiny words im falling falling falling falling falling till im in until i started tearing in im all alone how long will it take da da da da da da da under the great lone star try to work out where you are in the silence of the sea i don't know where i've been in the future in the past going nowhere much too fast when i go there follow me when i go there follow me   'cause i don't know where i'm going but i wanna talk i feel like i'm going where i've been before and i wanna talk   take a picture of something that you're not sure of bring it back to show me but i don't know what i see in the future find a home getting nowhere on your own got to find your missing piece   variation 'cause you don't know where you're going but you wanna talk you feel like you're going where you've been before and nothing's really making any sense at all you tell any one who'll listen that you feel ignored lets talk lets talk do you wanna talk   i'm looking upon the floor i'm trying to sing a song in a language i don't speak i try but i can't get through i'm trying to get to you but you're difficult to reach  won't you talk tome  oooo  so you don't know where you're going but you wanna talk you feel like you're going where you've been before  let's talk let's talk  let's talk let's talk ah ah oh oh oh oh   could you could you come on could you come on together put your knees on the back to my love in the weather   and the sugar teeth that i crawl in the surface oh i was underneath and i'm caught in the middle of gonna crawl my way and i climb home because i'm gonna crawl my way home because   you're the one i love you're the one i love you're the one i love ah ah ah   i slide on a climb on a crest on a crush class gonna step my way gonna find out a way because i was underneath i was caught in the middle of gonna crawl my way and i crawl in a way because   you're the one i love yes you're the one i love you're the one i love ah ah ah   oooooooooooooo oooooooooooooo oooooooooooooo for a second i was in control i had it once i lost it though and all along the fire below would rise  and i wish you could have let me know what's really going on below i've lost you now you let me go but one last time  tell me you love me if you don't then lie lie to me remember once upon a time when i was yours and you were blind the fire would sparkle in your eyes and mine  so tell me you love me if you don't then lie lie to me just tell me you love me if you don't then lie lie to me if you don't then lie lie to me  and call it true call it true love call it true call it true love suzanne takes you down to her place near the river you can hear the boats go by you can spend the night beside her and you know that she's half crazy but that's why you want to be there and she feeds you tea and oranges that come all the way from china and just when you mean to tell her that you have no love to give her then she gets you on her wavelength and she lets the river answer that you've always been her lover  and you want to travel with her and you want to travel blind and you know that she will trust you for you've touched her perfect body with your mind  and jesus was a sailor when he walked upon the water and he spent a long time watching from his lonely wooden tower and when he knew for certain only drowning men could see him he said all men will be sailors then until the sea shall free them but he himself was broken long before the sky would open forsaken almost human he sank beneath your wisdom like a stone  and you want to travel with him and you want to travel blind and you think maybe you'll trust him for he's touched your perfect body with his mind  now suzanne takes your hand and she leads you to the river she is wearing rags and feathers from salvation army counters and the sun pours down like honey on our lady of the harbour and she shows you where to look among the garbage and the flowers there are heroes in the seaweed there are children in the morning they are leaning out for love and they will lean that way forever while suzanne holds the mirror  and you want to travel with her and you want to travel blind and you know that you can trust her for she's touched your perfect body with her mind just because i'm losing doesn't mean i'm lost doesn't mean i'll stop doesn't mean i'm across just because i'm\\u2005hurting doesn't\\u2005mean i'm hurt doesn't\\u2005mean i didn't get what i\\u2005deserve no better or no worse   i just got lost every river that i've tried to cross every door i ever tried was locked oh and i'm just waiting 'til the shine wears off   you might be a big fish in a little pond doesn't mean you've won 'cause along may come a bigger one   and you'll be lost every river that you try to cross every gun you ever held went off oh and i'm just waiting 'til the firing stopped oh and i'm just waiting 'til the shine wears off   break   oh and i'm just waiting 'til the shine wears off oh and i'm just waiting 'til the shine wears off smoke is rising from the houses people burying their dead i ask somebody what the time is but time doesn't matter to them yet  people talking without speaking trying to take what they can get i ask you if you remember prospekt how could i forget  drums here it comes don't you wish that life can be as simple as fish swimming round in a barrel when you've got the gun  oh when i run here it comes we're just two little figures in a soup bowl trying to get to any kind of control but i wasn't one  now here i lie on my own in a separate sky here i lie on my own in a separate sky i don't wanna die on my own here tonight but here i lie on my own in a separate sky  cry cry cry baby cry cry cry   in a book about the world called the luminous things there are\\u2005trees\\u2005and flowers glowing while\\u2005jizo bodhisattva sings    when you cry cry\\u2005cry baby when you cry cry cry when you cry cry cry baby i'll be by your side    don't want us to hurt each other dumdumdum dumdumdum or cause each other pain dumdumdum dumdumdum don't want to fear what we don't know dumdumdum dumdumdum dumdumdum dumdumdum we're in this together baby dumdumdum dumdumdum we're as singing is to rain dumdumdum dumdumdum so i'll never ever ever let you go dumdumdum    when you cry cry cry baby when you cry cry cry when you cry cry cry baby i'll be by your side ooh yeah ooh yeah    for your miracles outnumber all the stars out in the sky doodoo doodooroorooroo alright ooh 00 yellow 00 clocks 005 speed of sound fix you 006 talk 008 violet hill viva la vida lost 00 christmas lights 0 every teardrop is a waterfall major minus moving to minus paradise princess of china 0 atlas 04 midnight magic a sky full of stars 05 adventure of a lifetime what the world needs now is love sweet love no not just for some but for everyone  yeah the world needs now some love sweet love that's the only thing that there's just too little but not in vancouver of when she was just a girl she expected the world but it flew away from her reach so she ran away in her sleep  and dreams of paraparaparadise paraparaparadise paraparaparadise every time she closed her eyes  when she was just a girl she expected the world but it flew away from her reach and the bullets catch in her teeth life goes on it gets so heavy the wheel breaks the butterfly every tear a waterfall in the night the stormy night she'll close her eyes in the night the stormy night away she'd fly  and dreams of paraparaparadise paraparaparadise paraparaparadise oh oh oh oh oh ohohoh she'd dream of paraparaparadise paraparaparadise paraparaparadise oh oh oh oh oh ohohohoh  lalalalalalala lalalalalalalalalala and so lying underneath those stormy skies she'd say oh ohohohoh i know the sun must set to rise  this could be ohoh ohoooh ohohoh paradise ohoh ohoooh ohohoh paradise ohoh ohoooh ohohoh paradise whoaohoh ohoooh ohohoh  this could be ohoh ohoooh ohohoh paradise ohoh ohoooh ohohoh paradise ohoh ohoooh ohohoh paradise whoaohoh ohoooh ohohoh  this could be ohoh ohoooh ohohoh paradise ohoh ohoooh ohohoh paradise ohoh ohoooh ohohoh paradise whoaohoh ohoooh ohohoh  ohoh ohoooh ohohoh ohoh ohoooh ohohoh ohoh ohoooh ohohoh ambience  oh i think i landed in a world i hadn't seen when i'm feeling ordinary when i don't\\u2005know\\u2005what i mean oh\\u2005i think i landed where there are\\u2005miracles at work for the thirst and for the hunger come the conference of birds   saying it's true it's not what it seems leave your broken windows open and in the light just streams and you get a head a head full of dreams you can see the change you wanted be what you want to be and you get a head a head full of dreams into life ive just been spoken with a head full a head full of dreams   oh i think i landed where there are miracles at work when you got me openhanded when you got me lost for words i sing ohohoh   a head full of dreams a head full of dreams into life ive just been woken with a head full a head full of dreams brothers and sisters unite it's the time of your lives it's the time of your lives breakdown breakdown gotta keep 'em all down gotta spread it around   brothers and sisters unite it's the time of your lives it's the time of your lives breakdown breakdown gotta keep moving around gotta keep 'em all down and stay down   sometimes i feel stay 'round and sometimes i feel  post and it's me they're looking for and it's me i will never survive but we'll be around so long   brothers and sisters unite for the time of your lives for the time of your lives breakdown breakdown they'll say move it around got to spread it around and stay down   'cause sometimes i feel stay 'round and sometimes i feel  post and it's me they're looking for and it's me i will never survive and i'll be around some long   and it's gonna be alright and it's gonna be alright and it's gonna be alright poor me i'm floating out to sea an opportunity that went by poor you oh what you gonna do no what you gonna do you just cry  oh you always come undone try into the sun you don't know why poor you i know what you gonna do come on love i'll see it through i don't know why  i hear you come nearer i hear you but i don't understand i hear you come nearer i hear you but i don't understand  poor me now float me out to sea oh no just let it be come on try poor you oh what you gonna do oh what you gonna do you just cry  i hear you come nearer i hear you but i don't understand i hear you come nearer i hear you but i don't understand  i don't understand i don't understand  oooh ahhhh ahhhh computer voice remix  oh brother i can't i can't get through i've been trying hard to reach you cause i don't know what to do oh brother i can't believe it's true believe it's true i'm so scared about the future and i wanna talk to you  computer voice now talk baby computer chant talk to me talk to me talk to me talk to me talk to me  you could take a picture of something you see in the future where will i be you can climb a ladder up to the sun or write a song nobody had sung or do something that's never been done  computer voice now talk baby computer chant talk to me talk to me talk to me talk to me talk to me  are you lost or incomplete do you feel like a puzzle you can't find your missing piece tell me how you feel how you feel how you feel how you feel  so you take a picture of something you see in the future where will i be you could climb a ladder up to the sun or write a song nobody had sung or do something that's never been done  computer chant talk to me talk to me talk to me talk to me talk to me  computer voice now talk baby  how you feel how you feel how you feel how you feel let's talk let's talk let's talk let's talk let's talk let's talk  so you don't know where you're going but you wanna talk you'll tell anyone who'll listen but you feel ignored when you worry about the future or the third world war and you feel like you're going where you've been before let's talk let's talk let's talk let's talk let's talk let's talk  computer chant talk to me talk to me talk to me talk to me talk to me in the darkness before the dawn in the swirling of the storm when i'm rolling with the punches and hope is gone leave a light a light on   millions of miles from home in the swirling swimming on when i'm rolling with the thunder but bleed from thorns leave a light a light on leave a light a light on  leave a light a light on leave a light a light on   in the darkness before the dawn in the darkness before the dawn leave a light a light on leave a light a light on oh brother i can't i can't get through i've been trying hard to reach you 'cause i don't know what to do oh brother i can't believe it's true i'm so scared about the future and i wanna talk to you    so you take a picture of something you see or swim a river after the sea you can climb a ladder up to the sun or write a song nobody has sung or do something that's never been done do  so you don't know where you're going but you want to talk you'll tell anyone who'll listen but you feel ignored when you worry about the future or the third world war and you feel like you're going where you've been before let's talk let's talk  so you take a picture of something you see or swim a river after the sea you can climb a ladder up to the sun or write a song nobody has sung or do something that's never been done do  let's talk let's talk let's talk let's talk so i look in your direction but you pay me no attention do you i know you don't listen to me 'cause you say you see straight through me don't you  but on and on from the moment i wake 'til the moment i sleep i'll be there by your side just you try and stop me i'll be waiting in line just to see if you care  pre oh did you want me to change well i'll change for good and i want you to know that you'll always get your way i wanted to say   don't you shiver shiver sing it loud and clear i'll always be waiting for you   so you know how much i need you but you never even see me do you and is this my final chance of getting you  but on and on from the moment i wake 'til the moment i sleep i'll be there by your side just you try and stop me i'll be waiting in line just to see if you care if you care  pre oh did you want me to change well i'll change for good and i want you to know that you'll always get your way i wanted to say   don't you shiver don't you shiver sing it loud and clear i'll always be waiting for you   yeah i'll always be waiting for you yeah i'll always be waiting for you yeah i'll always be waiting for you for you i will always be waiting  final  and it's you i see but you don't see me and it's you i hear so loud and so clear i sing it loud and clear and i'll always be waiting for you   so i look in your direction but you pay me no attention and you know how much i need you but you never even see me look at the stars look how they shine for you and everything you do yeah they were all yellow i came along i wrote a song for you and all the things you do and it was called yellow so then i took my turn oh what a thing to have done and it was all yellow   your skin oh yeah your skin and bones turn into something beautiful you know you know i love you so you know i love you so   i swam across i jumped across for you oh what a thing to do 'cause you were all yellow i drew a line i drew a line for you oh what a thing to do and it was all yellow   your skin oh yeah your skin and bones turn into something beautiful and you know for you id bleed myself dry for you i'd bleed myself dry   it's true look how they shine for you look how they shine for you look how they shine for look how they shine for you look how they shine for you look how they shine   look at the stars look how they shine for you and all the things that you do could you could you come back come back together put yourself on my back and say it's forever could you could you come home come home forever your shoulders knees and your back will keep us together  'cause you're the one i love you're the one i love you're the one i love ahhhh ahhhh  could you could you come on could you tell me whatever tie yourself to a mast it's now or it's never gonna tear us apart tell me forever it's gonna tear us apart keep us together  you're the one i love you're the one i love ahhh ahhh you're the one i love you're the one i love you're the one i love you're the one i love see you lost your trust and you never should have you never should have don't break your back if you ever say this don't answer that in a bullet proof vest with the windows all closed i'll be doing my best i'll see you soon in a telescope lens when all you want is friends i'll see you soon see they came for you they came snapping at your heels they came snapping at your heels don't break your back if you ever say this but don't answer that in a bullet proof vest with the windows all closed i'll be doing my best i'll see you soon in a telescope lens when all you want is friends i'll see you soon you lost your trust you lost your trust no don't lose your trust no don't lose your trust so you lost your trust and you never should have but you never should have but don't break your back if you ever see this but don't answer life in a bullet proof vest with the windows all closed i'll be doing my best i'll see you soon in a telescope lens and when all you want is friends i see you soon so they came for you they came snapping at your heels they come snapping at your heels but don't break your back if you ever say this but don't answer life in a bullet proof vest with the windows all closed i'll be doing my best i'll see you soon in a telescope lens and when all you want is friends i see you soon i see you soon and oh you lost your trust and oh you lost your trust no don't lose your trust and oh you lost your trust so i look in your direction but you pay me no attention do you i know you don't listen to me 'cause you say you see straight through me don't you but on and on from the moment i wake to the moment i sleep i'll be there by your side just you try and stop me i'll be waiting in line just to see if you care oh she want me to change well i changed for good i want you to know that you'll always get your way i wanted to say don't you shiver shiver sing it loud and clear i'll always be waiting for you so you know how much i need ya but you never even see me do you and is this my final chance of getting you sining on and on from the moment i wake to the moment i sleep i'll be there by your side just you try and stop me i'll be waiting in line just to see if you care if you care oh she want me to change well i changed for good i want you to know that you'll always get your way i wanted to say to say to say don't you shiver don't you shiver sing it loud and clear i'll always be waiting for you i'll always be waiting for you yeah i'll always be waiting for you for you i will always be waiting and it's you i see but you don't see me and it's you i hear so loud and so clear sing it loud and clear and i'll always be waiting for you so i look in your direction but you pay me no attention and you know how much i need you but you never even see me where do we go nobody knows i've gotta say i'm on my way down god give me style and give me grace god put a smile upon my face  where do we go to draw the line i've gotta say i wasted all your time honey honey where do i go to fall from grace god put a smile upon your face yeah  now when you work it out i'm worse than you yeah when you work it out i want it to now when you work out where to draw the line your guess is as good as mine  where do we go nobody knows don't ever say you're on your way down when god gave you style and gave you grace and put a smile upon your face oh yeah  now when you work it out i'm worse than you yeah when you work it out i want it to now when you work out where to draw the line your guess is as good as mine  it's as good as mine it's as good as mine it's as good as mine as good as mine as good as mine as good as mine as good as mine  where do we go nobody knows don't ever say you're on your way down when god gave you style and gave you grace and put a smile upon your face one two steal my heart and hold my tongue i feel my time my time has come let me in unlock the door i never felt this way before  and the wheels just keep on turning the drummer begins to drum i don't know which way i'm going i don't know which way i've come  hold my head inside your hands i need someone who understands i need someone someone who hears for you i've waited all these years  for you i'd wait 'til kingdom come until my day my day is done and say you'll come and set me free just say you'll wait you'll wait for me  in your tears and in your blood in your fire and in your flood i hear you laugh i heard you sing i wouldn't change a single thing  and the wheels just keep on turning the drummers begin to drum i don't know which way i'm going i don't know what i've become  for you i'd wait 'til kingdom come until my days my days are done say you'll come and set me free just say you'll wait you'll wait for me  just say you'll wait you'll wait for me just say you'll wait you'll wait for me look at earth from outer space everyone must find a place give me time and give me space give me real don't give me fake give me strength reserve control give me heart and give me soul give me time give us a kiss tell me your own politik  and open up your eyes open up your eyes open up your eyes open up your eyes  give me one cause one is best in confusion confidence give me peace of mind and trust don't forget the rest of us give me strength reserve control give me heart and give me soul wounds that heal and cracks that fix tell me your own politik  and open up your eyes open up your eyes open up your eyes open up your eyes just open up your eyes  but give me love over love over love over this and give me love over love over love over this i'm up in the part of the throne i'm trying to sing a song in a language i don't speak i try but i can't get through i'm trying to get to you but you're difficult to reach   you can take a picture of something you see in the future where will i be you can climb a ladder up to the sun or write a song nobody has sung   under the great north star try to work out where you are in the silence of the sea i don't know where i'll be in the future in the past going nowhere much too fast when i go there go with me ah got to find your missing piece   when i go there when i go there when i go there   so you don't know where you're going and you wanna talk and you feel like you're going where you've been before you tell anyone who'll listen but you feel ignored nothing's really making any sense at all let's talk let's talk we'll run wild we'll run wild we'll run wild we'll run wild we'll run wild we'll run wild we'll be glowing in the dark  stole a key took a car downtown where the lost boys meet took a car downtown and took what they offered me to set me free i saw the lights go down at the end of the scene saw the lights go down and standing in front of me  in my scarecrow dreams when they smash my heart into smithereens be a bright red rose come bursting through concrete be a cartoon heart light a fire a fire a spark light a fire a flame in my heart well run wild well be glowing in the dark well be glowing in the dark  all the boys all the girls all that matters in the world all the boys all the girls all the madness that occurs all the highs all the lows as the room aspinning goes well run wild well be glowing in the dark  well be glowing in the dark well be glowing in the dark in the dark wait for your call love the call never came ready to fall love ready to claim i'm ready for it all love i'm ready for a pain meet under sun meet me again in the rain in the rain in the rain the rain behind the walls love i'm trying to change and i'm ready for it all love i'm ready for a change meet under blue sky meet me again in the rain the rain the rain in the rain the rain got to find yourself alone in this world you've got to find yourself alone so you lost your trust and you never should have and you never should have but don't break your back if you ever hear this but don't answer that 'cause in a bullet proof vest with the windows all closed i'll be doing my best and i'll see you soon in a telescope lens and when all you want is friends i'll see you soon so they came for you they came snapping at your heels they come snapping at your heels but don't break your back if you ever hear this but don't answer that 'cause in a bullet proof vest with the windows all closed i'll be doing my best and i'll see you soon and in a telescope lens and when all you want is friends i'll see you soon you lost your trust and oh you lost your trust no don't lose your trust and oh you lost your trust i'm dreaming of a white christmas just like the ones i used to know where the tree tops glisten and children listen to hear sleigh bells in the snow  i'm dreaming of a white christmas with every christmas card i write may your days be merry and bright and may all your christmases be white  i'm dreaming of a white christmas just like the ones i used to know where the tree tops glisten and children listen to hear sleigh bells in the snow  i'm dreaming of a white christmas with every christmas card i write may your days be merry and bright and may all your christmases be white for a second i was in control i had it once i lost it though and all along the fire below would rise and i wish you could have let me know what's really going on below i've lost you now you let met go but one last time tell me you love me if you don't then lie oh lie to me remember once upon a time when i was yours and you were blind the fire would sparkle in your eyes and mine so tell me you love me if you don't then lie oh lie to me just tell me you love if you don't then lie oh lie to me if you don't then lie oh lie to me and call it true call it true love call it true call it true love did i drive you away i know what you'll say you say oh sing one you know but\\u2005i\\u2005promise you this i'll\\u2005always look out for you yeah that's\\u2005what i'll do   i say oh i say oh   my heart is yours it's you that i hold on to yeah that's what i do and i know i was wrong but i won't let you down oh yeah oh yeah oh yeah i will yes i will   i said oh i cry oh   yeah i saw sparks yeah i saw sparks and i saw sparks yeah i saw sparks sing it out   la la la la oh la la la la oh la la la la oh la la la la oh i awake to find no peace of mind i said how do you live as a fugitive down here where i cannot see so clear i said what do i know show me the right way to go   and the spies came out of the water and you're feeling so good 'cause you know that those spies hide out in every corner well they can't touch you no 'causes they're just spies they're all spies   i awake to see no one is free well we're all fugitives  look at the way we live down here where we cannot sleep from fear i said which way to turn oh i forget everything i learn   and the spies came out of the water and you're feeling so good 'cause you know with those spies hide out in every corner well they can't touch you no 'cause they're all spies   and if we don't hide here they're gonna find us and if we don't hide now they're gonna catch us where we sleep and if we don't hide here they're gonna find us   they're just spies they're just spies they're just spies they're just spies bono mother mother there's too many of you crying chris brother brother brother there's too many of you dying you know you've got to find a way to bring some lovin' here to stay bono father father we don't need to escalate and war is not the answer for only love can conquer hate chris you know we've got to find a way to bring some lovin' here to stay picket lines won't block our way bono don't punish me with brutality talk to me and you can see what's going on what's going on what's going on what's going on father father everybody thinks we're wrong but who are they to judge us together we can be strong chris you know we've got to find a way to bring some lovin' here to stay picket lines won't block our way don't punish me with brutality talk to me so you can see what's going on what's going on what's going on what's going on what's going on what's going on what's going on what's going on stole a key and took a car downtown where the lost boys meet took a car downtown and took what they offered me to set me free  i saw the lights go down at the end of the scene i saw the lights go down and standing in front of me  in my scarecrow dreams when they smashed my heart into smithereens be a bright red rose come burst in the concrete be a cartoon heart  light a fire fire the spark light a fire a flame in my heart we'll run wild we'll be glowing in the dark we'll be glowing in the dark  all the boys all the girls all that matters in the world all the boys all the girls all the madness that occurs all the highs all the lows as the room is spinning we'll run riot we'll be glowing in the dark  so so reminiscing wild we'll be glowing in the dark in the darkness before the dawn in the swirling of the storm when i'm rolling with the punches and hope is gone leave a light a light on leave a light a light on leave a light a light on so i look in your direction but you pay me no attention do you i know you don't listen to me 'cause you say you see straight through me don't you but on and on from the moment i wake to the moment i sleep i'll be there by your side just you try and stop me i'll be waiting in a line just to see if you care do you want me to change well i change for good and i want you to know that you always get your way i wanted to say don't you shiver shiver sing it loud and clear i'll always be waiting for you so you know how much i need you but you never even see me do you and is this is my final chance of getting you and on and on from the moment i wake to the moment i sleep i'll be there by your side just you try and stop me i'll be waiting in line just to see if you care if you care oh oh oh oh did she want me to change well i change for good and i want you to know that you'll always get your way i wanted to say don't you shiver don't you shiver sing it loud and clear i'll always be waiting for you yeah i'll always be waiting for you yeah i'll always be waiting for you yeah i'll always be waiting for you for you i will always be waiting and it's you i see but you don't see me and it's you i hear so loud and so clear i sing it loud and clear and i'll always be waiting for you so i look in your direction but you pay me no attention and you know how much i need you but you never even see me oooooo oooooo oooooo oooooo oooooo oooooo   when she was just a girl she expected the world but it flew\\u2005away\\u2005from her reach so\\u2005she ran away in her sleep and\\u2005dreamed of paraparaparadise paraparaparadise paraparaparadise every time she closed her eyes  interlude oooooo oooooo oooooo oooooo oooooo oooooo   when she was just a girl she expected the world but it flew away from her reach and the bullets catch in her teeth life goes on it gets so heavy the wheel breaks the butterfly every tear a waterfall in the night the stormy night she'll close her eyes in the night the stormy night away she'd fly    and dream of paraparaparadise paraparaparadise paraparaparadise ohohohohohohohoh she'd dream of paraparaparadise paraparaparadise paraparaparadise ohohohohohohohoh   lala lalalalala lalalalala lalalala so lying underneath those stormy skies she'd say oh ohohohoh i know the sun must set to rise    this could be paraparaparadise paraparaparadise this could be paraparaparadise ohohohohoh ohohoh this could be paraparaparadise paraparaparadise this could be paraparaparadise ohohohohoh ohohoh     vocalizations    this could be paraparaparadise paraparaparadise this could be paraparaparadise ohohohohoh ohohoh   oooooo oooooo oooooo oooooo oooooo oooooo oooooo oooooo oooooo oooooo oooooo loop so you don't know where you're going  pre  oh i wanna talk to you oh i wanna talk to you oh i wanna talk to you oh i wanna talk to you   you can take a picture of something you see or swim a river out to the sea you can climb a ladder up to the sun or write a song nobody has sung or do something that's never been done  pre  and they're talking it to me and they're talking it to me and they're talking it to me and they're talking it to me   you can take a picture of something you see or swim a river out to the sea you can climb a ladder up to the sun or write a song nobody has sung or do something that's never been done   so you don't know where you're going and you wanna talk you tell anyone who'll listen but you feel ignored when you worry about the future and the rd world war when you worry about the future and the rd world war the lights go out and i can't be saved tides that i tried to swim against you've\\u2005put\\u2005me down upon\\u2005my knees oh i beg i beg\\u2005and plead singing  come out of things unsaid shoot an apple off my head and a trouble that can't be named a tiger's waiting to be tamed singing you are you are  confusion never stops closing walls and ticking clocks gonna come back and take you home i could not stop that you now know singing  come out upon my seas curse missed opportunities am i a part of the cure or am i part of the disease singing you are you are you are you are  you are you are and nothing else compares oh nothing else compares and nothing else compares  you are you are home home where i wanted to go home home where i wanted to go home home where i wanted to go you are home home where i wanted to go you are then i take a picture of something you see you see you see you see you see in the future in the future in the future in the future in the future where will i be  oh please talk to me  can you fill the colors missing you need will i ever get the answer i need oh please talk to me  please talk to me what if there was no light nothing wrong nothing right what if there was no time and no\\u2005reason\\u2005or rhyme what if\\u2005you should decide that you don't want\\u2005me there by your side that you don't want me there in your life   what if i got it wrong and no poem or song could put right what i got wrong or make you feel i belong what if you should decide that you don't want me there by your side that you don't want me there in your life  hook oooooh that's right let's take a breath jump over the side oooooh that's right how can you know it if you don't even try oooooh that's right   every step that you take could be your biggest mistake it could bend or it could break but that's the risk that you take what if you should decide that you don't want me there in your life that you don't want me there by your side  hook oooooh that's right let's take a breath jump over the side oooooh that's right how can you know it when you don't even try oooooh that's right   oh oooooh that's right let's take a breath jump over the side oooooh that's right you know that darkness always turns into light oooooh that's right look at the stars look how they shine for you and everything you do yeah they were all\\u2005yellow  i\\u2005came along i wrote\\u2005a song for you and all the\\u2005things you do and it was called yellow  so then i took my turn oh what a thing to have done and it was all yellow  your skin oh yeah your skin and bones turn into something beautiful you know you know i love you so you know i love you so  i swam across i jumped across for you oh what a thing to do  'cause you were all yellow i drew a line i drew a line for you oh what a thing to do and it was all yellow  your skin oh yeah your skin and bones turn into something beautiful and you know for you i'd bleed myself dry for you i'd bleed myself dry  it's true look how they shine for you look how they shine for you look how they shine for look how they shine for you look how they shine for you look how they shine  look at the stars look how they shine for you and all the things that you do come up to meet you tell you i'm sorry you don't know how lovely you are i\\u2005had\\u2005to find you\\u2005tell you i need you tell you\\u2005i set you apart tell me your secrets and ask me your questions oh let's go back to the start running in circles coming up tails heads on a science apart   nobody said it was easy it's such a shame for us to part nobody said it was easy no one ever said it would be this hard oh take me back to the start   i was just guessing at numbers and figures pulling the puzzles apart questions of science science and progress do not speak as loud as my heart tell me you love me come back and haunt me oh and i rush to the start running in circles chasing our tails coming back as we are   nobody said it was easy oh it's such a shame for us to part nobody said it was easy no one ever said it would be so hard i'm going back to the start   ohooh oohoohoohooh aahooh oohoohoohooh ohooh oohoohoohooh ohooh oohoohoohooh when she was just a girl she expected the world but it flew away from her reach so she ran away in her sleep  and dreams of paraparaparadise paraparaparadise paraparaparadise every time she closed her eyes  when she was just a girl she expected the world but it flew away from her reach and the bullets catch in her teeth life goes on it gets so heavy the wheel breaks the butterfly every tear a waterfall in the night the stormy night she'll close her eyes in the night the stormy night away she'd fly  and dreams of paraparaparadise paraparaparadise paraparaparadise oh oh oh oh oh ohohoh she'd dream of paraparaparadise paraparaparadise paraparaparadise oh oh oh oh oh ohohohoh  lalalalalalala lalalalalalalalalala and so lying underneath those stormy skies she'd say oh ohohohoh i know the sun must set to rise  this could be ohoh ohoooh ohohoh paradise ohoh ohoooh ohohoh paradise ohoh ohoooh ohohoh paradise whoaohoh ohoooh ohohoh  this could be ohoh ohoooh ohohoh paradise ohoh ohoooh ohohoh paradise ohoh ohoooh ohohoh paradise whoaohoh ohoooh ohohoh  this could be ohoh ohoooh ohohoh paradise ohoh ohoooh ohohoh paradise ohoh ohoooh ohohoh paradise whoaohoh ohoooh ohohoh  ohoh ohoooh ohohoh ohoh ohoooh ohohoh ohoh ohoooh ohohoh scared of losing all the time you wrote it in a letter he was a friend of mine he heard you could see your future inside a glass of water the ripples and the lines and he asked would i see heaven in mine that is just the way it was nothing could be better and nothing ever was oh and they say you can see your future inside a glass of water the riddles and the rhymes will i see heaven in mine oh oh oh oh i son don't ask neither how full nor empty is your glass cling to the mast spend your whole life living in the past going nowhere fast so he wrote it on a wall the hollowest of halos is no halo at all televisions selling plastic figurines of leaders saying nothing at all and you chime stars in heaven align oh oh oh oh i son don't ask neither how full nor empty is your glass cling to the mast spend your whole life living in the past going nowhere fast oh what are we drinking when we're done glasses of water oh no i see a spider web is tangled up with me and i lost my head and thought of all the stupid things i'd said   oh no what's this a spider web and i'm caught in the middle so i turned to run and thought of all the stupid things i'd done   and i i never meant to cause you trouble and i i never meant to do you wrong and i well if i ever caused you trouble and oh no i never meant to do you harm   oh no i see a spider web and it's me in the middle so i twist and turn but here am i in my little bubble   singing out i never meant to cause you trouble i never meant to do you wrong and i well if i ever caused you trouble oh no i never meant to do you harm   they spun a web for me they spun a web for me they spun a web for me oh angel sent from up above you know you make my world light up when i was\\u2005down\\u2005when i was\\u2005hurt you came to lift me up life\\u2005is a drink and love's a drug oh now i think i must be miles up when i was a river dried up you came to rain a flood ahohahohah got me feeling drunk and high so high so high ahohahohah now i'm feeling drunk and high so high so high feeling drunk and high feeling drunk and high so high oh angel sent from up above i feel it coursing through my blood life is a drink your love's about to make the stars come out ahohahohah got me feeling drunk and high so high so high ahohahohah now i'm feeling drunk and high so high so high feeling drunk and high feeling drunk and high so high that we shoot across the sky that we shoot across the that we shoot across the sky that we shoot across the that we shoot across the sky that we shoot across the that we shoot across the sky that we shoot across the look at earth from outer space everyone must find the place give me time and give me space give me real don't give me fake give me strength reserve control give me heart and give me soul give me love give us a kiss tell me your own politik open up your eyes open up your eyes open up your eyes open up your eyes give me one 'cause one is best and in confusion confidence give me peace of mind and trust and don't forget the rest of us give me strength reserve control give me heart and give me soul wounds that heal and cracks that fix my love tell me your own politik open up your eyes open up your eyes open up your eyes open up your eyes and give me love over love over love over this ahh give me love over love over love over this ahh and the hardest part was letting go not taking part was the hardest part  and the strangest thing was waiting for that bell to ring it was the strangest start  i could feel it go down bittersweet i could taste in my mouth silver lining the cloud oh and i i wish that i could work it out  and the hardest part was letting go not taking part you really broke my heart oh  and i tried to sing but i couldn't think of anything and that was the hardest part oh oh  i could feel it go down you left the sweetest taste in my mouth you're silver lining the cloud oh and i oh and i i wonder what it's all about  i wonder what it's all about  everything i know is wrong everything i do it just comes undone and everything is torn apart  oh and that's the hardest part that's the hardest part yeah that's the hardest part that's the hardest part okay just because i'm losing doesn't mean i'm lost doesn't mean i'll stop doesn't mean i'm across just because i'm\\u2005hurting doesn't\\u2005mean i'm hurt doesn't\\u2005mean i didn't get what i\\u2005deserve no better or no worse   i just got lost every river that i tried to cross every door i ever tried was locked oh and i'm just waiting 'til the shine wears off   you might be a big fish in a little pond doesn't mean you've won 'cause along may come a bigger one   you'll be lost every river that you try to cross every gun you ever held went off oh and i'm just waiting 'til the firing stops oh and i'm oh just waiting 'til the shine wears off woo      oh and i'm just waiting 'til the shine wears off ohohohohoh oh and i'm just waiting 'til the shine wears off ohohohohoh ohohohohoh ohohoh just because i'm losing doesn't mean i'm lost i awake to find no peace of mind i said how do you live as a fugitive down here where i cannot see so clear i said what do i know show me the right way to go  and the spies came out of the water but you're feeling so bad 'cause you know that the spies hide out in every corner but you can't touch them no 'cause they're all spies they're all spies  i awake to see that no one is free we're all fugitives look at the way we live down here i cannot sleep from fear no i said which way do i turn oh i forget everything i learn  and the spies came out of the water and you're feeling so bad 'cause you know that the spies hide out in every corner but you can't touch them no 'cause they're all spies they're all spies i wanna be bigger stronger drive a faster car to take me anywhere in seconds to take\\u2005me\\u2005anywhere i wanna\\u2005go and drive around a faster car i\\u2005will settle for nothing less i will settle for nothing less   i wanna be bigger stronger drive a faster car at the touch of a button i can go anywhere i wanna go and drive around a faster car i will settle for nothing less i will settle for nothing less   i think i want to change my altitude i think i want to change my oxygen i think i want to change my air my atmosphere i wanna recharge   i wanna be bigger stronger drive a faster car to take me anywhere in seconds to take me anywhere i wanna go and drive around my faster car i will settle for nothing less i will settle for nothing less   i think i need to change my attitude i think i want to change my oxygen i think i want to change my air my atmosphere i wanna recharge   bigger and better bigger and better bigger and better bigger and better bigger stronger drive a faster car at the touch of a button i can go anywhere i wanna go i used to rule the world seas would rise when i gave the word now in the morning i sleep alone sweep the streets i used to own  i used to roll the dice feel the fear in my enemy's eyes listen as the crowd would sing now the old king is dead long live the king  one minute i held the key next the walls were closed on me and i discovered that my castles stand upon pillars of salt and pillars of sand  i hear jerusalem bells aringing roman cavalry choirs are singing be my mirror my sword and shield my missionaries in a foreign field  for some reason i can't explain once you go there was never never an honest word and that was when i ruled the world  it was the wicked and wild wind blew down the doors to let me in shattered windows and the sound of drums people couldn't believe what i'd become  revolutionaries wait for my head on a silver plate just a puppet on a lonely string oh who would ever want to be king  i hear jerusalem bells aringing roman cavalry choirs are singing be my mirror my sword and shield my missionaries in a foreign field  for some reason i can't explain i know saint peter won't call my name never an honest word but that was when i ruled the world  i hear jerusalem bells aringing roman cavalry choirs are singing be my mirror my sword and shield my missionaries in a foreign field  for some reason i can't explain i know saint peter won't call my name never an honest word but that was when i ruled the world in the darkness before the dawn in the darkness before the dawn leave a light a light on leave a light a light on   in the darkness before the dawn in the swirling of the storm in the swirling of the storm when i'm rolling with the punches and hope is gone leave a light a light on  leave a light a light on   millions of miles from home in the swirling swimming on when i'm rolling with the thunder but bleed from thorns leave a light a light on leave a light a light on  leave a light a light on leave a light a light on when i was a young boy i tried to listen and i want to feel like that little white shadows blink and miss them part of a system i am  if you ever feel like something's missing things you'll never understand little white shadows sparkle and glisten part of a system a plan  all this noise i'm waking up all this space i'm taking up all this sound is breaking up oh  maybe you'll get what you wanted maybe you'll stumble upon it everything you ever wanted in a permanent state  maybe you'll know when you see it maybe if you say it you'll mean it and when you find it you keep it in a permanent state a permanent state  when i was a young boy i tried to listen don't you want to feel like that you're part of the human race all of the stars and the outer space part of the system a plan  all this noise i'm waking up all this space i'm taking up i cannot hear you're breaking up oh  maybe you'll get what you wanted maybe you'll stumble upon it everything you ever wanted in a permanent state  maybe you'll know when you see it maybe if you say it you'll mean it and when you find it you keep it in a permanent state a permanent state  swimming on a sea of faces the tide of the human race and so an answer now is what i need i see it in the new sun rising i see it break on your horizon oh come on love stay with me oh brother i can't i can't get through i've been tryin' hard to reach you 'cause i don't know what to do oh brother i can't believe it's true i'm so scared about the future and i wanna talk to you oh i wanna talk to you  you could take a picture of something you see and in the future where would i be you could climb a ladder up to the sun or write a song nobody had sung or do something that's never been done  are you lost or incomplete do you feel like a puzzle you can't find your missing piece tell me how you feel well i feel like they're talkin' in a language i don't speak and they're talking it to me  so you take a picture of something you see and in the future where will i be you could climb a ladder up to the sun or write a song nobody had sung or do something that's never been done do something that's never been done  so you don't know where you're going and you wanna talk and you feel like you're going where you've been before you'll tell anyone who'll listen but you feel ignored but nothing's really makin' any sense at all let's talk let's talk let's talk let's talk look at the stars look how they shine for you and everything you do yeah they were all\\u2005yellow  i\\u2005came along i wrote\\u2005a song for you and all the\\u2005things you do and it was called yellow  so then i took\\u205fmy\\u205fturn oh\\u205fwhat a thing\\u205fto have done and\\u205fit was all yellow  your skin oh yeah your skin and bones turn into something beautiful you know you know i love you so you know i love you so  i swam across i jumped across for you oh what a thing to do  'cause you were all yellow i drew a line i drew a line for you oh what a thing to do and it was all yellow  your skin oh yeah your skin and bones turn into something beautiful and you know for you id bleed myself dry for you i'd bleed myself dry  it's true look how they shine for you look how they shine for you look how they shine for look how they shine for you look how they shine for you look how they shine  look at the stars look how they shine for you and all the things that you do oh no i see a spider web is tangled up with me and i lost my head and\\u2005thought\\u2005of all the\\u2005stupid things i'd said   oh no what's\\u2005this a spider web and i'm caught in the middle so i turned to run and thought of all the stupid things i'd done   and i i never meant to cause you trouble and i i never meant to do you wrong and i well if i ever caused you trouble and oh no i never meant to do you harm   oh no i see a spider web and it's me in the middle so i twist and turn but here am i in my little bubble   singing out i never meant to cause you trouble i never meant to do you wrong and i well if i ever caused you trouble oh no i never meant to do you harm   they spun a web for me they spun a web for me they spun a web for me bones sinking like stones all that we've fought for homes places weve grown all of us are done for  we live in a beautiful world yeah we do yeah we do we live in a beautiful world  bones sinking like stones all that we've fought for homes places we've grown all of us are done for  we live in a beautiful world yeah we do yeah we do we live in a beautiful world  we live in a beautiful world yeah we do yeah we do we live in a beautiful world  oh all that i know theres nothing here to run from 'cause here everybody here's got somebody to lean on when i counted up my demons saw there was one for every day with the good ones\\u2005on\\u2005my shoulders i drove\\u2005the other ones away   so if you\\u2005ever feel neglected and if you think that all is lost i'll be counting up my demons yeah hoping everythings not lost   when you thought that it was over you could feel it all around and everybody's out to get you don't you let it drag you down   cause if you ever feel neglected and if you think that all is lost i'll be counting up my demons yeah hoping everything's not lost  if you ever feel neglected if you think that all is lost i'll be counting up my demons yeah hoping everything's not lost   singing out oh oh oh yeah oh oh yeah oh oh yeah everything's not lost  so come on yeah oh oh yeah come on yeah and everything's not lost  oh oh yeah oh oh yeah oh oh yeah and everything's not lost  come on yeah oh oh yeah come on yeah  come on yeah oh oh yeah come on yeah and everythings not lost  sing out yeah oh oh yeah come on yeah and everythings not lost  come on yeah oh oh yeah sing out yeah and everything's not lost  now i never meant to do you wrong thats what i came here to say but if i was wrong then i'm sorry i don't let it stand in our way cause my head just aches when i think of the things that i shouldn't have done but life is for living we all know and i dont want to live it alone  sing out ah ah sing ah ah ah and just sing ah ah ah ah ah so i look in your direction but you pay me no attention do you i know you\\u2005don't\\u2005listen to me 'cause\\u2005you say you see straight through\\u2005me don't you  but on and on from the moment i wake 'til the moment i sleep i'll be there by your side just you try and stop me i'll be waiting in line just to see if you care  pre oh did you want me to change well i'll change for good and i want you to know that you'll always get your way i wanted to say   don't you shiver shiver sing it loud and clear i'll always be waiting for you   so you know how much i need you but you never even see me do you and is this my final chance of getting you  but on and on from the moment i wake 'til the moment i sleep i'll be there by your side just you try and stop me i'll be waiting in line just to see if you care if you care  pre oh did you want me to change well i'll change for good and i want you to know that you'll always get your way i wanted to say   don't you shiver don't you shiver sing it loud and clear i'll always be waiting for you   yeah i'll always be waiting for you yeah i'll always be waiting for you yeah i'll always be waiting for you for you i will always be waiting  final  and it's you i see but you don't see me and it's you i hear so loud and so clear i sing it loud and clear and i'll always be waiting for you   so i look in your direction but you pay me no attention and you know how much i need you but you never even see me\""
            ],
            "application/vnd.google.colaboratory.intrinsic+json": {
              "type": "string"
            }
          },
          "metadata": {},
          "execution_count": 105
        }
      ],
      "source": [
        "# Concatenamos todos los rows en un solo valor\n",
        "corpus = df.apply(lambda row: ' '.join(row.values.astype(str)), axis=0)[0]\n",
        "corpus"
      ]
    },
    {
      "cell_type": "code",
      "execution_count": 106,
      "metadata": {
        "colab": {
          "base_uri": "https://localhost:8080/"
        },
        "id": "_KlsYd7_uOez",
        "outputId": "a70d7a54-b167-42af-c0ee-f97f5af2e1ff"
      },
      "outputs": [
        {
          "output_type": "execute_result",
          "data": {
            "text/plain": [
              "['come',\n",
              " 'up',\n",
              " 'to',\n",
              " 'meet',\n",
              " 'you',\n",
              " 'tell',\n",
              " 'you',\n",
              " \"i'm\",\n",
              " 'sorry',\n",
              " 'you',\n",
              " \"don't\",\n",
              " 'know',\n",
              " 'how',\n",
              " 'lovely',\n",
              " 'you',\n",
              " 'are',\n",
              " 'i',\n",
              " 'had',\n",
              " 'to',\n",
              " 'find']"
            ]
          },
          "metadata": {},
          "execution_count": 106
        }
      ],
      "source": [
        "# Transformar el corpus a tokens\n",
        "tokens=text_to_word_sequence(corpus)\n",
        "# Vistazo general de los primeros tokens\n",
        "tokens[:20]"
      ]
    },
    {
      "cell_type": "code",
      "execution_count": 107,
      "metadata": {
        "colab": {
          "base_uri": "https://localhost:8080/"
        },
        "id": "GlqpZSJOJ1xQ",
        "outputId": "57ccede3-57c5-4d9f-ea00-5348e6e798d3"
      },
      "outputs": [
        {
          "output_type": "stream",
          "name": "stdout",
          "text": [
            "Cantidad de tokens en el corpus: 62323\n"
          ]
        }
      ],
      "source": [
        "print(\"Cantidad de tokens en el corpus:\", len(tokens))"
      ]
    },
    {
      "cell_type": "code",
      "execution_count": 108,
      "metadata": {
        "id": "RhQevOynuYk2"
      },
      "outputs": [],
      "source": [
        "# Código para hacer el desfazaje de las palabras\n",
        "# según el train_len\n",
        "text_sequences = []\n",
        "for i in range(train_len, len(tokens)):\n",
        "  seq = tokens[i-train_len:i]\n",
        "  text_sequences.append(seq)"
      ]
    },
    {
      "cell_type": "code",
      "execution_count": 109,
      "metadata": {
        "colab": {
          "base_uri": "https://localhost:8080/"
        },
        "id": "FU3FuqHSuhzq",
        "outputId": "26dd21a7-da6b-48ed-b656-4b3ca6f8cae9"
      },
      "outputs": [
        {
          "output_type": "execute_result",
          "data": {
            "text/plain": [
              "[['come', 'up', 'to', 'meet'],\n",
              " ['up', 'to', 'meet', 'you'],\n",
              " ['to', 'meet', 'you', 'tell'],\n",
              " ['meet', 'you', 'tell', 'you'],\n",
              " ['you', 'tell', 'you', \"i'm\"],\n",
              " ['tell', 'you', \"i'm\", 'sorry'],\n",
              " ['you', \"i'm\", 'sorry', 'you'],\n",
              " [\"i'm\", 'sorry', 'you', \"don't\"],\n",
              " ['sorry', 'you', \"don't\", 'know'],\n",
              " ['you', \"don't\", 'know', 'how'],\n",
              " [\"don't\", 'know', 'how', 'lovely'],\n",
              " ['know', 'how', 'lovely', 'you'],\n",
              " ['how', 'lovely', 'you', 'are'],\n",
              " ['lovely', 'you', 'are', 'i'],\n",
              " ['you', 'are', 'i', 'had'],\n",
              " ['are', 'i', 'had', 'to'],\n",
              " ['i', 'had', 'to', 'find'],\n",
              " ['had', 'to', 'find', 'you'],\n",
              " ['to', 'find', 'you', 'tell'],\n",
              " ['find', 'you', 'tell', 'you']]"
            ]
          },
          "metadata": {},
          "execution_count": 109
        }
      ],
      "source": [
        "# Demos un vistazo a nuestros vectores para entrenar el modelo\n",
        "text_sequences[:20]"
      ]
    },
    {
      "cell_type": "code",
      "execution_count": 110,
      "metadata": {
        "colab": {
          "base_uri": "https://localhost:8080/"
        },
        "id": "064N2jtLvHRg",
        "outputId": "98feb4d4-19bd-4e03-ed1b-90c81f1814fc"
      },
      "outputs": [
        {
          "output_type": "execute_result",
          "data": {
            "text/plain": [
              "[[40, 28, 6, 315],\n",
              " [28, 6, 315, 2],\n",
              " [6, 315, 2, 126],\n",
              " [315, 2, 126, 2],\n",
              " [2, 126, 2, 21],\n",
              " [126, 2, 21, 622],\n",
              " [2, 21, 622, 2],\n",
              " [21, 622, 2, 20],\n",
              " [622, 2, 20, 26],\n",
              " [2, 20, 26, 44],\n",
              " [20, 26, 44, 1097],\n",
              " [26, 44, 1097, 2],\n",
              " [44, 1097, 2, 43],\n",
              " [1097, 2, 43, 1],\n",
              " [2, 43, 1, 217],\n",
              " [43, 1, 217, 6],\n",
              " [1, 217, 6, 117],\n",
              " [217, 6, 117, 2],\n",
              " [6, 117, 2, 126],\n",
              " [117, 2, 126, 2]]"
            ]
          },
          "metadata": {},
          "execution_count": 110
        }
      ],
      "source": [
        "# Proceso de tokenizacion\n",
        "tok = Tokenizer() \n",
        "tok.fit_on_texts(text_sequences) \n",
        "\n",
        "# Convertimos las palabras a números\n",
        "# entran palabras -> salen números\n",
        "sequences = tok.texts_to_sequences(text_sequences)\n",
        "\n",
        "# Damos un vistazo\n",
        "sequences[:20]"
      ]
    },
    {
      "cell_type": "code",
      "execution_count": 111,
      "metadata": {
        "colab": {
          "base_uri": "https://localhost:8080/"
        },
        "id": "vwsvmvDKKXSP",
        "outputId": "ccc4fa9e-0074-4789-89ee-f3f03b43f1e8"
      },
      "outputs": [
        {
          "output_type": "stream",
          "name": "stdout",
          "text": [
            "Cantidad de rows del dataset: 62319\n"
          ]
        }
      ],
      "source": [
        "print(\"Cantidad de rows del dataset:\", len(sequences))"
      ]
    },
    {
      "cell_type": "markdown",
      "metadata": {
        "id": "QMVP4bj0vL2e"
      },
      "source": [
        "#### Input y target"
      ]
    },
    {
      "cell_type": "code",
      "execution_count": 112,
      "metadata": {
        "colab": {
          "base_uri": "https://localhost:8080/"
        },
        "id": "e1vJTG65v4Qn",
        "outputId": "390cb565-344a-46fd-b5e6-047145321b86"
      },
      "outputs": [
        {
          "output_type": "stream",
          "name": "stdout",
          "text": [
            "(62319, 3)\n",
            "(62319,)\n"
          ]
        }
      ],
      "source": [
        "arr_sequences = np.array(sequences)\n",
        "x_data = arr_sequences[:,:-1]\n",
        "y_data_int = arr_sequences[:,-1] # aún falta el oneHotEncoder\n",
        "\n",
        "print(x_data.shape)\n",
        "print(y_data_int.shape)"
      ]
    },
    {
      "cell_type": "code",
      "execution_count": 113,
      "metadata": {
        "colab": {
          "base_uri": "https://localhost:8080/"
        },
        "id": "ln6kVWVlwBBs",
        "outputId": "696294f8-68c5-482a-fe33-72b72abf5487"
      },
      "outputs": [
        {
          "output_type": "execute_result",
          "data": {
            "text/plain": [
              "{1: 'i',\n",
              " 2: 'you',\n",
              " 3: 'the',\n",
              " 4: 'and',\n",
              " 5: 'a',\n",
              " 6: 'to',\n",
              " 7: 'oh',\n",
              " 8: 'in',\n",
              " 9: 'me',\n",
              " 10: 'it',\n",
              " 11: 'my',\n",
              " 12: 'of',\n",
              " 13: 'on',\n",
              " 14: 'your',\n",
              " 15: 'for',\n",
              " 16: 'be',\n",
              " 17: 'so',\n",
              " 18: 'all',\n",
              " 19: 'that',\n",
              " 20: \"don't\",\n",
              " 21: \"i'm\",\n",
              " 22: 'just',\n",
              " 23: 'when',\n",
              " 24: 'but',\n",
              " 25: 'is',\n",
              " 26: 'know',\n",
              " 27: 'we',\n",
              " 28: 'up',\n",
              " 29: 'go',\n",
              " 30: 'get',\n",
              " 31: \"it's\",\n",
              " 32: 'love',\n",
              " 33: 'see',\n",
              " 34: 'yeah',\n",
              " 35: 'this',\n",
              " 36: 'do',\n",
              " 37: 'no',\n",
              " 38: 'was',\n",
              " 39: 'what',\n",
              " 40: 'come',\n",
              " 41: 'if',\n",
              " 42: 'down',\n",
              " 43: 'are',\n",
              " 44: 'how',\n",
              " 45: \"you're\",\n",
              " 46: 'they',\n",
              " 47: 'can',\n",
              " 48: 'la',\n",
              " 49: 'world',\n",
              " 50: 'gonna',\n",
              " 51: 'never',\n",
              " 52: 'one',\n",
              " 53: 'want',\n",
              " 54: 'like',\n",
              " 55: 'now',\n",
              " 56: 'with',\n",
              " 57: 'feel',\n",
              " 58: 'will',\n",
              " 59: 'say',\n",
              " 60: 'out',\n",
              " 61: 'not',\n",
              " 62: 'got',\n",
              " 63: 'as',\n",
              " 64: 'from',\n",
              " 65: 'light',\n",
              " 66: \"i'll\",\n",
              " 67: 'could',\n",
              " 68: 'where',\n",
              " 69: 'talk',\n",
              " 70: 'ever',\n",
              " 71: 'her',\n",
              " 72: 'going',\n",
              " 73: 'she',\n",
              " 74: 'wanna',\n",
              " 75: 'let',\n",
              " 76: 'high',\n",
              " 77: 'time',\n",
              " 78: 'way',\n",
              " 79: 'every',\n",
              " 80: \"can't\",\n",
              " 81: 'there',\n",
              " 82: 'have',\n",
              " 83: \"'cause\",\n",
              " 84: 'woo',\n",
              " 85: 'life',\n",
              " 86: \"you'll\",\n",
              " 87: 'sky',\n",
              " 88: 'always',\n",
              " 89: 'eyes',\n",
              " 90: 'look',\n",
              " 91: 'heart',\n",
              " 92: 'or',\n",
              " 93: 'been',\n",
              " 94: 'head',\n",
              " 95: 'lost',\n",
              " 96: 'something',\n",
              " 97: \"that's\",\n",
              " 98: 'us',\n",
              " 99: 'day',\n",
              " 100: 'away',\n",
              " 101: 'back',\n",
              " 102: 'at',\n",
              " 103: 'ooh',\n",
              " 104: 'were',\n",
              " 105: 'paraparaparadise',\n",
              " 106: 'shine',\n",
              " 107: 'think',\n",
              " 108: 'sing',\n",
              " 109: 'ah',\n",
              " 110: 'hear',\n",
              " 111: 'give',\n",
              " 112: 'together',\n",
              " 113: 'here',\n",
              " 114: 'home',\n",
              " 115: 'then',\n",
              " 116: 'into',\n",
              " 117: 'find',\n",
              " 118: 'waiting',\n",
              " 119: 'said',\n",
              " 120: 'through',\n",
              " 121: 'sun',\n",
              " 122: 'nothing',\n",
              " 123: 'some',\n",
              " 124: 'again',\n",
              " 125: 'well',\n",
              " 126: 'tell',\n",
              " 127: 'over',\n",
              " 128: 'around',\n",
              " 129: 'take',\n",
              " 130: 'only',\n",
              " 131: 'fly',\n",
              " 132: 'an',\n",
              " 133: 'who',\n",
              " 134: 'right',\n",
              " 135: 'maybe',\n",
              " 136: \"let's\",\n",
              " 137: \"i've\",\n",
              " 138: 'hoo',\n",
              " 139: 'singing',\n",
              " 140: 'sometimes',\n",
              " 141: 'night',\n",
              " 142: 'live',\n",
              " 143: \"there's\",\n",
              " 144: 'before',\n",
              " 145: 'people',\n",
              " 146: 'feeling',\n",
              " 147: 'cry',\n",
              " 148: 'part',\n",
              " 149: 'by',\n",
              " 150: \"they're\",\n",
              " 151: 'change',\n",
              " 152: 'sleep',\n",
              " 153: 'call',\n",
              " 154: 'across',\n",
              " 155: 'would',\n",
              " 156: 'try',\n",
              " 157: \"won't\",\n",
              " 158: 'turn',\n",
              " 159: 'cause',\n",
              " 160: 'need',\n",
              " 161: 'such',\n",
              " 162: 'about',\n",
              " 163: 'he',\n",
              " 164: 'wait',\n",
              " 165: 'song',\n",
              " 166: 'good',\n",
              " 167: 'came',\n",
              " 168: 'things',\n",
              " 169: 'full',\n",
              " 170: 'fall',\n",
              " 171: 'am',\n",
              " 172: 'still',\n",
              " 173: 'own',\n",
              " 174: 'close',\n",
              " 175: 'true',\n",
              " 176: 'make',\n",
              " 177: 'long',\n",
              " 178: 'boom',\n",
              " 179: 'waterfall',\n",
              " 180: 'much',\n",
              " 181: 'ohoh',\n",
              " 182: 'stars',\n",
              " 183: 'shoot',\n",
              " 184: 'rain',\n",
              " 185: 'im',\n",
              " 186: 'too',\n",
              " 187: 'ohohoh',\n",
              " 188: 'done',\n",
              " 189: 'everything',\n",
              " 190: 'thing',\n",
              " 191: 'off',\n",
              " 192: 'fire',\n",
              " 193: \"we're\",\n",
              " 194: 'oohoohooh',\n",
              " 195: 'upon',\n",
              " 196: 'de',\n",
              " 197: 'keep',\n",
              " 198: 'hook',\n",
              " 199: 'mean',\n",
              " 200: 'gone',\n",
              " 201: 'run',\n",
              " 202: 'mine',\n",
              " 203: 'wrong',\n",
              " 204: 'baby',\n",
              " 205: 'leave',\n",
              " 206: 'side',\n",
              " 207: 'nobody',\n",
              " 208: 'beautiful',\n",
              " 209: 'because',\n",
              " 210: 'stop',\n",
              " 211: 'wanted',\n",
              " 212: \"you've\",\n",
              " 213: 'start',\n",
              " 214: 'them',\n",
              " 215: 'place',\n",
              " 216: 'olé',\n",
              " 217: 'had',\n",
              " 218: 'our',\n",
              " 219: 'lights',\n",
              " 220: 'line',\n",
              " 221: 'break',\n",
              " 222: 'open',\n",
              " 223: 'drunk',\n",
              " 224: 'sea',\n",
              " 225: 'pre',\n",
              " 226: 'dark',\n",
              " 227: 'everyone',\n",
              " 228: 'little',\n",
              " 229: 'put',\n",
              " 230: 'saw',\n",
              " 231: 'water',\n",
              " 232: 'stay',\n",
              " 233: 'found',\n",
              " 234: 'doodoodoo',\n",
              " 235: \"i'd\",\n",
              " 236: 'low',\n",
              " 237: 'tear',\n",
              " 238: \"she'd\",\n",
              " 239: 'future',\n",
              " 240: 'rush',\n",
              " 241: 'face',\n",
              " 242: 'above',\n",
              " 243: 'hurt',\n",
              " 244: 'cold',\n",
              " 245: 'friends',\n",
              " 246: \"'til\",\n",
              " 247: 'hold',\n",
              " 248: 'dream',\n",
              " 249: 'alive',\n",
              " 250: 'ka',\n",
              " 251: 'god',\n",
              " 252: 'alright',\n",
              " 253: 'christmas',\n",
              " 254: 'believe',\n",
              " 255: 'more',\n",
              " 256: 'should',\n",
              " 257: 'yes',\n",
              " 258: \"what's\",\n",
              " 259: 'work',\n",
              " 260: 'lie',\n",
              " 261: 'yellow',\n",
              " 262: 'skin',\n",
              " 263: 'must',\n",
              " 264: 'dreams',\n",
              " 265: 'trying',\n",
              " 266: 'hmmhmm',\n",
              " 267: 'went',\n",
              " 268: 'two',\n",
              " 269: 'heard',\n",
              " 270: \"doesn't\",\n",
              " 271: 'hope',\n",
              " 272: 'understand',\n",
              " 273: 'spies',\n",
              " 274: 'best',\n",
              " 275: 'took',\n",
              " 276: 'river',\n",
              " 277: 'blood',\n",
              " 278: 'dont',\n",
              " 279: 'show',\n",
              " 280: 'has',\n",
              " 281: 'whisper',\n",
              " 282: 'bones',\n",
              " 283: 'tried',\n",
              " 284: 'car',\n",
              " 285: 'really',\n",
              " 286: 'trust',\n",
              " 287: 'paradise',\n",
              " 288: 'ohoooh',\n",
              " 289: 'sound',\n",
              " 290: 'under',\n",
              " 291: 'those',\n",
              " 292: 'please',\n",
              " 293: 'write',\n",
              " 294: 'better',\n",
              " 295: 'clear',\n",
              " 296: 'anyone',\n",
              " 297: 'looking',\n",
              " 298: 'para',\n",
              " 299: 'oooooo',\n",
              " 300: 'coming',\n",
              " 301: 'morning',\n",
              " 302: 'someone',\n",
              " 303: 'goes',\n",
              " 304: 'arms',\n",
              " 305: 'soon',\n",
              " 306: 'ladder',\n",
              " 307: 'listen',\n",
              " 308: 'myself',\n",
              " 309: 'heaven',\n",
              " 310: 'saying',\n",
              " 311: 'meant',\n",
              " 312: 'boys',\n",
              " 313: 'than',\n",
              " 314: 'even',\n",
              " 315: 'meet',\n",
              " 316: 'word',\n",
              " 317: 'stand',\n",
              " 318: 'tears',\n",
              " 319: 'care',\n",
              " 320: 'reach',\n",
              " 321: 'its',\n",
              " 322: 'champion',\n",
              " 323: 'birds',\n",
              " 324: 'his',\n",
              " 325: 'forever',\n",
              " 326: 'apart',\n",
              " 327: 'name',\n",
              " 328: 'moment',\n",
              " 329: 'oooh',\n",
              " 330: 'each',\n",
              " 331: 'yourself',\n",
              " 332: 'loud',\n",
              " 333: 'oohoohoohooh',\n",
              " 334: 'alone',\n",
              " 335: 'closed',\n",
              " 336: 'end',\n",
              " 337: 'magic',\n",
              " 338: \"we've\",\n",
              " 339: \"we'll\",\n",
              " 340: 'else',\n",
              " 341: 'other',\n",
              " 342: 'music',\n",
              " 343: 'seen',\n",
              " 344: \"she's\",\n",
              " 345: 'dumdumdum',\n",
              " 346: 'felt',\n",
              " 347: 'eye',\n",
              " 348: 'set',\n",
              " 349: 'hard',\n",
              " 350: 'wild',\n",
              " 351: 'might',\n",
              " 352: 'ride',\n",
              " 353: 'beating',\n",
              " 354: 'flew',\n",
              " 355: 'ohohohoh',\n",
              " 356: 'everybody',\n",
              " 357: 'road',\n",
              " 358: 'why',\n",
              " 359: 'wish',\n",
              " 360: 'until',\n",
              " 361: 'free',\n",
              " 362: 'hands',\n",
              " 363: 'hide',\n",
              " 364: 'wedding',\n",
              " 365: 'careful',\n",
              " 366: 'easy',\n",
              " 367: 'may',\n",
              " 368: 'stormy',\n",
              " 369: 'underneath',\n",
              " 370: 'compares',\n",
              " 371: 'whoa',\n",
              " 372: 'dawn',\n",
              " 373: 'scared',\n",
              " 374: 'climb',\n",
              " 375: 'days',\n",
              " 376: 'darkness',\n",
              " 377: 'somebody',\n",
              " 378: 'comes',\n",
              " 379: 'living',\n",
              " 380: 'hardest',\n",
              " 381: 'ask',\n",
              " 382: 'used',\n",
              " 383: 'drink',\n",
              " 384: 'snow',\n",
              " 385: 'buba',\n",
              " 386: 'far',\n",
              " 387: 'chance',\n",
              " 388: 'ground',\n",
              " 389: 'control',\n",
              " 390: 'corner',\n",
              " 391: 'dead',\n",
              " 392: 'walls',\n",
              " 393: 'once',\n",
              " 394: 'along',\n",
              " 395: 'trouble',\n",
              " 396: 'brother',\n",
              " 397: 'did',\n",
              " 398: 'mind',\n",
              " 399: 'touch',\n",
              " 400: 'which',\n",
              " 401: 'picture',\n",
              " 402: 'ring',\n",
              " 403: 'lalalala',\n",
              " 404: 'old',\n",
              " 405: 'next',\n",
              " 406: 'symphony',\n",
              " 407: 'die',\n",
              " 408: 'told',\n",
              " 409: 'drive',\n",
              " 410: 'inside',\n",
              " 411: 'glowing',\n",
              " 412: 'gotta',\n",
              " 413: 'bigger',\n",
              " 414: 'man',\n",
              " 415: 'lives',\n",
              " 416: 'windows',\n",
              " 417: \"couldn't\",\n",
              " 418: 'lose',\n",
              " 419: 'chris',\n",
              " 420: 'though',\n",
              " 421: 'girl',\n",
              " 422: 'hurts',\n",
              " 423: 'storm',\n",
              " 424: 'web',\n",
              " 425: 'wonder',\n",
              " 426: 'poor',\n",
              " 427: 'shiver',\n",
              " 428: 'without',\n",
              " 429: 'made',\n",
              " 430: 'another',\n",
              " 431: 'red',\n",
              " 432: 'knows',\n",
              " 433: 'worry',\n",
              " 434: 'strong',\n",
              " 435: 'rise',\n",
              " 436: 'bells',\n",
              " 437: 'breakdown',\n",
              " 438: 'fix',\n",
              " 439: 'bleed',\n",
              " 440: 'miles',\n",
              " 441: 'beyoncé',\n",
              " 442: 'oohooh',\n",
              " 443: 'cut',\n",
              " 444: 'first',\n",
              " 445: 'wake',\n",
              " 446: 'moving',\n",
              " 447: 'any',\n",
              " 448: 'space',\n",
              " 449: 'kind',\n",
              " 450: 'answer',\n",
              " 451: 'todo',\n",
              " 452: 'idiot',\n",
              " 453: 'king',\n",
              " 454: 'field',\n",
              " 455: 'explain',\n",
              " 456: 'angel',\n",
              " 457: 'flow',\n",
              " 458: 'same',\n",
              " 459: 'pain',\n",
              " 460: 'earth',\n",
              " 461: 'pay',\n",
              " 462: 'talking',\n",
              " 463: 'last',\n",
              " 464: 'bad',\n",
              " 465: 'says',\n",
              " 466: \"didn't\",\n",
              " 467: 'wears',\n",
              " 468: 'tonight',\n",
              " 469: 'dreaming',\n",
              " 470: \"everything's\",\n",
              " 471: 'help',\n",
              " 472: 'oooooh',\n",
              " 473: 'mirror',\n",
              " 474: 'sword',\n",
              " 475: 'lonely',\n",
              " 476: 'worse',\n",
              " 477: 'below',\n",
              " 478: 'heavy',\n",
              " 479: 'ran',\n",
              " 480: 'falling',\n",
              " 481: \"wouldn't\",\n",
              " 482: 'left',\n",
              " 483: 'him',\n",
              " 484: 'broken',\n",
              " 485: 'white',\n",
              " 486: 'watching',\n",
              " 487: 'bring',\n",
              " 488: 'these',\n",
              " 489: 'fun',\n",
              " 490: 'turning',\n",
              " 491: 'missing',\n",
              " 492: 'gold',\n",
              " 493: 'el',\n",
              " 494: 'boy',\n",
              " 495: 'sugar',\n",
              " 496: 'johnny',\n",
              " 497: 'streets',\n",
              " 498: 'roman',\n",
              " 499: 'shield',\n",
              " 500: 'reason',\n",
              " 501: 'ruled',\n",
              " 502: 'tired',\n",
              " 503: 'stream',\n",
              " 504: 'cannot',\n",
              " 505: 'dry',\n",
              " 506: 'miss',\n",
              " 507: 'wherever',\n",
              " 508: 'knees',\n",
              " 509: 'fight',\n",
              " 510: 'thought',\n",
              " 511: \"she'll\",\n",
              " 512: 'remember',\n",
              " 513: 'feet',\n",
              " 514: 'peace',\n",
              " 515: '4',\n",
              " 516: 'standing',\n",
              " 517: 'state',\n",
              " 518: 'soul',\n",
              " 519: \"another's\",\n",
              " 520: 'many',\n",
              " 521: 'son',\n",
              " 522: 'wonderful',\n",
              " 523: 'más',\n",
              " 524: 'hopeless',\n",
              " 525: 'computer',\n",
              " 526: 'jerusalem',\n",
              " 527: 'cavalry',\n",
              " 528: 'choirs',\n",
              " 529: 'missionaries',\n",
              " 530: 'foreign',\n",
              " 531: 'honest',\n",
              " 532: 'silver',\n",
              " 533: 'guide',\n",
              " 534: 'sent',\n",
              " 535: 'gets',\n",
              " 536: 'view',\n",
              " 537: 'feels',\n",
              " 538: 'taking',\n",
              " 539: 'woowoo',\n",
              " 540: 'honey',\n",
              " 541: 'guess',\n",
              " 542: 'expected',\n",
              " 543: 'turned',\n",
              " 544: 'very',\n",
              " 545: 'lo',\n",
              " 546: 'sit',\n",
              " 547: 'speed',\n",
              " 548: 'sung',\n",
              " 549: 'lord',\n",
              " 550: 'round',\n",
              " 551: 'sure',\n",
              " 552: 'por',\n",
              " 553: 'sweet',\n",
              " 554: 'amor',\n",
              " 555: 'gracias',\n",
              " 556: 'murder',\n",
              " 557: 'nada',\n",
              " 558: 'ohohohohohohohoh',\n",
              " 559: 'burns',\n",
              " 560: 'running',\n",
              " 561: 'fear',\n",
              " 562: \"you'd\",\n",
              " 563: 'drew',\n",
              " 564: 'ohi',\n",
              " 565: 'brothers',\n",
              " 566: 'sisters',\n",
              " 567: 'refrain',\n",
              " 568: 'moon',\n",
              " 569: 'trees',\n",
              " 570: 'anybody',\n",
              " 571: 'swim',\n",
              " 572: 'their',\n",
              " 573: 'fell',\n",
              " 574: 'walking',\n",
              " 575: 'blue',\n",
              " 576: 'crumble',\n",
              " 577: 'star',\n",
              " 578: 'crawl',\n",
              " 579: 'bit',\n",
              " 580: 'belong',\n",
              " 581: 'power',\n",
              " 582: 'coldplay',\n",
              " 583: 'faster',\n",
              " 584: 'whoo',\n",
              " 585: 'raspberry',\n",
              " 586: 'gave',\n",
              " 587: 'minute',\n",
              " 588: 'become',\n",
              " 589: 'post',\n",
              " 590: 'choir',\n",
              " 591: 'whole',\n",
              " 592: 'flower',\n",
              " 593: 'fucking',\n",
              " 594: 'permanent',\n",
              " 595: 'pray',\n",
              " 596: 'lines',\n",
              " 597: 'begin',\n",
              " 598: 'forget',\n",
              " 599: 'mouth',\n",
              " 600: 'x',\n",
              " 601: 'gun',\n",
              " 602: 'war',\n",
              " 603: \"here's\",\n",
              " 604: 'ive',\n",
              " 605: 'door',\n",
              " 606: 'big',\n",
              " 607: \"who'll\",\n",
              " 608: 'making',\n",
              " 609: 'grace',\n",
              " 610: 'settle',\n",
              " 611: 'nowhere',\n",
              " 612: 'spread',\n",
              " 613: 'mundo',\n",
              " 614: 'past',\n",
              " 615: 'breaking',\n",
              " 616: 'mess',\n",
              " 617: 'closer',\n",
              " 618: 'asleep',\n",
              " 619: 'flames',\n",
              " 620: 'ticking',\n",
              " 621: 'less',\n",
              " 622: 'sorry',\n",
              " 623: 'roll',\n",
              " 624: 'stuck',\n",
              " 625: 'ignite',\n",
              " 626: 'called',\n",
              " 627: 'flood',\n",
              " 628: 'everglow',\n",
              " 629: 'diamonds',\n",
              " 630: 'woohoo',\n",
              " 631: 'catch',\n",
              " 632: 'lying',\n",
              " 633: 'okay',\n",
              " 634: 'interlude',\n",
              " 635: 'caught',\n",
              " 636: 'flock',\n",
              " 637: 'hovering',\n",
              " 638: 'till',\n",
              " 639: 'keeping',\n",
              " 640: 'swirling',\n",
              " 641: 'rolling',\n",
              " 642: 'kids',\n",
              " 643: 'crazy',\n",
              " 644: 'amazing',\n",
              " 645: 'spoken',\n",
              " 646: 'alien',\n",
              " 647: 'kiss',\n",
              " 648: 'friend',\n",
              " 649: 'floating',\n",
              " 650: 'ready',\n",
              " 651: 'house',\n",
              " 652: 'doing',\n",
              " 653: 'race',\n",
              " 654: 'y',\n",
              " 655: 'band',\n",
              " 656: 'anywhere',\n",
              " 657: 'matter',\n",
              " 658: 'fool',\n",
              " 659: 'bom',\n",
              " 660: 'iwan',\n",
              " 661: 'billie',\n",
              " 662: 'jean',\n",
              " 663: 'aringing',\n",
              " 664: 'beret',\n",
              " 665: 'nearer',\n",
              " 666: 'speak',\n",
              " 667: 'held',\n",
              " 668: 'key',\n",
              " 669: 'saint',\n",
              " 670: 'peter',\n",
              " 671: 'learn',\n",
              " 672: 'perfect',\n",
              " 673: 'slow',\n",
              " 674: 'youre',\n",
              " 675: 'adventure',\n",
              " 676: 'today',\n",
              " 677: 'grow',\n",
              " 678: 'dreamed',\n",
              " 679: 'disappear',\n",
              " 680: 'hoping',\n",
              " 681: 'somehow',\n",
              " 682: 'middle',\n",
              " 683: 'spun',\n",
              " 684: 'float',\n",
              " 685: 'outside',\n",
              " 686: 'flying',\n",
              " 687: 'air',\n",
              " 688: 'wave',\n",
              " 689: 'ya',\n",
              " 690: 'body',\n",
              " 691: 'blind',\n",
              " 692: 'black',\n",
              " 693: 'swear',\n",
              " 694: 'teardrop',\n",
              " 695: 'girls',\n",
              " 696: 'proof',\n",
              " 697: 'hand',\n",
              " 698: 'loved',\n",
              " 699: 'reign',\n",
              " 700: 'confidence',\n",
              " 701: 'wont',\n",
              " 702: 'carry',\n",
              " 703: 'ghost',\n",
              " 704: 'hes',\n",
              " 705: 'slowly',\n",
              " 706: 'narrator',\n",
              " 707: 'rheon',\n",
              " 708: \"he's\",\n",
              " 709: 'uno',\n",
              " 710: 'dos',\n",
              " 711: 'lover',\n",
              " 712: 'seas',\n",
              " 713: 'pillars',\n",
              " 714: 'ohohwoah',\n",
              " 715: 'mmm',\n",
              " 716: 'waste',\n",
              " 717: 'wrote',\n",
              " 718: 'lift',\n",
              " 719: 'drug',\n",
              " 720: 'wings',\n",
              " 721: 'kah',\n",
              " 722: 'after',\n",
              " 723: 'saved',\n",
              " 724: \"singin'\",\n",
              " 725: 'sitting',\n",
              " 726: 'ocean',\n",
              " 727: 'risk',\n",
              " 728: 'weapon',\n",
              " 729: 'new',\n",
              " 730: \"ain't\",\n",
              " 731: 'lethal',\n",
              " 732: \"they'll\",\n",
              " 733: 'piano',\n",
              " 734: 'direction',\n",
              " 735: 'attention',\n",
              " 736: \"'round\",\n",
              " 737: 'street',\n",
              " 738: 'men',\n",
              " 739: 'second',\n",
              " 740: 'places',\n",
              " 741: 'between',\n",
              " 742: 'bright',\n",
              " 743: 'rose',\n",
              " 744: 'room',\n",
              " 745: 'decide',\n",
              " 746: 'noise',\n",
              " 747: 'seems',\n",
              " 748: 'piece',\n",
              " 749: 'ignored',\n",
              " 750: 'sense',\n",
              " 751: 'army',\n",
              " 752: 'draw',\n",
              " 753: 'late',\n",
              " 754: 'pull',\n",
              " 755: 'voice',\n",
              " 756: 'snapping',\n",
              " 757: 'heels',\n",
              " 758: 'satisfied',\n",
              " 759: 'alfie',\n",
              " 760: 'ole',\n",
              " 761: 'houston',\n",
              " 762: 'science',\n",
              " 763: 'shame',\n",
              " 764: 'sand',\n",
              " 765: 'wind',\n",
              " 766: 'jonny',\n",
              " 767: \"love's\",\n",
              " 768: 'cant',\n",
              " 769: 'half',\n",
              " 770: 'share',\n",
              " 771: 'young',\n",
              " 772: 'teeth',\n",
              " 773: 'against',\n",
              " 774: 'clocks',\n",
              " 775: 'missed',\n",
              " 776: 'daddy',\n",
              " 777: 'takes',\n",
              " 778: 'empty',\n",
              " 779: 'heal',\n",
              " 780: 'spider',\n",
              " 781: 'harm',\n",
              " 782: 'thinking',\n",
              " 783: 'arrive',\n",
              " 784: 'smoke',\n",
              " 785: 'sign',\n",
              " 786: 'riding',\n",
              " 787: 'cross',\n",
              " 788: 'sinking',\n",
              " 789: 'sleeping',\n",
              " 790: 'swimming',\n",
              " 791: 'jikelele',\n",
              " 792: 'buy',\n",
              " 793: 'watch',\n",
              " 794: 'beside',\n",
              " 795: 'green',\n",
              " 796: 'rebel',\n",
              " 797: 'raise',\n",
              " 798: 'downtown',\n",
              " 799: 'waves',\n",
              " 800: 'landed',\n",
              " 801: 'somewhere',\n",
              " 802: 'smile',\n",
              " 803: 'send',\n",
              " 804: 'sunset',\n",
              " 805: 'human',\n",
              " 806: 'awake',\n",
              " 807: 'tree',\n",
              " 808: 'letting',\n",
              " 809: 'taste',\n",
              " 810: 'roses',\n",
              " 811: 'vest',\n",
              " 812: 'telescope',\n",
              " 813: 'lens',\n",
              " 814: 'fast',\n",
              " 815: 'listening',\n",
              " 816: 'wildling',\n",
              " 817: 'allen',\n",
              " 818: 'en',\n",
              " 819: 'money',\n",
              " 820: 'mold',\n",
              " 821: 'kylie',\n",
              " 822: 'eeeeyes',\n",
              " 823: 'awaaaay',\n",
              " 824: 'oooon',\n",
              " 825: 'sayohohoh',\n",
              " 826: 'queda',\n",
              " 827: 'doodoo',\n",
              " 828: 'hills',\n",
              " 829: 'lets',\n",
              " 830: 'lips',\n",
              " 831: 'salt',\n",
              " 832: 'drums',\n",
              " 833: 'replace',\n",
              " 834: 'worth',\n",
              " 835: 'enough',\n",
              " 836: 'theres',\n",
              " 837: \"want's\",\n",
              " 838: 'legends',\n",
              " 839: 'bullets',\n",
              " 840: 'breaks',\n",
              " 841: 'sparks',\n",
              " 842: 'aiming',\n",
              " 843: 'bubble',\n",
              " 844: 'final',\n",
              " 845: 'getting',\n",
              " 846: 'millions',\n",
              " 847: 'beat',\n",
              " 848: 'someday',\n",
              " 849: 'since',\n",
              " 850: 'records',\n",
              " 851: 'soar',\n",
              " 852: 'spark',\n",
              " 853: \"nothing's\",\n",
              " 854: 'knew',\n",
              " 855: 'miracles',\n",
              " 856: 'words',\n",
              " 857: 'started',\n",
              " 858: 'waited',\n",
              " 859: 'screaming',\n",
              " 860: 'radio',\n",
              " 861: 'target',\n",
              " 862: 'style',\n",
              " 863: 'outer',\n",
              " 864: 'real',\n",
              " 865: 'step',\n",
              " 866: 'being',\n",
              " 867: 'plan',\n",
              " 868: 'hmmoh',\n",
              " 869: 'queen',\n",
              " 870: 'mark',\n",
              " 871: 'hey',\n",
              " 872: 'spell',\n",
              " 873: 'treasure',\n",
              " 874: 'bittersweet',\n",
              " 875: 'clouds',\n",
              " 876: 'demons',\n",
              " 877: 'que',\n",
              " 878: 'glass',\n",
              " 879: 'lay',\n",
              " 880: 'walder',\n",
              " 881: 'frey',\n",
              " 882: 'heroes',\n",
              " 883: 'thank',\n",
              " 884: 'kit',\n",
              " 885: 'ahh',\n",
              " 886: 'times',\n",
              " 887: 'mr',\n",
              " 888: 'stronger',\n",
              " 889: 'unite',\n",
              " 890: 'animal',\n",
              " 891: 'ahhhh',\n",
              " 892: 'del',\n",
              " 893: \"we'd\",\n",
              " 894: 'tres',\n",
              " 895: 'kid',\n",
              " 896: 'gifts',\n",
              " 897: 'kisses',\n",
              " 898: 'bullet',\n",
              " 899: 'father',\n",
              " 900: 'chant',\n",
              " 901: 'whoaohoh',\n",
              " 902: 'secrets',\n",
              " 903: 'swam',\n",
              " 904: 'jumped',\n",
              " 905: 'poured',\n",
              " 906: 'weight',\n",
              " 907: 'martin',\n",
              " 908: 'bloom',\n",
              " 909: 'wheel',\n",
              " 910: 'butterfly',\n",
              " 911: 'skies',\n",
              " 912: 'ohohohohoh',\n",
              " 913: 'beg',\n",
              " 914: 'confusion',\n",
              " 915: 'play',\n",
              " 916: 'hearts',\n",
              " 917: 'yours',\n",
              " 918: 'stupid',\n",
              " 919: 'caused',\n",
              " 920: 'three',\n",
              " 921: 'fish',\n",
              " 922: 'walk',\n",
              " 923: 'rocket',\n",
              " 924: 'ship',\n",
              " 925: 'while',\n",
              " 926: 'thunder',\n",
              " 927: 'system',\n",
              " 928: 'blame',\n",
              " 929: 'stones',\n",
              " 930: 'fought',\n",
              " 931: 'dance',\n",
              " 932: 'matters',\n",
              " 933: 'rivers',\n",
              " 934: 'stopped',\n",
              " 935: 'troubles',\n",
              " 936: 'losing',\n",
              " 937: 'strength',\n",
              " 938: 'rising',\n",
              " 939: 'wheels',\n",
              " 940: 'kingdom',\n",
              " 941: 'game',\n",
              " 942: 'targaryen',\n",
              " 943: 'use',\n",
              " 944: 'looked',\n",
              " 945: 'superhero',\n",
              " 946: 'anything',\n",
              " 947: 'undone',\n",
              " 948: 'marching',\n",
              " 949: 'counting',\n",
              " 950: 'fade',\n",
              " 951: 'survive',\n",
              " 952: 'yet',\n",
              " 953: 'backwards',\n",
              " 954: 'smiling',\n",
              " 955: 'great',\n",
              " 956: 'breathe',\n",
              " 957: 'warm',\n",
              " 958: \"god's\",\n",
              " 959: 'cloud',\n",
              " 960: 'ahora',\n",
              " 961: 'risked',\n",
              " 962: 'fuerte',\n",
              " 963: 'twice',\n",
              " 964: 'bono',\n",
              " 965: 'da',\n",
              " 966: 'questions',\n",
              " 967: 'circles',\n",
              " 968: 'tails',\n",
              " 969: 'heads',\n",
              " 970: 'ohooh',\n",
              " 971: 'rule',\n",
              " 972: 'sweep',\n",
              " 973: 'dice',\n",
              " 974: 'crowd',\n",
              " 975: 'discovered',\n",
              " 976: 'ringing',\n",
              " 977: 'shattered',\n",
              " 978: 'string',\n",
              " 979: 'mistakes',\n",
              " 980: 'dried',\n",
              " 981: 'thirsty',\n",
              " 982: 'coursing',\n",
              " 983: 'lighter',\n",
              " 984: 'heavenly',\n",
              " 985: 'diamond',\n",
              " 986: 'waters',\n",
              " 987: 'beneath',\n",
              " 988: 'died',\n",
              " 989: 'baba',\n",
              " 990: 'flowers',\n",
              " 991: 'ends',\n",
              " 992: 'course',\n",
              " 993: 'named',\n",
              " 994: 'stops',\n",
              " 995: 'sees',\n",
              " 996: 'throw',\n",
              " 997: 'fixing',\n",
              " 998: 'searching',\n",
              " 999: 'meal',\n",
              " 1000: 'rough',\n",
              " ...}"
            ]
          },
          "metadata": {},
          "execution_count": 113
        }
      ],
      "source": [
        "# Palabras del vocabulario\n",
        "tok.index_word"
      ]
    },
    {
      "cell_type": "code",
      "execution_count": 114,
      "metadata": {
        "colab": {
          "base_uri": "https://localhost:8080/"
        },
        "id": "gJgVhq1zwEpf",
        "outputId": "c3697f27-27bd-4c62-dae2-6d27c17183d8"
      },
      "outputs": [
        {
          "output_type": "execute_result",
          "data": {
            "text/plain": [
              "3616"
            ]
          },
          "metadata": {},
          "execution_count": 114
        }
      ],
      "source": [
        "# Cantidad de palabras en el vocabulario\n",
        "vocab_size = len(tok.word_counts)\n",
        "vocab_size"
      ]
    },
    {
      "cell_type": "code",
      "execution_count": 115,
      "metadata": {
        "colab": {
          "base_uri": "https://localhost:8080/"
        },
        "id": "gIg2e2WCwXbG",
        "outputId": "5b0246c5-056d-496d-9d2b-d7cd43a6c39a"
      },
      "outputs": [
        {
          "output_type": "execute_result",
          "data": {
            "text/plain": [
              "(62319, 3616)"
            ]
          },
          "metadata": {},
          "execution_count": 115
        }
      ],
      "source": [
        "y_data_int_offset = y_data_int - 1\n",
        "y_data = to_categorical(y_data_int_offset, num_classes=vocab_size) \n",
        "y_data.shape"
      ]
    },
    {
      "cell_type": "markdown",
      "source": [
        "## PRUEBA 1 - Modelo visto en clase"
      ],
      "metadata": {
        "id": "7VKL68da-s6J"
      }
    },
    {
      "cell_type": "markdown",
      "metadata": {
        "id": "GmJWNyxQwfCE"
      },
      "source": [
        "a) Entrenar el modelo"
      ]
    },
    {
      "cell_type": "code",
      "execution_count": 148,
      "metadata": {
        "colab": {
          "base_uri": "https://localhost:8080/"
        },
        "id": "0cOmNZT_weK2",
        "outputId": "2ca3cafa-4e41-4046-dc13-d236000a0c6c"
      },
      "outputs": [
        {
          "output_type": "execute_result",
          "data": {
            "text/plain": [
              "3"
            ]
          },
          "metadata": {},
          "execution_count": 148
        }
      ],
      "source": [
        "# largo de la secuencia de entrada\n",
        "input_seq_len = x_data.shape[1] \n",
        "input_seq_len"
      ]
    },
    {
      "cell_type": "code",
      "execution_count": 149,
      "metadata": {
        "colab": {
          "base_uri": "https://localhost:8080/"
        },
        "id": "qtwITjgnwlgp",
        "outputId": "a7006d04-3976-4e4e-bc0a-5f670cbf0b3f"
      },
      "outputs": [
        {
          "output_type": "execute_result",
          "data": {
            "text/plain": [
              "3616"
            ]
          },
          "metadata": {},
          "execution_count": 149
        }
      ],
      "source": [
        "# Largo del vector de salida --> vocab_size\n",
        "output_size = vocab_size\n",
        "output_size"
      ]
    },
    {
      "cell_type": "code",
      "execution_count": 150,
      "metadata": {
        "colab": {
          "base_uri": "https://localhost:8080/"
        },
        "id": "jzTZRXrrwrvi",
        "outputId": "7901fe22-e2b5-47f8-b582-be34dafb9d31"
      },
      "outputs": [
        {
          "output_type": "stream",
          "name": "stdout",
          "text": [
            "Model: \"sequential_3\"\n",
            "_________________________________________________________________\n",
            " Layer (type)                Output Shape              Param #   \n",
            "=================================================================\n",
            " embedding_3 (Embedding)     (None, 3, 5)              18085     \n",
            "                                                                 \n",
            " lstm_6 (LSTM)               (None, 3, 64)             17920     \n",
            "                                                                 \n",
            " dropout_3 (Dropout)         (None, 3, 64)             0         \n",
            "                                                                 \n",
            " lstm_7 (LSTM)               (None, 64)                33024     \n",
            "                                                                 \n",
            " dense_6 (Dense)             (None, 32)                2080      \n",
            "                                                                 \n",
            " dense_7 (Dense)             (None, 3616)              119328    \n",
            "                                                                 \n",
            "=================================================================\n",
            "Total params: 190,437\n",
            "Trainable params: 190,437\n",
            "Non-trainable params: 0\n",
            "_________________________________________________________________\n"
          ]
        }
      ],
      "source": [
        "model = Sequential()\n",
        "\n",
        "# Embedding:\n",
        "# input_seq_len = 3 --> ingreso 3 palabras\n",
        "# input_dim = vocab_size --> 1628 palabras distintas\n",
        "# output_dim = 5 --> crear embeddings de tamaño 3 (tamaño variable y ajustable)\n",
        "model.add(Embedding(input_dim=vocab_size+1, output_dim=5, input_length=input_seq_len))\n",
        "\n",
        "model.add(LSTM(64, return_sequences=True))\n",
        "model.add(Dropout(0.2))\n",
        "model.add(LSTM(64)) # La última capa LSTM no lleva return_sequences\n",
        "model.add(Dense(32, activation='relu'))\n",
        "\n",
        "# Predicción de clasificación con softmax\n",
        "# La salida vuelve al espacio de 1628 palabras posibles\n",
        "model.add(Dense(vocab_size, activation='softmax'))\n",
        "\n",
        "# Clasificación multiple categórica --> loss = categorical_crossentropy\n",
        "model.compile(loss='categorical_crossentropy', optimizer='adam', metrics=['accuracy'])\n",
        "\n",
        "model.summary()"
      ]
    },
    {
      "cell_type": "code",
      "execution_count": 151,
      "metadata": {
        "colab": {
          "base_uri": "https://localhost:8080/"
        },
        "id": "oQq1PHDkxDvN",
        "outputId": "6c3a5c61-a0c0-4f2b-b683-be11fc0d62eb"
      },
      "outputs": [
        {
          "output_type": "stream",
          "name": "stdout",
          "text": [
            "Epoch 1/50\n",
            "1558/1558 [==============================] - 18s 10ms/step - loss: 6.3835 - accuracy: 0.0359 - val_loss: 6.0184 - val_accuracy: 0.0400\n",
            "Epoch 2/50\n",
            "1558/1558 [==============================] - 13s 8ms/step - loss: 6.0881 - accuracy: 0.0380 - val_loss: 5.8000 - val_accuracy: 0.0557\n",
            "Epoch 3/50\n",
            "1558/1558 [==============================] - 14s 9ms/step - loss: 5.8198 - accuracy: 0.0466 - val_loss: 5.6189 - val_accuracy: 0.0560\n",
            "Epoch 4/50\n",
            "1558/1558 [==============================] - 15s 9ms/step - loss: 5.6035 - accuracy: 0.0555 - val_loss: 5.5033 - val_accuracy: 0.0612\n",
            "Epoch 5/50\n",
            "1558/1558 [==============================] - 12s 8ms/step - loss: 5.4498 - accuracy: 0.0654 - val_loss: 5.4165 - val_accuracy: 0.0628\n",
            "Epoch 6/50\n",
            "1558/1558 [==============================] - 13s 9ms/step - loss: 5.3044 - accuracy: 0.0764 - val_loss: 5.3334 - val_accuracy: 0.0690\n",
            "Epoch 7/50\n",
            "1558/1558 [==============================] - 13s 9ms/step - loss: 5.1572 - accuracy: 0.0906 - val_loss: 5.2383 - val_accuracy: 0.0830\n",
            "Epoch 8/50\n",
            "1558/1558 [==============================] - 13s 9ms/step - loss: 5.0146 - accuracy: 0.1020 - val_loss: 5.1777 - val_accuracy: 0.0919\n",
            "Epoch 9/50\n",
            "1558/1558 [==============================] - 13s 8ms/step - loss: 4.8812 - accuracy: 0.1115 - val_loss: 5.1001 - val_accuracy: 0.1032\n",
            "Epoch 10/50\n",
            "1558/1558 [==============================] - 13s 8ms/step - loss: 4.7595 - accuracy: 0.1210 - val_loss: 5.0451 - val_accuracy: 0.1129\n",
            "Epoch 11/50\n",
            "1558/1558 [==============================] - 13s 9ms/step - loss: 4.6462 - accuracy: 0.1309 - val_loss: 5.0063 - val_accuracy: 0.1233\n",
            "Epoch 12/50\n",
            "1558/1558 [==============================] - 15s 10ms/step - loss: 4.5458 - accuracy: 0.1394 - val_loss: 4.9584 - val_accuracy: 0.1418\n",
            "Epoch 13/50\n",
            "1558/1558 [==============================] - 13s 9ms/step - loss: 4.4521 - accuracy: 0.1500 - val_loss: 4.9218 - val_accuracy: 0.1440\n",
            "Epoch 14/50\n",
            "1558/1558 [==============================] - 13s 8ms/step - loss: 4.3690 - accuracy: 0.1569 - val_loss: 4.9090 - val_accuracy: 0.1512\n",
            "Epoch 15/50\n",
            "1558/1558 [==============================] - 15s 9ms/step - loss: 4.2885 - accuracy: 0.1652 - val_loss: 4.9171 - val_accuracy: 0.1646\n",
            "Epoch 16/50\n",
            "1558/1558 [==============================] - 13s 8ms/step - loss: 4.2212 - accuracy: 0.1745 - val_loss: 4.9094 - val_accuracy: 0.1719\n",
            "Epoch 17/50\n",
            "1558/1558 [==============================] - 14s 9ms/step - loss: 4.1540 - accuracy: 0.1798 - val_loss: 4.8959 - val_accuracy: 0.1842\n",
            "Epoch 18/50\n",
            "1558/1558 [==============================] - 14s 9ms/step - loss: 4.0906 - accuracy: 0.1876 - val_loss: 4.8924 - val_accuracy: 0.1917\n",
            "Epoch 19/50\n",
            "1558/1558 [==============================] - 16s 10ms/step - loss: 4.0309 - accuracy: 0.1954 - val_loss: 4.8902 - val_accuracy: 0.1994\n",
            "Epoch 20/50\n",
            "1558/1558 [==============================] - 13s 8ms/step - loss: 3.9742 - accuracy: 0.2022 - val_loss: 4.9067 - val_accuracy: 0.2000\n",
            "Epoch 21/50\n",
            "1558/1558 [==============================] - 13s 8ms/step - loss: 3.9295 - accuracy: 0.2113 - val_loss: 4.8866 - val_accuracy: 0.2076\n",
            "Epoch 22/50\n",
            "1558/1558 [==============================] - 14s 9ms/step - loss: 3.8813 - accuracy: 0.2170 - val_loss: 4.8668 - val_accuracy: 0.2207\n",
            "Epoch 23/50\n",
            "1558/1558 [==============================] - 13s 8ms/step - loss: 3.8358 - accuracy: 0.2231 - val_loss: 4.8913 - val_accuracy: 0.2235\n",
            "Epoch 24/50\n",
            "1558/1558 [==============================] - 13s 9ms/step - loss: 3.8002 - accuracy: 0.2294 - val_loss: 4.8683 - val_accuracy: 0.2255\n",
            "Epoch 25/50\n",
            "1558/1558 [==============================] - 13s 9ms/step - loss: 3.7582 - accuracy: 0.2344 - val_loss: 4.8695 - val_accuracy: 0.2320\n",
            "Epoch 26/50\n",
            "1558/1558 [==============================] - 14s 9ms/step - loss: 3.7208 - accuracy: 0.2396 - val_loss: 4.8698 - val_accuracy: 0.2404\n",
            "Epoch 27/50\n",
            "1558/1558 [==============================] - 13s 8ms/step - loss: 3.6892 - accuracy: 0.2435 - val_loss: 4.8694 - val_accuracy: 0.2440\n",
            "Epoch 28/50\n",
            "1558/1558 [==============================] - 14s 9ms/step - loss: 3.6569 - accuracy: 0.2514 - val_loss: 4.8677 - val_accuracy: 0.2515\n",
            "Epoch 29/50\n",
            "1558/1558 [==============================] - 14s 9ms/step - loss: 3.6260 - accuracy: 0.2537 - val_loss: 4.8540 - val_accuracy: 0.2554\n",
            "Epoch 30/50\n",
            "1558/1558 [==============================] - 14s 9ms/step - loss: 3.5986 - accuracy: 0.2594 - val_loss: 4.8554 - val_accuracy: 0.2571\n",
            "Epoch 31/50\n",
            "1558/1558 [==============================] - 13s 9ms/step - loss: 3.5660 - accuracy: 0.2650 - val_loss: 4.8377 - val_accuracy: 0.2663\n",
            "Epoch 32/50\n",
            "1558/1558 [==============================] - 14s 9ms/step - loss: 3.5428 - accuracy: 0.2686 - val_loss: 4.8451 - val_accuracy: 0.2691\n",
            "Epoch 33/50\n",
            "1558/1558 [==============================] - 16s 10ms/step - loss: 3.5160 - accuracy: 0.2708 - val_loss: 4.8604 - val_accuracy: 0.2726\n",
            "Epoch 34/50\n",
            "1558/1558 [==============================] - 13s 8ms/step - loss: 3.4904 - accuracy: 0.2752 - val_loss: 4.8666 - val_accuracy: 0.2793\n",
            "Epoch 35/50\n",
            "1558/1558 [==============================] - 13s 9ms/step - loss: 3.4719 - accuracy: 0.2806 - val_loss: 4.8609 - val_accuracy: 0.2821\n",
            "Epoch 36/50\n",
            "1558/1558 [==============================] - 14s 9ms/step - loss: 3.4474 - accuracy: 0.2826 - val_loss: 4.8643 - val_accuracy: 0.2831\n",
            "Epoch 37/50\n",
            "1558/1558 [==============================] - 13s 8ms/step - loss: 3.4234 - accuracy: 0.2863 - val_loss: 4.8560 - val_accuracy: 0.2844\n",
            "Epoch 38/50\n",
            "1558/1558 [==============================] - 13s 8ms/step - loss: 3.4035 - accuracy: 0.2894 - val_loss: 4.8778 - val_accuracy: 0.2879\n",
            "Epoch 39/50\n",
            "1558/1558 [==============================] - 13s 8ms/step - loss: 3.3867 - accuracy: 0.2937 - val_loss: 4.8551 - val_accuracy: 0.2869\n",
            "Epoch 40/50\n",
            "1558/1558 [==============================] - 14s 9ms/step - loss: 3.3709 - accuracy: 0.2951 - val_loss: 4.8599 - val_accuracy: 0.2977\n",
            "Epoch 41/50\n",
            "1558/1558 [==============================] - 13s 8ms/step - loss: 3.3540 - accuracy: 0.2977 - val_loss: 4.8811 - val_accuracy: 0.2950\n",
            "Epoch 42/50\n",
            "1558/1558 [==============================] - 14s 9ms/step - loss: 3.3298 - accuracy: 0.3016 - val_loss: 4.8844 - val_accuracy: 0.3027\n",
            "Epoch 43/50\n",
            "1558/1558 [==============================] - 14s 9ms/step - loss: 3.3156 - accuracy: 0.3064 - val_loss: 4.8586 - val_accuracy: 0.3056\n",
            "Epoch 44/50\n",
            "1558/1558 [==============================] - 13s 8ms/step - loss: 3.3000 - accuracy: 0.3071 - val_loss: 4.8742 - val_accuracy: 0.3074\n",
            "Epoch 45/50\n",
            "1558/1558 [==============================] - 13s 8ms/step - loss: 3.2858 - accuracy: 0.3078 - val_loss: 4.8702 - val_accuracy: 0.3093\n",
            "Epoch 46/50\n",
            "1558/1558 [==============================] - 15s 10ms/step - loss: 3.2710 - accuracy: 0.3122 - val_loss: 4.8602 - val_accuracy: 0.3107\n",
            "Epoch 47/50\n",
            "1558/1558 [==============================] - 15s 10ms/step - loss: 3.2568 - accuracy: 0.3129 - val_loss: 4.8892 - val_accuracy: 0.3032\n",
            "Epoch 48/50\n",
            "1558/1558 [==============================] - 14s 9ms/step - loss: 3.2408 - accuracy: 0.3162 - val_loss: 4.8651 - val_accuracy: 0.3037\n",
            "Epoch 49/50\n",
            "1558/1558 [==============================] - 13s 8ms/step - loss: 3.2206 - accuracy: 0.3191 - val_loss: 4.9019 - val_accuracy: 0.3145\n",
            "Epoch 50/50\n",
            "1558/1558 [==============================] - 14s 9ms/step - loss: 3.2119 - accuracy: 0.3197 - val_loss: 4.8854 - val_accuracy: 0.3173\n"
          ]
        }
      ],
      "source": [
        "hist = model.fit(x_data, y_data, epochs=50, validation_split=0.2)"
      ]
    },
    {
      "cell_type": "code",
      "execution_count": 152,
      "metadata": {
        "colab": {
          "base_uri": "https://localhost:8080/",
          "height": 265
        },
        "id": "q_orBXOrCsNn",
        "outputId": "230056e2-8523-48c9-94a6-c96c5b0a80d1"
      },
      "outputs": [
        {
          "output_type": "display_data",
          "data": {
            "text/plain": [
              "<Figure size 432x288 with 1 Axes>"
            ],
            "image/png": "[encoded data removed]"
          },
          "metadata": {
            "needs_background": "light"
          }
        }
      ],
      "source": [
        "import matplotlib.pyplot as plt\n",
        "import seaborn as sns\n",
        "\n",
        "# Entrenamiento\n",
        "epoch_count = range(1, len(hist.history['accuracy']) + 1)\n",
        "sns.lineplot(x=epoch_count,  y=hist.history['accuracy'], label='train')\n",
        "sns.lineplot(x=epoch_count,  y=hist.history['val_accuracy'], label='valid')\n",
        "plt.show()"
      ]
    },
    {
      "cell_type": "markdown",
      "metadata": {
        "id": "KN6Fg_BsxJe6"
      },
      "source": [
        "b) Predicción de próxima palabra"
      ]
    },
    {
      "cell_type": "code",
      "execution_count": 153,
      "metadata": {
        "id": "iy_AXWQWzeeE"
      },
      "outputs": [],
      "source": [
        "# Keras pad_sequences\n",
        "# https://www.tensorflow.org/api_docs/python/tf/keras/preprocessing/sequence/pad_sequences\n",
        "# Si la secuencia de entrada supera al input_seq_len (3) se trunca\n",
        "# Si la secuencia es más corta se agregna ceros al comienzo"
      ]
    },
    {
      "cell_type": "code",
      "execution_count": 154,
      "metadata": {
        "id": "IBvKHFPmzpy2"
      },
      "outputs": [],
      "source": [
        "# Se utilizará gradio para ensayar el modelo\n",
        "# Herramienta poderosa para crear interfaces rápidas para ensayar modelos\n",
        "# https://gradio.app/\n",
        "import sys\n",
        "!{sys.executable} -m pip install gradio --quiet"
      ]
    },
    {
      "cell_type": "code",
      "execution_count": 34,
      "metadata": {
        "id": "HNyBykvhzs7-"
      },
      "outputs": [],
      "source": [
        "#import gradio as gr\n",
        "\n",
        "def model_response(human_text):\n",
        "\n",
        "    # Encodeamos\n",
        "    encoded = tok.texts_to_sequences([human_text])[0]\n",
        "    # Si tienen distinto largo\n",
        "    encoded = pad_sequences([encoded], maxlen=3, padding='pre')\n",
        "    \n",
        "    # Predicción softmax\n",
        "    y_hat = model.predict(encoded).argmax(axis=-1)\n",
        "\n",
        "    # Debemos buscar en el vocabulario la palabra\n",
        "    # que corresopnde al indice (y_hat) predicho por le modelo\n",
        "    out_word = ''\n",
        "    for word, index in tok.word_index.items():\n",
        "        if index == y_hat:\n",
        "            out_word = word\n",
        "            break\n",
        "\n",
        "    # Agrego la palabra a la frase predicha\n",
        "    return human_text + ' ' + out_word\n"
      ]
    },
    {
      "cell_type": "code",
      "execution_count": 156,
      "metadata": {
        "colab": {
          "base_uri": "https://localhost:8080/",
          "height": 53
        },
        "id": "SEFs2fYV4MZu",
        "outputId": "be54af90-3c75-4c99-cfca-cde5835d249c"
      },
      "outputs": [
        {
          "output_type": "stream",
          "name": "stdout",
          "text": [
            "1/1 [==============================] - 1s 911ms/step\n"
          ]
        },
        {
          "output_type": "execute_result",
          "data": {
            "text/plain": [
              "'nobody said it was careful'"
            ],
            "application/vnd.google.colaboratory.intrinsic+json": {
              "type": "string"
            }
          },
          "metadata": {},
          "execution_count": 156
        }
      ],
      "source": [
        "# Frase de la canción \"nobody said it was easy\"\n",
        "model_response('nobody said it was')"
      ]
    },
    {
      "cell_type": "code",
      "execution_count": 157,
      "metadata": {
        "colab": {
          "base_uri": "https://localhost:8080/",
          "height": 53
        },
        "id": "HIb2rPvh5Hsi",
        "outputId": "b6a97cd7-6db1-462f-f33b-e6a86959caf1"
      },
      "outputs": [
        {
          "output_type": "stream",
          "name": "stdout",
          "text": [
            "1/1 [==============================] - 0s 19ms/step\n"
          ]
        },
        {
          "output_type": "execute_result",
          "data": {
            "text/plain": [
              "'tell me you that'"
            ],
            "application/vnd.google.colaboratory.intrinsic+json": {
              "type": "string"
            }
          },
          "metadata": {},
          "execution_count": 157
        }
      ],
      "source": [
        "# Frase original: \"tell me you love me\"\n",
        "model_response('tell me you')"
      ]
    },
    {
      "cell_type": "code",
      "execution_count": 158,
      "metadata": {
        "colab": {
          "base_uri": "https://localhost:8080/",
          "height": 53
        },
        "id": "fQ7fzIHr5h70",
        "outputId": "5a991352-5fd2-4966-e803-57cf246e9f31"
      },
      "outputs": [
        {
          "output_type": "stream",
          "name": "stdout",
          "text": [
            "1/1 [==============================] - 0s 16ms/step\n"
          ]
        },
        {
          "output_type": "execute_result",
          "data": {
            "text/plain": [
              "'your skin and whisper'"
            ],
            "application/vnd.google.colaboratory.intrinsic+json": {
              "type": "string"
            }
          },
          "metadata": {},
          "execution_count": 158
        }
      ],
      "source": [
        "# Frase original: \"Your skin, oh yeah, your skin and bones\"\n",
        "model_response('your skin and')"
      ]
    },
    {
      "cell_type": "code",
      "execution_count": 159,
      "metadata": {
        "colab": {
          "base_uri": "https://localhost:8080/",
          "height": 53
        },
        "id": "C2itjYcD5_Cs",
        "outputId": "53879c06-8565-4c08-9e05-53d73434c023"
      },
      "outputs": [
        {
          "output_type": "stream",
          "name": "stdout",
          "text": [
            "1/1 [==============================] - 0s 23ms/step\n"
          ]
        },
        {
          "output_type": "execute_result",
          "data": {
            "text/plain": [
              "'it was all lie'"
            ],
            "application/vnd.google.colaboratory.intrinsic+json": {
              "type": "string"
            }
          },
          "metadata": {},
          "execution_count": 159
        }
      ],
      "source": [
        "# Frase original: \"And it was all yellow\"\n",
        "model_response('it was all')"
      ]
    },
    {
      "cell_type": "code",
      "execution_count": 160,
      "metadata": {
        "colab": {
          "base_uri": "https://localhost:8080/",
          "height": 53
        },
        "id": "TIZ7M8Zn6ZKB",
        "outputId": "ecde61e2-e7a3-48f3-99c8-3c9ae56f3e0c"
      },
      "outputs": [
        {
          "output_type": "stream",
          "name": "stdout",
          "text": [
            "1/1 [==============================] - 0s 17ms/step\n"
          ]
        },
        {
          "output_type": "execute_result",
          "data": {
            "text/plain": [
              "'the hardest part was ohoh'"
            ],
            "application/vnd.google.colaboratory.intrinsic+json": {
              "type": "string"
            }
          },
          "metadata": {},
          "execution_count": 160
        }
      ],
      "source": [
        "# Frase original: \"And the hardest part was letting go, not taking part\"\n",
        "model_response('the hardest part was')"
      ]
    },
    {
      "cell_type": "code",
      "execution_count": 161,
      "metadata": {
        "colab": {
          "base_uri": "https://localhost:8080/",
          "height": 53
        },
        "id": "W3SV6Oc36cC5",
        "outputId": "43119cbf-3323-4519-fdb6-08389f57af40"
      },
      "outputs": [
        {
          "output_type": "stream",
          "name": "stdout",
          "text": [
            "1/1 [==============================] - 0s 19ms/step\n"
          ]
        },
        {
          "output_type": "execute_result",
          "data": {
            "text/plain": [
              "'You really broke my look'"
            ],
            "application/vnd.google.colaboratory.intrinsic+json": {
              "type": "string"
            }
          },
          "metadata": {},
          "execution_count": 161
        }
      ],
      "source": [
        "# Frase original: \"You really broke my heart, oh\"\n",
        "model_response('You really broke my')"
      ]
    },
    {
      "cell_type": "markdown",
      "metadata": {
        "id": "mCeMWWupxN1-"
      },
      "source": [
        "c) Generación de secuencias nuevas"
      ]
    },
    {
      "cell_type": "code",
      "execution_count": 162,
      "metadata": {
        "id": "bwbS_pfhxvB3"
      },
      "outputs": [],
      "source": [
        "def generate_seq(model, tokenizer, seed_text, max_length, n_words):\n",
        "    \"\"\"\n",
        "        Exec model sequence prediction\n",
        "\n",
        "        Args:\n",
        "            model (keras): modelo entrenado\n",
        "            tokenizer (keras tokenizer): tonenizer utilizado en el preprocesamiento\n",
        "            seed_text (string): texto de entrada (input_seq)\n",
        "            max_length (int): máxima longitud de la sequencia de entrada\n",
        "            n_words (int): números de palabras a agregar a la sequencia de entrada\n",
        "        returns:\n",
        "            output_text (string): sentencia con las \"n_words\" agregadas\n",
        "    \"\"\"\n",
        "    output_text = seed_text\n",
        "\t# generate a fixed number of words\n",
        "    for _ in range(n_words):\n",
        "\t\t# Encodeamos\n",
        "        encoded = tokenizer.texts_to_sequences([output_text])[0]\n",
        "\t\t# Si tienen distinto largo\n",
        "        encoded = pad_sequences([encoded], maxlen=max_length, padding='pre')\n",
        "\t\t\n",
        "\t\t# Predicción softmax\n",
        "        y_hat = model.predict(encoded).argmax(axis=-1)\n",
        "\t\t# Vamos concatenando las predicciones\n",
        "        out_word = ''\n",
        "\n",
        "        # Debemos buscar en el vocabulario la palabra\n",
        "        # que corresopnde al indice (y_hat) predicho por le modelo\n",
        "        for word, index in tokenizer.word_index.items():\n",
        "            if index == y_hat:\n",
        "                out_word = word\n",
        "                break\n",
        "\n",
        "\t\t# Agrego las palabras a la frase predicha\n",
        "        output_text += ' ' + out_word\n",
        "    return output_text"
      ]
    },
    {
      "cell_type": "code",
      "execution_count": 163,
      "metadata": {
        "colab": {
          "base_uri": "https://localhost:8080/",
          "height": 71
        },
        "id": "JoFqRC5pxzqS",
        "outputId": "09adec90-a975-40f6-8eeb-d24343484e4f"
      },
      "outputs": [
        {
          "output_type": "stream",
          "name": "stdout",
          "text": [
            "1/1 [==============================] - 0s 15ms/step\n",
            "1/1 [==============================] - 0s 15ms/step\n"
          ]
        },
        {
          "output_type": "execute_result",
          "data": {
            "text/plain": [
              "'I will try a somewhere'"
            ],
            "application/vnd.google.colaboratory.intrinsic+json": {
              "type": "string"
            }
          },
          "metadata": {},
          "execution_count": 163
        }
      ],
      "source": [
        "input_text='I will try'\n",
        "\n",
        "generate_seq(model, tok, input_text, max_length=3, n_words=2)"
      ]
    },
    {
      "cell_type": "markdown",
      "source": [
        "## PRUEBA 2 - Mismo corpus, mismo modelo, aumento la cantidad de epochs a 100"
      ],
      "metadata": {
        "id": "FybYD2im9_bg"
      }
    },
    {
      "cell_type": "markdown",
      "source": [
        "a) Entrenar el modelo"
      ],
      "metadata": {
        "id": "eZTxS0FK-zGn"
      }
    },
    {
      "cell_type": "code",
      "execution_count": 164,
      "metadata": {
        "colab": {
          "base_uri": "https://localhost:8080/"
        },
        "outputId": "1c51f4e7-2912-498a-baef-c5c5d51ad652",
        "id": "1VttBWkG-TAf"
      },
      "outputs": [
        {
          "output_type": "stream",
          "name": "stdout",
          "text": [
            "Epoch 1/100\n",
            "1558/1558 [==============================] - 20s 13ms/step - loss: 3.1968 - accuracy: 0.3214 - val_loss: 4.8595 - val_accuracy: 0.3188\n",
            "Epoch 2/100\n",
            "1558/1558 [==============================] - 13s 8ms/step - loss: 3.1876 - accuracy: 0.3236 - val_loss: 4.8979 - val_accuracy: 0.3178\n",
            "Epoch 3/100\n",
            "1558/1558 [==============================] - 15s 10ms/step - loss: 3.1795 - accuracy: 0.3271 - val_loss: 4.9194 - val_accuracy: 0.3218\n",
            "Epoch 4/100\n",
            "1558/1558 [==============================] - 13s 8ms/step - loss: 3.1542 - accuracy: 0.3296 - val_loss: 4.9245 - val_accuracy: 0.3155\n",
            "Epoch 5/100\n",
            "1558/1558 [==============================] - 14s 9ms/step - loss: 3.1504 - accuracy: 0.3310 - val_loss: 4.8805 - val_accuracy: 0.3291\n",
            "Epoch 6/100\n",
            "1558/1558 [==============================] - 15s 10ms/step - loss: 3.1397 - accuracy: 0.3316 - val_loss: 4.8837 - val_accuracy: 0.3241\n",
            "Epoch 7/100\n",
            "1558/1558 [==============================] - 15s 9ms/step - loss: 3.1270 - accuracy: 0.3347 - val_loss: 4.8693 - val_accuracy: 0.3310\n",
            "Epoch 8/100\n",
            "1558/1558 [==============================] - 14s 9ms/step - loss: 3.1167 - accuracy: 0.3367 - val_loss: 4.8931 - val_accuracy: 0.3269\n",
            "Epoch 9/100\n",
            "1558/1558 [==============================] - 13s 9ms/step - loss: 3.1145 - accuracy: 0.3363 - val_loss: 4.9476 - val_accuracy: 0.3184\n",
            "Epoch 10/100\n",
            "1558/1558 [==============================] - 13s 9ms/step - loss: 3.1018 - accuracy: 0.3380 - val_loss: 4.9038 - val_accuracy: 0.3333\n",
            "Epoch 11/100\n",
            "1558/1558 [==============================] - 13s 8ms/step - loss: 3.0836 - accuracy: 0.3405 - val_loss: 4.9312 - val_accuracy: 0.3289\n",
            "Epoch 12/100\n",
            "1558/1558 [==============================] - 14s 9ms/step - loss: 3.0751 - accuracy: 0.3419 - val_loss: 4.9147 - val_accuracy: 0.3323\n",
            "Epoch 13/100\n",
            "1558/1558 [==============================] - 14s 9ms/step - loss: 3.0701 - accuracy: 0.3448 - val_loss: 4.9116 - val_accuracy: 0.3321\n",
            "Epoch 14/100\n",
            "1558/1558 [==============================] - 13s 8ms/step - loss: 3.0576 - accuracy: 0.3463 - val_loss: 4.9184 - val_accuracy: 0.3370\n",
            "Epoch 15/100\n",
            "1558/1558 [==============================] - 14s 9ms/step - loss: 3.0539 - accuracy: 0.3478 - val_loss: 4.9177 - val_accuracy: 0.3359\n",
            "Epoch 16/100\n",
            "1558/1558 [==============================] - 13s 8ms/step - loss: 3.0408 - accuracy: 0.3483 - val_loss: 4.9243 - val_accuracy: 0.3332\n",
            "Epoch 17/100\n",
            "1558/1558 [==============================] - 13s 8ms/step - loss: 3.0327 - accuracy: 0.3503 - val_loss: 4.9396 - val_accuracy: 0.3384\n",
            "Epoch 18/100\n",
            "1558/1558 [==============================] - 12s 8ms/step - loss: 3.0235 - accuracy: 0.3538 - val_loss: 4.9158 - val_accuracy: 0.3370\n",
            "Epoch 19/100\n",
            "1558/1558 [==============================] - 13s 8ms/step - loss: 3.0176 - accuracy: 0.3531 - val_loss: 4.9259 - val_accuracy: 0.3478\n",
            "Epoch 20/100\n",
            "1558/1558 [==============================] - 14s 9ms/step - loss: 3.0019 - accuracy: 0.3547 - val_loss: 4.9001 - val_accuracy: 0.3458\n",
            "Epoch 21/100\n",
            "1558/1558 [==============================] - 12s 8ms/step - loss: 2.9992 - accuracy: 0.3548 - val_loss: 4.9051 - val_accuracy: 0.3504\n",
            "Epoch 22/100\n",
            "1558/1558 [==============================] - 14s 9ms/step - loss: 2.9897 - accuracy: 0.3561 - val_loss: 4.9075 - val_accuracy: 0.3477\n",
            "Epoch 23/100\n",
            "1558/1558 [==============================] - 12s 8ms/step - loss: 2.9865 - accuracy: 0.3547 - val_loss: 4.9565 - val_accuracy: 0.3431\n",
            "Epoch 24/100\n",
            "1558/1558 [==============================] - 14s 9ms/step - loss: 2.9734 - accuracy: 0.3603 - val_loss: 4.8868 - val_accuracy: 0.3416\n",
            "Epoch 25/100\n",
            "1558/1558 [==============================] - 13s 8ms/step - loss: 2.9637 - accuracy: 0.3622 - val_loss: 4.9390 - val_accuracy: 0.3526\n",
            "Epoch 26/100\n",
            "1558/1558 [==============================] - 13s 8ms/step - loss: 2.9663 - accuracy: 0.3599 - val_loss: 4.9135 - val_accuracy: 0.3547\n",
            "Epoch 27/100\n",
            "1558/1558 [==============================] - 13s 8ms/step - loss: 2.9513 - accuracy: 0.3618 - val_loss: 4.9340 - val_accuracy: 0.3483\n",
            "Epoch 28/100\n",
            "1558/1558 [==============================] - 14s 9ms/step - loss: 2.9507 - accuracy: 0.3639 - val_loss: 4.9150 - val_accuracy: 0.3521\n",
            "Epoch 29/100\n",
            "1558/1558 [==============================] - 12s 8ms/step - loss: 2.9398 - accuracy: 0.3645 - val_loss: 4.9052 - val_accuracy: 0.3498\n",
            "Epoch 30/100\n",
            "1558/1558 [==============================] - 14s 9ms/step - loss: 2.9399 - accuracy: 0.3645 - val_loss: 4.9140 - val_accuracy: 0.3539\n",
            "Epoch 31/100\n",
            "1558/1558 [==============================] - 14s 9ms/step - loss: 2.9281 - accuracy: 0.3682 - val_loss: 4.9304 - val_accuracy: 0.3426\n",
            "Epoch 32/100\n",
            "1558/1558 [==============================] - 12s 8ms/step - loss: 2.9232 - accuracy: 0.3688 - val_loss: 4.8756 - val_accuracy: 0.3569\n",
            "Epoch 33/100\n",
            "1558/1558 [==============================] - 12s 8ms/step - loss: 2.9136 - accuracy: 0.3686 - val_loss: 4.9064 - val_accuracy: 0.3575\n",
            "Epoch 34/100\n",
            "1558/1558 [==============================] - 15s 9ms/step - loss: 2.9043 - accuracy: 0.3722 - val_loss: 4.9506 - val_accuracy: 0.3558\n",
            "Epoch 35/100\n",
            "1558/1558 [==============================] - 14s 9ms/step - loss: 2.9032 - accuracy: 0.3733 - val_loss: 4.8804 - val_accuracy: 0.3611\n",
            "Epoch 36/100\n",
            "1558/1558 [==============================] - 14s 9ms/step - loss: 2.8961 - accuracy: 0.3710 - val_loss: 4.9355 - val_accuracy: 0.3623\n",
            "Epoch 37/100\n",
            "1558/1558 [==============================] - 13s 8ms/step - loss: 2.8892 - accuracy: 0.3730 - val_loss: 4.9166 - val_accuracy: 0.3622\n",
            "Epoch 38/100\n",
            "1558/1558 [==============================] - 12s 8ms/step - loss: 2.8810 - accuracy: 0.3742 - val_loss: 4.9063 - val_accuracy: 0.3578\n",
            "Epoch 39/100\n",
            "1558/1558 [==============================] - 13s 8ms/step - loss: 2.8815 - accuracy: 0.3759 - val_loss: 4.9304 - val_accuracy: 0.3680\n",
            "Epoch 40/100\n",
            "1558/1558 [==============================] - 13s 8ms/step - loss: 2.8647 - accuracy: 0.3780 - val_loss: 4.9344 - val_accuracy: 0.3657\n",
            "Epoch 41/100\n",
            "1558/1558 [==============================] - 12s 8ms/step - loss: 2.8671 - accuracy: 0.3777 - val_loss: 4.9402 - val_accuracy: 0.3642\n",
            "Epoch 42/100\n",
            "1558/1558 [==============================] - 14s 9ms/step - loss: 2.8646 - accuracy: 0.3796 - val_loss: 4.9194 - val_accuracy: 0.3675\n",
            "Epoch 43/100\n",
            "1558/1558 [==============================] - 14s 9ms/step - loss: 2.8562 - accuracy: 0.3801 - val_loss: 4.9457 - val_accuracy: 0.3664\n",
            "Epoch 44/100\n",
            "1558/1558 [==============================] - 13s 8ms/step - loss: 2.8531 - accuracy: 0.3803 - val_loss: 4.9172 - val_accuracy: 0.3732\n",
            "Epoch 45/100\n",
            "1558/1558 [==============================] - 12s 8ms/step - loss: 2.8519 - accuracy: 0.3825 - val_loss: 4.9795 - val_accuracy: 0.3612\n",
            "Epoch 46/100\n",
            "1558/1558 [==============================] - 12s 8ms/step - loss: 2.8445 - accuracy: 0.3811 - val_loss: 4.9328 - val_accuracy: 0.3673\n",
            "Epoch 47/100\n",
            "1558/1558 [==============================] - 12s 8ms/step - loss: 2.8289 - accuracy: 0.3843 - val_loss: 4.9305 - val_accuracy: 0.3680\n",
            "Epoch 48/100\n",
            "1558/1558 [==============================] - 12s 8ms/step - loss: 2.8241 - accuracy: 0.3847 - val_loss: 4.9329 - val_accuracy: 0.3698\n",
            "Epoch 49/100\n",
            "1558/1558 [==============================] - 13s 9ms/step - loss: 2.8305 - accuracy: 0.3834 - val_loss: 4.9457 - val_accuracy: 0.3720\n",
            "Epoch 50/100\n",
            "1558/1558 [==============================] - 14s 9ms/step - loss: 2.8195 - accuracy: 0.3876 - val_loss: 4.9431 - val_accuracy: 0.3745\n",
            "Epoch 51/100\n",
            "1558/1558 [==============================] - 13s 8ms/step - loss: 2.8173 - accuracy: 0.3868 - val_loss: 4.9133 - val_accuracy: 0.3761\n",
            "Epoch 52/100\n",
            "1558/1558 [==============================] - 12s 8ms/step - loss: 2.8084 - accuracy: 0.3877 - val_loss: 4.9513 - val_accuracy: 0.3748\n",
            "Epoch 53/100\n",
            "1558/1558 [==============================] - 12s 8ms/step - loss: 2.8102 - accuracy: 0.3873 - val_loss: 4.9337 - val_accuracy: 0.3805\n",
            "Epoch 54/100\n",
            "1558/1558 [==============================] - 13s 8ms/step - loss: 2.7979 - accuracy: 0.3902 - val_loss: 4.9519 - val_accuracy: 0.3728\n",
            "Epoch 55/100\n",
            "1558/1558 [==============================] - 13s 8ms/step - loss: 2.7941 - accuracy: 0.3923 - val_loss: 4.9608 - val_accuracy: 0.3728\n",
            "Epoch 56/100\n",
            "1558/1558 [==============================] - 17s 11ms/step - loss: 2.7936 - accuracy: 0.3912 - val_loss: 4.9930 - val_accuracy: 0.3738\n",
            "Epoch 57/100\n",
            "1558/1558 [==============================] - 14s 9ms/step - loss: 2.7861 - accuracy: 0.3913 - val_loss: 4.9570 - val_accuracy: 0.3823\n",
            "Epoch 58/100\n",
            "1558/1558 [==============================] - 12s 8ms/step - loss: 2.7817 - accuracy: 0.3944 - val_loss: 4.9514 - val_accuracy: 0.3789\n",
            "Epoch 59/100\n",
            "1558/1558 [==============================] - 12s 8ms/step - loss: 2.7834 - accuracy: 0.3920 - val_loss: 4.9418 - val_accuracy: 0.3820\n",
            "Epoch 60/100\n",
            "1558/1558 [==============================] - 12s 8ms/step - loss: 2.7773 - accuracy: 0.3949 - val_loss: 4.9453 - val_accuracy: 0.3878\n",
            "Epoch 61/100\n",
            "1558/1558 [==============================] - 13s 8ms/step - loss: 2.7688 - accuracy: 0.3965 - val_loss: 4.9658 - val_accuracy: 0.3836\n",
            "Epoch 62/100\n",
            "1558/1558 [==============================] - 12s 8ms/step - loss: 2.7671 - accuracy: 0.3978 - val_loss: 4.9477 - val_accuracy: 0.3884\n",
            "Epoch 63/100\n",
            "1558/1558 [==============================] - 13s 9ms/step - loss: 2.7616 - accuracy: 0.3964 - val_loss: 4.9605 - val_accuracy: 0.3800\n",
            "Epoch 64/100\n",
            "1558/1558 [==============================] - 13s 9ms/step - loss: 2.7624 - accuracy: 0.3967 - val_loss: 4.9273 - val_accuracy: 0.3883\n",
            "Epoch 65/100\n",
            "1558/1558 [==============================] - 12s 8ms/step - loss: 2.7568 - accuracy: 0.3974 - val_loss: 4.9929 - val_accuracy: 0.3807\n",
            "Epoch 66/100\n",
            "1558/1558 [==============================] - 13s 9ms/step - loss: 2.7441 - accuracy: 0.3994 - val_loss: 4.9228 - val_accuracy: 0.3866\n",
            "Epoch 67/100\n",
            "1558/1558 [==============================] - 14s 9ms/step - loss: 2.7447 - accuracy: 0.3997 - val_loss: 4.9856 - val_accuracy: 0.3803\n",
            "Epoch 68/100\n",
            "1558/1558 [==============================] - 14s 9ms/step - loss: 2.7387 - accuracy: 0.4005 - val_loss: 4.9639 - val_accuracy: 0.3809\n",
            "Epoch 69/100\n",
            "1558/1558 [==============================] - 14s 9ms/step - loss: 2.7388 - accuracy: 0.4006 - val_loss: 4.9265 - val_accuracy: 0.3874\n",
            "Epoch 70/100\n",
            "1558/1558 [==============================] - 12s 8ms/step - loss: 2.7344 - accuracy: 0.4021 - val_loss: 4.9692 - val_accuracy: 0.3841\n",
            "Epoch 71/100\n",
            "1558/1558 [==============================] - 12s 8ms/step - loss: 2.7303 - accuracy: 0.4017 - val_loss: 4.9637 - val_accuracy: 0.3885\n",
            "Epoch 72/100\n",
            "1558/1558 [==============================] - 12s 8ms/step - loss: 2.7319 - accuracy: 0.4033 - val_loss: 4.9668 - val_accuracy: 0.3906\n",
            "Epoch 73/100\n",
            "1558/1558 [==============================] - 12s 8ms/step - loss: 2.7244 - accuracy: 0.4038 - val_loss: 4.9126 - val_accuracy: 0.3914\n",
            "Epoch 74/100\n",
            "1558/1558 [==============================] - 13s 8ms/step - loss: 2.7134 - accuracy: 0.4052 - val_loss: 4.9271 - val_accuracy: 0.3874\n",
            "Epoch 75/100\n",
            "1558/1558 [==============================] - 12s 8ms/step - loss: 2.7163 - accuracy: 0.4046 - val_loss: 4.9624 - val_accuracy: 0.3943\n",
            "Epoch 76/100\n",
            "1558/1558 [==============================] - 13s 9ms/step - loss: 2.7089 - accuracy: 0.4021 - val_loss: 4.9646 - val_accuracy: 0.3884\n",
            "Epoch 77/100\n",
            "1558/1558 [==============================] - 12s 8ms/step - loss: 2.7113 - accuracy: 0.4054 - val_loss: 4.9733 - val_accuracy: 0.3945\n",
            "Epoch 78/100\n",
            "1558/1558 [==============================] - 13s 9ms/step - loss: 2.7013 - accuracy: 0.4058 - val_loss: 4.9996 - val_accuracy: 0.3997\n",
            "Epoch 79/100\n",
            "1558/1558 [==============================] - 13s 8ms/step - loss: 2.7043 - accuracy: 0.4067 - val_loss: 5.0022 - val_accuracy: 0.3923\n",
            "Epoch 80/100\n",
            "1558/1558 [==============================] - 12s 8ms/step - loss: 2.6985 - accuracy: 0.4096 - val_loss: 4.9260 - val_accuracy: 0.3943\n",
            "Epoch 81/100\n",
            "1558/1558 [==============================] - 12s 8ms/step - loss: 2.6951 - accuracy: 0.4079 - val_loss: 4.9320 - val_accuracy: 0.3947\n",
            "Epoch 82/100\n",
            "1558/1558 [==============================] - 13s 9ms/step - loss: 2.6916 - accuracy: 0.4089 - val_loss: 4.9788 - val_accuracy: 0.3939\n",
            "Epoch 83/100\n",
            "1558/1558 [==============================] - 12s 8ms/step - loss: 2.6869 - accuracy: 0.4122 - val_loss: 5.0182 - val_accuracy: 0.3947\n",
            "Epoch 84/100\n",
            "1558/1558 [==============================] - 12s 8ms/step - loss: 2.6845 - accuracy: 0.4097 - val_loss: 5.0358 - val_accuracy: 0.3938\n",
            "Epoch 85/100\n",
            "1558/1558 [==============================] - 12s 8ms/step - loss: 2.6938 - accuracy: 0.4094 - val_loss: 4.9789 - val_accuracy: 0.3998\n",
            "Epoch 86/100\n",
            "1558/1558 [==============================] - 12s 8ms/step - loss: 2.6782 - accuracy: 0.4119 - val_loss: 4.9793 - val_accuracy: 0.3898\n",
            "Epoch 87/100\n",
            "1558/1558 [==============================] - 12s 8ms/step - loss: 2.6787 - accuracy: 0.4127 - val_loss: 4.9706 - val_accuracy: 0.4044\n",
            "Epoch 88/100\n",
            "1558/1558 [==============================] - 13s 9ms/step - loss: 2.6760 - accuracy: 0.4106 - val_loss: 4.9961 - val_accuracy: 0.3947\n",
            "Epoch 89/100\n",
            "1558/1558 [==============================] - 12s 8ms/step - loss: 2.6742 - accuracy: 0.4104 - val_loss: 5.0301 - val_accuracy: 0.3965\n",
            "Epoch 90/100\n",
            "1558/1558 [==============================] - 12s 8ms/step - loss: 2.6731 - accuracy: 0.4133 - val_loss: 5.0061 - val_accuracy: 0.3963\n",
            "Epoch 91/100\n",
            "1558/1558 [==============================] - 12s 8ms/step - loss: 2.6649 - accuracy: 0.4136 - val_loss: 5.0352 - val_accuracy: 0.3967\n",
            "Epoch 92/100\n",
            "1558/1558 [==============================] - 14s 9ms/step - loss: 2.6622 - accuracy: 0.4154 - val_loss: 5.0246 - val_accuracy: 0.4042\n",
            "Epoch 93/100\n",
            "1558/1558 [==============================] - 13s 9ms/step - loss: 2.6565 - accuracy: 0.4147 - val_loss: 5.0105 - val_accuracy: 0.3969\n",
            "Epoch 94/100\n",
            "1558/1558 [==============================] - 12s 8ms/step - loss: 2.6572 - accuracy: 0.4142 - val_loss: 5.0417 - val_accuracy: 0.4024\n",
            "Epoch 95/100\n",
            "1558/1558 [==============================] - 13s 8ms/step - loss: 2.6583 - accuracy: 0.4149 - val_loss: 5.0272 - val_accuracy: 0.4040\n",
            "Epoch 96/100\n",
            "1558/1558 [==============================] - 15s 9ms/step - loss: 2.6600 - accuracy: 0.4164 - val_loss: 5.0206 - val_accuracy: 0.4038\n",
            "Epoch 97/100\n",
            "1558/1558 [==============================] - 13s 9ms/step - loss: 2.6455 - accuracy: 0.4178 - val_loss: 5.0359 - val_accuracy: 0.4035\n",
            "Epoch 98/100\n",
            "1558/1558 [==============================] - 14s 9ms/step - loss: 2.6473 - accuracy: 0.4148 - val_loss: 5.0134 - val_accuracy: 0.4044\n",
            "Epoch 99/100\n",
            "1558/1558 [==============================] - 14s 9ms/step - loss: 2.6448 - accuracy: 0.4185 - val_loss: 4.9990 - val_accuracy: 0.4056\n",
            "Epoch 100/100\n",
            "1558/1558 [==============================] - 14s 9ms/step - loss: 2.6458 - accuracy: 0.4167 - val_loss: 5.0255 - val_accuracy: 0.3958\n"
          ]
        }
      ],
      "source": [
        "hist = model.fit(x_data, y_data, epochs=100, validation_split=0.2)"
      ]
    },
    {
      "cell_type": "code",
      "execution_count": 166,
      "metadata": {
        "colab": {
          "base_uri": "https://localhost:8080/",
          "height": 265
        },
        "outputId": "9c3aca1d-dab2-4a49-fa18-0b8c6febd73f",
        "id": "4Clk7CLr-TAp"
      },
      "outputs": [
        {
          "output_type": "display_data",
          "data": {
            "text/plain": [
              "<Figure size 432x288 with 1 Axes>"
            ],
            "image/png": "[encoded data removed]"
          },
          "metadata": {
            "needs_background": "light"
          }
        }
      ],
      "source": [
        "import matplotlib.pyplot as plt\n",
        "import seaborn as sns\n",
        "\n",
        "# Entrenamiento\n",
        "epoch_count = range(1, len(hist.history['accuracy']) + 1)\n",
        "sns.lineplot(x=epoch_count,  y=hist.history['accuracy'], label='train')\n",
        "sns.lineplot(x=epoch_count,  y=hist.history['val_accuracy'], label='valid')\n",
        "plt.show()"
      ]
    },
    {
      "cell_type": "markdown",
      "metadata": {
        "id": "cIbcSfIL-TAq"
      },
      "source": [
        "b) Predicción de próxima palabra"
      ]
    },
    {
      "cell_type": "code",
      "execution_count": 167,
      "metadata": {
        "colab": {
          "base_uri": "https://localhost:8080/",
          "height": 53
        },
        "outputId": "03f2b3da-6a4f-46da-d1cb-6dcd02185b9f",
        "id": "4A2CebKv-TAq"
      },
      "outputs": [
        {
          "output_type": "stream",
          "name": "stdout",
          "text": [
            "1/1 [==============================] - 0s 72ms/step\n"
          ]
        },
        {
          "output_type": "execute_result",
          "data": {
            "text/plain": [
              "'nobody said it was careful'"
            ],
            "application/vnd.google.colaboratory.intrinsic+json": {
              "type": "string"
            }
          },
          "metadata": {},
          "execution_count": 167
        }
      ],
      "source": [
        "# Frase de la canción \"nobody said it was easy\"\n",
        "model_response('nobody said it was')"
      ]
    },
    {
      "cell_type": "code",
      "execution_count": 168,
      "metadata": {
        "colab": {
          "base_uri": "https://localhost:8080/",
          "height": 53
        },
        "outputId": "e806e615-a5d4-41ac-d4f0-8f46b6dfea9c",
        "id": "ag1U4VHl-TAq"
      },
      "outputs": [
        {
          "output_type": "stream",
          "name": "stdout",
          "text": [
            "1/1 [==============================] - 0s 17ms/step\n"
          ]
        },
        {
          "output_type": "execute_result",
          "data": {
            "text/plain": [
              "'tell me you good'"
            ],
            "application/vnd.google.colaboratory.intrinsic+json": {
              "type": "string"
            }
          },
          "metadata": {},
          "execution_count": 168
        }
      ],
      "source": [
        "# Frase original: \"tell me you love me\"\n",
        "model_response('tell me you')"
      ]
    },
    {
      "cell_type": "code",
      "execution_count": 169,
      "metadata": {
        "colab": {
          "base_uri": "https://localhost:8080/",
          "height": 53
        },
        "outputId": "b5cc174d-8069-4c87-936e-110a40e60f9e",
        "id": "LgXKCB57-TAq"
      },
      "outputs": [
        {
          "output_type": "stream",
          "name": "stdout",
          "text": [
            "1/1 [==============================] - 0s 18ms/step\n"
          ]
        },
        {
          "output_type": "execute_result",
          "data": {
            "text/plain": [
              "'your skin and whisper'"
            ],
            "application/vnd.google.colaboratory.intrinsic+json": {
              "type": "string"
            }
          },
          "metadata": {},
          "execution_count": 169
        }
      ],
      "source": [
        "# Frase original: \"Your skin, oh yeah, your skin and bones\"\n",
        "model_response('your skin and')"
      ]
    },
    {
      "cell_type": "code",
      "execution_count": 170,
      "metadata": {
        "colab": {
          "base_uri": "https://localhost:8080/",
          "height": 53
        },
        "outputId": "a1742be5-9b0b-4656-bad5-98243c503892",
        "id": "Ecb2OlH3-TAq"
      },
      "outputs": [
        {
          "output_type": "stream",
          "name": "stdout",
          "text": [
            "1/1 [==============================] - 0s 18ms/step\n"
          ]
        },
        {
          "output_type": "execute_result",
          "data": {
            "text/plain": [
              "'it was all lie'"
            ],
            "application/vnd.google.colaboratory.intrinsic+json": {
              "type": "string"
            }
          },
          "metadata": {},
          "execution_count": 170
        }
      ],
      "source": [
        "# Frase original: \"And it was all yellow\"\n",
        "model_response('it was all')"
      ]
    },
    {
      "cell_type": "code",
      "execution_count": 171,
      "metadata": {
        "colab": {
          "base_uri": "https://localhost:8080/",
          "height": 53
        },
        "outputId": "5478ec59-6082-4dae-bc72-78e3f639000d",
        "id": "K3iJj47T-TAr"
      },
      "outputs": [
        {
          "output_type": "stream",
          "name": "stdout",
          "text": [
            "1/1 [==============================] - 0s 18ms/step\n"
          ]
        },
        {
          "output_type": "execute_result",
          "data": {
            "text/plain": [
              "'the hardest part was tree'"
            ],
            "application/vnd.google.colaboratory.intrinsic+json": {
              "type": "string"
            }
          },
          "metadata": {},
          "execution_count": 171
        }
      ],
      "source": [
        "# Frase original: \"And the hardest part was letting go, not taking part\"\n",
        "model_response('the hardest part was')"
      ]
    },
    {
      "cell_type": "code",
      "execution_count": 172,
      "metadata": {
        "colab": {
          "base_uri": "https://localhost:8080/",
          "height": 53
        },
        "outputId": "49449b08-8b04-4e7f-fb4c-4b9cb2f411fc",
        "id": "ARApUVtO-TAr"
      },
      "outputs": [
        {
          "output_type": "stream",
          "name": "stdout",
          "text": [
            "1/1 [==============================] - 0s 17ms/step\n"
          ]
        },
        {
          "output_type": "execute_result",
          "data": {
            "text/plain": [
              "'You really broke my look'"
            ],
            "application/vnd.google.colaboratory.intrinsic+json": {
              "type": "string"
            }
          },
          "metadata": {},
          "execution_count": 172
        }
      ],
      "source": [
        "# Frase original: \"You really broke my heart, oh\"\n",
        "model_response('You really broke my')"
      ]
    },
    {
      "cell_type": "markdown",
      "metadata": {
        "id": "4ugrkL2z-TAr"
      },
      "source": [
        "c) Generación de secuencias nuevas"
      ]
    },
    {
      "cell_type": "code",
      "execution_count": 173,
      "metadata": {
        "id": "rila1APZ-TAr"
      },
      "outputs": [],
      "source": [
        "def generate_seq(model, tokenizer, seed_text, max_length, n_words):\n",
        "    \"\"\"\n",
        "        Exec model sequence prediction\n",
        "\n",
        "        Args:\n",
        "            model (keras): modelo entrenado\n",
        "            tokenizer (keras tokenizer): tonenizer utilizado en el preprocesamiento\n",
        "            seed_text (string): texto de entrada (input_seq)\n",
        "            max_length (int): máxima longitud de la sequencia de entrada\n",
        "            n_words (int): números de palabras a agregar a la sequencia de entrada\n",
        "        returns:\n",
        "            output_text (string): sentencia con las \"n_words\" agregadas\n",
        "    \"\"\"\n",
        "    output_text = seed_text\n",
        "\t# generate a fixed number of words\n",
        "    for _ in range(n_words):\n",
        "\t\t# Encodeamos\n",
        "        encoded = tokenizer.texts_to_sequences([output_text])[0]\n",
        "\t\t# Si tienen distinto largo\n",
        "        encoded = pad_sequences([encoded], maxlen=max_length, padding='pre')\n",
        "\t\t\n",
        "\t\t# Predicción softmax\n",
        "        y_hat = model.predict(encoded).argmax(axis=-1)\n",
        "\t\t# Vamos concatenando las predicciones\n",
        "        out_word = ''\n",
        "\n",
        "        # Debemos buscar en el vocabulario la palabra\n",
        "        # que corresopnde al indice (y_hat) predicho por le modelo\n",
        "        for word, index in tokenizer.word_index.items():\n",
        "            if index == y_hat:\n",
        "                out_word = word\n",
        "                break\n",
        "\n",
        "\t\t# Agrego las palabras a la frase predicha\n",
        "        output_text += ' ' + out_word\n",
        "    return output_text"
      ]
    },
    {
      "cell_type": "code",
      "execution_count": 174,
      "metadata": {
        "colab": {
          "base_uri": "https://localhost:8080/",
          "height": 71
        },
        "outputId": "70fccf24-b80b-4421-e03c-bcaaf0251f42",
        "id": "jWVU3RHq-TAr"
      },
      "outputs": [
        {
          "output_type": "stream",
          "name": "stdout",
          "text": [
            "1/1 [==============================] - 0s 17ms/step\n",
            "1/1 [==============================] - 0s 17ms/step\n"
          ]
        },
        {
          "output_type": "execute_result",
          "data": {
            "text/plain": [
              "'I will try a soon'"
            ],
            "application/vnd.google.colaboratory.intrinsic+json": {
              "type": "string"
            }
          },
          "metadata": {},
          "execution_count": 174
        }
      ],
      "source": [
        "input_text='I will try'\n",
        "\n",
        "generate_seq(model, tok, input_text, max_length=3, n_words=2)"
      ]
    },
    {
      "cell_type": "markdown",
      "source": [
        "### PRUEBA 3 - Aumento p de dropout a 0.3 para ver si mejora el problema del overfitting"
      ],
      "metadata": {
        "id": "pvU_jhVi7waQ"
      }
    },
    {
      "cell_type": "code",
      "execution_count": 116,
      "metadata": {
        "colab": {
          "base_uri": "https://localhost:8080/"
        },
        "outputId": "84d5f6da-7c17-4412-af2b-b3793fbd9426",
        "id": "uTDrkkjE7-IS"
      },
      "outputs": [
        {
          "output_type": "execute_result",
          "data": {
            "text/plain": [
              "3"
            ]
          },
          "metadata": {},
          "execution_count": 116
        }
      ],
      "source": [
        "# largo de la secuencia de entrada\n",
        "input_seq_len = x_data.shape[1] \n",
        "input_seq_len"
      ]
    },
    {
      "cell_type": "code",
      "execution_count": 117,
      "metadata": {
        "colab": {
          "base_uri": "https://localhost:8080/"
        },
        "outputId": "bcd181a7-7a91-4476-fb68-5c7971b7634f",
        "id": "dMQsPKCQ7-IS"
      },
      "outputs": [
        {
          "output_type": "execute_result",
          "data": {
            "text/plain": [
              "3616"
            ]
          },
          "metadata": {},
          "execution_count": 117
        }
      ],
      "source": [
        "# Largo del vector de salida --> vocab_size\n",
        "output_size = vocab_size\n",
        "output_size"
      ]
    },
    {
      "cell_type": "code",
      "execution_count": 118,
      "metadata": {
        "colab": {
          "base_uri": "https://localhost:8080/"
        },
        "outputId": "967e28d5-49c5-45b0-da75-ca2f0d4e1b3d",
        "id": "eIq2bT6_7-IT"
      },
      "outputs": [
        {
          "output_type": "stream",
          "name": "stdout",
          "text": [
            "Model: \"sequential_2\"\n",
            "_________________________________________________________________\n",
            " Layer (type)                Output Shape              Param #   \n",
            "=================================================================\n",
            " embedding_2 (Embedding)     (None, 3, 5)              18085     \n",
            "                                                                 \n",
            " lstm_4 (LSTM)               (None, 3, 64)             17920     \n",
            "                                                                 \n",
            " dropout_2 (Dropout)         (None, 3, 64)             0         \n",
            "                                                                 \n",
            " lstm_5 (LSTM)               (None, 64)                33024     \n",
            "                                                                 \n",
            " dense_4 (Dense)             (None, 32)                2080      \n",
            "                                                                 \n",
            " dense_5 (Dense)             (None, 3616)              119328    \n",
            "                                                                 \n",
            "=================================================================\n",
            "Total params: 190,437\n",
            "Trainable params: 190,437\n",
            "Non-trainable params: 0\n",
            "_________________________________________________________________\n"
          ]
        }
      ],
      "source": [
        "model = Sequential()\n",
        "\n",
        "# Embedding:\n",
        "# input_seq_len = 3 --> ingreso 3 palabras\n",
        "# input_dim = vocab_size --> 1628 palabras distintas\n",
        "# output_dim = 5 --> crear embeddings de tamaño 3 (tamaño variable y ajustable)\n",
        "model.add(Embedding(input_dim=vocab_size+1, output_dim=5, input_length=input_seq_len))\n",
        "\n",
        "model.add(LSTM(64, return_sequences=True))\n",
        "model.add(Dropout(0.3))\n",
        "model.add(LSTM(64)) # La última capa LSTM no lleva return_sequences\n",
        "model.add(Dense(32, activation='relu'))\n",
        "\n",
        "# Predicción de clasificación con softmax\n",
        "# La salida vuelve al espacio de 1628 palabras posibles\n",
        "model.add(Dense(vocab_size, activation='softmax'))\n",
        "\n",
        "# Clasificación multiple categórica --> loss = categorical_crossentropy\n",
        "model.compile(loss='categorical_crossentropy', optimizer='adam', metrics=['accuracy'])\n",
        "\n",
        "model.summary()"
      ]
    },
    {
      "cell_type": "code",
      "execution_count": 119,
      "metadata": {
        "colab": {
          "base_uri": "https://localhost:8080/"
        },
        "outputId": "2b1384b5-4d24-4b75-d3dc-f98ed0305da5",
        "id": "w93Ep72f7-IT"
      },
      "outputs": [
        {
          "output_type": "stream",
          "name": "stdout",
          "text": [
            "Epoch 1/100\n",
            "1558/1558 [==============================] - 32s 17ms/step - loss: 6.3827 - accuracy: 0.0352 - val_loss: 6.0060 - val_accuracy: 0.0400\n",
            "Epoch 2/100\n",
            "1558/1558 [==============================] - 25s 16ms/step - loss: 6.0810 - accuracy: 0.0379 - val_loss: 5.7797 - val_accuracy: 0.0406\n",
            "Epoch 3/100\n",
            "1558/1558 [==============================] - 24s 15ms/step - loss: 5.7993 - accuracy: 0.0467 - val_loss: 5.6214 - val_accuracy: 0.0570\n",
            "Epoch 4/100\n",
            "1558/1558 [==============================] - 24s 15ms/step - loss: 5.5867 - accuracy: 0.0550 - val_loss: 5.4953 - val_accuracy: 0.0536\n",
            "Epoch 5/100\n",
            "1558/1558 [==============================] - 23s 15ms/step - loss: 5.4165 - accuracy: 0.0688 - val_loss: 5.3863 - val_accuracy: 0.0660\n",
            "Epoch 6/100\n",
            "1558/1558 [==============================] - 24s 15ms/step - loss: 5.2638 - accuracy: 0.0805 - val_loss: 5.2984 - val_accuracy: 0.0784\n",
            "Epoch 7/100\n",
            "1558/1558 [==============================] - 26s 17ms/step - loss: 5.1195 - accuracy: 0.0931 - val_loss: 5.2058 - val_accuracy: 0.0842\n",
            "Epoch 8/100\n",
            "1558/1558 [==============================] - 24s 15ms/step - loss: 4.9746 - accuracy: 0.1042 - val_loss: 5.0981 - val_accuracy: 0.0981\n",
            "Epoch 9/100\n",
            "1558/1558 [==============================] - 24s 16ms/step - loss: 4.8332 - accuracy: 0.1170 - val_loss: 4.9907 - val_accuracy: 0.1091\n",
            "Epoch 10/100\n",
            "1558/1558 [==============================] - 27s 17ms/step - loss: 4.7072 - accuracy: 0.1286 - val_loss: 4.9331 - val_accuracy: 0.1243\n",
            "Epoch 11/100\n",
            "1558/1558 [==============================] - 27s 17ms/step - loss: 4.5986 - accuracy: 0.1393 - val_loss: 4.8763 - val_accuracy: 0.1333\n",
            "Epoch 12/100\n",
            "1558/1558 [==============================] - 29s 18ms/step - loss: 4.5029 - accuracy: 0.1476 - val_loss: 4.8402 - val_accuracy: 0.1473\n",
            "Epoch 13/100\n",
            "1558/1558 [==============================] - 27s 17ms/step - loss: 4.4074 - accuracy: 0.1566 - val_loss: 4.7878 - val_accuracy: 0.1542\n",
            "Epoch 14/100\n",
            "1558/1558 [==============================] - 26s 17ms/step - loss: 4.3251 - accuracy: 0.1650 - val_loss: 4.7886 - val_accuracy: 0.1698\n",
            "Epoch 15/100\n",
            "1558/1558 [==============================] - 27s 17ms/step - loss: 4.2444 - accuracy: 0.1738 - val_loss: 4.7586 - val_accuracy: 0.1828\n",
            "Epoch 16/100\n",
            "1558/1558 [==============================] - 26s 17ms/step - loss: 4.1692 - accuracy: 0.1789 - val_loss: 4.7402 - val_accuracy: 0.1909\n",
            "Epoch 17/100\n",
            "1558/1558 [==============================] - 36s 23ms/step - loss: 4.1044 - accuracy: 0.1886 - val_loss: 4.7402 - val_accuracy: 0.1983\n",
            "Epoch 18/100\n",
            "1558/1558 [==============================] - 28s 18ms/step - loss: 4.0432 - accuracy: 0.1966 - val_loss: 4.7144 - val_accuracy: 0.2026\n",
            "Epoch 19/100\n",
            "1558/1558 [==============================] - 33s 21ms/step - loss: 3.9830 - accuracy: 0.2025 - val_loss: 4.7226 - val_accuracy: 0.2076\n",
            "Epoch 20/100\n",
            "1558/1558 [==============================] - 35s 23ms/step - loss: 3.9326 - accuracy: 0.2081 - val_loss: 4.7196 - val_accuracy: 0.2179\n",
            "Epoch 21/100\n",
            "1558/1558 [==============================] - 27s 17ms/step - loss: 3.8866 - accuracy: 0.2136 - val_loss: 4.7074 - val_accuracy: 0.2230\n",
            "Epoch 22/100\n",
            "1558/1558 [==============================] - 26s 17ms/step - loss: 3.8395 - accuracy: 0.2209 - val_loss: 4.6842 - val_accuracy: 0.2293\n",
            "Epoch 23/100\n",
            "1558/1558 [==============================] - 27s 17ms/step - loss: 3.7997 - accuracy: 0.2268 - val_loss: 4.6574 - val_accuracy: 0.2340\n",
            "Epoch 24/100\n",
            "1558/1558 [==============================] - 27s 17ms/step - loss: 3.7551 - accuracy: 0.2336 - val_loss: 4.6977 - val_accuracy: 0.2406\n",
            "Epoch 25/100\n",
            "1558/1558 [==============================] - 27s 18ms/step - loss: 3.7222 - accuracy: 0.2363 - val_loss: 4.6952 - val_accuracy: 0.2451\n",
            "Epoch 26/100\n",
            "1558/1558 [==============================] - 26s 17ms/step - loss: 3.6903 - accuracy: 0.2434 - val_loss: 4.6869 - val_accuracy: 0.2562\n",
            "Epoch 27/100\n",
            "1558/1558 [==============================] - 26s 16ms/step - loss: 3.6561 - accuracy: 0.2466 - val_loss: 4.6963 - val_accuracy: 0.2606\n",
            "Epoch 28/100\n",
            "1558/1558 [==============================] - 26s 17ms/step - loss: 3.6282 - accuracy: 0.2510 - val_loss: 4.6814 - val_accuracy: 0.2652\n",
            "Epoch 29/100\n",
            "1558/1558 [==============================] - 26s 17ms/step - loss: 3.6020 - accuracy: 0.2545 - val_loss: 4.6920 - val_accuracy: 0.2669\n",
            "Epoch 30/100\n",
            "1558/1558 [==============================] - 27s 18ms/step - loss: 3.5742 - accuracy: 0.2598 - val_loss: 4.6761 - val_accuracy: 0.2703\n",
            "Epoch 31/100\n",
            "1558/1558 [==============================] - 24s 16ms/step - loss: 3.5460 - accuracy: 0.2629 - val_loss: 4.6930 - val_accuracy: 0.2732\n",
            "Epoch 32/100\n",
            "1558/1558 [==============================] - 24s 16ms/step - loss: 3.5266 - accuracy: 0.2666 - val_loss: 4.6880 - val_accuracy: 0.2770\n",
            "Epoch 33/100\n",
            "1558/1558 [==============================] - 24s 15ms/step - loss: 3.5009 - accuracy: 0.2708 - val_loss: 4.7119 - val_accuracy: 0.2839\n",
            "Epoch 34/100\n",
            "1558/1558 [==============================] - 24s 15ms/step - loss: 3.4815 - accuracy: 0.2734 - val_loss: 4.7055 - val_accuracy: 0.2855\n",
            "Epoch 35/100\n",
            "1558/1558 [==============================] - 26s 16ms/step - loss: 3.4605 - accuracy: 0.2775 - val_loss: 4.6817 - val_accuracy: 0.2877\n",
            "Epoch 36/100\n",
            "1558/1558 [==============================] - 24s 15ms/step - loss: 3.4394 - accuracy: 0.2801 - val_loss: 4.6840 - val_accuracy: 0.2977\n",
            "Epoch 37/100\n",
            "1558/1558 [==============================] - 24s 15ms/step - loss: 3.4214 - accuracy: 0.2826 - val_loss: 4.6934 - val_accuracy: 0.2920\n",
            "Epoch 38/100\n",
            "1558/1558 [==============================] - 23s 15ms/step - loss: 3.4029 - accuracy: 0.2861 - val_loss: 4.7213 - val_accuracy: 0.2915\n",
            "Epoch 39/100\n",
            "1558/1558 [==============================] - 24s 15ms/step - loss: 3.3822 - accuracy: 0.2880 - val_loss: 4.6980 - val_accuracy: 0.2992\n",
            "Epoch 40/100\n",
            "1558/1558 [==============================] - 25s 16ms/step - loss: 3.3712 - accuracy: 0.2922 - val_loss: 4.6880 - val_accuracy: 0.3034\n",
            "Epoch 41/100\n",
            "1558/1558 [==============================] - 24s 15ms/step - loss: 3.3476 - accuracy: 0.2951 - val_loss: 4.6719 - val_accuracy: 0.2980\n",
            "Epoch 42/100\n",
            "1558/1558 [==============================] - 24s 15ms/step - loss: 3.3389 - accuracy: 0.2942 - val_loss: 4.6846 - val_accuracy: 0.3013\n",
            "Epoch 43/100\n",
            "1558/1558 [==============================] - 23s 15ms/step - loss: 3.3179 - accuracy: 0.3010 - val_loss: 4.6739 - val_accuracy: 0.3111\n",
            "Epoch 44/100\n",
            "1558/1558 [==============================] - 24s 15ms/step - loss: 3.3044 - accuracy: 0.3012 - val_loss: 4.6751 - val_accuracy: 0.3098\n",
            "Epoch 45/100\n",
            "1558/1558 [==============================] - 26s 17ms/step - loss: 3.2921 - accuracy: 0.3052 - val_loss: 4.6858 - val_accuracy: 0.3070\n",
            "Epoch 46/100\n",
            "1558/1558 [==============================] - 24s 15ms/step - loss: 3.2791 - accuracy: 0.3061 - val_loss: 4.6901 - val_accuracy: 0.3174\n",
            "Epoch 47/100\n",
            "1558/1558 [==============================] - 25s 16ms/step - loss: 3.2555 - accuracy: 0.3129 - val_loss: 4.6900 - val_accuracy: 0.3128\n",
            "Epoch 48/100\n",
            "1558/1558 [==============================] - 24s 15ms/step - loss: 3.2507 - accuracy: 0.3117 - val_loss: 4.6706 - val_accuracy: 0.3198\n",
            "Epoch 49/100\n",
            "1558/1558 [==============================] - 24s 15ms/step - loss: 3.2324 - accuracy: 0.3142 - val_loss: 4.6854 - val_accuracy: 0.3184\n",
            "Epoch 50/100\n",
            "1558/1558 [==============================] - 25s 16ms/step - loss: 3.2280 - accuracy: 0.3161 - val_loss: 4.6848 - val_accuracy: 0.3170\n",
            "Epoch 51/100\n",
            "1558/1558 [==============================] - 24s 15ms/step - loss: 3.2184 - accuracy: 0.3171 - val_loss: 4.7059 - val_accuracy: 0.3242\n",
            "Epoch 52/100\n",
            "1558/1558 [==============================] - 25s 16ms/step - loss: 3.2076 - accuracy: 0.3183 - val_loss: 4.6855 - val_accuracy: 0.3244\n",
            "Epoch 53/100\n",
            "1558/1558 [==============================] - 24s 16ms/step - loss: 3.1921 - accuracy: 0.3226 - val_loss: 4.6800 - val_accuracy: 0.3268\n",
            "Epoch 54/100\n",
            "1558/1558 [==============================] - 25s 16ms/step - loss: 3.1804 - accuracy: 0.3229 - val_loss: 4.6747 - val_accuracy: 0.3314\n",
            "Epoch 55/100\n",
            "1558/1558 [==============================] - 27s 17ms/step - loss: 3.1742 - accuracy: 0.3232 - val_loss: 4.6657 - val_accuracy: 0.3312\n",
            "Epoch 56/100\n",
            "1558/1558 [==============================] - 34s 22ms/step - loss: 3.1568 - accuracy: 0.3282 - val_loss: 4.6730 - val_accuracy: 0.3354\n",
            "Epoch 57/100\n",
            "1558/1558 [==============================] - 28s 18ms/step - loss: 3.1545 - accuracy: 0.3293 - val_loss: 4.6631 - val_accuracy: 0.3374\n",
            "Epoch 58/100\n",
            "1558/1558 [==============================] - 25s 16ms/step - loss: 3.1398 - accuracy: 0.3288 - val_loss: 4.6563 - val_accuracy: 0.3340\n",
            "Epoch 59/100\n",
            "1558/1558 [==============================] - 27s 17ms/step - loss: 3.1279 - accuracy: 0.3312 - val_loss: 4.6806 - val_accuracy: 0.3368\n",
            "Epoch 60/100\n",
            "1558/1558 [==============================] - 25s 16ms/step - loss: 3.1247 - accuracy: 0.3333 - val_loss: 4.6799 - val_accuracy: 0.3434\n",
            "Epoch 61/100\n",
            "1558/1558 [==============================] - 24s 15ms/step - loss: 3.1124 - accuracy: 0.3357 - val_loss: 4.6950 - val_accuracy: 0.3423\n",
            "Epoch 62/100\n",
            "1558/1558 [==============================] - 32s 21ms/step - loss: 3.1052 - accuracy: 0.3358 - val_loss: 4.6722 - val_accuracy: 0.3391\n",
            "Epoch 63/100\n",
            "1558/1558 [==============================] - 26s 17ms/step - loss: 3.0941 - accuracy: 0.3381 - val_loss: 4.6803 - val_accuracy: 0.3476\n",
            "Epoch 64/100\n",
            "1558/1558 [==============================] - 30s 19ms/step - loss: 3.0888 - accuracy: 0.3407 - val_loss: 4.6971 - val_accuracy: 0.3491\n",
            "Epoch 65/100\n",
            "1558/1558 [==============================] - 26s 17ms/step - loss: 3.0822 - accuracy: 0.3394 - val_loss: 4.6875 - val_accuracy: 0.3454\n",
            "Epoch 66/100\n",
            "1558/1558 [==============================] - 24s 16ms/step - loss: 3.0646 - accuracy: 0.3415 - val_loss: 4.6781 - val_accuracy: 0.3476\n",
            "Epoch 67/100\n",
            "1558/1558 [==============================] - 33s 21ms/step - loss: 3.0623 - accuracy: 0.3435 - val_loss: 4.6975 - val_accuracy: 0.3410\n",
            "Epoch 68/100\n",
            "1558/1558 [==============================] - 32s 21ms/step - loss: 3.0516 - accuracy: 0.3451 - val_loss: 4.7063 - val_accuracy: 0.3510\n",
            "Epoch 69/100\n",
            "1558/1558 [==============================] - 30s 19ms/step - loss: 3.0474 - accuracy: 0.3457 - val_loss: 4.6772 - val_accuracy: 0.3499\n",
            "Epoch 70/100\n",
            "1558/1558 [==============================] - 29s 19ms/step - loss: 3.0465 - accuracy: 0.3474 - val_loss: 4.6939 - val_accuracy: 0.3500\n",
            "Epoch 71/100\n",
            "1558/1558 [==============================] - 33s 21ms/step - loss: 3.0304 - accuracy: 0.3481 - val_loss: 4.6772 - val_accuracy: 0.3550\n",
            "Epoch 72/100\n",
            "1558/1558 [==============================] - 31s 20ms/step - loss: 3.0174 - accuracy: 0.3520 - val_loss: 4.6884 - val_accuracy: 0.3486\n",
            "Epoch 73/100\n",
            "1558/1558 [==============================] - 27s 17ms/step - loss: 3.0230 - accuracy: 0.3501 - val_loss: 4.6972 - val_accuracy: 0.3630\n",
            "Epoch 74/100\n",
            "1558/1558 [==============================] - 26s 17ms/step - loss: 3.0124 - accuracy: 0.3519 - val_loss: 4.7088 - val_accuracy: 0.3634\n",
            "Epoch 75/100\n",
            "1558/1558 [==============================] - 25s 16ms/step - loss: 3.0011 - accuracy: 0.3535 - val_loss: 4.7058 - val_accuracy: 0.3558\n",
            "Epoch 76/100\n",
            "1558/1558 [==============================] - 28s 18ms/step - loss: 2.9968 - accuracy: 0.3525 - val_loss: 4.6742 - val_accuracy: 0.3603\n",
            "Epoch 77/100\n",
            "1558/1558 [==============================] - 31s 20ms/step - loss: 2.9996 - accuracy: 0.3562 - val_loss: 4.7038 - val_accuracy: 0.3606\n",
            "Epoch 78/100\n",
            "1558/1558 [==============================] - 29s 19ms/step - loss: 2.9844 - accuracy: 0.3559 - val_loss: 4.6773 - val_accuracy: 0.3597\n",
            "Epoch 79/100\n",
            "1558/1558 [==============================] - 28s 18ms/step - loss: 2.9824 - accuracy: 0.3572 - val_loss: 4.6769 - val_accuracy: 0.3627\n",
            "Epoch 80/100\n",
            "1558/1558 [==============================] - 29s 19ms/step - loss: 2.9709 - accuracy: 0.3600 - val_loss: 4.6641 - val_accuracy: 0.3614\n",
            "Epoch 81/100\n",
            "1558/1558 [==============================] - 29s 19ms/step - loss: 2.9578 - accuracy: 0.3600 - val_loss: 4.6592 - val_accuracy: 0.3644\n",
            "Epoch 82/100\n",
            "1558/1558 [==============================] - 24s 16ms/step - loss: 2.9693 - accuracy: 0.3579 - val_loss: 4.7211 - val_accuracy: 0.3639\n",
            "Epoch 83/100\n",
            "1558/1558 [==============================] - 25s 16ms/step - loss: 2.9573 - accuracy: 0.3618 - val_loss: 4.6823 - val_accuracy: 0.3641\n",
            "Epoch 84/100\n",
            "1558/1558 [==============================] - 29s 18ms/step - loss: 2.9457 - accuracy: 0.3643 - val_loss: 4.6936 - val_accuracy: 0.3662\n",
            "Epoch 85/100\n",
            "1558/1558 [==============================] - 27s 18ms/step - loss: 2.9454 - accuracy: 0.3638 - val_loss: 4.6798 - val_accuracy: 0.3640\n",
            "Epoch 86/100\n",
            "1558/1558 [==============================] - 24s 16ms/step - loss: 2.9375 - accuracy: 0.3661 - val_loss: 4.6924 - val_accuracy: 0.3637\n",
            "Epoch 87/100\n",
            "1558/1558 [==============================] - 25s 16ms/step - loss: 2.9365 - accuracy: 0.3661 - val_loss: 4.6894 - val_accuracy: 0.3716\n",
            "Epoch 88/100\n",
            "1558/1558 [==============================] - 24s 16ms/step - loss: 2.9307 - accuracy: 0.3658 - val_loss: 4.7054 - val_accuracy: 0.3650\n",
            "Epoch 89/100\n",
            "1558/1558 [==============================] - 25s 16ms/step - loss: 2.9241 - accuracy: 0.3654 - val_loss: 4.7200 - val_accuracy: 0.3663\n",
            "Epoch 90/100\n",
            "1558/1558 [==============================] - 27s 17ms/step - loss: 2.9204 - accuracy: 0.3669 - val_loss: 4.6969 - val_accuracy: 0.3717\n",
            "Epoch 91/100\n",
            "1558/1558 [==============================] - 26s 17ms/step - loss: 2.9118 - accuracy: 0.3709 - val_loss: 4.7211 - val_accuracy: 0.3736\n",
            "Epoch 92/100\n",
            "1558/1558 [==============================] - 25s 16ms/step - loss: 2.9116 - accuracy: 0.3678 - val_loss: 4.7059 - val_accuracy: 0.3759\n",
            "Epoch 93/100\n",
            "1558/1558 [==============================] - 25s 16ms/step - loss: 2.8957 - accuracy: 0.3721 - val_loss: 4.7085 - val_accuracy: 0.3768\n",
            "Epoch 94/100\n",
            "1558/1558 [==============================] - 25s 16ms/step - loss: 2.8992 - accuracy: 0.3698 - val_loss: 4.6788 - val_accuracy: 0.3760\n",
            "Epoch 95/100\n",
            "1558/1558 [==============================] - 31s 20ms/step - loss: 2.8914 - accuracy: 0.3721 - val_loss: 4.6990 - val_accuracy: 0.3746\n",
            "Epoch 96/100\n",
            "1558/1558 [==============================] - 30s 19ms/step - loss: 2.8891 - accuracy: 0.3732 - val_loss: 4.6931 - val_accuracy: 0.3757\n",
            "Epoch 97/100\n",
            "1558/1558 [==============================] - 26s 17ms/step - loss: 2.8858 - accuracy: 0.3748 - val_loss: 4.7334 - val_accuracy: 0.3737\n",
            "Epoch 98/100\n",
            "1558/1558 [==============================] - 25s 16ms/step - loss: 2.8761 - accuracy: 0.3765 - val_loss: 4.7175 - val_accuracy: 0.3853\n",
            "Epoch 99/100\n",
            "1558/1558 [==============================] - 27s 17ms/step - loss: 2.8737 - accuracy: 0.3756 - val_loss: 4.6966 - val_accuracy: 0.3748\n",
            "Epoch 100/100\n",
            "1558/1558 [==============================] - 25s 16ms/step - loss: 2.8664 - accuracy: 0.3760 - val_loss: 4.7204 - val_accuracy: 0.3807\n"
          ]
        }
      ],
      "source": [
        "hist = model.fit(x_data, y_data, epochs=100, validation_split=0.2)"
      ]
    },
    {
      "cell_type": "code",
      "execution_count": 120,
      "metadata": {
        "colab": {
          "base_uri": "https://localhost:8080/",
          "height": 268
        },
        "outputId": "f0a1ef2c-542d-4afd-c874-a77fd43653b0",
        "id": "lg7Lo5tM7-IT"
      },
      "outputs": [
        {
          "output_type": "display_data",
          "data": {
            "text/plain": [
              "<Figure size 432x288 with 1 Axes>"
            ],
            "image/png": "[encoded data removed]"
          },
          "metadata": {
            "needs_background": "light"
          }
        }
      ],
      "source": [
        "import matplotlib.pyplot as plt\n",
        "import seaborn as sns\n",
        "\n",
        "# Entrenamiento\n",
        "epoch_count = range(1, len(hist.history['accuracy']) + 1)\n",
        "sns.lineplot(x=epoch_count,  y=hist.history['accuracy'], label='train')\n",
        "sns.lineplot(x=epoch_count,  y=hist.history['val_accuracy'], label='valid')\n",
        "plt.show()"
      ]
    },
    {
      "cell_type": "markdown",
      "metadata": {
        "id": "VFiyIL7I7-IT"
      },
      "source": [
        "b) Predicción de próxima palabra"
      ]
    },
    {
      "cell_type": "code",
      "execution_count": 123,
      "metadata": {
        "colab": {
          "base_uri": "https://localhost:8080/",
          "height": 53
        },
        "outputId": "5d86a2ac-10a1-4e22-a539-20dd4c281f52",
        "id": "o5wBKQLU7-IT"
      },
      "outputs": [
        {
          "output_type": "stream",
          "name": "stdout",
          "text": [
            "1/1 [==============================] - 0s 20ms/step\n"
          ]
        },
        {
          "output_type": "execute_result",
          "data": {
            "text/plain": [
              "'nobody said it was careful'"
            ],
            "application/vnd.google.colaboratory.intrinsic+json": {
              "type": "string"
            }
          },
          "metadata": {},
          "execution_count": 123
        }
      ],
      "source": [
        "# Frase de la canción \"nobody said it was easy\"\n",
        "model_response('nobody said it was')"
      ]
    },
    {
      "cell_type": "code",
      "execution_count": 124,
      "metadata": {
        "colab": {
          "base_uri": "https://localhost:8080/",
          "height": 53
        },
        "outputId": "3a15d9c9-5376-429e-bfce-b6267cebb7ef",
        "id": "nt-VdkvB7-IT"
      },
      "outputs": [
        {
          "output_type": "stream",
          "name": "stdout",
          "text": [
            "1/1 [==============================] - 0s 42ms/step\n"
          ]
        },
        {
          "output_type": "execute_result",
          "data": {
            "text/plain": [
              "'tell me you dry'"
            ],
            "application/vnd.google.colaboratory.intrinsic+json": {
              "type": "string"
            }
          },
          "metadata": {},
          "execution_count": 124
        }
      ],
      "source": [
        "# Frase original: \"tell me you love me\"\n",
        "model_response('tell me you')"
      ]
    },
    {
      "cell_type": "code",
      "execution_count": 125,
      "metadata": {
        "colab": {
          "base_uri": "https://localhost:8080/",
          "height": 53
        },
        "outputId": "db7d1b9a-f7c4-411d-ead5-e6ea9083be11",
        "id": "q0TvIeAm7-IT"
      },
      "outputs": [
        {
          "output_type": "stream",
          "name": "stdout",
          "text": [
            "1/1 [==============================] - 0s 24ms/step\n"
          ]
        },
        {
          "output_type": "execute_result",
          "data": {
            "text/plain": [
              "'your skin and whisper'"
            ],
            "application/vnd.google.colaboratory.intrinsic+json": {
              "type": "string"
            }
          },
          "metadata": {},
          "execution_count": 125
        }
      ],
      "source": [
        "# Frase original: \"Your skin, oh yeah, your skin and bones\"\n",
        "model_response('your skin and')"
      ]
    },
    {
      "cell_type": "code",
      "execution_count": 126,
      "metadata": {
        "colab": {
          "base_uri": "https://localhost:8080/",
          "height": 53
        },
        "outputId": "2908d449-055d-4f0d-cdec-1e433f5f3893",
        "id": "7DNop5p57-IU"
      },
      "outputs": [
        {
          "output_type": "stream",
          "name": "stdout",
          "text": [
            "1/1 [==============================] - 0s 22ms/step\n"
          ]
        },
        {
          "output_type": "execute_result",
          "data": {
            "text/plain": [
              "'it was all lie'"
            ],
            "application/vnd.google.colaboratory.intrinsic+json": {
              "type": "string"
            }
          },
          "metadata": {},
          "execution_count": 126
        }
      ],
      "source": [
        "# Frase original: \"And it was all yellow\"\n",
        "model_response('it was all')"
      ]
    },
    {
      "cell_type": "code",
      "execution_count": 127,
      "metadata": {
        "colab": {
          "base_uri": "https://localhost:8080/",
          "height": 53
        },
        "outputId": "a6e4f00c-a039-4920-858c-6516a2ec6176",
        "id": "_6cCC8nj7-IU"
      },
      "outputs": [
        {
          "output_type": "stream",
          "name": "stdout",
          "text": [
            "1/1 [==============================] - 0s 26ms/step\n"
          ]
        },
        {
          "output_type": "execute_result",
          "data": {
            "text/plain": [
              "'the hardest part was tree'"
            ],
            "application/vnd.google.colaboratory.intrinsic+json": {
              "type": "string"
            }
          },
          "metadata": {},
          "execution_count": 127
        }
      ],
      "source": [
        "# Frase original: \"And the hardest part was letting go, not taking part\"\n",
        "model_response('the hardest part was')"
      ]
    },
    {
      "cell_type": "code",
      "execution_count": 128,
      "metadata": {
        "colab": {
          "base_uri": "https://localhost:8080/",
          "height": 53
        },
        "outputId": "b3fa4a24-bc54-49ff-ee7f-34f425246efb",
        "id": "KCxpLHll7-IU"
      },
      "outputs": [
        {
          "output_type": "stream",
          "name": "stdout",
          "text": [
            "1/1 [==============================] - 0s 22ms/step\n"
          ]
        },
        {
          "output_type": "execute_result",
          "data": {
            "text/plain": [
              "'You really broke my look'"
            ],
            "application/vnd.google.colaboratory.intrinsic+json": {
              "type": "string"
            }
          },
          "metadata": {},
          "execution_count": 128
        }
      ],
      "source": [
        "# Frase original: \"You really broke my heart, oh\"\n",
        "model_response('You really broke my')"
      ]
    },
    {
      "cell_type": "markdown",
      "metadata": {
        "id": "kQSKGpaY7-IU"
      },
      "source": [
        "c) Generación de secuencias nuevas"
      ]
    },
    {
      "cell_type": "code",
      "execution_count": 129,
      "metadata": {
        "id": "pqjaBdD47-IU"
      },
      "outputs": [],
      "source": [
        "def generate_seq(model, tokenizer, seed_text, max_length, n_words):\n",
        "    \"\"\"\n",
        "        Exec model sequence prediction\n",
        "\n",
        "        Args:\n",
        "            model (keras): modelo entrenado\n",
        "            tokenizer (keras tokenizer): tonenizer utilizado en el preprocesamiento\n",
        "            seed_text (string): texto de entrada (input_seq)\n",
        "            max_length (int): máxima longitud de la sequencia de entrada\n",
        "            n_words (int): números de palabras a agregar a la sequencia de entrada\n",
        "        returns:\n",
        "            output_text (string): sentencia con las \"n_words\" agregadas\n",
        "    \"\"\"\n",
        "    output_text = seed_text\n",
        "\t# generate a fixed number of words\n",
        "    for _ in range(n_words):\n",
        "\t\t# Encodeamos\n",
        "        encoded = tokenizer.texts_to_sequences([output_text])[0]\n",
        "\t\t# Si tienen distinto largo\n",
        "        encoded = pad_sequences([encoded], maxlen=max_length, padding='pre')\n",
        "\t\t\n",
        "\t\t# Predicción softmax\n",
        "        y_hat = model.predict(encoded).argmax(axis=-1)\n",
        "\t\t# Vamos concatenando las predicciones\n",
        "        out_word = ''\n",
        "\n",
        "        # Debemos buscar en el vocabulario la palabra\n",
        "        # que corresopnde al indice (y_hat) predicho por le modelo\n",
        "        for word, index in tokenizer.word_index.items():\n",
        "            if index == y_hat:\n",
        "                out_word = word\n",
        "                break\n",
        "\n",
        "\t\t# Agrego las palabras a la frase predicha\n",
        "        output_text += ' ' + out_word\n",
        "    return output_text"
      ]
    },
    {
      "cell_type": "code",
      "execution_count": 130,
      "metadata": {
        "colab": {
          "base_uri": "https://localhost:8080/",
          "height": 71
        },
        "outputId": "f7b2dac1-e616-4ded-9222-1b2b1b5f7886",
        "id": "xmAlzc3h7-IU"
      },
      "outputs": [
        {
          "output_type": "stream",
          "name": "stdout",
          "text": [
            "1/1 [==============================] - 0s 21ms/step\n",
            "1/1 [==============================] - 0s 20ms/step\n"
          ]
        },
        {
          "output_type": "execute_result",
          "data": {
            "text/plain": [
              "'I will try a rough'"
            ],
            "application/vnd.google.colaboratory.intrinsic+json": {
              "type": "string"
            }
          },
          "metadata": {},
          "execution_count": 130
        }
      ],
      "source": [
        "input_text='I will try'\n",
        "\n",
        "generate_seq(model, tok, input_text, max_length=3, n_words=2)"
      ]
    },
    {
      "cell_type": "markdown",
      "source": [
        "### PRUEBA 4 - Remuevo stop-words"
      ],
      "metadata": {
        "id": "yaZzmBUTn_rK"
      }
    },
    {
      "cell_type": "code",
      "execution_count": 16,
      "metadata": {
        "colab": {
          "base_uri": "https://localhost:8080/"
        },
        "outputId": "67256610-fa09-48ff-a8b9-85953afae52f",
        "id": "oZ3r6ttJooll"
      },
      "outputs": [
        {
          "output_type": "stream",
          "name": "stdout",
          "text": [
            "Cantidad de tokens en el corpus: 62323\n"
          ]
        }
      ],
      "source": [
        "print(\"Cantidad de tokens en el corpus:\", len(tokens))"
      ]
    },
    {
      "cell_type": "code",
      "source": [
        "# Para remover las stop-words voy a usar NLTK\n",
        "import nltk\n",
        "import string\n",
        "from nltk.tokenize import word_tokenize  \n",
        "from nltk.corpus import stopwords\n",
        "\n",
        "# Descargar tokenizador punkt\n",
        "nltk.download(\"punkt\")\n",
        "# Descargar diccionario de inglés\n",
        "nltk.download(\"wordnet\")\n",
        "# Descargar diccionario de stopwords\n",
        "nltk.download('stopwords')\n",
        "# Para usar NLTK 3.6.6 o superior es necesario instalar OMW 1.4 \n",
        "# (Open Multilingual WordNet)\n",
        "nltk.download('omw-1.4')"
      ],
      "metadata": {
        "colab": {
          "base_uri": "https://localhost:8080/"
        },
        "id": "RbkqlojWpLCW",
        "outputId": "de42a8f2-4799-47b2-e9f1-78dbd9beef0c"
      },
      "execution_count": 18,
      "outputs": [
        {
          "output_type": "stream",
          "name": "stderr",
          "text": [
            "[nltk_data] Downloading package punkt to /root/nltk_data...\n",
            "[nltk_data]   Package punkt is already up-to-date!\n",
            "[nltk_data] Downloading package wordnet to /root/nltk_data...\n",
            "[nltk_data]   Package wordnet is already up-to-date!\n",
            "[nltk_data] Downloading package stopwords to /root/nltk_data...\n",
            "[nltk_data]   Package stopwords is already up-to-date!\n",
            "[nltk_data] Downloading package omw-1.4 to /root/nltk_data...\n",
            "[nltk_data]   Package omw-1.4 is already up-to-date!\n"
          ]
        },
        {
          "output_type": "execute_result",
          "data": {
            "text/plain": [
              "True"
            ]
          },
          "metadata": {},
          "execution_count": 18
        }
      ]
    },
    {
      "cell_type": "code",
      "source": [
        "# Stop words\n",
        "nltk_stop_words = set(stopwords.words(\"english\"))\n",
        "tokens = [w for w in tokens if w not in nltk_stop_words]\n",
        "# Quitar los signos de puntuacion\n",
        "tokens = [w for w in tokens if w not in string.punctuation]\n",
        "print(\"Resultado:\", tokens)"
      ],
      "metadata": {
        "colab": {
          "base_uri": "https://localhost:8080/"
        },
        "id": "yljUhTKep-Oy",
        "outputId": "5e9531ac-1c59-400b-878f-0fa35bd31b59"
      },
      "execution_count": 19,
      "outputs": [
        {
          "output_type": "stream",
          "name": "stdout",
          "text": [
            "Resultado: ['come', 'meet', 'tell', \"i'm\", 'sorry', 'know', 'lovely', 'find', 'tell', 'need', 'tell', 'set', 'apart', 'tell', 'secrets', 'ask', 'questions', 'oh', \"let's\", 'go', 'back', 'start', 'running', 'circles', 'coming', 'tails', 'heads', 'science', 'apart', 'nobody', 'said', 'easy', 'shame', 'us', 'part', 'nobody', 'said', 'easy', 'one', 'ever', 'said', 'would', 'hard', 'oh', 'take', 'back', 'start', 'guessing', 'numbers', 'figures', 'pulling', 'puzzles', 'apart', 'questions', 'science', 'science', 'progress', 'speak', 'loud', 'heart', 'tell', 'love', 'come', 'back', 'haunt', 'oh', 'rush', 'start', 'running', 'circles', 'chasing', 'tails', 'coming', 'back', 'nobody', 'said', 'easy', 'oh', 'shame', 'us', 'part', 'nobody', 'said', 'easy', 'one', 'ever', 'said', 'would', 'hard', \"i'm\", 'going', 'back', 'start', 'ohooh', 'oohoohoohooh', 'ahooh', 'oohoohoohooh', 'ohooh', 'oohoohoohooh', 'ohooh', 'oohoohoohooh', 'used', 'rule', 'world', 'seas', 'would', 'rise', 'gave', 'word', 'morning', 'sleep', 'alone', 'sweep', 'streets', 'used', 'used', 'roll', 'dice', 'feel', 'fear', \"enemy's\", 'eyes', 'listen', 'crowd', 'would', 'sing', 'old', 'king', 'dead', 'long', 'live', 'king', 'one', 'minute', 'held', 'key', 'next', 'walls', 'closed', 'discovered', 'castles', 'stand', 'upon', 'pillars', 'salt', 'pillars', 'sand', 'hear', 'jerusalem', 'bells', 'ringing', 'roman', 'cavalry', 'choirs', 'singing', 'mirror', 'sword', 'shield', 'missionaries', 'foreign', 'field', 'reason', \"can't\", 'explain', 'gone', 'never', 'never', 'honest', 'word', 'ruled', 'world', 'wicked', 'wild', 'wind', 'blew', 'doors', 'let', 'shattered', 'windows', 'sound', 'drums', 'people', 'believe', \"i'd\", 'become', 'revolutionaries', 'wait', 'head', 'silver', 'plate', 'puppet', 'lonely', 'string', 'oh', 'would', 'ever', 'want', 'king', 'hear', 'jerusalem', 'bells', 'ringing', 'roman', 'cavalry', 'choirs', 'singing', 'mirror', 'sword', 'shield', 'missionaries', 'foreign', 'field', 'reason', \"can't\", 'explain', 'know', 'saint', 'peter', 'call', 'name', 'never', 'honest', 'word', 'ruled', 'world', 'jonny', 'guy', 'brian', 'ohohwoah', 'ohoh', 'oh', 'ohohwoah', 'ohoh', 'oh', 'ohohwoah', 'ohoh', 'oh', 'ohohwoah', 'ohoh', 'oh', 'breakdown', 'jonny', 'guy', 'brian', 'ohohwoah', 'ohoh', 'oh', 'hear', 'jerusalem', 'bells', 'ringing', 'ohohwoah', 'ohoh', 'oh', 'roman', 'cavalry', 'choirs', 'singing', 'ohohwoah', 'ohoh', 'oh', 'mirror', 'sword', 'shield', 'ohohwoah', 'ohoh', 'oh', 'missionaries', 'foreign', 'field', 'ohohwoah', 'ohoh', 'oh', 'reason', \"can't\", 'explain', 'ohohwoah', 'ohoh', 'oh', 'know', 'saint', 'peter', 'call', 'name', 'never', 'honest', 'word', 'ruled', 'world', 'mmm', 'mmm', 'mmm', 'mmm', 'mmm', 'mmm', 'mmm', 'mmm', 'mmm', 'mmm', 'try', 'best', 'succeed', 'get', 'want', 'need', 'feel', 'tired', \"can't\", 'sleep', 'stuck', 'reand', 'tears', 'come', 'streaming', 'face', 'lose', 'something', \"can't\", 'replace', 'love', 'someone', 'goes', 'waste', 'could', 'worse', 'chris', 'chris', 'lights', 'guide', 'home', 'ignite', 'bones', 'try', 'fix', 'high', 'love', 'let', 'go', 'never', 'try', 'never', 'know', 'worth', 'chris', 'lights', 'guide', 'home', 'ignite', 'bones', 'try', 'fix', 'breakdown', 'chris', 'jonny', 'guy', 'tears', 'stream', 'face', 'lose', 'something', 'cannot', 'replace', 'tears', 'stream', 'face', 'tears', 'stream', 'face', 'promise', 'learn', 'mistakes', 'tears', 'stream', 'face', 'lights', 'guide', 'home', 'ignite', 'bones', 'try', 'fix', 'look', 'stars', 'look', 'shine', 'everything', 'yeah', 'yellow', 'came', 'along', 'wrote', 'song', 'things', 'called', 'yellow', 'took', 'turn', 'oh', 'thing', 'done', 'yellow', 'chris', 'jonny', 'aah', 'skin', 'oh', 'yeah', 'skin', 'bones', 'ooh', 'turn', 'something', 'beautiful', 'aah', 'know', 'know', 'love', 'know', 'love', 'swam', 'across', 'jumped', 'across', 'oh', 'thing', \"'cause\", 'yellow', 'drew', 'line', 'drew', 'line', 'oh', 'thing', 'yellow', 'chris', 'jonny', 'aah', 'skin', 'oh', 'yeah', 'skin', 'bones', 'ooh', 'turn', 'something', 'beautiful', 'aah', 'know', \"i'd\", 'bleed', 'dry', \"i'd\", 'bleed', 'dry', 'true', 'look', 'shine', 'look', 'shine', 'look', 'shine', 'look', 'shine', 'look', 'shine', 'look', 'shine', 'look', 'stars', 'look', 'shine', 'things', 'said', 'drink', 'drink', 'ohahohah', 'shoot', 'across', 'sky', 'symphony', 'shoot', 'across', 'sky', 'pour', 'drink', 'drink', 'ohahohah', 'shoot', 'across', 'sky', 'symphony', 'high', 'high', 'shoot', 'across', 'sky', 'oh', 'angel', 'sent', 'know', 'make', 'world', 'light', 'hurt', 'came', 'lift', 'life', 'drink', \"love's\", 'drug', 'oh', 'think', 'must', 'miles', 'river', 'dried', 'came', 'rain', 'flood', 'pre', 'beyoncé', 'said', 'drink', 'drink', 'thirsty', 'poured', 'symphony', \"can't\", 'get', 'enough', 'put', 'wings', 'wings', 'heavy', 'poured', 'symphony', \"i'm\", 'low', 'low', 'low', 'low', 'ohi', 'ohi', 'got', 'feeling', 'drunk', 'high', 'high', 'high', 'ohi', 'ohi', 'ohi', 'im', 'feeling', 'drunk', 'high', 'high', 'high', 'woo', 'woooooooowoo', 'beyoncé', 'oh', 'angel', 'sent', 'feel', 'coursing', 'blood', 'life', 'drink', \"love's\", 'make', 'stars', 'come', 'pre', 'beyoncé', 'put', 'wings', 'wings', 'heavy', 'poured', 'symphony', \"i'm\", 'low', 'low', 'low', 'low', 'ohi', 'ohi', 'got', 'feeling', 'drunk', 'high', 'high', 'high', 'ohi', 'ohi', 'ohi', 'im', 'feeling', 'drunk', 'high', 'high', 'high', 'beyoncé', 'ohi', 'ohi', 'la', 'la', 'la', 'la', 'la', 'la', 'la', 'high', 'high', 'ohi', 'ohi', \"i'm\", 'feeling', 'drunk', 'high', 'high', 'high', 'beyoncé', 'shoot', 'across', 'sky', 'shoot', 'across', 'shoot', 'across', 'sky', 'let', 'shoot', 'across', 'let', 'shoot', 'let', 'shoot', 'across', 'sky', 'let', 'shoot', 'across', 'let', 'shoot', 'across', 'sky', 'shoot', 'across', \"'cause\", 'sky', \"'cause\", 'sky', 'full', 'stars', \"i'm\", 'gonna', 'give', 'heart', \"'cause\", 'sky', \"'cause\", 'sky', 'full', 'stars', \"'cause\", 'light', 'path', 'care', 'go', 'tear', 'apart', 'care', 'oohooh', 'ooh', \"'cause\", 'sky', \"'cause\", 'sky', 'full', 'stars', 'think', 'saw', 'oohoohooh', 'oohoohooh', \"'cause\", 'sky', \"'cause\", 'sky', 'full', 'stars', 'wanna', 'die', 'arms', 'ohohoh', 'ohoh', \"'cause\", 'get', 'lighter', 'gets', 'dark', \"i'm\", 'gonna', 'give', 'heart', 'oh', 'care', 'go', 'tear', 'apart', 'care', 'oohooh', 'ooh', \"'cause\", 'sky', \"'cause\", 'sky', 'full', 'stars', 'think', 'see', 'oohoohooh', 'oohoohooh', 'think', 'see', 'oohoohooh', 'oohoohooh', \"'cause\", 'sky', 'sky', 'full', 'stars', 'heavenly', 'view', 'heavenly', 'view', 'yeah', 'yeah', 'yeah', 'ooh', 'oh', 'say', 'people', 'come', 'say', 'people', 'go', 'particular', 'diamond', 'extra', 'special', 'though', 'might', 'gone', 'world', 'may', 'know', 'still', 'see', 'celestial', 'like', 'lion', 'ran', 'goddess', 'rolled', 'like', 'eagle', 'circled', 'perfect', 'purple', 'come', 'things', 'move', 'come', 'cars', 'dont', 'slow', 'feels', 'like', 'end', 'world', 'cant', 'let', 'go', 'im', 'cold', 'cold', 'im', 'cold', 'cold', 'theres', 'light', 'give', 'im', 'shadow', 'theres', 'feeling', 'within', 'everglow', 'like', 'brothers', 'blood', 'sisters', 'ride', 'swore', 'night', 'wed', 'friends', \"'til\", 'die', 'changing', 'winds', 'way', 'waters', 'flow', 'life', 'short', 'falling', 'snow', 'im', 'gonna', 'miss', 'know', 'im', 'cold', 'cold', 'water', 'rolled', 'salt', 'know', 'youre', 'way', 'show', 'youre', 'wherever', 'go', 'give', 'feeling', 'everglow', 'oh', 'give', 'moment', 'hold', 'live', 'feeling', 'everglow', 'love', 'someone', 'let', 'know', 'oh', 'light', 'left', 'everglow', 'indecipherable', 'turn', 'magic', 'umi', \"she'd\", 'say', 'everything', \"want's\", 'dream', 'away', 'legends', 'every', 'day', \"that's\", 'told', 'turn', 'magic', \"she'd\", 'say', 'everything', \"want's\", 'dream', 'away', 'pressure', 'weight', 'diamonds', 'feel', 'heart', 'beating', 'feel', 'heart', 'beneath', 'skin', 'feel', 'heart', 'beating', 'oh', 'make', 'feel', 'like', \"i'm\", 'alive', 'post', 'alive', 'oh', 'make', 'feel', 'like', \"i'm\", 'alive', 'said', \"can't\", 'go', 'way', \"i'm\", 'dream', 'died', 'light', 'day', 'gonna', 'hold', 'half', 'sky', 'say', 'feel', 'heart', 'beating', 'feel', 'heart', 'beneath', 'skin', 'oh', 'feel', 'heart', 'beating', \"'cause\", 'make', 'feel', 'like', \"i'm\", 'alive', 'post', 'alive', 'oh', 'make', 'feel', 'like', \"i'm\", 'alive', 'turn', 'magic', 'umi', \"she'd\", 'say', 'everything', \"want's\", 'dream', 'away', 'pressure', 'weight', 'diamonds', 'taking', 'shape', 'diamonds', 'taking', 'shape', 'woo', 'woo', 'refrain', \"we've\", 'got', 'life', 'adventure', 'oh', \"we've\", 'got', 'life', 'get', \"we've\", 'got', 'life', 'adventure', 'oh', 'want', 'share', 'yeah', 'woohoo', 'woohoo', 'woohoo', 'woohoo', 'woohoo', 'woohoo', 'woohoo', 'woohoo', 'woohoo', 'woohoo', 'woohoo', 'woohoo', 'choir', 'moses', 'martin', 'want', 'know', 'go', 'back', 'get', 'drunk', 'friends', 'boom', 'boom\\u2005kah\\u2005buba', 'de', 'kah', 'boom\\u2005boom', 'kah', 'buba', 'de', 'kah', 'boom', 'boom\\u2005kah', 'buba', 'de', 'kah', 'rosaleem', 'damascene', 'yes', 'eyes', 'like', 'moon', 'would', 'silver', 'screen', 'missile', 'monsoon', 'refrain', 'choir', 'went', 'woowoo', 'woowoo', 'oohoohooh', 'indigo', 'heaven', 'today', 'woowoo', 'woowoo', 'oohoohooh', 'bombs', 'going', 'boombababoom', 'say', 'choir', 'want', 'know', 'go', 'back', 'get', 'drunk', 'friends', 'want', 'know', 'go', 'back', 'young', 'baba', 'would', 'go', 'flowers', 'grow', 'almond', 'peach', 'trees', 'bloom', 'would', 'know', 'sow', 'golden', 'opportune', 'refrain', 'choir', 'went', 'woowoo', 'woowoo', 'oohoohooh', 'tulips', 'colour', 'honey', 'today', 'true', 'true', 'woowoo', 'oohoohooh', 'bombs', 'going', 'boombababoom', 'say', 'choir', 'oh', 'want', 'know', 'go', 'back', 'get', 'drunk', 'friends', 'want', 'know', 'go', 'back', 'young', 'yeah', 'woowoo', 'woowoo', 'oohoohooh', 'woowoo', 'woowoo', 'oohoohooh', 'cherubim', 'seraphim', 'soon', 'come', 'sailing', 'us', 'home', 'light', 'moon', 'choir', 'oh', 'want', 'know', 'go', 'back', 'get', 'drunk', 'friends', 'want', 'know', 'go', 'back', 'feel', 'home', 'refrain', 'choir', 'woowoo', 'woowoo', 'oohoohooh', 'guess', \"we'll\", 'raised', 'woowoo', 'woowoo', 'oohoohooh', \"'cause\", 'want', \"'til\", 'world', 'ends', 'want', \"'til\", 'whole', 'world', 'ends', 'moses', 'martin', 'boom', 'boom', 'kah', 'buba', 'de', 'kah', 'boom', 'boom', 'kah', 'buba', 'de', 'kah', 'boom', 'boom', 'kah', 'buba', 'de', 'kah', 'boom', 'oohoohooh', 'oohoohooh', 'oohoohooh', 'oohoohooh', 'oohoohooh', 'oohoohooh', 'girl', 'expected', 'world', 'flew', 'away', 'reach', 'ran', 'away', 'sleep', 'dreamed', 'paraparaparadise', 'paraparaparadise', 'paraparaparadise', 'every', 'time', 'closed', 'eyes', 'oohoohooh', 'oohoohooh', 'oohoohooh', 'oohoohooh', 'oohoohooh', 'oohoohooh', 'girl', 'expected', 'world', 'flew', 'away', 'reach', 'bullets', 'catch', 'teeth', 'life', 'goes', 'gets', 'heavy', 'wheel', 'breaks', 'butterfly', 'every', 'tear', 'waterfall', 'night', 'stormy', 'night', \"she'd\", 'close', 'eyes', 'night', 'stormy', 'night', 'away', \"she'd\", 'fly', 'dream', 'paraparaparadise', 'paraparaparadise', 'paraparaparadise', 'oh', 'ohoh', 'ohoh', 'ohohoh', \"she'd\", 'dream', 'paraparaparadise', 'paraparaparadise', 'paraparaparadise', 'oh', 'ohoh', 'ohoh', 'ohohoh', 'la', 'lala', 'lalala', 'la', 'lala', 'lalala', 'la', 'lala', 'lalala', 'lala', 'lying', 'underneath', 'stormy', 'skies', 'said', 'oh', 'ohohohoh', 'know', 'sun', 'must', 'set', 'rise', 'could', 'paraparaparadise', 'paraparaparadise', 'could', 'paraparaparadise', 'oh', 'ohoh', 'ohoh', 'ohohoh', 'could', 'paraparaparadise', 'paraparaparadise', 'could', 'paraparaparadise', 'oh', 'ohoh', 'ohoh', 'ohohoh', 'break', 'could', 'paraparaparadise', 'could', 'paraparaparadise', 'could', 'paraparaparadise', 'ohohohohoh', 'ohohoh', 'oohoohooh', 'oohoohooh', 'oohoohooh', 'oohoohooh', 'oohoohooh', 'oohoohooh', 'oohoohooh', 'oohoohooh', 'oohoohooh', 'oohoohooh', 'oohoohooh', 'call', 'magic', 'call', 'true', 'call', 'magic', \"i'm\", 'got', 'broken', 'broken', 'two', 'still', 'call', 'magic', \"i'm\", 'next', 'true', 'want', 'anybody', 'else', 'true', 'want', 'anybody', 'else', 'oooh', 'ooh', 'oohooh', 'call', 'magic', 'cut', 'two', 'magic', 'disappear', 'view', \"can't\", 'get', \"can't\", 'get', 'still', 'call', 'magic', 'precious', 'jewel', 'true', 'want', 'anybody', 'else', 'true', 'want', 'anybody', 'else', 'wanna', 'fall', 'fall', 'far', 'wanna', 'fall', 'fall', 'hard', 'call', 'magic', 'call', 'true', 'call', 'mamamagic', 'oooh', 'ooh', 'oohooh', 'oooh', 'ooh', 'oohooh', 'oooh', 'ooh', 'oohooh', 'oooh', 'ooh', 'oohooh', 'ask', \"we've\", 'still', 'believe', 'magic', 'oh', 'yes', 'oh', 'yes', 'oh', 'yes', 'oh', 'yes', 'course', 'lights', 'go', \"can't\", 'saved', 'tides', 'tried', 'swim', 'brought', 'upon', 'knees', 'oh', 'beg', 'beg', 'plead', \"singin'\", 'come', 'things', 'unsaid', 'shoot', 'apple', 'head', 'trouble', \"can't\", 'named', \"tiger's\", 'waiting', 'tamed', \"singin'\", 'confusion', 'never', 'stops', 'closing', 'walls', \"tickin'\", 'clocks', 'gonna', 'come', 'back', 'take', 'home', 'could', 'stop', 'know', \"singin'\", 'come', 'upon', 'seas', 'cursed', 'missed', 'opportunities', 'part', 'cure', 'part', 'disease', \"singin'\", 'nothing', 'else', 'compares', 'oh', 'nothing', 'else', 'compares', 'nothing', 'else', 'compares', 'home', 'home', 'wanted', 'go', 'home', 'home', 'wanted', 'go', 'home', 'home', 'wanted', 'go', 'home', 'home', 'wanted', 'go', 'daddy', 'daddy', 'come', 'play', 'daddy', 'care', 'there\\u2005nothing\\u2005that', 'wanna\\u2005say', 'pre', 'know', 'hurting', 'need\\u2005you', 'daddy', 'daddy', 'want', 'say', 'far', 'away', 'oh', 'far', 'away', \"that's\", 'okay', 'okay', \"i'm\", 'okay', 'daddy', 'daddy', \"why'd\", 'run', 'away', 'daddy', 'okay', 'look', 'dad', 'got', 'hair', 'daddy', 'birthday', 'wanna', 'say', 'far', 'away', 'oh', 'far', 'away', \"that's\", 'okay', 'okay', 'okay', 'ooh', 'ooh', 'ooh', 'ooh', 'ooh', 'ooh', 'ooh', 'ooh', 'far', 'away', 'come', 'stay', 'please', 'stay', 'oh', 'please', 'stay', 'come', 'stay', 'one', 'day', 'one', 'day', 'world', 'going', 'look', \"everybody's\", 'going', 'kind\\u2005of\\u2005world', 'you\\u2005want', 'the\\u2005future', 'history', \"'cause\", 'everyone', 'hurts', 'everyone', 'cries', 'everyone', 'tells', 'kinds', 'lies', 'everyone', 'falls', 'everybody', 'dreams', 'doubts', 'got', 'keep', 'dancing', 'lights', 'go', 'world', 'going', 'see', 'brother', 'enemy', \"'cause\", 'everyone', 'hurts', 'everyone', 'cries', 'everyone', 'sees', 'colour', \"other's\", 'eyes', 'everyone', 'loves', 'everybody', 'gets', 'hearts', 'ripped', 'got', 'keep', 'dancing', 'lights', 'go', 'gonna', 'keep', 'dancing', 'lights', 'go', 'hold', 'tight', 'everyday', 'life', 'hold', 'tight', 'everyday', 'life', 'first', 'light', 'throw', 'arms', 'open', 'wide', 'hallelujah', 'hallelujah', 'halleluhallehallelujah', 'hallelujah', 'hallelujah', 'halleluhallehallelujah', 'yes', 'drive', 'away', 'know', 'say', 'say', 'oh', 'sing', 'one', 'know', 'promise', \"i'll\", 'always', 'look', 'yeah', \"that's\", \"i'll\", 'say', 'oh', 'say', 'oh', 'heart', 'hold', 'yeah', \"that's\", 'know', 'wrong', 'let', 'oh', 'yeah', 'yeah', 'yes', 'yeah', 'said', 'oh', 'cry', 'oh', 'yeah', 'saw', 'sparks', 'yeah', 'saw', 'sparks', 'saw', 'sparks', 'yeah', 'saw', 'sparks', 'sing', 'la', 'la', 'la', 'la', 'oh', 'la', 'la', 'la', 'la', 'oh', 'la', 'la', 'la', 'la', 'oh', 'la', 'la', 'la', 'la', 'oh', 'fixing', 'car', 'driving', 'searching', 'water', 'hoping', 'rain', 'upon', 'canvas', 'working', 'meal', 'meal', 'waiting', 'chance', 'pick', 'orange', 'field', 'see', 'pearl', 'form', 'diamond', 'rough', 'see', 'bird', 'soaring', 'high', 'flood', 'blood', 'blood', 'underneath', 'storm', 'umbrella', 'saying', 'sitting', 'poison', 'takes', 'away', 'pain', 'saying', 'gonna', 'get', 'get', 'together', 'right', 'gonna', 'get', 'get', 'together', 'somehow', 'gonna', 'get', 'get', 'together', 'flower', 'ohohohohohoh', 'gonna', 'get', 'get', 'together', 'know', 'gonna', 'get', 'get', 'together', 'flow', 'gonna', 'get', 'get', 'together', 'go', 'lying', 'gutter', 'aiming', 'moon', 'trying', 'empty', 'ocean', 'spoon', 'come', 'people', 'suffer', 'come', 'people', 'part', 'come', 'people', 'struggle', 'come', 'people', 'break', 'heart', 'break', 'heart', 'yes', 'wanna', 'grow', 'yes', 'want', 'feel', 'yes', 'wanna', 'know', 'show', 'heal', 'heal', 'see', 'forest', 'every', 'seed', 'angels', 'marble', 'waiting', 'freed', 'need', 'love', 'need', 'love', 'going', 'rough', 'saying', 'gonna', 'get', 'get', 'together', 'right', 'gonna', 'get', 'get', 'together', 'somehow', 'gonna', 'get', 'get', 'together', 'flower', 'ohohohohohoh', 'gonna', 'get', 'get', 'together', 'know', 'gonna', 'get', 'get', 'together', 'flow', 'gonna', 'get', 'get', 'together', 'go', 'say', 'fight', 'close', 'mind', 'take', 'risk', 'say', 'mine', 'clench', 'fist', 'see', 'sunrise', 'gift', 'jonny', 'buckland', 'gonna', 'get', 'get', 'together', 'right', 'gonna', 'get', 'get', 'together', 'somehow', 'gonna', 'get', 'get', 'together', 'flower', 'ohohohohohoh', 'gonna', 'get', 'get', 'together', 'know', 'gonna', 'get', 'get', 'together', 'flow', 'gonna', 'get', 'get', 'together', 'go', 'gonna', 'get', 'get', 'together', 'right', 'gonna', 'get', 'get', 'together', 'somehow', 'gonna', 'get', 'get', 'together', 'flower', 'ohohohohohoh', 'gonna', 'get', 'get', 'together', 'know', 'gonna', 'get', 'get', 'together', 'flow', 'gonna', 'get', 'get', 'together', 'go', 'noel', 'gallagher', 'interlude', 'ohohoh', 'ohoh', 'whoa', 'oh', 'ohohoh', 'ohoh', 'whoa', 'oh', 'fixing', 'car', 'drive', 'youre', 'pain', 'think', 'youve', 'enough', 'dont', 'ever', 'give', 'ever', 'give', 'coda', 'annabelle', 'wallis', 'believe', 'love', 'oh', 'see', 'spider', 'web', 'tangled', 'lost', 'head', 'thought', 'stupid', 'things', \"i'd\", 'said', 'oh', \"what's\", 'spider', 'web', \"i'm\", 'caught', 'middle', 'turned', 'run', 'thought', 'stupid', 'things', \"i'd\", 'done', 'never', 'meant', 'cause', 'trouble', 'never', 'meant', 'wrong', 'well', 'ever', 'caused', 'trouble', 'oh', 'never', 'meant', 'harm', 'oh', 'see', 'spider', 'web', 'middle', 'twist', 'turn', 'little', 'bubble', 'singing', 'never', 'meant', 'cause', 'trouble', 'never', 'meant', 'wrong', 'well', 'ever', 'caused', 'trouble', 'oh', 'never', 'meant', 'harm', 'spun', 'web', 'spun', 'web', 'spun', 'web', 'could', 'could', 'two', 'raindrops', 'sea', 'could', 'be\\u2005me\\u2005i', 'could', 'be\\u2005you', 'two', 'angles', 'view', 'and\\u2005we', 'share', 'blood', 'interlude', 'stromae', 'champion', 'comme', 'deux', 'gouttes', 'deau', 'se', 'ressemble', 'comme', 'provenant', 'de', 'la', 'même', 'mère', 'comme', 'deux', 'ruisseaux', 'could', 'qui', 'se', 'rassemblent', 'could', 'pour', 'faire', 'les', 'grandes', 'rivières', 'share', 'blood', 'yeah', 'share', 'blood', 'saxophone', 'share', 'blood', 'yeah', 'share', 'blood', 'sample', 'femi', 'kuti', 'music', 'weapon', 'music', 'weapon', 'future', 'music', 'weapon', 'music', 'weapon', 'future', 'music', 'weapon', 'music', 'weapon', 'future', 'fucking', 'blood', 'fucking', 'blood', 'rusting', 'rubble', 'running', 'faint', 'need', 'brand', 'new', 'coat', 'paint', 'found', 'trouble', 'thinking', \"ain't\", 'never', 'gonna', 'saint', 'pre', 'saying', 'float', 'like', 'eagle', 'fall', 'like', 'rain', 'pouring', 'put', 'pain', 'oh', \"i'm\", 'hyp', 'hypnotised', 'yeah', 'trip', 'look', 'eyes', 'oh', \"i'm\", 'hyp', 'hypnotized', 'yeah', 'slip', \"i'm\", 'mesmerized', 'easy', 'lethal', \"i'm\", 'learning', 'news', 'guidebook', 'blues', 'saying', 'steeple', 'people', 'want', 'choose', 'see', 'different', 'views', 'pre', 'threading', 'needle', 'fixing', 'flame', 'oh', \"i'm\", 'moved', 'exclaim', 'oh', \"i'm\", 'hyp', 'hypnotised', 'yeah', 'trip', 'look', 'eyes', 'oh', \"i'm\", 'hyp', 'hypnotized', 'yeah', 'lift', \"i'm\", 'mesmerized', 'oh', 'oh', \"i'm\", 'hyp', 'hypnotised', 'yeah', 'lift', 'permanent', 'high', 'oh', \"i'm\", 'hyp', 'hypnotised', 'dark', 'sunrise', 'one', 'two', 'three', 'fish', 'fell', 'water', 'bird', 'stuck', 'ground', 'chaos', 'giving', 'orders', 'everything', 'upside', 'whole', 'world', 'flight', 'path', 'wonder', \"they'll\", 'go', 'ah', \"trouble's\", 'outside', 'know', 'think', 'think', \"i'm\", 'earth', 'lone', 'poor', 'shoe', 'want', 'walk', 'two', 'piano', 'go', 'everything', 'falling', 'around', 'think', 'think', 'love', 'thing', 'left', \"that's\", 'true', 'flock', 'birds', 'hovering', 'flock', 'birds', \"that's\", 'think', 'love', 'always', 'look', 'sky', 'pray', 'dawn', 'cause', 'fly', 'always', 'sometimes', 'arrive', 'sometimes', 'gone', 'fly', 'flock', 'birds', 'hovering', 'smoke', \"i'm\", 'turned', 'rise', 'following', 'still', 'always', 'look', 'sky', 'pray', 'dawn', 'cause', 'fly', 'away', 'one', 'minute', 'arrive', 'next', 'know', \"they're\", 'gone', 'fly', 'fly', 'fly', 'ride', 'maybe', 'one', 'day', \"i'll\", 'fly', 'next', 'fly', 'ride', 'maybe', 'one', 'day', 'fly', 'fly', 'fly', 'fly', 'otuto', 'nke', \"chukwu'\", 'gi', 'nwa', 'nke', 'chukwu', 'gini', 'ka', 'ina', 'ekwu', \"n'ihi\", 'ihe', 'nile', 'nke', 'chukwu', 'mere', 'tried', 'best\\u2005to\\u2005be', 'like', 'the\\u2005other', 'boys', 'school', 'tried', 'my\\u2005best', 'get', 'right', 'died', 'every', 'duel', 'mountainside', 'suicide', 'dream', 'never', 'work', 'still', 'sign', 'upon', 'headstone', 'write', 'champion', 'world', 'interlude', 'oh', 'ohoh', 'oh', 'ohohoh', 'oh', 'oh', 'tried', 'best', 'stay', 'alight', 'fly', 'like', 'firework', 'tried', 'best', 'taking', 'flight', 'rocket', 'ship', 'reversed', 'oh', 'referee', 'stop', 'fight', 'everyone', 'see', \"i'm\", 'hurt', \"i'll\", 'stand', 'conquistadors', 'till', \"i'm\", 'champion', 'world', 'chris', 'sail', 'sail', \"i'm\", 'sailing', 'west', 'know', 'might', 'fail', 'knowing', 'might', 'fail', 'still', \"i'm\", 'hoping', 'best', 'dreams', 'dreams', 'onto', 'chest', \"she'll\", 'pin', 'colours', 'say', 'wandered', 'whole', 'wide', 'world', 'baby', 'best', 'interlude', 'lo', 'lololo', 'lo', 'oh', 'eeyoeeyoeeyoeeyeah', 'lo', 'lololo', 'lo', 'champion', \"i'm\", 'flying', 'bicycle', 'heading', 'upwards', 'earth', 'jumping', 'parachute', 'unii', 'et', 'bicycle', 'giving', 'work', \"i'm\", 'riding', 'rocketship', \"i'm\", 'champion', 'world', 'long', 'dark', 'december', 'rooftops', 'remember', 'snow', 'white', 'snow', 'clearly', 'remember', 'windows', 'watching', 'froze', \"future's\", 'architectured', 'carnival', 'idiots', 'show', 'better', 'lie', 'low', 'love', 'let', 'know', 'long', 'dark', 'december', 'banks', 'became', 'cathedrals', 'fox', 'became', 'god', 'priests', 'clutched', 'onto', 'bibles', 'hollowed', 'fit', 'rifles', 'cross', 'held', 'aloft', 'bury', 'armor', \"i'm\", 'dead', 'hit', 'ground', 'nerves', 'poles', 'unfroze', 'love', 'let', 'know', 'want', 'soldier', 'captain', 'sinking', 'ship', 'would', 'stow', 'far', 'love', \"why'd\", 'let', 'go', 'took', 'love', 'violet', 'hill', 'sat', 'snow', 'time', 'silent', 'still', 'love', 'let', 'know', 'love', 'let', 'know', 'place', 'place', 'lines', 'change', 'lost', 'oh', 'yeah', 'lost', 'lost', 'crossed', 'lines', 'crossed', 'lost', 'oh', 'yeah', 'hook', 'yeah', 'long', 'must', 'wait', 'yeah', 'long', 'must', 'pay', 'yeah', 'long', 'must', 'wait', 'scared', 'scared', 'tired', 'underprepared', 'wait', 'go', 'go', 'leave', \"i'll\", 'wait', 'yeah', 'hook', 'yeah', 'long', 'must', 'wait', 'yeah', 'long', 'must', 'pay', 'yeah', 'long', 'must', 'wait', 'sing', 'please', 'please', 'please', 'come', 'back', 'come', 'sing', 'come', 'sing', 'come', 'sing', 'come', 'back', 'come', 'sing', 'place', 'place', 'lines', 'change', 'lost', 'oh', 'yeah', 'oh', 'yeah', 'got', 'tattoo', 'said', 'together', 'thru', 'life', 'carved', 'name', 'pocket', 'knife', 'wonder', 'wake', 'alright', 'ooooh', 'ooh', 'feels', 'like', \"there's\", 'something', 'broken', 'inside', 'know', 'know', \"i'm\", 'lost', 'whenever', 'go', 'know', 'love', 'much', 'hurts', 'got', 'tattoo', \"pain's\", 'alright', 'oooh', 'oooh', 'wanted', 'way', 'keeping', 'inside', 'ooooh', 'ooh', 'know', 'know', \"i'm\", 'lost', 'fire', 'know', 'love', 'much', 'hurts', 'see', 'road', 'begin', 'climb', 'see', 'stars', 'begin', 'shine', 'see', 'colors', \"i'm\", 'dying', 'thirst', 'know', 'love', 'much', 'hurts', 'oh', 'yeah', 'yeah', 'yeah', 'much', 'hurts', 'much', 'hurts', 'tell', \"i'm\", \"i'm\", 'walking', 'air', 'watching', 'sleeping', 'there\\u2005yeah', 'and\\u2005what', \"can't\", 'i\\u2005get', 'everyone', 'everywhere', 'answering\\u2005every', 'prayer', 'riding', 'wave', 'oh', 'ride', 'wave', 'setting', 'sail', 'oh', 'seventh', 'sea', 'riding', 'wave', 'oh', 'riding', 'wave', \"'cause\", \"i'm\", 'hurt', \"i'll\", 'go', 'church', \"'cause\", \"i'm\", 'hurt', \"i'll\", 'go', 'church', 'riding', 'wave', 'oh', 'ride', 'wave', 'riding', 'wave', 'vocalizing', 'arabic', 'norah', 'shaqur', 'أبي', 'يا', 'الله', 'يا', 'قادر', 'لماذا', 'تركتني', 'أبي', 'يا', 'الله', 'يا', 'قادر', 'حرية', 'يا', 'الله', 'محبة', 'يا', 'الله', 'ooh', 'ooh', 'ooh', 'ooh', 'ooh', 'ooh', 'worship', 'church', 'baby', 'always', 'worship', 'church', 'seven', 'days', 'ooh', 'ooh', 'ooh', 'praise', 'praise', 'ooh', 'ooh', 'ooh', 'ooh', 'ooh', 'ooh', 'look', 'direction', 'pay', 'attention', 'know', 'listen', \"'cause\", 'say', 'see', 'straight', 'moment', 'wake', \"'til\", 'moment', 'sleep', \"i'll\", 'side', 'try', 'stop', \"i'll\", 'waiting', 'line', 'see', 'care', 'pre', 'oh', 'want', 'change', 'well', \"i'll\", 'change', 'good', 'want', 'know', 'always', 'get', 'way', 'wanted', 'say', 'shiver', 'shiver', 'sing', 'loud', 'clear', \"i'll\", 'always', 'waiting', 'know', 'much', 'need', 'never', 'even', 'see', 'final', 'chance', 'getting', 'moment', 'wake', \"'til\", 'moment', 'sleep', \"i'll\", 'side', 'try', 'stop', \"i'll\", 'waiting', 'line', 'see', 'care', 'care', 'pre', 'oh', 'want', 'change', 'well', \"i'll\", 'change', 'good', 'want', 'know', 'always', 'get', 'way', 'wanted', 'say', 'shiver', 'shiver', 'sing', 'loud', 'clear', \"i'll\", 'always', 'waiting', 'yeah', \"i'll\", 'always', 'waiting', 'yeah', \"i'll\", 'always', 'waiting', 'yeah', \"i'll\", 'always', 'waiting', 'always', 'waiting', 'final', 'see', 'see', 'hear', 'loud', 'clear', 'sing', 'loud', 'clear', \"i'll\", 'always', 'waiting', 'look', 'direction', 'pay', 'attention', 'know', 'much', 'need', 'never', 'even', 'see', 'sitting', 'sitting', 'strawberry', 'swing', 'every', 'moment', 'precious', 'sitting', 'talking', 'strawberry', 'swing', 'everybody', 'fighting', 'wanna', 'waste', 'thing', 'cold', 'cold', 'water', 'bring', \"'round\", 'feet', 'touch', 'ground', 'cold', 'cold', 'water', 'ya', 'say', 'perfect', 'day', 'perfect', 'day', 'remember', 'walking', 'strawberry', 'swing', \"can't\", 'wait', \"'til\", 'morning', 'wanna', 'change', 'thing', 'people', 'moving', 'time', 'inside', 'perfectly', 'straight', 'line', 'wanna', 'curve', 'away', 'perfect', 'day', 'perfect', 'day', 'ah', 'sky', 'could', 'blue', 'mind', 'without', 'waste', 'time', 'could', 'blue', 'mind', 'without', 'waste', 'time', 'well', 'sky', 'could', 'blue', 'could', 'grey', 'without', \"i'm\", 'miles', 'away', 'well', 'sky', 'could', 'blue', 'mind', 'without', 'waste', 'time', 'duction', 'think', 'slept', 'think', 'forget', 'body', 'moves', 'goes', 'though', 'try', 'heart', 'stays', 'still', 'never', 'moves', 'led', 'mouth', 'waters', 'fed', 'always', 'head', 'always', 'head', 'always', 'head', 'always', 'head', 'always', 'head', 'always', 'always', 'guess', 'tell', 'chosen', 'rest', 'darkness', 'dawn', 'swirling', 'storm', \"i'm\", 'rolling', 'punches', 'hope', 'gone', 'leave', 'light', 'light', 'millions', 'miles', 'home', 'swirling', 'swimming', \"i'm\", 'rolling', 'thunder', 'bleed', 'thorns', 'leave', 'light', 'light', 'leave', 'light', 'light', 'leave', 'light', 'light', 'leave', 'light', 'light', 'darkness', 'dawn', 'darkness', 'dawn', 'leave', 'light', 'light', 'leave', 'light', 'light', 'trouble', 'town', 'cut', 'brother', 'sister', \"can't\", 'wear', 'crown', \"there's\", \"trouble\\u2005there's\\u2005trouble\", 'town', 'blood\\u2005on', 'beat', 'ohoh', 'oh', \"goodness\\u2005there's\", 'blood', 'beat', 'law', 'jungle', 'law', 'street', \"there's\", 'blood', \"there's\", 'blood', 'beat', 'get', 'shelter', 'get', 'peace', 'never', 'get', 'released', 'trouble', 'town', 'ohoh', 'hung', 'brother', 'brown', 'system', 'keep', \"there's\", 'trouble', \"there's\", 'trouble', 'town', 'get', 'shelter', 'get', 'peace', 'get', 'police', 'eh', 'get', 'comfort', 'get', 'name', 'everything', \"gettin'\", 'strange', 'interlude', 'young', 'men', 'police', 'officer', 'philip', 'nace', 'best', 'friends', \"what's\", \"what's\", 'name', 'x', 'standby', 'sir', 'alright', 'x', 'middle', 'name', 'course', 'vehicle', 'id', 'right', 'must', 'way', \"gettin'\", 'smart', \"'cause\", 'fucking', 'car', \"i'm\", 'telling', 'fucking', 'smartass', 'gonna', 'kick', 'someday', \"i'm\", 'asking', 'x', 'middle', 'name', 'course', 'come', 'back', 'fucking', 'shit', 'must', 'way', 'talk', 'fucking', 'pigs', 'street', 'way', \"ain't\", 'talking', 'way', 'talk', 'nobody', 'streets', 'hang', 'nobody', 'well', 'come', 'fucking', 'philadelphia', 'stay', 'jersey', 'family', 'everybody', 'thinks', \"they're\", 'fucking', 'lawyer', 'know', 'jack', 'shit', 'supposed', 'grab', 'like', 'grab', \"i'll\", 'grab', 'way', 'got', 'protecting', 'stopping', \"i'm\", 'trying', 'go', 'work', 'shut', 'u', 'mandela', 'siyamthanda', 'futhi', 'uyaziwa', \"yonk'\", 'indawo', 'jikelele', 'jikelele', 'jikelele', 'jikelele', 'jikelele', 'jikelele', 'jikelele', 'jikelele', 'jikelele', 'piano', 'flock', 'birds', 'hovering', 'flock', 'birds', \"that's\", 'think', 'love', 'always', 'look', 'sky', 'pray', 'dawn', \"'cause\", 'fly', 'away', 'sometimes', 'arrive', 'sometimes', 'gone', 'fly', 'flock', 'birds', 'hovering', 'smoke', \"i'm\", 'turned', 'rise', 'following', \"'em\", '4', 'still', 'always', 'look', 'sky', 'pray', 'dawn', \"'cause\", 'fly', 'away', 'one', 'minute', 'arrive', 'next', 'know', \"they're\", 'gone', 'fly', 'fly', 'oh', 'ohhhh', 'fly', 'ride', 'maybe', 'one', 'day', \"i'll\", 'fly', 'next', 'fly', 'ride', 'maybe', 'one', 'day', 'fly', 'fly', 'fly', 'fly', 'ambient', 'ever', 'let', 'go', 'ever', 'let', 'go', 'ever', 'let', 'go', 'ever', 'let', 'go', 'second', 'control', 'lost', 'though', 'along', 'fire', 'would', 'rise', 'wish', 'could', 'let', 'know', \"what's\", 'really', 'going', \"i've\", 'lost', 'let', 'go', 'one', 'last', 'time', 'tell', 'love', 'lie', 'lie', 'remember', 'upon', 'time', 'blind', 'fire', 'would', 'sparkle', 'eyes', 'mine', 'tell', 'love', 'lie', 'lie', 'tell', 'love', 'lie', 'lie', 'lie', 'lie', 'call', 'true', 'call', 'true', 'love', 'call', 'true', 'call', 'true', 'love', 'said', \"i'm\", 'gonna', 'buy', 'place', 'burn', \"i'm\", 'gonna', 'put', 'six', 'feet', 'underground', 'said', \"i'm\", 'gonna', 'buy', 'place', 'watch', 'fall', 'stand', 'beside', 'baby', 'crumbling', 'walls', 'oh', \"i'm\", 'gonna', 'buy', 'place', 'start', 'fire', 'stand', 'fill', \"heart's\", 'desires', \"i'm\", 'gonna', 'buy', 'place', 'see', 'burn', 'back', 'things', 'return', 'oooh', 'oooh', 'oooh', 'oooh', 'said', \"i'm\", 'gonna', 'buy', 'gun', 'start', 'war', 'tell', 'something', 'worth', 'fighting', 'oh', \"i'm\", 'gonna', 'buy', 'place', \"that's\", 'said', 'blame', 'upon', 'rush', 'blood', 'head', 'hook', 'honey', 'movements', 'starting', 'make', 'see', 'crumble', 'fall', 'face', 'know', 'mistakes', 'made', 'see', 'disappear', 'without', 'trace', 'call', 'beckon', 'say', 'start', 'mean', 'go', 'start', 'mean', 'go', 'said', \"i'm\", 'gonna', 'buy', 'place', 'see', 'go', 'stand', 'beside', 'baby', 'watch', 'orange', 'glow', 'laugh', 'sit', 'cry', 'sit', 'wonder', \"i'm\", 'gonna', 'buy', 'gun', 'start', 'war', 'tell', 'something', 'worth', 'fighting', \"i'm\", 'gonna', 'buy', 'place', \"that's\", 'said', 'blame', 'upon', 'rush', 'blood', 'head', 'oh', 'head', 'oh', 'hook', 'honey', 'movements', 'starting', 'make', 'see', 'crumble', 'fall', 'face', 'know', 'mistakes', 'made', 'see', 'disappear', 'without', 'trace', 'call', 'beckon', 'say', 'start', 'mean', 'go', 'mean', 'go', 'mean', 'go', 'meet', 'oh', 'meet', 'lane', 'going', 'see', 'pretty', 'face', 'meet', 'road', 'meet', 'said', 'blame', 'upon', 'rush', 'blood', 'head', 'honey', 'rock', 'upon', 'stand', 'come', 'talk', 'hope', 'understand', 'green', 'eyes', 'yeah', 'spotlight', 'shines', 'upon', 'could', 'anybody', 'deny', 'came', 'load', 'feels', 'much', 'lighter', \"i've\", 'met', 'honey', 'know', 'could', 'never', 'go', 'without', 'green', 'eyes', 'honey', 'sea', 'upon', 'float', 'came', 'talk', 'think', 'know', 'green', 'eyes', 'one', 'wanted', 'find', 'anyone', 'tried', 'deny', 'must', 'minds', 'came', 'load', 'feels', 'much', 'lighter', 'since', \"i've\", 'met', 'honey', 'know', 'could', 'never', 'go', 'without', 'green', 'eyes', 'green', 'eyes', 'honey', 'rock', 'upon', 'stand', 'bones', 'sinking', 'like', 'stones', 'fought', 'homes', 'places', 'weve', 'grown', 'us', 'done', 'live', 'beautiful', 'world', 'yeah', 'yeah', 'live', 'beautiful', 'world', 'jonny', 'buckland', 'bones', 'sinking', 'like', 'stones', 'fought', 'homes', 'places', 'weve', 'grown', 'us', 'done', 'live', 'beautiful', 'world', 'yeah', 'yeah', 'live', 'beautiful', 'world', 'piano', 'live', 'beautiful', 'world', 'yeah', 'yeah', 'live', 'beautiful', 'world', 'oh', 'know', \"there's\", 'nothing', 'run', \"'cause\", 'yeah', 'everybody', \"here's\", 'got', 'somebody', 'lean', 'turn', 'music', 'got', 'records', 'shut', 'world', 'outside', 'lights', 'come', 'maybe', 'streets', 'alight', 'maybe', 'trees', 'gone', 'feel', 'heart', 'start', 'beating', 'favorite', 'song', 'kids', 'dance', 'kids', 'night', 'monday', 'morning', 'feels', 'another', 'life', 'turn', 'music', \"i'm\", 'roll', 'time', 'heaven', 'sight', 'turn', 'music', 'got', 'records', 'underneath', 'rubble', 'sing', 'rebel', 'song', 'want', 'see', 'another', 'generation', 'drop', \"i'd\", 'rather', 'comma', 'full', 'stop', 'maybe', \"i'm\", 'black', 'maybe', \"i'm\", 'knees', 'maybe', \"i'm\", 'gap', 'two', 'trapezes', 'heart', 'beating', 'pulses', 'start', 'cathedrals', 'heart', 'pre', 'saw', 'oh', 'light', 'swear', 'emerge', 'blinking', 'tell', 'alright', 'soar', 'walls', 'every', 'siren', 'symphony', 'every', \"tear's\", 'waterfall', 'waterfall', 'oh', 'waterfall', 'ohohoh', 'waterfall', 'every', 'tear', 'waterfall', 'ohohoh', 'hurt', 'hurt', 'bad', 'still', \"i'll\", 'raise', 'flag', 'oh', 'wawawawawaterfall', 'wawawawawaterfall', 'every', 'tear', 'every', 'tear', 'every', 'teardrop', 'waterfall', 'every', 'tear', 'every', 'tear', 'every', 'teardrop', 'waterfall', 'every', 'tear', 'every', 'tear', 'every', 'teardrop', 'waterfall', 'every', 'tear', 'every', 'tear', 'every', 'teardrop', 'waterfall', 'every', 'tear', 'every', 'tear', 'every', 'teardrop', 'waterfall', 'oooo', 'wooo', 'stole', 'key', 'took', 'car', 'downtown', 'lost', 'boys', 'meet', 'took', 'car', 'downtown', 'took', 'offered', 'set', 'free', 'saw', 'lights', 'go', 'end', 'scene', 'saw', 'lights', 'go', 'standing', 'front', 'hook', 'oooooooooo', 'scarecrow', 'dreams', 'smash', 'heart', 'smithereens', 'bright', 'red', 'rose', 'come', 'bursting', 'concrete', 'cartoon', 'heart', 'light', 'fire', 'fire', 'spark', 'light', 'fire', 'flame', 'heart', 'well', 'run', 'wild', 'well', 'glowing', 'dark', 'hook', 'oooooooooo', 'well', 'glowing', 'dark', 'awooawooooo', 'boys', 'girls', 'matters', 'world', 'boys', 'girls', 'madness', 'occurs', 'highs', 'lows', 'room', 'aspinning', 'goes', 'well', 'run', 'riot', 'well', 'glowing', 'dark', 'hook', 'oooooooooo', 'well', 'soar', 'luminous', 'wired', 'well', 'glowing', 'dark', 'know', 'says', 'know', 'falls', 'water', 'face', 'know', 'ocean', 'awaits', 'storm', 'sun', 'snow', 'rivers', 'rain', 'crystal', 'ball', 'foresee', 'change', 'know', 'parting', 'ways', 'done', 'pre', 'fun', 'say', 'waste', 'fun', 'ohooohooh', 'top', 'world', 'top', 'waves', 'said', 'forever', 'forever', 'always', 'could', 'lost', 'would', 'saved', 'oh', \"we're\", 'stopping', 'world', 'stopping', 'spin', 'come', 'give', 'say', 'give', 'say', 'say', \"we're\", 'done', 'oh', 'fun', 'woooohoohooh', 'woooohoohooh', 'oh', 'fun', 'tove', 'lo', 'know', 'says', 'know', 'someone', 'else', 'taken', 'place', 'know', 'icarus', 'says', 'sun', 'sword', 'sinks', 'lightning', 'strikes', 'two', 'force', 'two', 'forces', 'collide', 'fight', 'til', 'fight', 'til', 'done', 'ahahah', 'pre', 'tove', 'lo', 'fun', 'say', 'waste', 'fun', 'ohooohooh', 'tove', 'lo', 'top', 'world', 'top', 'waves', 'said', 'forever', 'forever', 'always', 'could', 'lost', 'would', 'saved', 'oh', \"we're\", 'stopping', 'world', 'stopped', 'tracks', \"nothing's\", 'broken', 'find', 'way', 'back', 'run', 'ah', 'fun', 'tove', 'lo', \"'cause\", 'always', 'meant', 'always', 'meant', 'always', 'meant', 'always', 'meant', 'always', 'meant', 'always', 'meant', 'tove', 'lo', 'ohohohoh', 'ohohohoh', 'oh', 'fun', 'ohohohoh', 'ohohohoh', 'oh', 'fun', 'tove', 'lo', 'maybe', 'could', 'long', 'get', 'starts', 'begin', 'long', 'decide', 'know', 'feels', 'like', 'go', 'never', 'try', 'never', 'know', 'long', 'climb', 'side', 'mountain', 'mine', 'look', 'look', 'night', 'planets', 'moving', 'speed', 'light', 'climb', 'trees', 'every', 'chance', 'get', 'chance', 'seize', 'long', 'gonna', 'stand', 'head', 'stuck', 'sand', \"i'll\", 'start', 'stop', 'see', 'things', 'right', 'way', 'hook', 'noise', 'sound', 'places', 'got', 'found', 'birds', 'go', 'flying', 'speed', 'sound', 'show', 'began', 'birds', 'came', 'flying', 'underground', 'could', 'see', 'understand', 'ideas', 'never', 'find', 'inventors', 'could', 'never', 'design', 'buildings', 'put', 'japan', 'china', 'lit', 'sign', 'read', 'light', 'see', 'things', 'believe', 'others', 'puzzles', 'puzzling', 'hook', 'noise', 'sound', 'places', 'got', 'found', 'birds', 'go', 'flying', 'speed', 'sound', 'show', 'began', 'birds', 'came', 'flying', 'underground', 'could', 'see', 'understand', 'ah', 'see', 'understand', 'signs', 'knew', 'meant', 'things', 'invent', 'get', 'made', 'get', 'sent', 'hook', 'birds', 'go', 'flying', 'speed', 'sound', 'show', 'began', 'birds', 'came', 'flying', 'underground', 'could', 'see', 'understand', 'ah', 'see', 'understand', 'sat', 'roof', 'named', 'every', 'star', 'shared', 'every', 'bruise', 'showed', 'every', 'scar', 'hope', 'proof', 'put', 'hand', 'mine', 'life', 'beautiful', 'crazy', 'design', 'time', 'seemed', 'say', 'forget', 'world', 'weight', 'wanna', 'stay', 'amazing', 'day', 'amazing', 'day', 'sat', 'roof', 'named', 'every', 'star', 'showed', 'place', 'view', 'whole', 'milky', 'way', 'eyes', 'drifted', 'away', 'arms', 'wanna', 'sway', 'amazing', 'day', 'amazing', 'day', 'amazing', 'day', 'amazing', 'day', 'ohohohoh', 'ohohohoh', 'ohohohoh', 'ohohohoh', 'ohohohoh', 'ohohohoh', 'ohohohoh', 'oooh', 'asked', 'birds', 'poetry', 'chime', 'breaks', 'chaos', 'sometimes', 'oh', 'thanks', 'god', 'mustve', 'heard', 'prayed', 'cause', 'always', 'want', 'feel', 'way', 'amazing', 'day', 'amazing', 'day', 'amazing', 'day', 'amazing', 'day', 'yeah', 'today', 'ambience', 'oh', 'think', 'landed', 'world', 'seen', \"i'm\", 'feeling', 'ordinary', 'know', 'mean', 'oh', 'think', 'landed', 'miracles', 'work', 'thirst', 'hunger', 'come', 'conference', 'birds', 'saying', 'true', 'seems', 'leave', 'broken', 'windows', 'open', 'light', 'streams', 'get', 'head', 'head', 'full', 'dreams', 'see', 'change', 'wanted', 'want', 'get', 'head', 'head', 'full', 'dreams', 'life', 'ive', 'spoken', 'head', 'full', 'head', 'full', 'dreams', 'oh', 'think', 'landed', 'miracles', 'work', 'got', 'openhanded', 'got', 'lost', 'words', 'sing', 'ohohoh', 'head', 'full', 'dreams', 'head', 'full', 'dreams', 'life', 'ive', 'woken', 'head', 'full', 'head', 'full', 'dreams', 'christmas', 'night', 'another', 'fight', 'tears', 'cried', 'flood', 'got', 'kinds', 'poison', 'poison', 'blood', 'took', 'feet', 'oxford', 'street', 'tryna', 'right', 'wrong', 'walk', 'away', 'windows', 'say', \"can't\", 'believe', 'gone', 'refrain', 'still', 'waiting', 'snow', 'fall', 'really', 'feel', 'like', 'christmas', 'candles', 'air', 'flicker', 'oh', 'flicker', 'float', \"i'm\", 'holding', 'chandeliers', 'hope', 'like', 'drunken', 'elvis', 'singing', 'go', 'singing', 'tune', 'saying', 'always', 'loved', 'darling', 'always', 'refrain', 'oh', 'still', 'waiting', 'snow', 'fall', 'really', 'feel', 'like', 'christmas', 'still', 'waiting', 'snow', 'fall', 'really', 'feel', 'like', 'christmas', 'christmas', 'lights', 'light', 'street', 'sea', 'city', 'meet', 'may', 'troubles', 'soon', 'gone', 'oh', 'christmas', 'lights', 'keep', 'shining', 'christmas', 'lights', 'light', 'street', 'maybe', \"they'll\", 'bring', 'back', 'troubles', 'gone', 'oh', 'christmas', 'lights', 'keep', 'shining', 'ohohohoh', 'ohohohoh', 'oh', 'christmas', 'lights', 'light', 'street', 'light', 'fireworks', 'may', 'troubles', 'soon', 'gone', 'christmas', 'lights', 'keep', 'shining', 'warning', 'sign', 'missed', 'good', 'part', 'realized', 'started', 'looking', 'bubble', 'burst', 'started', 'looking', 'excuses', 'pre', 'come', \"i've\", 'gotta', 'tell', 'state', \"i'm\", \"i've\", 'gotta', 'tell', 'loudest', 'tones', 'started', 'looking', 'warning', 'sign', 'truth', 'miss', 'yeah', 'truth', 'miss', 'warning', 'sign', 'came', 'back', 'haunt', 'realized', 'island', 'passed', 'island', 'discover', 'pre', 'come', \"i've\", 'gotta', 'tell', 'state', \"i'm\", \"i've\", 'gotta', 'tell', 'loudest', 'tones', 'started', 'looking', 'warning', 'sign', 'truth', 'miss', 'yeah', 'truth', 'miss', \"i'm\", 'tired', 'let', 'go', 'crawl', 'back', 'open', 'arms', 'yes', 'crawl', 'back', 'open', 'arms', 'crawl', 'back', 'open', 'arms', 'yes', 'crawl', 'back', 'open', 'arms', 'come', 'oh', 'star', 'fading', 'swerve', 'control', \"i'd\", 'waited', \"i'd\", 'stuck', 'hole', 'come', 'oh', 'star', 'fading', 'swerve', 'control', 'swear', 'waited', 'waited', \"i've\", 'got', 'get', 'hole', 'time', 'side', 'side', 'pushing', 'around', 'cause', 'concern', 'come', 'oh', 'star', 'fading', 'see', 'chance', 'release', 'know', \"i'm\", 'dead', 'surface', 'screaming', 'underneath', 'time', 'side', 'side', 'pushing', 'around', 'cause', 'concern', 'stuck', 'end', 'ball', 'chain', \"i'm\", 'way', 'back', 'stood', 'tied', 'noose', 'sick', 'stomach', 'say', 'mean', 'change', 'thing', \"i'm\", 'sick', 'secrets', 'stood', 'edge', 'tied', 'noose', 'came', 'along', 'cut', 'loose', 'came', 'along', 'cut', 'loose', 'came', 'along', 'cut', 'loose', 'jacob', 'collier', 'cry', 'cry', 'cry', 'baby', 'cry', 'cry', 'cry', 'jacob', 'collier', 'book', 'world', 'called', 'luminous', 'things', 'are\\u2005trees\\u2005and', 'flowers', 'glowing', 'while\\u2005jizo', 'bodhisattva', 'sings', 'jacob', 'collier', 'cry', 'cry\\u2005cry', 'baby', 'cry', 'cry', 'cry', 'cry', 'cry', 'cry', 'baby', \"i'll\", 'side', 'jacob', 'collier', 'dumdumdum', 'want', 'us', 'hurt', 'dumdumdum', 'cause', 'pain', 'dumdumdum', 'dumdumdum', 'dumdumdum', 'want', 'fear', 'know', 'dumdumdum', 'dumdumdum', 'dumdumdum', 'dumdumdum', \"we're\", 'together', 'baby', 'dumdumdum', \"we're\", 'singing', 'rain', 'dumdumdum', 'dumdumdum', \"i'll\", 'never', 'ever', 'ever', 'let', 'go', 'dumdumdum', 'jacob', 'collier', 'cry', 'cry', 'cry', 'baby', 'cry', 'cry', 'cry', 'cry', 'cry', 'cry', 'baby', \"i'll\", 'side', 'oh', 'yeah', 'yeah', 'oh', 'yeah', 'yeah', 'jacob', 'collier', 'miracles', 'outnumber', 'stars', 'sky', \"i'm\", 'losing', 'mean', \"i'm\", 'lost', 'mean', \"i'll\", 'stop', 'mean', \"i'm\", 'across', \"i'm\", 'hurting', 'mean', \"i'm\", 'hurt', 'mean', 'get', 'deserved', 'better', 'worse', 'got', 'lost', 'every', 'river', 'tried', 'cross', 'every', 'door', 'ever', 'tried', 'locked', 'oh', \"i'm\", 'waiting', 'till', 'shine', 'wears', 'might', 'big', 'fish', 'little', 'pond', 'mean', 'cause', 'along', 'may', 'come', 'bigger', 'one', 'lost', 'every', 'river', 'tried', 'cross', 'every', 'gun', 'ever', 'held', 'went', 'oh', \"i'm\", 'waiting', 'till', 'firing', 'stopped', 'oh', \"i'm\", 'waiting', 'till', 'shine', 'wears', 'oh', \"i'm\", 'waiting', 'till', 'shine', 'wears', 'oh', \"i'm\", 'waiting', 'till', 'shine', 'wears', 'oh', \"i'm\", 'waiting', 'till', 'shine', 'wears', 'oh', \"i'm\", 'waiting', 'till', 'shine', 'wears', 'dr', 'shahrzad', 'sherry', 'sami', 'بنی', 'آدم', 'اعضای', 'یکدیگرند', 'که', 'در', 'آفرینش', 'ز', 'یک', 'گوهرند', 'چو', 'عضوی', 'بدرد', 'آورد', 'روزگار', 'دگر', 'عضوها', 'را\\u2005نماند\\u2005قرار', 'تو', 'کز', 'محنت\\u2005دیگران', 'بیغمی', 'نشاید', 'که', 'نامت', 'نهند', 'آدمی', 'sample', 'sun', 'john', 'alice', 'coltrane', 'may\\u2005there', 'peace', 'love', 'perfection', 'throughout', 'creation', 'god', 'may', 'peace', 'love', 'perfection', 'throughout', 'creation', 'god', 'sample', \"'otuto\", 'nke', \"chukwu'\", 'gi', 'nwa', 'nke', 'chukwu', 'gini', 'ka', 'ina', 'ekwu', \"n'ihi\", 'ihe', 'nile', 'nke', 'chukwu', 'mere', 'lose', 'home', 'diamonds', 'ate', 'radio', 'moving', 'dead', 'night', 'took', 'photographs', 'history', 'know', 'moving', 'speed', 'flight', 'pre', 'kids', 'cry', 'want', \"that's\", 'alright', 'want', 'hold', 'hold', 'tight', 'alien', 'hovering', 'without', 'home', 'millions', 'ufo', 'hovering', 'hope', 'scope', 'tonight', 'sees', 'light', 'says', 'pre', 'fly', 'want', \"that's\", 'alright', 'want', 'call', 'call', 'line', 'alien', 'alien', 'oh', 'want', 'get', 'home', 'tell', 'leader', 'sir', \"ma'am\", 'come', 'peace', 'mean', 'harm', 'somewhere', 'unknown', \"et's\", 'phoning', 'home', 'watching', 'life', 'skyline', 'crossing', 'eyes', 'lifetime', 'alien', 'moving', 'target', 'target', 'movement', 'oh', 'want', 'get', 'home', 'patch', 'corner', 'spacetime', 'alien', 'turning', 'toward', 'turning', 'pages', 'asia', 'crossing', 'ages', 'alien', 'oh', 'angel', 'sent', 'know', 'make', 'world', 'light', 'hurt', 'came', 'lift', 'life', 'drink', \"love's\", 'drug', 'oh', 'think', 'must', 'miles', 'river', 'dried', 'came', 'rain', 'flood', 'beyoncé', 'ohiohiohi', 'got', 'feeling', 'drunk', 'high', 'high', 'high', 'ohiohiohi', 'im', 'feeling', 'drunk', 'high', 'high', 'high', 'feeling', 'drunk', 'high', 'feeling', 'drunk', 'high', 'high', 'oh', 'angel', 'sent', 'feel', 'coursing', 'blood', 'life', 'drink', \"love's\", 'make', 'stars', 'come', 'beyoncé', 'ohiohiohi', 'got', 'feeling', 'drunk', 'high', 'high', 'high', 'ohiohiohi', 'im', 'feeling', 'drunk', 'high', 'high', 'high', 'feeling', 'drunk', 'high', 'feeling', 'drunk', 'high', 'high', 'beyoncé', 'shoot', 'across', 'sky', 'shoot', 'across', 'shoot', 'across', 'sky', 'shoot', 'across', 'shoot', 'across', 'sky', 'shoot', 'across', 'shoot', 'across', 'sky', 'shoot', 'across', 'oh', 'brother', \"can't\", \"can't\", 'get', \"i've\", 'trying', 'hard', 'reach', 'cause', 'know', 'oh', 'brother', \"can't\", 'believe', 'true', \"i'm\", 'scared', 'future', 'wanna', 'talk', 'oh', 'wanna', 'talk', 'could', 'take', 'picture', 'something', 'see', 'future', 'could', 'climb', 'ladder', 'sun', 'write', 'song', 'nobody', 'sung', 'something', \"that's\", 'never', 'done', 'lost', 'incomplete', 'feel', 'like', 'puzzle', \"can't\", 'find', 'missing', 'piece', 'tell', 'feel', 'well', 'feel', 'like', \"they're\", 'talking', 'language', 'speak', \"they're\", 'talking', 'take', 'picture', 'something', 'see', 'future', 'could', 'climb', 'ladder', 'sun', 'write', 'song', 'nobody', 'sung', 'something', \"that's\", 'never', 'done', 'something', \"that's\", 'never', 'done', 'know', 'going', 'wanna', 'talk', 'feel', 'like', 'going', 'tell', 'anyone', \"who'll\", 'listen', 'feel', 'ignored', \"nothing's\", 'really', 'making', 'sense', \"let's\", 'talk', \"let's\", 'talk', \"let's\", 'talk', \"let's\", 'talk', 'around', 'world', 'wonders', 'view', 'around', 'world', 'looking', 'someone', 'like', 'pyramids', 'try', 'babylon', 'beautifullest', 'treasures', 'lie', 'deepest', 'blue', 'never', 'say', 'die', 'aim', 'never', 'untrue', \"i'm\", 'never', 'high', \"i'm\", 'fire', 'walk', 'army', 'one', 'gonna', 'fight', 'around', 'world', 'unitoo', \"i've\", 'around', 'flying', 'baby', \"there's\", 'nothing', 'tanzaku', 'stars', 'lasso', 'moon', 'standing', 'beside', 'right', 'storm', 'comes', 'cause', 'never', 'say', 'die', 'aim', 'never', 'untrue', 'never', 'high', \"i'm\", 'fire', 'walk', 'army', 'one', 'gonna', 'fight', 'army', 'one', 'gonna', 'fall', 'yeah', 'cause', 'reign', 'cause', 'reign', 'cause', 'reign', 'army', 'one', 'gonna', 'call', 'saying', 'heart', 'gun', 'army', 'one', 'yeah', 'heart', 'gun', 'army', 'one', 'weapon', 'army', 'one', 'saying', 'heart', 'gun', 'army', 'one', 'go', 'nobody', 'knows', \"i've\", 'got', 'say', \"i'm\", 'way', 'god', 'give', 'style', 'give', 'grace', 'god', 'put', 'smile', 'upon', 'face', 'go', 'draw', 'line', \"i've\", 'got', 'say', 'wasted', 'time', 'oh', 'honey', 'honey', 'go', 'fall', 'grace', 'god', 'put', 'smile', 'upon', 'face', 'yeah', 'ah', 'work', \"i'm\", 'worse', 'yeah', 'work', 'wanted', 'ah', 'work', 'draw', 'line', 'guess', 'good', 'mine', 'go', 'nobody', 'knows', 'ever', 'say', 'way', 'god', 'gave', 'style', 'gave', 'grace', 'put', 'smile', 'upon', 'face', 'oh', 'yeah', 'ah', 'work', \"i'm\", 'worse', 'yeah', 'work', 'wanted', 'ah', 'work', 'draw', 'line', 'guess', 'good', 'mine', 'good', 'mine', 'good', 'mine', 'good', 'mine', 'na', 'nana', 'nana', 'nummana', 'nana', 'good', 'mine', 'good', 'mine', 'good', 'mine', 'good', 'mine', 'good', 'mine', 'good', 'mine', 'good', 'mine', 'go', 'nobody', 'knows', 'ever', 'say', 'way', 'god', 'gave', 'style', 'gave', 'grace', 'put', 'smile', 'upon', 'face', 'look', 'earth', 'outer', 'space', 'everyone', 'must', 'find', 'place', 'give', 'time', 'give', 'space', 'give', 'real', 'give', 'fake', 'give', 'strength', 'reserve', 'control', 'give', 'heart', 'give', 'soul', 'give', 'time', 'give', 'us', 'kiss', 'tell', 'politik', 'open', 'eyes', 'open', 'eyes', 'open', 'eyes', 'open', 'eyes', 'give', 'one', \"'cause\", 'one', 'best', 'confusion', 'confidence', 'give', 'peace', 'mind', 'trust', 'forget', 'rest', 'us', 'give', 'strength', 'reserve', 'control', 'give', 'heart', 'give', 'soul', 'wounds', 'heal', 'cracks', 'fix', 'tell', 'politik', 'open', 'eyes', 'open', 'eyes', 'open', 'eyes', 'open', 'eyes', 'post', 'open', 'eyes', 'give', 'love', 'love', 'love', 'give', 'love', 'love', 'love', \"i'm\", 'losing', 'mean', \"i'm\", 'lost', 'mean', \"i'll\", 'stop', 'mean', \"i'm\", 'across', \"i'm\", 'hurting', 'mean', \"i'm\", 'hurt', 'mean', 'get', 'deserved', 'better', 'worse', 'got', 'lost', 'every', 'river', 'tried', 'cross', 'every', 'door', 'ever', 'tried', 'locked', 'oh', \"i'm\", 'waiting', \"'til\", 'shine', 'wears', 'might', 'big', 'fish', 'little', 'pond', 'mean', \"'cause\", 'along', 'may', 'come', 'bigger', 'one', 'jayz', 'lost', 'every', 'river', 'tried', 'cross', 'every', 'gun', 'ever', 'held', 'went', 'oh', \"i'm\", 'waiting', \"'til\", 'firing', 'stopped', 'oh', \"i'm\", 'waiting', \"'til\", 'shine', 'wears', 'geah', 'waiting', \"'til\", 'yeah', 'uhhuh', 'gotcha', 'uh', 'jayz', 'sword', 'knight', \"gon'\", 'goodnight', 'shit', \"that's\", 'half', 'like', \"ain't\", 'even', 'half', 'might', 'believe', 'ask', 'michael', 'see', 'martin', 'see', 'malcolm', 'see', 'biggie', 'see', 'pac', 'see', 'success', 'outcome', 'see', 'jesus', 'see', 'judas', 'see', 'caesar', 'see', 'brutus', 'see', 'success', 'like', 'suicide', 'suicide', 'suicide', 'succeed', 'prepare', 'crucified', 'media', 'meddles', 'niggas', 'sue', 'settle', 'every', 'step', 'take', 'remind', 'ghetto', 'tough', 'bobby', 'brown', 'bobby', 'bobby', 'question', 'lost', 'better', \"i'm\", 'oh', \"i'm\", 'waiting', \"'til\", 'shine', 'wears', 'oh', \"i'm\", 'waiting', \"'til\", 'shine', 'wears', 'late', 'night', 'watching', 'tv', 'used', 'beside', 'used', 'arms', 'around', 'body', 'body', 'world', 'means', 'nothing', \"another's\", 'arms', \"another's\", 'arms', 'pain', 'rips', 'right', \"another's\", 'arms', \"another's\", 'arms', 'late', 'night', 'watching', 'tv', 'used', 'beside', 'someone', 'reach', 'someone', 'find', 'pain', 'rips', 'right', \"another's\", 'arms', \"another's\", 'arms', \"that's\", 'torture', \"another's\", 'arms', \"another's\", 'arms', 'pull', \"another's\", 'arms', \"another's\", 'arms', 'world', 'means', 'nothing', \"another's\", 'arms', \"another's\", 'arms', 'break', 'got', 'pull', 'close', \"another's\", 'arms', \"another's\", 'arms', 'pull', 'right', \"another's\", 'arms', \"another's\", 'arms', 'late', 'night', 'watching', 'tv', 'wish', 'beside', 'wish', 'arms', 'around', 'body', 'body', 'standing', 'corner', 'studying', 'lights', 'dreaming', 'escape', 'keep', 'night', 'someone', 'put', 'flares', 'got', 'rays', 'guess', 'id', 'better', 'stay', 'uh', 'uh', 'come', 'say', 'refrain', 'fools', 'gold', 'thunder', 'warring', 'rain', 'let', 'fears', 'start', \"'what\", 'wont', 'see', 'around', 'never', 'want', 'sleep', 'night', 'start', 'falling', 'love', 'start', 'riot', 'come', 'rage', 'dont', 'need', 'words', 'well', 'birds', 'got', 'make', 'key', 'got', 'moment', 'guilty', 'nothing', 'geography', 'refrain', 'come', 'raise', 'come', 'raise', 'noise', 'million', 'people', 'got', 'one', 'voice', 'come', 'mean', 'say', 'loud', 'come', 'love', 'underground', 'away', 'dont', 'need', 'words', 'close', 'eyes', 'see', \"we'll\", 'birds', 'flying', 'free', 'holding', 'mystery', 'fearless', 'fearless', 'fearless', 'oh', 'oh', 'oh', 'oh', 'oh', 'oh', 'oh', 'oh', 'oh', 'fearless', 'together', 'said', 'well', 'go', 'together', 'fly', 'wont', 'wont', 'take', 'world', 'cruel', 'think', 'youre', 'cool', 'trying', 'hard', 'speak', 'fighting', 'weak', 'hand', 'driven', 'distraction', 'part', 'plan', 'something', 'broken', 'try', 'fix', 'trying', 'repair', 'anyway', 'dive', 'deep', 'end', 'become', 'best', 'friend', 'wanna', 'love', 'know', 'know', 'something', 'broken', \"i'm\", 'trying', 'fix', 'trying', 'repair', 'anyway', 'ooh', 'ooh', 'ooh', 'ooh', 'ooh', 'ooh', 'floating', 'tidal', 'wave', 'together', 'drifting', 'outer', 'space', 'singing', 'ooh', 'ooh', 'ooh', 'ooh', 'ooh', 'ooh', 'floating', 'tidal', 'wave', 'together', 'drifting', 'outer', 'space', 'floating', 'tidal', 'wave', 'together', 'drifting', 'outer', 'space', 'singing', 'ooh', 'ooh', 'ooh', 'ooh', 'ooh', 'ooh', 'hmmhmm', 'hmmhmm', 'hmmhmm', 'hmmoh', 'hmmhmm', 'hmmhmm', 'hmmhmm', 'choir', 'lord', \"i'm\", 'broken', \"i'm\", 'broken', \"i'm\", 'need', \"i'm\", 'in\\u2005need', 'feel\\u2005that', 'ocean', 'feel\\u2005that', 'ocean', 'swallowing', 'swallowing', 'head', 'is\\u2005hanging', 'head', 'hanging', 'sorrowfully', 'sorrowfully', 'oh', 'lord', 'oohooh', 'come', 'shine', 'light', 'shine', 'light', 'choir', 'morning', 'morning', 'scared', 'blue', 'scared', 'blue', \"i'm\", 'hungry', \"i'm\", 'hungry', 'thirsty', 'thirsty', 'send', 'raindrop', 'send', 'raindrop', 'sea', 'sea', 'oh', 'lord', 'oohooh', 'come', 'shine', 'light', 'shine', 'light', 'choir', 'oh', 'shine', 'light', 'oh', 'shine', 'light', 'oh', 'shine', 'light', 'oh', 'shine', 'light', 'know', 'oohooh', 'darkness', \"i'm\", 'alright', \"i'm\", 'alright', 'see', \"there's\", 'sun', 'rising', 'oohooh', 'inside', \"i'm\", 'free', 'oohooh', \"'cause\", 'lord', 'shine', 'light', 'shine', 'light', 'oh', 'lord', 'shine', 'light', 'shine', 'light', 'sing', 'hmmhmm', 'hmmhmm', 'hmmhmm', 'hmmoh', 'hmmhmm', 'hmmhmm', 'hmmhmm', 'hmmoh', 'hmmhmm', 'hmmhmm', 'hmmhmm', 'hmmoh', 'hmmhmm', 'hmmhmm', 'hmmhmm', 'hmmhmmhmmhmm', 'winter', 'got', 'carried', 'away', 'rooftops', \"let's\", 'get', 'married', 'summer', 'hurried', 'come', 'patient', 'worry', 'come', 'patient', 'worry', 'come', 'patient', 'worry', 'worry', 'want', 'battle', 'beginning', 'end', 'want', 'cycle', 'recycled', 'revenge', 'wanna', 'follow', 'death', 'friends', 'want', 'battle', 'beginning', 'end', 'want', 'cycle', 'recycled', 'revenge', 'wanna', 'follow', 'death', 'friends', 'one', 'two', 'steal', 'heart', 'hold', 'tongue', 'feel', 'time', 'time', 'come', 'let', 'unlock', 'door', \"i've\", 'never', 'felt', 'way', 'wheels', 'keep', 'turning', 'drummer', 'begins', 'drum', 'know', 'way', \"i'm\", 'going', 'know', 'way', \"i've\", 'come', 'hold', 'head', 'inside', 'hands', 'need', 'someone', 'understands', 'need', 'someone', 'someone', 'hears', \"i've\", 'waited', 'years', 'hook', \"i'd\", 'wait', \"'til\", 'kingdom', 'come', 'day', 'day', 'done', 'say', 'come', 'set', 'free', 'say', 'wait', 'wait', 'tears', 'blood', 'fire', 'flood', 'hear', 'laugh', 'heard', 'sing', 'change', 'single', 'thing', 'wheels', 'keep', 'turning', 'drummers', 'begin', 'drum', 'know', 'way', \"i'm\", 'going', 'know', \"i've\", 'become', 'hook', \"i'd\", 'wait', \"'til\", 'kingdom', 'come', 'day', 'day', 'done', 'say', 'come', 'set', 'free', 'say', 'wait', 'wait', 'say', 'wait', 'wait', 'wait', 'call', 'love', 'call', 'never', 'came', 'ready', 'fall', 'ready', 'claim', \"i'm\", 'ready', 'love', 'ready', 'pain', 'meet', 'sun', 'meet', 'rain', 'rain', 'rain', 'rain', 'behind', 'walls', 'love', \"i'm\", 'trying', 'change', \"i'm\", 'ready', 'love', \"i'm\", 'ready', 'change', 'meet', 'blue', 'sky', 'meet', 'rain', 'rain', 'rain', 'rain', 'rain', 'got', 'find', 'alone', 'world', 'find', 'alone', 'game', \"i'm\", 'rastafarian', 'targaryen', 'got', 'dragons', \"they're\", 'scary', \"i've\", 'everywhere', 'rastafarian', 'targa', 'call', 'daenerys', 'targaryen', 'wanna', 'reach', 'feel', 'love', 'call', 'khaleesi', 'got', 'many', 'names', \"i'm\", 'queen', 'andals', 'queen', 'meereen', 'yeah', 'kiss', \"m'\", 'sandals', 'haze', 'stormy', 'haze', \"i'll\", 'round', \"i'll\", 'loving', 'always', 'always', \"i'll\", 'take', 'time', \"i'll\", 'wait', 'line', 'always', 'always', 'duction', 'written', 'graffiti', 'park', 'ever', 'get', 'feeling', 'youre', 'missing', 'mark', 'cold', 'cold', 'cold', 'cold', 'written', 'marker', 'factory', 'sign', 'struggle', 'feeling', 'life', 'isnt', 'mine', 'cold', 'cold', 'cold', 'cold', 'see', 'arrow', 'shot', 'trying', 'tear', 'us', 'apart', 'take', 'fire', 'belly', 'beat', 'heart', 'still', 'wont', 'let', 'go', 'still', 'wont', 'let', 'go', \"'cause\", 'hook', 'oh', 'use', 'heart', 'weapon', 'hurts', 'like', 'heaven', 'every', 'street', 'every', 'car', 'every', 'surface', 'name', 'tonight', 'streets', 'writing', 'saying', 'dont', 'let', \"'em\", 'take', 'control', 'wont', 'let', \"'em\", 'take', 'control', 'yes', 'feel', 'little', 'bit', 'nervous', 'yes', 'feel', 'nervous', 'cannot', 'relax', 'come', 'theyre', 'get', 'us', 'come', 'theyre', 'dont', 'know', 'facts', 'concrete', 'canvas', 'cover', 'dark', 'concrete', 'canvas', 'ill', 'go', 'making', 'mark', 'armed', 'spraycan', 'soul', 'ill', 'armed', 'spraycan', 'soul', 'oh', 'hook', \"'cause\", 'use', 'heart', 'weapon', 'hurts', 'like', 'heaven', 'yeah', 'true', 'use', 'heart', 'weapon', 'hurts', 'like', 'heaven', 'oh', 'hurts', 'like', 'heaven', 'ahhmm', 'joseph', 'rode', 'beam', 'light', 'stray', 'dogs', 'welcome', 'fights', 'corrugate', 'cathedrals', 'the\\u2005sight\\u2005of', 'pilgrims\\u2005going', 'nowhere', 'millions', 'cars', 'lagos\\u2005a', 'dream', 'distance', 'promises', \"he'd\", 'made', 'behind', 'harvest', 'missed', 'sky', 'circus', 'countless', 'stars', 'africa', 'rivers', 'perfectly', 'deep', 'beautifully', 'wide', 'africa', 'mothers', 'sing', 'sleep', 'say', 'alright', 'child', 'alright', 'yeah', 'ahhmm', 'ahhmm', 'tiwa', 'savage', 'africa', 'dance', 'water', 'hold', 'tight', 'africa', 'mothers', 'sing', 'sleep', 'say', 'alright', 'child', 'alright', 'joseph', 'rode', 'beam', 'light', 'dreamed', 'queen', 'side', \"there'll\", 'beautiful', 'sunset', 'beautiful', 'bride', 'saw', 'sun', 'saw', 'smoke', 'heard', 'gun', 'bent', 'bow', 'sometimes', 'wire', 'must', 'tense', 'note', 'caught', 'fire', 'say', 'oh', \"we're\", 'explode', 'carry', 'world', \"i'll\", 'carry', 'world', 'carry', 'world', \"i'll\", 'carry', 'world', 'far', 'away', 'search', 'gold', 'dragon', 'slay', 'heaven', 'hope', 'road', 'show', 'way', 'lord', \"'cause\", \"i'm\", 'explode', 'carry', 'world', \"i'll\", 'carry', 'world', 'carry', 'world', \"i'll\", 'carry', 'world', 'carry', 'world', 'hurt', 'carry', 'world', 'wanna', 'live', 'life', 'never', 'cruel', 'wanna', 'live', 'life', 'good', 'wanna', 'fly', 'never', 'come', 'live', 'life', 'friends', 'around', 'never', 'change', 'never', 'learn', 'wanna', 'live', 'wooden', 'house', 'wanna', 'live', 'life', 'always', 'true', 'wanna', 'live', 'life', 'good', 'wanna', 'fly', 'never', 'come', 'live', 'life', 'friends', 'around', 'never', 'change', 'never', 'learn', 'wanna', 'live', 'wooden', 'house', 'making', 'friends', 'would', 'easy', 'oh', 'soul', 'save', 'yes', 'sin', 'every', 'single', 'day', 'never', 'change', 'never', 'learn', 'wanna', 'live', 'wooden', 'house', 'making', 'friends', 'would', 'easy', 'wanna', 'live', 'sun', 'comes', 'tony', 'friend', 'mine', 'together', 'time', 'back', 'he\\u2005really\\u2005saved', 'life', 'pre', 'sometimes\\u2005i', 'wanna', 'call', 'say', 'hey', \"let's\\u2005stay\", \"'til\", 'morning', 'close', 'eyes', 'close', 'eyes', 'see', 'close', 'eyes', 'close', 'eyes', 'come', 'time', 'deepens', 'sweetens', 'mends', 'old', 'friends', 'melt', 'back', 'picture', 'raindrops', 'back', 'water', 'old', 'friends', 'hmm', 'hmm', 'ends', 'old', 'friends', 'amen', 'take', 'playgrounds', 'take', 'bums', 'take', 'hospitals\\u2005and\\u2005squeeze', 'from\\u2005the', 'slums', 'kids', 'make', 'pistols\\u2005with', 'fingers', 'thumbs', 'advertise', 'revolution', 'arm', 'comes', \"we're\", 'cooking', 'zeros', \"we've\", 'sums', 'judgment', 'court', 'need', 'guns', 'refrain', 'stop', \"everything's\", 'gone', 'crazy', 'everything', 'tangled', 'blue', \"everyone's\", 'gone', 'fucking', 'crazy', 'maybe', \"i'm\", 'crazy', 'melt', 'trumpets', 'trombones', 'drums', 'needs', 'education', 'thousand', 'splendid', 'suns', 'poor', 'good', 'business', 'cut', 'forests', \"they're\", 'dumb', 'save', 'lookalikes', 'fuck', 'ones', 'opinion', 'board', 'need', 'guns', 'refrain', 'stop', \"everything's\", 'gone', 'crazy', 'everybody', \"everything's\", 'gone', 'fucking', 'crazy', 'maybe', \"i'm\", 'crazy', 'baby', 'long', 'time', 'coming', 'long', 'long', 'time', \"can't\", 'stop', 'running', 'long', 'long', 'time', 'hear', 'heart', 'beating', 'hear', 'sound', \"'cause\", \"can't\", 'help', 'thinking', 'stop', 'looked', 'sun', 'could', 'see', 'oh', 'way', 'gravity', 'pulls', 'looked', 'sky', 'saw', 'sun', 'way', 'gravity', 'pushes', 'everyone', 'everyone', 'baby', 'wheels', 'stop', 'turning', 'feel', 'let', 'seems', 'like', 'troubles', 'come', 'around', 'hear', 'heart', 'beating', 'hear', 'sound', \"can't\", 'help', 'thinking', 'look', 'looked', 'sun', 'could', 'see', 'oh', 'way', 'gravity', 'pulls', 'looked', 'sky', 'saw', 'sun', 'way', 'gravity', 'pushes', 'everyone', 'everyone', 'everyone', 'everyone', 'everyone', 'everyone', 'break', 'coleman', 'barks', 'human', 'guest', 'house', 'every', 'morning', 'new', 'arrival', 'joy', 'depression', 'meanness', 'momentary', 'awareness', 'comes', 'unexpected', 'visitor', 'welcome', 'entertain', 'grateful', 'whoever', 'comes', 'sent', 'guide', 'light', 'nothing', 'wrong', 'nothing', 'right', 'time', 'reason', 'rhyme', 'decide', 'want', 'side', 'want', 'life', 'got', 'wrong', 'poem', 'song', 'could', 'put', 'right', 'got', 'wrong', 'make', 'feel', 'belong', 'decide', 'want', 'side', 'want', 'life', 'hook', 'oooooh', \"that's\", 'right', \"let's\", 'take', 'breath', 'jump', 'side', 'oooooh', \"that's\", 'right', 'know', 'even', 'try', 'oooooh', \"that's\", 'right', 'every', 'step', 'take', 'could', 'biggest', 'mistake', 'could', 'bend', 'could', 'break', \"that's\", 'risk', 'take', 'decide', 'want', 'life', 'want', 'side', 'hook', 'oooooh', \"that's\", 'right', \"let's\", 'take', 'breath', 'jump', 'side', 'oooooh', \"that's\", 'right', 'know', 'even', 'try', 'oooooh', \"that's\", 'right', 'oh', 'oooooh', \"that's\", 'right', \"let's\", 'take', 'breath', 'jump', 'side', 'oooooh', \"that's\", 'right', 'know', 'darkness', 'always', 'turns', 'light', 'oooooh', \"that's\", 'right', 'awake', 'find', 'peace', 'mind', 'said', 'live', 'fugitive', 'cannot', 'see', 'clear', 'said', 'know', 'show', 'right', 'way', 'go', 'spies', 'came', 'water', 'feeling', 'bad', \"'cause\", 'know', 'spies', 'hide', 'every', 'corner', \"can't\", 'touch', \"'cause\", \"they're\", 'spies', \"they're\", 'spies', 'awake', 'see', 'one', 'free', \"we're\", 'fugitives', 'look', 'way', 'live', 'cannot', 'sleep', 'fear', 'said', 'way', 'turn', 'oh', 'forget', 'everything', 'learn', 'spies', 'came', 'water', 'feeling', 'bad', \"'cause\", 'know', 'spies', 'hide', 'every', 'corner', \"can't\", 'touch', \"'cause\", \"they're\", 'spies', \"they're\", 'spies', 'hide', \"they're\", 'gonna', 'find', 'us', 'hide', \"they're\", 'gonna', 'catch', 'us', 'sleep', 'ah', 'hide', \"they're\", 'gonna', 'find', 'us', 'spies', 'came', 'water', 'feeling', 'good', \"'cause\", 'know', 'spies', 'hide', 'every', 'corner', 'cant', 'touch', \"'cause\", \"they're\", 'spies', \"they're\", 'spies', \"they're\", 'spies', \"they're\", 'spies', \"they're\", 'spies', 'dead', 'dead', \"they're\", 'living', 'head', 'since', 'fell', 'spell', 'living', 'well', 'oh', 'time', 'short', \"i'm\", 'sure', 'must', 'something', 'dead', 'dead', \"they're\", 'living', 'head', 'oh', 'since', 'fell', 'spell', 'living', 'well', 'oh', 'time', 'short', \"i'm\", 'sure', 'must', 'something', 'thought', 'might', 'ghost', 'thought', 'might', 'ghost', 'get', 'heaven', 'made', 'close', 'get', 'heaven', 'made', 'close', 'thought', 'might', 'ghost', 'thought', 'might', 'ghost', 'didnt', 'get', 'heaven', 'made', 'close', 'didnt', 'get', 'heaven', 'ohohooh', 'ohohooh', 'oh', 'oh', 'dead', 'dead', \"they're\", 'living', 'head', 'race', 'stare', 'darkness', 'staring', 'doom', 'heart', 'boom', 'bboom', 'boom', 'stare', 'darkness', 'admit', 'defeat', \"comin'\", 'home', \"i'm\", 'finding', 'peace', 'pre', 'know', 'know', 'know', 'know', \"i'm\", 'unlocked', 'know', 'know', 'know', 'know', 'got', 'put', 'hands', 'sky', 'feel', 'alive', 'got', 'rocket', 'ship', 'wanna', 'ride', 'put', 'hands', 'sky', \"that's\", 'alright', 'wherever', \"i'll\", 'find', 'treasure', 'race', 'wherever', \"i'll\", 'find', 'treasure', 'race', 'stare', 'darkness', 'staring', 'doom', 'make', 'heart', 'go', 'boom', 'bboom', 'boom', 'superhero', 'masterpiece', 'innocent', 'sinner', 'pre', 'know', 'know', 'know', 'know', \"i'm\", 'love', 'know', 'know', 'know', 'know', \"i'm\", 'lost', 'put', 'hands', 'sky', 'feeling', 'like', 'got', 'rocket', 'ship', 'wanna', 'ride', 'put', 'hands', 'sky', 'feeling', 'inside', 'wherever', \"i'll\", 'find', 'treasure', 'put', 'hands', 'sky', 'feeling', 'like', \"i've\", 'got', 'rocket', 'eyes', 'prize', 'put', 'hands', 'sky', \"i'm\", 'gonna', 'find', 'wherever', \"i'll\", 'find', 'treasure', 'race', 'wherever', \"i'll\", 'find', 'treasure', 'race', 'yeah', 'yeah', 'wherever', \"i'll\", 'find', 'treasure', 'race', 'know', 'know', 'know', 'know', \"i've\", 'got', 'race', 'x', 'marks', 'spot', 'put', 'hands', 'sky', 'feel', 'like', \"i've\", 'got', 'rocket', 'ship', 'wanna', 'ride', 'put', 'hands', 'sky', 'feel', 'inside', 'wherever', \"i'll\", 'find', 'treasure', 'put', 'hands', 'sky', 'feeling', 'like', 'yeah', 'yeah', 'got', 'rocket', 'eyes', 'prize', 'put', 'hands', 'sky', \"i'm\", 'gonna', 'find', 'wherever', \"i'll\", 'find', 'treasure', 'yeah', 'yeah', 'wherever', 'lovers', 'japan', 'lovers', 'keep', 'road', 'runners', 'race', 'run', 'soldiers', 'got', 'soldier', 'sometimes', 'even', 'right', 'wrong', 'turning', 'head', 'see', \"i'm\", 'keeping', 'head', 'see', 'feels', 'like', 'doubt', 'one', 'day', \"we're\", 'gonna', 'get', 'tonight', 'maybe', \"we're\", 'gonna', 'run', 'dreaming', 'osaka', 'sun', 'ooooh', 'ooooh', 'ooh', 'dreaming', 'morning', 'comes', 'turning', 'head', 'see', \"i'm\", 'keeping', 'head', 'see', 'feels', 'like', 'doubt', 'one', 'day', 'sun', 'come', 'reign', 'love', 'one', 'two', 'three', 'reign', 'love', \"can't\", 'let', 'go', 'sea', 'offer', 'heavy', 'load', 'locust', 'wind', 'lift', \"i'm\", 'prisoner', 'reign', 'love', 'locust', 'wind', 'stop', 'wish', \"i'd\", 'spoken', 'reign', 'love', 'reign', 'love', 'church', \"we're\", 'waiting', 'reign', 'love', 'knees', 'go', 'praying', 'wish', \"i'd\", 'spoken', 'away', 'get', 'carried', 'reign', 'love', 'cut', 'tree', 'brought', 'back', \"that's\", 'made', 'see', 'going', 'wrong', 'put', 'shelf', 'kept', 'blame', 'blame', 'could', 'write', 'song', 'hundred', 'miles', 'long', 'well', \"that's\", 'belong', 'belong', 'could', 'write', 'spread', 'around', 'get', 'lost', 'get', 'found', 'swallowed', 'sea', 'put', 'line', 'hung', 'dry', 'darling', \"that's\", 'decided', 'go', 'see', 'cut', 'size', 'opened', 'eyes', 'made', 'realize', 'could', 'see', 'could', 'write', 'book', 'one', \"they'll\", 'say', 'shook', 'world', 'took', 'took', 'back', 'could', 'write', 'spread', 'around', 'get', 'lost', 'get', 'found', 'come', 'back', 'swallowed', 'sea', 'ooh', 'ah', 'ooh', 'ah', 'could', 'write', 'song', 'hundred', 'miles', 'long', 'well', \"that's\", 'belong', 'belong', 'streets', 'walking', 'thousand', 'houses', 'long', 'well', \"that's\", 'belong', 'belong', 'breakdown', 'oh', 'good', 'live', 'nothing', 'left', 'give', 'forget', 'forgive', 'loving', 'see', 'streets', 'walking', 'thousand', 'houses', 'long', 'well', \"that's\", 'belong', 'belong', 'swallowed', 'sea', 'belong', 'swallowed', 'sea', 'yeah', 'belong', 'swallowed', 'sea', 'song', 'love', 'love', 'loveless', 'shown', 'goes', 'alone', 'heavy', 'heart', 'made', 'stone', 'hard', 'see', 'clearly', 'hook', \"i'm\", 'gonna', 'take', 'back', \"i'm\", 'gonna', 'say', 'mean', 'target', \"i'm\", 'aiming', 'get', 'message', 'home', 'song', 'love', 'song', 'love', 'unknown', \"i'm\", 'fire', 'clearly', 'alone', 'hook', \"i'm\", 'gonna', 'take', 'back', \"i'm\", 'gonna', 'say', 'mean', 'target', \"i'm\", 'aiming', \"i'm\", 'nothing', 'got', 'get', 'message', 'home', \"i'm\", 'gonna', 'stand', 'wait', \"i'm\", 'gonna', 'leave', 'much', 'late', 'platform', \"i'm\", 'gonna', 'stand', 'say', \"i'm\", 'nothing', 'love', 'please', 'come', 'home', 'song', 'love', 'love', 'unknown', \"i've\", 'got', 'get', 'message', 'home', 'hardest', 'part', 'letting', 'go', 'taking', 'part', 'hardest', 'part', 'strangest', 'thing', 'waiting', 'bell', 'ring', 'strangest', 'start', 'hook', 'could', 'feel', 'go', 'bittersweet', 'could', 'taste', 'mouth', 'silver', 'lining', 'clouds', 'oh', 'wish', 'could', 'work', 'hardest', 'part', 'letting', 'go', 'taking', 'part', 'really', 'broke', 'heart', 'oh', 'tried', 'sing', 'think', 'anything', 'hardest', 'part', 'oh', 'oh', 'hook', 'feel', 'go', 'left', 'sweetest', 'taste', 'mouth', 'silver', 'lining', 'clouds', 'oh', 'oh', 'wonder', 'wonder', 'everything', 'know', 'wrong', 'everything', 'comes', 'undone', 'everything', 'torn', 'apart', 'oh', \"that's\", 'hardest', 'part', \"that's\", 'hardest', 'part', 'yeah', \"that's\", 'hardest', 'part', \"that's\", 'hardest', 'part', 'oh', 'morning', 'come', 'bursting', 'clouds', 'amen', 'lift', 'blindfold', 'let', 'see', 'bring', 'back', 'water', 'let', 'ships', 'roll', 'heart', 'left', 'hole', 'tightrope', 'im', 'walking', 'sways', 'ties', 'devil', 'hes', 'talking', 'angels', 'eyes', 'want', 'lightning', 'strikes', 'saints', 'go', 'marching', 'sing', 'slow', 'chaos', 'swirls', 'us', 'world', 'like', 'river', 'raindrop', 'lost', 'friend', 'drunken', 'hazard', 'daniel', \"lion's\", 'den', 'tonight', 'know', 'begin', 'whatever', 'dont', 'let', 'go', 'could', 'float', 'away', 'fly', 'surface', 'start', 'lift', 'trouble', 'erodes', 'us', 'rain', 'erodes', 'us', 'rain', 'erodes', 'us', 'see', 'roses', 'rain', 'saying', 'slow', 'slow', 'chaos', 'swirls', 'us', 'world', 'chaos', 'swirls', 'us', 'world', 'talk', 'among', 'skeletons', 'morning', 'aside', 'medicine', 'health', 'could\\u2005do\\u2005it', 'again\\u2005would', 'the\\u2005same', 'something', 'tell', 'former', 'self', 'wished', \"they'd\", 'spun', 'upon', 'jukebox', 'pirates', 'never', 'seen', 'sea', 'one', 'recurring', 'theme', 'one', 'recurring', 'dream', 'whatever', 'wanted', 'champion', 'pyotr', 'tchaikovsky', 'free', 'like', 'everyone', 'else', 'flags', \"'cause\", 'want', 'julie', 'telephoning', 'ouija', 'advice', 'could', 'give', 'know', 'like', 'know', 'la', 'varsovienne', 'know', 'living', 'show', 'live', 'champion', 'holy', 'roman', 'army', 'said', 'heart', 'beats', 'like', 'everyone', 'else', 'need', 'flags', 'tell', 'say', 'want', \"myself''\", 'interlude', 'lalalala', 'lalalala', 'lalalala', 'lalalala', 'lalalala', 'lalalala', 'lalalala', 'lalalala', 'lalalala', 'lalalala', 'lalalala', 'lalalala', 'champion', \"there's\", 'aura', 'surrounds', 'thee', \"there's\", 'different', 'kind', 'wealth', 'need', 'flags', 'know', 'really', 'something', 'love', 'oh', 'love', 'lalalala', 'lalalala', 'lalalala', 'lalalala', 'lalalala', 'lalalala', 'lalalala', 'lalalala', 'lalalala', \"there's\", 'wild', 'wind', 'blowing', 'corner', 'street', 'every', 'night', 'headlights', 'glowing', \"there's\", 'cold', 'war', 'coming', 'radio', 'heard', 'baby', 'violent', 'world', 'love', 'let', 'go', 'take', 'street', 'lights', 'glow', 'hear', 'coming', 'hear', 'siren', 'sound', 'feet', 'touch', 'ground', 'time', 'came', 'acreeping', \"time's\", 'loaded', 'gun', 'every', 'road', 'ray', 'light', 'goes', 'time', 'lead', 'still', 'beautiful', 'night', 'love', 'let', 'go', 'take', 'street', 'lights', 'glow', 'hear', 'coming', 'like', 'serenade', 'sound', 'feet', 'touch', 'ground', 'gravity', 'release', 'ever', 'hold', 'feet', 'touch', 'ground', 'counted', 'demons', 'saw', 'one', 'every', 'day', 'good', 'ones', 'shoulders', 'drove', 'ones', 'away', 'ever', 'feel', 'neglected', 'think', 'lost', \"i'll\", 'counting', 'demons', 'yeah', 'hoping', \"everything's\", 'lost', 'thought', 'could', 'feel', 'around', \"everybody's\", 'get', 'let', 'drag', \"'cause\", 'ever', 'feel', 'neglected', 'think', 'lost', \"i'll\", 'counting', 'demons', 'yeah', 'hoping', \"everything's\", 'lost', 'ever', 'feel', 'neglected', 'think', 'lost', \"i'll\", 'counting', 'demons', 'yeah', 'hoping', \"everything's\", 'lost', 'singing', 'oh', 'oh', 'oh', 'yeah', 'oh', 'oh', 'yeah', 'oh', 'oh', 'yeah', \"everything's\", 'lost', 'come', 'yeah', 'oh', 'oh', 'yeah', 'come', 'yeah', \"everything's\", 'lost', 'oh', 'oh', 'yeah', 'oh', 'oh', 'yeah', 'oh', 'oh', 'yeah', \"everything's\", 'lost', 'come', 'yeah', 'oh', 'oh', 'yeah', 'come', 'yeah', 'come', 'yeah', 'oh', 'oh', 'yeah', 'come', 'yeah', \"everything's\", 'lost', 'sing', 'yeah', 'oh', 'oh', 'yeah', 'come', 'yeah', \"everything's\", 'lost', 'come', 'yeah', 'oh', 'oh', 'yeah', 'sing', 'yeah', \"everything's\", 'lost', 'never', 'meant', 'wrong', \"that's\", 'came', 'say', 'wrong', \"i'm\", 'sorry', 'let', 'stand', 'way', 'cause', 'head', 'aches', 'think', 'things', 'done', 'life', 'living', 'know', 'want', 'live', 'alone', 'sing', 'ah', 'ah', 'sing', 'ah', 'ah', 'ah', 'sing', 'ah', 'ah', 'ah', 'ah', 'ah', 'iohiohi', 'drunk', 'high', 'high', 'oh', 'angel', 'sent', 'know', 'make', 'world', 'light', 'hurt', 'came', 'lift', 'life', 'drink', \"love's\", 'drug', 'oh', 'think', 'must', 'miles', 'river', 'dried', 'came', 'rain', 'flood', 'iohiohi', 'got', 'feeling', 'drunk', 'high', 'high', 'high', 'high', 'ohiohiohi', 'im', 'feeling', 'drunk', 'high', 'high', 'high', 'high', 'high', 'high', 'high', 'oh', 'angel', 'sent', 'feel', 'coursing', 'blood', 'life', 'drink', \"love's\", 'make', 'stars', 'come', 'pre', 'beyoncé', 'drink', 'drink', 'poured', 'symphony', \"i'm\", 'low', 'low', 'low', 'low', 'iohiohi', 'got', 'feeling', 'drunk', 'high', 'high', 'high', 'high', 'ohiohiohi', 'im', 'feeling', 'drunk', 'high', 'high', 'high', 'high', 'high', 'high', 'high', 'beyoncé', 'iohiohi', 'la', 'la', 'la', 'la', 'la', 'la', 'high', 'high', 'iohiohi', \"i'm\", 'feeling', 'drunk', 'high', 'high', 'high', 'beyoncé', 'shoot', 'across', 'sky', 'shoot', 'across', 'shoot', 'across', 'sky', 'let', 'shoot', 'across', 'let', 'shoot', 'across', 'let', 'shoot', 'across', 'sky', 'let', 'shoot', 'across', 'let', 'shoot', 'across', 'sky', 'shoot', 'across', 'lost', 'trust', 'never', 'never', 'break', 'back', 'ever', 'see', 'answer', 'bulletproof', 'vest', 'windows', 'closed', \"i'll\", 'best', \"i'll\", 'see', 'soon', 'telescope', 'lens', 'want', 'friends', \"i'll\", 'see', 'soon', 'came', 'came', 'snapping', 'heels', 'come', 'snapping', 'heels', 'break', 'back', 'ever', 'hear', 'answer', 'bulletproof', 'vest', 'windows', 'closed', \"i'll\", 'best', \"i'll\", 'see', 'soon', 'telescope', 'lens', 'want', 'friends', \"i'll\", 'see', 'soon', \"i'll\", 'see', 'soon', 'know', 'lost', 'trust', 'know', 'lost', 'trust', 'know', 'lose', 'trust', 'know', 'lost', 'trust', 'heard', 'angels', 'sing', 'words', 'sometimes', 'eyes', 'see', 'beauty', 'world', 'oh', \"i'm\", 'floating', 'high', 'blossom', 'die', 'send', 'storm', 'lightning', 'strike', 'eyes', 'eyes', 'sometimes', 'stars', 'decide', 'reflect', 'puddles', 'dirt', 'look', 'eyes', 'forget', 'hurts', 'oh', \"i'm\", 'floating', 'high', 'blossom', 'die', 'send', 'storm', 'lightning', 'strike', 'eyes', 'cry', 'believe', 'miracles', 'oh', 'hey', \"i'm\", 'floating', 'world', 'oh', 'hey', \"i'm\", 'floating', 'world', 'oh', 'yeah', 'yeah', 'yeah', 'holy', 'holy', 'dove', 'descend', 'soft', 'slowly', \"i'm\", 'near', 'end', 'holy', 'holy', 'dark', 'defend', 'shield', 'show', 'i\\u2005need\\u2005a', 'friend', 'slowly', 'slowly', 'violence\\u2005end', 'love', 'reign', \"o'er\", 'need\\u2005a', 'friend', 'hombre', 'mire', 'ah', 'propiamente', 'para', 'toda', 'la', 'gente', 'ha', 'sido', 'motivo', 'de', 'burla', 'por', 'que', 'todo', 'el', 'mundo', 'piensa', 'que', 'es', 'una', 'cosa', 'imposible', 'que', 'es', 'cuestión', 'de', 'locos', 'el', 'problema', 'es', 'que', 'todo', 'es', 'increíble', 'la', 'gente', 'lo', 'acepta', 'ambience', 'poem', 'sent', 'guide', 'world', 'gone', 'wrong', 'shall', 'strong', 'wonder', 'world', 'power', 'people', 'i\\u2005will\\u2005not', 'want', 'faith\\u2005is', 'strong', 'wonder', 'world', 'power\\u2005of', 'people', 'world', 'tonight', 'get', 'right', 'holding', 'steeple', 'world', 'tonight', \"i'm\", 'light', 'wonder', 'world', 'power', 'people', 'oohoohooh', 'oohoohoohooh', 'oohoohoohooh', 'oohoohoohooh', 'scared', 'losing', 'time', 'wrote', 'letter', 'friend', 'mine', 'heard', 'could', 'see', 'future', 'inside', 'glass', 'water', 'ripples', 'lines', 'asked', 'see', 'heaven', 'mine', 'way', 'nothing', 'could', 'better', 'nothing', 'ever', 'oh', 'say', 'see', 'future', 'inside', 'glass', 'water', 'riddles', 'rhymes', 'see', 'heaven', 'mine', 'oh', 'oh', 'oh', 'son', 'ask', 'neither', 'half', 'full', 'empty', 'glass', 'cling', 'mast', 'spend', 'whole', 'life', 'living', 'past', 'going', 'nowhere', 'fast', 'wrote', 'wall', 'hollowest', 'halos', 'halo', 'television', 'selling', 'plastic', 'figurines', 'leaders', 'saying', 'nothing', 'chime', 'stars', 'heaven', 'align', 'oh', 'oh', 'oh', 'son', 'ask', 'neither', 'half', 'full', 'empty', 'glass', 'cling', 'mast', 'spend', 'whole', 'life', 'living', 'past', 'going', 'nowhere', 'fast', 'drinking', \"we're\", 'done', 'glasses', 'water', 'slip', 'inside', 'eye', 'mind', 'know', 'might', 'find', 'better', 'place', 'play', 'said', 'never', 'things', 'seen', 'slowly', 'fade', 'away', 'pre', 'start', 'revolution', 'bed', 'cause', 'said', 'brains', 'went', 'head', 'step', 'outside', \"summertime's\", 'bloom', 'stand', 'beside', 'fireplace', 'take', 'look', 'face', 'cause', \"ain't\", 'ever', 'gonna', 'burn', 'heart', 'sally', 'wait', 'knows', 'late', \"we're\", 'walking', 'soul', 'slides', 'away', 'look', 'back', 'anger', 'heard', 'say', 'take', 'place', 'go', 'nobody', 'knows', 'night', 'day', 'please', 'put', 'life', 'hands', \"rock'n'roll\", 'band', \"who'll\", 'throw', 'away', 'pre', \"i'm\", 'gonna', 'start', 'revolution', 'bed', 'cause', 'said', 'brains', 'went', 'head', 'step', 'outside', \"summertime's\", 'bloom', 'stand', 'beside', 'fireplace', 'take', 'look', 'face', 'cause', \"ain't\", 'ever', 'gonna', 'burn', 'heart', 'sally', 'wait', 'knows', 'late', 'walking', 'soul', 'slides', 'away', 'look', 'back', 'anger', 'heard', 'say', 'sally', 'wait', 'knows', 'late', \"we're\", 'walking', 'soul', 'slides', 'away', 'look', 'back', 'anger', 'heard', 'say', 'sally', 'wait', 'knows', 'late', 'walking', 'soul', 'slides', 'away', 'look', 'back', 'anger', 'look', 'back', 'anger', 'heard', 'say', 'least', 'today', 'control', 'anywhere', 'wanna', 'go', 'control', 'anything', 'wanna', 'know', \"future's\", 'discovering', 'space', \"we're\", 'travelling', 'hook', 'top', 'first', 'page', 'end', 'last', 'day', 'start', 'way', 'want', 'somebody', 'listening', 'say', 'matter', 'surface', 'trying', 'break', 'deciphering', 'codes', 'need', 'compass', 'draw', 'map', \"i'm\", 'top', \"can't\", 'get', 'back', 'whoah', 'woah', 'hook', 'first', 'line', 'first', 'page', 'end', 'last', 'day', 'looking', 'start', 'way', 'want', 'somebody', 'listening', 'say', 'matter', 'matter', 'oooh', 'want', 'somebody', 'listening', 'say', 'want', 'somebody', 'listening', 'say', 'matter', 'matter', 'anybody', 'lost', 'hurt', 'lonely', 'bleeding', 'colours', 'one', 'come', 'undone', 'run', 'catapult', 'fired', 'wonder', 'chance', 'ever', 'come', 'well', 'stuck', 'square', 'one', 'anybody', 'fly', 'thing', 'head', 'explodes', 'head', 'starts', 'ring', \"we've\", 'living', 'life', 'inside', 'bubble', \"we've\", 'living', 'life', 'inside', 'bubble', 'confidence', 'confidence', 'confidence', 'high', 'speed', 'anybody', 'stop', 'thing', 'head', 'explodes', 'head', 'starts', 'ring', \"we've\", 'living', 'life', 'inside', 'bubble', \"we've\", 'living', 'life', 'inside', 'bubble', 'confidence', 'confidence', 'confidence', 'high', 'speed', 'high', 'speed', 'high', 'speed', 'high', 'speed', 'high', 'speed', 'high', 'speed', 'high', 'speed', 'started', 'high', 'hopes', \"back's\", 'line', \"back's\", 'ropes', 'started', 'alright', 'night', 'makes', 'fool', 'us', 'daylight', 'dying', 'frustration', 'saying', 'lord', 'lead', 'temptation', 'easy', 'turns', 'sin', 'stay', 'gone', 'hook', 'youd', 'youd', 'say', 'yes', 'whether', \"will's\", 'anybodys', 'guess', 'god', 'god', 'knows', \"i'm\", 'trying', 'best', 'im', 'tired', 'loneliness', 'hey', 'picked', 'big', 'toe', 'held', 'rooftop', 'let', 'go', 'dizzily', 'screaming', 'let', 'windows', 'crawl', 'ground', 'hook', 'say', 'yes', 'whether', \"will's\", \"anybody's\", 'guess', 'god', 'god', 'knows', 'let', 'rest', \"i'm\", 'tired', 'loneliness', \"i've\", 'become', 'tired', 'loneliness', 'night', 'would', 'go', 'walking', \"'til\", 'breaking', 'day', 'morning', 'sleeping', 'dark', 'streets', 'go', 'searching', 'see', 'god', 'way', 'save', 'night', 'time', 'weeping', 'weeping', 'singing', 'lalalalalalalay', 'night', 'london', 'lay', 'rode', 'river', 'victorian', 'ghosts', 'pray', 'curses', 'broken', 'go', 'wander', \"'neath\", 'arches', 'witches', 'say', 'ghost', 'towns', 'ocean', 'ocean', 'singing', 'lalalalalalalay', 'night', 'london', 'lay', 'god', 'houses', 'god', 'head', 'cemeteries', 'london', 'see', 'god', 'come', 'garden', 'dont', 'know', 'said', 'heart', 'wasnt', 'open', 'open', 'singing', 'lalalalalalalay', 'night', 'london', 'lay', 'singing', 'lalalalalalalay', 'theres', 'light', 'london', 'today', 'dont', 'mess', 'around', 'walder', 'frey', 'dont', 'mess', 'around', 'dont', 'mess', 'around', 'walder', 'frey', 'youre', 'wedding', 'robby', 'stark', 'keep', 'car', 'running', 'theres', 'need', 'park', 'hes', 'going', 'make', 'night', 'keep', 'wedding', 'cake', 'fridge', 'didnt', 'pay', 'back', 'using', 'im', 'afraid', 'wedding', 'wont', 'white', 'boom', 'boom', 'boom', 'babba', 'dippi', 'dum', 'boom', 'boom', 'boom', 'babba', 'dippi', 'bum', 'red', 'wedding', 'red', 'wedding', 'lots', 'stabbing', 'bit', 'beheading', 'rains', 'castamere', 'stay', 'red', 'wedding', 'dead', 'wedding', 'head', 'shredding', 'bloodshed', 'wedding', 'wedding', 'bedding', 'hey', 'dont', 'mess', 'around', 'walder', 'frey', 'young', 'boy', 'tried', 'listen', 'wanna', 'feel', 'like', 'little', 'white', 'shadows', 'blink', 'miss', 'part', 'system', 'ever', 'feel', 'like', \"something's\", 'missing', 'things', 'never', 'understand', 'little', 'white', 'shadows', 'sparkle', 'glisten', 'part', 'system', 'plan', 'noise', \"i'm\", 'waking', 'space', \"i'm\", 'taking', 'sound', 'breaking', 'ohhhhhhhh', 'hook', 'maybe', 'get', 'wanted', 'maybe', 'stumble', 'upon', 'everything', 'ever', 'wanted', 'permanent', 'state', 'maybe', 'know', 'see', 'maybe', 'say', 'mean', 'find', 'keep', 'permanent', 'state', 'permanent', 'state', 'young', 'boy', 'tried', 'listen', 'wanna', 'feel', 'like', 'part', 'human', 'race', 'stars', 'outer', 'space', 'part', 'system', 'plan', 'noise', \"i'm\", 'waking', 'space', \"i'm\", 'taking', 'cannot', 'hear', 'breaking', 'whooaaaaaaa', 'hook', 'maybe', 'get', 'wanted', 'maybe', 'stumble', 'upon', 'everything', 'ever', 'wanted', 'permanent', 'state', 'maybe', 'know', 'see', 'maybe', 'say', 'mean', 'find', 'keep', 'permanent', 'state', 'permanent', 'state', 'swim', 'sea', 'faces', 'tide', 'human', 'races', 'oh', 'answer', 'need', 'see', 'new', 'sun', 'rising', 'see', 'break', 'horizon', 'oh', 'come', 'love', 'stay', 'still', 'going', 'strong', 'hes', 'still', 'going', 'strong', 'yeah', 'yeah', 'hes', 'still', 'going', 'strong', 'remember', 'ned', 'stark', 'lot', 'fun', 'fun', 'didnt', 'make', 'past', 'season', 'one', 'oh', 'robert', 'baratheon', 'part', 'crew', 'never', 'made', 'season', 'two', 'king', 'north', 'cool', 'said', 'cool', 'another', 'favorite', 'ended', 'dead', 'hes', 'dead', 'thought', 'joffrey', 'survive', 'aint', 'credits', 'season', 'five', 'season', 'five', 'baby', 'know', 'im', 'man', 'seasons', 'characters', 'get', 'cut', 'various', 'reasons', 'ow', 'ow', 'peoples', 'parts', 'aint', 'long', 'im', 'still', 'going', 'strong', 'hes', 'still', 'going', 'strong', 'could', 'lend', 'hand', 'ive', 'got', 'one', 'miss', 'fingers', 'like', 'miss', 'son', 'thinking', 'joffrey', 'spirited', 'lad', 'uncle', 'also', 'dad', 'around', 'world', 'heart', 'roam', 'im', 'looking', 'something', 'little', 'closer', 'home', 'closer', 'home', 'closer', 'home', 'family', 'tree', 'branch', 'closer', 'home', 'closer', 'home', 'ensuring', 'family', 'stays', 'throne', 'birds', 'sang', 'break', 'day', 'start', 'hear', 'say', 'hard', 'walk', 'away', 'birds', 'sang', 'choir', 'start', 'little', 'higher', 'spark', 'sea', 'grey', 'sky', 'blue', 'dreamed', 'lie', \"'til\", 'true', 'taking', 'back', 'punch', 'threw', 'arms', 'turn', 'wings', 'oh', 'clumsy', 'things', 'send', 'wonderful', 'world', \"i'm\", 'birds', 'break', 'might', 'go', 'know', 'name', 'float', 'world', 'see', 'show', 'feel', 'pain', 'even', 'though', 'armor', 'might', 'rust', 'rain', 'simple', 'plot', 'know', 'one', 'day', 'good', 'things', 'coming', 'way', 'simple', 'plot', 'know', 'one', 'day', 'good', 'things', 'coming', 'way', 'oh', 'yeah', 'surprise', 'delight', 'saw', 'sunrise', 'saw', 'sunlight', 'nothing', 'dark', 'clouds', 'burst', 'show', 'daylight', 'hook', 'ooh', 'sun', 'shine', 'yeah', 'heart', 'mine', 'ooh', 'realize', 'cannot', 'live', 'without', 'come', 'apart', 'without', 'hilltop', 'skyrise', 'like', 'firstborn', 'child', 'full', 'day', 'full', 'flight', 'defeat', 'darkness', 'breaking', 'daylight', 'hook', 'ooh', 'sun', 'shine', 'yeah', 'heart', 'mine', 'ooh', 'realize', 'cannot', 'live', 'without', 'come', 'apart', 'without', 'daylight', 'slowly', 'breaking', 'daylight', 'x', 'see', 'world', 'black', 'white', 'color', 'light', 'think', 'never', 'get', 'right', 'wrong', 'might', 'sky', 'could', 'fall', 'could', 'fall', 'parting', 'seas', 'mean', 'mean', 'color', 'see', 'hook', 'ever', 'wanted', 'love', 'never', 'looked', 'hard', 'enough', 'never', 'gonna', 'give', 'ever', 'wanted', 'living', 'perfect', 'symmetry', 'nothing', 'us', 'us', 'see', 'world', 'black', 'white', 'painted', 'right', 'see', 'meaning', 'life', 'try', 'try', 'hook', 'ever', 'wanted', 'love', 'never', 'looked', 'hard', 'enough', 'never', 'gonna', 'give', 'ever', 'wanted', 'living', 'perfect', 'symmetry', 'nothing', 'us', 'wanna', 'see', 'come', 'soon', 'floating', 'big', 'white', 'balloon', 'given', 'silver', 'spoon', 'wanna', 'see', 'come', 'throwing', 'arms', 'around', 'say', 'moment', 'soon', 'cause', 'feel', 'low', 'cause', 'feel', 'low', 'oh', 'oh', 'oh', 'oh', 'oh', 'yeah', 'feel', 'low', 'oh', 'oh', 'oh', 'cause', 'feel', 'low', 'cause', 'feel', 'low', 'oh', 'oh', 'oh', 'oh', 'oh', 'feel', 'low', 'oh', 'oh', 'wish', 'could', 'swim', 'like', 'dolphins', 'like', 'dolphins', 'swim', 'though', 'nothing', 'nothing', 'keep', 'us', 'together', 'beat', 'forever', 'ever', 'oh', 'heroes', 'one', 'day', 'king', 'queen', 'though', 'nothing', 'drive', 'away', 'heroes', 'one', 'day', 'us', 'one', 'day', 'remember', 'remember', 'standing', 'wall', 'wall', 'guns', 'shot', 'heads', 'heads', 'kissed', 'though', 'nothing', 'could', 'fall', 'nothing', 'could', 'fall', 'shame', 'side', 'oh', 'beat', 'forever', 'ever', 'could', 'heroes', 'one', 'day', 'break', 'heroes', 'heroes', 'heroes', 'one', 'day', 'heroes', 'lost', 'map', 'lost', 'fell', 'trap', \"she'd\", 'call', 'tired', 'racing', 'found', 'never', 'left', 'start', 'come', 'baby', 'dont', 'let', 'break', 'heart', 'though', 'heavily', 'bled', 'still', 'crawl', 'trying', 'catch', 'cannonball', 'slow', 'burning', 'tide', 'veins', 'flowing', 'shipwreck', 'heard', 'call', 'sang', 'tired', 'aiming', 'arrows', 'still', 'never', 'hit', 'mark', 'ohoh', 'even', 'rains', 'shadows', 'still', \"we're\", 'never', 'gonna', 'part', 'ohoh', 'come', 'baby', 'dont', 'let', 'break', 'heart', 'hook', 'oh', 'ohoh', 'ohoh', 'oh', 'dont', 'let', 'break', 'heart', 'oh', 'ohoh', 'ohoh', 'oh', 'dont', 'let', 'break', 'heart', 'let', 'break', 'heart', 'told', 'side', 'forced', 'thrown', 'become', 'scythe', 'cut', 'corn', 'friends', 'ride', 'sunset', 'fly', 'sunset', 'away', 'go', 'friends', 'ride', 'sunset', 'fly', 'sunset', 'away', \"they're\", 'thrown', 'fire', 'ten', 'call', 'comes', 'radio', 'go', 'red', 'rivers', 'flow', 'poppies', 'grow', 'friends', 'ride', 'sunset', 'fly', 'sunset', 'away', \"they're\", 'blown', 'friends', 'ride', 'sunset', 'ride', 'sunset', \"they're\", 'taken', 'home', 'open', 'fire', 'open', 'fire', 'open', 'fire', 'open', 'fire', 'open', 'fire', 'ride', 'fire', 'maybe', 'im', 'ghost', 'disappear', 'anybodys', 'close', 'go', 'try', 'hold', 'try', 'hold', 'near', 'maybe', 'im', 'ghost', 'emptier', 'anybody', 'knows', 'maybe', 'im', 'ropes', 'im', 'even', 'yeah', 'every', 'time', 'try', 'walk', 'walls', 'walls', 'appear', \"what's\", 'point', 'feeling', 'love', 'believe', \"i'm\", \"what's\", 'point', 'trying', 'raise', 'voice', 'one', 'ever', 'hears', 'every', 'time', 'try', 'pull', 'close', 'disappear', 'maybe', \"i'm\", 'ghost', 'whisper', 'puff', 'smoke', 'secret', 'nobody', 'knows', 'one', 'ever', 'hear', '4', 'oh', 'maybe', \"i'm\", 'ghost', 'specter', 'wrong', 'curse', 'thorn', 'without', 'rose', 'something', 'people', 'fear', 'yeah', 'every', 'time', 'thought', 'walked', 'walls', 'becoming', 'clear', \"what's\", 'point', 'feeling', 'love', 'believe', \"i'm\", \"what's\", 'point', 'saying', 'rescue', 'one', 'ever', 'hears', 'every', 'time', 'try', 'pull', 'close', 'disappear', 'every', 'time', 'try', 'pull', 'close', 'disappear', 'every', 'time', 'thought', 'walked', 'walls', 'becoming', 'clear', 'every', 'time', 'try', 'pull', 'close', 'disappear', 'every', 'time', 'try', 'pull', 'close', 'disappear', 'never', 'meant', 'wrong', \"that's\", 'came', 'say', 'wrong', \"i'm\", 'sorry', 'let', 'stand', 'way', 'cause', 'head', 'aches', 'think', 'things', 'done', 'life', 'living', 'know', 'want', 'live', 'alone', 'sing', 'ah', 'ah', 'oh', 'sing', 'ah', 'ah', 'oh', 'sing', 'ah', 'ah', 'oh', 'wildling', 'make', 'heart', 'sing', 'pull', 'bow', 'string', 'shoot', 'wildling', 'wildling', 'think', 'love', 'wanna', 'know', 'sure', 'want', 'take', 'cave', 'kiss', \"'cause\", \"i've\", 'never', 'done', 'yeah', 'wildling', 'fall', 'asleep', 'fall', 'asleep', 'sleep', 'satisfied', 'sleep', 'satisfied', 'fall', 'asleep', 'fall', 'asleep', 'sleep', 'satisfied', 'sleep', 'satisfied', 'sleep', 'sleep', 'sleep', 'sleep', 'sleep', 'sleep', 'satisfied', 'sleep', 'satisfied', 'fall', 'asleep', 'fall', 'asleep', 'sleep', 'crucified', 'sleep', 'crucified', 'fall', 'asleep', 'fall', 'asleep', 'sleep', 'satisfied', 'sleep', 'satisfied', 'sleep', 'sleep', 'sleep', 'sleep', 'sleep', 'sleep', 'satisfied', 'sleep', 'satisfied', 'la', 'la', 'la', 'la', 'la', 'la', 'la', 'la', 'la', 'la', 'la', 'la', 'la', 'la', 'la', 'la', 'la', 'la', 'la', 'la', 'la', 'la', 'la', 'la', 'la', 'la', 'la', 'la', 'la', 'la', 'la', 'la', \"can't\", 'get', 'head', 'boy', 'loving', 'think', \"can't\", 'get', 'head', 'boy', 'dare', 'think', 'la', 'la', 'la', 'la', 'la', 'la', 'la', 'la', 'la', 'la', 'la', 'la', 'la', 'la', 'la', 'la', \"can't\", 'get', 'head', 'boy', 'loving', 'think', \"can't\", 'get', 'head', 'boy', 'dare', 'think', 'every', 'night', 'every', 'day', 'arms', 'stay', 'stay', 'stay', 'forever', 'ever', 'ever', 'ah', 'ah', 'la', 'la', 'la', 'la', 'la', 'la', 'la', 'la', 'la', 'la', 'la', 'la', 'la', 'la', 'la', 'la', 'la', 'la', 'la', 'la', 'la', 'la', 'la', 'la', 'la', 'la', 'la', 'la', 'la', 'la', 'la', 'la', \"can't\", 'get', 'head', 'boy', 'loving', 'think', \"can't\", 'get', 'head', 'boy', 'dare', 'think', \"there's\", 'dark', 'secret', 'leave', 'lost', 'arms', 'set', 'free', 'feel', 'need', 'set', 'free', 'stay', 'forever', 'ever', 'ever', 'ah', 'ah', 'la', 'la', 'la', 'la', 'la', 'la', 'la', 'la', 'la', 'la', 'la', 'la', 'la', 'la', 'la', 'la', 'la', 'la', 'la', 'la', 'la', 'la', 'la', 'la', 'la', 'la', 'la', 'la', 'la', 'la', 'la', 'la', \"can't\", 'get', 'head', 'la', 'la', 'la', 'la', 'la', 'la', 'la', 'la', 'end', 'lie', 'awake', 'dream', 'making', 'escape', 'end', 'lie', 'awake', 'dream', 'making', 'escape', 'oooh', 'time', 'know', 'gone', 'saltwater', 'tasted', 'long', 'know', \"i'm\", 'wrong', 'know', 'gone', 'hook', 'flames', 'flames', 'flames', 'slowly', 'gone', 'time', 'flying', 'time', 'know', 'song', \"can't\", 'stop', 'lonely', 'burn', \"can't\", 'stop', 'slowly', 'going', 'hook', 'flames', 'flames', 'flames', 'slowly', 'gone', 'hook', 'flames', 'flames', 'flames', 'slowly', 'gone', 'oh', 'slowly', 'gone', 'pour', 'water', 'thank', 'everybody', \"i'll\", 'sing', 'sleep', 'song', 'darkest', 'hour', 'secrets', \"can't\", 'keep', 'inside', 'day', 'sit', 'oh', 'sit', 'oh', 'sit', 'sit', 'next', 'sit', 'sympathy', 'oh', 'sit', 'oh', 'sit', 'oh', 'sit', 'sit', 'next', 'sit', 'try', 'best', 'succeed', 'get', 'want', 'need', 'feel', 'tired', \"can't\", 'sleep', 'stuck', 'tears', 'come', 'streaming', 'face', 'lose', 'something', \"can't\", 'replace', 'love', 'someone', 'goes', 'waste', 'could', 'worse', 'lights', 'guide', 'home', 'ignite', 'bones', 'try', 'fix', 'high', 'love', 'let', 'go', 'never', 'try', 'never', 'know', 'worth', 'lights', 'guide', 'home', 'ignite', 'bones', 'try', 'fix', 'tears', 'stream', 'face', 'lose', 'something', 'cannot', 'replace', 'tears', 'stream', 'face', 'tears', 'stream', 'face', 'promise', 'learn', 'mistakes', 'tears', 'stream', 'face', 'lights', 'guide', 'home', 'ignite', 'bones', 'try', 'fix', 'lord', 'know', 'way', 'going', 'way', 'river', 'going', 'flow', 'seems', 'upstream', 'keep', 'rowing', 'still', 'got', 'long', 'way', 'go', 'still', 'got', 'long', 'way', 'go', 'light', 'hits', 'eye', 'know', 'swear', \"we'll\", 'find', 'somewhere', 'streets', 'paved', 'gold', 'bullets', 'fly', 'split', 'sky', \"that's\", 'alright', 'sometimes', 'sunlight', 'comes', 'streaming', 'holes', 'ooh', 'ooh', \"prospekt's\", 'march', 'smoke', 'rising', 'houses', 'people', 'burying', 'dead', 'ask', 'somebody', 'time', 'time', 'matter', 'yet', 'people', 'talking', 'without', 'speaking', 'trying', 'take', 'get', 'ask', 'remember', 'prospekt', 'could', 'forget', 'drums', 'comes', 'wish', 'life', 'simple', 'fish', 'swimming', 'round', 'barrel', 'got', 'gun', 'oh', 'run', 'comes', \"we're\", 'two', 'little', 'figures', 'soup', 'bowl', 'trying', 'get', 'kind', 'control', 'one', 'lie', 'separate', 'sky', 'lie', 'separate', 'sky', 'wanna', 'die', 'tonight', 'lie', 'separate', 'sky', 'poppyfields', 'sunlight', 'opened', 'eyes', 'see', 'first', 'time', 'opened', 'tonight', 'rivers', 'run', 'dry', 'first', 'time', 'rivers', 'run', 'hundreds', 'years', 'future', 'could', 'computers', 'looking', 'life', 'earth', 'fight', 'wrong', 'side', 'say', 'feel', 'like', 'say', 'feel', 'go', 'backwards', 'go', 'forwards', 'go', 'backwards', 'go', 'created', 'drilled', 'invaded', 'somebody', 'made', 'someone', 'mess', 'wrong', 'ask', 'belong', 'belongs', 'us', 'go', 'backwards', 'go', 'forwards', 'go', 'backwards', 'go', 'forwards', 'go', 'backwards', 'go', 'forwards', 'go', 'backwards', 'go', 'forwards', 'piano', 'oh', 'say', 'people', 'come', 'say', 'people', 'go', 'particular', 'diamond', 'extra', 'special', 'though', 'might', 'gone', 'world', 'may', 'know', 'still', 'see', 'celestial', 'cant', 'let', 'go', 'im', 'cold', 'cold', 'im', 'cold', 'cold', 'theres', 'light', 'give', 'im', 'shadow', 'theres', 'feeling', 'within', 'everglow', 'like', 'brothers', 'blood', 'sisters', 'ride', \"ye'\", 'swore', 'night', 'wed', 'friends', \"'til\", 'die', 'changing', 'winds', 'way', 'waters', 'flow', 'life', 'short', 'falling', 'snow', 'im', 'gonna', 'miss', 'know', 'im', 'cold', 'cold', 'water', 'rolled', 'salt', 'know', 'youre', 'always', 'way', 'show', 'youre', 'wherever', 'go', 'give', 'feeling', 'everglow', 'oh', 'give', 'moment', 'hold', 'live', 'feeling', 'everglow', 'love', 'someone', 'let', 'know', 'oh', 'light', 'left', 'everglow', 'piano', 'spokenword', 'muhammad', 'ali', 'god', 'watching', 'god', 'praise', 'beat', 'joe', 'frazier', 'god', 'give', 'nothing', 'joe', 'frazier', 'god', 'care', 'nothing', 'england', 'america', 'far', 'real', 'wealth', 'wants', 'know', 'treat', 'help', \"i'm\", 'going', 'dedicate', 'life', 'using', 'name', 'popularity', 'helping', 'charities', 'helping', 'people', 'uniting', 'people', 'people', 'bombing', 'religious', 'beliefs', 'need', 'somebody', 'world', 'help', 'us', 'make', 'peace', 'die', \"there's\", 'heaven', \"i'm\", 'gonna', 'see', 'hook', 'whisper', 'whisper', 'whisper', 'whisper', 'whisper', 'whisper', 'whisper', 'whisper', 'hear', 'sound', 'ticking', 'clocks', 'remember', 'face', 'remembers', 'gone', 'hear', 'sound', 'ticking', 'clocks', 'come', 'back', 'look', 'look', 'lost', 'whisper', 'whisper', 'whisper', 'whisper', 'whisper', 'whisper', 'whisper', 'whisper', 'night', 'turns', 'day', 'still', 'questions', 'break', 'go', 'forward', 'backwards', 'night', 'turns', 'day', 'still', 'get', 'answers', 'hook', 'whisper', 'whisper', 'whisper', 'whisper', 'whisper', 'whisper', 'whisper', 'whisper', 'hear', 'sound', 'ticking', 'clocks', 'remember', 'face', 'remember', 'see', 'lost', 'hear', 'sound', 'ticking', 'clocks', 'come', 'back', 'look', 'look', 'lost', 'whisper', 'whisper', 'whisper', 'whisper', 'whisper', 'whisper', 'whisper', 'whisper', 'got', 'one', 'eye', 'watching', 'one', 'eye', 'careful', 'talking', 'got', 'one', 'eye', 'watching', 'one', 'eye', 'careful', 'trying', 'careful', 'walking', 'view', 'careful', 'walking', 'view', 'hook', 'oohoohooh', 'oohoohoohooh', 'got', 'one', 'eye', 'road', 'one', 'oohoohooh', 'oohoohoohooh', 'got', 'one', 'eye', 'road', 'one', 'got', 'one', 'eye', 'watching', 'one', 'eye', 'careful', \"'cause\", 'nothing', 'say', 'true', 'believe', 'word', 'us', 'world', 'got', 'turn', 'heard', 'hear', 'crocodiles', 'ticking', \"'round\", 'world', 'hear', 'crocodiles', 'ticking', 'go', 'ticking', \"'round\", 'world', 'hook', 'oohoohooh', 'oohoohoohooh', 'got', 'one', 'eye', 'road', 'one', 'oohoohooh', 'oohoohoohooh', 'got', 'one', 'eye', 'road', 'one', 'could', 'hear', 'climbing', 'stairs', 'got', 'right', 'side', 'fighting', 'left', 'hides', 'chairs', 'hook', 'oohoohooh', 'oohoohoohooh', 'got', 'one', 'eye', 'road', 'one', 'oohoohooh', 'oohoohoohooh', 'got', 'one', 'eye', 'road', 'one', 'wise', 'men', 'say', 'looks', 'like', 'rain', 'today', 'crackled', 'speakers', 'trickled', 'steepy', 'subway', 'trains', 'heavy', 'eyes', 'could', 'hardly', 'hold', 'us', 'aching', 'legs', 'often', 'told', 'us', 'worth', 'fall', 'love', 'sometimes', 'full', \"moon's\", 'bright', 'starlight', 'filled', 'evening', 'wrote', 'played', \"something's\", 'happened', 'strange', 'feeling', 'naive', 'notions', 'childish', 'simple', 'tunes', 'tried', 'hide', 'comes', 'fall', 'love', 'sometimes', \"i'm\", 'sure', \"'cause\", 'sometimes', \"we're\", 'blind', 'struggling', 'day', 'even', 'best', 'friend', 'says', 'find', 'fall', 'love', 'sometimes', 'wise', 'men', 'say', 'looks', 'like', 'rain', 'today', 'crackled', 'speakers', 'trickled', 'sleepy', 'subway', 'trains', 'heavy', 'eyes', 'could', 'hardly', 'hold', 'us', 'aching', 'legs', 'often', 'told', 'us', 'worth', 'fall', 'love', 'sometimes', 'fall', 'love', 'sometimes', 'fall', 'love', 'sometimes', 'fall', 'love', 'sometimes', 'lost', 'feel', 'alone', 'circumnavigate', 'globe', 'ever', 'hope', 'two', 'way', 'seem', 'float', 'circumnavigate', 'hope', 'seem', 'lose', 'control', 'ooh', 'ooh', 'ooh', 'ooh', 'everyone', 'us', 'hurt', 'everyone', 'us', 'scarred', 'everyone', 'us', 'scared', 'eyes', 'closed', 'head', 'hurts', 'eyes', 'feel', 'low', 'ooh', 'ooh', 'ooh', 'ooh', 'everyone', 'us', 'scared', 'everyone', 'us', 'hurt', 'everyone', 'us', 'hope', 'version', 'game', 'thrones', 'opening', 'tune', 'got', 'opening', 'starks', 'lannisters', 'kardashians', 'champion', 'uh', 'targaryens', 'idiot', 'targaryens', 'course', \"there's\", 'unknowns', 'welcome', 'crazy', 'wacky', 'world', 'game', 'thrones', 'champion', 'nice', 'like', 'thanks', 'man', 'cool', 'liam', 'neeson', 'narration', 'exclusive', 'red', 'nose', 'day', 'revelation', \"we've\", 'discovered', 'british', 'band', 'coldplay', 'secretly', 'working', 'musical', 'tv', 'sensation', 'game', 'thrones', 'best', 'idea', \"we've\", 'ever', 'vocals', 'bom', 'bom', 'bom', 'baba', 'dobodom', 'speaks', 'music', 'continues', 'background', 'amazing', 'creative', 'outpouring', 'trust', 'bom', 'bom', 'bom', 'baba', 'dobodom', 'champion', 'wait', 'wait', 'many', 'poppadoms', \"they're\", 'babadoms', 'narration', 'band', 'longtime', 'fans', 'show', 'bearded', 'drummer', 'champion', 'actually', 'took', 'time', 'one', 'point', 'act', 'famous', \"'red\", \"wedding'\", 'episode', \"they've\", 'gathered', 'henson', 'recording', 'studio', 'los', 'angeles', 'work', '6', 'songs', 'required', 'full', 'broadway', 'stage', 'production', 'keyboard', 'champion', 'nice', 'got', 'lyrics', 'yeah', 'singing', 'closer', 'home', 'around', 'world', 'heart', 'roam', 'mark', 'addy', 'well', 'first', 'heard', 'er', 'little', 'bit', 'sceptical', \"i'm\", 'completely', 'convinced', 'horrible', 'idea', 'continued', 'closer', 'hooome', 'diana', 'rigg', 'worst', 'idea', \"i've\", 'ever', 'heard', 'continued', 'family', 'tree', 'music', 'continues', 'female', 'voiceover', 'begins', 'emilia', 'clarke', 'one', 'word', 'springs', 'mind', \"i'm\", 'thinking', 'project', 'titanic', 'terms', 'successful', 'movie', 'uh', 'terms', 'unsuccessful', 'boat', 'singing', 'closer', 'home', 'band', 'plays', \"'red\", 'wedding', 'piano', 'music', 'cut', 'rak', 'studios', 'london', 'narration', 'finally', 'months', 'writing', 'planning', 'chris', 'invited', 'along', 'entire', 'cast', 'game', 'thrones', 'recruit', 'live', 'broadway', 'show', \"fella's\", 'ya', \"doin'\", 'moment', 'inspiration', 'flash', 'genius', 'get', 'whole', 'cast', 'come', 'everyone', 'thought', 'brilliant', 'idea', \"that's\", \"what's\", 'happening', 'big', 'day', 'big', 'day', 'us', 'narrator', 'actors', 'gathering', 'hear', 'songs', 'performed', 'first', 'time', 'camera', 'pans', 'chairs', 'empty', 'well', 'outside', 'iwan', 'rheoon', 'mark', 'addy', 'two', 'mark', 'addy', 'told', 'sean', 'bean', 'gonna', 'owes', 'fiver', 'iwan', 'rheon', 'well', 'think', 'quite', 'many', 'band', 'would', 'hoped', 'still', 'exciting', 'day', 'called', 'rastafarian', 'targaryen', 'band', 'plays', 'rastafarian', 'targaryen', 'reggae', 'music', 'yep', 'yayayaya', \"i'mma\", 'rastafarian', 'targaryen', 'got', 'dragons', \"they're\", 'pretty', 'scaryen', 'interviewer', 'chris', 'think', 'going', 'stunning', 'stunning', 'people', 'literally', 'stunned', 'interviewer', \"can't\", 'sing', 'well', 'funny', 'thing', 'sing', 'two', 'three', 'four', 'cut', 'band', 'playing', 'red', 'wedding', 'ewan', 'mark', 'sing', 'along', 'bom', 'bom', 'bom', 'baba', 'robert', 'robert', 'snappy', 'come', 'mark', 'addy', 'isorry', 'sorry', 'jonny', 'buckland', \"i'm\", 'sure', \"he'll\", 'come', 'back', 'well', 'things', 'always', 'step', 'step', 'um', '50', 'cast', 'seemed', 'really', 'um', 'think', \"we're\", 'onto', 'something', 'really', 'special', 'piano', 'narrator', 'slightly', 'disappointing', 'day', 'kit', 'harrington', 'hey', 'chris', \"i'm\", 'sorry', \"i'm\", 'late', 'oh', 'god', 'jon', 'snow', 'knew', 'come', 'kit', 'harington', \"i'd\", 'never', 'let', 'man', 'thank', 'jon', 'snow', 'kit', 'harington', 'kit', 'whispers', 'thank', 'kit', 'snow', 'kit', 'harington', 'right', 'got', 'man', 'band', 'starts', 'play', 'still', 'going', 'strong', 'right', 'right', 'volume', 'please', 'volume', 'turn', 'bit', 'music', 'background', 'singing', 'still', 'going', 'strong', 'music', 'continues', 'background', 'narrator', 'day', 'two', 'workshop', 'suddenly', 'things', 'take', 'turn', 'better', 'phone', 'call', 'jon', 'snow', 'offer', 'free', 'food', 'huge', 'chunk', 'cast', 'arrived', 'alfie', 'allen', 'walks', 'door', 'sees', 'iwan', 'rheon', 'alfie', 'drops', 'coat', 'intense', 'stare', 'suddenly', 'embrace', 'laughing', 'smiling', 'iwan', 'rheon', 'hey', 'man', 'good', 'see', 'man', 'alfie', 'allen', 'hi', 'ya', \"doin'\", 'iwan', 'rheon', 'love', 'shirt', 'mate', 'love', 'shirt', 'alfie', 'allen', 'look', 'great', 'music', 'clapping', 'narrator', 'emotional', 'morning', 'john', 'bradley', \"i'll\", 'nuggets', 'please', 'dinner', 'lady', 'yep', \"there's\", 'one', 'left', 'john', 'bradley', 'oh', 'lovely', 'thomas', 'brodiesangster', 'ahh', 'sense', 'choice', 'end', 'well', 'would', 'suggest', 'drumsticks', 'john', 'bradley', 'oh', 'oh', 'right', 'well', 'drumsticks', 'apparently', 'cheers', 'thomas', 'brodiesangster', \"i'll\", 'nuggets', 'please', 'thank', 'band', 'plays', 'wild', 'thing', 'kit', 'harrington', 'sings', 'wildling', 'make', 'heart', 'sing', 'pull', 'bowstring', 'shoot', 'wildling', 'wildling', 'think', 'love', 'wanna', 'know', 'sure', 'wanna', 'take', 'cave', 'kiss', 'baby', \"'cause\", \"i've\", 'never', 'done', 'yeah', 'wildling', 'woo', 'wildling', 'cheering', 'applause', 'really', 'really', 'really', 'really', 'good', 'um', 'one', 'tiny', 'thing', 'lings', 'careful', 'going', 'little', 'bit', 'flat', 'rose', 'leslie', 'know', 'nothing', 'rose', 'kit', 'wink', 'seductively', 'iwan', 'rheon', 'alfie', 'allen', 'charlotte', 'hope', 'sing', \"i'm\", 'real', 'bastard', 'iwan', 'rheon', 'singing', \"there's\", 'one', 'thing', 'theon', 'might', 'taught', 'alfie', 'allen', 'singing', 'one', 'thing', \"i've\", 'taught', 'iwan', 'rheon', 'singing', \"i've\", 'caught', 'alfie', 'allen', 'charlotte', 'hope', 'singing', \"he's\", 'caught', 'ya', 'iwan', 'rheon', 'singing', 'torture', 'alfie', 'allen', 'charlotte', 'hope', 'singing', 'torture', 'narrator', 'old', 'wounds', 'healed', 'new', 'songs', 'revealed', 'iwan', 'rheon', 'singing', \"i'm\", 'real', 'bastard', 'alfie', 'allen', 'charlotte', 'hope', 'singing', \"he's\", 'bit', 'bastard', 'iwan', 'rheon', 'singing', \"i'm\", 'little', 'mean', 'singing', 'together', 'tune', 'little', 'mean', 'iwan', 'rheon', 'singing', 'anyone', 'ever', 'seen', 'alfie', 'allen', 'charlotte', 'hope', 'singing', 'ever', 'seen', 'ever', 'seen', 'anyone', 'ever', 'seen', 'ever', 'seen', 'ever', 'seen', 'ok', 'red', 'wedding', \"we're\", 'passionate', 'one', 'know', 'piano', 'starts', 'serious', 'mess', 'around', 'walder', 'frey', 'mess', 'around', 'walder', 'frey', 'mess', 'mess', 'around', 'walder', 'frey', 'mess', 'around', 'walder', 'frey', 'narrator', 'every', 'style', 'musical', 'canon', 'captured', 'one', 'day', 'blazing', 'glory', 'song', 'ends', 'beautiful', 'nice', 'plays', 'singing', 'red', 'wedding', 'cast', 'wedding', 'robbie', 'stark', 'keep', 'car', 'running', \"there's\", 'need', 'park', \"he's\", 'going', 'make', 'niiight', 'keep', 'wedding', 'cake', 'fridge', 'pay', 'back', 'using', \"i'm\", 'afraid', 'wedding', 'whiiite', 'bom', 'bom', 'bom', 'baba', 'babadum', 'red', 'wedding', 'red', 'wedding', 'lots', 'stabbing', 'bit', 'beheading', 'rains', 'castamere', 'staaaay', 'red', 'wedding', 'dead', 'wedding', 'head', 'shredding', 'bloodshed', 'wedding', 'wedding', 'bedding', 'hey', 'mess', 'around', 'walder', 'frey', 'bang', 'curtains', 'tony', 'award', 'great', 'cheering', 'narrator', 'news', 'success', 'workshop', 'spreads', 'like', 'wildfire', 'suddenly', 'everyone', 'emilia', 'clarke', \"d'you\", 'know', \"i've\", 'never', 'prouder', 'anything', 'always', 'knew', 'gonna', 'triumph', 'george', 'r', 'r', 'martin', 'meets', 'could', 'go', 'wrong', 'emilia', 'clarke', 'singing', 'rastafarian', 'targaryen', 'reggae', 'music', 'game', \"'a\", 'ai', 'eh', 'eh', 'call', 'daenerys', 'targaryen', 'wanna', 'reach', 'feel', 'love', 'call', 'khaleesi', 'got', 'many', 'names', \"i'm\", 'queen', 'andals', 'queen', 'meereen', 'yeah', 'kiss', 'sandals', 'nikolaj', 'costerwaldau', 'singing', 'closer', 'home', 'branch', 'nikolaj', 'costerwaldau', 'funny', 'mean', 'know', 'like', 'musical', 'also', 'hear', 'like', 'hear', 'radio', 'hear', 'everywhere', 'like', 'hit', 'big', 'song', 'big', 'song', 'narrator', 'piano', 'raw', 'emotion', 'pours', 'every', 'corner', 'room', 'nikolaj', 'costerwaldau', 'singing', 'closer', 'home', 'thinking', \"'bout\", 'joffrey', 'spirited', 'lad', 'uncle', 'also', 'dad', 'narrator', 'first', 'romantic', 'ballad', 'incest', \"coldplay's\", 'career', 'nikolaj', 'costerwaldau', 'singing', 'around', 'world', 'heart', 'roam', 'im', 'looking', 'something', 'little', 'closer', 'home', 'closer', 'home', 'closer', 'home', 'family', 'tree', 'branch', 'still', 'going', 'strong', 'gets', 'louder', 'narrator', 'greatest', 'rock', 'opera', 'time', 'coming', 'together', 'peter', 'dinklage', 'singing', 'still', 'going', 'strong', 'two', 'backup', 'singers', 'still', 'going', 'strong', 'hes', 'still', 'going', 'strong', 'yeah', 'yeah', 'hes', 'still', 'going', 'strong', 'remember', 'ned', 'stark', 'lot', 'fun', 'fun', 'didnt', 'make', 'past', 'season', 'one', 'oh', 'peoples', 'parts', 'aint', 'long', 'im', 'still', 'going', 'strong', 'hes', 'still', 'going', 'strooong', \"can't\", 'believe', 'dream', 'come', 'true', 'everything', 'come', 'together', \"everyone's\", 'board', 'need', 'george', 'r', 'r', \"martin's\", 'permission', \"we're\", \"he's\", 'going', 'go', 'absolutely', 'crazy', 'poster', 'game', 'thrones', 'musical', 'tagline', 'coldplay', 'coming', 'narration', 'returns', 'chris', 'right', 'george', 'r', 'r', 'martin', 'go', 'absolutely', 'crazy', 'poster', 'gets', 'huge', 'cancelled', 'banner', 'setback', \"lil'\", 'bit', \"lil'\", 'bit', 'change', 'words', 'around', 'got', 'plenty', 'brilliant', 'ideas', 'red', 'wedding', 'vocals', 'playing', 'background', 'camera', 'pans', 'past', 'posters', 'alternatives', 'got', 'musical', 'downtown', 'abbey', 'opera', 'breaking', 'bad', 'ballet', 'taken', 'ice', 'narrator', 'huh', 'well', \"that's\", 'bad', 'actually', 'liam', 'neeson', 'appears', 'recording', 'booth', 'well', 'better', 'get', 'skates', 'end', 'ramsay', 'theres', 'one', 'thing', 'theon', 'mightve', 'taught', 'ya', 'theon', 'one', 'thing', 'ive', 'taught', 'ya', 'ramsay', 'ive', 'got', 'ya', 'theon', 'hes', 'got', 'ya', 'ramsay', 'tortured', 'theon', 'torture', 'ramsay', 'im', 'real', 'bastard', 'theon', 'myranda', 'hes', 'bit', 'bastard', 'ramsay', 'little', 'mean', 'little', 'mean', 'anyone', 'youve', 'ever', 'seen', 'anyone', 'youve', 'ever', 'seen', 'ever', 'seen', \"there's\", 'old', 'song', 'coming', 'radio', 'overrun', 'got', 'us', 'let', 'garbage', 'grow', 'tell', 'kids', 'stop', 'feeling', 'refugees', 'cause', \"they're\", 'like', \"they're\", 'like', 'boys', 'rock', 'roll', 'cause', 'wanna', 'talk', 'anymore', 'girls', 'get', 'say', 'world', 'dismissed', 'kiss', 'kids', 'war', 'lobby', 'lines', 'diamond', 'mines', 'listen', 'people', 'beautiful', 'beautiful', 'world', \"there's\", 'new', 'song', 'coming', 'radio', 'frutas', 'florecen', 'en', 'todo', 'el', 'mundo', 'let', 'flowers', 'blossom', 'hummingbirds', 'hum', \"we're\", 'born', 'equal', 'sun', 'someone', 'could', 'could', 'someone', 'would', 'done', 'boys', 'rock', 'roll', 'cause', 'hate', 'anymore', 'girls', 'theyre', 'world', 'sound', 'fourtothefloor', 'everyone', 'part', 'sum', 'riches', 'rain', 'poor', 'say', 'oh', 'ohoh', 'ohohwhoa', 'beautiful', 'beautiful', 'world', 'take', 'noise', 'make', 'noise', 'sing', 'like', 'never', 'say', 'oh', 'ohoh', 'ohohwaoh', 'beautiful', 'beautiful', 'world', 'beautiful', 'beautiful', 'world', 'missing', 'something', 'looking', 'something', 'tired', 'everything', 'searching', 'struggling', 'worried', 'wanna', 'talk', 'oh', 'gonna', 'get', 'right', 'sometime', \"there's\", 'much', 'scared', 'much', 'make', 'sense', 'running', 'circle', \"can't\", 'careful', \"can't\", 'relate', \"'cause\", 'complicated', 'oh', 'gonna', 'get', 'right', 'sometime', 'gonna', 'get', 'right', 'sometime', \"that's\", 'see', 'world', 'many', 'times', 'say', \"can't\", 'believe', 'heard', \"that's\", 'see', 'world', 'worry', 'gonna', 'get', 'hurt', 'oooh', 'something', 'missing', 'nobody', 'listening', 'scared', 'know', 'wanna', 'end', 'need', 'conversation', 'information', 'oh', 'gonna', 'get', 'right', 'sometimes', 'wanna', 'get', 'right', 'sometimes', \"that's\", 'see', 'world', 'many', 'times', 'heard', \"can't\", 'believe', 'word', \"that's\", 'see', 'world', 'oh', 'worry', \"'cause\", 'nobody', 'hurt', \"that's\", 'see', 'world', \"that's\", 'see', 'world', 'probably', 'best', 'song', 'ever', 'written', \"he's\", 'best', 'singer', 'world', 'mr', 'richard', 'ashcroft', 'ok', 'go', \"'cause\", 'bittersweet', 'symphony', 'life', \"tryin'\", 'make', 'ends', 'meet', 'slave', 'money', 'die', \"i'll\", 'take', 'road', \"i've\", 'ever', 'know', 'one', 'takes', 'places', 'veins', 'meet', 'yeah', 'know', \"can't\", 'change', 'change', 'change', 'change', \"i'm\", 'mold', 'mold', \"i'm\", 'million', 'different', 'people', 'one', 'day', 'next', \"can't\", 'change', 'mold', 'ever', 'ever', 'well', 'never', 'pray', 'tonight', \"i'm\", 'knees', 'yeah', 'need', 'hear', 'sounds', 'recognize', 'pain', 'let', 'melody', 'shine', 'let', 'cleanse', 'mind', 'feel', 'free', 'airways', 'clean', \"there's\", 'nobody', 'singing', 'know', \"can't\", 'change', 'change', 'change', 'change', \"i'm\", 'mold', 'mold', \"i'm\", 'million', 'different', 'people', 'one', 'day', 'next', \"can't\", 'change', 'mold', 'ever', 'ever', \"'cause\", 'bittersweet', 'symphony', 'life', \"tryin'\", 'make', 'ends', 'meet', 'slave', 'money', 'die', \"i'll\", 'take', 'road', \"i've\", 'ever', 'know', 'one', 'takes', 'places', 'veins', 'meet', 'yeah', 'know', \"can't\", 'change', 'change', 'change', 'change', \"i'm\", 'mold', 'mold', \"i'm\", 'million', 'different', 'people', 'one', 'day', 'next', \"can't\", 'change', 'mold', 'ever', 'ever', \"i'll\", 'take', 'road', \"i've\", 'ever', \"i'll\", 'take', 'road', \"i've\", 'ever', 'ever', 'ever', 'ooh', \"'cause\", 'bittersweet', 'symphony', 'yeah', \"'cause\", 'bittersweet', 'symphony', 'yeah', 'life', 'life', 'lives', 'come', 'take', 'road', \"i've\", 'ever', \"'cause\", 'bittersweet', 'symphony', 'yeah', 'life', 'life', 'life', 'thank', 'flock', 'birds', 'hovering', 'flock', 'birds', 'think', 'love', 'always', 'look', 'sky', 'pray', 'dawn', 'cause', 'fly', 'always', 'sometimes', 'arrive', 'sometimes', 'gone', 'fly', 'flock', 'birds', 'hovering', 'smoke', 'im', 'turned', 'rise', 'following', 'still', 'always', 'look', 'sky', 'pray', 'dawn', 'cause', 'fly', 'away', 'one', 'minute', 'arrive', 'next', 'know', 'theyre', 'gone', 'fly', 'fly', 'oh', 'fly', 'ride', 'maybe', 'one', 'day', 'ill', 'fly', 'next', 'fly', 'ride', 'maybe', 'one', 'day', 'fly', 'fly', 'fly', 'fly', 'charlie', 'chaplin', \"i'm\", 'sorry', 'want', 'emperor', \"that's\", 'business', 'want', 'rule', 'conquer', 'anyone', 'like', 'help', 'everyone', 'possible', 'jew', 'gentile', 'black', 'man', 'white', 'want', 'help', 'one', 'another', 'human', 'beings', 'like', 'want', 'live', \"other's\", 'happiness', \"other's\", 'misery', 'want', 'hate', 'despise', 'one', 'another', 'world', \"there's\", 'room', 'everyone', 'good', 'earth', 'rich', 'provide', 'everyone', 'hear', 'say', 'despair', 'misery', 'upon', 'us', 'passing', 'greed', 'bitterness', 'men', 'fear', 'way', 'human', 'progress', 'hate', 'men', 'pass', 'dictators', 'die', 'power', 'took', 'people', 'return', 'people', 'kingdom', 'god', 'within', 'man', 'one', 'man', 'group', 'men', 'men', 'people', 'power', 'power', 'create', 'machines', 'power', 'create', 'happiness', 'people', 'power', 'make', 'life', 'free', 'beautiful', 'make', 'life', 'wonderful', 'adventure', 'wonderful', 'adventure', 'oh', 'think', 'landed', 'world', 'seen', \"i'm\", 'feeling', 'ordinary', 'know', 'mean', 'oh', 'think', 'landed', 'miracles', 'work', 'thirst', 'hunger', 'come', 'conference', 'birds', 'saying', 'true', 'seems', 'leave', 'broken', 'windows', 'open', 'light', 'streams', 'get', 'head', 'head', 'full', 'dreams', 'see', 'change', 'wanted', 'want', 'get', 'head', 'head', 'full', 'dreams', 'life', 'ive', 'woken', 'head', 'full', 'head', 'full', 'dreams', 'oh', 'think', 'landed', 'miracles', 'work', 'got', 'openhanded', 'got', 'lost', 'words', 'sing', 'oh', 'whoa', 'oh', 'oh', 'sing', 'oh', 'whoa', 'oh', 'oh', 'oh', 'whoa', 'oh', 'oh', 'full', 'dreams', 'oh', 'whoa', 'oh', 'oh', 'life', 'ive', 'spoken', 'head', 'full', 'head', 'full', 'dreams', 'let', 'go', 'boys', 'let', 'go', 'push', 'boat', 'highest', 'cliff', 'sea', 'rocks', 'waiting', 'boys', 'rocks', 'await', 'swoop', 'sky', 'catch', 'like', 'bird', 'prey', 'feet', 'touch', 'ground', 'head', 'stop', 'wait', 'lifetime', 'found', 'feet', 'touch', 'ground', 'singing', 'feet', 'touch', 'ground', 'head', 'stop', 'wait', 'lifetime', 'found', 'feet', 'touch', 'ground', 'feet', 'touch', 'ground', 'come', 'want', 'see', 'thing', \"that's\", 'happening', 'like', 'moses', 'power', 'sea', 'got', 'power', 'come', 'want', 'know', 'refuge', 'somewhere', 'go', 'air', 'air', 'breathe', 'golden', 'opportunity', 'hook', 'oh', 'oh', 'yes', 'would', 'could', 'know', 'would', 'baby', 'oh', 'baby', 'wish', 'come', 'want', 'see', 'difference', 'made', \"i'll\", 'waiting', 'matter', 'say', \"i'll\", 'keep', 'waiting', 'days', 'days', 'days', 'hook', 'wish', 'oh', 'oh', 'oh', 'oh', 'oh', 'oh', \"sky's\", 'gonna', 'fall', 'let', 'fall', 'gonna', 'break', 'break', \"sky's\", 'gonna', 'fall', 'let', 'fall', 'oh', 'lord', 'let', 'fall', 'rain', 'sky', 'wore', 'veil', 'gold', 'green', 'night', 'bride', 'lonely', 'day', 'time', 'floating', 'rain', 'sound', 'foundations', 'crumbling', 'ground', 'comes', 'pyramid', 'tumbling', 'time', 'floated', 'away', 'watch', 'stay', 'listen', 'oh', 'rainy', 'day', 'come', 'round', 'sometimes', 'want', 'slow', \"we're\", 'separated', \"i'm\", 'love', 'come', 'house', 'love', 'come', 'house', 'rain', 'spent', 'night', 'queen', 'spain', 'lonely', 'little', 'heart', 'well', 'broke', 'time', 'vicious', 'singing', 'deeper', 'knife', 'goes', 'win', 'end', 'less', 'begin', 'deeper', 'knife', 'goes', 'ooooooh', 'oh', 'rainy', 'day', 'come', 'round', 'sometimes', 'want', 'slow', \"we're\", 'separated', \"i'm\", 'love', 'come', 'house', 'love', 'come', 'house', 'love', 'come', 'house', 'love', 'come', 'house', 'x', 'somewhere', 'stars', 'wreckage', 'unifloats', 'past', 'somewhere', 'heart', 'tiny', 'little', 'seed', 'sown', 'government', 'overthrown', 'knows', \"we'll\", 'coming', 'home', 'last', 'heard', 'radio', 'one', 'day', \"we'll\", 'living', 'stars', 'heard', 'tv', 'show', 'somewhere', 'heart', \"they'll\", 'tearing', 'us', 'apart', 'maybe', 'moving', 'us', 'mars', 'see', 'earth', 'seconds', 'remain', 'unchanged', '8', '9', '9', '0', 'meeting', 'first', 'time', 'might', 'never', 'meet', 'meeting', 'first', 'time', \"can't\", 'see', '7', '6', '5', '4', 'meeting', 'first', 'time', 'singing', 'space', 'symphony', 'shortened', \"they'll\", 'tearing', 'us', 'apart', 'maybe', 'moving', 'us', 'mars', 'past', 'satellites', 'stars', \"they're\", 'moving', 'us', 'mars', 'feel', 'safe', 'feel', 'warm', 'wrong', 'cured', \"i'm\", 'side', \"i'm\", 'alright', \"i'm\", 'alright', 'safe', 'feel', 'warm', 'want', 'cured', \"i'm\", 'side', \"i'm\", 'alright', 'careful', 'stand', 'love', 'careful', 'lay', 'head', 'true', \"we're\", 'always', 'looking', 'one', 'another', 'feel', 'safe', 'feel', 'warm', 'want', 'cured', 'around', \"i'm\", 'alright', 'careful', 'stand', 'love', 'careful', 'lay', 'head', 'true', \"we're\", 'always', 'looking', 'one', 'another', 'like', 'quiet', 'time', 'please', 'yeah', 'like', 'quiet', 'time', 'ooh', 'ah', 'ooh', 'ah', 'ooh', 'ooh', 'ah', 'ooh', 'ah', 'ooh', 'careful', 'stand', 'careful', 'stand', 'one', 'two', 'three', 'ran', 'away', \"that's\", 'ever', 'though', 'started', 'ran', 'away', \"i'm\", 'going', 'come', 'see', 'ran', 'away', \"that's\", 'ever', 'heard', 'call', 'come', 'back', 'though', 'stay', 'stomach', 'everyone', 'know', 'says', \"i'm\", 'fool', 'mess', 'everyone', 'know', 'says', 'stupid', 'thing', 'love', 'call', 'yet', 'belly', 'full', 'might', 'nothing', 'left', 'ran', 'away', \"i'm\", 'gonna', 'come', 'eyes', 'closed', 'feel', 'near', 'sides', 'close', \"i'm\", 'gonna', 'come', 'burn', 'sky', '4', 'star', 'arose', 'cage', 'stuck', 'line', 'cage', 'single', 'star', 'sing', 'everyone', 'know', 'says', \"i'm\", 'fool', 'mess', 'everyone', 'know', 'says', 'stupid', 'thing', 'love', 'call', 'yet', 'belly', 'full', 'know', 'ran', 'away', 'picture', 'sun', 'wondering', 'went', 'wrong', 'falling', 'knees', 'asking', 'sympathy', 'caught', 'wish', 'seen', 'trying', 'find', 'anything', 'feel', 'believe', 'may', \"god's\", 'love', 'always', 'may', \"god's\", 'love', 'know', 'would', 'apologize', 'could', 'see', 'eyes', \"'cause\", 'showed', 'became', 'someone', 'else', 'caught', 'wish', 'need', 'picture', 'fast', 'asleep', 'nightmare', 'comes', \"can't\", 'keep', 'awake', 'may', \"god's\", 'love', 'always', 'always', 'may', \"god's\", 'love', \"'cause\", 'find', 'find', 'way', 'much', 'find', 'find', 'find', 'way', 'much', 'find', 'found', 'know', 'anymore', \"i'm\", 'even', 'sure', \"there's\", 'anyone', 'sun', 'help', 'understand', \"'cause\", 'caught', 'wish', 'need', 'maybe', 'even', 'sure', 'may', \"god's\", 'love', 'always', 'may', \"god's\", 'love', 'always', 'always', 'may', \"god's\", 'love', \"'cause\", 'find', 'find', 'way', 'much', 'find', 'find', 'find', 'way', 'much', 'find', 'find', 'find', 'way', 'much', 'find', 'found', 'oh', 'found', 'oh', 'found', 'darkness', 'dawn', 'swirling', 'storm', \"i'm\", 'rolling', 'punches', 'hope', 'gone', 'leave', 'light', 'light', 'millions', 'miles', 'home', 'swirling', 'swimming', \"i'm\", 'rolling', 'thunder', 'bleed', 'thorns', 'leave', 'light', 'light', 'leave', 'light', 'light', 'wanna', 'bigger', 'stronger', 'drive', 'faster', 'car', 'take', 'anywhere', 'seconds', 'take', 'anywhere', 'wanna', 'go', 'drive', 'around', 'faster', 'car', 'settle', 'nothing', 'less', 'settle', 'nothing', 'less', 'wanna', 'bigger', 'stronger', 'drive', 'faster', 'car', 'touch', 'button', 'go', 'anywhere', 'wanna', 'go', 'drive', 'around', 'faster', 'car', 'settle', 'nothing', 'less', 'settle', 'nothing', 'less', 'think', 'want', 'change', 'altitude', 'think', 'want', 'change', 'oxygen', 'think', 'want', 'change', 'air', 'atmosphere', 'wanna', 'recharge', 'wanna', 'bigger', 'stronger', 'drive', 'faster', 'car', 'take', 'anywhere', 'seconds', 'take', 'anywhere', 'wanna', 'go', 'drive', 'around', 'faster', 'car', 'settle', 'nothing', 'less', 'settle', 'nothing', 'less', 'think', 'need', 'change', 'attitude', 'think', 'want', 'change', 'oxygen', 'think', 'want', 'change', 'air', 'atmosphere', 'wanna', 'recharge', 'bigger', 'better', 'bigger', 'better', 'bigger', 'better', 'bigger', 'better', 'bigger', 'stronger', 'drive', 'faster', 'car', 'touch', 'button', 'go', 'anywhere', 'wanna', 'go', 'stuck', 'middle', 'nowhere', 'headache', 'heavy', 'heart', 'oh', 'well', 'nothing', 'going', 'quite', 'right', \"i'm\", 'tired', \"can't\", 'play', 'part', 'come', 'come', 'oh', 'state', \"i'm\", 'come', 'come', 'sink', 'help', 'around', 'corner', 'us', 'oh', 'head', 'stop', \"achin'\", \"i'm\", 'sat', \"lickin'\", 'wounds', \"i'm\", 'shattered', 'really', 'matter', 'cos', 'rescue', 'gonna', 'soon', 'come', 'come', 'oh', 'state', \"i'm\", 'come', 'come', 'sink', 'help', 'around', 'corner', 'us', 'help', 'around', 'corner', 'us', 'oh', 'help', 'around', 'corner', 'us', 'brothers', 'sisters', 'unite', 'time', 'lives', 'time', 'lives', 'breakdown', 'breakdown', 'gotta', 'spread', 'love', 'around', 'gotta', 'spread', 'around', 'brothers', 'sisters', 'feel', 'fine', 'time', 'lives', 'time', 'lives', \"there's\", 'sound', 'sound', 'like', 'feeling', 'found', 'like', 'feeling', 'found', 'stay', \"'cause\", 'sometimes', 'feel', 'stay', 'sometimes', 'feel', 'post', \"they're\", 'looking', 'never', 'survive', \"we'll\", 'around', 'long', 'brothers', 'sisters', 'unite', 'time', 'lives', 'time', 'lives', 'breakdown', 'breakdown', 'got', 'spread', 'love', 'around', 'got', 'spread', 'around', 'stay', 'sometimes', 'feel', 'stay', \"'round\", 'sometimes', 'feel', 'post', \"they're\", 'looking', 'never', 'survive', \"we'll\", 'around', 'long', 'gonna', 'alright', 'gonna', 'alright', 'gonna', 'alright', 'animals', 'disposable', 'collapsible', 'raw', 'go', 'crowded', 'room', 'animals', 'climb', \"they're\", 'climbing', 'say', 'go', 'go', 'animal', \"i'm\", 'looking', 'answer', 'like', 'know', 'way', 'turn', 'animal', 'runs', 'ran', 'away', \"i'm\", 'scared', 'go', 'go', 'gonna', 'go', 'go', 'gonna', 'go', 'go', 'forgot', 'tell', 'gonna', 'go', 'go', 'animal', 'disposable', 'defenceless', 'yes', 'watch', 'mouth', 'boys', 'watch', 'mouth', 'animal', 'runs', 'made', 'excuses', 'missed', 'chance', 'stones', 'throw', 'gonna', 'go', 'go', 'gonna', 'go', 'go', 'forgot', 'tell', 'gonna', 'go', 'go', 'go', 'go', 'go', 'crumble', 'crumble', 'fall', 'crumble', 'fall', 'like', 'animal', 'crumble', 'crumble', 'fall', 'crumble', 'fall', 'like', 'animal', 'yes', 'crumble', 'crumble', 'fall', 'crumble', 'fall', 'like', 'animal', 'yes', 'crumble', 'crumble', 'fall', 'crumble', 'fall', 'like', 'animal', 'great', 'north', 'star', 'try', 'work', 'silence', 'sea', 'know', \"i'll\", 'future', 'past', 'going', 'nowhere', 'much', 'fast', 'go', 'go', 'go', 'go', \"'cause\", 'know', \"i'm\", 'going', 'wanna', 'talk', 'feel', 'like', \"i'm\", 'going', \"i've\", 'wanna', 'talk', 'take', 'picture', 'something', 'sure', 'bring', 'back', 'show', 'know', 'see', 'future', 'find', 'home', 'getting', 'nowhere', 'got', 'find', 'missing', 'piece', \"'cause\", 'know', 'going', 'wanna', 'talk', 'feel', 'like', 'going', \"nothing's\", 'really', 'making', 'sense', 'tell', 'anyone', \"who'll\", 'listen', 'feel', 'ignored', \"let's\", 'talk', \"let's\", 'talk', 'wanna', 'talk', \"i'm\", 'part', 'throne', \"i'm\", 'trying', 'sing', 'song', 'language', 'speak', 'tried', \"can't\", 'get', \"i'm\", 'trying', 'get', 'difficult', 'reach', 'talk', 'know', 'going', 'wanna', 'talk', 'feel', 'like', 'going', \"let's\", 'talk', \"let's\", 'talk', \"let's\", 'talk', \"let's\", 'talk', 'tides', 'control', 'sea', 'becomes', 'little', 'things', 'slip', 'hands', 'often', 'people', 'change', 'two', 'remain', 'things', 'always', 'turn', 'plan', 'pre', 'things', 'understand', 'yeah', 'things', 'understand', \"can't\", \"can't\", 'decide', 'wrong', 'wrong', 'right', 'day', 'day', 'night', 'dark', 'dark', 'light', 'live', 'love', 'life', 'infinite', 'space', 'decides', 'fate', 'everything', 'dissolve', 'sand', 'avoid', 'defeat', 'truth', 'fiction', 'meet', 'nothing', 'ever', 'turns', 'plan', 'pre', 'things', 'understand', 'yeah', 'things', 'understand', \"can't\", \"can't\", 'decide', 'wrong', 'wrong', 'right', 'day', 'day', 'night', 'dark', 'dark', 'light', 'live', 'love', 'life', 'could', 'worse', 'could', 'alone', 'could', 'locked', 'like', 'stone', 'suddenly', 'drops', 'never', 'stops', 'could', 'lost', 'could', 'saved', 'calling', 'beneath', 'waves', 'beaten', 'ocean', 'rain', 'never', 'never', 'screaming', 'crests', 'waves', 'could', 'worse', 'bitter', 'sweet', 'could', 'snapped', 'jaws', 'defeat', 'like', 'light', 'lit', 'beach', 'wear', 'heart', 'sleeve', '4', 'want', 'stop', 'begin', 'want', 'sink', 'know', 'could', 'swim', 'want', 'stop', 'begin', 'never', 'give', 'never', 'give', 'screaming', 'crests', 'waves', 'nothing', 'matters', 'except', 'life', 'love', 'make', 'nothing', 'matters', 'except', 'life', 'love', 'make', 'nothing', 'matters', 'except', 'life', 'love', 'make', 'except', 'life', 'love', 'make', 'screaming', 'crests', 'waves', 'screaming', 'crests', 'waves', 'longing', 'saved', 'screaming', 'crests', 'waves', 'longing', 'saved', 'screaming', 'crests', 'waves', 'rush', 'nothing', 'fuss', 'nothing', 'rush', 'nothing', 'rush', 'get', 'nowhere', 'fuss', 'nothing', 'rush', 'like', 'said', 'like', 'said', 'rush', 'nothing', 'fuss', 'get', 'nowhere', 'rush', 'rush', 'like', 'said', 'like', 'said', 'slow', 'please', 'slow', 'slow', 'please', 'slow', 'rush', 'rush', 'rush', 'rush', 'rush', 'rush', 'rush', 'rush', 'rush', 'rush', 'rush', 'rush', 'rush', 'rush', 'rush', 'look', 'people', 'going', 'money', 'far', 'many', 'people', 'looking', 'money', \"everybody's\", 'trying', 'get', 'money', \"can't\", 'tell', 'trying', 'get', 'money', 'rush', 'rush', 'rush', 'rush', 'rush', 'rush', 'rush', 'rush', 'rush', 'rush', 'gone', '000', 'miles', 'far', 'snow', 'came', 'gets', 'colder', 'day', 'day', 'miss', 'hear', 'children', \"singin'\", 'felt', 'like', 'christmas', 'time', 'frozen', 'silent', 'nights', 'sometimes', 'dream', 'appear', 'outside', 'purple', 'sky', 'diamonds', 'snow', 'sparkle', 'hearts', \"singin'\", 'felt', 'like', 'christmas', 'time', '000', 'miles', 'far', 'snow', 'think', 'wherever', 'go', '000', 'miles', 'far', 'snow', 'think', 'wherever', 'go', 'gone', '000', 'miles', 'far', 'snow', 'came', 'falling', 'gets', 'colder', 'day', 'day', 'miss', 'hear', 'people', \"singin'\", 'felt', 'like', 'christmas', 'time', 'hear', 'people', \"singin'\", 'felt', 'like', 'christmas', 'time', 'hear', 'people', \"singin'\", 'felt', 'like', 'christmas', 'time', 'hear', 'people', \"singin'\", 'felt', 'like', 'christmas', 'time', 'stuck', 'corner', 'like', 'monkeys', 'cages', 'number', 'fight', 'one', 'another', 'try', 'recover', 'climb', 'ladder', 'look', 'see', 'birds', 'blind', 'long', 'suffer', \"we're\", 'blind', 'cloud', 'sitting', \"there's\", 'one', 'born', 'every', 'minute', 'much', 'discover', \"i've\", 'become', 'believer', 'sisters', 'brothers', 'fight', 'one', 'another', 'mourn', 'deceive', 'us', 'find', 'us', 'keep', 'us', 'take', 'us', 'leave', 'us', '4', 'soon', 'long', 'never', \"i'm\", 'nothing', 'normal', \"we're\", 'something', 'together', 'come', 'stick', 'together', 'cloud', 'sitting', \"there's\", 'one', 'born', 'every', 'minute', 'much', 'discover', \"i've\", 'become', 'believer', 'simon', 'pegg', 'yeah', 'yeah', 'yeah', 'yeah', 'first', 'chapter', 'well', 'full', 'surprises', 'love', 'grateful', 'hearts', 'exist', 'goodnight', 'good', 'afternoon', 'good', 'morning', 'wherever', 'world', 'god', 'bless', 'kind', 'together', 'one', 'big', 'band', 'everything', 'possible', 'never', 'give', 'believe', 'love', 'love', 'hope', 'get', 'old', 'hope', 'find', 'way', 'seeing', 'love', 'hope', 'hope', 'find', 'way', 'letting', 'see', \"i'm\", 'easy', 'please', 'easy', 'love', 'hope', 'grow', 'old', 'hope', 'find', 'way', 'seeing', 'love', 'hope', 'hope', 'find', 'way', 'letting', 'see', \"i'm\", 'easy', 'please', 'easy', 'could', 'could', 'come', 'back', 'come', 'back', 'together', 'put', 'back', 'say', 'forever', 'could', 'could', 'come', 'home', 'come', 'home', 'forever', 'shoulders', 'knees', 'back', 'keep', 'us', 'together', \"'cause\", 'one', 'love', 'one', 'love', 'one', 'love', 'ahhhh', 'ahhhh', 'could', 'could', 'come', 'could', 'tell', 'whatever', 'tie', 'mast', 'never', '4', 'gonna', 'tear', 'us', 'apart', 'tell', 'forever', 'going', 'tear', 'us', 'apart', 'keep', 'us', 'together', 'one', 'love', 'one', 'love', 'ahhh', 'ahhh', 'one', 'love', 'yeah', 'yeah', 'one', 'oooooooooooooo', 'oooooooooooooo', 'one', 'love', 'one', 'love', 'one', 'love', 'ever', 'let', 'go', 'letra', 'de', 'amor', 'argentina', 'live', 'buenos', 'aires', 'one', 'two', 'one', 'two', 'three', 'four', 'verso', 'siento', 'señor', 'hablo', 'bien', 'español', 'el', 'idioma', 'del', 'sol', 'porque', 'soy', 'idiota', 'pero', 'hay', 'una', 'canción', 'dentro', 'de', 'mi', 'corazón', 'les', 'cuento', 'con', 'emoción', 'algo', 'explota', 'coro', 'del', 'amor', 'soy', 'explorador', 'busca', 'alrededor', 'por', 'todo', 'mi', 'vida', 'pero', 'señor', 'aquí', 'la', 'búsqueda', 'terminó', 'viví', 'el', 'amor', 'en', 'argentina', 'verso', 'ahora', 'la', 'historia', 'de', 'nuestra', 'gira', 'mundial', 'empezamos', 'aquí', 'acabamos', 'aquí', 'porque', 'en', 'este', 'lugar', 'este', 'lugar', 'es', 'profundo', 'yo', 'decidí', 'luego', 'aprendí', 'amor', 'para', 'todo', 'el', 'mundo', 'coro', 'del', 'amor', 'soy', 'explorador', 'busca', 'alrededor', 'por', 'todo', 'mi', 'vida', 'pero', 'señor', 'aquí', 'la', 'búsqueda', 'terminó', 'porque', 'viví', 'amor', 'en', 'argentina', 'todos', 'porque', 'del', 'amor', 'soy', 'explorador', 'pero', 'viví', 'el', 'amor', 'en', 'argentina', 'gracias', 'amazing', 'grace', 'sweet', 'sound', 'saved', 'wretch', 'like', 'lost', \"i'm\", 'found', 'blind', 'see', 'world', 'gone', 'wrong', 'strong', 'wonder', 'world', 'power', 'the\\u2005people', 'in\\u2005a', 'world', 'of\\u2005fright', 'get', 'right', 'wonder\\u2005of', 'world', 'power', 'people', 'world', 'tonight', 'turn', 'right', 'strength', 'eagle', 'world', 'tonight', 'see', 'light', 'wonder', 'world', 'power', 'people', 'oohoohooh', 'oohoohoohooh', 'oohoohoohooh', 'oohoohoohooh', 'coldplay', 'yellowviva', 'la', 'vidaparadiseadventure', 'lifetimebruno', 'mars', 'uptown', 'funkbeyonce', 'formationuptown', 'funk', 'mix', 'crazy', 'love', 'coldplay', 'fix', 'youupup', 'imagine', \"there's\", 'heaven', 'easy', 'try', 'hell', 'us', 'us', 'sky', 'imagine', 'people', 'living', 'today', 'ahaahh', 'imagine', \"there's\", 'countries', 'hard', 'nothing', 'kill', 'die', 'religion', 'imagine', 'people', 'living', 'life', 'peace', 'yoohooooh', 'may', 'say', \"i'm\", 'dreamer', \"i'm\", 'one', 'hope', 'someday', 'join', 'us', 'world', 'one', 'imagine', 'possessions', 'wonder', 'need', 'greed', 'hunger', 'brotherhood', 'man', 'imagine', 'people', 'sharing', 'world', 'yoohooooh', 'may', 'say', \"i'm\", 'dreamer', \"i'm\", 'one', 'hope', 'someday', 'join', 'us', 'world', 'live', 'one', 'summer', 'hung', \"round'\", 'streets', 'hometown', 'dreamed', 'us', 'getting', 'close', 'dressing', 'in\\u2005your\\u2005wedding', 'clothes', 'summer\\u2005it', 'went', 'got', 'kings', 'of\\u2005leon', 'got', 'trippedout', 'haze', 'busy', 'hours', 'turned', 'days', 'oh', 'got', 'drunk', 'fell', 'love', 'love', 'lethal', 'drug', 'got', 'drunk', 'took', 'much', 'love', 'lethal', 'drug', 'summer', 'belong', 'way', 'let', 'feeling', 'slowly', 'sinking', 'lying', 'back', 'watching', 'heaven', 'spin', 'head', 'parrot', 'saw', 'biomorphic', 'thick', 'stars', 'know', 'else', 'win', 'give', 'one', 'give', 'one', 'hit', 'oh', 'got', 'drunk', 'fell', 'love', 'love', 'lethal', 'drug', 'fell', 'picked', 'love', 'lethal', 'star', \"can't\", 'give', 'coursing', 'blood', 'get', 'enough', 'love', 'lethal', 'drug', 'love', 'lethal', 'drug', 'break', 'went', 'smoke', 'love', 'another', 'dose', 'soar', 'body', 'floats', 'love', 'lethal', 'dose', 'love', 'lethal', 'dose', 'yeah', 'love', 'lethal', 'dose', 'spoken', 'human', 'guest', 'house', 'every', 'morning', 'new', 'arrival', 'joy', 'depression', 'meanness', 'momentary', 'awareness', 'comes', 'unexpected', 'visitor', 'welcome', 'entertain', 'even', 'crowd', 'sorrows', 'violently', 'sweep', 'house', 'empty', 'furniture', 'still', 'treat', 'guest', 'honorably', 'may', 'clearing', 'new', 'delight', 'dark', 'thought', 'shame', 'malice', 'meet', 'door', 'laughing', 'invite', 'grateful', 'whoever', 'comes', 'sent', 'guide', 'beyond', 'x', 'land', 'sea', 'rivers', 'trees', 'stars', 'sky', \"we're\", 'part', 'bigger', 'plan', 'know', 'know', 'land', 'sun', 'trees', 'sky', 'stars', 'sea', '65', 'degrees', 'puzzle', 'missing', 'piece', 'hang', 'minute', 'minute', 'please', \"i'll\", 'come', 'everything', 'sun', 'everything', 'sun', 'feeling', \"can't\", 'explain', 'never', 'gonna', 'sleep', 'thing', \"i've\", 'never', 'seen', 'little', 'boy', 'lost', 'breaking', 'storm', 'pilots', 'away', 'fly', 'write', 'name', 'summer', 'sky', 'life', 'really', 'begun', 'life', 'comes', 'everything', 'sun', 'x', 'land', 'sea', 'rivers', 'trees', 'stars', 'sky', '65', 'degrees', 'surface', 'underneath', 'searching', 'mellow', 'outsings', 'key', 'ah', 'everything', 'sun', 'everything', 'sun', 'feeling', \"can't\", 'explain', 'never', 'gonna', 'sleep', 'thing', \"i've\", 'never', 'seen', 'little', 'boy', 'lost', 'breaking', 'storm', 'pilots', 'away', 'fly', 'write', 'name', 'summer', 'sky', 'life', 'really', 'begun', 'life', 'comes', 'everything', 'sun', 'know', 'born', \"can't\", 'see', 'calm', 'storm', \"can't\", 'tell', 'right', 'side', 'wrong', \"can't\", 'see', 'wave', 'riding', 'lose', 'home', 'diamonds', 'ate', 'radio', 'moving', 'dead', 'night', 'took', 'photographs', 'history', 'know', 'moving', 'speed', 'flight', 'pre', 'kids', 'cry', 'want', \"that's\", 'alright', 'want', 'hold', 'hold', 'tight', 'alien', 'hovering', 'without', 'home', 'millions', 'ufo', 'hovering', 'hope', 'scope', 'tonight', 'sees', 'light', 'says', 'pre', 'fly', 'want', \"that's\", 'alright', 'want', 'call', 'call', 'line', 'alien', 'alien', 'oh', 'want', 'get', 'home', 'tell', 'leader', 'sir', \"ma'am\", 'come', 'peace', 'mean', 'harm', 'somewhere', 'unknown', \"et's\", 'phoning', 'home', 'watching', 'life', 'skyline', 'crossing', 'eyes', 'lifetime', 'alien', 'moving', 'target', 'target', 'movement', 'patch', 'corner', 'spacetime', 'alien', 'turning', 'toward', 'turning', 'pages', 'asia', 'crossing', 'ages', 'alien', 'oh', 'want', 'get', 'home', 'maybe', 'really', 'want', 'know', 'garden', 'grows', 'cause', 'want', 'fly', 'lately', 'ever', 'feel', 'pain', 'morning', 'rain', 'soaks', 'bone', 'maybe', 'want', 'fly', 'want', 'live', 'want', 'die', 'maybe', 'want', 'breathe', 'maybe', 'believe', 'maybe', 'see', 'things', \"they'll\", 'never', 'see', 'gonna', 'live', 'forever', 'said', 'maybe', 'really', 'want', 'know', 'garden', 'grows', 'cause', 'want', 'fly', 'lately', 'ever', 'feel', 'pain', 'morning', 'rain', 'soaks', 'bone', 'maybe', 'never', 'things', 'want', 'time', 'cry', \"now's\", 'time', 'find', 'think', 'see', 'things', \"they'll\", 'never', 'see', 'gonna', 'live', 'forever', 'maybe', 'really', 'want', 'know', 'garden', 'grows', 'cause', 'want', 'fly', 'lately', 'ever', 'feel', 'pain', 'morning', 'rain', 'soaks', 'bone', 'maybe', 'want', 'fly', 'want', 'live', 'want', 'die', 'maybe', 'want', 'breathe', 'maybe', 'believe', 'maybe', 'see', 'things', \"they'll\", 'never', 'see', 'gonna', 'live', 'forever', 'gonna', 'live', 'forever', 'gonna', 'live', 'forever', \"we're\", 'gonna', 'live', 'forever', \"we're\", 'gonna', 'live', 'forever', \"we're\", 'gonna', 'live', 'forever', \"we're\", 'gonna', 'live', 'forever', \"we're\", 'gonna', 'live', 'forever', 'lovers', 'keep', 'road', 'runners', 'race', 'run', 'soldiers', 'got', 'soldier', 'sometimes', 'even', 'right', 'wrong', 'turning', 'head', 'see', \"i'm\", 'keeping', 'head', 'see', 'feels', 'like', 'doubt', 'one', 'day', 'gonna', 'get', 'ooo', 'ooooo', 'tonight', 'maybe', \"we're\", 'gonna', 'run', 'dreaming', 'osaka', 'sun', 'ohh', 'ohh', 'dreaming', 'morning', 'comes', 'turning', 'head', 'see', \"i'm\", 'keeping', 'head', 'see', 'feels', 'like', 'doubt', 'one', 'day', 'sun', 'come', 'woo', 'hoo', 'woo', 'hoo', 'woo', 'hoo', 'woo', 'hoo', 'woo', 'hoo', 'woo', 'hoo', 'woo', 'hoo', 'woo', 'hoo', 'turn', 'magic', 'umi', \"she'd\", 'say', 'everything', \"want's\", 'dream', 'away', 'legends', 'every', 'day', \"that's\", 'told', 'refrain', 'turn', 'magic', \"she'd\", 'say', 'everything', \"want's\", 'dream', 'away', 'pressure', 'weight', 'diamonds', 'feel', 'heart', 'beating', 'feel', 'heart', 'underneath', 'skin', 'feel', 'heart', 'beating', 'oh', 'make', 'feel', 'like', \"i'm\", 'alive', 'woo', 'hoo', 'woo', 'hoo', 'oh', 'make', 'feel', 'woo', 'hoo', 'woo', 'hoo', 'like', \"i'm\", 'alive', 'said', \"can't\", 'go', 'way', \"i'm\", 'dream', 'died', 'light', 'day', 'gonna', 'hold', 'half', 'sky', 'say', 'feel', 'heart', 'beating', 'feel', 'heart', 'underneath', 'skin', 'oh', 'feel', 'heart', 'beating', 'cause', 'make', 'feel', 'like', \"i'm\", 'alive', 'alive', 'oh', 'make', 'feel', 'like', \"i'm\", 'alive', 'post', 'woo', 'hoo', 'woo', 'hoo', 'woo', 'hoo', 'woo', 'hoo', \"we've\", 'got', 'life', 'adventure', 'oh', \"we've\", 'got', 'life', 'get', 'oh', \"we've\", 'got', 'life', 'adventure', 'oh', 'want', 'share', 'yeah', 'woo', 'hoo', 'woo', 'hoo', 'woo', 'hoo', 'woo', 'hoo', 'woo', 'hoo', 'woo', 'hoo', 'woo', 'hoo', 'woo', 'hoo', 'woo', 'hoo', 'woo', 'hoo', 'woo', 'hoo', 'woo', 'hoo', 'woo', 'hoo', 'woo', 'hoo', 'woo', 'hoo', 'woo', 'hoo', 'start', 'came', 'apart', 'broke', 'pieces', 'chance', \"could've\", 'missed', 'could', 'risked', 'put', 'hands', \"'cause\", 'anyone', 'ladder', 'sun', 'oh', 'anyone', 'ladder', 'sun', 'run', 'courses', 'opposing', 'forces', 'men', 'mortals', 'want', 'take', 'oh', 'baby', 'grab', \"'cause\", 'want', \"'cause\", 'anyone', 'ladder', 'sun', 'oh', 'anyone', 'ladder', 'sun', 'oh', 'boy', 'done', 'set', 'course', 'run', 'oh', 'boy', 'done', 'risked', 'chance', 'missed', 'risked', 'risked', 'risked', 'ladder', 'ladder', 'sun', 'ladder', 'ladder', 'sun', 'ladder', 'ladder', 'sun', 'risked', 'ladder', 'ladder', 'sun', 'ladder', 'ladder', 'sun', 'risked', 'oooh', 'oooh', 'oooh', 'oooh', 'left', 'la', 'mancha', 'heading', 'higher', 'plains', 'sancho', 'panza', 'looking', 'adventure', 'rocinante', 'reigns', 'windmills', 'answer', 'never', 'lonely', 'never', 'lonely', 'ever', 'never', 'lonely', 'never', 'lonely', 'heard', 'never', 'get', 'wet', 'spanish', 'rain', 'sent', 'doctor', 'examining', 'brain', 'said', \"he's\", 'clever', 'world', 'world', 'seems', 'little', 'bit', 'cruel', 'going', 'leave', 'better', 'going', 'make', 'one', 'better', 'yeah', 'tell', 'princess', 'tell', 'princess', 'hide', 'drain', 'tell', 'princess', \"she'll\", 'never', 'lonely', 'heard', 'never', 'get', 'wet', 'spanish', 'rain', 'oooh', 'oooh', 'heard', 'never', 'get', 'wet', 'spanish', 'rain', 'people', 'sing', 'ole', 'ole', 'ole', 'ole', 'ole', 'ole', 'ole', 'ole', 'ole', 'ole', 'coldplay', 'coldplay', 'heard', 'never', 'get', 'wet', 'spanish', 'rain', 'x', 'day', 'long', 'night', 'night', 'alone', 'sure', 'enough', 'life', 'well', 'hang', 'let', 'go', \"'cause\", 'everybody', 'cries', 'everybody', 'hurts', 'sometimes', 'sometimes', 'everything', 'wrong', 'time', 'sing', 'along', 'day', 'night', 'alone', 'hold', 'hold', 'feel', 'like', 'letting', 'go', 'hold', 'think', 'much', 'life', 'well', 'hang', 'everybody', 'hurts', 'take', 'comfort', 'friends', 'everybody', 'hurts', 'throw', 'hand', 'oh', 'throw', 'hand', 'feel', 'like', 'alone', 'alone', 'life', 'days', 'nights', 'long', 'think', 'much', 'life', 'hang', 'well', 'everybody', 'hurts', 'sometimes', 'everybody', 'cries', 'everybody', 'hurts', 'sometimes', 'everybody', 'hurts', 'sometimes', 'hold', 'hold', 'hold', 'hold', 'hold', 'hold', 'hold', 'hold', 'everybody', 'hurts', 'cardboard', 'head', 'see', 'found', 'way', 'old', 'old', 'old', 'making', 'cry', 'sleep', 'move', \"i'm\", 'scared', 'leave', 'room', 'defeated', 'oh', 'cards', 'go', 'way', 'sure', 'spoil', 'day', 'voices', 'loud', 'clear', 'say', 'superstition', 'imagination', 'things', 'fear', 'things', \"can't\", 'escape', 'keep', 'clean', 'thousandth', 'time', 'stand', 'still', 'wait', 'line', 'numbers', 'better', 'others', 'oh', 'cards', 'go', 'way', 'sure', 'spoil', 'day', 'voices', 'loud', 'clear', 'say', 'superstition', 'imagination', 'things', 'fear', 'things', 'cannot', 'explain', 'making', 'cry', 'love', 'making', 'cry', \"i'm\", 'slipping', 'away', 'love', \"i'm\", 'slipping', 'away', 'superstition', 'imagination', 'superstition', 'superstition', 'hook', 'murder', 'coming', 'get', 'us', 'yeah', 'coming', 'get', 'us', 'away', 'hide', 'murder', 'see', 'around', 'us', 'see', 'around', 'us', 'away', 'hide', 'murder', 'coming', 'get', 'us', \"they're\", 'coming', 'get', 'us', 'away', 'hide', 'away', 'hide', 'tie', 'tree', 'tie', 'hands', 'head', 'sing', 'song', 'sing', 'song', 'like', 'said', \"they're\", 'going', 'murder', \"they're\", 'going', 'take', 'even', 'sleep', 'cry', 'murder', 'come', 'spit', 'us', 'come', 'throw', 'weight', 'around', 'come', 'fight', 'us', 'try', 'knock', 'us', 'ground', \"'cause\", \"they're\", 'gonna', 'murder', \"they're\", 'going', 'take', 'even', 'sleep', 'scream', 'murder', 'murder', 'oh', 'possibly', 'gain', 'oh', 'possibly', 'gain', 'oh', 'possibly', 'gain', 'oh', 'yeah', 'possibly', 'gain', 'cry', 'murder', 'murder', 'cry', 'murder', 'hook', 'murder', \"i'm\", 'coming', 'get', 'us', \"i'm\", 'coming', 'get', 'us', 'away', 'hide', 'murder', 'see', 'around', 'us', 'see', 'around', 'us', 'away', 'hide', 'murder', 'coming', 'get', 'us', 'coming', 'get', 'us', 'away', 'hide', 'murder', 'see', 'around', 'see', 'around', 'away', 'hide', 'went', 'digging', 'gold', 'went', 'valley', 'mountain', 'prospector', 'told', \"i'm\", 'marching', 'cold', \"we're\", 'marching', 'cold', 'went', 'digging', 'gold', 'went', 'brother', 'bucket', 'shovel', 'book', 'color', 'coal', \"i'm\", 'marching', 'cold', \"we're\", 'marching', 'cold', \"there's\", 'tiny', 'little', 'crackle', 'telephone', 'line', 'saying', 'use', 'metal', 'metal', 'shine', 'said', 'bring', 'back', 'ring', 'really', 'want', 'one', 'digging', 'long', 'never', 'seen', 'sun', 'went', 'digging', 'gold', 'went', 'valley', 'mountain', 'prospector', 'told', \"i'm\", 'marching', 'cold', \"we're\", 'marching', 'cold', \"there's\", 'tiny', 'little', 'crackle', 'telephone', 'line', 'saying', 'use', 'metal', 'metal', 'shine', 'said', 'bring', 'back', 'ring', 'cause', 'really', 'want', 'one', 'digging', 'long', 'never', 'seen', 'sun', 'x', 'one', 'last', 'time', 'digging', 'long', 'never', 'seen', 'sun', 'sometimes', 'wake', \"i'm\", 'falling', 'asleep', 'think', 'maybe', 'curtains', 'closing', 'wake', 'yes', 'wake', 'smiling', 'sometimes', 'feel', 'oh', 'charge', 'surprising', 'surprisingly', 'good', 'moving', 'around', 'wake', 'yes', 'wake', 'smiling', 'pre', 'feel', 'fine', \"i'm\", 'ok', \"i've\", 'seen', 'lighter', 'side', 'life', \"i'm\", 'alright', 'feel', 'good', \"i'll\", 'go', \"i'll\", 'try', 'stop', 'moving', 'sometimes', 'wake', \"i'm\", 'falling', 'asleep', \"i've\", 'got', 'get', 'going', 'much', \"i'm\", 'wanting', 'wake', 'smiling', 'could', 'last', 'chance', 'saving', 'innocence', 'could', 'last', 'chance', 'keeping', 'feet', 'ground', '4', 'sometimes', 'feel', 'oh', 'charge', 'surprising', 'surprisingly', 'good', 'moving', 'around', 'move', 'wake', 'smiling', 'pre', 'feel', 'fine', 'feel', 'ok', \"i've\", 'seen', 'lighter', 'side', 'life', \"i'm\", 'alright', 'feel', 'good', \"i'll\", 'go', 'well', 'time', 'stop', 'moving', 'could', 'last', 'chance', 'saving', 'innocence', 'could', 'last', 'chance', 'keeping', 'feet', 'ground', \"i'm\", 'gonna', 'keep', \"i'm\", 'gonna', 'keep', \"i'm\", 'gonna', 'keep', \"i'm\", 'gonna', 'keep', 'ground', 'waited', \"i'm\", 'covered', 'true', \"i'm\", 'covered', 'ever', 'want', 'proof', 'find', 'yeah', 'honestly', 'find', 'proof', 'light', 'dark', 'bright', 'spark', 'light', 'dark', 'light', 'waited', 'day', 'say', 'things', 'way', 'things', 'happen', 'way', 'oh', 'ever', 'want', 'proof', 'find', 'oh', 'yeah', 'honestly', 'find', 'proof', 'light', 'dark', 'bright', 'spark', 'light', 'dark', 'light', 'light', 'x4', \"here's\", 'ode', 'ah', 'deodorant', 'thing', 'ah', 'favourite', 'hygiene', 'keeps', 'day', 'another', 'ode', 'ah', 'deodorant', 'thing', 'ah', 'favourite', 'hygiene', 'confidence', 'need', 'medicine', 'soul', 'medicine', 'mind', 'picks', 'makes', 'whole', 'makes', 'feel', 'alright', \"here's\", 'ode', 'ode', 'aerosol', 'thing', 'ah', 'favourite', 'hygiene', 'confidence', 'need', 'medicine', 'soul', 'medicine', 'mind', 'picks', 'makes', 'whole', 'makes', 'feel', 'alright', 'okay', 'oh', 'would', 'ever', 'let', 'way', 'oh', 'would', 'ever', 'let', 'okay', 'oh', 'would', 'ever', 'let', 'way', 'oh', 'would', 'ever', 'let', \"i'll\", 'never', 'let', \"i'll\", 'never', 'let', \"i'll\", 'never', 'let', 'way', 'would', 'ever', 'let', 'let', 'way', 'would', 'ever', 'let', 'let', 'way', 'would', 'ever', 'let', 'let', 'way', 'would', 'ever', 'let', 'let', 'way', 'sweet', 'death', 'ever', 'conquer', 'let', 'know', 'boys', 'let', 'know', 'hear', 'coming', 'let', 'flee', 'let', 'go', 'boys', 'let', 'go', 'one', 'day', 'death', 'going', 'conquer', 'ill', 'waters', 'flow', 'hope', 'sweet', 'heaven', 'place', 'let', 'know', 'boys', 'let', 'know', 'sweet', 'death', 'ever', 'conquer', 'take', 'place', 'hear', 'coming', 'set', 'free', 'let', 'go', 'boys', 'let', 'go', 'hear', 'coming', 'sing', 'dont', 'want', 'go', 'one', 'two', 'steal', 'heart', 'hold', 'tongue', 'feel', 'time', 'time', 'come', 'let', 'unlock', 'door', 'never', 'felt', 'way', 'wheels', 'keep', 'turning', 'drummer', 'begins', 'drum', 'know', 'way', \"i'm\", 'going', 'know', 'way', \"i've\", 'come', 'hold', 'head', 'inside', 'hands', 'need', 'someone', 'understands', 'need', 'someone', 'someone', 'hears', \"i've\", 'waited', 'years', \"i'd\", 'wait', \"'til\", 'kingdom', 'come', 'day', 'day', 'done', 'say', 'come', 'set', 'free', 'say', 'wait', 'wait', 'tears', 'blood', 'fire', 'flood', 'hear', 'laugh', 'heard', 'sing', 'change', 'single', 'thing', 'wheels', 'keep', 'turning', 'drummers', 'begin', 'drum', 'know', 'way', \"i'm\", 'going', 'know', \"i've\", 'become', \"i'd\", 'wait', \"'til\", 'kingdom', 'come', 'days', 'days', 'done', 'say', 'come', 'set', 'free', 'say', 'wait', 'wait', 'say', 'wait', 'wait', 'say', 'wait', 'wait', 'climb', 'mountain', 'nineteen', 'counting', 'got', 'seven', 'got', 'one', 'blinded', 'hurting', \"i'm\", 'deserving', \"i've\", 'got', 'secrets', 'got', 'sleeping', 'sun', 'got', 'secret', 'got', 'keep', 'question', 'answers', 'come', 'running', 'hiding', 'taking', 'dividing', 'got', 'secrets', \"i've\", 'got', 'sleeping', 'sun', 'sleeping', 'sun', 'singing', 'oooh', 'um', 'ohhhh', 'oh', 'ahhh', 'ahh', 'oh', 'oh', 'oh', 'oh', 'oh', 'oh', 'saw', 'piece', 'jigsaw', 'run', 'divide', 'tip', 'tongue', 'run', 'round', 'houses', 'north', 'south', 'got', 'answers', 'got', 'sleeping', 'sun', 'sleeping', 'sun', 'singing', 'oooh', 'um', 'ohhhh', 'oh', 'ahhh', 'ahh', 'oh', 'oh', 'oh', 'oh', 'oh', 'oh', 'darling', 'tired', 'eyes', 'go', 'time', 'dead', 'night', 'tell', 'mine', 'go', 'pretty', 'babe', 'go', 'night', 'wins', 'away', 'ask', 'sweetly', 'sing', 'well', 'honey', 'sing', 'merry', 'little', 'christmas', 'let', 'heart', 'light', 'troubles', 'sight', 'merry', 'little', 'christmas', 'make', 'yuletide', 'gay', 'troubles', 'far', 'away', 'olden', 'days', 'happy', 'golden', 'days', 'yore', 'faithful', 'friends', 'dear', 'us', 'gather', 'near', 'us', '4', 'years', 'together', 'fates', 'allow', 'hang', 'shining', 'star', 'upon', 'highest', 'bough', 'merry', 'little', 'christmas', 'merry', 'little', 'christmas', 'oh', 'say', 'people', 'come', 'say', 'people', 'go', 'particular', 'diamonds', 'extra', 'special', 'though', 'might', 'gone', 'world', 'may', 'know', 'still', 'see', 'celestial', \"can't\", 'let', 'go', 'im', 'cold', 'cold', 'yeah', \"i'm\", 'cold', 'cold', \"there's\", 'light', 'give', 'im', 'shadow', \"there's\", 'feeling', 'within', 'everglow', 'like', 'brothers', 'blood', 'sisters', 'ride', 'yeah', 'swore', 'night', \"we'd\", 'friends', \"'til\", 'die', 'changing', 'winds', 'way', 'waters', 'flow', 'life', 'short', 'falling', 'snow', \"i'm\", 'gonna', 'miss', 'know', \"i'm\", 'cold', 'cold', 'water', 'rolled', 'salt', 'know', 'always', 'way', 'show', 'wherever', 'go', 'give', 'feeling', 'everglow', 'wouldnt', 'give', 'moment', 'hold', 'live', 'feeling', 'everglow', 'love', 'someone', 'let', 'know', 'oh', 'light', 'give', 'everglow', 'spokenword', 'muhammad', 'ali', 'god', 'watching', 'god', 'god', 'dont', 'praise', 'beat', 'joe', 'frazier', 'god', 'give', 'nothin', \"'bout\", 'joe', 'frazier', 'god', 'care', 'nothing', 'england', 'america', 'far', 'real', 'wealth', 'wants', 'know', 'treat', 'help', 'im', 'going', 'dedicate', 'life', 'using', 'name', 'popularity', 'helping', 'charities', 'helping', 'people', 'uniting', 'people', 'bring', 'people', 'bombing', 'religious', 'beliefs', 'need', 'somebody', 'world', 'help', 'us', 'make', 'peace', 'die', \"there's\", 'heaven', 'wanna', 'see', 'champion', 'place', 'place', 'lines', 'change', 'lost', 'oh', 'yeah', 'lost', 'lost', 'crossed', 'lines', 'crossed', 'lost', 'oh', 'yeah', 'champion', 'champion', 'yeah', 'long', 'must', 'wait', 'yeah', 'long', 'must', 'pay', 'yeah', 'long', 'must', 'wait', 'spoken', 'señor', 'champion', 'everybody', 'puede', 'ser', 'tarde', \"let's\", 'go', 'champion', 'scared', 'scared', 'tired', 'underprepared', 'wait', 'go', 'go', 'leave', \"i'll\", 'wait', 'yeah', 'cómo', 'se', 'canta', \"let's\", 'go', 'champion', 'champion', 'yeah', 'long', 'must', 'wait', 'yeah', 'long', 'must', 'pay', 'yeah', 'long', 'must', 'wait', 'spoken', 'por', 'favor', 'ruido', 'por', 'mr', 'champion', 'champion', 'champion', 'please', 'please', 'please', 'come', 'back', 'sing', 'come', 'sing', 'come', 'sing', 'come', 'sing', 'champion', 'place', 'place', 'lines', 'change', 'lost', 'oh', 'yeah', 'escucha', 'escucha', 'shh', 'oh', 'oh', 'de', 'corazones', 'whoa', 'whoa', 'whoa', 'yeah', 'spoken', 'okay', 'amigos', 'ahora', 'ahora', 'hemos', 'escrito', 'un', 'canción', 'nuevo', 'para', 'decir', 'muchísimas', 'gracias', 'ustedes', 'por', 'por', 'todo', 'por', 'ah', 'ah', 'tantos', 'cosas', 'ah', 'please', 'ah', 'cien', 'vídeos', 'en', 'el', 'escenario', 'ah', 'tres', 'musicians', 'martin', 'biance', 'caroline', 'please', 'come', 'also', 'mr', 'professor', 'doctor', 'greatest', 'musician', 'living', 'memory', 'mr', 'jonathan', 'fantasmo', 'hopkins', 'comes', 'fixing', 'car', 'drive', 'searching', 'water', 'hoping', 'rain', 'upon', 'canvas', 'working', 'meal', 'meal', 'waiting', 'chance', 'pick', 'orange', 'field', 'see', 'pearl', 'form', 'diamond', 'rough', 'see', 'bird', 'soaring', 'high', 'flood', 'blood', 'blood', 'underneath', 'storm', 'umbrella', 'singing', 'sitting', 'poison', 'takes', 'away', 'pain', 'saying', 'gonna', 'get', 'get', 'together', 'right', 'gonna', 'get', 'get', 'together', 'somehow', 'gonna', 'get', 'get', 'together', 'flower', 'oh', 'ah', 'gonna', 'get', 'get', 'together', 'know', 'gonna', 'get', 'get', 'together', 'flow', 'gonna', 'get', 'get', 'together', 'go', 'lying', 'gutter', 'aiming', 'moon', 'trying', 'empty', 'ocean', 'spoon', 'saying', 'come', 'people', 'suffer', 'come', 'people', 'part', 'come', 'people', 'struggle', 'come', 'people', 'break', 'heart', 'break', 'heart', 'yes', 'wanna', 'know', 'show', 'feel', 'yes', 'wanna', 'grow', 'show', 'heal', 'heal', 'see', 'forest', 'every', 'seed', 'angels', 'marble', 'waiting', 'freed', 'need', 'love', 'need', 'love', 'going', 'rough', 'say', 'gonna', 'get', 'get', 'together', 'right', 'gonna', 'get', 'get', 'together', 'somehow', 'gonna', 'get', 'get', 'together', 'flower', 'oh', 'ah', 'gonna', 'get', 'get', 'together', 'know', 'gonna', 'get', 'get', 'together', 'flow', 'gonna', 'get', 'get', 'together', 'go', 'say', 'fight', 'close', 'mind', 'take', 'risk', 'say', 'mine', 'clench', 'fist', 'see', 'sunrise', 'gift', 'gonna', 'get', 'get', 'together', 'right', 'gonna', 'get', 'get', 'together', 'somehow', 'gonna', 'get', 'get', 'together', 'flower', 'oh', 'ah', 'gonna', 'get', 'get', 'together', 'know', 'gonna', 'get', 'get', 'together', 'flow', 'gonna', 'get', 'get', 'together', 'go', 'gonna', 'get', 'get', 'together', 'right', 'gonna', 'get', 'get', 'together', 'somehow', 'gonna', 'get', 'get', 'together', 'flower', 'oh', 'ah', 'gonna', 'get', 'get', 'together', 'know', 'gonna', 'get', 'get', 'together', 'flow', 'gonna', 'get', 'get', 'together', 'go', 'post', 'oh', 'oh', 'oh', 'oh', 'fixing', 'car', 'drive', 'youre', 'pain', 'think', 'youve', 'enough', 'dont', 'ever', 'give', 'ever', 'give', 'spoken', 'friends', 'end', 'head', 'full', 'dreams', 'tour', 'back', 'began', 'buenos', 'aires', 'thank', 'everybody', 'around', 'world', 'home', 'abroad', 'best', 'part', 'show', 'music', 'keeping', 'heads', 'full', 'dreams', 'first', 'chapter', \"we'll\", 'full', 'surprises', 'love', \"we're\", 'grateful', 'hearts', 'exist', 'good', 'night', 'good', 'afternoon', 'good', 'morning', 'wherever', 'world', 'god', 'bless', 'kind', \"we're\", 'together', \"we're\", 'one', 'big', 'band', 'everything', 'possible', 'never', 'give', 'believe', 'love', 'believe', 'love', 'turn', 'music', 'got', 'records', 'shut', 'world', 'outside', 'lights', 'come', 'maybe', 'streets', 'alight', 'maybe', 'trees', 'gone', 'feel', 'heart', 'start', 'beating', 'favorite', 'song', 'kids', 'dance', 'kids', 'night', 'monday', 'morning', 'feels', 'another', 'life', 'turn', 'music', 'im', 'roll', 'time', 'heaven', 'sight', 'interlude', 'turn', 'music', 'got', 'records', 'underneath', 'rubble', 'sing', 'rebel', 'song', 'dont', 'want', 'see', 'another', 'generation', 'drop', 'id', 'rather', 'comma', 'full', 'stop', 'maybe', 'im', 'black', 'maybe', 'im', 'knees', 'maybe', 'im', 'gap', 'two', 'trapezes', 'heart', 'beating', 'pulses', 'start', 'cathedrals', 'heart', 'pre', 'soar', 'walls', 'every', 'siren', 'symphony', 'every', 'tears', 'waterfall', 'waterfall', 'waterfall', 'oh', 'waterfall', 'ooh', 'waterfall', 'oh', 'waterfall', 'ooh', 'waterfall', 'oh', 'waterfall', 'ooh', 'waterfall', 'oh', 'waterfall', 'ooh', 'hurt', 'hurt', 'bad', 'still', 'ill', 'raise', 'flag', 'waterfall', 'oh', 'waterfall', 'ooh', 'waterfall', 'oh', 'waterfall', 'ooh', 'waterfall', 'oh', 'waterfall', 'ooh', 'waterfall', 'oh', 'waterfall', 'ooh', 'dreaming', 'get', 'back', 'houston', 'dreaming', 'fair', 'special', 'place', 'dreaming', 'houston', 'problems', 'city', 'send', 'space', 'dreaming', 'get', 'back', 'texas', 'corpus', 'christi', 'harris', 'county', 'galveston', \"there's\", 'harmony', 'hums', 'houston', 'oh', 'houston', 'got', 'keep', 'keeping', 'miami', 'sending', 'love', 'houston', 'praying', 'make', 'rain', 'know', \"nothing's\", 'gonna', 'break', 'houston', 'oh', \"can't\", 'wait', 'go', 'dreaming', 'get', 'back', 'texas', 'corpus', 'christi', 'harris', 'county', 'galveston', \"there's\", 'harmony', 'hums', 'houston', 'oh', 'houston', 'got', 'keep', 'keeping', 'take', 'jon', 'oh', 'houston', 'got', 'keep', 'keeping', 'yeah', 'houston', 'got', 'keep', 'keeping', 'cause', 'sky', 'cause', 'sky', 'full', 'stars', \"i'm\", 'going', 'give', 'heart', 'cause', 'sky', 'cause', 'sky', 'full', 'stars', 'cause', 'light', 'path', 'hook', 'care', 'go', 'tear', 'apart', 'care', 'cause', 'sky', 'cause', 'sky', 'full', 'stars', 'think', 'saw', 'hook', 'cause', 'sky', 'cause', 'sky', 'full', 'stars', 'think', 'saw', 'sky', 'sky', 'full', 'stars', 'heavenly', 'view', 'heavenly', 'view', 'yeah', 'yeah', 'yeah', 'yeah', \"they're\", 'calling', 'kind', 'ghost', 'know', \"that's\", 'true', 'cause', 'time', 'time', 'spoke', 'spoke', \"they're\", 'saying', 'kind', 'ghost', \"that's\", 'hard', 'say', 'maybe', \"i'll\", 'go', 'maybe', 'safe', \"there's\", 'way', 'say', 'would', 'love', 'come', 'would', 'love', 'call', 'call', 'self', 'esteem', 'low', 'heard', 'called', 'calling', 'away', 'go', 'way', 'go', 'tail', 'clear', 'crystal', 'harmless', 'hurt', 'oh', 'helpless', 'know', 'get', 'know', 'chemicals', 'cold', 'see', 'sit', 'chemical', 'cause', 'like', 'crystal', 'heard', 'say', 'got', 'get', 'away', \"i'm\", 'second', 'trail', 'clear', 'crystal', 'harmless', 'hurt', 'oh', 'helpless', 'know', 'get', 'well', 'ever', 'stopped', 'wonder', 'christmas', 'make', 'christmas', 'nice', \"ain't\", 'got', 'snow', 'ice', 'poor', \"santa's\", 'sleigh', 'come', 'fucking', 'miles', 'away', 'mick', 'dundee', 'well', \"ain't\", 'got', 'christmas', 'tree', 'well', 'say', 'christmas', 'much', 'fun', 'got', 'surfing', 'got', 'sun', 'christmas', \"here's\", 'sweet', 'peach', 'opening', 'presents', 'beach', 'got', 'barbies', 'got', 'beer', 'santa', 'wishes', 'lived', 'loads', 'laughter', 'loads', 'booze', 'christmas', 'kangaroos', 'well', 'ever', 'stopped', 'wonder', 'christmas', 'ever', 'stopped', 'think', 'much', 'pumpkin', 'drink', 'oh', 'find', 'shocking', 'got', 'tim', 'tams', 'stocking', 'wonder', 'jesus', 'born', 'got', 'kylie', 'got', 'shane', 'warne', 'say', 'christmas', 'much', 'fun', 'got', 'surfing', 'got', 'sun', 'christmas', \"here's\", 'sweet', 'peach', 'opening', 'presents', 'beach', 'yeah', \"'cause\", 'got', 'barbies', 'got', 'beer', 'santa', 'wishes', 'lived', 'loads', 'laughter', 'loads', 'booze', 'christmas', 'kangaroos', 'loads', 'laughter', 'loads', 'booze', \"that's\", 'christmas', 'kangaroos', 'see', 'trees', 'green', 'red', 'roses', 'watch', 'bloom', 'think', 'wonderful', 'world', 'hear', 'babies', 'cry', 'watch', 'grow', \"they'll\", 'learn', 'much', \"i'll\", 'ever', 'know', 'think', 'ohh', 'wonderful', 'world', 'colours', 'rainbow', 'pretty', 'sky', 'also', 'faces', 'people', 'passing', 'see', 'friends', 'shaking', 'hands', 'saying', 'saying', \"they're\", 'really', 'saying', 'love', 'see', 'trees', 'green', 'red', 'roses', 'watch', 'bloom', 'think', 'oh', 'wonderful', 'world', 'colours', 'rainbow', 'pretty', 'sky', 'also', 'faces', 'people', 'passing', 'see', 'friends', 'shaking', 'hands', 'saying', \"they're\", 'really', 'saying', 'love', 'see', 'trees', 'green', 'red', 'roses', 'watch', 'bloom', 'think', 'oh', 'wonderful', 'world', 'think', 'ooh', 'wonderful', 'world', 'put', 'world', 'tin', 'black', 'market', 'contraband', 'hurt', 'little', 'bit', 'sliced', 'packaged', 'long', 'black', 'trench', 'coat', 'two', 'hands', 'around', 'throat', 'oh', 'wanna', 'get', 'right', 'sometimes', \"there's\", 'much', 'scared', 'much', 'make', 'sense', 'clowns', 'ever', 'get', 'control', 'hear', 'let', 'know', 'invade', 'complicated', 'oh', 'wanna', 'get', 'right', 'sometimes', 'wanna', 'get', 'right', 'sometimes', \"that's\", 'see', 'world', 'many', 'times', 'say', \"can't\", 'believe', 'heard', \"that's\", 'see', 'world', 'worry', 'gonna', 'get', 'hurt', 'oooh', \"there's\", 'something', 'missing', 'seems', 'like', \"there's\", 'nobody', 'listening', 'running', 'circle', 'careful', 'wanna', 'mantrapped', 'wanna', 'shrinkwrapped', 'oh', 'wanna', 'get', 'right', 'sometimes', 'wanna', 'get', 'right', 'sometimes', \"that's\", 'see', 'world', 'many', 'times', 'heard', \"can't\", 'believe', 'word', \"that's\", 'see', 'world', 'ah', 'worry', \"'cause\", 'nobody', 'hurt', \"that's\", 'see', 'world', \"that's\", 'see', 'world', 'far', 'see', 'time', 'circuitry', 'wrong', 'far', 'poetry', 'sit', 'sing', 'song', \"'cause\", 'want', 'world', 'want', 'world', 'come', 'home', 'spell', 'rebel', 'yell', 'spell', 'soldier', 'come', 'home', 'away', 'long', 'want', 'world', 'want', 'deserve', 'come', 'home', 'x', 'spell', 'rebel', 'yell', 'spell', 'rebel', 'yell', 'spell', 'rebel', 'yell', 'spell', 'rebel', 'yell', 'oh', 'oh', 'oh', 'oh', 'seven', 'hours', 'fifteen', 'days', 'since', 'took', 'love', 'away', 'go', 'every', 'night', 'sleep', 'day', 'since', 'took', 'love', 'away', 'since', 'gone', 'whatever', 'want', 'see', 'whomever', 'choose', 'eat', 'dinner', 'fancy', 'restaurant', 'nothing', 'said', 'nothing', 'take', 'away', 'blues', \"'cause\", 'nothing', 'compares', 'nothing', 'compares', 'nothing', 'compares', 'nothing', 'compares', 'lonely', 'without', 'like', 'bird', 'without', 'song', 'nothing', 'stop', 'lonely', 'tears', 'falling', 'tell', 'baby', 'go', 'wrong', 'went', 'doctor', 'guess', 'told', 'guess', 'told', 'said', 'boy', 'better', 'try', 'fun', 'matter', 'fool', \"'cause\", 'nothing', 'compares', 'nothing', 'compares', 'nothing', 'compares', 'nothing', 'compares', 'nothing', 'compares', 'nothing', 'compares', 'nothing', 'compares', 'nothing', 'compares', 'got', 'one', 'eye', 'watching', 'one', 'eye', 'careful', 'talking', 'got', 'one', 'eye', 'watching', 'one', 'eye', 'careful', 'trying', 'careful', 'walking', 'view', 'careful', 'walking', 'view', 'oohoohooh', 'oohoohoohooh', 'got', 'one', 'eye', 'road', 'one', 'oohoohooh', 'oohoohoohooh', 'got', 'one', 'eye', 'road', 'one', 'got', 'one', 'eye', 'watching', 'one', 'eye', 'careful', \"'cause\", 'nothing', 'say', 'true', \"ddon't\", 'believe', 'word', 'us', 'world', 'got', 'turn', 'heard', 'hear', 'crocodiles', 'ticking', 'round', 'world', 'hear', 'crocodiles', 'ticking', 'go', 'ticking', 'round', 'world', 'oohoohooh', 'oohoohoohooh', 'got', 'one', 'eye', 'road', 'one', 'oohoohooh', 'oohoohoohooh', 'got', 'one', 'eye', 'road', 'could', 'hear', 'climbing', 'stairs', 'got', 'right', 'side', 'fighting', 'left', 'hides', 'chairs', 'oohoohooh', 'oohoohoohooh', 'got', 'one', 'eye', 'road', 'one', 'oohoohooh', 'oohoohoohooh', 'got', 'one', 'eye', 'road', 'one', 'yesterday', 'woke', 'news', 'sad', 'hear', 'favourite', 'show', 'would', 'disappear', 'today', \"i'm\", 'filling', 'blues', 'though', \"i'm\", 'happy', \"tummy's\", 'growing', 'dj', 'love', 'going', \"how'm\", 'gonna', 'make', '0', \"how'm\", 'gonna', 'tell', \"we'll\", 'miss', 'tonne', 'tell', 'thanks', 'records', 'played', 'thanks', 'ducing', 'us', 'lana', 'del', 'rey', 'thanks', 'stories', 'good', 'times', 'festival', 'tales', 'kilimanjaro', 'climbs', 'thanks', 'mornings', 'lounge', \"we'd\", 'arrive', 'sweetly', 'tell', 'us', 'swearing', \"we're\", 'live', 'oh', 'fearne', 'made', 'mornings', 'fly', 'like', 'sun', 'bursting', 'cloud', 'cloudy', 'sky', 'great', 'anything', 'wanna', 'try', 'hard', 'time', 'us', 'say', 'goodbye', 'bye', 'fearne', 'por', 'favor', 'manos', 'arriba', 'uno', 'dos', 'tres', 'go', 'dame', 'sus', 'manos', 'izquierda', 'derecha', 'arriba', 'abajo', 'gimme', 'whoo', 'whoo', 'whoo', 'whoo', 'whoo', 'whoo', 'whoo', 'whoo', 'gimme', 'whoo', 'whoo', 'whoo', 'whoo', 'uno', 'dos', 'uno', 'dos', 'tres', 'go', 'nobody', 'knows', \"i've\", 'got', 'say', \"i'm\", 'way', 'god', 'give', 'style', 'give', 'grace', 'put', 'smile', 'upon', 'face', 'salta', 'conmigo', 'ah', 'work', \"i'm\", 'worse', 'yeah', 'work', 'wanted', 'ah', 'work', 'draw', 'line', 'guess', 'good', 'mine', 'ayy', 'go', 'draw', 'line', 'girls', 'scream', 'good', 'time', 'go', 'fall', 'grace', 'boys', 'make', 'noise', 'shake', 'walls', 'fucking', 'place', 'ah', 'work', \"i'm\", 'worse', 'yeah', 'work', 'wanted', 'ah', 'work', 'draw', 'line', 'guess', 'good', 'mine', 'lights', 'feasty', 'sing', 'olé', 'olé', 'olé', 'olé', 'olé', 'olé', 'olé', 'olé', 'olé', 'olé', 'olé', 'olé', 'sing', 'olé', 'olé', 'olé', 'olé', 'olé', 'olé', 'olé', 'olé', 'olé', 'olé', 'olé', 'olé', 'más', 'fuerte', 'olé', 'olé', 'olé', 'olé', 'olé', 'olé', 'más', 'fuerte', 'olé', 'olé', 'olé', 'olé', 'olé', 'olé', 'vamos', 'cantando', 'juntos', 'olé', 'olé', 'olé', 'olé', 'olé', 'olé', 'olé', 'olé', 'olé', 'uno', 'dos', 'uno', 'dos', 'tres', 'one', 'two', 'yeah', 'go', 'beyoncé', 'let', 'shoot', 'across', 'sky', 'try', 'best', 'succeed', 'get', 'want', 'need', 'feel', 'tired', \"can't\", 'sleep', 'stuck', 'rewhen', 'tears', 'come', 'streaming', 'face', \"'cause\", 'lose', 'something', \"can't\", 'replace', 'love', 'someone', 'goes', 'waste', 'could', 'worse', 'oso', 'cantas', 'rotas', 'oh', 'lights', 'guide', 'home', 'ignite', 'bones', 'try', 'fix', 'gracias', 'todos', 'tiffany', 'song', 'family', 'well', 'high', 'love', 'let', 'show', 'never', 'try', 'never', 'know', 'worth', 'lights', 'guide', 'home', 'ignite', 'bones', 'try', 'fix', \"can't\", 'stop', 'tears', 'stream', 'face', 'lose', 'something', 'cannot', 'replace', 'tears', 'stream', 'face', 'tears', 'stream', 'face', 'promise', 'learn', 'mistakes', 'tears', 'stream', 'face', \"let's\", 'go', 'go', 'lights', 'guide', 'home', 'oh', 'ignite', 'bones', 'try', 'fix', 'gracias', 'todo', 'mundo', 'todo', 'el', 'mundo', 'listo', 'seguro', 'todo', 'el', 'mundo', 'listo', 'puedo', 'oir', 'puedo', 'oir', 'todo', 'el', 'mundo', 'listo', 'ahora', 'ahora', 'ahora', 'vamos', 'todos', 'girl', 'expected', 'world', 'flew', 'away', 'reach', 'ran', 'away', 'sleep', 'dreamed', 'para', 'para', 'paradise', 'para', 'para', 'paradise', 'para', 'para', 'paradise', 'every', 'time', 'closed', 'eyes', 'oh', 'oh', 'oh', 'oh', 'oh', 'oh', 'oh', 'oh', 'oh', 'oh', 'oh', 'oh', 'oh', 'oh', 'oh', 'oh', 'oh', 'oh', 'oh', 'oh', 'oh', 'oh', 'oh', 'oh', 'oh', 'oh', 'oh', 'oh', 'oh', 'oh', 'oh', 'oh', 'oh', 'oh', 'oh', 'oh', 'oh', 'oh', 'oh', 'oh', 'oh', 'oh', 'oh', 'oh', 'oh', 'oh', 'oh', 'oh', 'oh', 'oh', 'oh', 'oh', 'oh', 'oh', 'oh', 'oh', 'night', 'stormy', 'night', 'oh', 'oh', 'oh', 'oh', 'oh', 'oh', 'oh', 'oh', \"she'd\", 'close', 'eeeeyes', 'flew', 'awaaaay', 'goes', 'oooon', \"she'd\", 'sayohohoh', 'close', 'eeeeyes', 'flew', 'awaaaay', 'goes', 'oooon', \"she'd\", 'sayohohoh', 'close', 'eeeeyes', 'flew', 'awaaaay', 'goes', 'oooon', \"she'd\", 'sayohohoh', 'close', 'eeeeyes', 'flew', 'awaaaay', 'goes', 'oooon', \"she'd\", 'sayohohoh', 'close', 'eeeeyes', 'flew', 'awaaaay', 'goes', 'oooon', \"she'd\", 'sayohohoh', 'para', 'para', 'paradise', 'para', 'para', 'paradise', 'para', 'para', 'paradise', 'para', 'para', 'paradise', 'dream', 'para', 'para', 'paradise', 'para', 'para', 'paradise', 'para', 'para', 'paradise', 'oh', 'oh', 'oh', 'oh', 'oh', 'oh', 'oh', 'oh', 'eeeeyes', 'flew', 'awaaaay', 'goes', 'oooon', \"she'd\", 'sayohohoh', 'close', 'eeeeyes', 'flew', 'awaaaay', 'goes', 'oooon', \"she'd\", 'sayohohoh', 'close', 'eeeeyes', 'flew', 'awaaaay', 'goes', 'oooon', \"she'd\", 'sayohohoh', 'close', 'eeeeyes', 'flew', 'awaaaay', 'goes', 'oooon', \"she'd\", 'sayohohoh', 'para', 'para', 'paradise', 'para', 'para', 'paradise', 'para', 'para', 'paradise', 'every', 'time', 'closed', 'eyes', 'letra', 'de', 'de', 'música', 'ligera', 'live', 'buenos', 'aires', 'más', 'fuerte', 'más', 'fuerte', 'oléoléolé', 'coldplay', 'coldplay', 'oléoléolé', 'coldplay', 'coldplay', 'oléoléolé', 'coldplay', 'coldplay', 'oléoléolé', 'coldplay', 'coldplay', 'precoro', 'ella', 'durmió', 'al', 'calor', 'de', 'las', 'masas', 'yo', 'desperté', 'queriendo', 'soñarla', 'algún', 'tiempo', 'atrás', 'pensé', 'en', 'escribirle', 'que', 'nunca', 'sorteé', 'las', 'trampas', 'del', 'amor', 'uno', 'dos', 'tres', 'coro', 'de', 'aquel', 'amor', 'de', 'música', 'ligera', 'nada', 'nos', 'libra', 'nada', 'más', 'queda', 'verso', 'le', 'enviaré', 'cenizas', 'de', 'rosas', 'ni', 'pienso', 'evitar', 'un', 'roce', 'secreto', 'wuh', 'coro', 'de', 'aquel', 'amor', 'de', 'música', 'ligera', 'nada', 'nos', 'libra', 'nada', 'más', 'queda', 'one', 'time', 'de', 'aquel', 'amor', 'de', 'música', 'ligera', 'nada', 'nos', 'libra', 'nada', 'más', 'queda', 'vamos', 'che', 'precoro', 'ella', 'durmió', 'al', 'calor', 'de', 'las', 'masas', 'yo', 'desperté', 'queriendo', 'soñarla', 'algún', 'tiempo', 'atrás', 'pensé', 'en', 'escribirle', 'nunca', 'sorteé', 'las', 'trampas', 'del', 'amor', 'soda', 'stereo', 'coro', 'de', 'aquel', 'amor', 'de', 'música', 'ligera', 'nada', 'nos', 'libra', 'nada', 'más', 'queda', 'por', 'qué', 'de', 'aquel', 'amor', 'de', 'música', 'ligera', 'nada', 'nos', 'libra', 'nada', 'más', 'queda', 'nada', 'más', 'queda', 'nada', 'más', 'queda', 'nada', 'más', 'queda', 'nada', 'más', 'queda', 'gracias', 'soda', 'stereo', 'sin', 'ustedes', 'somos', 'nada', 'somos', 'tan', 'tan', 'agradecidos', 'todo', 'el', 'mundo', 'gracias', 'por', 'todo', 'gracias', 'por', 'esta', 'noche', 'gracias', 'totales', 'turn', 'magic', 'umi', \"she'd\", 'say', 'everything', \"want's\", 'dream', 'away', 'legends', 'every', 'day', \"that's\", 'told', 'refrain', 'turn', 'magic', \"she'd\", 'say', 'everything', \"want's\", 'dream', 'away', 'pressure', 'weight', 'diamonds', 'feel', 'heart', 'beating', 'feel', 'heart', 'underneath', 'skin', 'feel', 'heart', 'beating', 'oh', 'make', 'feel', 'like', \"i'm\", 'alive', 'alive', 'alive', 'post', \"we've\", 'got', 'life', 'adventure', 'oh', \"we've\", 'got', 'life', 'get', 'said', \"can't\", 'go', 'way', \"i'm\", 'dream', 'died', 'light', 'day', 'gonna', 'hold', 'half', 'sky', 'say', 'feel', 'heart', 'beating', 'feel', 'heart', 'underneath', 'skin', 'oh', 'feel', 'heart', 'beating', 'cause', 'make', 'feel', 'alive', 'alive', 'woo', 'hoo', 'woo', 'hoo', 'woo', 'hoo', 'woo', 'hoo', 'woo', 'hoo', 'woo', 'hoo', 'woo', 'hoo', 'woo', 'hoo', 'woo', 'hoo', 'woo', 'hoo', 'woo', 'hoo', 'woo', 'hoo', 'idiot', 'goddamn', 'idiot', 'came', 'violent', 'came', 'around', 'violent', 'said', 'yes', 'idiot', 'goddamn', 'idiot', 'made', 'think', 'came', 'round', 'think', 'sing', 'wonderful', 'life', 'never', 'felt', 'alive', 'never', 'felt', 'alive', 'wonderful', 'life', 'never', 'felt', 'alive', 'never', 'felt', 'alive', 'love', 'love', 'love', 'love', 'go', 'love', 'love', 'seen', 'love', 'idiot', 'like', 'idiot', 'run', 'around', 'like', 'chicken', 'head', 'cut', 'like', 'idiot', 'run', 'around', 'like', 'chicken', 'head', 'cut', 'like', 'idiot', 'run', 'around', 'like', 'chicken', 'head', 'cut', 'like', 'idiot', 'idiot', 'fell', 'like', 'goddamn', 'idiot', 'came', 'bring', 'came', 'round', 'fight', 'said', 'yes', 'felt', 'like', 'idiot', 'goddamn', 'idiot', 'sing', 'wonderful', 'life', 'never', 'felt', 'alive', 'never', 'felt', 'alive', 'wonderful', 'life', 'never', 'felt', 'alive', 'never', 'felt', 'alive', 'love', 'love', 'love', 'love', 'go', 'love', 'love', 'seen', 'love', 'idiot', 'like', 'idiot', 'run', 'around', 'like', 'chicken', 'head', 'cut', 'like', 'idiot', 'run', 'around', 'like', 'chicken', 'head', 'cut', 'like', 'idiot', 'run', 'around', 'like', 'chicken', 'head', 'cut', 'like', 'idiot', 'listen', 'wonderful', 'life', 'never', 'felt', 'alive', 'wonderful', 'life', 'never', 'felt', 'alive', 'wonderful', 'life', 'never', 'felt', 'alive', 'never', 'felt', 'alive', 'wonderful', 'life', 'never', 'felt', 'alive', 'never', 'felt', 'alive', 'like', 'beauty', 'queen', 'movie', 'scene', 'said', 'mind', 'mean', 'one', 'dance', 'floor', 'round', 'said', 'one', 'dance', 'floor', 'round', 'told', 'name', 'billie', 'jean', 'caused', 'scene', 'every', 'head', 'turned', 'eyes', 'dreamed', 'one', 'dance', 'floor', 'round', 'people', 'always', 'told', 'careful', 'go', 'around', 'breaking', 'young', \"girls'\", 'hearts', 'mother', 'always', 'told', 'careful', 'love', 'careful', \"'cause\", 'lie', 'becomes', 'truth', 'billie', 'jean', 'lover', 'girl', 'claims', 'one', 'kid', 'son', 'says', 'one', 'kid', 'son', 'forty', 'days', 'forty', 'nights', 'law', 'side', 'stand', 'demand', 'schemes', 'plans', \"'cause\", 'danced', 'floor', 'round', 'take', 'strong', 'advice', 'remember', 'always', 'think', 'twice', 'think', 'twice', 'think', 'twice', 'told', 'baby', \"we'd\", 'danced', 'till', 'three', 'looked', 'showed', 'photo', 'baby', 'cried', 'eyes', 'like', 'mine', 'oh', \"'cause\", 'danced', 'floor', 'round', 'baby', 'people', 'always', 'told', 'careful', 'go', 'around', 'breaking', 'young', \"girls'\", 'hearts', 'came', 'stood', 'right', 'smell', 'sweet', 'perfume', 'happened', 'much', 'soon', 'called', 'room', 'billie', 'jean', 'lover', 'girl', 'claims', 'one', 'kid', 'son', 'billie', 'jean', 'lover', 'girl', 'claims', 'one', 'kid', 'son', 'says', 'one', 'kid', 'son', 'says', 'one', 'kid', 'son', 'billie', 'jean', 'lover', 'girl', 'claims', 'one', 'kid', 'son', 'says', 'one', 'kid', 'son', 'says', 'one', 'know', 'says', 'son', 'breaking', 'heart', 'babe', 'says', 'one', 'billie', 'jean', 'lover', 'billie', 'jean', 'lover', 'billie', 'jean', 'lover', 'billie', 'jean', 'lover', 'billie', 'jean', 'billie', 'jean', 'lover', 'billie', 'jean', 'lover', 'kylie', 'minogue', 'im', 'dont', 'need', 'anybody', 'else', 'im', 'help', 'im', 'quietly', 'sleeping', 'home', 'im', 'refrain', 'hello', 'wont', 'let', 'come', 'lhuna', 'cant', 'hear', 'much', 'im', 'suffering', 'hello', 'wont', 'let', 'know', 'cause', 'im', 'alone', 'alone', 'kylie', 'minogue', 'dreaming', 'lhuna', 'smell', 'touch', 'taste', 'dreaming', 'lhuna', 'simultaneously', 'kylie', 'minogue', 'dont', 'know', 'time', 'dont', 'know', 'youve', 'flown', 'dont', 'know', 'youre', 'far', 'home', 'refrain', 'hello', 'wont', 'let', 'come', 'lhuna', 'cant', 'hear', 'much', 'im', 'suffering', 'hello', 'wont', 'let', 'know', 'cause', 'im', 'alone', 'alone', 'kylie', 'minogue', 'dreaming', 'lhuna', 'smell', 'touch', 'taste', 'dreaming', 'lhuna', 'simultaneously', 'effortlessly', 'oh', 'effortlessly', 'gonna', 'get', 'gonna', 'get', 'together', 'gonna', 'get', 'get', 'together', 'flower', 'fixing', 'car', 'drive', 'searching', 'water', 'hoping', 'rain', 'upon', 'canvas', 'working', 'meal', 'meal', 'waiting', 'chance', 'pick', 'orange', 'field', 'see', 'pearl', 'form', 'diamond', 'rough', 'see', 'bird', 'soaring', 'high', 'flood', 'blood', 'blood', 'underneath', 'storm', 'umbrella', 'saying', 'sitting', 'poison', 'takes', 'away', 'pain', 'gonna', 'get', 'get', 'together', 'know', 'gonna', 'get', 'get', 'together', 'somehow', 'gonna', 'get', 'get', 'together', 'flower', 'gonna', 'get', 'get', 'together', 'know', 'gonna', 'get', 'get', 'together', 'float', 'gonna', 'get', 'get', 'together', 'go', 'lying', 'gutter', 'aiming', 'moon', 'trying', 'empty', 'ocean', 'spoon', 'come', 'people', 'suffer', 'come', 'people', 'part', 'come', 'people', 'struggle', 'come', 'people', 'break', 'heart', 'break', 'heart', 'yes', 'wanna', 'grow', 'yes', 'want', 'feel', 'yes', 'wanna', 'know', 'show', 'heal', 'heal', 'see', 'forest', 'every', 'seed', 'angels', 'marble', 'waiting', 'freed', 'need', 'love', 'need', 'love', 'going', 'rough', 'saying', 'gonna', 'get', 'get', 'together', 'know', 'gonna', 'get', 'get', 'together', 'somehow', 'gonna', 'get', 'get', 'together', 'flower', 'gonna', 'get', 'get', 'together', 'know', 'gonna', 'get', 'get', 'together', 'float', 'gonna', 'get', 'get', 'together', 'go', 'gonna', 'get', 'get', 'together', 'know', 'gonna', 'get', 'get', 'together', 'somehow', 'gonna', 'get', 'get', 'together', 'flower', 'gonna', 'get', 'get', 'together', 'know', 'gonna', 'get', 'get', 'together', 'float', 'gonna', 'get', 'get', 'together', 'go', 'darkness', 'dawn', 'swirling', 'storm', \"i'm\", 'rolling', 'punches', 'hope', 'gone', 'leave', 'light', 'light', 'millions', 'miles', 'home', 'swirling', 'swimming', \"i'm\", 'rolling', 'thunder', 'bleed', 'thorns', 'leave', 'light', 'light', 'leave', 'light', 'light', 'leave', 'light', 'light', 'leave', 'light', 'light', 'darkness', 'dawn', 'darkness', 'dawn', 'leave', 'light', 'light', 'leave', 'light', 'light', 'je', 'te', 'donnerai', 'mon', 'amour', 'tous', 'les', 'jours', 'de', 'vie', 'et', 'puis', 'quand', 'je', 'viens', 'ce', 'soir', 'laisse', 'les', 'lumières', 'allumées', 'je', 'te', 'donnerai', 'tout', 'ce', 'que', \"j'ai\", 'tout', 'ce', 'que', \"j'ai\", 'dans', 'vie', 'et', 'puis', 'quand', 'je', 'viens', 'ce', 'soir', 'laisse', 'les', 'lumières', 'allumées', 'come', 'meet', 'tell', \"i'm\", 'sorry', 'know', 'lovely', 'find', 'tell', 'need', 'tell', 'set', 'apart', 'tell', 'secrets', 'ask', 'questions', 'oh', \"let's\", 'go', 'back', 'start', 'running', 'circles', 'coming', 'tails', 'heads', 'science', 'apart', 'nobody', 'said', 'easy', 'shame', 'us', 'part', 'nobody', 'said', 'easy', 'one', 'ever', 'said', 'would', 'hard', \"i'm\", 'going', 'back', 'start', 'spoken', 'antonio', 'martina', 'guessing', 'numbers', 'figures', 'pulling', 'puzzles', 'apart', 'question', 'science', 'science', 'progress', 'speak', 'loud', 'heart', 'tell', 'love', 'oh', 'come', 'back', 'haunt', 'oh', 'rush', 'start', 'running', 'circles', 'chasing', 'tails', 'coming', 'back', 'nobody', 'said', 'easy', 'oh', 'shame', 'us', 'part', 'nobody', 'said', 'easy', 'one', 'ever', 'said', 'would', 'hard', 'oh', \"let's\", 'go', 'back', 'start', 'oh', 'ah', 'ooh', 'oh', 'ooh', 'ayy', 'oh', 'ah', 'ooh', 'oh', 'ooh', 'todas', 'están', 'ahí', 'entonces', 'si', 'tú', 'quieres', 'cantar', 'conmigo', 'con', 'nosotros', 'hoy', 'vámonos', 'listo', 'nobody', 'said', 'easy', 'oh', 'ho', 'ho', 'oh', 'shame', 'us', 'part', 'nobody', 'said', 'easy', 'one', 'ever', 'said', 'would', 'hard', \"i'm\", 'going', 'back', 'start', 'gracias', 'todos', 'gracias', 'nuestro', 'hermano', 'beginning', 'beyoncé', 'drink', 'drink', 'oh', 'ah', 'oh', 'ah', 'shoot', 'across', 'sky', 'got', 'feeling', 'drunk', 'high', 'symphony', 'high', 'high', 'shoot', 'across', 'sky', 'oh', 'angel', 'sent', 'know', 'make', 'world', 'light', 'hurt', 'came', 'lift', 'life', 'drink', \"love's\", 'drug', 'oh', 'think', 'must', 'miles', 'river', 'dried', 'came', 'rain', 'flood', 'pre', 'beyoncé', 'said', 'drink', 'drink', 'thirsty', 'poured', 'symphony', 'oh', 'cant', 'get', 'enough', 'put', 'wings', 'wings', 'heavy', 'poured', 'symphony', 'yo', \"i'm\", 'low', 'low', 'low', 'low', 'ah', 'oh', 'ah', 'oh', 'ah', 'got', 'feeling', 'drunk', 'high', 'high', 'high', 'oh', 'ah', 'oh', 'ah', 'oh', 'ah', \"i'm\", 'feeling', 'drunk', 'high', 'high', 'high', 'woo', 'beyoncé', 'oh', 'angel', 'sent', 'feel', 'coursing', 'blood', 'life', 'drink', 'loves', 'make', 'stars', 'come', 'yeah', 'beyoncé', 'put', 'wings', 'wings', 'heavy', 'poured', 'symphony', 'yo', \"i'm\", 'low', 'low', 'low', 'low', 'ah', 'oh', 'ah', 'oh', 'ah', 'got', 'feeling', 'drunk', 'high', 'high', 'high', 'oh', 'ah', 'oh', 'ah', 'oh', 'ah', \"i'm\", 'feeling', 'drunk', 'high', 'high', 'high', 'beyoncé', 'ah', 'oh', 'ah', 'oh', 'ah', 'la', 'la', 'la', 'la', 'la', 'la', 'la', 'high', 'high', 'high', 'high', 'sing', 'ah', 'oh', 'ah', 'oh', 'ah', 'oh', 'ah', 'oh', 'ah', \"i'm\", 'feeling', 'drunk', 'high', 'high', 'high', 'beyoncé', 'beyoncé', 'shoot', 'across', 'sky', 'shoot', 'across', 'shoot', 'across', 'sky', 'let', 'shoot', 'across', 'sky', 'let', 'shoot', 'across', 'let', 'shoot', 'across', 'sky', 'shoot', 'across', 'let', 'shoot', 'across', 'sky', 'shoot', 'across', 'yellow', 'diamonds', 'light', 'standing', 'side', 'side', 'shadow', 'crosses', 'mine', 'takes', 'come', 'alive', 'way', 'im', 'feeling', 'cant', 'deny', 'ive', 'gotta', 'let', 'go', 'found', 'love', 'hopeless', 'place', 'found', 'love', 'hopeless', 'place', 'found', 'love', 'hopeless', 'place', 'found', 'love', 'hopeless', 'place', 'shine', 'light', 'open', 'door', 'love', 'life', 'divide', 'turn', 'away', 'cause', 'need', 'feel', 'heartbeat', 'mind', 'way', 'im', 'feeling', 'cant', 'deny', 'ive', 'gotta', 'let', 'go', 'found', 'love', 'hopeless', 'place', 'found', 'love', 'hopeless', 'place', 'found', 'love', 'hopeless', 'place', 'found', 'love', 'hopeless', 'place', 'yellow', 'diamonds', 'light', 'standing', 'side', 'side', 'shadow', 'crosses', 'mine', 'found', 'love', 'hopeless', 'place', 'found', 'love', 'hopeless', 'place', 'found', 'love', 'hopeless', 'place', 'found', 'love', 'hopeless', 'place', 'found', 'love', 'hopeless', 'place', 'found', 'love', 'hopeless', 'place', 'found', 'love', 'hopeless', 'place', 'found', 'love', 'hopeless', 'place', \"let's\", 'go', 'cantar', 'con', 'nosotros', \"let's\", 'go', 'oh', 'whoa', 'oh', 'whoa', 'oh', 'whoa', 'oh', 'whoa', 'used', 'rule', 'world', 'seas', 'would', 'rise', 'gave', 'word', 'morning', 'sleep', 'alone', 'sweep', 'streets', 'used', 'used', 'roll', 'dice', 'feel', 'fear', \"enemy's\", 'eyes', 'listen', 'crowd', 'would', 'sing', 'old', 'king', 'dead', 'long', 'live', 'king', 'one', 'minute', 'held', 'key', 'next', 'walls', 'closed', 'discovered', 'castles', 'stand', 'upon', 'pillars', 'salt', 'pillars', 'sand', 'hear', 'jerusalem', 'bells', 'aringing', 'roman', 'cavalry', 'choirs', 'singing', 'mirror', 'sword', 'shield', 'missionaries', 'foreign', 'field', 'reason', \"can't\", 'explain', 'gone', 'never', 'never', 'honest', 'word', 'ruled', 'world', 'wicked', 'wild', 'wind', 'blew', 'doors', 'let', 'shattered', 'windows', 'sound', 'drums', 'people', 'believe', \"i'd\", 'become', 'revolutionaries', 'wait', 'head', 'silver', 'plate', \"i'm\", 'puppet', 'lonely', 'string', 'whoa', 'would', 'ever', 'want', 'king', 'hear', 'jerusalem', 'bells', 'aringing', 'roman', 'cavalry', 'choirs', 'singing', 'mirror', 'sword', 'shield', 'missionaries', 'foreign', 'field', 'reason', \"can't\", 'explain', 'know', 'saint', 'peter', 'call', 'name', 'never', 'honest', 'word', 'ruled', 'world', 'turn', 'lights', 'stadium', 'ahora', 'vamos', 'cantar', 'juntos', 'más', 'fuerte', 'que', 'nunca', 'go', 'oh', 'whoa', 'oh', 'whoa', 'oh', 'whoa', 'oh', 'whoa', 'oh', 'whoa', 'oh', 'hear', 'jerusalem', 'bells', 'aringing', 'oh', 'whoa', 'roman', 'cavalry', 'choirs', 'singing', 'oh', 'whoa', 'mirror', 'sword', 'shield', 'oh', 'whoa', 'missionaries', 'foreign', 'field', 'oh', 'whoa', 'reason', \"can't\", 'explain', 'oh', 'whoa', 'know', 'saint', 'peter', 'call', 'name', 'never', 'honest', 'word', 'ruled', 'world', 'world', 'world', 'world', 'world', 'world', 'world', 'ruled', 'world', 'world', 'world', 'world', 'world', 'world', 'world', 'world', \"i've\", 'reading', 'books', 'old', 'legends', 'myths', 'achilles', 'gold', 'hercules', 'gifts', \"spiderman's\", 'control', 'batman', 'fists', 'clearly', 'see', 'upon', 'list', 'pre', 'said', \"where'd\", 'wanna', 'go', 'much', 'wanna', 'risk', \"i'm\", 'looking', 'somebody', 'superhuman', 'gifts', 'superhero', 'fairy', 'tale', 'bliss', 'something', 'turn', 'somebody', 'kiss', 'want', 'something', 'like', 'doodoodoo', 'doodoodoo', 'doodoodoo', 'doodoo', 'doodoodoo', 'doodoodoo', 'oh', 'want', 'something', 'like', 'doodoodoo', 'doodoodoo', 'doodoodoo', 'doodoo', 'doodoodoo', 'doodoodoo', 'oh', 'want', 'something', 'like', 'want', 'something', 'like', \"i've\", 'reading', 'books', 'old', 'legends', 'myths', 'testaments', 'told', 'moon', 'eclipse', 'superman', 'unrolls', 'suit', 'lifts', \"i'm\", 'kind', 'person', 'fits', 'pre', 'said', \"where'd\", 'wanna', 'go', 'much', 'wanna', 'risk', \"i'm\", 'looking', 'somebody', 'superhuman', 'gifts', 'superhero', 'fairy', 'tale', 'bliss', 'something', 'turn', 'somebody', 'miss', 'want', 'something', 'like', 'oh', 'want', 'something', 'like', 'oh', 'want', 'something', 'like', 'doodoodoo', 'doodoodoo', 'doodoodoo', 'doodoo', 'doodoodoo', 'doodoodoo', 'something', 'like', 'doodoodoo', 'doodoodoo', 'doodoodoo', 'doodoo', 'doodoodoo', 'doodoodoo', 'pre', \"where'd\", 'wanna', 'go', 'much', 'wanna', 'risk', \"i'm\", 'looking', 'somebody', 'superhuman', 'gifts', 'superhero', 'fairy', 'tale', 'bliss', 'something', 'turn', 'somebody', 'kiss', 'want', 'something', 'like', 'want', 'something', 'like', 'sing', 'oh', 'want', 'something', 'like', 'something', 'like', 'oh', 'want', 'something', 'like', 'oh', 'want', 'something', 'like', 'earth', 'angel', 'earth', 'angel', 'mine', 'darling', 'dear', 'love', 'time', \"i'm\", 'fool', 'fool', 'love', 'earth', 'angel', 'earth', 'angel', 'one', 'adore', 'love', 'forever', 'evermore', \"i'm\", 'fool', 'fool', 'love', 'fell', 'knew', 'vision', 'love', 'loveliness', 'hope', 'pray', 'someday', \"i'll\", 'vision', 'hap', 'happiness', 'oh', 'earth', 'angel', 'earth', 'angel', 'please', 'mine', 'darling', 'dear', 'love', 'time', \"i'm\", 'fool', 'fool', 'love', 'fell', 'knew', 'vision', 'loveliness', 'hope', 'pray', 'someday', \"i'll\", 'vision', 'happiness', 'oh', 'earth', 'angel', 'earth', 'angel', 'please', 'mine', 'darling', 'dear', 'love', 'time', \"i'm\", 'fool', 'fool', 'love', 'lost', 'trust', 'never', 'never', 'break', 'back', 'ever', 'see', 'answer', 'bulletproof', 'vest', 'windows', 'closed', \"i'll\", 'best', \"i'll\", 'see', 'soon', 'telescope', 'lens', \"want's\", 'friends', \"i'll\", 'see', 'soon', 'came', 'came', 'snapping', 'heels', 'came', 'snapping', 'heels', 'break', 'back', 'ever', 'say', 'answer', \"i'll\", 'see', 'soon', 'oh', 'lost', 'trust', 'oh', 'lost', 'trust', 'lose', 'trust', 'lost', 'trust', \"an'\", 'people', 'wanna', 'fight', 'fun', 'battle', \"war's\", 'already', 'people', 'wanna', 'break', \"what's\", 'built', \"there's\", 'use', 'crying', \"milk's\", 'already', 'spilt', \"here's\", 'needle', \"here's\", 'thread', 'sew', 'clear', 'head', \"here's\", 'needle', \"here's\", 'thread', 'oh', 'meant', 'exactly', 'said', 'might', 'find', 'useless', 'better', 'hole', 'ground', 'might', 'find', 'useless', 'better', 'hole', 'ground', 'well', 'look', 'cavemen', 'going', 'turning', 'shore', 'ohhh', 'gonna', 'want', 'run', 'around', 'someone', 'let', 'ohhh', \"i'm\", 'looking', 'bloodless', 'revolution', \"i'm\", 'looking', 'bloodless', 'revolution', \"i'm\", 'looking', 'bloodless', 'revolution', 'oh', 'get', 'back', 'solid', 'ground', \"i'm\", 'gonna', 'crawl', 'way', 'oh', 'lost', \"i'm\", 'found', \"i'm\", 'gonna', 'get', 'back', 'feet', \"i'm\", 'gonna', 'run', 'way', 'oh', 'lost', 'come', 'undone', \"i'm\", 'gonna', 'sing', 'see', 'ya', 'water', 'water', 'flows', 'oh', 'get', 'back', 'feet', \"i'm\", 'gonna', 'crown', 'days', 'turn', \"i've\", 'knees', \"i'll\", 'time', 'get', 'back', 'solid', 'ground', \"i'm\", 'gonna', 'crawl', 'way', 'oh', 'lost', \"i'm\", 'found', \"here's\", \"i'm\", 'gonna', 'sing', 'oh', 'water', 'water', 'flows', 'sing', 'oh', 'water', 'water', 'flows', 'built', 'web', 'spun', 'web', 'know', 'seem', 'way', 'maybe', 'perfect', 'day', 'even', 'though', 'bills', 'piling', 'maybe', 'lady', 'luck', \"ain't\", 'smiling', \"we'd\", 'open', 'eyes', \"we'd\", 'see', 'blessings', 'disguise', 'rain', 'clouds', 'fountains', 'though', 'troubles', 'seem', 'like', 'mountains', \"there's\", 'gold', 'hills', \"there's\", 'gold', 'hills', 'lose', 'heart', 'give', 'day', 'chance', 'start', 'every', 'life', 'says', 'think', 'going', 'fast', \"we're\", 'apt', 'think', 'cruel', 'sometimes', 'case', 'cruel', 'kind', \"we'd\", 'get', 'knees', \"we'd\", 'see', 'forest', 'trees', \"we'd\", 'see', 'new', 'sun', 'rising', 'hills', 'horizon', \"there's\", 'gold', 'hills', \"there's\", 'gold', 'hills', 'lose', 'faith', 'give', 'world', 'chance', 'say', 'word', 'two', 'friend', \"there's\", 'telling', 'day', 'might', 'end', \"we'll\", 'never', 'know', 'see', \"there's\", 'gold', 'hills', \"there's\", 'gold', 'hills', 'lose', 'heart', 'give', 'day', 'chance', 'start', \"there's\", 'gold', 'hills', \"there's\", 'gold', 'hills', 'live', 'twice', 'seems', 'one', 'life', 'one', 'dreams', 'drift', 'years', 'life', 'seems', 'tame', \"'til\", 'one', 'dream', 'appears', 'love', 'name', 'love', 'stranger', \"who'll\", 'beckon', 'think', 'danger', 'stranger', 'gone', 'dream', 'pay', 'price', 'make', 'one', 'dream', 'come', 'true', 'live', 'twice', 'love', 'stranger', \"who'll\", 'beckon', 'think', 'danger', 'stranger', 'gone', 'dream', 'pay', 'price', 'make', 'one', 'dream', 'come', 'true', 'live', 'twice', 'uno', 'dos', 'tres', 'cuatro', 'look', 'stars', 'look', 'shine', 'everything', 'yeah', 'yellow', 'came', 'along', 'wrote', 'song', 'things', 'called', 'yellow', 'took', 'turn', 'thing', 'done', 'yellow', \"let's\", 'go', 'skin', 'oh', 'yeah', 'skin', 'bones', 'turn', 'something', 'beautiful', 'know', 'know', 'love', 'cantar', 'todos', 'know', 'love', 'swam', 'across', 'jumped', 'across', 'thing', \"'cause\", 'yellow', 'drew', 'line', 'drew', 'line', 'thing', 'love', 'yellow', 'yeah', 'yeah', 'yeah', 'skin', 'oh', 'yeah', 'skin', 'bones', 'turn', 'something', 'beautiful', 'know', \"i'd\", 'bleed', 'dry', \"i'd\", 'bleed', 'dry', 'true', 'look', 'shine', 'look', 'shine', 'look', 'shine', 'look', 'shine', 'look', 'shine', 'look', 'shine', 'entonces', 'buenas', 'noches', 'amigos', 'amigas', 'porteños', 'porteñas', 'muchísimo', 'gracias', 'para', 'todo', 'estos', 'están', 'los', 'última', 'conciertos', 'de', 'nuestra', 'mundial', 'gira', 'mundial', 'estamos', 'muy', 'feliz', 'de', 'estar', 'con', 'ustedes', 'en', 'argentina', 'thank', 'everybody', 'great', 'time', 'huh', 'los', 'vemos', 'tocar', 'el', 'mejor', 'concierto', 'del', 'mundo', 'para', 'ustedes', 'más', 'fuerte', 'por', 'favor', 'look', 'stars', 'shine', 'things', \"let's\", 'go', \"let's\", 'go', 'todavía', 'más', 'fuerte', 'turn', 'music', 'got', 'records', 'underneath', 'rubble', 'sing', 'rebel', 'song', 'want', 'see', 'another', 'generation', 'drop', \"i'd\", 'rather', 'comma', 'full', 'stop', 'maybe', \"i'm\", 'black', 'maybe', \"i'm\", 'knees', 'maybe', \"i'm\", 'gap', 'two', 'trapezes', 'heart', 'beating', 'pulses', 'start', 'cathedrals', 'heart', 'pre', 'saw', 'oh', 'light', 'swear', 'emerge', 'blinking', 'tell', 'alright', 'soar', 'walls', 'every', 'siren', 'symphony', 'every', \"tear's\", 'waterfall', 'waterfall', 'oh', 'waterfall', 'oh', 'oh', 'oh', 'waterfall', 'every', 'tear', 'waterfall', 'oh', 'oh', 'oh', 'hurt', 'hurt', 'bad', 'still', \"i'll\", 'raise', 'flag', 'pre', 'saw', 'oh', 'light', 'swear', 'emerge', 'blinking', 'tell', 'alright', 'soar', 'walls', 'every', 'siren', 'symphony', 'every', \"tear's\", 'waterfall', 'waterfall', 'oh', 'waterfall', 'oh', 'oh', 'oh', 'waterfall', 'every', 'tear', 'waterfall', 'oh', 'oh', 'oh', 'hurt', 'hurt', 'bad', 'still', \"i'll\", 'raise', 'flag', 'bones', 'sinking', 'like', 'stones', 'fought', 'homes', 'places', 'weve', 'grown', 'us', 'done', 'live', 'beautiful', 'world', 'yeah', 'yeah', 'live', 'beautiful', 'world', 'bones', 'sinking', 'like', 'stones', 'fought', 'homes', 'places', 'weve', 'grown', 'us', 'done', 'live', 'beautiful', 'world', 'yeah', 'yeah', 'live', 'beautiful', 'world', 'piano', 'live', 'beautiful', 'world', 'yeah', 'yeah', 'live', 'beautiful', 'world', 'oh', 'know', \"there's\", 'nothing', 'run', \"'cause\", 'yeah', 'everybody', \"here's\", 'got', 'somebody', 'lean', 'ooh', 'ooh', 'ooh', 'ahh', 'ahh', 'ooh', 'girl', 'expected', 'world', 'flew', 'away', 'reach', 'ran', 'away', 'sleep', 'dreamed', 'paraparaparadise', 'paraparaparadise', 'paraparaparadise', 'every', 'time', 'closed', 'eyes', 'interlude', 'woo', 'ooh', 'ooh', 'wahh', 'ahh', 'ooh', 'girl', 'expected', 'world', 'flew', 'away', 'reach', 'bullets', 'catch', 'teeth', 'life', 'goes', 'gets', 'heavy', 'wheel', 'breaks', 'butterfly', 'every', 'tear', 'waterfall', 'night', 'stormy', 'night', \"she'll\", 'close', 'eyes', 'night', 'stormy', 'night', 'away', \"she'd\", 'fly', 'dream', 'paraparaparadise', 'paraparaparadise', 'paraparaparadise', 'ohohohohohohohoh', \"she'd\", 'dream', 'paraparaparadise', 'paraparaparadise', 'paraparaparadise', 'ohohohohohohohoh', 'la', 'la', 'la', 'la', 'la', 'la', 'la', 'la', 'la', 'la', 'la', 'la', 'la', 'la', 'la', 'la', 'lying', 'underneath', 'stormy', 'skies', \"she'd\", 'say', 'oh', 'know', 'sun', 'must', 'set', 'rise', 'could', 'paraparaparadise', 'paraparaparadise', 'paraparaparadise', 'ohohohohohohohoh', 'could', 'paraparaparadise', 'paraparaparadise', 'paraparaparadise', 'ohohohohohohohoh', 'could', 'paraparaparadise', 'paraparaparadise', 'paraparaparadise', 'ohohohohohohohoh', 'post', 'paraparadise', 'paraparadise', 'paraparaparadise', 'ohohohohohohohoh', 'predrop', 'ohohohohohohohoh', 'ohohohohohohohoh', 'ohohohohohohohoh', 'ohohohohohohohoh', 'ohohohohohohohoh', 'ohohohohohohohoh', 'ohohohohohohohoh', 'night', 'stormy', 'night', \"she'll\", 'close', 'eyes', 'drop', 'oh', 'close', 'eyes', 'oh', 'close', 'eyes', 'oh', 'close', 'eyes', 'oh', 'close', 'eyes', 'oh', 'close', 'eyes', 'oh', 'close', 'eyes', 'oh', 'close', 'eyes', 'oh', 'predrop', 'close', 'eyes', 'oh', 'close', 'eyes', 'oh', 'close', 'eyes', 'oh', 'close', 'eyes', 'oh', 'close', 'eyes', 'oh', 'close', 'eyes', 'oh', 'close', 'eyes', 'oh', 'close', 'eyes', 'oh', 'drop', 'close', 'eyes', 'oh', 'close', 'eyes', 'oh', 'close', 'eyes', 'oh', 'close', 'eyes', 'oh', 'close', 'eyes', 'oh', 'close', 'eyes', 'oh', 'close', 'eyes', 'oh', 'close', 'eyes', 'oh', 'close', 'eyes', 'oh', 'eyes', 'oh', 'eyes', 'oh', 'eyes', '4', 'yeah', 'working', 'part', 'time', 'fiveanddime', 'boss', 'mr', 'mcgee', 'told', 'several', 'times', 'like', 'kind', \"'cause\", 'bit', 'leisurely', 'seems', 'busy', 'something', 'close', 'nothing', 'different', 'day', \"that's\", 'saw', 'ooh', 'saw', 'walked', 'door', 'door', 'wore', 'raspberry', 'beret', 'kind', 'find', 'second', 'hand', 'store', 'raspberry', 'beret', 'warm', 'wear', 'much', 'raspberry', 'beret', 'think', 'love', 'built', 'like', 'nerve', 'ask', 'planned', 'harm', 'look', 'put', 'back', 'bike', 'went', 'riding', 'old', 'man', \"johnson's\", 'farm', 'said', 'overcast', 'days', 'never', 'turned', 'something', 'clouds', 'mixed', 'bright', 'could', 'tell', 'kissed', 'knew', 'get', 'kicks', 'wore', 'raspberry', 'beret', 'kind', 'find', 'second', 'hand', 'store', 'raspberry', 'beret', 'warm', 'wear', 'much', 'raspberry', 'beret', 'think', 'love', 'rain', 'sounds', 'cool', 'hits', 'barn', 'roof', 'horses', 'wonder', 'thunder', 'drowns', 'lightning', 'sees', 'feel', 'like', 'movie', 'star', 'listen', 'say', 'first', 'time', \"ain't\", 'greatest', 'tell', 'ya', 'chance', 'change', 'stroke', \"'cause\", 'baby', \"i'm\", 'girl', 'fine', 'raspberry', 'beret', 'kind', 'find', 'kind', 'find', 'kind', 'find', 'second', 'hand', 'store', 'oh', 'raspberry', 'beret', 'warm', 'raspberry', 'women', 'gone', 'wear', 'much', 'yeah', 'raspberry', 'beret', 'think', 'think', 'think', 'love', 'raspberry', 'beret', 'kind', 'find', 'second', 'hand', 'store', 'raspberry', 'beret', 'tell', 'raspberry', 'women', 'gone', 'warm', 'wear', 'much', 'raspberry', 'beret', 'think', 'love', 'turn', 'magic', 'umi', \"she'd\", 'say', 'everything', 'wants', 'dream', 'away', 'legends', 'every', 'day', \"that's\", 'told', 'turn', 'magic', \"she'd\", 'say', 'everything', 'wants', 'dream', 'away', 'pressure', 'weight', 'oh', 'diamonds', 'feel', 'heart', 'beating', 'feel', 'heart', 'underneath', 'skin', 'feel', 'heart', 'beating', \"'cause\", 'make', 'feel', 'like', \"i'm\", 'alive', 'alive', 'oh', 'make', 'feel', 'like', \"i'm\", 'alive', 'said', \"can't\", 'go', 'way', \"i'm\", 'dream', 'died', 'light', 'day', \"i'm\", 'gonna', 'hold', 'half', 'sky', 'say', 'feel', 'heart', 'beating', 'feel', 'heart', 'underneath', 'skin', 'feel', 'heart', 'beating', \"'cause\", 'make', 'feel', 'like', 'im', 'alive', 'alive', 'oh', 'make', 'feel', 'like', 'im', 'alive', 'spoken', 'todo', 'el', 'mundo', 'por', 'favor', 'todo', 'el', 'mundo', 'abajo', 'todo', 'el', 'mundo', 'get', 'low', 'abajo', \"let's\", 'go', 'low', 'lets', 'get', 'low', 'go', 'low', 'go', 'low', 'everybody', 'go', 'abajo', 'todo', 'el', 'mundo', 'abajo', 'uno', 'dos', 'uno', 'dos', 'tres', 'get', 'woo', 'woo', \"we've\", 'got', 'life', 'adventure', 'oh', \"we've\", 'got', 'life', 'get', 'yeah', 'weve', 'got', 'life', 'adventure', 'oh', 'want', 'share', 'sing', \"let's\", 'go', 'woo', 'hoo', 'woo', 'hoo', 'woo', 'hoo', 'woo', 'hoo', 'woo', 'hoo', 'woo', 'hoo', 'woo', 'hoo', 'woo', 'hoo', 'woo', 'hoo', 'woo', 'hoo', 'woo', 'hoo', 'woo', 'hoo', 'woo', 'hoo', 'woo', 'hoo', 'woo', 'hoo', 'woo', 'hoo', 'woo', 'hoo', 'woo', 'hoo', 'woo', 'hoo', 'woo', 'hoo', 'woo', 'hoo', 'woo', 'hoo', 'woo', 'hoo', 'woo', 'hoo', 'woo', 'hoo', 'woo', 'hoo', 'woo', 'hoo', 'woo', 'hoo', 'woo', 'hoo', 'woo', 'hoo', 'woo', 'hoo', 'woo', 'hoo', 'woo', 'muchísimas', 'gracias', 'sleep', 'ocean', 'sleep', 'sand', \"i've\", 'busy', 'since', 'fall', 'man', 'son', 'devil', 'understand', 'come', 'baby', \"that's\", 'sudden', 'end', 'speak', 'devil', 'inside', 'head', 'busy', 'since', \"world's\", 'gonna', 'end', 'tired', 'symbol', 'sun', 'sand', 'talk', 'little', 'louder', 'understand', 'gonna', 'get', 'supper', 'world', 'tonight', \"i'm\", 'gonna', 'fall', 'asleep', \"there's\", 'tiny', 'little', 'sin', \"i've\", 'gotta', 'got', 'say', \"i'm\", 'holding', 'night', 'turn', 'flow', 'storm', \"there's\", 'world', 'outside', 'wanna', 'let', \"there's\", 'world', 'outside', 'going', 'world', 'outside', 'let', 'love', 'love', 'got', 'storm', 'get', 'somewhere', 'oh', 'love', 'got', 'storm', \"i've\", 'got', 'wife', 'kids', 'baltimore', 'jack', 'went', 'ride', 'never', 'came', 'back', 'floats', 'like', 'swan', 'grace', 'water', 'lips', 'like', 'sugar', 'lips', 'like', 'sugar', 'think', 'caught', 'glides', 'across', 'water', 'calls', 'tonight', 'share', 'moonlight', \"she'll\", 'flow', 'river', 'ask', \"she'll\", 'give', 'lips', 'like', 'sugar', 'sugar', 'kisses', 'lips', 'like', 'sugar', 'sugar', 'kisses', 'knows', 'knows', 'know', 'thinking', 'sugar', 'kisses', 'sugar', 'kisses', 'think', 'flown', 'shores', 'laugh', 'break', 'melt', 'lake', \"she'll\", 'flow', 'river', 'ask', \"she'll\", 'give', 'lips', 'like', 'sugar', 'sugar', 'kisses', 'lips', 'like', 'sugar', 'sugar', 'kisses', \"she'll\", 'mirror', 'reflect', 'loser', 'winner', 'king', 'siam', 'siamese', 'twin', 'knows', \"i'm\", 'thinking', \"she'll\", 'flow', 'river', 'ask', \"she'll\", 'give', 'lips', 'like', 'sugar', 'sugar', 'kisses', 'lips', 'like', 'sugar', 'sugar', 'kisses', \"'cause\", 'youre', 'sky', \"'cause\", 'sky', 'full', 'stars', 'im', 'gonna', 'give', 'heart', \"'cause\", 'sky', \"'cause\", 'sky', 'full', 'stars', \"'cause\", 'light', 'path', 'send', 'dad', 'mom', \"let's\", 'go', 'care', 'go', 'tear', 'apart', 'dont', 'care', 'oohooh', 'ooh', 'cause', 'sky', \"'cause\", 'sky', 'full', 'stars', 'think', 'saw', 'cause', 'sky', \"'cause\", 'sky', 'full', 'stars', 'want', 'die', 'arms', 'oh', 'oh', 'oh', 'cause', 'get', 'lighter', 'gets', 'dark', 'yes', \"i'm\", 'gonna', 'give', 'heart', 'come', 'come', 'come', 'come', 'care', 'go', 'tear', 'apart', 'care', 'oohooh', 'ooh', \"'cause\", 'sky', \"'cause\", 'sky', 'full', 'stars', 'think', 'saw', 'think', 'saw', \"'cause\", 'sky', 'sky', 'full', 'stars', 'heavenly', 'view', 'heavenly', 'view', 'yeah', 'yeah', 'yeah', 'oh', 'ooh', 'muchísimas', 'gracias', 'amigos', 'amigas', 'thank', 'much', 'everyone', 'poor', \"i'm\", 'floating', 'sea', 'opportunity', 'went', 'poor', 'oh', 'going', 'going', 'cry', 'oh', 'always', 'come', 'undone', 'try', 'sun', 'know', 'poor', 'know', 'going', 'come', 'love', \"i'll\", 'see', 'know', 'hear', 'come', 'nearer', 'hear', 'understand', 'hear', 'come', 'nearer', 'hear', 'understand', 'poor', 'float', 'sea', 'oh', 'let', 'come', 'try', 'poor', 'oh', 'going', 'oh', 'gonna', 'cry', 'hear', 'come', 'nearer', 'hear', 'understand', 'hear', 'come', 'nearer', 'hear', 'understand', 'understand', 'understand', 'oooh', 'ahhhh', 'ahhhh', 'kylie', 'minogue', 'call', 'wild', 'rose', 'name', 'elisa', 'day', 'call', 'know', 'name', 'elisa', 'day', 'first', 'day', 'saw', 'knew', 'one', 'stared', 'eyes', 'smiled', 'lips', 'colour', 'roses', 'grew', 'river', 'bloody', 'wild', 'kylie', 'minogue', 'knocked', 'door', 'entered', 'room', 'trembling', 'subsided', 'sure', 'embrace', 'would', 'first', 'man', 'careful', 'hand', 'wiped', 'tears', 'ran', 'face', 'chris', 'second', 'day', 'brought', 'flower', 'beautiful', 'woman', \"i'd\", 'seen', 'said', 'know', 'wild', 'roses', 'grow', 'sweet', 'scarlet', 'free', '4', 'kylie', 'second', 'day', 'came', 'single', 'red', 'rose', 'said', 'give', 'loss', 'sorrow', 'nodded', 'head', 'lay', 'bed', 'said', 'show', 'roses', 'follow', '5', 'kylie', 'third', 'day', 'took', 'river', 'showed', 'roses', 'kissed', 'last', 'thing', 'heard', 'muttered', 'word', 'knelt', 'stood', 'smiling', 'rock', 'fist', '6', 'chris', 'last', 'day', 'took', 'wild', 'roses', 'grow', 'lay', 'bank', 'wind', 'light', 'thief', 'kissed', 'goodbye', 'said', 'beauty', 'must', 'die', 'lent', 'planted', 'rose', 'teeth', 'flock', 'birds', 'hovering', 'flock', 'birds', \"that's\", 'think', 'love', 'always', 'look', 'sky', 'pray', 'dawn', \"'cause\", 'fly', 'always', 'sometimes', 'arrive', 'sometimes', 'gone', 'fly', 'flock', 'birds', 'hovering', 'smoke', \"i'm\", 'turned', 'rise', 'following', 'still', 'always', 'look', 'sky', 'pray', 'dawn', \"'cause\", 'fly', 'away', 'one', 'minute', 'arrive', 'next', 'know', \"they're\", 'gone', 'fly', 'fly', 'fly', 'ride', 'maybe', 'one', 'day', \"i'll\", 'fly', 'next', 'fly', 'ride', 'maybe', 'one', 'day', 'come', 'fly', 'fly', 'fly', 'fly', 'put', 'world', 'tin', 'black', 'market', 'contraband', 'hurt', 'little', 'bit', 'sliced', 'packaged', 'long', 'black', 'trench', 'coat', 'two', 'hands', 'around', 'throat', 'oh', 'wanna', 'get', 'right', 'sometimes', \"there's\", 'much', 'scared', 'much', 'make', 'sense', 'clowns', 'ever', 'get', 'control', 'oh', 'hear', 'let', 'know', 'invade', 'oh', 'complicated', 'oh', 'wanna', 'get', 'right', 'sometimes', 'wanna', 'get', 'right', 'sometimes', \"that's\", 'see', 'world', 'many', 'times', 'say', \"can't\", 'believe', 'heard', \"that's\", 'see', 'world', 'worry', 'gonna', 'get', 'hurt', 'oooh', \"there's\", 'something', 'missing', \"there's\", 'nobody', 'listening', 'running', 'circle', 'careful', 'wanna', 'mantrapped', 'wanna', 'shrinkwrapped', 'oh', 'wanna', 'get', 'right', 'sometimes', 'wanna', 'get', 'right', 'sometimes', \"that's\", 'see', 'world', 'many', 'times', 'heard', \"can't\", 'believe', 'word', \"that's\", 'see', 'world', 'oh', 'worry', \"'cause\", 'nobody', 'hurt', \"that's\", 'see', 'world', \"that's\", 'see', 'world', 'help', 'help', 'cause', \"i'm\", 'falling', \"can't\", 'get', 'back', 'number', 'call', 'oh', 'help', 'help', 'cause', 'fall', 'scared', 'know', 'severed', \"i'm\", 'rolling', 'even', 'sun', 'set', 'burned', 'eyes', 'even', 'dark', 'began', 'climb', 'roll', 'dice', 'turned', 'worse', 'together', 'grace', 'god', 'know', 'hear', 'sound', 'feel', 'coming', 'ground', 'head', 'mouth', 'oh', 'feel', 'start', 'like', 'bullet', 'china', 'shop', 'oh', 'start', 'stop', 'starts', 'never', 'stop', 'oh', 'ten', 'dozen', 'chooses', \"who's\", 'chosen', 'must', \"musn't\", 'rests', 'runs', 'ask', 'question', \"world's\", 'turned', 'upside', 'oh', \"world's\", 'turned', 'upside', 'feel', 'sink', 'said', \"i'd\", 'never', 'oh', 'catch', 'oh', 'like', 'bullet', 'mouth', 'like', 'balls', 'ball', 'chain', 'spark', 'another', 'rain', 'oh', 'hear', 'sound', 'feel', 'mouth', 'oh', 'oh', 'ten', 'dozen', 'chooses', \"who's\", 'chosen', 'must', 'rests', 'runs', 'ask', 'question', \"world's\", 'turned', 'upside', \"world's\", 'turned', 'upside', 'falling', 'side', 'feels', 'wrong', 'feels', 'right', 'come', 'break', 'pieces', 'begin', \"i'm\", 'used', 'rule', 'world', 'seas', 'would', 'rise', 'gave', 'word', 'morning', 'sleep', 'alone', 'sweep', 'streets', 'used', 'used', 'roll', 'dice', 'feel', 'fear', \"enemy's\", 'eyes', 'listen', 'crowd', 'would', 'sing', 'old', 'king', 'dead', 'long', 'live', 'king', 'one', 'minute', 'held', 'key', 'next', 'walls', 'closed', 'discovered', 'castles', 'stand', 'upon', 'pillars', 'salt', 'pillars', 'sand', 'hear', 'jerusalem', 'bells', 'aringing', 'roman', 'cavalry', 'choirs', 'singing', 'mirror', 'sword', 'shield', 'missionaries', 'foreign', 'field', 'reason', \"can't\", 'explain', 'go', 'never', 'never', 'honest', 'word', 'ruled', 'world', 'wicked', 'wild', 'wind', 'blew', 'doors', 'let', 'shattered', 'windows', 'sound', 'drums', 'people', 'believe', \"i'd\", 'become', 'revolutionaries', 'wait', 'head', 'silver', 'plate', 'puppet', 'lonely', 'string', 'oh', 'would', 'ever', 'want', 'king', 'hear', 'jerusalem', 'bells', 'aringing', 'roman', 'cavalry', 'choirs', 'singing', 'mirror', 'sword', 'shield', 'missionaries', 'foreign', 'field', 'reason', \"can't\", 'explain', 'know', 'saint', 'peter', 'call', 'name', 'never', 'honest', 'word', 'ruled', 'world', 'hear', 'jerusalem', 'bells', 'aringing', 'roman', 'cavalry', 'choirs', 'singing', 'mirror', 'sword', 'shield', 'missionaries', 'foreign', 'field', 'reason', \"can't\", 'explain', 'know', 'saint', 'peter', 'call', 'name', 'never', 'honest', 'word', 'ruled', 'world', 'tracy', 'died', 'soon', 'long', 'fought', 'civil', 'war', \"i'd\", 'wiped', 'away', 'last', 'tear', 'guess', \"he's\", 'better', 'whole', 'lot', 'better', 'fools', 'left', 'used', 'cry', '4', 'tracy', 'friend', 'kind', 'cars', 'pass', 'u', 'every', 'day', 'used', 'cry', '4', 'tracy', 'wanted', 'see', 'sometimes', 'sometimes', 'life', \"ain't\", 'always', 'way', 'sometimes', 'snows', 'april', 'sometimes', 'feel', 'bad', 'bad', 'sometimes', 'wish', 'life', 'never', 'ending', 'good', 'things', 'say', 'never', 'last', 'springtime', 'always', 'favorite', 'time', 'year', 'time', '4', 'lovers', 'holding', 'hands', 'rain', 'springtime', 'reminds', \"tracy's\", 'tears', 'always', 'cry', '4', 'love', 'never', 'cry', '4', 'pain', 'used', 'say', 'strong', 'unafraid', 'die', 'unafraid', 'death', 'left', 'hypnotized', 'staring', 'picture', 'realized', 'one', 'could', 'cry', 'way', 'tracy', 'cried', 'sometimes', 'snows', 'april', 'sometimes', 'feel', 'bad', 'sometimes', 'sometimes', 'wish', 'life', 'never', 'ending', 'good', 'things', 'say', 'never', 'last', 'often', 'dream', 'heaven', 'know', \"tracy's\", 'know', 'found', 'another', 'friend', 'maybe', \"he's\", 'found', 'answer', 'april', 'snow', 'maybe', 'one', 'day', \"i'll\", 'see', 'tracy', 'sometimes', 'snows', 'april', 'sometimes', 'feel', 'bad', 'bad', 'sometimes', 'wish', 'life', 'never', 'ending', 'good', 'things', 'say', 'never', 'last', 'good', 'things', 'say', 'never', 'last', 'love', 'love', 'past', 'song', 'love', 'song', 'love', 'unknown', 'goes', 'alone', 'heavy', 'heart', 'looks', 'like', 'made', 'stone', 'hard', 'see', 'clearly', 'x', \"i'm\", 'going', 'take', 'back', 'oh', \"i'm\", 'going', 'say', 'mean', 'target', \"i'm\", 'aiming', \"i'm\", 'singing', 'bitter', 'breathe', 'bitter', 'breathe', 'blown', 'left', 'fire', 'clearly', 'taken', 'everything', 'gone', 'taken', 'everything', \"i'm\", 'going', 'take', 'back', 'im', 'going', 'say', 'dont', 'mean', 'target', \"i'm\", 'aiming', \"i'm\", 'nothing', 'got', 'get', 'message', 'home', \"i'm\", 'going', 'stand', 'wait', 'going', 'leave', 'much', 'late', 'platform', \"i'm\", 'going', 'stand', 'say', 'oh', \"i'm\", 'nothing', 'till', 'bitter', 'breathe', 'blown', 'song', 'love', 'love', 'unknown', 'ive', 'got', 'get', 'message', 'home', 'look', 'stars', 'look', 'shine', 'everything', 'yeah', 'yellow', 'came', 'along', 'wrote', 'song', 'things', 'called', 'yellow', 'took', 'turn', 'oh', 'thing', 'done', 'yellow', 'skin', 'oh', 'yeah', 'skin', 'bones', 'turn', 'something', 'beautiful', 'know', 'know', 'love', 'know', 'love', 'swam', 'across', 'jumped', 'across', 'oh', 'thing', \"'cos\", 'yellow', 'drew', 'line', 'drew', 'line', 'oh', 'thing', 'yellow', 'skin', 'oh', 'yeah', 'skin', 'bones', 'turn', 'something', 'beautiful', 'know', 'bleed', 'dry', 'bleed', 'dry', 'true', 'look', 'shine', 'look', 'shine', 'look', 'shine', 'look', 'shine', 'look', 'shine', 'look', 'shine', 'vamos', 'cantar', 'juntos', 'sing', 'eyo', 'eyo', 'sing', 'eyo', 'eyo', 'turn', 'music', 'got', 'records', 'shut', 'world', 'outside', 'lights', 'come', 'maybe', 'streets', 'alight', 'maybe', 'trees', 'gone', 'feel', 'heart', 'start', 'beating', 'favorite', 'song', 'kids', 'dance', 'kids', 'night', 'monday', 'morning', 'sees', 'another', 'life', 'turn', 'music', \"i'm\", 'roll', 'time', 'heaven', 'sight', 'yeah', 'woo', 'woo', 'ooh', 'turn', 'music', 'got', 'records', 'underneath', 'rubble', 'sing', 'rebel', 'song', 'want', 'see', 'another', 'generation', 'drop', \"i'd\", 'rather', 'comma', 'full', 'stop', 'maybe', \"i'm\", 'black', 'maybe', \"i'm\", 'knees', 'maybe', \"i'm\", 'gap', 'two', 'trapezes', 'heart', 'beating', 'pulses', 'start', 'cathedrals', 'heart', 'saw', 'oh', 'light', 'swear', 'emerge', 'blinking', 'tell', 'alright', 'soar', 'walls', 'every', 'siren', 'symphony', 'every', \"tear's\", 'waterfall', 'waterfall', 'waterfall', 'ah', 'waterfall', 'every', 'teardrop', 'waterfall', 'ah', 'hurt', 'hurt', 'bad', 'still', \"i'll\", 'raise', 'still', \"i'll\", 'raise', 'flag', 'waterfall', 'waterfall', 'oh', 'every', 'tear', 'every', 'tear', 'oh', 'every', 'teardrop', 'waterfall', 'oh', 'every', 'tear', 'every', 'tear', 'oh', 'every', 'teardrop', 'waterfall', 'said', 'every', 'tear', 'every', 'tear', 'every', 'teardrop', 'waterfall', 'every', 'tear', 'every', 'tear', 'every', 'teardrop', 'waterfall', 'come', 'marianne', 'sun', 'sets', 'eyes', \"i'm\", 'love', 'come', 'twice', 'wanna', 'air', 'come', 'see', 'wanna', 'ride', 'along', 'follow', 'dreams', 'kaleidoscopes', 'fall', 'sun', 'gonna', 'lay', 'blame', 'anyone', 'gonna', 'write', 'song', 'sing', 'sun', 'tell', 'anyone', 'tell', 'anyone', 'oh', 'sweet', 'marianne', 'one', \"i've\", 'ever', 'loved', 'swear', 'swear', 'moon', 'stars', 'wanna', 'understand', 'wanna', 'man', 'wanna', 'man', 'swear', 'moon', 'stars', 'full', 'moon', 'part', 'gonna', 'write', 'song', 'see', 'woman', 'feel', 'come', 'get', 'right', 'sun', 'gonna', 'ride', 'along', 'fly', 'gonna', 'let', 'oh', 'sweet', 'marianne', 'one', \"i've\", 'ever', 'loved', 'swear', 'swear', 'moon', 'stars', 'head', 'one', \"i've\", 'ever', 'loved', 'wanna', 'man', 'one', \"i've\", 'ever', 'loved', 'oh', 'love', 'oh', 'love', 'love', 'oh', 'love', 'yeah', 'yeah', 'yeah', 'yeah', 'yeah', 'yeah', 'yeah', 'yeah', 'yeah', 'yeah', 'yeah', 'yeah', 'yeah', 'yeah', 'yeah', 'yeah', 'yeah', 'yeah', 'yeah', 'yeah', 'yeah', 'yeah', 'yeah', 'yeah', 'oh', 'yeah', 'lights', 'go', \"can't\", 'saved', 'tides', 'tried', 'swim', 'brought', 'upon', 'knees', 'oh', 'beg', 'beg', 'plead', 'singing', 'come', 'things', 'unsaid', 'shoot', 'apple', 'head', 'trouble', 'cant', 'named', \"tiger's\", 'waiting', 'tamed', 'singing', 'confusion', 'never', 'stops', 'closing', 'walls', 'ticking', 'clocks', 'gonna', 'come', 'back', 'take', 'home', 'could', 'stop', 'know', 'come', 'upon', 'seas', 'cursed', 'missed', 'opportunities', 'part', 'cure', 'part', 'disease', 'singing', 'oh', 'nothing', 'else', 'compares', 'oh', 'nothing', 'else', 'compares', 'oh', 'nothing', 'else', 'compares', 'home', 'home', 'wanted', 'go', 'home', 'home', 'wanted', 'go', \"let's\", 'go', 'yeah', 'okay', 'alright', 'muchisimas', 'gracias', 'amigos', 'tenemos', 'mucha', 'suerte', 'de', 'estar', 'aquí', 'uno', 'dos', 'saltando', 'stole', 'key', 'took', 'car', 'downtown', 'lost', 'boys', 'meet', 'took', 'car', 'downtown', 'took', 'offered', 'set', 'free', 'saw', 'lights', 'go', 'end', 'scene', 'saw', 'lights', 'go', 'standing', 'front', 'scarecrow', 'dreams', 'smash', 'heart', 'smithereens', 'bright', 'red', 'rose', 'come', 'bursting', 'concrete', 'cartoon', 'heart', 'oh', 'light', 'fire', 'fire', 'spark', 'light', 'fire', 'flame', 'heart', 'well', 'run', 'wild', 'well', 'glowing', 'dark', 'whooooh', 'glowing', 'dark', 'whoo', 'whoo', 'boys', 'girls', 'matters', 'world', 'boys', 'girls', 'madness', 'occurs', 'highs', 'lows', 'room', 'aspinning', 'goes', 'well', 'run', 'riot', 'well', 'glowing', 'dark', 'interlude', 'manos', 'por', 'favor', 'arriba', 'sing', 'ruido', 'vamos', 'saltar', 'saltar', 'uno', 'dos', 'tres', 'go', 'well', 'soar', 'luminous', 'wired', 'well', 'glowing', 'dark', 'estáis', 'tan', 'generoso', 'muchisimas', 'gracias', 'con', 'todo', 'mi', 'corazón', 'come', 'want', 'see', 'thing', \"that's\", 'happening', 'like', 'moses', 'power', 'sea', 'got', 'power', 'come', 'want', 'know', 'refuge', 'somewhere', 'go', 'air', 'air', 'breathe', 'golden', 'opportunity', 'oh', 'oh', 'yes', 'would', 'could', 'know', 'would', 'baby', 'oh', 'baby', 'wish', 'come', 'want', 'see', 'difference', 'made', \"i'll\", 'waiting', 'matter', 'say', \"i'll\", 'keep', 'waiting', 'days', 'days', 'days', 'oh', 'oh', 'yes', 'would', 'could', 'know', 'would', 'baby', 'oh', 'baby', 'wish', 'wish', 'wish', \"sky's\", 'gonna', 'fall', 'let', 'fall', 'gonna', 'break', 'break', 'sky', 'gonna', 'fall', 'let', 'fall', 'oh', 'lord', 'let', 'fall', 'call', 'magic', 'call', 'true', 'call', 'magic', 'got', 'broken', 'broken', 'two', 'still', 'call', 'magic', \"i'm\", 'next', 'eoheoh', 'true', 'want', 'anybody', 'else', 'true', 'want', 'anybody', 'else', 'call', 'magic', 'cut', 'two', 'magic', 'disappear', 'view', \"can't\", 'get', \"can't\", 'get', 'still', 'call', 'magic', 'precious', 'jewel', 'true', 'want', 'anybody', 'else', 'true', 'want', 'anybody', 'else', 'wanna', 'fall', 'fall', 'far', 'wanna', 'fall', 'fall', 'hard', 'call', 'magic', 'call', 'true', 'call', 'mamagic', 'ask', \"we've\", 'still', 'believe', 'magic', 'well', 'yes', 'course', 'turn', 'lights', 'please', 'please', 'say', 'hello', 'everybody', 'show', 'love', '56', 'nuestro', 'rista', 'mr', 'jonny', 'buckland', 'nuestro', 'bajista', 'mr', 'guy', 'berryman', 'nuestro', 'baterista', 'mr', 'champion', 'sitting', 'beach', 'car', 'paint', 'dried', 'well', 'going', 'give', 'cause', 'rain', 'washed', 'well', 'gypsy', 'talking', 'friend', 'never', 'get', 'get', 'respect', 'oh', 'well', 'never', 'get', 'want', 'respect', 'sometimes', \"money's\", 'going', 'run', 'standing', 'corner', 'belly', 'full', 'doubt', 'sometimes', \"somebody's\", 'going', 'bring', 'standing', 'bucket', 'crown', 'well', 'boys', 'standing', 'thinking', 'hip', 'wanna', 'captain', 'sinking', 'ship', 'well', 'boys', 'town', 'mormon', 'go', 'listening', 'session', 'noel', 'gallagher', 'listening', 'session', 'noel', 'gallagher', 'said', 'sometimes', \"money's\", 'going', 'run', 'standing', 'corner', 'belly', 'full', 'doubt', 'oh', 'someday', \"somebody's\", 'going', 'bring', 'standing', 'corner', 'bucket', 'crown', 'oh', 'standing', 'corner', 'waiting', 'corner', 'standing', 'corner', 'bucket', 'crown', 'beyond', 'reach', 'hands', 'sound', 'asleep', 'sweet', 'another', 'know', 'dreams', \"could've\", 'seen', 'watched', 'slipping', 'away', 'know', \"i'll\", 'hunting', 'high', 'low', 'high', \"there's\", 'end', 'lengths', \"i'll\", 'go', 'high', 'low', 'high', \"there's\", 'end', 'lengths', \"i'll\", 'go', 'find', 'upon', 'dreams', 'depend', 'dark', 'hear', 'pounding', 'heart', 'next', 'mine', 'sweetest', 'love', 'could', 'find', 'know', \"i'll\", 'hunting', 'high', 'low', 'high', \"there's\", 'end', 'lengths', \"i'll\", 'go', 'high', 'low', 'high', 'know', 'feels', 'love', 'know', 'feels', 'love', 'high', 'low', \"i've\", 'reading', 'books', 'old', 'legends', 'myths', 'achilles', 'gold', 'hercules\\u2005and\\u2005his', 'gifts', \"spiderman's\", 'control\\u2005and', 'batman', 'fists', 'clearly\\u2005i', 'see', 'upon', 'list', 'pre', 'said', \"where'd\", 'wanna', 'go', 'much', 'wanna', 'risk', \"i'm\", 'looking', 'somebody', 'superhuman', 'gifts', 'superhero', 'fairy', 'tale', 'bliss', 'something', 'turn', 'somebody', 'kiss', 'want', 'something', 'like', 'doodoodoo', 'doodoodoo', 'doodoodoo', 'doodoo', 'doodoodoo', 'doodoodoo', 'oh', 'want', 'something', 'like', 'doodoodoo', 'doodoodoo', 'doodoodoo', 'doodoo', 'doodoodoo', 'doodoodoo', 'oh', 'want', 'something', 'like', 'want', 'something', 'like', \"i've\", 'reading', 'books', 'old', 'legends', 'myths', 'testaments', 'told', 'moon', 'eclipse', 'superman', 'unrolls', 'suit', 'lifts', \"i'm\", 'kind', 'person', 'fits', 'pre', 'said', \"where'd\", 'wanna', 'go', 'much', 'wanna', 'risk', \"i'm\", 'looking', 'somebody', 'superhuman', 'gifts', 'superhero', 'fairy', 'tale', 'bliss', 'something', 'turn', 'somebody', 'miss', 'want', 'something', 'like', 'oh', 'want', 'something', 'like', 'oh', 'want', 'something', 'like', 'doodoodoo', 'doodoodoo', 'doodoodoo', 'doodoo', 'doodoodoo', 'doodoodoo', 'something', 'like', 'doodoodoo', 'doodoodoo', 'doodoodoo', 'doodoo', 'doodoodoo', 'doodoodoo', 'pre', \"where'd\", 'wanna', 'go', 'much', 'wanna', 'risk', \"i'm\", 'looking', 'somebody', 'superhuman', 'gifts', 'superhero', 'fairy', 'tale', 'bliss', 'something', 'turn', 'somebody', 'kiss', 'want', 'something', 'like', 'want', 'something', 'like', 'sing', 'oh', 'want', 'something', 'like', 'something', 'like', 'oh', 'want', 'something', 'like', 'oh', 'want', 'something', 'like', 'poor', \"floatin'\", 'sea', 'opportunity', 'went', 'bad', 'poor', 'gonna', 'gonna', 'cry', 'poor', 'blind', 'see', 'forest', 'trees', 'know', 'poor', 'split', 'two', 'gonna', 'cry', 'hear', 'come', 'nearer', 'hear', 'understand', 'hear', 'come', 'nearer', 'hear', 'understand', 'poor', \"floatin'\", 'sea', 'opportunity', 'went', 'bad', 'poor', 'gonna', 'gonna', 'cry', 'hear', 'come', 'nearer', 'hear', 'understand', 'hear', 'come', 'nearer', 'hear', 'understand', 'understand', 'understand', 'woooh', \"i'm\", 'going', 'feel', \"i'm\", 'going', 'feel', 'winter', 'got', 'carried', 'away', 'rooftops', \"let's\", 'get', 'married', 'summer', 'hurried', 'come', 'patient', 'dont', 'worry', 'come', 'patient', 'dont', 'worry', 'come', 'patient', 'dont', 'worry', 'dont', 'worry', 'chris', 'feat', 'bono', 'star', 'tribute', 'bono', 'mother', 'mother', \"there's\", 'many', 'crying', 'chris', 'brother', 'brother', 'brother', \"there's\", 'many', 'dying', 'know', 'got', 'find', 'way', 'bring', \"lovin'\", 'stay', 'bono', 'father', 'father', 'need', 'escalate', 'war', 'answer', 'love', 'conquer', 'hate', 'chris', 'know', \"we've\", 'got', 'find', 'way', 'bring', \"lovin'\", 'stay', 'picket', 'lines', 'block', 'way', 'bono', 'punish', 'brutality', 'talk', 'see', \"what's\", 'going', \"what's\", 'going', \"what's\", 'going', \"what's\", 'going', 'father', 'father', 'everybody', 'thinks', \"we're\", 'wrong', 'judge', 'us', 'together', 'strong', 'chris', 'know', \"we've\", 'got', 'find', 'way', 'bring', \"lovin'\", 'stay', 'picket', 'lines', 'block', 'way', 'punish', 'brutality', 'talk', 'see', \"what's\", 'going', \"what's\", 'going', \"what's\", 'going', \"what's\", 'going', \"what's\", 'going', \"what's\", 'going', \"what's\", 'going', \"what's\", 'going', 'deep', 'louisiana', 'close', 'new', 'orleans', 'way', 'back', 'woods', 'among', 'evergreens', 'stood', 'log', 'cabin', 'made', 'earth', 'wood', 'lived', 'country', 'boy', 'name', 'johnny', 'b', 'goode', 'never', 'ever', 'learned', 'read', 'write', 'well', 'could', 'play', 'like', \"ringin'\", 'bell', 'go', 'go', 'go', 'johnny', 'go', 'go', 'go', 'johnny', 'go', 'go', 'go', 'johnny', 'go', 'go', 'go', 'johnny', 'go', 'go', 'johnny', 'b', 'goode', 'use', 'carry', 'gunny', 'sack', 'go', 'sit', 'beneath', 'tree', 'railroad', 'track', 'oh', 'engineer', 'would', 'see', 'sitting', 'shade', \"strummin'\", 'rhythm', 'drivers', 'made', 'people', 'passing', 'would', 'stop', 'say', 'oh', 'little', 'country', 'boy', 'could', 'play', 'go', 'go', 'go', 'johnny', 'go', 'go', 'go', 'johnny', 'go', 'go', 'go', 'johnny', 'go', 'go', 'go', 'johnny', 'go', 'go', 'johnny', 'b', 'goode', 'mother', 'told', 'someday', 'man', 'leader', 'big', 'old', 'band', 'many', 'people', \"comin'\", 'miles', 'around', 'hear', 'play', 'music', 'sun', 'go', 'maybe', 'someday', 'name', 'lights', \"sayin'\", 'johnny', 'b', 'goode', 'tonight', 'go', 'go', 'go', 'johnny', 'go', 'go', 'go', 'go', 'johnny', 'go', 'oh', 'go', 'go', 'johnny', 'go', 'oh', 'go', 'go', 'johnny', 'go', 'go', 'johnny', 'b', 'goode', 'oh', 'love', 'burning', 'thing', 'makes', 'firey', 'ring', 'found', 'wild', 'desire', 'sleep', 'ring', 'fire', 'fell', 'burnin', 'ring', 'fire', 'went', 'flames', 'went', 'higher', 'burns', 'burns', 'burns', 'ring', 'fire', 'ring', 'fire', 'oh', 'fell', 'burnin', 'ring', 'fire', 'went', 'flames', 'went', 'hgher', 'burns', 'burns', 'burns', 'ring', 'fire', 'ring', 'fire', 'oh', 'taste', 'love', 'sweet', 'hearts', 'like', 'meet', 'fell', 'like', 'child', 'oh', 'fire', 'wild', 'oh', 'feel', 'burnin', 'ring', 'fire', 'went', 'flames', 'went', 'higher', 'burns', 'burns', 'burns', 'ring', 'fire', 'ring', 'fire', 'fell', 'burnin', 'ring', 'fire', 'went', 'flames', 'went', 'higher', 'burns', 'burns', 'burns', 'ring', 'fire', 'ring', 'fire', 'burns', 'burns', 'burns', 'ring', 'fire', 'silver', 'road', 'sin', \"i'm\", 'coming', 'back', 'win', 'streets', 'rode', 'morning', 'light', 'boat', 'river', 'gotta', 'know', 'begin', 'come', 'soul', 'stephen', 'things', 'never', 'think', 'slept', 'think', 'forget', 'body', 'moves', 'goes', 'though', 'try', 'heart', 'stays', 'still', 'never', 'moves', 'led', 'mouth', 'waters', 'fed', 'always', 'head', 'always', 'head', 'always', 'head', 'always', 'head', 'ayy', 'always', 'head', 'oh', 'always', 'always', 'guess', 'tell', 'chosen', 'rest', 'lyrics', 'song', 'yet', 'released', 'please', 'check', 'back', 'song', 'released', 'wakes', 'every', 'morning', 'hair', 'cares', 'yeah', 'day', 'just\\u2005wouldnt\\u2005be', 'right', 'without', 'her\\u2005makeup', 'never', 'makeup', 'shes', 'like\\u2005you', 'shes', 'homeless', 'shes', 'homeless', 'stands', 'singing', 'money', 'ladadeeladada', 'ladadeeladada', 'ladadeeladada', 'ladadooladada', 'sleep', 'see', 'begging', 'preaching', 'please', 'oh', 'oh', 'please', 'although', 'body', 'isnt', 'mine', 'ask', 'oh', 'though', 'oh', 'oh', 'though', 'shes', 'like', 'shes', 'homeless', 'shes', 'homeless', 'stands', 'singing', 'money', 'ladadeeladadada', 'ladadeeladadada', 'ladadeeladadada', 'ladadooladadada', 'come', 'strings', 'lets', 'go', 'break', 'woo', 'woo', 'woo', 'breakdown', 'breakdown', 'like', 'like', 'stands', 'singing', 'money', 'ladadeeladada', 'ladadeeladadada', 'sing', 'ladadeeladada', 'ladadeeladadada', 'lets', 'go', 'lolololo', 'ahlololololo', 'lalalolololo', 'lalalolololo', 'lets', 'fade', 'boys', 'lets', 'fade', 'boys', 'lets', 'fade', 'boys', 'well', 'fade', 'fade', 'fade', 'shhhh', 'annie', 'better', 'rescue', 'us', 'dont', 'know', 'end', 'song', 'woo', 'need', 'dj', 'dj', 'need', 'dj', 'woo', 'pfffft', 'holy', 'moly', 'look', 'far', 'river', 'took', 'us', 'far', 'river', 'took', 'son', 'boats', 'gone', \"'round\", 'harbour', 'gotta', 'know', 'sinner', 'wait', \"there's\", 'boat', 'goin', 'road', 'sea', 'tumble', 'begin', 'world', 'living', 'boat', 'sign', 'bottom', 'hit', 'button', 'oh', \"can't\", 'describe', 'stage', 'put', 'oh', 'yeah', \"i'm\", 'sorry', \"i've\", 'known', 'hurry', 'baby', 'hope', \"i'm\", 'sorry', 'cause', 'tonight', 'wedding', 'bells', 'ringing', 'upon', 'hill', 'wanna', 'swallow', 'bitter', 'pill', 'keep', 'moving', 'stay', 'still', 'always', 'loved', 'always', 'days', 'sleeping', 'caked', 'mud', 'kinds', 'poison', 'blood', 'lost', 'thing', 'ever', 'loved', 'ooh', 'heard', 'ringing', 'processioning', 'umbrellas', 'clear', 'blue', 'sky', 'saw', 'swimming', 'sea', 'white', 'ooh', 'wedding', 'bells', 'ringing', 'upon', 'hill', 'wanna', 'swallow', 'bitter', 'pill', 'keep', 'moving', 'baby', 'stay', 'still', 'always', 'loved', 'always', 'ooh', 'loved', 'say', 'still', 'always', 'loved', 'always', 'singing', 'la', 'la', 'la', 'la', 'la', 'la', 'la', 'la', 'la', 'everything', 'went', 'matter', 'la', 'la', 'la', 'la', 'la', 'la', 'la', 'la', 'la', 'always', 'loved', 'always', 'talking', 'songbird', 'yesterday', 'flew', 'place', 'far', 'away', 'little', 'pilot', 'mind', 'singing', 'songs', 'love', 'pass', 'time', 'gonna', 'write', 'song', 'see', 'give', 'love', 'gives', 'talk', 'better', 'days', 'yet', 'come', 'never', 'felt', 'love', 'anyone', 'anyone', 'anyone', 'anyone', 'man', 'never', 'dream', 'kind', 'things', 'especially', 'came', 'spread', 'wings', 'whispered', 'ear', 'things', \"i'd\", 'like', 'flew', 'away', 'night', 'gonna', 'write', 'song', 'see', 'give', 'love', 'gives', 'talk', 'better', 'days', 'yet', 'come', 'never', 'felt', 'love', 'anyone', 'anyone', 'anyone', 'anyone', \"there's\", 'man', 'swears', \"he's\", 'god', \"i'm\", 'pretty', 'sure', \"he's\", \"there's\", 'man', 'walks', 'around', 'like', 'owns', 'fucking', 'lot', \"there's\", 'man', 'takes', 'time', 'hands', 'cuckoo', 'clock', 'hear', 'walk', 'around', 'tick', 'tock', 'tick', 'tock', 'tick', 'tock', 'first', 'easy', \"why's\", 'hard', 'heaven', 'fire', 'escape', 'try', 'cling', 'dark', 'first', 'simple', 'got', 'complicated', 'world', 'got', 'lovely', 'time', 'blame', 'mistake', 'maybe', \"i'll\", 'find', 'heaven', 'one', 'day', 'dark', 'maybe', 'find', 'heaven', 'place', 'part', 'control', 'way', 'turn', 'everything', 'still', \"can't\", 'seem', 'switch', 'oh', 'time', 'ran', 'floating', 'beneath', 'clouds', 'trying', 'turn', 'oh', 'baby', \"i'm\", 'sorry', 'baby', \"i've\", 'done', 'turning', 'try', 'best', 'succeed', 'get', 'want', 'need', 'feel', 'tired', \"can't\", 'sleep', 'stuck', 'tears', 'come', 'streaming', 'face', 'lose', 'something', \"can't\", 'replace', 'love', 'someone', 'goes', 'waste', 'could', 'worse', 'hook', 'lights', 'guide', 'home', 'ignite', 'bones', 'try', 'fix', 'high', 'love', 'let', 'go', 'never', 'try', 'never', 'know', 'worth', 'hook', 'lights', 'guide', 'home', 'ignite', 'bones', 'try', 'fix', 'tears', 'stream', 'face', 'lose', 'something', 'cannot', 'replace', 'tears', 'stream', 'face', 'tears', 'stream', 'face', 'promise', 'learn', 'mistakes', 'tears', 'stream', 'face', 'hook', 'lights', 'guide', 'home', 'ignite', 'bones', 'try', 'fix', 'boom', 'boom', 'ka', 'buba', 'de', 'ka', 'boom', 'boom', 'ka', 'buba', 'de', 'ka', 'boom', 'boom', 'ka', 'buba', 'de', 'ka', 'choir', 'moses', 'martin', 'want', 'know', 'go', 'back', 'get', 'drunk', 'friends', 'boom', 'boom', 'ka', 'buba', 'de', 'ka', 'boom', 'boom', 'ka', 'buba', 'de', 'ka', 'boom', 'boom', 'ka', 'buba', 'de', 'ka', 'rosaleem', 'damascene', 'yes', 'eyes', 'like', 'moon', 'would', 'silver', 'screen', 'missile', 'monsoon', 'went', 'woo', 'woo', 'woo', 'woo', 'oooooo', 'indigo', 'heaven', 'today', 'woo', 'woo', 'woo', 'woo', 'oooooo', 'bombs', 'going', 'boom', 'baboomboom', 'boom', 'boom', 'ka', 'buba', 'de', 'ka', 'boom', 'boom', 'ka', 'buba', 'de', 'ka', 'boom', 'boom', 'ka', 'buba', 'de', 'ka', 'baba', 'would', 'go', 'flowers', 'grow', 'almond', 'peach', 'trees', 'bloom', 'would', 'know', 'sow', 'golden', 'opportune', 'went', 'woo', 'woo', 'woo', 'woo', 'oooooo', 'tulips', 'colour', 'honey', 'today', 'true', 'true', 'woo', 'woo', 'oooooo', 'bombs', 'going', 'boom', 'baboomboom', 'say', 'boom', 'boom', 'ka', 'buba', 'de', 'ka', 'boom', 'boom', 'ka', 'buba', 'de', 'ka', 'boom', 'boom', 'ka', 'buba', 'de', 'ka', 'choir', 'oh', 'want', 'know', 'go', 'back', 'get', 'drunk', 'friends', 'want', 'know', 'go', 'back', 'feel', 'home', 'oh', 'want', 'know', 'go', 'back', 'get', 'drunk', 'friends', 'want', 'know', 'go', 'back', 'feel', 'home', 'boom', 'boom', 'ka', 'buba', 'de', 'ka', 'boom', 'boom', 'ka', 'buba', 'de', 'ka', 'boom', 'boom', 'ka', 'buba', 'de', 'ka', 'woo', 'woo', 'woo', 'woo', 'oooooo', 'woo', 'woo', 'woo', 'woo', 'oooooo', 'woo', 'woo', 'woo', 'woo', 'oooooo', 'woo', 'woo', 'woo', 'woo', 'oooooo', 'boom', 'boom', 'ka', 'buba', 'de', 'ka', 'boom', 'boom', 'ka', 'buba', 'de', 'ka', 'boom', 'boom', 'ka', 'buba', 'de', 'ka', 'tried', 'best', 'like', 'boys', 'school', 'tried', 'best\\u2005to\\u2005get', 'right', 'and\\u2005died', 'every', 'duel', 'mountainside', 'is\\u2005suicide', 'dream', 'never', 'work', 'still', 'sign', 'upon', 'headstone', 'write', 'champion', 'world', 'interlude', 'yeah', 'tried', 'best', 'stay', 'alight', 'fly', 'like', 'firework', 'tried', 'best', 'stay', 'fight', 'rocket', 'ship', 'work', 'referee', 'stop', 'fight', 'everyone', 'see', \"i'm\", 'hurt', 'still', \"i'll\", 'stand', 'conquistadors', 'till', \"i'm\", 'champion', 'world', 'sail', \"i'm\", 'sailing', 'west', 'knowing', 'might', 'fail', 'still', \"i'm\", 'hoping', 'best', 'dreams', 'onto', 'chest', \"she'll\", 'pin', 'colours', 'say', 'wandered', 'whole', 'wide', 'world', 'baby', 'best', 'interlude', 'lo', 'lololo', 'lo', 'oh', 'eeyoeeyoeeyoeeyeah', 'lo', 'lololo', 'lo', \"i'm\", 'flying', 'bicycle', 'heading', 'upwards', 'earth', \"i'm\", 'jumping', 'parachute', 'unii', 'et', 'bicycle', 'giving', 'work', \"i'm\", 'riding', 'rocketship', \"i'm\", 'champion', 'world', 'doodooroo', 'doodoodooroo', 'dooroo', 'dooroo', 'dooroo', 'brothers', 'sisters', 'unite', 'time', 'lives', 'time', 'lives', 'breakdown', 'breakdown', 'gotta', 'spread', 'love', 'around', 'gotta', 'spread', 'around', 'brothers', 'sisters', 'feel', 'fine', 'time', 'lives', 'time', 'lives', \"there's\", 'sound', 'sound', 'like', 'feeling', 'found', 'like', 'feeling', 'found', 'stay', \"'cause\", 'sometimes', 'feel', 'stay', \"'round\", 'sometimes', 'feel', 'post', \"they're\", 'looking', 'never', 'survive', \"we'll\", 'around', 'long', 'brothers', 'sisters', 'unite', 'time', 'lives', 'time', 'lives', 'breakdown', 'breakdown', 'gotta', 'spread', 'love', 'around', 'gotta', 'spread', \"'round\", 'stay', 'sometimes', 'feel', 'stay', \"'round\", 'sometimes', 'feel', 'post', \"they're\", 'looking', 'never', 'survive', \"we'll\", 'around', 'long', 'brothers', 'sisters', 'unite', 'time', 'lives', 'time', 'lives', 'oh', 'brother', \"can't\", \"can't\", 'get', 'ive', 'trying', 'hard', 'reach', \"'cause\", 'dont', 'know', 'oh', 'brother', \"can't\", 'believe', 'true', 'im', 'scared', 'future', 'wanna', 'talk', 'oh', 'wanna', 'talk', 'take', 'picture', 'something', 'see', 'swim', 'river', 'sea', 'climb', 'ladder', 'sun', 'write', 'song', 'nobody', 'sung', 'something', \"that's\", 'never', 'done', 'lost', 'incomplete', 'feel', 'like', 'puzzle', \"can't\", 'find', 'missing', 'piece', 'tell', 'feel', 'well', 'feel', 'like', \"they're\", 'talking', 'language', 'speak', \"they're\", 'talking', 'take', 'picture', 'something', 'see', 'swim', 'river', 'sea', 'climb', 'ladder', 'sun', 'write', 'song', 'nobody', 'sung', 'something', \"that's\", 'never', 'done', 'something', \"that's\", 'never', 'done', 'know', 'going', 'wanna', 'talk', 'tell', 'anyone', \"who'll\", 'listen', 'feel', 'ignored', 'worry', 'future', 'third', 'world', 'war', \"nothing's\", 'really', 'making', 'sense', \"let's\", 'talk', \"let's\", 'talk', \"let's\", 'talk', \"let's\", 'talk', 'computer', 'voice', 'remix', 'oh', 'brother', \"can't\", \"can't\", 'get', \"i've\", 'trying', 'hard', 'reach', 'cause', 'know', 'oh', 'brother', \"can't\", 'believe', 'true', 'believe', 'true', \"i'm\", 'scared', 'future', 'wanna', 'talk', 'computer', 'voice', 'talk', 'baby', 'computer', 'chant', 'talk', 'talk', 'talk', 'talk', 'talk', 'could', 'take', 'picture', 'something', 'see', 'future', 'climb', 'ladder', 'sun', 'write', 'song', 'nobody', 'sung', 'something', \"that's\", 'never', 'done', 'computer', 'voice', 'talk', 'baby', 'computer', 'chant', 'talk', 'talk', 'talk', 'talk', 'talk', 'lost', 'incomplete', 'feel', 'like', 'puzzle', \"can't\", 'find', 'missing', 'piece', 'tell', 'feel', 'feel', 'feel', 'feel', 'take', 'picture', 'something', 'see', 'future', 'could', 'climb', 'ladder', 'sun', 'write', 'song', 'nobody', 'sung', 'something', \"that's\", 'never', 'done', 'computer', 'chant', 'talk', 'talk', 'talk', 'talk', 'talk', 'computer', 'voice', 'talk', 'baby', 'feel', 'feel', 'feel', 'feel', \"let's\", 'talk', \"let's\", 'talk', \"let's\", 'talk', \"let's\", 'talk', \"let's\", 'talk', \"let's\", 'talk', 'know', 'going', 'wanna', 'talk', 'tell', 'anyone', \"who'll\", 'listen', 'feel', 'ignored', 'worry', 'future', 'third', 'world', 'war', 'feel', 'like', 'going', \"let's\", 'talk', \"let's\", 'talk', \"let's\", 'talk', \"let's\", 'talk', \"let's\", 'talk', \"let's\", 'talk', 'computer', 'chant', 'talk', 'talk', 'talk', 'talk', 'talk', 'darkness', 'dawn', 'darkness', 'dawn', 'leave', 'light', 'light', 'leave', 'light', 'light', 'girl', 'expected', 'world', 'flew', 'away', 'reach', 'ran', 'away', 'sleep', 'dreamed', 'paraparaparadise', 'paraparaparadise', 'paraparaparadise', 'every', 'time', 'closed', 'eyes', 'girl', 'expected', 'world', 'flew', 'away', 'reach', 'bullets', 'catch', 'teeth', 'life', 'goes', 'gets', 'heavy', 'wheel', 'breaks', 'butterfly', 'every', 'tear', 'waterfall', 'night', 'stormy', 'night', \"she'll\", 'close', 'eyes', 'night', 'stormy', 'night', 'away', \"she'd\", 'fly', 'dreams', 'paraparaparadise', 'paraparaparadise', 'paraparaparadise', 'oh', 'oh', 'oh', 'oh', 'oh', 'ohohoh', \"she'd\", 'dream', 'paraparaparadise', 'paraparaparadise', 'paraparaparadise', 'oh', 'oh', 'oh', 'oh', 'oh', 'ohohohoh', 'lalalalalalala', 'lalalalalalalalalala', 'lying', 'underneath', 'stormy', 'skies', \"she'd\", 'say', 'oh', 'ohohohoh', 'know', 'sun', 'must', 'set', 'rise', 'could', 'paraparaparadise', 'paraparaparadise', 'could', 'paraparaparadise', 'oh', 'oh', 'oh', 'oh', 'oh', 'ohohoh', 'could', 'paraparaparadise', 'paraparaparadise', 'could', 'paraparaparadise', 'oh', 'oh', 'oh', 'oh', 'oh', 'ohohohoh', 'get', 'back', 'solid', 'ground', \"here's\", \"i'm\", 'gonna', 'oh', \"i've\", 'ever', 'lost', 'found', \"i'm\", 'gonna', 'crawl', 'way', 'get', 'back', 'feet', \"i'm\", 'gonna', 'take', 'moon', 'leaving', 'hands', 'wait', 'oh', 'water', 'water', 'flows', 'oh', 'water', 'water', 'flows', 'lights', 'go', \"can't\", 'saved', 'tides', 'tried', 'swim', 'brought', 'upon', 'knees', 'oh', 'beg', 'beg', 'plead', 'singing', 'come', 'things', 'unsaid', 'shoot', 'apple', 'head', 'trouble', \"can't\", 'named', \"tiger's\", 'waiting', 'tamed', 'singing', 'confusion', 'never', 'stops', 'closing', 'walls', 'ticking', 'clocks', 'gonna', 'come', 'back', 'take', 'home', 'could', 'stop', 'know', 'singing', 'come', 'upon', 'seas', 'curse', 'missed', 'opportunities', 'part', 'cure', 'part', 'disease', 'singing', 'nothing', 'else', 'compares', 'oh', 'nothing', 'else', 'compares', 'nothing', 'else', 'compares', 'home', 'home', 'wanted', 'go', 'home', 'home', 'wanted', 'go', 'home', 'home', 'wanted', 'go', 'home', 'home', 'wanted', 'go', 'hmmhmm', 'hmmhmm', 'hmmhmm', 'hmmoh', 'hmmhmm', 'hmmhmm', 'hmmhmm', 'lord', \"i'm\", 'broken', \"i'm\", 'broken', \"i'm\", 'need', \"i'm\", 'need', 'feel\\u2005that\\u2005ocean', 'feel', 'that\\u2005ocean', 'swallowing', 'swallowing', 'head', 'is\\u2005hanging', 'head', 'hanging', 'sorrowfully', 'sorrowfully', 'oh', 'lord', 'oohooh', 'come', 'shine', 'light', 'shine', 'light', 'morning', 'morning', \"i'm\", 'cared', 'blue', 'scared', 'blue', \"i'm\", 'hungry', \"i'm\", 'hungry', 'thirsty', 'thirsty', 'send', 'raindrop', 'send', 'raindrop', 'sea', 'sea', 'oh', 'lord', 'oohooh', 'come', 'shine', 'light', 'shine', 'light', 'oh', 'shine', 'light', 'oh', 'shine', 'light', 'oh', 'shine', 'light', 'oh', 'shine', 'light', 'know', 'oohooh', 'darkness', \"i'm\", 'alright', \"i'm\", 'alright', 'see', \"there's\", 'sun', 'rising', 'oohooh', 'inside', \"i'm\", 'free', 'oohooh', \"'cause\", 'lord', 'shine', 'light', 'shine', 'light', 'oh', 'lord', 'shine', 'light', 'shine', 'light', 'sing', 'hmmhmm', 'hmmhmm', 'hmmhmm', 'hmmoh', 'hmmhmm', 'hmmhmm', 'hmmhmm', 'hmmoh', 'hmmhmm', 'hmmhmm', 'hmmhmm', 'hmmoh', 'hmmhmm', 'hmmhmm', 'hmmhmm', 'hmmhmmhmmhmm', 'hardest', 'part', 'letting', 'go', 'taking', 'part', 'hardest', 'part', 'strangest', 'thing', 'waiting', 'bell', 'ring', 'strangest', 'start', 'could', 'feel', 'go', 'bittersweet', 'could', 'taste', 'mouth', 'silver', 'lining', 'cloud', 'oh', 'wish', 'could', 'work', 'hardest', 'part', 'letting', 'go', 'taking', 'part', 'really', 'broke', 'heart', 'oh', 'tried', 'sing', 'think', 'anything', 'hardest', 'part', 'oh', 'oh', 'could', 'feel', 'go', 'left', 'sweetest', 'taste', 'mouth', 'silver', 'lining', 'cloud', 'oh', 'oh', 'wonder', 'wonder', 'everything', 'know', 'wrong', 'everything', 'comes', 'undone', 'everything', 'torn', 'apart', 'oh', \"that's\", 'hardest', 'part', \"that's\", 'hardest', 'part', 'yeah', \"that's\", 'hardest', 'part', \"that's\", 'hardest', 'part', 'look', 'stars', 'look', 'shine', 'everything', 'yeah', 'yellow', 'came', 'along', 'wrote', 'song', 'things', 'called', 'yellow', 'took', 'turn', 'oh', 'thing', 'done', 'yellow', 'skin', 'oh', 'yeah', 'skin', 'bones', 'turn', 'something', 'beautiful', 'know', 'know', 'love', 'know', 'love', 'swam', 'across', 'jumped', 'across', 'oh', 'thing', \"'cause\", 'yellow', 'drew', 'line', 'drew', 'line', 'oh', 'thing', 'yellow', 'skin', 'oh', 'yeah', 'skin', 'bones', 'turn', 'something', 'beautiful', 'know', \"i'd\", 'bleed', 'dry', \"i'd\", 'bleed', 'dry', 'true', 'look', 'shine', 'look', 'shine', 'look', 'shine', 'look', 'shine', 'look', 'shine', 'look', 'shine', 'look', 'stars', 'look', 'shine', 'things', 'see', 'sliding', 'say', \"we're\", 'gonna', 'slide', 'together', 'see', 'hiding', 'tell', 'hide', 'forever', 'come', 'run', 'show', 'someone', 'let', 'fly', 'sun', 'clouds', 'crying', 'say', 'gonna', 'change', 'weather', 'hear', 'lying', 'never', 'lie', 'together', 'come', 'run', 'show', 'someone', 'let', 'fly', 'sun', 'see', 'sliding', 'pray', 'slide', 'forever', 'see', 'hiding', 'say', 'hide', 'together', 'come', 'cos', 'run', 'show', 'someone', 'let', 'fly', 'sun', 'come', 'cos', 'run', 'show', 'someone', 'let', 'fly', 'sun', 'sun', 'x6', 'used', 'rule', 'world', 'seas', 'would', 'rise', 'gave', 'word', 'morning', 'sleep', 'alone', 'sweep', 'streets', 'used', 'used', 'roll', 'dice', 'feel', 'fear', \"enemy's\", 'eyes', 'listen', 'crowd', 'would', 'sing', 'old', 'king', 'dead', 'long', 'live', 'king', 'one', 'minute', 'held', 'key', 'next', 'walls', 'closed', 'discovered', 'castles', 'stand', 'upon', 'pillars', 'salt', 'pillars', 'sand', 'hear', 'jerusalem', 'bells', 'aringing', 'roman', 'cavalry', 'choirs', 'singing', 'mirror', 'sword', 'shield', 'missionaries', 'foreign', 'field', 'reason', \"can't\", 'explain', 'go', 'never', 'never', 'honest', 'word', 'ruled', 'world', 'wicked', 'wild', 'wind', 'blew', 'doors', 'let', 'shattered', 'windows', 'sound', 'drums', 'people', 'believe', \"i'd\", 'become', 'revolutionaries', 'wait', 'head', 'silver', 'plate', 'puppet', 'lonely', 'string', 'oh', 'would', 'ever', 'want', 'king', 'hear', 'jerusalem', 'bells', 'aringing', 'roman', 'cavalry', 'choirs', 'singing', 'mirror', 'sword', 'shield', 'missionaries', 'foreign', 'field', 'reason', \"can't\", 'explain', 'know', 'saint', 'peter', 'call', 'name', 'never', 'honest', 'word', 'ruled', 'world', 'hear', 'jerusalem', 'bells', 'aringing', 'roman', 'cavalry', 'choirs', 'singing', 'mirror', 'sword', 'shield', 'missionaries', 'foreign', 'field', 'reason', \"can't\", 'explain', 'know', 'saint', 'peter', 'call', 'name', 'never', 'honest', 'word', 'ruled', 'world', 'girl', 'expected', 'world', 'flew', 'away', 'reach', 'ran', 'away', 'sleep', 'dreamed', 'paraparaparadise', 'paraparaparadise', 'paraparaparadise', 'every', 'time', 'closed', 'eyes', 'ooooh', 'girl', 'expected', 'world', 'flew', 'away', 'reach', 'bullets', 'catch', 'teeth', 'life', 'goes', 'gets', 'heavy', 'wheel', 'breaks', 'butterfly', 'every', 'tear', 'waterfall', 'night', 'stormy', 'night', 'closed', 'eyes', 'night', 'stormy', 'night', 'away', 'flied', 'dreamed', 'paraparaparadise', 'paraparaparadise', 'paraparaparadise', 'whoaohoh', 'ohoooh', 'ohohoh', 'dreamed', 'paraparaparadise', 'paraparaparadise', 'paraparaparadise', 'whoaohoh', 'ohoooh', 'ohohoh', 'x', 'la', 'la', 'la', 'lying', 'underneath', 'stormy', 'skies', \"she'd\", 'say', 'oh', 'ohohohoh', 'know', 'sun', 'must', 'set', 'rise', 'could', 'paraparaparadise', 'paraparaparadise', 'paraparaparadise', 'oh', 'oh', 'oh', 'oh', 'oh', 'ohohoh', 'could', 'paraparaparadise', 'paraparaparadise', 'could', 'paraparaparadise', 'oh', 'oh', 'oh', 'oh', 'oh', 'ohohohoh', 'could', 'paraparaparadise', 'paraparaparadise', 'could', 'paraparaparadise', 'oh', 'oh', 'oh', 'oh', 'oh', 'ohohohoh', 'ooooh', 'loveless', 'three', 'tiny', 'words', 'im', 'falling', 'falling', 'falling', 'falling', 'falling', 'till', 'im', 'started', 'tearing', 'im', 'alone', 'long', 'take', 'da', 'da', 'da', 'da', 'da', 'da', 'da', 'great', 'lone', 'star', 'try', 'work', 'silence', 'sea', 'know', \"i've\", 'future', 'past', 'going', 'nowhere', 'much', 'fast', 'go', 'follow', 'go', 'follow', \"'cause\", 'know', \"i'm\", 'going', 'wanna', 'talk', 'feel', 'like', \"i'm\", 'going', \"i've\", 'wanna', 'talk', 'take', 'picture', 'something', 'sure', 'bring', 'back', 'show', 'know', 'see', 'future', 'find', 'home', 'getting', 'nowhere', 'got', 'find', 'missing', 'piece', 'variation', \"'cause\", 'know', 'going', 'wanna', 'talk', 'feel', 'like', 'going', \"nothing's\", 'really', 'making', 'sense', 'tell', 'one', \"who'll\", 'listen', 'feel', 'ignored', 'lets', 'talk', 'lets', 'talk', 'wanna', 'talk', \"i'm\", 'looking', 'upon', 'floor', \"i'm\", 'trying', 'sing', 'song', 'language', 'speak', 'try', \"can't\", 'get', \"i'm\", 'trying', 'get', 'difficult', 'reach', 'talk', 'tome', 'oooo', 'know', 'going', 'wanna', 'talk', 'feel', 'like', 'going', \"let's\", 'talk', \"let's\", 'talk', \"let's\", 'talk', \"let's\", 'talk', 'ah', 'ah', 'oh', 'oh', 'oh', 'oh', 'could', 'could', 'come', 'could', 'come', 'together', 'put', 'knees', 'back', 'love', 'weather', 'sugar', 'teeth', 'crawl', 'surface', 'oh', 'underneath', \"i'm\", 'caught', 'middle', 'gonna', 'crawl', 'way', 'climb', 'home', \"i'm\", 'gonna', 'crawl', 'way', 'home', 'one', 'love', 'one', 'love', 'one', 'love', 'ah', 'ah', 'ah', 'slide', 'climb', 'crest', 'crush', 'class', 'gonna', 'step', 'way', 'gonna', 'find', 'way', 'underneath', 'caught', 'middle', 'gonna', 'crawl', 'way', 'crawl', 'way', 'one', 'love', 'yes', 'one', 'love', 'one', 'love', 'ah', 'ah', 'ah', 'oooooooooooooo', 'oooooooooooooo', 'oooooooooooooo', 'second', 'control', 'lost', 'though', 'along', 'fire', 'would', 'rise', 'wish', 'could', 'let', 'know', \"what's\", 'really', 'going', \"i've\", 'lost', 'let', 'go', 'one', 'last', 'time', 'tell', 'love', 'lie', 'lie', 'remember', 'upon', 'time', 'blind', 'fire', 'would', 'sparkle', 'eyes', 'mine', 'tell', 'love', 'lie', 'lie', 'tell', 'love', 'lie', 'lie', 'lie', 'lie', 'call', 'true', 'call', 'true', 'love', 'call', 'true', 'call', 'true', 'love', 'suzanne', 'takes', 'place', 'near', 'river', 'hear', 'boats', 'go', 'spend', 'night', 'beside', 'know', 'half', 'crazy', \"that's\", 'want', 'feeds', 'tea', 'oranges', 'come', 'way', 'china', 'mean', 'tell', 'love', 'give', 'gets', 'wavelength', 'lets', 'river', 'answer', 'always', 'lover', 'want', 'travel', 'want', 'travel', 'blind', 'know', 'trust', 'touched', 'perfect', 'body', 'mind', 'jesus', 'sailor', 'walked', 'upon', 'water', 'spent', 'long', 'time', 'watching', 'lonely', 'wooden', 'tower', 'knew', 'certain', 'drowning', 'men', 'could', 'see', 'said', 'men', 'sailors', 'sea', 'shall', 'free', 'broken', 'long', 'sky', 'would', 'open', 'forsaken', 'almost', 'human', 'sank', 'beneath', 'wisdom', 'like', 'stone', 'want', 'travel', 'want', 'travel', 'blind', 'think', 'maybe', 'trust', \"he's\", 'touched', 'perfect', 'body', 'mind', 'suzanne', 'takes', 'hand', 'leads', 'river', 'wearing', 'rags', 'feathers', 'salvation', 'army', 'counters', 'sun', 'pours', 'like', 'honey', 'lady', 'harbour', 'shows', 'look', 'among', 'garbage', 'flowers', 'heroes', 'seaweed', 'children', 'morning', 'leaning', 'love', 'lean', 'way', 'forever', 'suzanne', 'holds', 'mirror', 'want', 'travel', 'want', 'travel', 'blind', 'know', 'trust', 'touched', 'perfect', 'body', 'mind', \"i'm\", 'losing', 'mean', \"i'm\", 'lost', 'mean', \"i'll\", 'stop', 'mean', \"i'm\", 'across', \"i'm\\u2005hurting\", \"doesn't\\u2005mean\", \"i'm\", 'hurt', \"doesn't\\u2005mean\", 'get', 'i\\u2005deserve', 'better', 'worse', 'got', 'lost', 'every', 'river', \"i've\", 'tried', 'cross', 'every', 'door', 'ever', 'tried', 'locked', 'oh', \"i'm\", 'waiting', \"'til\", 'shine', 'wears', 'might', 'big', 'fish', 'little', 'pond', 'mean', \"'cause\", 'along', 'may', 'come', 'bigger', 'one', 'lost', 'every', 'river', 'try', 'cross', 'every', 'gun', 'ever', 'held', 'went', 'oh', \"i'm\", 'waiting', \"'til\", 'firing', 'stopped', 'oh', \"i'm\", 'waiting', \"'til\", 'shine', 'wears', 'break', 'oh', \"i'm\", 'waiting', \"'til\", 'shine', 'wears', 'oh', \"i'm\", 'waiting', \"'til\", 'shine', 'wears', 'smoke', 'rising', 'houses', 'people', 'burying', 'dead', 'ask', 'somebody', 'time', 'time', 'matter', 'yet', 'people', 'talking', 'without', 'speaking', 'trying', 'take', 'get', 'ask', 'remember', 'prospekt', 'could', 'forget', 'drums', 'comes', 'wish', 'life', 'simple', 'fish', 'swimming', 'round', 'barrel', 'got', 'gun', 'oh', 'run', 'comes', \"we're\", 'two', 'little', 'figures', 'soup', 'bowl', 'trying', 'get', 'kind', 'control', 'one', 'lie', 'separate', 'sky', 'lie', 'separate', 'sky', 'wanna', 'die', 'tonight', 'lie', 'separate', 'sky', 'cry', 'cry', 'cry', 'baby', 'cry', 'cry', 'cry', 'book', 'world', 'called', 'luminous', 'things', 'are\\u2005trees\\u2005and', 'flowers', 'glowing', 'while\\u2005jizo', 'bodhisattva', 'sings', 'cry', 'cry\\u2005cry', 'baby', 'cry', 'cry', 'cry', 'cry', 'cry', 'cry', 'baby', \"i'll\", 'side', 'want', 'us', 'hurt', 'dumdumdum', 'dumdumdum', 'cause', 'pain', 'dumdumdum', 'dumdumdum', 'want', 'fear', 'know', 'dumdumdum', 'dumdumdum', 'dumdumdum', 'dumdumdum', \"we're\", 'together', 'baby', 'dumdumdum', 'dumdumdum', \"we're\", 'singing', 'rain', 'dumdumdum', 'dumdumdum', \"i'll\", 'never', 'ever', 'ever', 'let', 'go', 'dumdumdum', 'cry', 'cry', 'cry', 'baby', 'cry', 'cry', 'cry', 'cry', 'cry', 'cry', 'baby', \"i'll\", 'side', 'ooh', 'yeah', 'ooh', 'yeah', 'miracles', 'outnumber', 'stars', 'sky', 'doodoo', 'doodooroorooroo', 'alright', 'ooh', '00', 'yellow', '00', 'clocks', '005', 'speed', 'sound', 'fix', '006', 'talk', '008', 'violet', 'hill', 'viva', 'la', 'vida', 'lost', '00', 'christmas', 'lights', '0', 'every', 'teardrop', 'waterfall', 'major', 'minus', 'moving', 'minus', 'paradise', 'princess', 'china', '0', 'atlas', '04', 'midnight', 'magic', 'sky', 'full', 'stars', '05', 'adventure', 'lifetime', 'world', 'needs', 'love', 'sweet', 'love', 'everyone', 'yeah', 'world', 'needs', 'love', 'sweet', 'love', \"that's\", 'thing', \"there's\", 'little', 'vancouver', 'girl', 'expected', 'world', 'flew', 'away', 'reach', 'ran', 'away', 'sleep', 'dreams', 'paraparaparadise', 'paraparaparadise', 'paraparaparadise', 'every', 'time', 'closed', 'eyes', 'girl', 'expected', 'world', 'flew', 'away', 'reach', 'bullets', 'catch', 'teeth', 'life', 'goes', 'gets', 'heavy', 'wheel', 'breaks', 'butterfly', 'every', 'tear', 'waterfall', 'night', 'stormy', 'night', \"she'll\", 'close', 'eyes', 'night', 'stormy', 'night', 'away', \"she'd\", 'fly', 'dreams', 'paraparaparadise', 'paraparaparadise', 'paraparaparadise', 'oh', 'oh', 'oh', 'oh', 'oh', 'ohohoh', \"she'd\", 'dream', 'paraparaparadise', 'paraparaparadise', 'paraparaparadise', 'oh', 'oh', 'oh', 'oh', 'oh', 'ohohohoh', 'lalalalalalala', 'lalalalalalalalalala', 'lying', 'underneath', 'stormy', 'skies', \"she'd\", 'say', 'oh', 'ohohohoh', 'know', 'sun', 'must', 'set', 'rise', 'could', 'ohoh', 'ohoooh', 'ohohoh', 'paradise', 'ohoh', 'ohoooh', 'ohohoh', 'paradise', 'ohoh', 'ohoooh', 'ohohoh', 'paradise', 'whoaohoh', 'ohoooh', 'ohohoh', 'could', 'ohoh', 'ohoooh', 'ohohoh', 'paradise', 'ohoh', 'ohoooh', 'ohohoh', 'paradise', 'ohoh', 'ohoooh', 'ohohoh', 'paradise', 'whoaohoh', 'ohoooh', 'ohohoh', 'could', 'ohoh', 'ohoooh', 'ohohoh', 'paradise', 'ohoh', 'ohoooh', 'ohohoh', 'paradise', 'ohoh', 'ohoooh', 'ohohoh', 'paradise', 'whoaohoh', 'ohoooh', 'ohohoh', 'ohoh', 'ohoooh', 'ohohoh', 'ohoh', 'ohoooh', 'ohohoh', 'ohoh', 'ohoooh', 'ohohoh', 'ambience', 'oh', 'think', 'landed', 'world', 'seen', \"i'm\", 'feeling', 'ordinary', \"don't\\u2005know\\u2005what\", 'mean', 'oh\\u2005i', 'think', 'landed', 'are\\u2005miracles', 'work', 'thirst', 'hunger', 'come', 'conference', 'birds', 'saying', 'true', 'seems', 'leave', 'broken', 'windows', 'open', 'light', 'streams', 'get', 'head', 'head', 'full', 'dreams', 'see', 'change', 'wanted', 'want', 'get', 'head', 'head', 'full', 'dreams', 'life', 'ive', 'spoken', 'head', 'full', 'head', 'full', 'dreams', 'oh', 'think', 'landed', 'miracles', 'work', 'got', 'openhanded', 'got', 'lost', 'words', 'sing', 'ohohoh', 'head', 'full', 'dreams', 'head', 'full', 'dreams', 'life', 'ive', 'woken', 'head', 'full', 'head', 'full', 'dreams', 'brothers', 'sisters', 'unite', 'time', 'lives', 'time', 'lives', 'breakdown', 'breakdown', 'gotta', 'keep', \"'em\", 'gotta', 'spread', 'around', 'brothers', 'sisters', 'unite', 'time', 'lives', 'time', 'lives', 'breakdown', 'breakdown', 'gotta', 'keep', 'moving', 'around', 'gotta', 'keep', \"'em\", 'stay', 'sometimes', 'feel', 'stay', \"'round\", 'sometimes', 'feel', 'post', \"they're\", 'looking', 'never', 'survive', \"we'll\", 'around', 'long', 'brothers', 'sisters', 'unite', 'time', 'lives', 'time', 'lives', 'breakdown', 'breakdown', \"they'll\", 'say', 'move', 'around', 'got', 'spread', 'around', 'stay', \"'cause\", 'sometimes', 'feel', 'stay', \"'round\", 'sometimes', 'feel', 'post', \"they're\", 'looking', 'never', 'survive', \"i'll\", 'around', 'long', 'gonna', 'alright', 'gonna', 'alright', 'gonna', 'alright', 'poor', \"i'm\", 'floating', 'sea', 'opportunity', 'went', 'poor', 'oh', 'gonna', 'gonna', 'cry', 'oh', 'always', 'come', 'undone', 'try', 'sun', 'know', 'poor', 'know', 'gonna', 'come', 'love', \"i'll\", 'see', 'know', 'hear', 'come', 'nearer', 'hear', 'understand', 'hear', 'come', 'nearer', 'hear', 'understand', 'poor', 'float', 'sea', 'oh', 'let', 'come', 'try', 'poor', 'oh', 'gonna', 'oh', 'gonna', 'cry', 'hear', 'come', 'nearer', 'hear', 'understand', 'hear', 'come', 'nearer', 'hear', 'understand', 'understand', 'understand', 'oooh', 'ahhhh', 'ahhhh', 'computer', 'voice', 'remix', 'oh', 'brother', \"can't\", \"can't\", 'get', \"i've\", 'trying', 'hard', 'reach', 'cause', 'know', 'oh', 'brother', \"can't\", 'believe', 'true', 'believe', 'true', \"i'm\", 'scared', 'future', 'wanna', 'talk', 'computer', 'voice', 'talk', 'baby', 'computer', 'chant', 'talk', 'talk', 'talk', 'talk', 'talk', 'could', 'take', 'picture', 'something', 'see', 'future', 'climb', 'ladder', 'sun', 'write', 'song', 'nobody', 'sung', 'something', \"that's\", 'never', 'done', 'computer', 'voice', 'talk', 'baby', 'computer', 'chant', 'talk', 'talk', 'talk', 'talk', 'talk', 'lost', 'incomplete', 'feel', 'like', 'puzzle', \"can't\", 'find', 'missing', 'piece', 'tell', 'feel', 'feel', 'feel', 'feel', 'take', 'picture', 'something', 'see', 'future', 'could', 'climb', 'ladder', 'sun', 'write', 'song', 'nobody', 'sung', 'something', \"that's\", 'never', 'done', 'computer', 'chant', 'talk', 'talk', 'talk', 'talk', 'talk', 'computer', 'voice', 'talk', 'baby', 'feel', 'feel', 'feel', 'feel', \"let's\", 'talk', \"let's\", 'talk', \"let's\", 'talk', \"let's\", 'talk', \"let's\", 'talk', \"let's\", 'talk', 'know', 'going', 'wanna', 'talk', 'tell', 'anyone', \"who'll\", 'listen', 'feel', 'ignored', 'worry', 'future', 'third', 'world', 'war', 'feel', 'like', 'going', \"let's\", 'talk', \"let's\", 'talk', \"let's\", 'talk', \"let's\", 'talk', \"let's\", 'talk', \"let's\", 'talk', 'computer', 'chant', 'talk', 'talk', 'talk', 'talk', 'talk', 'darkness', 'dawn', 'swirling', 'storm', \"i'm\", 'rolling', 'punches', 'hope', 'gone', 'leave', 'light', 'light', 'millions', 'miles', 'home', 'swirling', 'swimming', \"i'm\", 'rolling', 'thunder', 'bleed', 'thorns', 'leave', 'light', 'light', 'leave', 'light', 'light', 'leave', 'light', 'light', 'leave', 'light', 'light', 'darkness', 'dawn', 'darkness', 'dawn', 'leave', 'light', 'light', 'leave', 'light', 'light', 'oh', 'brother', \"can't\", \"can't\", 'get', \"i've\", 'trying', 'hard', 'reach', \"'cause\", 'know', 'oh', 'brother', \"can't\", 'believe', 'true', \"i'm\", 'scared', 'future', 'wanna', 'talk', 'take', 'picture', 'something', 'see', 'swim', 'river', 'sea', 'climb', 'ladder', 'sun', 'write', 'song', 'nobody', 'sung', 'something', \"that's\", 'never', 'done', 'know', 'going', 'want', 'talk', 'tell', 'anyone', \"who'll\", 'listen', 'feel', 'ignored', 'worry', 'future', 'third', 'world', 'war', 'feel', 'like', 'going', \"let's\", 'talk', \"let's\", 'talk', 'take', 'picture', 'something', 'see', 'swim', 'river', 'sea', 'climb', 'ladder', 'sun', 'write', 'song', 'nobody', 'sung', 'something', \"that's\", 'never', 'done', \"let's\", 'talk', \"let's\", 'talk', \"let's\", 'talk', \"let's\", 'talk', 'look', 'direction', 'pay', 'attention', 'know', 'listen', \"'cause\", 'say', 'see', 'straight', 'moment', 'wake', \"'til\", 'moment', 'sleep', \"i'll\", 'side', 'try', 'stop', \"i'll\", 'waiting', 'line', 'see', 'care', 'pre', 'oh', 'want', 'change', 'well', \"i'll\", 'change', 'good', 'want', 'know', 'always', 'get', 'way', 'wanted', 'say', 'shiver', 'shiver', 'sing', 'loud', 'clear', \"i'll\", 'always', 'waiting', 'know', 'much', 'need', 'never', 'even', 'see', 'final', 'chance', 'getting', 'moment', 'wake', \"'til\", 'moment', 'sleep', \"i'll\", 'side', 'try', 'stop', \"i'll\", 'waiting', 'line', 'see', 'care', 'care', 'pre', 'oh', 'want', 'change', 'well', \"i'll\", 'change', 'good', 'want', 'know', 'always', 'get', 'way', 'wanted', 'say', 'shiver', 'shiver', 'sing', 'loud', 'clear', \"i'll\", 'always', 'waiting', 'yeah', \"i'll\", 'always', 'waiting', 'yeah', \"i'll\", 'always', 'waiting', 'yeah', \"i'll\", 'always', 'waiting', 'always', 'waiting', 'final', 'see', 'see', 'hear', 'loud', 'clear', 'sing', 'loud', 'clear', \"i'll\", 'always', 'waiting', 'look', 'direction', 'pay', 'attention', 'know', 'much', 'need', 'never', 'even', 'see', 'look', 'stars', 'look', 'shine', 'everything', 'yeah', 'yellow', 'came', 'along', 'wrote', 'song', 'things', 'called', 'yellow', 'took', 'turn', 'oh', 'thing', 'done', 'yellow', 'skin', 'oh', 'yeah', 'skin', 'bones', 'turn', 'something', 'beautiful', 'know', 'know', 'love', 'know', 'love', 'swam', 'across', 'jumped', 'across', 'oh', 'thing', \"'cause\", 'yellow', 'drew', 'line', 'drew', 'line', 'oh', 'thing', 'yellow', 'skin', 'oh', 'yeah', 'skin', 'bones', 'turn', 'something', 'beautiful', 'know', 'id', 'bleed', 'dry', \"i'd\", 'bleed', 'dry', 'true', 'look', 'shine', 'look', 'shine', 'look', 'shine', 'look', 'shine', 'look', 'shine', 'look', 'shine', 'look', 'stars', 'look', 'shine', 'things', 'could', 'could', 'come', 'back', 'come', 'back', 'together', 'put', 'back', 'say', 'forever', 'could', 'could', 'come', 'home', 'come', 'home', 'forever', 'shoulders', 'knees', 'back', 'keep', 'us', 'together', \"'cause\", 'one', 'love', 'one', 'love', 'one', 'love', 'ahhhh', 'ahhhh', 'could', 'could', 'come', 'could', 'tell', 'whatever', 'tie', 'mast', 'never', 'gonna', 'tear', 'us', 'apart', 'tell', 'forever', 'gonna', 'tear', 'us', 'apart', 'keep', 'us', 'together', 'one', 'love', 'one', 'love', 'ahhh', 'ahhh', 'one', 'love', 'one', 'love', 'one', 'love', 'one', 'love', 'see', 'lost', 'trust', 'never', 'never', 'break', 'back', 'ever', 'say', 'answer', 'bullet', 'proof', 'vest', 'windows', 'closed', \"i'll\", 'best', \"i'll\", 'see', 'soon', 'telescope', 'lens', 'want', 'friends', \"i'll\", 'see', 'soon', 'see', 'came', 'came', 'snapping', 'heels', 'came', 'snapping', 'heels', 'break', 'back', 'ever', 'say', 'answer', 'bullet', 'proof', 'vest', 'windows', 'closed', \"i'll\", 'best', \"i'll\", 'see', 'soon', 'telescope', 'lens', 'want', 'friends', \"i'll\", 'see', 'soon', 'lost', 'trust', 'lost', 'trust', 'lose', 'trust', 'lose', 'trust', 'lost', 'trust', 'never', 'never', 'break', 'back', 'ever', 'see', 'answer', 'life', 'bullet', 'proof', 'vest', 'windows', 'closed', \"i'll\", 'best', \"i'll\", 'see', 'soon', 'telescope', 'lens', 'want', 'friends', 'see', 'soon', 'came', 'came', 'snapping', 'heels', 'come', 'snapping', 'heels', 'break', 'back', 'ever', 'say', 'answer', 'life', 'bullet', 'proof', 'vest', 'windows', 'closed', \"i'll\", 'best', \"i'll\", 'see', 'soon', 'telescope', 'lens', 'want', 'friends', 'see', 'soon', 'see', 'soon', 'oh', 'lost', 'trust', 'oh', 'lost', 'trust', 'lose', 'trust', 'oh', 'lost', 'trust', 'look', 'direction', 'pay', 'attention', 'know', 'listen', \"'cause\", 'say', 'see', 'straight', 'moment', 'wake', 'moment', 'sleep', \"i'll\", 'side', 'try', 'stop', \"i'll\", 'waiting', 'line', 'see', 'care', 'oh', 'want', 'change', 'well', 'changed', 'good', 'want', 'know', 'always', 'get', 'way', 'wanted', 'say', 'shiver', 'shiver', 'sing', 'loud', 'clear', \"i'll\", 'always', 'waiting', 'know', 'much', 'need', 'ya', 'never', 'even', 'see', 'final', 'chance', 'getting', 'sining', 'moment', 'wake', 'moment', 'sleep', \"i'll\", 'side', 'try', 'stop', \"i'll\", 'waiting', 'line', 'see', 'care', 'care', 'oh', 'want', 'change', 'well', 'changed', 'good', 'want', 'know', 'always', 'get', 'way', 'wanted', 'say', 'say', 'say', 'shiver', 'shiver', 'sing', 'loud', 'clear', \"i'll\", 'always', 'waiting', \"i'll\", 'always', 'waiting', 'yeah', \"i'll\", 'always', 'waiting', 'always', 'waiting', 'see', 'see', 'hear', 'loud', 'clear', 'sing', 'loud', 'clear', \"i'll\", 'always', 'waiting', 'look', 'direction', 'pay', 'attention', 'know', 'much', 'need', 'never', 'even', 'see', 'go', 'nobody', 'knows', \"i've\", 'gotta', 'say', \"i'm\", 'way', 'god', 'give', 'style', 'give', 'grace', 'god', 'put', 'smile', 'upon', 'face', 'go', 'draw', 'line', \"i've\", 'gotta', 'say', 'wasted', 'time', 'honey', 'honey', 'go', 'fall', 'grace', 'god', 'put', 'smile', 'upon', 'face', 'yeah', 'work', \"i'm\", 'worse', 'yeah', 'work', 'want', 'work', 'draw', 'line', 'guess', 'good', 'mine', 'go', 'nobody', 'knows', 'ever', 'say', 'way', 'god', 'gave', 'style', 'gave', 'grace', 'put', 'smile', 'upon', 'face', 'oh', 'yeah', 'work', \"i'm\", 'worse', 'yeah', 'work', 'want', 'work', 'draw', 'line', 'guess', 'good', 'mine', 'good', 'mine', 'good', 'mine', 'good', 'mine', 'good', 'mine', 'good', 'mine', 'good', 'mine', 'good', 'mine', 'go', 'nobody', 'knows', 'ever', 'say', 'way', 'god', 'gave', 'style', 'gave', 'grace', 'put', 'smile', 'upon', 'face', 'one', 'two', 'steal', 'heart', 'hold', 'tongue', 'feel', 'time', 'time', 'come', 'let', 'unlock', 'door', 'never', 'felt', 'way', 'wheels', 'keep', 'turning', 'drummer', 'begins', 'drum', 'know', 'way', \"i'm\", 'going', 'know', 'way', \"i've\", 'come', 'hold', 'head', 'inside', 'hands', 'need', 'someone', 'understands', 'need', 'someone', 'someone', 'hears', \"i've\", 'waited', 'years', \"i'd\", 'wait', \"'til\", 'kingdom', 'come', 'day', 'day', 'done', 'say', 'come', 'set', 'free', 'say', 'wait', 'wait', 'tears', 'blood', 'fire', 'flood', 'hear', 'laugh', 'heard', 'sing', 'change', 'single', 'thing', 'wheels', 'keep', 'turning', 'drummers', 'begin', 'drum', 'know', 'way', \"i'm\", 'going', 'know', \"i've\", 'become', \"i'd\", 'wait', \"'til\", 'kingdom', 'come', 'days', 'days', 'done', 'say', 'come', 'set', 'free', 'say', 'wait', 'wait', 'say', 'wait', 'wait', 'say', 'wait', 'wait', 'look', 'earth', 'outer', 'space', 'everyone', 'must', 'find', 'place', 'give', 'time', 'give', 'space', 'give', 'real', 'give', 'fake', 'give', 'strength', 'reserve', 'control', 'give', 'heart', 'give', 'soul', 'give', 'time', 'give', 'us', 'kiss', 'tell', 'politik', 'open', 'eyes', 'open', 'eyes', 'open', 'eyes', 'open', 'eyes', 'give', 'one', 'cause', 'one', 'best', 'confusion', 'confidence', 'give', 'peace', 'mind', 'trust', 'forget', 'rest', 'us', 'give', 'strength', 'reserve', 'control', 'give', 'heart', 'give', 'soul', 'wounds', 'heal', 'cracks', 'fix', 'tell', 'politik', 'open', 'eyes', 'open', 'eyes', 'open', 'eyes', 'open', 'eyes', 'open', 'eyes', 'give', 'love', 'love', 'love', 'give', 'love', 'love', 'love', \"i'm\", 'part', 'throne', \"i'm\", 'trying', 'sing', 'song', 'language', 'speak', 'try', \"can't\", 'get', \"i'm\", 'trying', 'get', 'difficult', 'reach', 'take', 'picture', 'something', 'see', 'future', 'climb', 'ladder', 'sun', 'write', 'song', 'nobody', 'sung', 'great', 'north', 'star', 'try', 'work', 'silence', 'sea', 'know', \"i'll\", 'future', 'past', 'going', 'nowhere', 'much', 'fast', 'go', 'go', 'ah', 'got', 'find', 'missing', 'piece', 'go', 'go', 'go', 'know', 'going', 'wanna', 'talk', 'feel', 'like', 'going', 'tell', 'anyone', \"who'll\", 'listen', 'feel', 'ignored', \"nothing's\", 'really', 'making', 'sense', \"let's\", 'talk', \"let's\", 'talk', \"we'll\", 'run', 'wild', \"we'll\", 'run', 'wild', \"we'll\", 'run', 'wild', \"we'll\", 'run', 'wild', \"we'll\", 'run', 'wild', \"we'll\", 'run', 'wild', \"we'll\", 'glowing', 'dark', 'stole', 'key', 'took', 'car', 'downtown', 'lost', 'boys', 'meet', 'took', 'car', 'downtown', 'took', 'offered', 'set', 'free', 'saw', 'lights', 'go', 'end', 'scene', 'saw', 'lights', 'go', 'standing', 'front', 'scarecrow', 'dreams', 'smash', 'heart', 'smithereens', 'bright', 'red', 'rose', 'come', 'bursting', 'concrete', 'cartoon', 'heart', 'light', 'fire', 'fire', 'spark', 'light', 'fire', 'flame', 'heart', 'well', 'run', 'wild', 'well', 'glowing', 'dark', 'well', 'glowing', 'dark', 'boys', 'girls', 'matters', 'world', 'boys', 'girls', 'madness', 'occurs', 'highs', 'lows', 'room', 'aspinning', 'goes', 'well', 'run', 'wild', 'well', 'glowing', 'dark', 'well', 'glowing', 'dark', 'well', 'glowing', 'dark', 'dark', 'wait', 'call', 'love', 'call', 'never', 'came', 'ready', 'fall', 'love', 'ready', 'claim', \"i'm\", 'ready', 'love', \"i'm\", 'ready', 'pain', 'meet', 'sun', 'meet', 'rain', 'rain', 'rain', 'rain', 'behind', 'walls', 'love', \"i'm\", 'trying', 'change', \"i'm\", 'ready', 'love', \"i'm\", 'ready', 'change', 'meet', 'blue', 'sky', 'meet', 'rain', 'rain', 'rain', 'rain', 'rain', 'got', 'find', 'alone', 'world', 'got', 'find', 'alone', 'lost', 'trust', 'never', 'never', 'break', 'back', 'ever', 'hear', 'answer', \"'cause\", 'bullet', 'proof', 'vest', 'windows', 'closed', \"i'll\", 'best', \"i'll\", 'see', 'soon', 'telescope', 'lens', 'want', 'friends', \"i'll\", 'see', 'soon', 'came', 'came', 'snapping', 'heels', 'come', 'snapping', 'heels', 'break', 'back', 'ever', 'hear', 'answer', \"'cause\", 'bullet', 'proof', 'vest', 'windows', 'closed', \"i'll\", 'best', \"i'll\", 'see', 'soon', 'telescope', 'lens', 'want', 'friends', \"i'll\", 'see', 'soon', 'lost', 'trust', 'oh', 'lost', 'trust', 'lose', 'trust', 'oh', 'lost', 'trust', \"i'm\", 'dreaming', 'white', 'christmas', 'like', 'ones', 'used', 'know', 'tree', 'tops', 'glisten', 'children', 'listen', 'hear', 'sleigh', 'bells', 'snow', \"i'm\", 'dreaming', 'white', 'christmas', 'every', 'christmas', 'card', 'write', 'may', 'days', 'merry', 'bright', 'may', 'christmases', 'white', \"i'm\", 'dreaming', 'white', 'christmas', 'like', 'ones', 'used', 'know', 'tree', 'tops', 'glisten', 'children', 'listen', 'hear', 'sleigh', 'bells', 'snow', \"i'm\", 'dreaming', 'white', 'christmas', 'every', 'christmas', 'card', 'write', 'may', 'days', 'merry', 'bright', 'may', 'christmases', 'white', 'second', 'control', 'lost', 'though', 'along', 'fire', 'would', 'rise', 'wish', 'could', 'let', 'know', \"what's\", 'really', 'going', \"i've\", 'lost', 'let', 'met', 'go', 'one', 'last', 'time', 'tell', 'love', 'lie', 'oh', 'lie', 'remember', 'upon', 'time', 'blind', 'fire', 'would', 'sparkle', 'eyes', 'mine', 'tell', 'love', 'lie', 'oh', 'lie', 'tell', 'love', 'lie', 'oh', 'lie', 'lie', 'oh', 'lie', 'call', 'true', 'call', 'true', 'love', 'call', 'true', 'call', 'true', 'love', 'drive', 'away', 'know', 'say', 'say', 'oh', 'sing', 'one', 'know', 'but\\u2005i\\u2005promise', \"i'll\\u2005always\", 'look', 'yeah', \"that's\\u2005what\", \"i'll\", 'say', 'oh', 'say', 'oh', 'heart', 'hold', 'yeah', \"that's\", 'know', 'wrong', 'let', 'oh', 'yeah', 'oh', 'yeah', 'oh', 'yeah', 'yes', 'said', 'oh', 'cry', 'oh', 'yeah', 'saw', 'sparks', 'yeah', 'saw', 'sparks', 'saw', 'sparks', 'yeah', 'saw', 'sparks', 'sing', 'la', 'la', 'la', 'la', 'oh', 'la', 'la', 'la', 'la', 'oh', 'la', 'la', 'la', 'la', 'oh', 'la', 'la', 'la', 'la', 'oh', 'awake', 'find', 'peace', 'mind', 'said', 'live', 'fugitive', 'cannot', 'see', 'clear', 'said', 'know', 'show', 'right', 'way', 'go', 'spies', 'came', 'water', 'feeling', 'good', \"'cause\", 'know', 'spies', 'hide', 'every', 'corner', 'well', \"can't\", 'touch', \"'causes\", \"they're\", 'spies', \"they're\", 'spies', 'awake', 'see', 'one', 'free', 'well', \"we're\", 'fugitives', 'look', 'way', 'live', 'cannot', 'sleep', 'fear', 'said', 'way', 'turn', 'oh', 'forget', 'everything', 'learn', 'spies', 'came', 'water', 'feeling', 'good', \"'cause\", 'know', 'spies', 'hide', 'every', 'corner', 'well', \"can't\", 'touch', \"'cause\", \"they're\", 'spies', 'hide', \"they're\", 'gonna', 'find', 'us', 'hide', \"they're\", 'gonna', 'catch', 'us', 'sleep', 'hide', \"they're\", 'gonna', 'find', 'us', \"they're\", 'spies', \"they're\", 'spies', \"they're\", 'spies', \"they're\", 'spies', 'bono', 'mother', 'mother', \"there's\", 'many', 'crying', 'chris', 'brother', 'brother', 'brother', \"there's\", 'many', 'dying', 'know', 'got', 'find', 'way', 'bring', \"lovin'\", 'stay', 'bono', 'father', 'father', 'need', 'escalate', 'war', 'answer', 'love', 'conquer', 'hate', 'chris', 'know', \"we've\", 'got', 'find', 'way', 'bring', \"lovin'\", 'stay', 'picket', 'lines', 'block', 'way', 'bono', 'punish', 'brutality', 'talk', 'see', \"what's\", 'going', \"what's\", 'going', \"what's\", 'going', \"what's\", 'going', 'father', 'father', 'everybody', 'thinks', \"we're\", 'wrong', 'judge', 'us', 'together', 'strong', 'chris', 'know', \"we've\", 'got', 'find', 'way', 'bring', \"lovin'\", 'stay', 'picket', 'lines', 'block', 'way', 'punish', 'brutality', 'talk', 'see', \"what's\", 'going', \"what's\", 'going', \"what's\", 'going', \"what's\", 'going', \"what's\", 'going', \"what's\", 'going', \"what's\", 'going', \"what's\", 'going', 'stole', 'key', 'took', 'car', 'downtown', 'lost', 'boys', 'meet', 'took', 'car', 'downtown', 'took', 'offered', 'set', 'free', 'saw', 'lights', 'go', 'end', 'scene', 'saw', 'lights', 'go', 'standing', 'front', 'scarecrow', 'dreams', 'smashed', 'heart', 'smithereens', 'bright', 'red', 'rose', 'come', 'burst', 'concrete', 'cartoon', 'heart', 'light', 'fire', 'fire', 'spark', 'light', 'fire', 'flame', 'heart', \"we'll\", 'run', 'wild', \"we'll\", 'glowing', 'dark', \"we'll\", 'glowing', 'dark', 'boys', 'girls', 'matters', 'world', 'boys', 'girls', 'madness', 'occurs', 'highs', 'lows', 'room', 'spinning', \"we'll\", 'run', 'riot', \"we'll\", 'glowing', 'dark', 'reminiscing', 'wild', \"we'll\", 'glowing', 'dark', 'darkness', 'dawn', 'swirling', 'storm', \"i'm\", 'rolling', 'punches', 'hope', 'gone', 'leave', 'light', 'light', 'leave', 'light', 'light', 'leave', 'light', 'light', 'look', 'direction', 'pay', 'attention', 'know', 'listen', \"'cause\", 'say', 'see', 'straight', 'moment', 'wake', 'moment', 'sleep', \"i'll\", 'side', 'try', 'stop', \"i'll\", 'waiting', 'line', 'see', 'care', 'want', 'change', 'well', 'change', 'good', 'want', 'know', 'always', 'get', 'way', 'wanted', 'say', 'shiver', 'shiver', 'sing', 'loud', 'clear', \"i'll\", 'always', 'waiting', 'know', 'much', 'need', 'never', 'even', 'see', 'final', 'chance', 'getting', 'moment', 'wake', 'moment', 'sleep', \"i'll\", 'side', 'try', 'stop', \"i'll\", 'waiting', 'line', 'see', 'care', 'care', 'oh', 'oh', 'oh', 'oh', 'want', 'change', 'well', 'change', 'good', 'want', 'know', 'always', 'get', 'way', 'wanted', 'say', 'shiver', 'shiver', 'sing', 'loud', 'clear', \"i'll\", 'always', 'waiting', 'yeah', \"i'll\", 'always', 'waiting', 'yeah', \"i'll\", 'always', 'waiting', 'yeah', \"i'll\", 'always', 'waiting', 'always', 'waiting', 'see', 'see', 'hear', 'loud', 'clear', 'sing', 'loud', 'clear', \"i'll\", 'always', 'waiting', 'look', 'direction', 'pay', 'attention', 'know', 'much', 'need', 'never', 'even', 'see', 'oooooo', 'oooooo', 'oooooo', 'oooooo', 'oooooo', 'oooooo', 'girl', 'expected', 'world', 'flew\\u2005away\\u2005from', 'reach', 'so\\u2005she', 'ran', 'away', 'sleep', 'and\\u2005dreamed', 'paraparaparadise', 'paraparaparadise', 'paraparaparadise', 'every', 'time', 'closed', 'eyes', 'interlude', 'oooooo', 'oooooo', 'oooooo', 'oooooo', 'oooooo', 'oooooo', 'girl', 'expected', 'world', 'flew', 'away', 'reach', 'bullets', 'catch', 'teeth', 'life', 'goes', 'gets', 'heavy', 'wheel', 'breaks', 'butterfly', 'every', 'tear', 'waterfall', 'night', 'stormy', 'night', \"she'll\", 'close', 'eyes', 'night', 'stormy', 'night', 'away', \"she'd\", 'fly', 'dream', 'paraparaparadise', 'paraparaparadise', 'paraparaparadise', 'ohohohohohohohoh', \"she'd\", 'dream', 'paraparaparadise', 'paraparaparadise', 'paraparaparadise', 'ohohohohohohohoh', 'lala', 'lalalalala', 'lalalalala', 'lalalala', 'lying', 'underneath', 'stormy', 'skies', \"she'd\", 'say', 'oh', 'ohohohoh', 'know', 'sun', 'must', 'set', 'rise', 'could', 'paraparaparadise', 'paraparaparadise', 'could', 'paraparaparadise', 'ohohohohoh', 'ohohoh', 'could', 'paraparaparadise', 'paraparaparadise', 'could', 'paraparaparadise', 'ohohohohoh', 'ohohoh', 'vocalizations', 'could', 'paraparaparadise', 'paraparaparadise', 'could', 'paraparaparadise', 'ohohohohoh', 'ohohoh', 'oooooo', 'oooooo', 'oooooo', 'oooooo', 'oooooo', 'oooooo', 'oooooo', 'oooooo', 'oooooo', 'oooooo', 'oooooo', 'loop', 'know', 'going', 'pre', 'oh', 'wanna', 'talk', 'oh', 'wanna', 'talk', 'oh', 'wanna', 'talk', 'oh', 'wanna', 'talk', 'take', 'picture', 'something', 'see', 'swim', 'river', 'sea', 'climb', 'ladder', 'sun', 'write', 'song', 'nobody', 'sung', 'something', \"that's\", 'never', 'done', 'pre', \"they're\", 'talking', \"they're\", 'talking', \"they're\", 'talking', \"they're\", 'talking', 'take', 'picture', 'something', 'see', 'swim', 'river', 'sea', 'climb', 'ladder', 'sun', 'write', 'song', 'nobody', 'sung', 'something', \"that's\", 'never', 'done', 'know', 'going', 'wanna', 'talk', 'tell', 'anyone', \"who'll\", 'listen', 'feel', 'ignored', 'worry', 'future', 'rd', 'world', 'war', 'worry', 'future', 'rd', 'world', 'war', 'lights', 'go', \"can't\", 'saved', 'tides', 'tried', 'swim', \"you've\\u2005put\\u2005me\", 'upon\\u2005my', 'knees', 'oh', 'beg', 'beg\\u2005and', 'plead', 'singing', 'come', 'things', 'unsaid', 'shoot', 'apple', 'head', 'trouble', \"can't\", 'named', \"tiger's\", 'waiting', 'tamed', 'singing', 'confusion', 'never', 'stops', 'closing', 'walls', 'ticking', 'clocks', 'gonna', 'come', 'back', 'take', 'home', 'could', 'stop', 'know', 'singing', 'come', 'upon', 'seas', 'curse', 'missed', 'opportunities', 'part', 'cure', 'part', 'disease', 'singing', 'nothing', 'else', 'compares', 'oh', 'nothing', 'else', 'compares', 'nothing', 'else', 'compares', 'home', 'home', 'wanted', 'go', 'home', 'home', 'wanted', 'go', 'home', 'home', 'wanted', 'go', 'home', 'home', 'wanted', 'go', 'take', 'picture', 'something', 'see', 'see', 'see', 'see', 'see', 'future', 'future', 'future', 'future', 'future', 'oh', 'please', 'talk', 'fill', 'colors', 'missing', 'need', 'ever', 'get', 'answer', 'need', 'oh', 'please', 'talk', 'please', 'talk', 'light', 'nothing', 'wrong', 'nothing', 'right', 'time', 'no\\u2005reason\\u2005or', 'rhyme', 'if\\u2005you', 'decide', 'want\\u2005me', 'side', 'want', 'life', 'got', 'wrong', 'poem', 'song', 'could', 'put', 'right', 'got', 'wrong', 'make', 'feel', 'belong', 'decide', 'want', 'side', 'want', 'life', 'hook', 'oooooh', \"that's\", 'right', \"let's\", 'take', 'breath', 'jump', 'side', 'oooooh', \"that's\", 'right', 'know', 'even', 'try', 'oooooh', \"that's\", 'right', 'every', 'step', 'take', 'could', 'biggest', 'mistake', 'could', 'bend', 'could', 'break', \"that's\", 'risk', 'take', 'decide', 'want', 'life', 'want', 'side', 'hook', 'oooooh', \"that's\", 'right', \"let's\", 'take', 'breath', 'jump', 'side', 'oooooh', \"that's\", 'right', 'know', 'even', 'try', 'oooooh', \"that's\", 'right', 'oh', 'oooooh', \"that's\", 'right', \"let's\", 'take', 'breath', 'jump', 'side', 'oooooh', \"that's\", 'right', 'know', 'darkness', 'always', 'turns', 'light', 'oooooh', \"that's\", 'right', 'look', 'stars', 'look', 'shine', 'everything', 'yeah', 'all\\u2005yellow', 'i\\u2005came', 'along', 'wrote\\u2005a', 'song', 'the\\u2005things', 'called', 'yellow', 'took', 'turn', 'oh', 'thing', 'done', 'yellow', 'skin', 'oh', 'yeah', 'skin', 'bones', 'turn', 'something', 'beautiful', 'know', 'know', 'love', 'know', 'love', 'swam', 'across', 'jumped', 'across', 'oh', 'thing', \"'cause\", 'yellow', 'drew', 'line', 'drew', 'line', 'oh', 'thing', 'yellow', 'skin', 'oh', 'yeah', 'skin', 'bones', 'turn', 'something', 'beautiful', 'know', \"i'd\", 'bleed', 'dry', \"i'd\", 'bleed', 'dry', 'true', 'look', 'shine', 'look', 'shine', 'look', 'shine', 'look', 'shine', 'look', 'shine', 'look', 'shine', 'look', 'stars', 'look', 'shine', 'things', 'come', 'meet', 'tell', \"i'm\", 'sorry', 'know', 'lovely', 'i\\u2005had\\u2005to', 'find', 'you\\u2005tell', 'need', 'tell', 'you\\u2005i', 'set', 'apart', 'tell', 'secrets', 'ask', 'questions', 'oh', \"let's\", 'go', 'back', 'start', 'running', 'circles', 'coming', 'tails', 'heads', 'science', 'apart', 'nobody', 'said', 'easy', 'shame', 'us', 'part', 'nobody', 'said', 'easy', 'one', 'ever', 'said', 'would', 'hard', 'oh', 'take', 'back', 'start', 'guessing', 'numbers', 'figures', 'pulling', 'puzzles', 'apart', 'questions', 'science', 'science', 'progress', 'speak', 'loud', 'heart', 'tell', 'love', 'come', 'back', 'haunt', 'oh', 'rush', 'start', 'running', 'circles', 'chasing', 'tails', 'coming', 'back', 'nobody', 'said', 'easy', 'oh', 'shame', 'us', 'part', 'nobody', 'said', 'easy', 'one', 'ever', 'said', 'would', 'hard', \"i'm\", 'going', 'back', 'start', 'ohooh', 'oohoohoohooh', 'aahooh', 'oohoohoohooh', 'ohooh', 'oohoohoohooh', 'ohooh', 'oohoohoohooh', 'girl', 'expected', 'world', 'flew', 'away', 'reach', 'ran', 'away', 'sleep', 'dreams', 'paraparaparadise', 'paraparaparadise', 'paraparaparadise', 'every', 'time', 'closed', 'eyes', 'girl', 'expected', 'world', 'flew', 'away', 'reach', 'bullets', 'catch', 'teeth', 'life', 'goes', 'gets', 'heavy', 'wheel', 'breaks', 'butterfly', 'every', 'tear', 'waterfall', 'night', 'stormy', 'night', \"she'll\", 'close', 'eyes', 'night', 'stormy', 'night', 'away', \"she'd\", 'fly', 'dreams', 'paraparaparadise', 'paraparaparadise', 'paraparaparadise', 'oh', 'oh', 'oh', 'oh', 'oh', 'ohohoh', \"she'd\", 'dream', 'paraparaparadise', 'paraparaparadise', 'paraparaparadise', 'oh', 'oh', 'oh', 'oh', 'oh', 'ohohohoh', 'lalalalalalala', 'lalalalalalalalalala', 'lying', 'underneath', 'stormy', 'skies', \"she'd\", 'say', 'oh', 'ohohohoh', 'know', 'sun', 'must', 'set', 'rise', 'could', 'ohoh', 'ohoooh', 'ohohoh', 'paradise', 'ohoh', 'ohoooh', 'ohohoh', 'paradise', 'ohoh', 'ohoooh', 'ohohoh', 'paradise', 'whoaohoh', 'ohoooh', 'ohohoh', 'could', 'ohoh', 'ohoooh', 'ohohoh', 'paradise', 'ohoh', 'ohoooh', 'ohohoh', 'paradise', 'ohoh', 'ohoooh', 'ohohoh', 'paradise', 'whoaohoh', 'ohoooh', 'ohohoh', 'could', 'ohoh', 'ohoooh', 'ohohoh', 'paradise', 'ohoh', 'ohoooh', 'ohohoh', 'paradise', 'ohoh', 'ohoooh', 'ohohoh', 'paradise', 'whoaohoh', 'ohoooh', 'ohohoh', 'ohoh', 'ohoooh', 'ohohoh', 'ohoh', 'ohoooh', 'ohohoh', 'ohoh', 'ohoooh', 'ohohoh', 'scared', 'losing', 'time', 'wrote', 'letter', 'friend', 'mine', 'heard', 'could', 'see', 'future', 'inside', 'glass', 'water', 'ripples', 'lines', 'asked', 'would', 'see', 'heaven', 'mine', 'way', 'nothing', 'could', 'better', 'nothing', 'ever', 'oh', 'say', 'see', 'future', 'inside', 'glass', 'water', 'riddles', 'rhymes', 'see', 'heaven', 'mine', 'oh', 'oh', 'oh', 'oh', 'son', 'ask', 'neither', 'full', 'empty', 'glass', 'cling', 'mast', 'spend', 'whole', 'life', 'living', 'past', 'going', 'nowhere', 'fast', 'wrote', 'wall', 'hollowest', 'halos', 'halo', 'televisions', 'selling', 'plastic', 'figurines', 'leaders', 'saying', 'nothing', 'chime', 'stars', 'heaven', 'align', 'oh', 'oh', 'oh', 'oh', 'son', 'ask', 'neither', 'full', 'empty', 'glass', 'cling', 'mast', 'spend', 'whole', 'life', 'living', 'past', 'going', 'nowhere', 'fast', 'oh', 'drinking', \"we're\", 'done', 'glasses', 'water', 'oh', 'see', 'spider', 'web', 'tangled', 'lost', 'head', 'thought', 'stupid', 'things', \"i'd\", 'said', 'oh', \"what's\", 'spider', 'web', \"i'm\", 'caught', 'middle', 'turned', 'run', 'thought', 'stupid', 'things', \"i'd\", 'done', 'never', 'meant', 'cause', 'trouble', 'never', 'meant', 'wrong', 'well', 'ever', 'caused', 'trouble', 'oh', 'never', 'meant', 'harm', 'oh', 'see', 'spider', 'web', 'middle', 'twist', 'turn', 'little', 'bubble', 'singing', 'never', 'meant', 'cause', 'trouble', 'never', 'meant', 'wrong', 'well', 'ever', 'caused', 'trouble', 'oh', 'never', 'meant', 'harm', 'spun', 'web', 'spun', 'web', 'spun', 'web', 'oh', 'angel', 'sent', 'know', 'make', 'world', 'light', 'was\\u2005down\\u2005when', 'was\\u2005hurt', 'came', 'lift', 'life\\u2005is', 'drink', \"love's\", 'drug', 'oh', 'think', 'must', 'miles', 'river', 'dried', 'came', 'rain', 'flood', 'ahohahohah', 'got', 'feeling', 'drunk', 'high', 'high', 'high', 'ahohahohah', \"i'm\", 'feeling', 'drunk', 'high', 'high', 'high', 'feeling', 'drunk', 'high', 'feeling', 'drunk', 'high', 'high', 'oh', 'angel', 'sent', 'feel', 'coursing', 'blood', 'life', 'drink', \"love's\", 'make', 'stars', 'come', 'ahohahohah', 'got', 'feeling', 'drunk', 'high', 'high', 'high', 'ahohahohah', \"i'm\", 'feeling', 'drunk', 'high', 'high', 'high', 'feeling', 'drunk', 'high', 'feeling', 'drunk', 'high', 'high', 'shoot', 'across', 'sky', 'shoot', 'across', 'shoot', 'across', 'sky', 'shoot', 'across', 'shoot', 'across', 'sky', 'shoot', 'across', 'shoot', 'across', 'sky', 'shoot', 'across', 'look', 'earth', 'outer', 'space', 'everyone', 'must', 'find', 'place', 'give', 'time', 'give', 'space', 'give', 'real', 'give', 'fake', 'give', 'strength', 'reserve', 'control', 'give', 'heart', 'give', 'soul', 'give', 'love', 'give', 'us', 'kiss', 'tell', 'politik', 'open', 'eyes', 'open', 'eyes', 'open', 'eyes', 'open', 'eyes', 'give', 'one', \"'cause\", 'one', 'best', 'confusion', 'confidence', 'give', 'peace', 'mind', 'trust', 'forget', 'rest', 'us', 'give', 'strength', 'reserve', 'control', 'give', 'heart', 'give', 'soul', 'wounds', 'heal', 'cracks', 'fix', 'love', 'tell', 'politik', 'open', 'eyes', 'open', 'eyes', 'open', 'eyes', 'open', 'eyes', 'give', 'love', 'love', 'love', 'ahh', 'give', 'love', 'love', 'love', 'ahh', 'hardest', 'part', 'letting', 'go', 'taking', 'part', 'hardest', 'part', 'strangest', 'thing', 'waiting', 'bell', 'ring', 'strangest', 'start', 'could', 'feel', 'go', 'bittersweet', 'could', 'taste', 'mouth', 'silver', 'lining', 'cloud', 'oh', 'wish', 'could', 'work', 'hardest', 'part', 'letting', 'go', 'taking', 'part', 'really', 'broke', 'heart', 'oh', 'tried', 'sing', 'think', 'anything', 'hardest', 'part', 'oh', 'oh', 'could', 'feel', 'go', 'left', 'sweetest', 'taste', 'mouth', 'silver', 'lining', 'cloud', 'oh', 'oh', 'wonder', 'wonder', 'everything', 'know', 'wrong', 'everything', 'comes', 'undone', 'everything', 'torn', 'apart', 'oh', \"that's\", 'hardest', 'part', \"that's\", 'hardest', 'part', 'yeah', \"that's\", 'hardest', 'part', \"that's\", 'hardest', 'part', 'okay', \"i'm\", 'losing', 'mean', \"i'm\", 'lost', 'mean', \"i'll\", 'stop', 'mean', \"i'm\", 'across', \"i'm\\u2005hurting\", \"doesn't\\u2005mean\", \"i'm\", 'hurt', \"doesn't\\u2005mean\", 'get', 'i\\u2005deserve', 'better', 'worse', 'got', 'lost', 'every', 'river', 'tried', 'cross', 'every', 'door', 'ever', 'tried', 'locked', 'oh', \"i'm\", 'waiting', \"'til\", 'shine', 'wears', 'might', 'big', 'fish', 'little', 'pond', 'mean', \"'cause\", 'along', 'may', 'come', 'bigger', 'one', 'lost', 'every', 'river', 'try', 'cross', 'every', 'gun', 'ever', 'held', 'went', 'oh', \"i'm\", 'waiting', \"'til\", 'firing', 'stops', 'oh', \"i'm\", 'oh', 'waiting', \"'til\", 'shine', 'wears', 'woo', 'oh', \"i'm\", 'waiting', \"'til\", 'shine', 'wears', 'ohohohohoh', 'oh', \"i'm\", 'waiting', \"'til\", 'shine', 'wears', 'ohohohohoh', 'ohohohohoh', 'ohohoh', \"i'm\", 'losing', 'mean', \"i'm\", 'lost', 'awake', 'find', 'peace', 'mind', 'said', 'live', 'fugitive', 'cannot', 'see', 'clear', 'said', 'know', 'show', 'right', 'way', 'go', 'spies', 'came', 'water', 'feeling', 'bad', \"'cause\", 'know', 'spies', 'hide', 'every', 'corner', \"can't\", 'touch', \"'cause\", \"they're\", 'spies', \"they're\", 'spies', 'awake', 'see', 'one', 'free', \"we're\", 'fugitives', 'look', 'way', 'live', 'cannot', 'sleep', 'fear', 'said', 'way', 'turn', 'oh', 'forget', 'everything', 'learn', 'spies', 'came', 'water', 'feeling', 'bad', \"'cause\", 'know', 'spies', 'hide', 'every', 'corner', \"can't\", 'touch', \"'cause\", \"they're\", 'spies', \"they're\", 'spies', 'wanna', 'bigger', 'stronger', 'drive', 'faster', 'car', 'take', 'anywhere', 'seconds', 'take\\u2005me\\u2005anywhere', 'wanna\\u2005go', 'drive', 'around', 'faster', 'car', 'i\\u2005will', 'settle', 'nothing', 'less', 'settle', 'nothing', 'less', 'wanna', 'bigger', 'stronger', 'drive', 'faster', 'car', 'touch', 'button', 'go', 'anywhere', 'wanna', 'go', 'drive', 'around', 'faster', 'car', 'settle', 'nothing', 'less', 'settle', 'nothing', 'less', 'think', 'want', 'change', 'altitude', 'think', 'want', 'change', 'oxygen', 'think', 'want', 'change', 'air', 'atmosphere', 'wanna', 'recharge', 'wanna', 'bigger', 'stronger', 'drive', 'faster', 'car', 'take', 'anywhere', 'seconds', 'take', 'anywhere', 'wanna', 'go', 'drive', 'around', 'faster', 'car', 'settle', 'nothing', 'less', 'settle', 'nothing', 'less', 'think', 'need', 'change', 'attitude', 'think', 'want', 'change', 'oxygen', 'think', 'want', 'change', 'air', 'atmosphere', 'wanna', 'recharge', 'bigger', 'better', 'bigger', 'better', 'bigger', 'better', 'bigger', 'better', 'bigger', 'stronger', 'drive', 'faster', 'car', 'touch', 'button', 'go', 'anywhere', 'wanna', 'go', 'used', 'rule', 'world', 'seas', 'would', 'rise', 'gave', 'word', 'morning', 'sleep', 'alone', 'sweep', 'streets', 'used', 'used', 'roll', 'dice', 'feel', 'fear', \"enemy's\", 'eyes', 'listen', 'crowd', 'would', 'sing', 'old', 'king', 'dead', 'long', 'live', 'king', 'one', 'minute', 'held', 'key', 'next', 'walls', 'closed', 'discovered', 'castles', 'stand', 'upon', 'pillars', 'salt', 'pillars', 'sand', 'hear', 'jerusalem', 'bells', 'aringing', 'roman', 'cavalry', 'choirs', 'singing', 'mirror', 'sword', 'shield', 'missionaries', 'foreign', 'field', 'reason', \"can't\", 'explain', 'go', 'never', 'never', 'honest', 'word', 'ruled', 'world', 'wicked', 'wild', 'wind', 'blew', 'doors', 'let', 'shattered', 'windows', 'sound', 'drums', 'people', 'believe', \"i'd\", 'become', 'revolutionaries', 'wait', 'head', 'silver', 'plate', 'puppet', 'lonely', 'string', 'oh', 'would', 'ever', 'want', 'king', 'hear', 'jerusalem', 'bells', 'aringing', 'roman', 'cavalry', 'choirs', 'singing', 'mirror', 'sword', 'shield', 'missionaries', 'foreign', 'field', 'reason', \"can't\", 'explain', 'know', 'saint', 'peter', 'call', 'name', 'never', 'honest', 'word', 'ruled', 'world', 'hear', 'jerusalem', 'bells', 'aringing', 'roman', 'cavalry', 'choirs', 'singing', 'mirror', 'sword', 'shield', 'missionaries', 'foreign', 'field', 'reason', \"can't\", 'explain', 'know', 'saint', 'peter', 'call', 'name', 'never', 'honest', 'word', 'ruled', 'world', 'darkness', 'dawn', 'darkness', 'dawn', 'leave', 'light', 'light', 'leave', 'light', 'light', 'darkness', 'dawn', 'swirling', 'storm', 'swirling', 'storm', \"i'm\", 'rolling', 'punches', 'hope', 'gone', 'leave', 'light', 'light', 'leave', 'light', 'light', 'millions', 'miles', 'home', 'swirling', 'swimming', \"i'm\", 'rolling', 'thunder', 'bleed', 'thorns', 'leave', 'light', 'light', 'leave', 'light', 'light', 'leave', 'light', 'light', 'leave', 'light', 'light', 'young', 'boy', 'tried', 'listen', 'want', 'feel', 'like', 'little', 'white', 'shadows', 'blink', 'miss', 'part', 'system', 'ever', 'feel', 'like', \"something's\", 'missing', 'things', 'never', 'understand', 'little', 'white', 'shadows', 'sparkle', 'glisten', 'part', 'system', 'plan', 'noise', \"i'm\", 'waking', 'space', \"i'm\", 'taking', 'sound', 'breaking', 'oh', 'maybe', 'get', 'wanted', 'maybe', 'stumble', 'upon', 'everything', 'ever', 'wanted', 'permanent', 'state', 'maybe', 'know', 'see', 'maybe', 'say', 'mean', 'find', 'keep', 'permanent', 'state', 'permanent', 'state', 'young', 'boy', 'tried', 'listen', 'want', 'feel', 'like', 'part', 'human', 'race', 'stars', 'outer', 'space', 'part', 'system', 'plan', 'noise', \"i'm\", 'waking', 'space', \"i'm\", 'taking', 'cannot', 'hear', 'breaking', 'oh', 'maybe', 'get', 'wanted', 'maybe', 'stumble', 'upon', 'everything', 'ever', 'wanted', 'permanent', 'state', 'maybe', 'know', 'see', 'maybe', 'say', 'mean', 'find', 'keep', 'permanent', 'state', 'permanent', 'state', 'swimming', 'sea', 'faces', 'tide', 'human', 'race', 'answer', 'need', 'see', 'new', 'sun', 'rising', 'see', 'break', 'horizon', 'oh', 'come', 'love', 'stay', 'oh', 'brother', \"can't\", \"can't\", 'get', \"i've\", \"tryin'\", 'hard', 'reach', \"'cause\", 'know', 'oh', 'brother', \"can't\", 'believe', 'true', \"i'm\", 'scared', 'future', 'wanna', 'talk', 'oh', 'wanna', 'talk', 'could', 'take', 'picture', 'something', 'see', 'future', 'would', 'could', 'climb', 'ladder', 'sun', 'write', 'song', 'nobody', 'sung', 'something', \"that's\", 'never', 'done', 'lost', 'incomplete', 'feel', 'like', 'puzzle', \"can't\", 'find', 'missing', 'piece', 'tell', 'feel', 'well', 'feel', 'like', \"they're\", \"talkin'\", 'language', 'speak', \"they're\", 'talking', 'take', 'picture', 'something', 'see', 'future', 'could', 'climb', 'ladder', 'sun', 'write', 'song', 'nobody', 'sung', 'something', \"that's\", 'never', 'done', 'something', \"that's\", 'never', 'done', 'know', 'going', 'wanna', 'talk', 'feel', 'like', 'going', 'tell', 'anyone', \"who'll\", 'listen', 'feel', 'ignored', \"nothing's\", 'really', \"makin'\", 'sense', \"let's\", 'talk', \"let's\", 'talk', \"let's\", 'talk', \"let's\", 'talk', 'look', 'stars', 'look', 'shine', 'everything', 'yeah', 'all\\u2005yellow', 'i\\u2005came', 'along', 'wrote\\u2005a', 'song', 'the\\u2005things', 'called', 'yellow', 'took\\u205fmy\\u205fturn', 'oh\\u205fwhat', 'thing\\u205fto', 'done', 'and\\u205fit', 'yellow', 'skin', 'oh', 'yeah', 'skin', 'bones', 'turn', 'something', 'beautiful', 'know', 'know', 'love', 'know', 'love', 'swam', 'across', 'jumped', 'across', 'oh', 'thing', \"'cause\", 'yellow', 'drew', 'line', 'drew', 'line', 'oh', 'thing', 'yellow', 'skin', 'oh', 'yeah', 'skin', 'bones', 'turn', 'something', 'beautiful', 'know', 'id', 'bleed', 'dry', \"i'd\", 'bleed', 'dry', 'true', 'look', 'shine', 'look', 'shine', 'look', 'shine', 'look', 'shine', 'look', 'shine', 'look', 'shine', 'look', 'stars', 'look', 'shine', 'things', 'oh', 'see', 'spider', 'web', 'tangled', 'lost', 'head', 'and\\u2005thought\\u2005of', 'the\\u2005stupid', 'things', \"i'd\", 'said', 'oh', \"what's\\u2005this\", 'spider', 'web', \"i'm\", 'caught', 'middle', 'turned', 'run', 'thought', 'stupid', 'things', \"i'd\", 'done', 'never', 'meant', 'cause', 'trouble', 'never', 'meant', 'wrong', 'well', 'ever', 'caused', 'trouble', 'oh', 'never', 'meant', 'harm', 'oh', 'see', 'spider', 'web', 'middle', 'twist', 'turn', 'little', 'bubble', 'singing', 'never', 'meant', 'cause', 'trouble', 'never', 'meant', 'wrong', 'well', 'ever', 'caused', 'trouble', 'oh', 'never', 'meant', 'harm', 'spun', 'web', 'spun', 'web', 'spun', 'web', 'bones', 'sinking', 'like', 'stones', \"we've\", 'fought', 'homes', 'places', 'weve', 'grown', 'us', 'done', 'live', 'beautiful', 'world', 'yeah', 'yeah', 'live', 'beautiful', 'world', 'bones', 'sinking', 'like', 'stones', \"we've\", 'fought', 'homes', 'places', \"we've\", 'grown', 'us', 'done', 'live', 'beautiful', 'world', 'yeah', 'yeah', 'live', 'beautiful', 'world', 'live', 'beautiful', 'world', 'yeah', 'yeah', 'live', 'beautiful', 'world', 'oh', 'know', 'theres', 'nothing', 'run', \"'cause\", 'everybody', \"here's\", 'got', 'somebody', 'lean', 'counted', 'demons', 'saw', 'one', 'every', 'day', 'good', 'ones\\u2005on\\u2005my', 'shoulders', 'drove\\u2005the', 'ones', 'away', 'you\\u2005ever', 'feel', 'neglected', 'think', 'lost', \"i'll\", 'counting', 'demons', 'yeah', 'hoping', 'everythings', 'lost', 'thought', 'could', 'feel', 'around', \"everybody's\", 'get', 'let', 'drag', 'cause', 'ever', 'feel', 'neglected', 'think', 'lost', \"i'll\", 'counting', 'demons', 'yeah', 'hoping', \"everything's\", 'lost', 'ever', 'feel', 'neglected', 'think', 'lost', \"i'll\", 'counting', 'demons', 'yeah', 'hoping', \"everything's\", 'lost', 'singing', 'oh', 'oh', 'oh', 'yeah', 'oh', 'oh', 'yeah', 'oh', 'oh', 'yeah', \"everything's\", 'lost', 'come', 'yeah', 'oh', 'oh', 'yeah', 'come', 'yeah', \"everything's\", 'lost', 'oh', 'oh', 'yeah', 'oh', 'oh', 'yeah', 'oh', 'oh', 'yeah', \"everything's\", 'lost', 'come', 'yeah', 'oh', 'oh', 'yeah', 'come', 'yeah', 'come', 'yeah', 'oh', 'oh', 'yeah', 'come', 'yeah', 'everythings', 'lost', 'sing', 'yeah', 'oh', 'oh', 'yeah', 'come', 'yeah', 'everythings', 'lost', 'come', 'yeah', 'oh', 'oh', 'yeah', 'sing', 'yeah', \"everything's\", 'lost', 'never', 'meant', 'wrong', 'thats', 'came', 'say', 'wrong', \"i'm\", 'sorry', 'let', 'stand', 'way', 'cause', 'head', 'aches', 'think', 'things', 'done', 'life', 'living', 'know', 'dont', 'want', 'live', 'alone', 'sing', 'ah', 'ah', 'sing', 'ah', 'ah', 'ah', 'sing', 'ah', 'ah', 'ah', 'ah', 'ah', 'look', 'direction', 'pay', 'attention', 'know', \"you\\u2005don't\\u2005listen\", \"'cause\\u2005you\", 'say', 'see', 'straight', 'through\\u2005me', 'moment', 'wake', \"'til\", 'moment', 'sleep', \"i'll\", 'side', 'try', 'stop', \"i'll\", 'waiting', 'line', 'see', 'care', 'pre', 'oh', 'want', 'change', 'well', \"i'll\", 'change', 'good', 'want', 'know', 'always', 'get', 'way', 'wanted', 'say', 'shiver', 'shiver', 'sing', 'loud', 'clear', \"i'll\", 'always', 'waiting', 'know', 'much', 'need', 'never', 'even', 'see', 'final', 'chance', 'getting', 'moment', 'wake', \"'til\", 'moment', 'sleep', \"i'll\", 'side', 'try', 'stop', \"i'll\", 'waiting', 'line', 'see', 'care', 'care', 'pre', 'oh', 'want', 'change', 'well', \"i'll\", 'change', 'good', 'want', 'know', 'always', 'get', 'way', 'wanted', 'say', 'shiver', 'shiver', 'sing', 'loud', 'clear', \"i'll\", 'always', 'waiting', 'yeah', \"i'll\", 'always', 'waiting', 'yeah', \"i'll\", 'always', 'waiting', 'yeah', \"i'll\", 'always', 'waiting', 'always', 'waiting', 'final', 'see', 'see', 'hear', 'loud', 'clear', 'sing', 'loud', 'clear', \"i'll\", 'always', 'waiting', 'look', 'direction', 'pay', 'attention', 'know', 'much', 'need', 'never', 'even', 'see']\n"
          ]
        }
      ]
    },
    {
      "cell_type": "code",
      "execution_count": 20,
      "metadata": {
        "id": "EFET1Ppkoolm"
      },
      "outputs": [],
      "source": [
        "# Código para hacer el desfazaje de las palabras\n",
        "# según el train_len\n",
        "text_sequences = []\n",
        "for i in range(train_len, len(tokens)):\n",
        "  seq = tokens[i-train_len:i]\n",
        "  text_sequences.append(seq)"
      ]
    },
    {
      "cell_type": "code",
      "execution_count": 21,
      "metadata": {
        "colab": {
          "base_uri": "https://localhost:8080/"
        },
        "outputId": "254f0a2b-864d-4a53-898a-3037f585df24",
        "id": "UnNrsagCoolm"
      },
      "outputs": [
        {
          "output_type": "execute_result",
          "data": {
            "text/plain": [
              "[['come', 'meet', 'tell', \"i'm\"],\n",
              " ['meet', 'tell', \"i'm\", 'sorry'],\n",
              " ['tell', \"i'm\", 'sorry', 'know'],\n",
              " [\"i'm\", 'sorry', 'know', 'lovely'],\n",
              " ['sorry', 'know', 'lovely', 'find'],\n",
              " ['know', 'lovely', 'find', 'tell'],\n",
              " ['lovely', 'find', 'tell', 'need'],\n",
              " ['find', 'tell', 'need', 'tell'],\n",
              " ['tell', 'need', 'tell', 'set'],\n",
              " ['need', 'tell', 'set', 'apart'],\n",
              " ['tell', 'set', 'apart', 'tell'],\n",
              " ['set', 'apart', 'tell', 'secrets'],\n",
              " ['apart', 'tell', 'secrets', 'ask'],\n",
              " ['tell', 'secrets', 'ask', 'questions'],\n",
              " ['secrets', 'ask', 'questions', 'oh'],\n",
              " ['ask', 'questions', 'oh', \"let's\"],\n",
              " ['questions', 'oh', \"let's\", 'go'],\n",
              " ['oh', \"let's\", 'go', 'back'],\n",
              " [\"let's\", 'go', 'back', 'start'],\n",
              " ['go', 'back', 'start', 'running']]"
            ]
          },
          "metadata": {},
          "execution_count": 21
        }
      ],
      "source": [
        "# Demos un vistazo a nuestros vectores para entrenar el modelo\n",
        "text_sequences[:20]"
      ]
    },
    {
      "cell_type": "code",
      "execution_count": 22,
      "metadata": {
        "colab": {
          "base_uri": "https://localhost:8080/"
        },
        "outputId": "aa155a0c-cea3-4b31-9891-b6120eb3fc20",
        "id": "iZaGZKKeoolm"
      },
      "outputs": [
        {
          "output_type": "execute_result",
          "data": {
            "text/plain": [
              "[[9, 234, 65, 2],\n",
              " [234, 65, 2, 511],\n",
              " [65, 2, 511, 3],\n",
              " [2, 511, 3, 977],\n",
              " [511, 3, 977, 59],\n",
              " [3, 977, 59, 65],\n",
              " [977, 59, 65, 92],\n",
              " [59, 65, 92, 65],\n",
              " [65, 92, 65, 253],\n",
              " [92, 65, 253, 235],\n",
              " [65, 253, 235, 65],\n",
              " [253, 235, 65, 785],\n",
              " [235, 65, 785, 284],\n",
              " [65, 785, 284, 847],\n",
              " [785, 284, 847, 1],\n",
              " [284, 847, 1, 71],\n",
              " [847, 1, 71, 4],\n",
              " [1, 71, 4, 48],\n",
              " [71, 4, 48, 136],\n",
              " [4, 48, 136, 451]]"
            ]
          },
          "metadata": {},
          "execution_count": 22
        }
      ],
      "source": [
        "# Proceso de tokenizacion\n",
        "tok = Tokenizer() \n",
        "tok.fit_on_texts(text_sequences) \n",
        "\n",
        "# Convertimos las palabras a números\n",
        "# entran palabras -> salen números\n",
        "sequences = tok.texts_to_sequences(text_sequences)\n",
        "\n",
        "# Damos un vistazo\n",
        "sequences[:20]"
      ]
    },
    {
      "cell_type": "code",
      "execution_count": 23,
      "metadata": {
        "colab": {
          "base_uri": "https://localhost:8080/"
        },
        "outputId": "00c847a2-22c1-4d9a-f8b3-b1c2696a7a31",
        "id": "yGueV1KMoolm"
      },
      "outputs": [
        {
          "output_type": "stream",
          "name": "stdout",
          "text": [
            "Cantidad de rows del dataset: 32432\n"
          ]
        }
      ],
      "source": [
        "print(\"Cantidad de rows del dataset:\", len(sequences))"
      ]
    },
    {
      "cell_type": "markdown",
      "metadata": {
        "id": "W8nfo6SEooln"
      },
      "source": [
        "#### Input y target"
      ]
    },
    {
      "cell_type": "code",
      "execution_count": 24,
      "metadata": {
        "colab": {
          "base_uri": "https://localhost:8080/"
        },
        "outputId": "4e8db19a-ae11-403f-ccf0-79309211354a",
        "id": "R_ckZgK9ooln"
      },
      "outputs": [
        {
          "output_type": "stream",
          "name": "stdout",
          "text": [
            "(32432, 3)\n",
            "(32432,)\n"
          ]
        }
      ],
      "source": [
        "arr_sequences = np.array(sequences)\n",
        "x_data = arr_sequences[:,:-1]\n",
        "y_data_int = arr_sequences[:,-1] # aún falta el oneHotEncoder\n",
        "\n",
        "print(x_data.shape)\n",
        "print(y_data_int.shape)"
      ]
    },
    {
      "cell_type": "code",
      "execution_count": 25,
      "metadata": {
        "colab": {
          "base_uri": "https://localhost:8080/"
        },
        "outputId": "905140e6-7b90-403a-a2bd-743d1c239a8a",
        "id": "Zyi8q0bpooln"
      },
      "outputs": [
        {
          "output_type": "execute_result",
          "data": {
            "text/plain": [
              "{1: 'oh',\n",
              " 2: \"i'm\",\n",
              " 3: 'know',\n",
              " 4: 'go',\n",
              " 5: 'get',\n",
              " 6: 'love',\n",
              " 7: 'see',\n",
              " 8: 'yeah',\n",
              " 9: 'come',\n",
              " 10: 'la',\n",
              " 11: 'world',\n",
              " 12: 'gonna',\n",
              " 13: 'never',\n",
              " 14: 'one',\n",
              " 15: 'want',\n",
              " 16: 'like',\n",
              " 17: 'feel',\n",
              " 18: 'say',\n",
              " 19: 'got',\n",
              " 20: 'light',\n",
              " 21: \"i'll\",\n",
              " 22: 'could',\n",
              " 23: 'talk',\n",
              " 24: 'ever',\n",
              " 25: 'going',\n",
              " 26: 'wanna',\n",
              " 27: 'let',\n",
              " 28: 'high',\n",
              " 29: 'time',\n",
              " 30: 'way',\n",
              " 31: 'every',\n",
              " 32: \"can't\",\n",
              " 33: \"'cause\",\n",
              " 34: 'woo',\n",
              " 35: 'life',\n",
              " 36: 'sky',\n",
              " 37: 'always',\n",
              " 38: 'eyes',\n",
              " 39: 'look',\n",
              " 40: 'heart',\n",
              " 41: 'head',\n",
              " 42: 'lost',\n",
              " 43: 'something',\n",
              " 44: \"that's\",\n",
              " 45: 'us',\n",
              " 46: 'day',\n",
              " 47: 'away',\n",
              " 48: 'back',\n",
              " 49: 'ooh',\n",
              " 50: 'paraparaparadise',\n",
              " 51: 'shine',\n",
              " 52: 'think',\n",
              " 53: 'sing',\n",
              " 54: 'ah',\n",
              " 55: 'hear',\n",
              " 56: 'give',\n",
              " 57: 'together',\n",
              " 58: 'home',\n",
              " 59: 'find',\n",
              " 60: 'waiting',\n",
              " 61: 'said',\n",
              " 62: 'sun',\n",
              " 63: 'nothing',\n",
              " 64: 'well',\n",
              " 65: 'tell',\n",
              " 66: 'around',\n",
              " 67: 'take',\n",
              " 68: 'fly',\n",
              " 69: 'right',\n",
              " 70: 'maybe',\n",
              " 71: \"let's\",\n",
              " 72: \"i've\",\n",
              " 73: 'hoo',\n",
              " 74: 'singing',\n",
              " 75: 'sometimes',\n",
              " 76: 'night',\n",
              " 77: 'live',\n",
              " 78: \"there's\",\n",
              " 79: 'people',\n",
              " 80: 'feeling',\n",
              " 81: 'cry',\n",
              " 82: 'part',\n",
              " 83: \"they're\",\n",
              " 84: 'change',\n",
              " 85: 'sleep',\n",
              " 86: 'call',\n",
              " 87: 'across',\n",
              " 88: 'would',\n",
              " 89: 'try',\n",
              " 90: 'turn',\n",
              " 91: 'cause',\n",
              " 92: 'need',\n",
              " 93: 'wait',\n",
              " 94: 'song',\n",
              " 95: 'good',\n",
              " 96: 'came',\n",
              " 97: 'things',\n",
              " 98: 'full',\n",
              " 99: 'fall',\n",
              " 100: 'still',\n",
              " 101: 'close',\n",
              " 102: 'true',\n",
              " 103: 'make',\n",
              " 104: 'long',\n",
              " 105: 'boom',\n",
              " 106: 'waterfall',\n",
              " 107: 'much',\n",
              " 108: 'ohoh',\n",
              " 109: 'stars',\n",
              " 110: 'shoot',\n",
              " 111: 'rain',\n",
              " 112: 'im',\n",
              " 113: 'ohohoh',\n",
              " 114: 'done',\n",
              " 115: 'everything',\n",
              " 116: 'thing',\n",
              " 117: 'fire',\n",
              " 118: \"we're\",\n",
              " 119: 'oohoohooh',\n",
              " 120: 'upon',\n",
              " 121: 'de',\n",
              " 122: 'keep',\n",
              " 123: 'hook',\n",
              " 124: 'mean',\n",
              " 125: 'gone',\n",
              " 126: 'run',\n",
              " 127: 'mine',\n",
              " 128: 'wrong',\n",
              " 129: 'baby',\n",
              " 130: 'leave',\n",
              " 131: 'side',\n",
              " 132: 'nobody',\n",
              " 133: 'beautiful',\n",
              " 134: 'stop',\n",
              " 135: 'wanted',\n",
              " 136: 'start',\n",
              " 137: 'place',\n",
              " 138: 'olé',\n",
              " 139: 'lights',\n",
              " 140: 'line',\n",
              " 141: 'break',\n",
              " 142: 'open',\n",
              " 143: 'drunk',\n",
              " 144: 'sea',\n",
              " 145: 'pre',\n",
              " 146: 'dark',\n",
              " 147: 'everyone',\n",
              " 148: 'little',\n",
              " 149: 'put',\n",
              " 150: 'saw',\n",
              " 151: 'water',\n",
              " 152: 'stay',\n",
              " 153: 'found',\n",
              " 154: 'doodoodoo',\n",
              " 155: \"i'd\",\n",
              " 156: 'low',\n",
              " 157: 'tear',\n",
              " 158: \"she'd\",\n",
              " 159: 'future',\n",
              " 160: 'rush',\n",
              " 161: 'face',\n",
              " 162: 'hurt',\n",
              " 163: 'cold',\n",
              " 164: 'friends',\n",
              " 165: \"'til\",\n",
              " 166: 'hold',\n",
              " 167: 'dream',\n",
              " 168: 'alive',\n",
              " 169: 'ka',\n",
              " 170: 'god',\n",
              " 171: 'alright',\n",
              " 172: 'christmas',\n",
              " 173: 'believe',\n",
              " 174: 'yes',\n",
              " 175: \"what's\",\n",
              " 176: 'work',\n",
              " 177: 'lie',\n",
              " 178: 'yellow',\n",
              " 179: 'skin',\n",
              " 180: 'must',\n",
              " 181: 'dreams',\n",
              " 182: 'trying',\n",
              " 183: 'hmmhmm',\n",
              " 184: 'went',\n",
              " 185: 'two',\n",
              " 186: 'heard',\n",
              " 187: 'hope',\n",
              " 188: 'understand',\n",
              " 189: 'spies',\n",
              " 190: 'best',\n",
              " 191: 'took',\n",
              " 192: 'river',\n",
              " 193: 'blood',\n",
              " 194: 'dont',\n",
              " 195: 'show',\n",
              " 196: 'whisper',\n",
              " 197: 'bones',\n",
              " 198: 'tried',\n",
              " 199: 'car',\n",
              " 200: 'really',\n",
              " 201: 'trust',\n",
              " 202: 'paradise',\n",
              " 203: 'ohoooh',\n",
              " 204: 'sound',\n",
              " 205: 'please',\n",
              " 206: 'write',\n",
              " 207: 'better',\n",
              " 208: 'clear',\n",
              " 209: 'anyone',\n",
              " 210: 'looking',\n",
              " 211: 'para',\n",
              " 212: 'oooooo',\n",
              " 213: 'coming',\n",
              " 214: 'morning',\n",
              " 215: 'someone',\n",
              " 216: 'goes',\n",
              " 217: 'arms',\n",
              " 218: 'soon',\n",
              " 219: 'ladder',\n",
              " 220: 'listen',\n",
              " 221: 'heaven',\n",
              " 222: 'saying',\n",
              " 223: 'meant',\n",
              " 224: 'boys',\n",
              " 225: 'even',\n",
              " 226: 'word',\n",
              " 227: 'stand',\n",
              " 228: 'tears',\n",
              " 229: 'care',\n",
              " 230: 'reach',\n",
              " 231: 'champion',\n",
              " 232: 'birds',\n",
              " 233: 'forever',\n",
              " 234: 'meet',\n",
              " 235: 'apart',\n",
              " 236: 'name',\n",
              " 237: 'moment',\n",
              " 238: 'oooh',\n",
              " 239: 'loud',\n",
              " 240: 'oohoohoohooh',\n",
              " 241: 'alone',\n",
              " 242: 'closed',\n",
              " 243: 'end',\n",
              " 244: 'magic',\n",
              " 245: \"we've\",\n",
              " 246: \"we'll\",\n",
              " 247: 'else',\n",
              " 248: 'music',\n",
              " 249: 'seen',\n",
              " 250: 'dumdumdum',\n",
              " 251: 'felt',\n",
              " 252: 'eye',\n",
              " 253: 'set',\n",
              " 254: 'hard',\n",
              " 255: 'wild',\n",
              " 256: 'might',\n",
              " 257: 'ride',\n",
              " 258: 'beating',\n",
              " 259: 'flew',\n",
              " 260: 'ohohohoh',\n",
              " 261: 'everybody',\n",
              " 262: 'road',\n",
              " 263: 'wish',\n",
              " 264: 'free',\n",
              " 265: 'hands',\n",
              " 266: 'hide',\n",
              " 267: 'wedding',\n",
              " 268: 'careful',\n",
              " 269: 'easy',\n",
              " 270: 'may',\n",
              " 271: 'stormy',\n",
              " 272: 'underneath',\n",
              " 273: 'compares',\n",
              " 274: 'whoa',\n",
              " 275: 'dawn',\n",
              " 276: 'scared',\n",
              " 277: 'climb',\n",
              " 278: 'days',\n",
              " 279: 'darkness',\n",
              " 280: 'somebody',\n",
              " 281: 'comes',\n",
              " 282: 'living',\n",
              " 283: 'hardest',\n",
              " 284: 'ask',\n",
              " 285: 'used',\n",
              " 286: 'drink',\n",
              " 287: 'snow',\n",
              " 288: 'buba',\n",
              " 289: 'far',\n",
              " 290: 'chance',\n",
              " 291: 'ground',\n",
              " 292: 'control',\n",
              " 293: 'corner',\n",
              " 294: 'dead',\n",
              " 295: 'walls',\n",
              " 296: 'along',\n",
              " 297: 'trouble',\n",
              " 298: 'brother',\n",
              " 299: 'mind',\n",
              " 300: 'touch',\n",
              " 301: 'picture',\n",
              " 302: 'ring',\n",
              " 303: 'lalalala',\n",
              " 304: 'old',\n",
              " 305: 'next',\n",
              " 306: 'symphony',\n",
              " 307: 'die',\n",
              " 308: 'told',\n",
              " 309: 'drive',\n",
              " 310: 'inside',\n",
              " 311: 'glowing',\n",
              " 312: 'gotta',\n",
              " 313: 'bigger',\n",
              " 314: 'man',\n",
              " 315: 'lives',\n",
              " 316: 'windows',\n",
              " 317: 'lose',\n",
              " 318: 'chris',\n",
              " 319: 'though',\n",
              " 320: 'girl',\n",
              " 321: 'hurts',\n",
              " 322: 'storm',\n",
              " 323: 'web',\n",
              " 324: 'wonder',\n",
              " 325: 'poor',\n",
              " 326: 'shiver',\n",
              " 327: 'without',\n",
              " 328: 'made',\n",
              " 329: 'another',\n",
              " 330: 'red',\n",
              " 331: 'knows',\n",
              " 332: 'worry',\n",
              " 333: 'strong',\n",
              " 334: 'rise',\n",
              " 335: 'bells',\n",
              " 336: 'breakdown',\n",
              " 337: 'fix',\n",
              " 338: 'bleed',\n",
              " 339: 'miles',\n",
              " 340: 'beyoncé',\n",
              " 341: 'oohooh',\n",
              " 342: 'cut',\n",
              " 343: 'first',\n",
              " 344: 'wake',\n",
              " 345: 'moving',\n",
              " 346: 'space',\n",
              " 347: 'kind',\n",
              " 348: 'answer',\n",
              " 349: 'todo',\n",
              " 350: 'idiot',\n",
              " 351: 'king',\n",
              " 352: 'field',\n",
              " 353: 'explain',\n",
              " 354: 'angel',\n",
              " 355: 'flow',\n",
              " 356: 'pain',\n",
              " 357: 'earth',\n",
              " 358: 'pay',\n",
              " 359: 'talking',\n",
              " 360: 'last',\n",
              " 361: 'bad',\n",
              " 362: 'says',\n",
              " 363: 'wears',\n",
              " 364: 'tonight',\n",
              " 365: 'dreaming',\n",
              " 366: \"everything's\",\n",
              " 367: 'help',\n",
              " 368: 'oooooh',\n",
              " 369: 'mirror',\n",
              " 370: 'sword',\n",
              " 371: 'lonely',\n",
              " 372: 'worse',\n",
              " 373: 'heavy',\n",
              " 374: 'ran',\n",
              " 375: 'falling',\n",
              " 376: 'left',\n",
              " 377: 'broken',\n",
              " 378: 'white',\n",
              " 379: 'watching',\n",
              " 380: 'bring',\n",
              " 381: 'fun',\n",
              " 382: 'turning',\n",
              " 383: 'missing',\n",
              " 384: 'gold',\n",
              " 385: 'el',\n",
              " 386: 'boy',\n",
              " 387: 'sugar',\n",
              " 388: 'johnny',\n",
              " 389: 'streets',\n",
              " 390: 'roman',\n",
              " 391: 'shield',\n",
              " 392: 'reason',\n",
              " 393: 'ruled',\n",
              " 394: 'tired',\n",
              " 395: 'stream',\n",
              " 396: 'cannot',\n",
              " 397: 'dry',\n",
              " 398: 'miss',\n",
              " 399: 'wherever',\n",
              " 400: 'knees',\n",
              " 401: 'fight',\n",
              " 402: 'thought',\n",
              " 403: \"she'll\",\n",
              " 404: 'remember',\n",
              " 405: 'feet',\n",
              " 406: 'peace',\n",
              " 407: '4',\n",
              " 408: 'standing',\n",
              " 409: 'state',\n",
              " 410: 'soul',\n",
              " 411: \"another's\",\n",
              " 412: 'many',\n",
              " 413: 'son',\n",
              " 414: 'wonderful',\n",
              " 415: 'más',\n",
              " 416: 'hopeless',\n",
              " 417: 'computer',\n",
              " 418: 'jerusalem',\n",
              " 419: 'cavalry',\n",
              " 420: 'choirs',\n",
              " 421: 'missionaries',\n",
              " 422: 'foreign',\n",
              " 423: 'honest',\n",
              " 424: 'silver',\n",
              " 425: 'guide',\n",
              " 426: 'sent',\n",
              " 427: 'gets',\n",
              " 428: 'view',\n",
              " 429: 'feels',\n",
              " 430: 'taking',\n",
              " 431: 'woowoo',\n",
              " 432: 'honey',\n",
              " 433: 'guess',\n",
              " 434: 'expected',\n",
              " 435: 'turned',\n",
              " 436: 'lo',\n",
              " 437: 'sit',\n",
              " 438: 'speed',\n",
              " 439: 'sung',\n",
              " 440: 'lord',\n",
              " 441: 'round',\n",
              " 442: 'sure',\n",
              " 443: 'por',\n",
              " 444: 'sweet',\n",
              " 445: 'amor',\n",
              " 446: 'gracias',\n",
              " 447: 'murder',\n",
              " 448: 'nada',\n",
              " 449: 'ohohohohohohohoh',\n",
              " 450: 'burns',\n",
              " 451: 'running',\n",
              " 452: 'fear',\n",
              " 453: 'drew',\n",
              " 454: 'ohi',\n",
              " 455: 'brothers',\n",
              " 456: 'sisters',\n",
              " 457: 'refrain',\n",
              " 458: 'moon',\n",
              " 459: 'trees',\n",
              " 460: 'anybody',\n",
              " 461: 'swim',\n",
              " 462: 'fell',\n",
              " 463: 'walking',\n",
              " 464: 'blue',\n",
              " 465: 'crumble',\n",
              " 466: 'star',\n",
              " 467: 'crawl',\n",
              " 468: 'bit',\n",
              " 469: 'belong',\n",
              " 470: 'power',\n",
              " 471: 'coldplay',\n",
              " 472: 'faster',\n",
              " 473: 'whoo',\n",
              " 474: 'raspberry',\n",
              " 475: 'gave',\n",
              " 476: 'minute',\n",
              " 477: 'become',\n",
              " 478: 'post',\n",
              " 479: 'choir',\n",
              " 480: 'whole',\n",
              " 481: 'flower',\n",
              " 482: 'fucking',\n",
              " 483: 'permanent',\n",
              " 484: 'pray',\n",
              " 485: 'lines',\n",
              " 486: 'begin',\n",
              " 487: 'forget',\n",
              " 488: 'mouth',\n",
              " 489: 'x',\n",
              " 490: 'gun',\n",
              " 491: 'war',\n",
              " 492: \"here's\",\n",
              " 493: 'ive',\n",
              " 494: 'door',\n",
              " 495: 'big',\n",
              " 496: \"who'll\",\n",
              " 497: 'making',\n",
              " 498: 'grace',\n",
              " 499: 'settle',\n",
              " 500: 'nowhere',\n",
              " 501: 'spread',\n",
              " 502: 'mundo',\n",
              " 503: 'past',\n",
              " 504: 'breaking',\n",
              " 505: 'mess',\n",
              " 506: 'closer',\n",
              " 507: 'asleep',\n",
              " 508: 'flames',\n",
              " 509: 'ticking',\n",
              " 510: 'less',\n",
              " 511: 'sorry',\n",
              " 512: 'roll',\n",
              " 513: 'stuck',\n",
              " 514: 'ignite',\n",
              " 515: 'called',\n",
              " 516: 'flood',\n",
              " 517: 'everglow',\n",
              " 518: 'diamonds',\n",
              " 519: 'woohoo',\n",
              " 520: 'catch',\n",
              " 521: 'lying',\n",
              " 522: 'okay',\n",
              " 523: 'interlude',\n",
              " 524: 'caught',\n",
              " 525: 'flock',\n",
              " 526: 'hovering',\n",
              " 527: 'till',\n",
              " 528: 'keeping',\n",
              " 529: 'swirling',\n",
              " 530: 'rolling',\n",
              " 531: 'kids',\n",
              " 532: 'crazy',\n",
              " 533: 'amazing',\n",
              " 534: 'spoken',\n",
              " 535: 'alien',\n",
              " 536: 'kiss',\n",
              " 537: 'friend',\n",
              " 538: 'floating',\n",
              " 539: 'ready',\n",
              " 540: 'house',\n",
              " 541: 'race',\n",
              " 542: 'band',\n",
              " 543: 'anywhere',\n",
              " 544: 'matter',\n",
              " 545: 'fool',\n",
              " 546: 'bom',\n",
              " 547: 'iwan',\n",
              " 548: 'billie',\n",
              " 549: 'jean',\n",
              " 550: 'aringing',\n",
              " 551: 'beret',\n",
              " 552: 'nearer',\n",
              " 553: 'speak',\n",
              " 554: 'held',\n",
              " 555: 'key',\n",
              " 556: 'saint',\n",
              " 557: 'peter',\n",
              " 558: 'learn',\n",
              " 559: 'perfect',\n",
              " 560: 'slow',\n",
              " 561: 'youre',\n",
              " 562: 'adventure',\n",
              " 563: 'today',\n",
              " 564: 'grow',\n",
              " 565: 'dreamed',\n",
              " 566: 'disappear',\n",
              " 567: 'hoping',\n",
              " 568: 'somehow',\n",
              " 569: 'middle',\n",
              " 570: 'spun',\n",
              " 571: 'float',\n",
              " 572: 'outside',\n",
              " 573: 'flying',\n",
              " 574: 'air',\n",
              " 575: 'wave',\n",
              " 576: 'ya',\n",
              " 577: 'body',\n",
              " 578: 'blind',\n",
              " 579: 'black',\n",
              " 580: 'swear',\n",
              " 581: 'teardrop',\n",
              " 582: 'girls',\n",
              " 583: 'proof',\n",
              " 584: 'hand',\n",
              " 585: 'loved',\n",
              " 586: 'reign',\n",
              " 587: 'confidence',\n",
              " 588: 'wont',\n",
              " 589: 'carry',\n",
              " 590: 'ghost',\n",
              " 591: 'hes',\n",
              " 592: 'slowly',\n",
              " 593: 'narrator',\n",
              " 594: 'rheon',\n",
              " 595: \"he's\",\n",
              " 596: 'uno',\n",
              " 597: 'dos',\n",
              " 598: 'lover',\n",
              " 599: 'seas',\n",
              " 600: 'pillars',\n",
              " 601: 'ohohwoah',\n",
              " 602: 'mmm',\n",
              " 603: 'waste',\n",
              " 604: 'wrote',\n",
              " 605: 'lift',\n",
              " 606: 'drug',\n",
              " 607: 'wings',\n",
              " 608: 'kah',\n",
              " 609: 'saved',\n",
              " 610: \"singin'\",\n",
              " 611: 'sitting',\n",
              " 612: 'ocean',\n",
              " 613: 'risk',\n",
              " 614: 'weapon',\n",
              " 615: 'new',\n",
              " 616: \"ain't\",\n",
              " 617: 'lethal',\n",
              " 618: \"they'll\",\n",
              " 619: 'piano',\n",
              " 620: 'direction',\n",
              " 621: 'attention',\n",
              " 622: \"'round\",\n",
              " 623: 'street',\n",
              " 624: 'men',\n",
              " 625: 'second',\n",
              " 626: 'places',\n",
              " 627: 'bright',\n",
              " 628: 'rose',\n",
              " 629: 'room',\n",
              " 630: 'decide',\n",
              " 631: 'noise',\n",
              " 632: 'seems',\n",
              " 633: 'piece',\n",
              " 634: 'ignored',\n",
              " 635: 'sense',\n",
              " 636: 'army',\n",
              " 637: 'draw',\n",
              " 638: 'late',\n",
              " 639: 'pull',\n",
              " 640: 'voice',\n",
              " 641: 'snapping',\n",
              " 642: 'heels',\n",
              " 643: 'satisfied',\n",
              " 644: 'alfie',\n",
              " 645: 'ole',\n",
              " 646: 'houston',\n",
              " 647: 'science',\n",
              " 648: 'shame',\n",
              " 649: 'sand',\n",
              " 650: 'wind',\n",
              " 651: 'jonny',\n",
              " 652: \"love's\",\n",
              " 653: 'cant',\n",
              " 654: 'half',\n",
              " 655: 'share',\n",
              " 656: 'young',\n",
              " 657: 'teeth',\n",
              " 658: 'clocks',\n",
              " 659: 'missed',\n",
              " 660: 'daddy',\n",
              " 661: 'takes',\n",
              " 662: 'empty',\n",
              " 663: 'heal',\n",
              " 664: 'spider',\n",
              " 665: 'harm',\n",
              " 666: 'thinking',\n",
              " 667: 'arrive',\n",
              " 668: 'smoke',\n",
              " 669: 'sign',\n",
              " 670: 'riding',\n",
              " 671: 'cross',\n",
              " 672: 'sinking',\n",
              " 673: 'sleeping',\n",
              " 674: 'swimming',\n",
              " 675: 'jikelele',\n",
              " 676: 'buy',\n",
              " 677: 'watch',\n",
              " 678: 'beside',\n",
              " 679: 'green',\n",
              " 680: 'rebel',\n",
              " 681: 'raise',\n",
              " 682: 'downtown',\n",
              " 683: 'waves',\n",
              " 684: 'landed',\n",
              " 685: 'somewhere',\n",
              " 686: 'smile',\n",
              " 687: 'send',\n",
              " 688: 'sunset',\n",
              " 689: 'human',\n",
              " 690: 'awake',\n",
              " 691: 'tree',\n",
              " 692: 'letting',\n",
              " 693: 'taste',\n",
              " 694: 'roses',\n",
              " 695: 'vest',\n",
              " 696: 'telescope',\n",
              " 697: 'lens',\n",
              " 698: 'fast',\n",
              " 699: 'listening',\n",
              " 700: 'wildling',\n",
              " 701: 'allen',\n",
              " 702: 'en',\n",
              " 703: 'money',\n",
              " 704: 'mold',\n",
              " 705: 'kylie',\n",
              " 706: 'eeeeyes',\n",
              " 707: 'awaaaay',\n",
              " 708: 'oooon',\n",
              " 709: 'sayohohoh',\n",
              " 710: 'queda',\n",
              " 711: 'doodoo',\n",
              " 712: 'hills',\n",
              " 713: 'lets',\n",
              " 714: 'lips',\n",
              " 715: 'salt',\n",
              " 716: 'drums',\n",
              " 717: 'replace',\n",
              " 718: 'worth',\n",
              " 719: 'enough',\n",
              " 720: 'theres',\n",
              " 721: \"want's\",\n",
              " 722: 'legends',\n",
              " 723: 'bullets',\n",
              " 724: 'breaks',\n",
              " 725: 'sparks',\n",
              " 726: 'aiming',\n",
              " 727: 'bubble',\n",
              " 728: 'final',\n",
              " 729: 'getting',\n",
              " 730: 'millions',\n",
              " 731: 'beat',\n",
              " 732: 'someday',\n",
              " 733: 'since',\n",
              " 734: 'records',\n",
              " 735: 'soar',\n",
              " 736: 'spark',\n",
              " 737: \"nothing's\",\n",
              " 738: 'knew',\n",
              " 739: 'miracles',\n",
              " 740: 'words',\n",
              " 741: 'started',\n",
              " 742: 'waited',\n",
              " 743: 'screaming',\n",
              " 744: 'radio',\n",
              " 745: 'target',\n",
              " 746: 'style',\n",
              " 747: 'outer',\n",
              " 748: 'real',\n",
              " 749: 'step',\n",
              " 750: 'plan',\n",
              " 751: 'hmmoh',\n",
              " 752: 'queen',\n",
              " 753: 'mark',\n",
              " 754: 'hey',\n",
              " 755: 'spell',\n",
              " 756: 'treasure',\n",
              " 757: 'bittersweet',\n",
              " 758: 'clouds',\n",
              " 759: 'demons',\n",
              " 760: 'que',\n",
              " 761: 'glass',\n",
              " 762: 'lay',\n",
              " 763: 'walder',\n",
              " 764: 'frey',\n",
              " 765: 'heroes',\n",
              " 766: 'thank',\n",
              " 767: 'kit',\n",
              " 768: 'ahh',\n",
              " 769: 'times',\n",
              " 770: 'mr',\n",
              " 771: 'stronger',\n",
              " 772: 'unite',\n",
              " 773: 'animal',\n",
              " 774: 'ahhhh',\n",
              " 775: 'del',\n",
              " 776: \"we'd\",\n",
              " 777: 'tres',\n",
              " 778: 'kid',\n",
              " 779: 'gifts',\n",
              " 780: 'kisses',\n",
              " 781: 'bullet',\n",
              " 782: 'father',\n",
              " 783: 'chant',\n",
              " 784: 'whoaohoh',\n",
              " 785: 'secrets',\n",
              " 786: 'swam',\n",
              " 787: 'jumped',\n",
              " 788: 'poured',\n",
              " 789: 'weight',\n",
              " 790: 'martin',\n",
              " 791: 'bloom',\n",
              " 792: 'wheel',\n",
              " 793: 'butterfly',\n",
              " 794: 'skies',\n",
              " 795: 'ohohohohoh',\n",
              " 796: 'beg',\n",
              " 797: 'confusion',\n",
              " 798: 'play',\n",
              " 799: 'hearts',\n",
              " 800: 'stupid',\n",
              " 801: 'caused',\n",
              " 802: 'three',\n",
              " 803: 'fish',\n",
              " 804: 'walk',\n",
              " 805: 'rocket',\n",
              " 806: 'ship',\n",
              " 807: 'thunder',\n",
              " 808: 'system',\n",
              " 809: 'blame',\n",
              " 810: 'stones',\n",
              " 811: 'fought',\n",
              " 812: 'dance',\n",
              " 813: 'matters',\n",
              " 814: 'rivers',\n",
              " 815: 'stopped',\n",
              " 816: 'troubles',\n",
              " 817: 'losing',\n",
              " 818: 'strength',\n",
              " 819: 'rising',\n",
              " 820: 'wheels',\n",
              " 821: 'kingdom',\n",
              " 822: 'game',\n",
              " 823: 'targaryen',\n",
              " 824: 'use',\n",
              " 825: 'looked',\n",
              " 826: 'superhero',\n",
              " 827: 'anything',\n",
              " 828: 'undone',\n",
              " 829: 'marching',\n",
              " 830: 'counting',\n",
              " 831: 'fade',\n",
              " 832: 'survive',\n",
              " 833: 'yet',\n",
              " 834: 'backwards',\n",
              " 835: 'smiling',\n",
              " 836: 'great',\n",
              " 837: 'breathe',\n",
              " 838: 'warm',\n",
              " 839: \"god's\",\n",
              " 840: 'cloud',\n",
              " 841: 'ahora',\n",
              " 842: 'risked',\n",
              " 843: 'fuerte',\n",
              " 844: 'twice',\n",
              " 845: 'bono',\n",
              " 846: 'da',\n",
              " 847: 'questions',\n",
              " 848: 'circles',\n",
              " 849: 'tails',\n",
              " 850: 'heads',\n",
              " 851: 'ohooh',\n",
              " 852: 'rule',\n",
              " 853: 'sweep',\n",
              " 854: 'dice',\n",
              " 855: 'crowd',\n",
              " 856: 'discovered',\n",
              " 857: 'ringing',\n",
              " 858: 'shattered',\n",
              " 859: 'string',\n",
              " 860: 'mistakes',\n",
              " 861: 'dried',\n",
              " 862: 'thirsty',\n",
              " 863: 'coursing',\n",
              " 864: 'lighter',\n",
              " 865: 'heavenly',\n",
              " 866: 'diamond',\n",
              " 867: 'waters',\n",
              " 868: 'beneath',\n",
              " 869: 'died',\n",
              " 870: 'baba',\n",
              " 871: 'flowers',\n",
              " 872: 'ends',\n",
              " 873: 'course',\n",
              " 874: 'named',\n",
              " 875: 'stops',\n",
              " 876: 'sees',\n",
              " 877: 'throw',\n",
              " 878: 'fixing',\n",
              " 879: 'searching',\n",
              " 880: 'meal',\n",
              " 881: 'rough',\n",
              " 882: 'bird',\n",
              " 883: 'poison',\n",
              " 884: 'hyp',\n",
              " 885: 'different',\n",
              " 886: 'nke',\n",
              " 887: 'clearly',\n",
              " 888: 'cathedrals',\n",
              " 889: 'ooooh',\n",
              " 890: 'يا',\n",
              " 891: 'straight',\n",
              " 892: 'fighting',\n",
              " 893: 'rest',\n",
              " 894: 'punches',\n",
              " 895: 'wear',\n",
              " 896: 'hang',\n",
              " 897: 'family',\n",
              " 898: 'sparkle',\n",
              " 899: 'burn',\n",
              " 900: 'pretty',\n",
              " 901: 'rock',\n",
              " 902: 'homes',\n",
              " 903: 'weve',\n",
              " 904: 'grown',\n",
              " 905: 'drop',\n",
              " 906: 'siren',\n",
              " 907: 'scene',\n",
              " 908: 'concrete',\n",
              " 909: 'top',\n",
              " 910: 'tove',\n",
              " 911: 'starts',\n",
              " 912: 'thanks',\n",
              " 913: 'darling',\n",
              " 914: 'truth',\n",
              " 915: 'surface',\n",
              " 916: 'jacob',\n",
              " 917: 'collier',\n",
              " 918: 'unknown',\n",
              " 919: 'ohiohiohi',\n",
              " 920: 'puzzle',\n",
              " 921: 'language',\n",
              " 922: 'reserve',\n",
              " 923: 'politik',\n",
              " 924: 'summer',\n",
              " 925: 'patient',\n",
              " 926: 'follow',\n",
              " 927: 'death',\n",
              " 928: 'drum',\n",
              " 929: 'years',\n",
              " 930: 'single',\n",
              " 931: 'rastafarian',\n",
              " 932: 'revolution',\n",
              " 933: 'ones',\n",
              " 934: 'breath',\n",
              " 935: 'jump',\n",
              " 936: 'turns',\n",
              " 937: 'doubt',\n",
              " 938: 'houses',\n",
              " 939: 'strangest',\n",
              " 940: 'lining',\n",
              " 941: 'holy',\n",
              " 942: 'neglected',\n",
              " 943: 'mast',\n",
              " 944: 'makes',\n",
              " 945: 'london',\n",
              " 946: 'also',\n",
              " 947: 'simple',\n",
              " 948: 'separate',\n",
              " 949: 'tiny',\n",
              " 950: 'theon',\n",
              " 951: 'r',\n",
              " 952: 'conquer',\n",
              " 953: 'opportunity',\n",
              " 954: 'crests',\n",
              " 955: 'bitter',\n",
              " 956: 'ahhh',\n",
              " 957: 'imagine',\n",
              " 958: 'digging',\n",
              " 959: 'merry',\n",
              " 960: 'loads',\n",
              " 961: 'vamos',\n",
              " 962: 'música',\n",
              " 963: 'ligera',\n",
              " 964: 'chicken',\n",
              " 965: 'floor',\n",
              " 966: 'mother',\n",
              " 967: 'minogue',\n",
              " 968: 'lhuna',\n",
              " 969: \"where'd\",\n",
              " 970: 'superhuman',\n",
              " 971: 'fairy',\n",
              " 972: 'tale',\n",
              " 973: 'bliss',\n",
              " 974: \"lovin'\",\n",
              " 975: 'shes',\n",
              " 976: 'travel',\n",
              " 977: 'lovely',\n",
              " 978: 'figures',\n",
              " 979: \"enemy's\",\n",
              " 980: 'castles',\n",
              " 981: 'wicked',\n",
              " 982: 'blew',\n",
              " 983: 'doors',\n",
              " 984: 'revolutionaries',\n",
              " 985: 'plate',\n",
              " 986: 'puppet',\n",
              " 987: 'succeed',\n",
              " 988: 'streaming',\n",
              " 989: 'promise',\n",
              " 990: 'special',\n",
              " 991: 'shadow',\n",
              " 992: 'short',\n",
              " 993: 'umi',\n",
              " 994: 'pressure',\n",
              " 995: 'moses',\n",
              " 996: 'golden',\n",
              " 997: 'lala',\n",
              " 998: 'tides',\n",
              " 999: 'brought',\n",
              " 1000: 'closing',\n",
              " ...}"
            ]
          },
          "metadata": {},
          "execution_count": 25
        }
      ],
      "source": [
        "# Palabras del vocabulario\n",
        "tok.index_word"
      ]
    },
    {
      "cell_type": "code",
      "execution_count": 26,
      "metadata": {
        "colab": {
          "base_uri": "https://localhost:8080/"
        },
        "outputId": "c1d69f30-777a-4d49-9c66-f9683d16e5d8",
        "id": "dbLY0dSJooln"
      },
      "outputs": [
        {
          "output_type": "execute_result",
          "data": {
            "text/plain": [
              "3476"
            ]
          },
          "metadata": {},
          "execution_count": 26
        }
      ],
      "source": [
        "# Cantidad de palabras en el vocabulario\n",
        "vocab_size = len(tok.word_counts)\n",
        "vocab_size"
      ]
    },
    {
      "cell_type": "code",
      "execution_count": 27,
      "metadata": {
        "colab": {
          "base_uri": "https://localhost:8080/"
        },
        "outputId": "47c38e39-60dd-42c7-bd07-ca00e6ddf956",
        "id": "FO7oPztgooln"
      },
      "outputs": [
        {
          "output_type": "execute_result",
          "data": {
            "text/plain": [
              "(32432, 3476)"
            ]
          },
          "metadata": {},
          "execution_count": 27
        }
      ],
      "source": [
        "y_data_int_offset = y_data_int - 1\n",
        "y_data = to_categorical(y_data_int_offset, num_classes=vocab_size) \n",
        "y_data.shape"
      ]
    },
    {
      "cell_type": "markdown",
      "source": [],
      "metadata": {
        "id": "WCGKV9OKq978"
      }
    },
    {
      "cell_type": "markdown",
      "metadata": {
        "id": "nKaIWgQZooln"
      },
      "source": [
        "a) Entrenar el modelo"
      ]
    },
    {
      "cell_type": "code",
      "execution_count": 28,
      "metadata": {
        "colab": {
          "base_uri": "https://localhost:8080/"
        },
        "outputId": "5458fc28-85f5-4671-c870-c5d18ba78433",
        "id": "6FZ7tk11ooln"
      },
      "outputs": [
        {
          "output_type": "execute_result",
          "data": {
            "text/plain": [
              "3"
            ]
          },
          "metadata": {},
          "execution_count": 28
        }
      ],
      "source": [
        "# largo de la secuencia de entrada\n",
        "input_seq_len = x_data.shape[1] \n",
        "input_seq_len"
      ]
    },
    {
      "cell_type": "code",
      "execution_count": 29,
      "metadata": {
        "colab": {
          "base_uri": "https://localhost:8080/"
        },
        "outputId": "8e1252ea-292b-47a5-9599-38fca2edcd85",
        "id": "Kfd-A2Deooln"
      },
      "outputs": [
        {
          "output_type": "execute_result",
          "data": {
            "text/plain": [
              "3476"
            ]
          },
          "metadata": {},
          "execution_count": 29
        }
      ],
      "source": [
        "# Largo del vector de salida --> vocab_size\n",
        "output_size = vocab_size\n",
        "output_size"
      ]
    },
    {
      "cell_type": "code",
      "execution_count": 30,
      "metadata": {
        "colab": {
          "base_uri": "https://localhost:8080/"
        },
        "outputId": "ab26e187-6bbe-460a-e4b2-e8fdf9495845",
        "id": "YGq53Aalooln"
      },
      "outputs": [
        {
          "output_type": "stream",
          "name": "stdout",
          "text": [
            "Model: \"sequential\"\n",
            "_________________________________________________________________\n",
            " Layer (type)                Output Shape              Param #   \n",
            "=================================================================\n",
            " embedding (Embedding)       (None, 3, 5)              17385     \n",
            "                                                                 \n",
            " lstm (LSTM)                 (None, 3, 64)             17920     \n",
            "                                                                 \n",
            " dropout (Dropout)           (None, 3, 64)             0         \n",
            "                                                                 \n",
            " lstm_1 (LSTM)               (None, 64)                33024     \n",
            "                                                                 \n",
            " dense (Dense)               (None, 32)                2080      \n",
            "                                                                 \n",
            " dense_1 (Dense)             (None, 3476)              114708    \n",
            "                                                                 \n",
            "=================================================================\n",
            "Total params: 185,117\n",
            "Trainable params: 185,117\n",
            "Non-trainable params: 0\n",
            "_________________________________________________________________\n"
          ]
        }
      ],
      "source": [
        "model = Sequential()\n",
        "\n",
        "# Embedding:\n",
        "# input_seq_len = 3 --> ingreso 3 palabras\n",
        "# input_dim = vocab_size --> 1628 palabras distintas\n",
        "# output_dim = 5 --> crear embeddings de tamaño 3 (tamaño variable y ajustable)\n",
        "model.add(Embedding(input_dim=vocab_size+1, output_dim=5, input_length=input_seq_len))\n",
        "\n",
        "model.add(LSTM(64, return_sequences=True))\n",
        "model.add(Dropout(0.2))\n",
        "model.add(LSTM(64)) # La última capa LSTM no lleva return_sequences\n",
        "model.add(Dense(32, activation='relu'))\n",
        "\n",
        "# Predicción de clasificación con softmax\n",
        "# La salida vuelve al espacio de 1628 palabras posibles\n",
        "model.add(Dense(vocab_size, activation='softmax'))\n",
        "\n",
        "# Clasificación multiple categórica --> loss = categorical_crossentropy\n",
        "model.compile(loss='categorical_crossentropy', optimizer='adam', metrics=['accuracy'])\n",
        "\n",
        "model.summary()"
      ]
    },
    {
      "cell_type": "code",
      "execution_count": 31,
      "metadata": {
        "colab": {
          "base_uri": "https://localhost:8080/"
        },
        "outputId": "e9923c56-f4cf-4d6f-eddc-5991f351b901",
        "id": "jYJSkkimooln"
      },
      "outputs": [
        {
          "output_type": "stream",
          "name": "stdout",
          "text": [
            "Epoch 1/100\n",
            "811/811 [==============================] - 18s 17ms/step - loss: 7.1286 - accuracy: 0.0261 - val_loss: 6.8218 - val_accuracy: 0.0362\n",
            "Epoch 2/100\n",
            "811/811 [==============================] - 12s 15ms/step - loss: 6.7904 - accuracy: 0.0300 - val_loss: 6.7837 - val_accuracy: 0.0376\n",
            "Epoch 3/100\n",
            "811/811 [==============================] - 12s 15ms/step - loss: 6.6456 - accuracy: 0.0321 - val_loss: 6.7183 - val_accuracy: 0.0373\n",
            "Epoch 4/100\n",
            "811/811 [==============================] - 14s 17ms/step - loss: 6.5119 - accuracy: 0.0334 - val_loss: 6.7086 - val_accuracy: 0.0375\n",
            "Epoch 5/100\n",
            "811/811 [==============================] - 19s 23ms/step - loss: 6.4047 - accuracy: 0.0378 - val_loss: 6.6666 - val_accuracy: 0.0359\n",
            "Epoch 6/100\n",
            "811/811 [==============================] - 16s 19ms/step - loss: 6.2905 - accuracy: 0.0424 - val_loss: 6.6388 - val_accuracy: 0.0362\n",
            "Epoch 7/100\n",
            "811/811 [==============================] - 13s 16ms/step - loss: 6.1778 - accuracy: 0.0466 - val_loss: 6.5950 - val_accuracy: 0.0379\n",
            "Epoch 8/100\n",
            "811/811 [==============================] - 12s 15ms/step - loss: 6.0629 - accuracy: 0.0496 - val_loss: 6.5633 - val_accuracy: 0.0339\n",
            "Epoch 9/100\n",
            "811/811 [==============================] - 12s 15ms/step - loss: 5.9442 - accuracy: 0.0538 - val_loss: 6.5306 - val_accuracy: 0.0379\n",
            "Epoch 10/100\n",
            "811/811 [==============================] - 12s 15ms/step - loss: 5.8342 - accuracy: 0.0580 - val_loss: 6.5522 - val_accuracy: 0.0418\n",
            "Epoch 11/100\n",
            "811/811 [==============================] - 12s 15ms/step - loss: 5.7317 - accuracy: 0.0659 - val_loss: 6.5178 - val_accuracy: 0.0461\n",
            "Epoch 12/100\n",
            "811/811 [==============================] - 12s 15ms/step - loss: 5.6260 - accuracy: 0.0718 - val_loss: 6.4984 - val_accuracy: 0.0516\n",
            "Epoch 13/100\n",
            "811/811 [==============================] - 13s 16ms/step - loss: 5.5228 - accuracy: 0.0769 - val_loss: 6.4299 - val_accuracy: 0.0583\n",
            "Epoch 14/100\n",
            "811/811 [==============================] - 12s 15ms/step - loss: 5.4187 - accuracy: 0.0845 - val_loss: 6.4206 - val_accuracy: 0.0543\n",
            "Epoch 15/100\n",
            "811/811 [==============================] - 14s 17ms/step - loss: 5.3153 - accuracy: 0.0906 - val_loss: 6.4229 - val_accuracy: 0.0647\n",
            "Epoch 16/100\n",
            "811/811 [==============================] - 12s 15ms/step - loss: 5.2202 - accuracy: 0.0982 - val_loss: 6.4789 - val_accuracy: 0.0667\n",
            "Epoch 17/100\n",
            "811/811 [==============================] - 12s 15ms/step - loss: 5.1272 - accuracy: 0.1051 - val_loss: 6.5122 - val_accuracy: 0.0729\n",
            "Epoch 18/100\n",
            "811/811 [==============================] - 12s 15ms/step - loss: 5.0441 - accuracy: 0.1110 - val_loss: 6.5158 - val_accuracy: 0.0831\n",
            "Epoch 19/100\n",
            "811/811 [==============================] - 12s 15ms/step - loss: 4.9588 - accuracy: 0.1161 - val_loss: 6.6630 - val_accuracy: 0.0903\n",
            "Epoch 20/100\n",
            "811/811 [==============================] - 12s 15ms/step - loss: 4.8814 - accuracy: 0.1255 - val_loss: 6.6658 - val_accuracy: 0.0860\n",
            "Epoch 21/100\n",
            "811/811 [==============================] - 12s 15ms/step - loss: 4.8057 - accuracy: 0.1323 - val_loss: 6.7474 - val_accuracy: 0.0997\n",
            "Epoch 22/100\n",
            "811/811 [==============================] - 12s 15ms/step - loss: 4.7348 - accuracy: 0.1393 - val_loss: 6.7936 - val_accuracy: 0.1017\n",
            "Epoch 23/100\n",
            "811/811 [==============================] - 12s 15ms/step - loss: 4.6696 - accuracy: 0.1464 - val_loss: 6.8380 - val_accuracy: 0.1198\n",
            "Epoch 24/100\n",
            "811/811 [==============================] - 12s 15ms/step - loss: 4.6014 - accuracy: 0.1510 - val_loss: 6.9111 - val_accuracy: 0.1283\n",
            "Epoch 25/100\n",
            "811/811 [==============================] - 12s 15ms/step - loss: 4.5491 - accuracy: 0.1566 - val_loss: 7.0568 - val_accuracy: 0.1199\n",
            "Epoch 26/100\n",
            "811/811 [==============================] - 12s 15ms/step - loss: 4.4851 - accuracy: 0.1634 - val_loss: 7.0863 - val_accuracy: 0.1367\n",
            "Epoch 27/100\n",
            "811/811 [==============================] - 14s 17ms/step - loss: 4.4309 - accuracy: 0.1688 - val_loss: 7.1552 - val_accuracy: 0.1454\n",
            "Epoch 28/100\n",
            "811/811 [==============================] - 13s 16ms/step - loss: 4.3805 - accuracy: 0.1743 - val_loss: 7.1539 - val_accuracy: 0.1458\n",
            "Epoch 29/100\n",
            "811/811 [==============================] - 12s 15ms/step - loss: 4.3381 - accuracy: 0.1790 - val_loss: 7.3463 - val_accuracy: 0.1555\n",
            "Epoch 30/100\n",
            "811/811 [==============================] - 12s 15ms/step - loss: 4.2868 - accuracy: 0.1842 - val_loss: 7.3443 - val_accuracy: 0.1374\n",
            "Epoch 31/100\n",
            "811/811 [==============================] - 12s 15ms/step - loss: 4.2443 - accuracy: 0.1918 - val_loss: 7.5202 - val_accuracy: 0.1626\n",
            "Epoch 32/100\n",
            "811/811 [==============================] - 12s 15ms/step - loss: 4.2016 - accuracy: 0.1974 - val_loss: 7.4890 - val_accuracy: 0.1703\n",
            "Epoch 33/100\n",
            "811/811 [==============================] - 12s 15ms/step - loss: 4.1617 - accuracy: 0.2039 - val_loss: 7.6138 - val_accuracy: 0.1688\n",
            "Epoch 34/100\n",
            "811/811 [==============================] - 12s 15ms/step - loss: 4.1206 - accuracy: 0.2059 - val_loss: 7.7019 - val_accuracy: 0.1791\n",
            "Epoch 35/100\n",
            "811/811 [==============================] - 12s 15ms/step - loss: 4.0822 - accuracy: 0.2111 - val_loss: 7.7065 - val_accuracy: 0.1825\n",
            "Epoch 36/100\n",
            "811/811 [==============================] - 12s 15ms/step - loss: 4.0499 - accuracy: 0.2161 - val_loss: 7.7579 - val_accuracy: 0.1890\n",
            "Epoch 37/100\n",
            "811/811 [==============================] - 12s 15ms/step - loss: 4.0078 - accuracy: 0.2216 - val_loss: 7.7887 - val_accuracy: 0.1819\n",
            "Epoch 38/100\n",
            "811/811 [==============================] - 12s 15ms/step - loss: 3.9830 - accuracy: 0.2279 - val_loss: 7.8864 - val_accuracy: 0.1986\n",
            "Epoch 39/100\n",
            "811/811 [==============================] - 12s 15ms/step - loss: 3.9487 - accuracy: 0.2301 - val_loss: 7.8974 - val_accuracy: 0.1961\n",
            "Epoch 40/100\n",
            "811/811 [==============================] - 14s 17ms/step - loss: 3.9115 - accuracy: 0.2362 - val_loss: 8.0264 - val_accuracy: 0.1949\n",
            "Epoch 41/100\n",
            "811/811 [==============================] - 12s 15ms/step - loss: 3.8853 - accuracy: 0.2364 - val_loss: 8.0543 - val_accuracy: 0.2160\n",
            "Epoch 42/100\n",
            "811/811 [==============================] - 12s 15ms/step - loss: 3.8558 - accuracy: 0.2442 - val_loss: 8.1376 - val_accuracy: 0.2043\n",
            "Epoch 43/100\n",
            "811/811 [==============================] - 12s 15ms/step - loss: 3.8295 - accuracy: 0.2456 - val_loss: 8.2128 - val_accuracy: 0.2069\n",
            "Epoch 44/100\n",
            "811/811 [==============================] - 12s 15ms/step - loss: 3.8068 - accuracy: 0.2512 - val_loss: 8.2381 - val_accuracy: 0.2254\n",
            "Epoch 45/100\n",
            "811/811 [==============================] - 12s 15ms/step - loss: 3.7796 - accuracy: 0.2569 - val_loss: 8.2379 - val_accuracy: 0.2174\n",
            "Epoch 46/100\n",
            "811/811 [==============================] - 12s 15ms/step - loss: 3.7541 - accuracy: 0.2601 - val_loss: 8.2869 - val_accuracy: 0.2220\n",
            "Epoch 47/100\n",
            "811/811 [==============================] - 12s 15ms/step - loss: 3.7250 - accuracy: 0.2646 - val_loss: 8.3180 - val_accuracy: 0.2214\n",
            "Epoch 48/100\n",
            "811/811 [==============================] - 12s 15ms/step - loss: 3.7040 - accuracy: 0.2661 - val_loss: 8.3600 - val_accuracy: 0.2261\n",
            "Epoch 49/100\n",
            "811/811 [==============================] - 13s 16ms/step - loss: 3.6789 - accuracy: 0.2710 - val_loss: 8.4029 - val_accuracy: 0.2254\n",
            "Epoch 50/100\n",
            "811/811 [==============================] - 12s 15ms/step - loss: 3.6582 - accuracy: 0.2733 - val_loss: 8.4176 - val_accuracy: 0.2246\n",
            "Epoch 51/100\n",
            "811/811 [==============================] - 12s 15ms/step - loss: 3.6362 - accuracy: 0.2788 - val_loss: 8.5736 - val_accuracy: 0.2303\n",
            "Epoch 52/100\n",
            "811/811 [==============================] - 12s 15ms/step - loss: 3.6142 - accuracy: 0.2806 - val_loss: 8.5845 - val_accuracy: 0.2434\n",
            "Epoch 53/100\n",
            "811/811 [==============================] - 14s 17ms/step - loss: 3.5965 - accuracy: 0.2813 - val_loss: 8.5742 - val_accuracy: 0.2329\n",
            "Epoch 54/100\n",
            "811/811 [==============================] - 12s 15ms/step - loss: 3.5728 - accuracy: 0.2866 - val_loss: 8.6168 - val_accuracy: 0.2374\n",
            "Epoch 55/100\n",
            "811/811 [==============================] - 12s 15ms/step - loss: 3.5659 - accuracy: 0.2886 - val_loss: 8.6930 - val_accuracy: 0.2291\n",
            "Epoch 56/100\n",
            "811/811 [==============================] - 12s 15ms/step - loss: 3.5375 - accuracy: 0.2918 - val_loss: 8.6570 - val_accuracy: 0.2480\n",
            "Epoch 57/100\n",
            "811/811 [==============================] - 12s 15ms/step - loss: 3.5174 - accuracy: 0.2919 - val_loss: 8.7639 - val_accuracy: 0.2445\n",
            "Epoch 58/100\n",
            "811/811 [==============================] - 12s 15ms/step - loss: 3.4977 - accuracy: 0.2986 - val_loss: 8.9024 - val_accuracy: 0.2439\n",
            "Epoch 59/100\n",
            "811/811 [==============================] - 16s 20ms/step - loss: 3.4821 - accuracy: 0.3025 - val_loss: 8.8065 - val_accuracy: 0.2448\n",
            "Epoch 60/100\n",
            "811/811 [==============================] - 12s 15ms/step - loss: 3.4589 - accuracy: 0.3051 - val_loss: 8.7798 - val_accuracy: 0.2545\n",
            "Epoch 61/100\n",
            "811/811 [==============================] - 12s 15ms/step - loss: 3.4516 - accuracy: 0.3034 - val_loss: 8.8502 - val_accuracy: 0.2573\n",
            "Epoch 62/100\n",
            "811/811 [==============================] - 12s 15ms/step - loss: 3.4361 - accuracy: 0.3080 - val_loss: 8.9005 - val_accuracy: 0.2625\n",
            "Epoch 63/100\n",
            "811/811 [==============================] - 12s 15ms/step - loss: 3.4150 - accuracy: 0.3092 - val_loss: 8.9221 - val_accuracy: 0.2565\n",
            "Epoch 64/100\n",
            "811/811 [==============================] - 12s 15ms/step - loss: 3.4108 - accuracy: 0.3095 - val_loss: 9.0012 - val_accuracy: 0.2536\n",
            "Epoch 65/100\n",
            "811/811 [==============================] - 12s 15ms/step - loss: 3.3832 - accuracy: 0.3171 - val_loss: 8.8970 - val_accuracy: 0.2610\n",
            "Epoch 66/100\n",
            "811/811 [==============================] - 14s 17ms/step - loss: 3.3656 - accuracy: 0.3171 - val_loss: 9.1261 - val_accuracy: 0.2614\n",
            "Epoch 67/100\n",
            "811/811 [==============================] - 12s 15ms/step - loss: 3.3575 - accuracy: 0.3177 - val_loss: 9.0018 - val_accuracy: 0.2656\n",
            "Epoch 68/100\n",
            "811/811 [==============================] - 12s 15ms/step - loss: 3.3408 - accuracy: 0.3253 - val_loss: 9.0685 - val_accuracy: 0.2673\n",
            "Epoch 69/100\n",
            "811/811 [==============================] - 12s 15ms/step - loss: 3.3257 - accuracy: 0.3275 - val_loss: 9.0994 - val_accuracy: 0.2738\n",
            "Epoch 70/100\n",
            "811/811 [==============================] - 12s 15ms/step - loss: 3.3138 - accuracy: 0.3287 - val_loss: 9.2053 - val_accuracy: 0.2670\n",
            "Epoch 71/100\n",
            "811/811 [==============================] - 12s 15ms/step - loss: 3.3017 - accuracy: 0.3291 - val_loss: 9.0934 - val_accuracy: 0.2772\n",
            "Epoch 72/100\n",
            "811/811 [==============================] - 12s 15ms/step - loss: 3.2767 - accuracy: 0.3368 - val_loss: 9.2257 - val_accuracy: 0.2682\n",
            "Epoch 73/100\n",
            "811/811 [==============================] - 12s 15ms/step - loss: 3.2819 - accuracy: 0.3334 - val_loss: 9.3407 - val_accuracy: 0.2778\n",
            "Epoch 74/100\n",
            "811/811 [==============================] - 12s 15ms/step - loss: 3.2598 - accuracy: 0.3388 - val_loss: 9.2873 - val_accuracy: 0.2722\n",
            "Epoch 75/100\n",
            "811/811 [==============================] - 12s 15ms/step - loss: 3.2474 - accuracy: 0.3402 - val_loss: 9.2954 - val_accuracy: 0.2784\n",
            "Epoch 76/100\n",
            "811/811 [==============================] - 12s 15ms/step - loss: 3.2265 - accuracy: 0.3453 - val_loss: 9.4775 - val_accuracy: 0.2803\n",
            "Epoch 77/100\n",
            "811/811 [==============================] - 12s 15ms/step - loss: 3.2227 - accuracy: 0.3440 - val_loss: 9.4086 - val_accuracy: 0.2810\n",
            "Epoch 78/100\n",
            "811/811 [==============================] - 16s 20ms/step - loss: 3.2064 - accuracy: 0.3467 - val_loss: 9.3670 - val_accuracy: 0.2849\n",
            "Epoch 79/100\n",
            "811/811 [==============================] - 13s 15ms/step - loss: 3.1984 - accuracy: 0.3467 - val_loss: 9.3907 - val_accuracy: 0.2832\n",
            "Epoch 80/100\n",
            "811/811 [==============================] - 13s 16ms/step - loss: 3.1806 - accuracy: 0.3498 - val_loss: 9.4677 - val_accuracy: 0.2958\n",
            "Epoch 81/100\n",
            "811/811 [==============================] - 15s 18ms/step - loss: 3.1760 - accuracy: 0.3493 - val_loss: 9.4581 - val_accuracy: 0.2938\n",
            "Epoch 82/100\n",
            "811/811 [==============================] - 14s 17ms/step - loss: 3.1668 - accuracy: 0.3519 - val_loss: 9.4374 - val_accuracy: 0.3038\n",
            "Epoch 83/100\n",
            "811/811 [==============================] - 14s 17ms/step - loss: 3.1504 - accuracy: 0.3550 - val_loss: 9.3989 - val_accuracy: 0.2917\n",
            "Epoch 84/100\n",
            "811/811 [==============================] - 12s 15ms/step - loss: 3.1314 - accuracy: 0.3574 - val_loss: 9.4410 - val_accuracy: 0.2960\n",
            "Epoch 85/100\n",
            "811/811 [==============================] - 12s 15ms/step - loss: 3.1256 - accuracy: 0.3598 - val_loss: 9.4726 - val_accuracy: 0.2972\n",
            "Epoch 86/100\n",
            "811/811 [==============================] - 14s 17ms/step - loss: 3.1176 - accuracy: 0.3607 - val_loss: 9.6060 - val_accuracy: 0.2858\n",
            "Epoch 87/100\n",
            "811/811 [==============================] - 13s 16ms/step - loss: 3.1060 - accuracy: 0.3646 - val_loss: 9.5509 - val_accuracy: 0.3026\n",
            "Epoch 88/100\n",
            "811/811 [==============================] - 15s 19ms/step - loss: 3.1070 - accuracy: 0.3624 - val_loss: 9.6387 - val_accuracy: 0.2975\n",
            "Epoch 89/100\n",
            "811/811 [==============================] - 18s 22ms/step - loss: 3.0855 - accuracy: 0.3673 - val_loss: 9.7552 - val_accuracy: 0.3052\n",
            "Epoch 90/100\n",
            "811/811 [==============================] - 12s 15ms/step - loss: 3.0851 - accuracy: 0.3682 - val_loss: 9.6882 - val_accuracy: 0.2958\n",
            "Epoch 91/100\n",
            "811/811 [==============================] - 16s 19ms/step - loss: 3.0663 - accuracy: 0.3720 - val_loss: 9.7916 - val_accuracy: 0.2992\n",
            "Epoch 92/100\n",
            "811/811 [==============================] - 14s 18ms/step - loss: 3.0667 - accuracy: 0.3693 - val_loss: 9.6534 - val_accuracy: 0.3088\n",
            "Epoch 93/100\n",
            "811/811 [==============================] - 14s 18ms/step - loss: 3.0514 - accuracy: 0.3716 - val_loss: 9.8198 - val_accuracy: 0.3001\n",
            "Epoch 94/100\n",
            "811/811 [==============================] - 15s 19ms/step - loss: 3.0330 - accuracy: 0.3751 - val_loss: 9.7865 - val_accuracy: 0.3211\n",
            "Epoch 95/100\n",
            "811/811 [==============================] - 17s 20ms/step - loss: 3.0268 - accuracy: 0.3766 - val_loss: 9.8510 - val_accuracy: 0.3114\n",
            "Epoch 96/100\n",
            "811/811 [==============================] - 14s 17ms/step - loss: 3.0206 - accuracy: 0.3793 - val_loss: 9.8487 - val_accuracy: 0.3037\n",
            "Epoch 97/100\n",
            "811/811 [==============================] - 15s 18ms/step - loss: 3.0218 - accuracy: 0.3766 - val_loss: 9.7802 - val_accuracy: 0.3128\n",
            "Epoch 98/100\n",
            "811/811 [==============================] - 13s 16ms/step - loss: 3.0002 - accuracy: 0.3816 - val_loss: 9.7909 - val_accuracy: 0.3088\n",
            "Epoch 99/100\n",
            "811/811 [==============================] - 16s 20ms/step - loss: 3.0039 - accuracy: 0.3833 - val_loss: 9.8877 - val_accuracy: 0.3117\n",
            "Epoch 100/100\n",
            "811/811 [==============================] - 13s 16ms/step - loss: 2.9985 - accuracy: 0.3845 - val_loss: 9.8321 - val_accuracy: 0.3250\n"
          ]
        }
      ],
      "source": [
        "hist = model.fit(x_data, y_data, epochs=100, validation_split=0.2)"
      ]
    },
    {
      "cell_type": "code",
      "execution_count": 32,
      "metadata": {
        "colab": {
          "base_uri": "https://localhost:8080/",
          "height": 268
        },
        "outputId": "74de37bd-d4e3-4866-eb76-57a945d760df",
        "id": "AtclYGsKoolo"
      },
      "outputs": [
        {
          "output_type": "display_data",
          "data": {
            "text/plain": [
              "<Figure size 432x288 with 1 Axes>"
            ],
            "image/png": "[encoded data removed]"
          },
          "metadata": {
            "needs_background": "light"
          }
        }
      ],
      "source": [
        "import matplotlib.pyplot as plt\n",
        "import seaborn as sns\n",
        "\n",
        "# Entrenamiento\n",
        "epoch_count = range(1, len(hist.history['accuracy']) + 1)\n",
        "sns.lineplot(x=epoch_count,  y=hist.history['accuracy'], label='train')\n",
        "sns.lineplot(x=epoch_count,  y=hist.history['val_accuracy'], label='valid')\n",
        "plt.show()"
      ]
    },
    {
      "cell_type": "markdown",
      "metadata": {
        "id": "xJcqjvVNoolo"
      },
      "source": [
        "b) Predicción de próxima palabra"
      ]
    },
    {
      "cell_type": "code",
      "execution_count": 62,
      "metadata": {
        "colab": {
          "base_uri": "https://localhost:8080/",
          "height": 53
        },
        "outputId": "3af8fa40-73ee-45fa-fe48-fd8a14f6f9d0",
        "id": "UTHlyn8Doolo"
      },
      "outputs": [
        {
          "output_type": "stream",
          "name": "stdout",
          "text": [
            "1/1 [==============================] - 0s 21ms/step\n"
          ]
        },
        {
          "output_type": "execute_result",
          "data": {
            "text/plain": [
              "'nobody said oh'"
            ],
            "application/vnd.google.colaboratory.intrinsic+json": {
              "type": "string"
            }
          },
          "metadata": {},
          "execution_count": 62
        }
      ],
      "source": [
        "# Frase de la canción \"nobody said it was easy\"\n",
        "model_response('nobody said')"
      ]
    },
    {
      "cell_type": "code",
      "execution_count": 64,
      "metadata": {
        "colab": {
          "base_uri": "https://localhost:8080/",
          "height": 53
        },
        "outputId": "4611d12b-d3c8-42af-c66f-db294ceaed92",
        "id": "Xoc37mwFoolo"
      },
      "outputs": [
        {
          "output_type": "stream",
          "name": "stdout",
          "text": [
            "1/1 [==============================] - 0s 42ms/step\n"
          ]
        },
        {
          "output_type": "execute_result",
          "data": {
            "text/plain": [
              "'tell walking'"
            ],
            "application/vnd.google.colaboratory.intrinsic+json": {
              "type": "string"
            }
          },
          "metadata": {},
          "execution_count": 64
        }
      ],
      "source": [
        "# Frase original: \"tell me you love me\"\n",
        "model_response('tell')"
      ]
    },
    {
      "cell_type": "code",
      "execution_count": 60,
      "metadata": {
        "colab": {
          "base_uri": "https://localhost:8080/",
          "height": 53
        },
        "outputId": "a00485b0-e909-437c-8fe0-020731ccdc4b",
        "id": "HXLdrbX-oolo"
      },
      "outputs": [
        {
          "output_type": "stream",
          "name": "stdout",
          "text": [
            "1/1 [==============================] - 0s 20ms/step\n"
          ]
        },
        {
          "output_type": "execute_result",
          "data": {
            "text/plain": [
              "'your skin know'"
            ],
            "application/vnd.google.colaboratory.intrinsic+json": {
              "type": "string"
            }
          },
          "metadata": {},
          "execution_count": 60
        }
      ],
      "source": [
        "# Frase original: \"Your skin, oh yeah, your skin and bones\"\n",
        "model_response('your skin')"
      ]
    },
    {
      "cell_type": "code",
      "execution_count": 59,
      "metadata": {
        "colab": {
          "base_uri": "https://localhost:8080/",
          "height": 53
        },
        "outputId": "af3f2f38-a958-4831-fa03-e68d976bfc25",
        "id": "u2XH9NuZoolo"
      },
      "outputs": [
        {
          "output_type": "stream",
          "name": "stdout",
          "text": [
            "1/1 [==============================] - 0s 44ms/step\n"
          ]
        },
        {
          "output_type": "execute_result",
          "data": {
            "text/plain": [
              "'yellow read'"
            ],
            "application/vnd.google.colaboratory.intrinsic+json": {
              "type": "string"
            }
          },
          "metadata": {},
          "execution_count": 59
        }
      ],
      "source": [
        "# Frase original: \"And it was all yellow\"\n",
        "model_response('yellow')"
      ]
    },
    {
      "cell_type": "code",
      "execution_count": 54,
      "metadata": {
        "colab": {
          "base_uri": "https://localhost:8080/",
          "height": 53
        },
        "outputId": "113311e9-9350-40d2-ea2d-15d59b5aa367",
        "id": "p5QRikEfoolo"
      },
      "outputs": [
        {
          "output_type": "stream",
          "name": "stdout",
          "text": [
            "1/1 [==============================] - 0s 31ms/step\n"
          ]
        },
        {
          "output_type": "execute_result",
          "data": {
            "text/plain": [
              "'hardest things'"
            ],
            "application/vnd.google.colaboratory.intrinsic+json": {
              "type": "string"
            }
          },
          "metadata": {},
          "execution_count": 54
        }
      ],
      "source": [
        "# Frase original: \"And the hardest part was letting go, not taking part\"\n",
        "model_response('hardest')"
      ]
    },
    {
      "cell_type": "code",
      "execution_count": 75,
      "metadata": {
        "colab": {
          "base_uri": "https://localhost:8080/",
          "height": 53
        },
        "outputId": "0b1602ed-288d-47b1-d574-371b130f5f29",
        "id": "wdRpH5wooolo"
      },
      "outputs": [
        {
          "output_type": "stream",
          "name": "stdout",
          "text": [
            "1/1 [==============================] - 0s 19ms/step\n"
          ]
        },
        {
          "output_type": "execute_result",
          "data": {
            "text/plain": [
              "'you really broke my wood'"
            ],
            "application/vnd.google.colaboratory.intrinsic+json": {
              "type": "string"
            }
          },
          "metadata": {},
          "execution_count": 75
        }
      ],
      "source": [
        "# Frase original: \"You really broke my heart, oh\"\n",
        "model_response('you really broke my')"
      ]
    },
    {
      "cell_type": "code",
      "source": [
        "# Frase original: \"When I'm rolling with the punches and hope is gone\"\n",
        "model_response('rolling')"
      ],
      "metadata": {
        "colab": {
          "base_uri": "https://localhost:8080/",
          "height": 53
        },
        "id": "7OS0D1WwzSo5",
        "outputId": "cb957fca-8727-464f-9ddf-6ff682051952"
      },
      "execution_count": 71,
      "outputs": [
        {
          "output_type": "stream",
          "name": "stdout",
          "text": [
            "1/1 [==============================] - 0s 20ms/step\n"
          ]
        },
        {
          "output_type": "execute_result",
          "data": {
            "text/plain": [
              "'rolling backwards'"
            ],
            "application/vnd.google.colaboratory.intrinsic+json": {
              "type": "string"
            }
          },
          "metadata": {},
          "execution_count": 71
        }
      ]
    },
    {
      "cell_type": "markdown",
      "metadata": {
        "id": "OHQnBBIeoolo"
      },
      "source": [
        "c) Generación de secuencias nuevas"
      ]
    },
    {
      "cell_type": "code",
      "execution_count": 41,
      "metadata": {
        "id": "yqf4Adneoolo"
      },
      "outputs": [],
      "source": [
        "def generate_seq(model, tokenizer, seed_text, max_length, n_words):\n",
        "    \"\"\"\n",
        "        Exec model sequence prediction\n",
        "\n",
        "        Args:\n",
        "            model (keras): modelo entrenado\n",
        "            tokenizer (keras tokenizer): tonenizer utilizado en el preprocesamiento\n",
        "            seed_text (string): texto de entrada (input_seq)\n",
        "            max_length (int): máxima longitud de la sequencia de entrada\n",
        "            n_words (int): números de palabras a agregar a la sequencia de entrada\n",
        "        returns:\n",
        "            output_text (string): sentencia con las \"n_words\" agregadas\n",
        "    \"\"\"\n",
        "    output_text = seed_text\n",
        "\t# generate a fixed number of words\n",
        "    for _ in range(n_words):\n",
        "\t\t# Encodeamos\n",
        "        encoded = tokenizer.texts_to_sequences([output_text])[0]\n",
        "\t\t# Si tienen distinto largo\n",
        "        encoded = pad_sequences([encoded], maxlen=max_length, padding='pre')\n",
        "\t\t\n",
        "\t\t# Predicción softmax\n",
        "        y_hat = model.predict(encoded).argmax(axis=-1)\n",
        "\t\t# Vamos concatenando las predicciones\n",
        "        out_word = ''\n",
        "\n",
        "        # Debemos buscar en el vocabulario la palabra\n",
        "        # que corresopnde al indice (y_hat) predicho por le modelo\n",
        "        for word, index in tokenizer.word_index.items():\n",
        "            if index == y_hat:\n",
        "                out_word = word\n",
        "                break\n",
        "\n",
        "\t\t# Agrego las palabras a la frase predicha\n",
        "        output_text += ' ' + out_word\n",
        "    return output_text"
      ]
    },
    {
      "cell_type": "code",
      "execution_count": 52,
      "metadata": {
        "colab": {
          "base_uri": "https://localhost:8080/",
          "height": 71
        },
        "outputId": "7530d509-e5a4-4fbc-a438-9d0815542d5b",
        "id": "HXLfY096oolp"
      },
      "outputs": [
        {
          "output_type": "stream",
          "name": "stdout",
          "text": [
            "1/1 [==============================] - 0s 51ms/step\n",
            "1/1 [==============================] - 0s 80ms/step\n"
          ]
        },
        {
          "output_type": "execute_result",
          "data": {
            "text/plain": [
              "'paradise soaks see'"
            ],
            "application/vnd.google.colaboratory.intrinsic+json": {
              "type": "string"
            }
          },
          "metadata": {},
          "execution_count": 52
        }
      ],
      "source": [
        "input_text='paradise'\n",
        "\n",
        "generate_seq(model, tok, input_text, max_length=3, n_words=2)"
      ]
    },
    {
      "cell_type": "markdown",
      "source": [
        "### PRUEBA 5 - Modelo con redes bidireccionales"
      ],
      "metadata": {
        "id": "HUCv6-KQWN6C"
      }
    },
    {
      "cell_type": "code",
      "execution_count": 131,
      "metadata": {
        "colab": {
          "base_uri": "https://localhost:8080/"
        },
        "outputId": "3005b517-b44c-492d-9ada-8c28e803024b",
        "id": "Mvi4596aWo3L"
      },
      "outputs": [
        {
          "output_type": "execute_result",
          "data": {
            "text/plain": [
              "3"
            ]
          },
          "metadata": {},
          "execution_count": 131
        }
      ],
      "source": [
        "# largo de la secuencia de entrada\n",
        "input_seq_len = x_data.shape[1] \n",
        "input_seq_len"
      ]
    },
    {
      "cell_type": "code",
      "execution_count": 132,
      "metadata": {
        "colab": {
          "base_uri": "https://localhost:8080/"
        },
        "outputId": "99aba8ff-5a96-48e0-a7b0-004489a7eb30",
        "id": "DLPXZJYUWo3M"
      },
      "outputs": [
        {
          "output_type": "execute_result",
          "data": {
            "text/plain": [
              "3616"
            ]
          },
          "metadata": {},
          "execution_count": 132
        }
      ],
      "source": [
        "# Largo del vector de salida --> vocab_size\n",
        "output_size = vocab_size\n",
        "output_size"
      ]
    },
    {
      "cell_type": "code",
      "source": [
        "from keras.layers import Bidirectional\n",
        "model = Sequential()\n",
        "\n",
        "# Embedding:\n",
        "# input_seq_len = 3 --> ingreso 3 palabras\n",
        "# input_dim = vocab_size --> 1628 palabras distintas\n",
        "# output_dim = 5 --> crear embeddings de tamaño 3 (tamaño variable y ajustable)\n",
        "\n",
        "model.add(Embedding(input_dim=vocab_size+1, output_dim=3, input_length=input_seq_len))\n",
        "\n",
        "model.add(Bidirectional(LSTM(64, return_sequences=True, dropout=0.3)))\n",
        "model.add(Bidirectional(LSTM(64, activation='relu')))\n",
        "\n",
        "# Predicción de clasificación con softmax\n",
        "model.add(Dense(vocab_size, activation='softmax'))\n",
        "\n",
        "# Clasificación multiple categórica --> loss = categorical_crossentropy\n",
        "model.compile(loss='categorical_crossentropy', optimizer='adam', metrics=['accuracy'])\n",
        "\n",
        "model.summary()"
      ],
      "metadata": {
        "colab": {
          "base_uri": "https://localhost:8080/"
        },
        "id": "hnpXIc41WYI1",
        "outputId": "b4029295-a3c1-4c4f-efc1-d3a5ec238eee"
      },
      "execution_count": 133,
      "outputs": [
        {
          "output_type": "stream",
          "name": "stdout",
          "text": [
            "Model: \"sequential_3\"\n",
            "_________________________________________________________________\n",
            " Layer (type)                Output Shape              Param #   \n",
            "=================================================================\n",
            " embedding_3 (Embedding)     (None, 3, 3)              10851     \n",
            "                                                                 \n",
            " bidirectional (Bidirectiona  (None, 3, 128)           34816     \n",
            " l)                                                              \n",
            "                                                                 \n",
            " bidirectional_1 (Bidirectio  (None, 128)              98816     \n",
            " nal)                                                            \n",
            "                                                                 \n",
            " dense_6 (Dense)             (None, 3616)              466464    \n",
            "                                                                 \n",
            "=================================================================\n",
            "Total params: 610,947\n",
            "Trainable params: 610,947\n",
            "Non-trainable params: 0\n",
            "_________________________________________________________________\n"
          ]
        }
      ]
    },
    {
      "cell_type": "code",
      "execution_count": 134,
      "metadata": {
        "colab": {
          "base_uri": "https://localhost:8080/"
        },
        "outputId": "4e924d20-5ee8-49ca-da22-dac811601ae5",
        "id": "iMR7MdY0cciX"
      },
      "outputs": [
        {
          "output_type": "stream",
          "name": "stdout",
          "text": [
            "Epoch 1/100\n",
            "1558/1558 [==============================] - 46s 25ms/step - loss: 6.3062 - accuracy: 0.0362 - val_loss: 5.8584 - val_accuracy: 0.0388\n",
            "Epoch 2/100\n",
            "1558/1558 [==============================] - 36s 23ms/step - loss: 5.9569 - accuracy: 0.0422 - val_loss: 5.6754 - val_accuracy: 0.0462\n",
            "Epoch 3/100\n",
            "1558/1558 [==============================] - 36s 23ms/step - loss: 5.7155 - accuracy: 0.0524 - val_loss: 5.5281 - val_accuracy: 0.0622\n",
            "Epoch 4/100\n",
            "1558/1558 [==============================] - 36s 23ms/step - loss: 5.5421 - accuracy: 0.0612 - val_loss: 5.4264 - val_accuracy: 0.0661\n",
            "Epoch 5/100\n",
            "1558/1558 [==============================] - 38s 24ms/step - loss: 5.4102 - accuracy: 0.0720 - val_loss: 5.3348 - val_accuracy: 0.0820\n",
            "Epoch 6/100\n",
            "1558/1558 [==============================] - 36s 23ms/step - loss: 5.2917 - accuracy: 0.0821 - val_loss: 5.2531 - val_accuracy: 0.0915\n",
            "Epoch 7/100\n",
            "1558/1558 [==============================] - 35s 23ms/step - loss: 5.1815 - accuracy: 0.0912 - val_loss: 5.1857 - val_accuracy: 0.0960\n",
            "Epoch 8/100\n",
            "1558/1558 [==============================] - 37s 24ms/step - loss: 5.0691 - accuracy: 0.0980 - val_loss: 5.1131 - val_accuracy: 0.1025\n",
            "Epoch 9/100\n",
            "1558/1558 [==============================] - 35s 23ms/step - loss: 4.9607 - accuracy: 0.1062 - val_loss: 5.0464 - val_accuracy: 0.1091\n",
            "Epoch 10/100\n",
            "1558/1558 [==============================] - 35s 23ms/step - loss: 4.8547 - accuracy: 0.1145 - val_loss: 4.9705 - val_accuracy: 0.1197\n",
            "Epoch 11/100\n",
            "1558/1558 [==============================] - 35s 23ms/step - loss: 4.7420 - accuracy: 0.1210 - val_loss: 4.8895 - val_accuracy: 0.1306\n",
            "Epoch 12/100\n",
            "1558/1558 [==============================] - 37s 24ms/step - loss: 4.6401 - accuracy: 0.1301 - val_loss: 4.8287 - val_accuracy: 0.1424\n",
            "Epoch 13/100\n",
            "1558/1558 [==============================] - 35s 22ms/step - loss: 4.5384 - accuracy: 0.1387 - val_loss: 4.7688 - val_accuracy: 0.1467\n",
            "Epoch 14/100\n",
            "1558/1558 [==============================] - 38s 24ms/step - loss: 4.4510 - accuracy: 0.1455 - val_loss: 4.7700 - val_accuracy: 0.1567\n",
            "Epoch 15/100\n",
            "1558/1558 [==============================] - 37s 24ms/step - loss: 4.3591 - accuracy: 0.1504 - val_loss: 4.7788 - val_accuracy: 0.1623\n",
            "Epoch 16/100\n",
            "1558/1558 [==============================] - 36s 23ms/step - loss: 4.2723 - accuracy: 0.1586 - val_loss: 4.7141 - val_accuracy: 0.1751\n",
            "Epoch 17/100\n",
            "1558/1558 [==============================] - 35s 23ms/step - loss: 4.2045 - accuracy: 0.1650 - val_loss: 4.6536 - val_accuracy: 0.1758\n",
            "Epoch 18/100\n",
            "1558/1558 [==============================] - 35s 23ms/step - loss: 4.1277 - accuracy: 0.1740 - val_loss: 4.7327 - val_accuracy: 0.1693\n",
            "Epoch 19/100\n",
            "1558/1558 [==============================] - 38s 24ms/step - loss: 4.0615 - accuracy: 0.1796 - val_loss: 4.8043 - val_accuracy: 0.1609\n",
            "Epoch 20/100\n",
            "1558/1558 [==============================] - 35s 23ms/step - loss: 4.0059 - accuracy: 0.1845 - val_loss: 4.7735 - val_accuracy: 0.1750\n",
            "Epoch 21/100\n",
            "1558/1558 [==============================] - 35s 23ms/step - loss: 3.9424 - accuracy: 0.1918 - val_loss: 4.7078 - val_accuracy: 0.1796\n",
            "Epoch 22/100\n",
            "1558/1558 [==============================] - 37s 24ms/step - loss: 3.8826 - accuracy: 0.1972 - val_loss: 4.8575 - val_accuracy: 0.1622\n",
            "Epoch 23/100\n",
            "1558/1558 [==============================] - 35s 23ms/step - loss: 3.8445 - accuracy: 0.2016 - val_loss: 4.6843 - val_accuracy: 0.1826\n",
            "Epoch 24/100\n",
            "1558/1558 [==============================] - 35s 22ms/step - loss: 3.7960 - accuracy: 0.2079 - val_loss: 4.8347 - val_accuracy: 0.1793\n",
            "Epoch 25/100\n",
            "1558/1558 [==============================] - 35s 22ms/step - loss: 3.7460 - accuracy: 0.2122 - val_loss: 4.8195 - val_accuracy: 0.1732\n",
            "Epoch 26/100\n",
            "1558/1558 [==============================] - 37s 24ms/step - loss: 3.7007 - accuracy: 0.2184 - val_loss: 4.7615 - val_accuracy: 0.1791\n",
            "Epoch 27/100\n",
            "1558/1558 [==============================] - 35s 22ms/step - loss: 3.6711 - accuracy: 0.2220 - val_loss: 4.9800 - val_accuracy: 0.1680\n",
            "Epoch 28/100\n",
            "1558/1558 [==============================] - 35s 23ms/step - loss: 3.6296 - accuracy: 0.2259 - val_loss: 4.8967 - val_accuracy: 0.1851\n",
            "Epoch 29/100\n",
            "1558/1558 [==============================] - 37s 24ms/step - loss: 3.5910 - accuracy: 0.2324 - val_loss: 4.8213 - val_accuracy: 0.1861\n",
            "Epoch 30/100\n",
            "1558/1558 [==============================] - 35s 23ms/step - loss: 3.5660 - accuracy: 0.2365 - val_loss: 4.8779 - val_accuracy: 0.1776\n",
            "Epoch 31/100\n",
            "1558/1558 [==============================] - 35s 23ms/step - loss: 3.5322 - accuracy: 0.2399 - val_loss: 4.8911 - val_accuracy: 0.1849\n",
            "Epoch 32/100\n",
            "1558/1558 [==============================] - 36s 23ms/step - loss: 3.5027 - accuracy: 0.2436 - val_loss: 4.9766 - val_accuracy: 0.1757\n",
            "Epoch 33/100\n",
            "1558/1558 [==============================] - 38s 24ms/step - loss: 3.4703 - accuracy: 0.2488 - val_loss: 4.9445 - val_accuracy: 0.1840\n",
            "Epoch 34/100\n",
            "1558/1558 [==============================] - 36s 23ms/step - loss: 3.4458 - accuracy: 0.2510 - val_loss: 5.0128 - val_accuracy: 0.1747\n",
            "Epoch 35/100\n",
            "1558/1558 [==============================] - 35s 23ms/step - loss: 3.4232 - accuracy: 0.2567 - val_loss: 5.0751 - val_accuracy: 0.1672\n",
            "Epoch 36/100\n",
            "1558/1558 [==============================] - 37s 23ms/step - loss: 3.4005 - accuracy: 0.2581 - val_loss: 5.1521 - val_accuracy: 0.1720\n",
            "Epoch 37/100\n",
            "1558/1558 [==============================] - 35s 22ms/step - loss: 3.3796 - accuracy: 0.2644 - val_loss: 4.9944 - val_accuracy: 0.1838\n",
            "Epoch 38/100\n",
            "1558/1558 [==============================] - 35s 22ms/step - loss: 3.3491 - accuracy: 0.2665 - val_loss: 5.1449 - val_accuracy: 0.1666\n",
            "Epoch 39/100\n",
            "1558/1558 [==============================] - 35s 22ms/step - loss: 3.3348 - accuracy: 0.2682 - val_loss: 5.0452 - val_accuracy: 0.1828\n",
            "Epoch 40/100\n",
            "1558/1558 [==============================] - 37s 24ms/step - loss: 3.3037 - accuracy: 0.2737 - val_loss: 5.2448 - val_accuracy: 0.1659\n",
            "Epoch 41/100\n",
            "1558/1558 [==============================] - 35s 22ms/step - loss: 3.2789 - accuracy: 0.2759 - val_loss: 5.2732 - val_accuracy: 0.1733\n",
            "Epoch 42/100\n",
            "1558/1558 [==============================] - 35s 22ms/step - loss: 3.2603 - accuracy: 0.2779 - val_loss: 5.1397 - val_accuracy: 0.1822\n",
            "Epoch 43/100\n",
            "1558/1558 [==============================] - 35s 22ms/step - loss: 3.2464 - accuracy: 0.2824 - val_loss: 5.2474 - val_accuracy: 0.1652\n",
            "Epoch 44/100\n",
            "1558/1558 [==============================] - 37s 24ms/step - loss: 3.2308 - accuracy: 0.2855 - val_loss: 5.3314 - val_accuracy: 0.1755\n",
            "Epoch 45/100\n",
            "1558/1558 [==============================] - 35s 22ms/step - loss: 3.2141 - accuracy: 0.2869 - val_loss: 5.2775 - val_accuracy: 0.1781\n",
            "Epoch 46/100\n",
            "1558/1558 [==============================] - 35s 22ms/step - loss: 3.1922 - accuracy: 0.2916 - val_loss: 5.2333 - val_accuracy: 0.1859\n",
            "Epoch 47/100\n",
            "1558/1558 [==============================] - 37s 24ms/step - loss: 3.1726 - accuracy: 0.2956 - val_loss: 5.4208 - val_accuracy: 0.1621\n",
            "Epoch 48/100\n",
            "1558/1558 [==============================] - 35s 22ms/step - loss: 3.1483 - accuracy: 0.2966 - val_loss: 5.4011 - val_accuracy: 0.1718\n",
            "Epoch 49/100\n",
            "1558/1558 [==============================] - 35s 22ms/step - loss: 3.1514 - accuracy: 0.2970 - val_loss: 5.4055 - val_accuracy: 0.1660\n",
            "Epoch 50/100\n",
            "1558/1558 [==============================] - 35s 23ms/step - loss: 3.1260 - accuracy: 0.2994 - val_loss: 5.3317 - val_accuracy: 0.1742\n",
            "Epoch 51/100\n",
            "1558/1558 [==============================] - 37s 24ms/step - loss: 3.1145 - accuracy: 0.3044 - val_loss: 5.2481 - val_accuracy: 0.1821\n",
            "Epoch 52/100\n",
            "1558/1558 [==============================] - 35s 23ms/step - loss: 3.1034 - accuracy: 0.3031 - val_loss: 5.4776 - val_accuracy: 0.1742\n",
            "Epoch 53/100\n",
            "1558/1558 [==============================] - 35s 22ms/step - loss: 3.0825 - accuracy: 0.3078 - val_loss: 5.3032 - val_accuracy: 0.1862\n",
            "Epoch 54/100\n",
            "1558/1558 [==============================] - 37s 24ms/step - loss: 3.0714 - accuracy: 0.3100 - val_loss: 5.6703 - val_accuracy: 0.1665\n",
            "Epoch 55/100\n",
            "1558/1558 [==============================] - 35s 22ms/step - loss: 3.0498 - accuracy: 0.3130 - val_loss: 5.6637 - val_accuracy: 0.1746\n",
            "Epoch 56/100\n",
            "1558/1558 [==============================] - 35s 23ms/step - loss: 3.0472 - accuracy: 0.3133 - val_loss: 5.5221 - val_accuracy: 0.1666\n",
            "Epoch 57/100\n",
            "1558/1558 [==============================] - 36s 23ms/step - loss: 3.0355 - accuracy: 0.3166 - val_loss: 5.6378 - val_accuracy: 0.1698\n",
            "Epoch 58/100\n",
            "1558/1558 [==============================] - 37s 24ms/step - loss: 3.0196 - accuracy: 0.3215 - val_loss: 5.6197 - val_accuracy: 0.1590\n",
            "Epoch 59/100\n",
            "1558/1558 [==============================] - 37s 23ms/step - loss: 3.0074 - accuracy: 0.3206 - val_loss: 5.4522 - val_accuracy: 0.1743\n",
            "Epoch 60/100\n",
            "1558/1558 [==============================] - 36s 23ms/step - loss: 2.9822 - accuracy: 0.3236 - val_loss: 5.5984 - val_accuracy: 0.1578\n",
            "Epoch 61/100\n",
            "1558/1558 [==============================] - 38s 24ms/step - loss: 2.9700 - accuracy: 0.3263 - val_loss: 5.7510 - val_accuracy: 0.1634\n",
            "Epoch 62/100\n",
            "1558/1558 [==============================] - 35s 23ms/step - loss: 2.9721 - accuracy: 0.3293 - val_loss: 5.5297 - val_accuracy: 0.1688\n",
            "Epoch 63/100\n",
            "1558/1558 [==============================] - 35s 23ms/step - loss: 2.9557 - accuracy: 0.3303 - val_loss: 5.7360 - val_accuracy: 0.1636\n",
            "Epoch 64/100\n",
            "1558/1558 [==============================] - 35s 22ms/step - loss: 2.9505 - accuracy: 0.3310 - val_loss: 5.7687 - val_accuracy: 0.1496\n",
            "Epoch 65/100\n",
            "1558/1558 [==============================] - 37s 24ms/step - loss: 2.9428 - accuracy: 0.3332 - val_loss: 5.8463 - val_accuracy: 0.1569\n",
            "Epoch 66/100\n",
            "1558/1558 [==============================] - 35s 23ms/step - loss: 2.9324 - accuracy: 0.3342 - val_loss: 5.7284 - val_accuracy: 0.1580\n",
            "Epoch 67/100\n",
            "1558/1558 [==============================] - 35s 23ms/step - loss: 2.9254 - accuracy: 0.3355 - val_loss: 5.7251 - val_accuracy: 0.1715\n",
            "Epoch 68/100\n",
            "1558/1558 [==============================] - 37s 24ms/step - loss: 2.9051 - accuracy: 0.3368 - val_loss: 5.7194 - val_accuracy: 0.1600\n",
            "Epoch 69/100\n",
            "1558/1558 [==============================] - 35s 22ms/step - loss: 2.8759 - accuracy: 0.3454 - val_loss: 5.7689 - val_accuracy: 0.1539\n",
            "Epoch 70/100\n",
            "1558/1558 [==============================] - 35s 23ms/step - loss: 2.8872 - accuracy: 0.3425 - val_loss: 5.9714 - val_accuracy: 0.1522\n",
            "Epoch 71/100\n",
            "1558/1558 [==============================] - 37s 24ms/step - loss: 2.8733 - accuracy: 0.3477 - val_loss: 5.9168 - val_accuracy: 0.1556\n",
            "Epoch 72/100\n",
            "1558/1558 [==============================] - 38s 24ms/step - loss: 2.8565 - accuracy: 0.3476 - val_loss: 6.0304 - val_accuracy: 0.1524\n",
            "Epoch 73/100\n",
            "1558/1558 [==============================] - 35s 23ms/step - loss: 2.8568 - accuracy: 0.3498 - val_loss: 5.8438 - val_accuracy: 0.1562\n",
            "Epoch 74/100\n",
            "1558/1558 [==============================] - 36s 23ms/step - loss: 2.8558 - accuracy: 0.3494 - val_loss: 5.9985 - val_accuracy: 0.1505\n",
            "Epoch 75/100\n",
            "1558/1558 [==============================] - 38s 24ms/step - loss: 2.8335 - accuracy: 0.3514 - val_loss: 5.9717 - val_accuracy: 0.1538\n",
            "Epoch 76/100\n",
            "1558/1558 [==============================] - 35s 23ms/step - loss: 2.8228 - accuracy: 0.3532 - val_loss: 5.9798 - val_accuracy: 0.1528\n",
            "Epoch 77/100\n",
            "1558/1558 [==============================] - 36s 23ms/step - loss: 2.8249 - accuracy: 0.3565 - val_loss: 6.2371 - val_accuracy: 0.1434\n",
            "Epoch 78/100\n",
            "1558/1558 [==============================] - 35s 23ms/step - loss: 2.8127 - accuracy: 0.3556 - val_loss: 5.9858 - val_accuracy: 0.1556\n",
            "Epoch 79/100\n",
            "1558/1558 [==============================] - 37s 24ms/step - loss: 2.7959 - accuracy: 0.3572 - val_loss: 5.8814 - val_accuracy: 0.1560\n",
            "Epoch 80/100\n",
            "1558/1558 [==============================] - 35s 23ms/step - loss: 2.7838 - accuracy: 0.3631 - val_loss: 5.9830 - val_accuracy: 0.1574\n",
            "Epoch 81/100\n",
            "1558/1558 [==============================] - 35s 23ms/step - loss: 2.7979 - accuracy: 0.3577 - val_loss: 6.0678 - val_accuracy: 0.1569\n",
            "Epoch 82/100\n",
            "1558/1558 [==============================] - 37s 24ms/step - loss: 2.7735 - accuracy: 0.3632 - val_loss: 6.0400 - val_accuracy: 0.1574\n",
            "Epoch 83/100\n",
            "1558/1558 [==============================] - 35s 23ms/step - loss: 2.7710 - accuracy: 0.3599 - val_loss: 6.0252 - val_accuracy: 0.1501\n",
            "Epoch 84/100\n",
            "1558/1558 [==============================] - 35s 23ms/step - loss: 2.7589 - accuracy: 0.3657 - val_loss: 5.9270 - val_accuracy: 0.1567\n",
            "Epoch 85/100\n",
            "1558/1558 [==============================] - 35s 23ms/step - loss: 2.7599 - accuracy: 0.3644 - val_loss: 6.2156 - val_accuracy: 0.1458\n",
            "Epoch 86/100\n",
            "1558/1558 [==============================] - 38s 24ms/step - loss: 2.7519 - accuracy: 0.3656 - val_loss: 6.2797 - val_accuracy: 0.1414\n",
            "Epoch 87/100\n",
            "1558/1558 [==============================] - 38s 25ms/step - loss: 2.7445 - accuracy: 0.3678 - val_loss: 6.1439 - val_accuracy: 0.1511\n",
            "Epoch 88/100\n",
            "1558/1558 [==============================] - 41s 26ms/step - loss: 2.7278 - accuracy: 0.3709 - val_loss: 6.0972 - val_accuracy: 0.1517\n",
            "Epoch 89/100\n",
            "1558/1558 [==============================] - 38s 24ms/step - loss: 2.7141 - accuracy: 0.3732 - val_loss: 6.2119 - val_accuracy: 0.1447\n",
            "Epoch 90/100\n",
            "1558/1558 [==============================] - 35s 23ms/step - loss: 2.7153 - accuracy: 0.3758 - val_loss: 6.1377 - val_accuracy: 0.1397\n",
            "Epoch 91/100\n",
            "1558/1558 [==============================] - 36s 23ms/step - loss: 2.7010 - accuracy: 0.3754 - val_loss: 6.3137 - val_accuracy: 0.1455\n",
            "Epoch 92/100\n",
            "1558/1558 [==============================] - 36s 23ms/step - loss: 2.6916 - accuracy: 0.3800 - val_loss: 6.3936 - val_accuracy: 0.1377\n",
            "Epoch 93/100\n",
            "1558/1558 [==============================] - 38s 24ms/step - loss: 2.6943 - accuracy: 0.3741 - val_loss: 6.1752 - val_accuracy: 0.1443\n",
            "Epoch 94/100\n",
            "1558/1558 [==============================] - 40s 26ms/step - loss: 2.7039 - accuracy: 0.3752 - val_loss: 6.3096 - val_accuracy: 0.1345\n",
            "Epoch 95/100\n",
            "1558/1558 [==============================] - 36s 23ms/step - loss: 2.6810 - accuracy: 0.3796 - val_loss: 6.2218 - val_accuracy: 0.1384\n",
            "Epoch 96/100\n",
            "1558/1558 [==============================] - 38s 24ms/step - loss: 2.6828 - accuracy: 0.3778 - val_loss: 6.3555 - val_accuracy: 0.1371\n",
            "Epoch 97/100\n",
            "1558/1558 [==============================] - 36s 23ms/step - loss: 2.6688 - accuracy: 0.3828 - val_loss: 6.2804 - val_accuracy: 0.1480\n",
            "Epoch 98/100\n",
            "1558/1558 [==============================] - 36s 23ms/step - loss: 2.6633 - accuracy: 0.3823 - val_loss: 6.4892 - val_accuracy: 0.1394\n",
            "Epoch 99/100\n",
            "1558/1558 [==============================] - 36s 23ms/step - loss: 2.6441 - accuracy: 0.3856 - val_loss: 6.3720 - val_accuracy: 0.1504\n",
            "Epoch 100/100\n",
            "1558/1558 [==============================] - 38s 24ms/step - loss: 2.6516 - accuracy: 0.3857 - val_loss: 6.2638 - val_accuracy: 0.1373\n"
          ]
        }
      ],
      "source": [
        "hist = model.fit(x_data, y_data, epochs=100, validation_split=0.2)"
      ]
    },
    {
      "cell_type": "code",
      "execution_count": 135,
      "metadata": {
        "colab": {
          "base_uri": "https://localhost:8080/",
          "height": 268
        },
        "outputId": "5160ccb0-614b-429b-d66d-cb3c3ce996be",
        "id": "JDOcG20kcciY"
      },
      "outputs": [
        {
          "output_type": "display_data",
          "data": {
            "text/plain": [
              "<Figure size 432x288 with 1 Axes>"
            ],
            "image/png": "[encoded data removed]"
          },
          "metadata": {
            "needs_background": "light"
          }
        }
      ],
      "source": [
        "import matplotlib.pyplot as plt\n",
        "import seaborn as sns\n",
        "\n",
        "# Entrenamiento\n",
        "epoch_count = range(1, len(hist.history['accuracy']) + 1)\n",
        "sns.lineplot(x=epoch_count,  y=hist.history['accuracy'], label='train')\n",
        "sns.lineplot(x=epoch_count,  y=hist.history['val_accuracy'], label='valid')\n",
        "plt.show()"
      ]
    },
    {
      "cell_type": "markdown",
      "metadata": {
        "id": "aeir8qLFcciY"
      },
      "source": [
        "b) Predicción de próxima palabra"
      ]
    },
    {
      "cell_type": "code",
      "execution_count": 136,
      "metadata": {
        "colab": {
          "base_uri": "https://localhost:8080/",
          "height": 53
        },
        "outputId": "4f8f622d-9a44-4e96-a63e-8fdf8625ad13",
        "id": "6XgjsNRLcciY"
      },
      "outputs": [
        {
          "output_type": "stream",
          "name": "stdout",
          "text": [
            "1/1 [==============================] - 1s 1s/step\n"
          ]
        },
        {
          "output_type": "execute_result",
          "data": {
            "text/plain": [
              "'nobody said the'"
            ],
            "application/vnd.google.colaboratory.intrinsic+json": {
              "type": "string"
            }
          },
          "metadata": {},
          "execution_count": 136
        }
      ],
      "source": [
        "# Frase de la canción \"nobody said it was easy\"\n",
        "model_response('nobody said')"
      ]
    },
    {
      "cell_type": "code",
      "execution_count": 137,
      "metadata": {
        "colab": {
          "base_uri": "https://localhost:8080/",
          "height": 53
        },
        "outputId": "80130903-df16-42e8-e482-bd4232be6379",
        "id": "smqxhf5pcciY"
      },
      "outputs": [
        {
          "output_type": "stream",
          "name": "stdout",
          "text": [
            "1/1 [==============================] - 0s 24ms/step\n"
          ]
        },
        {
          "output_type": "execute_result",
          "data": {
            "text/plain": [
              "'tell in'"
            ],
            "application/vnd.google.colaboratory.intrinsic+json": {
              "type": "string"
            }
          },
          "metadata": {},
          "execution_count": 137
        }
      ],
      "source": [
        "# Frase original: \"tell me you love me\"\n",
        "model_response('tell')"
      ]
    },
    {
      "cell_type": "code",
      "execution_count": 138,
      "metadata": {
        "colab": {
          "base_uri": "https://localhost:8080/",
          "height": 53
        },
        "outputId": "1053047f-dc94-4204-e686-67ec57747047",
        "id": "CnkXuZf0cciZ"
      },
      "outputs": [
        {
          "output_type": "stream",
          "name": "stdout",
          "text": [
            "1/1 [==============================] - 0s 22ms/step\n"
          ]
        },
        {
          "output_type": "execute_result",
          "data": {
            "text/plain": [
              "'your skin to'"
            ],
            "application/vnd.google.colaboratory.intrinsic+json": {
              "type": "string"
            }
          },
          "metadata": {},
          "execution_count": 138
        }
      ],
      "source": [
        "# Frase original: \"Your skin, oh yeah, your skin and bones\"\n",
        "model_response('your skin')"
      ]
    },
    {
      "cell_type": "code",
      "execution_count": 139,
      "metadata": {
        "colab": {
          "base_uri": "https://localhost:8080/",
          "height": 53
        },
        "outputId": "08a51295-6f6d-4bcb-b67e-81b321425423",
        "id": "3_PD0J4-cciZ"
      },
      "outputs": [
        {
          "output_type": "stream",
          "name": "stdout",
          "text": [
            "1/1 [==============================] - 0s 20ms/step\n"
          ]
        },
        {
          "output_type": "execute_result",
          "data": {
            "text/plain": [
              "'yellow the'"
            ],
            "application/vnd.google.colaboratory.intrinsic+json": {
              "type": "string"
            }
          },
          "metadata": {},
          "execution_count": 139
        }
      ],
      "source": [
        "# Frase original: \"And it was all yellow\"\n",
        "model_response('yellow')"
      ]
    },
    {
      "cell_type": "code",
      "execution_count": 140,
      "metadata": {
        "colab": {
          "base_uri": "https://localhost:8080/",
          "height": 53
        },
        "outputId": "6d2844c9-4843-4bea-b630-47ce35ba838d",
        "id": "fphoC3kXcciZ"
      },
      "outputs": [
        {
          "output_type": "stream",
          "name": "stdout",
          "text": [
            "1/1 [==============================] - 0s 19ms/step\n"
          ]
        },
        {
          "output_type": "execute_result",
          "data": {
            "text/plain": [
              "'hardest i'"
            ],
            "application/vnd.google.colaboratory.intrinsic+json": {
              "type": "string"
            }
          },
          "metadata": {},
          "execution_count": 140
        }
      ],
      "source": [
        "# Frase original: \"And the hardest part was letting go, not taking part\"\n",
        "model_response('hardest')"
      ]
    },
    {
      "cell_type": "code",
      "execution_count": 141,
      "metadata": {
        "colab": {
          "base_uri": "https://localhost:8080/",
          "height": 53
        },
        "outputId": "60663502-080c-4dd1-a181-a69d3fddd28c",
        "id": "_qpZsrd_cciZ"
      },
      "outputs": [
        {
          "output_type": "stream",
          "name": "stdout",
          "text": [
            "1/1 [==============================] - 0s 20ms/step\n"
          ]
        },
        {
          "output_type": "execute_result",
          "data": {
            "text/plain": [
              "\"you really broke my it's\""
            ],
            "application/vnd.google.colaboratory.intrinsic+json": {
              "type": "string"
            }
          },
          "metadata": {},
          "execution_count": 141
        }
      ],
      "source": [
        "# Frase original: \"You really broke my heart, oh\"\n",
        "model_response('you really broke my')"
      ]
    },
    {
      "cell_type": "code",
      "source": [
        "# Frase original: \"When I'm rolling with the punches and hope is gone\"\n",
        "model_response('rolling')"
      ],
      "metadata": {
        "colab": {
          "base_uri": "https://localhost:8080/",
          "height": 53
        },
        "outputId": "a218cba4-f5c3-4837-d3e2-22376f1efc22",
        "id": "7Zq2A9NQcciZ"
      },
      "execution_count": 142,
      "outputs": [
        {
          "output_type": "stream",
          "name": "stdout",
          "text": [
            "1/1 [==============================] - 0s 20ms/step\n"
          ]
        },
        {
          "output_type": "execute_result",
          "data": {
            "text/plain": [
              "'rolling song'"
            ],
            "application/vnd.google.colaboratory.intrinsic+json": {
              "type": "string"
            }
          },
          "metadata": {},
          "execution_count": 142
        }
      ]
    },
    {
      "cell_type": "markdown",
      "metadata": {
        "id": "sSFToJ-EcciZ"
      },
      "source": [
        "c) Generación de secuencias nuevas"
      ]
    },
    {
      "cell_type": "code",
      "execution_count": 143,
      "metadata": {
        "id": "DDk0S_EWcciZ"
      },
      "outputs": [],
      "source": [
        "def generate_seq(model, tokenizer, seed_text, max_length, n_words):\n",
        "    \"\"\"\n",
        "        Exec model sequence prediction\n",
        "\n",
        "        Args:\n",
        "            model (keras): modelo entrenado\n",
        "            tokenizer (keras tokenizer): tonenizer utilizado en el preprocesamiento\n",
        "            seed_text (string): texto de entrada (input_seq)\n",
        "            max_length (int): máxima longitud de la sequencia de entrada\n",
        "            n_words (int): números de palabras a agregar a la sequencia de entrada\n",
        "        returns:\n",
        "            output_text (string): sentencia con las \"n_words\" agregadas\n",
        "    \"\"\"\n",
        "    output_text = seed_text\n",
        "\t# generate a fixed number of words\n",
        "    for _ in range(n_words):\n",
        "\t\t# Encodeamos\n",
        "        encoded = tokenizer.texts_to_sequences([output_text])[0]\n",
        "\t\t# Si tienen distinto largo\n",
        "        encoded = pad_sequences([encoded], maxlen=max_length, padding='pre')\n",
        "\t\t\n",
        "\t\t# Predicción softmax\n",
        "        y_hat = model.predict(encoded).argmax(axis=-1)\n",
        "\t\t# Vamos concatenando las predicciones\n",
        "        out_word = ''\n",
        "\n",
        "        # Debemos buscar en el vocabulario la palabra\n",
        "        # que corresopnde al indice (y_hat) predicho por le modelo\n",
        "        for word, index in tokenizer.word_index.items():\n",
        "            if index == y_hat:\n",
        "                out_word = word\n",
        "                break\n",
        "\n",
        "\t\t# Agrego las palabras a la frase predicha\n",
        "        output_text += ' ' + out_word\n",
        "    return output_text"
      ]
    },
    {
      "cell_type": "code",
      "execution_count": 144,
      "metadata": {
        "colab": {
          "base_uri": "https://localhost:8080/",
          "height": 71
        },
        "outputId": "74d27e1d-36f1-4d93-c408-239ca0f8afe8",
        "id": "y7z92aL5cciZ"
      },
      "outputs": [
        {
          "output_type": "stream",
          "name": "stdout",
          "text": [
            "1/1 [==============================] - 0s 22ms/step\n",
            "1/1 [==============================] - 0s 24ms/step\n"
          ]
        },
        {
          "output_type": "execute_result",
          "data": {
            "text/plain": [
              "'paradise i he'"
            ],
            "application/vnd.google.colaboratory.intrinsic+json": {
              "type": "string"
            }
          },
          "metadata": {},
          "execution_count": 144
        }
      ],
      "source": [
        "input_text='paradise'\n",
        "\n",
        "generate_seq(model, tok, input_text, max_length=3, n_words=2)"
      ]
    },
    {
      "cell_type": "markdown",
      "source": [
        "### Conclusiones:\n",
        "\n",
        "Detalle de pruebas realizadas:\n",
        "\n",
        "1. Red vista en clase. 2 x LSTM + 2 capas densas + dropout c/prob 0.2 y 50 epochs\n",
        "2. Misma red pero aumento las epochs a 100.\n",
        "3. Misma red, 100 epochs y aumento p de dropout a 0.3 (para atacar el problema de overfitting)\n",
        "4. En este caso removí las stop-words con NLTK, y usé el mismo modelo que en las pruebas anteriores con 100 epochs.\n",
        "5. Pruebo con LSTM bidireccional.\n",
        "\n",
        "\n",
        "Los resultados de la prueba 1 mostraron un mal desempeño y overfitting. Al observar las curvas de accuracy para train y validation parecía que 50 epochs no era suficiente. Para la prueba 2, se aumentaron las epochs al doble, es decir a 100. En este caso la accuracy de train y validación mejora apenas (subió hasta aprox 0.4), pero sigue habiendo overfitting. Haciendo las pruebas se observa que algunos resultados cambian, sin embargo la performance sigue siendo pobre y los resultados no tienen sentido.\n",
        "En la prueba 3 se subió la probabilidad de dropout a 0.3 para ver si producía alguna mejora con respecto al overfitting pero no hubo un cambio significativo en los resultados.\n",
        "Al remover las stop-words (prueba 4), se obtiene una accuracy similar a la de las pruebas anteriores, pero al realizar las pruebas algunos de los resultados parecen ser mejores:\n",
        "\n",
        "*   a) Input: \"nobody said\" - Output: \"nobody said oh\"\n",
        "*   b) Input: \"hardest\" - Output: \"hardest things\"\n",
        "*   c) Input: \"rolling\" - Output: \"rolling backwards\"\n",
        "\n",
        "En este caso hice las pruebas evitando agregar stop-words como input, ya que no se tendrán en cuenta en la predicción.\n",
        "\n",
        "Por último, se probó un modelo con redes LSTM bidireccionales, 100 epochs y dropout en 0.3. Nuevamente, los resultados fueron pobres.\n",
        "\n",
        "En todos los casos, las pruebas de generación de secuencias nuevas con modelo autorregresivo arrojan malos resultados. Esto se debe a que se utilizan los modelos que no funcionan bien para ir prediciendo cada palabra de la secuencia y como resultado, se termina \"propagando\" el error.\n",
        "\n",
        "Finalmente, se concluye que ninguno de los cambios produce un impacto significativo en los resultados principlamente porque el problema de performance está dado por el tamaño del dataset que no es adecuado (demasiado pequeño) para este tipo de problemas.  \n",
        "\n"
      ],
      "metadata": {
        "id": "7Zryx1oY9RB8"
      }
    }
  ],
  "metadata": {
    "accelerator": "GPU",
    "colab": {
      "provenance": []
    },
    "gpuClass": "standard",
    "kernelspec": {
      "display_name": "Python 3",
      "name": "python3"
    },
    "language_info": {
      "name": "python"
    }
  },
  "nbformat": 4,
  "nbformat_minor": 0
}